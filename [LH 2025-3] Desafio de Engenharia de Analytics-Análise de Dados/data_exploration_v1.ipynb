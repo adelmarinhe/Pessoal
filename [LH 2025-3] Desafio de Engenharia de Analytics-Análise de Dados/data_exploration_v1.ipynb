{
 "cells": [
  {
   "cell_type": "markdown",
   "metadata": {},
   "source": [
    "Criar uma ferramenta online (protótipo) de visualização de dados\n",
    "- Quais as perguntas a serem respondidas?\n",
    "- Quais análises são necessárias?\n",
    "- Quais análises (extras) são possíveis?\n",
    "- Ferramentas a utilizar:\n",
    "    - Python (Notebook)\n",
    "    - HTML/Javascript"
   ]
  },
  {
   "cell_type": "code",
   "execution_count": 1,
   "metadata": {},
   "outputs": [],
   "source": [
    "# pip install pandas\n",
    "# pip install plotly\n",
    "# pip install os\n",
    "# pip install datetime"
   ]
  },
  {
   "cell_type": "code",
   "execution_count": 2,
   "metadata": {},
   "outputs": [],
   "source": [
    "import pandas as pd\n",
    "import numpy as np\n",
    "import plotly.express as px\n",
    "import os\n",
    "from datetime import datetime"
   ]
  },
  {
   "cell_type": "code",
   "execution_count": 3,
   "metadata": {},
   "outputs": [],
   "source": [
    "df = {}\n",
    "\n",
    "for archive in os.listdir('dados/dados_fornec'):\n",
    "    data = pd.read_csv(f'dados/dados_fornec/{archive}')\n",
    "    df[f'{archive.split(\".\")[0]}'] = pd.DataFrame(data)"
   ]
  },
  {
   "cell_type": "markdown",
   "metadata": {},
   "source": [
    "### Agências"
   ]
  },
  {
   "cell_type": "code",
   "execution_count": 4,
   "metadata": {},
   "outputs": [
    {
     "name": "stdout",
     "output_type": "stream",
     "text": [
      "<class 'pandas.core.frame.DataFrame'>\n",
      "RangeIndex: 10 entries, 0 to 9\n",
      "Data columns (total 7 columns):\n",
      " #   Column         Non-Null Count  Dtype \n",
      "---  ------         --------------  ----- \n",
      " 0   cod_agencia    10 non-null     int64 \n",
      " 1   nome           10 non-null     object\n",
      " 2   endereco       10 non-null     object\n",
      " 3   cidade         10 non-null     object\n",
      " 4   uf             10 non-null     object\n",
      " 5   data_abertura  10 non-null     object\n",
      " 6   tipo_agencia   10 non-null     object\n",
      "dtypes: int64(1), object(6)\n",
      "memory usage: 688.0+ bytes\n"
     ]
    }
   ],
   "source": [
    "df['agencias'].info()"
   ]
  },
  {
   "cell_type": "markdown",
   "metadata": {},
   "source": [
    "Perguntas:\n",
    "- Quantas agências foram abertas por ano?"
   ]
  },
  {
   "cell_type": "markdown",
   "metadata": {},
   "source": [
    "### Clientes"
   ]
  },
  {
   "cell_type": "code",
   "execution_count": 5,
   "metadata": {},
   "outputs": [
    {
     "name": "stdout",
     "output_type": "stream",
     "text": [
      "<class 'pandas.core.frame.DataFrame'>\n",
      "RangeIndex: 998 entries, 0 to 997\n",
      "Data columns (total 10 columns):\n",
      " #   Column           Non-Null Count  Dtype \n",
      "---  ------           --------------  ----- \n",
      " 0   cod_cliente      998 non-null    int64 \n",
      " 1   primeiro_nome    998 non-null    object\n",
      " 2   ultimo_nome      998 non-null    object\n",
      " 3   email            998 non-null    object\n",
      " 4   tipo_cliente     998 non-null    object\n",
      " 5   data_inclusao    998 non-null    object\n",
      " 6   cpfcnpj          998 non-null    object\n",
      " 7   data_nascimento  998 non-null    object\n",
      " 8   endereco         998 non-null    object\n",
      " 9   cep              998 non-null    object\n",
      "dtypes: int64(1), object(9)\n",
      "memory usage: 78.1+ KB\n"
     ]
    }
   ],
   "source": [
    "df['clientes'].info()"
   ]
  },
  {
   "cell_type": "markdown",
   "metadata": {},
   "source": [
    "Perguntas:\n",
    "- Qual a faixa etária dos clientes?"
   ]
  },
  {
   "cell_type": "markdown",
   "metadata": {},
   "source": [
    "### Colaborador-Agência"
   ]
  },
  {
   "cell_type": "code",
   "execution_count": 6,
   "metadata": {},
   "outputs": [
    {
     "name": "stdout",
     "output_type": "stream",
     "text": [
      "<class 'pandas.core.frame.DataFrame'>\n",
      "RangeIndex: 100 entries, 0 to 99\n",
      "Data columns (total 2 columns):\n",
      " #   Column           Non-Null Count  Dtype\n",
      "---  ------           --------------  -----\n",
      " 0   cod_colaborador  100 non-null    int64\n",
      " 1   cod_agencia      100 non-null    int64\n",
      "dtypes: int64(2)\n",
      "memory usage: 1.7 KB\n"
     ]
    }
   ],
   "source": [
    "df['colaborador_agencia'].info()"
   ]
  },
  {
   "cell_type": "markdown",
   "metadata": {},
   "source": [
    "Perguntas:\n",
    "- Quantos coleboradores trabalham em cada agência?"
   ]
  },
  {
   "cell_type": "markdown",
   "metadata": {},
   "source": [
    "### Colaboradores"
   ]
  },
  {
   "cell_type": "code",
   "execution_count": 7,
   "metadata": {},
   "outputs": [
    {
     "name": "stdout",
     "output_type": "stream",
     "text": [
      "<class 'pandas.core.frame.DataFrame'>\n",
      "RangeIndex: 100 entries, 0 to 99\n",
      "Data columns (total 8 columns):\n",
      " #   Column           Non-Null Count  Dtype \n",
      "---  ------           --------------  ----- \n",
      " 0   cod_colaborador  100 non-null    int64 \n",
      " 1   primeiro_nome    100 non-null    object\n",
      " 2   ultimo_nome      100 non-null    object\n",
      " 3   email            100 non-null    object\n",
      " 4   cpf              100 non-null    object\n",
      " 5   data_nascimento  100 non-null    object\n",
      " 6   endereco         100 non-null    object\n",
      " 7   cep              100 non-null    object\n",
      "dtypes: int64(1), object(7)\n",
      "memory usage: 6.4+ KB\n"
     ]
    }
   ],
   "source": [
    "df['colaboradores'].info()"
   ]
  },
  {
   "cell_type": "markdown",
   "metadata": {},
   "source": [
    "Perguntas:\n",
    "- Qual a faixa etária dos colaboradores?\n",
    "- Qual a distribuição dos colaboradores por gênero?"
   ]
  },
  {
   "cell_type": "markdown",
   "metadata": {},
   "source": [
    "### Contas"
   ]
  },
  {
   "cell_type": "code",
   "execution_count": 8,
   "metadata": {},
   "outputs": [
    {
     "name": "stdout",
     "output_type": "stream",
     "text": [
      "<class 'pandas.core.frame.DataFrame'>\n",
      "RangeIndex: 999 entries, 0 to 998\n",
      "Data columns (total 9 columns):\n",
      " #   Column                  Non-Null Count  Dtype  \n",
      "---  ------                  --------------  -----  \n",
      " 0   num_conta               999 non-null    int64  \n",
      " 1   cod_cliente             999 non-null    int64  \n",
      " 2   cod_agencia             999 non-null    int64  \n",
      " 3   cod_colaborador         999 non-null    int64  \n",
      " 4   tipo_conta              999 non-null    object \n",
      " 5   data_abertura           999 non-null    object \n",
      " 6   saldo_total             999 non-null    float64\n",
      " 7   saldo_disponivel        999 non-null    float64\n",
      " 8   data_ultimo_lancamento  999 non-null    object \n",
      "dtypes: float64(2), int64(4), object(3)\n",
      "memory usage: 70.4+ KB\n"
     ]
    }
   ],
   "source": [
    "df['contas'].info()"
   ]
  },
  {
   "cell_type": "markdown",
   "metadata": {},
   "source": [
    "Perguntas:\n",
    "- Quantas contas cada agência possui?\n",
    "- Quantas contas cada colaborador abriu/gerencia?\n",
    "- Quantas contas foram abertas por ano?\n",
    "- Quantas contas ainda estão ativas?\n",
    "- Qual o perfil dos clientes?\n",
    "- Quais colaboradores gerenciam mais contas?\n",
    "- Quais colaboradores gerenciam menos contas?"
   ]
  },
  {
   "cell_type": "code",
   "execution_count": 9,
   "metadata": {},
   "outputs": [],
   "source": [
    "contas_por_agencia = df['contas']['cod_agencia'].value_counts() # estudar quais agências tem maior movimentação\n",
    "contas_por_colaborador = df['contas']['cod_colaborador'].value_counts() # estudar a eficiência de cada colaborador e relacionar a sua eficiência à movimentação da agência"
   ]
  },
  {
   "cell_type": "code",
   "execution_count": 10,
   "metadata": {},
   "outputs": [
    {
     "data": {
      "application/vnd.plotly.v1+json": {
       "config": {
        "plotlyServerURL": "https://plot.ly"
       },
       "data": [
        {
         "alignmentgroup": "True",
         "boxpoints": "all",
         "hovertemplate": "variable=%{x}<br>value=%{y}<extra></extra>",
         "legendgroup": "",
         "marker": {
          "color": "#636efa"
         },
         "name": "",
         "notched": false,
         "offsetgroup": "",
         "orientation": "v",
         "showlegend": false,
         "type": "box",
         "x": [
          "cod_colaborador",
          "cod_colaborador",
          "cod_colaborador",
          "cod_colaborador",
          "cod_colaborador",
          "cod_colaborador",
          "cod_colaborador",
          "cod_colaborador",
          "cod_colaborador",
          "cod_colaborador",
          "cod_colaborador",
          "cod_colaborador",
          "cod_colaborador",
          "cod_colaborador",
          "cod_colaborador",
          "cod_colaborador",
          "cod_colaborador",
          "cod_colaborador",
          "cod_colaborador",
          "cod_colaborador",
          "cod_colaborador",
          "cod_colaborador",
          "cod_colaborador",
          "cod_colaborador",
          "cod_colaborador",
          "cod_colaborador",
          "cod_colaborador",
          "cod_colaborador",
          "cod_colaborador",
          "cod_colaborador",
          "cod_colaborador",
          "cod_colaborador",
          "cod_colaborador",
          "cod_colaborador",
          "cod_colaborador",
          "cod_colaborador",
          "cod_colaborador",
          "cod_colaborador",
          "cod_colaborador",
          "cod_colaborador",
          "cod_colaborador",
          "cod_colaborador",
          "cod_colaborador",
          "cod_colaborador",
          "cod_colaborador",
          "cod_colaborador",
          "cod_colaborador",
          "cod_colaborador",
          "cod_colaborador",
          "cod_colaborador",
          "cod_colaborador",
          "cod_colaborador",
          "cod_colaborador",
          "cod_colaborador",
          "cod_colaborador",
          "cod_colaborador",
          "cod_colaborador",
          "cod_colaborador",
          "cod_colaborador",
          "cod_colaborador",
          "cod_colaborador",
          "cod_colaborador",
          "cod_colaborador",
          "cod_colaborador",
          "cod_colaborador",
          "cod_colaborador",
          "cod_colaborador",
          "cod_colaborador",
          "cod_colaborador",
          "cod_colaborador",
          "cod_colaborador",
          "cod_colaborador",
          "cod_colaborador",
          "cod_colaborador",
          "cod_colaborador",
          "cod_colaborador",
          "cod_colaborador",
          "cod_colaborador",
          "cod_colaborador",
          "cod_colaborador",
          "cod_colaborador",
          "cod_colaborador",
          "cod_colaborador",
          "cod_colaborador",
          "cod_colaborador",
          "cod_colaborador",
          "cod_colaborador",
          "cod_colaborador",
          "cod_colaborador",
          "cod_colaborador",
          "cod_colaborador",
          "cod_colaborador",
          "cod_colaborador",
          "cod_colaborador"
         ],
         "x0": " ",
         "xaxis": "x",
         "y": [
          84,
          69,
          67,
          62,
          61,
          59,
          58,
          23,
          19,
          13,
          12,
          12,
          11,
          11,
          11,
          10,
          10,
          10,
          10,
          9,
          9,
          9,
          9,
          9,
          9,
          8,
          8,
          8,
          8,
          7,
          7,
          7,
          7,
          7,
          7,
          7,
          7,
          7,
          7,
          7,
          7,
          6,
          6,
          6,
          6,
          6,
          6,
          6,
          6,
          6,
          6,
          6,
          6,
          6,
          5,
          5,
          5,
          5,
          5,
          5,
          5,
          5,
          5,
          5,
          4,
          4,
          4,
          4,
          4,
          4,
          4,
          4,
          4,
          4,
          4,
          3,
          3,
          3,
          3,
          3,
          3,
          3,
          3,
          3,
          3,
          3,
          3,
          2,
          2,
          1,
          1,
          1,
          1,
          1
         ],
         "y0": " ",
         "yaxis": "y"
        }
       ],
       "layout": {
        "boxmode": "group",
        "legend": {
         "tracegroupgap": 0
        },
        "margin": {
         "t": 60
        },
        "template": {
         "data": {
          "bar": [
           {
            "error_x": {
             "color": "#2a3f5f"
            },
            "error_y": {
             "color": "#2a3f5f"
            },
            "marker": {
             "line": {
              "color": "#E5ECF6",
              "width": 0.5
             },
             "pattern": {
              "fillmode": "overlay",
              "size": 10,
              "solidity": 0.2
             }
            },
            "type": "bar"
           }
          ],
          "barpolar": [
           {
            "marker": {
             "line": {
              "color": "#E5ECF6",
              "width": 0.5
             },
             "pattern": {
              "fillmode": "overlay",
              "size": 10,
              "solidity": 0.2
             }
            },
            "type": "barpolar"
           }
          ],
          "carpet": [
           {
            "aaxis": {
             "endlinecolor": "#2a3f5f",
             "gridcolor": "white",
             "linecolor": "white",
             "minorgridcolor": "white",
             "startlinecolor": "#2a3f5f"
            },
            "baxis": {
             "endlinecolor": "#2a3f5f",
             "gridcolor": "white",
             "linecolor": "white",
             "minorgridcolor": "white",
             "startlinecolor": "#2a3f5f"
            },
            "type": "carpet"
           }
          ],
          "choropleth": [
           {
            "colorbar": {
             "outlinewidth": 0,
             "ticks": ""
            },
            "type": "choropleth"
           }
          ],
          "contour": [
           {
            "colorbar": {
             "outlinewidth": 0,
             "ticks": ""
            },
            "colorscale": [
             [
              0,
              "#0d0887"
             ],
             [
              0.1111111111111111,
              "#46039f"
             ],
             [
              0.2222222222222222,
              "#7201a8"
             ],
             [
              0.3333333333333333,
              "#9c179e"
             ],
             [
              0.4444444444444444,
              "#bd3786"
             ],
             [
              0.5555555555555556,
              "#d8576b"
             ],
             [
              0.6666666666666666,
              "#ed7953"
             ],
             [
              0.7777777777777778,
              "#fb9f3a"
             ],
             [
              0.8888888888888888,
              "#fdca26"
             ],
             [
              1,
              "#f0f921"
             ]
            ],
            "type": "contour"
           }
          ],
          "contourcarpet": [
           {
            "colorbar": {
             "outlinewidth": 0,
             "ticks": ""
            },
            "type": "contourcarpet"
           }
          ],
          "heatmap": [
           {
            "colorbar": {
             "outlinewidth": 0,
             "ticks": ""
            },
            "colorscale": [
             [
              0,
              "#0d0887"
             ],
             [
              0.1111111111111111,
              "#46039f"
             ],
             [
              0.2222222222222222,
              "#7201a8"
             ],
             [
              0.3333333333333333,
              "#9c179e"
             ],
             [
              0.4444444444444444,
              "#bd3786"
             ],
             [
              0.5555555555555556,
              "#d8576b"
             ],
             [
              0.6666666666666666,
              "#ed7953"
             ],
             [
              0.7777777777777778,
              "#fb9f3a"
             ],
             [
              0.8888888888888888,
              "#fdca26"
             ],
             [
              1,
              "#f0f921"
             ]
            ],
            "type": "heatmap"
           }
          ],
          "heatmapgl": [
           {
            "colorbar": {
             "outlinewidth": 0,
             "ticks": ""
            },
            "colorscale": [
             [
              0,
              "#0d0887"
             ],
             [
              0.1111111111111111,
              "#46039f"
             ],
             [
              0.2222222222222222,
              "#7201a8"
             ],
             [
              0.3333333333333333,
              "#9c179e"
             ],
             [
              0.4444444444444444,
              "#bd3786"
             ],
             [
              0.5555555555555556,
              "#d8576b"
             ],
             [
              0.6666666666666666,
              "#ed7953"
             ],
             [
              0.7777777777777778,
              "#fb9f3a"
             ],
             [
              0.8888888888888888,
              "#fdca26"
             ],
             [
              1,
              "#f0f921"
             ]
            ],
            "type": "heatmapgl"
           }
          ],
          "histogram": [
           {
            "marker": {
             "pattern": {
              "fillmode": "overlay",
              "size": 10,
              "solidity": 0.2
             }
            },
            "type": "histogram"
           }
          ],
          "histogram2d": [
           {
            "colorbar": {
             "outlinewidth": 0,
             "ticks": ""
            },
            "colorscale": [
             [
              0,
              "#0d0887"
             ],
             [
              0.1111111111111111,
              "#46039f"
             ],
             [
              0.2222222222222222,
              "#7201a8"
             ],
             [
              0.3333333333333333,
              "#9c179e"
             ],
             [
              0.4444444444444444,
              "#bd3786"
             ],
             [
              0.5555555555555556,
              "#d8576b"
             ],
             [
              0.6666666666666666,
              "#ed7953"
             ],
             [
              0.7777777777777778,
              "#fb9f3a"
             ],
             [
              0.8888888888888888,
              "#fdca26"
             ],
             [
              1,
              "#f0f921"
             ]
            ],
            "type": "histogram2d"
           }
          ],
          "histogram2dcontour": [
           {
            "colorbar": {
             "outlinewidth": 0,
             "ticks": ""
            },
            "colorscale": [
             [
              0,
              "#0d0887"
             ],
             [
              0.1111111111111111,
              "#46039f"
             ],
             [
              0.2222222222222222,
              "#7201a8"
             ],
             [
              0.3333333333333333,
              "#9c179e"
             ],
             [
              0.4444444444444444,
              "#bd3786"
             ],
             [
              0.5555555555555556,
              "#d8576b"
             ],
             [
              0.6666666666666666,
              "#ed7953"
             ],
             [
              0.7777777777777778,
              "#fb9f3a"
             ],
             [
              0.8888888888888888,
              "#fdca26"
             ],
             [
              1,
              "#f0f921"
             ]
            ],
            "type": "histogram2dcontour"
           }
          ],
          "mesh3d": [
           {
            "colorbar": {
             "outlinewidth": 0,
             "ticks": ""
            },
            "type": "mesh3d"
           }
          ],
          "parcoords": [
           {
            "line": {
             "colorbar": {
              "outlinewidth": 0,
              "ticks": ""
             }
            },
            "type": "parcoords"
           }
          ],
          "pie": [
           {
            "automargin": true,
            "type": "pie"
           }
          ],
          "scatter": [
           {
            "marker": {
             "colorbar": {
              "outlinewidth": 0,
              "ticks": ""
             }
            },
            "type": "scatter"
           }
          ],
          "scatter3d": [
           {
            "line": {
             "colorbar": {
              "outlinewidth": 0,
              "ticks": ""
             }
            },
            "marker": {
             "colorbar": {
              "outlinewidth": 0,
              "ticks": ""
             }
            },
            "type": "scatter3d"
           }
          ],
          "scattercarpet": [
           {
            "marker": {
             "colorbar": {
              "outlinewidth": 0,
              "ticks": ""
             }
            },
            "type": "scattercarpet"
           }
          ],
          "scattergeo": [
           {
            "marker": {
             "colorbar": {
              "outlinewidth": 0,
              "ticks": ""
             }
            },
            "type": "scattergeo"
           }
          ],
          "scattergl": [
           {
            "marker": {
             "colorbar": {
              "outlinewidth": 0,
              "ticks": ""
             }
            },
            "type": "scattergl"
           }
          ],
          "scattermapbox": [
           {
            "marker": {
             "colorbar": {
              "outlinewidth": 0,
              "ticks": ""
             }
            },
            "type": "scattermapbox"
           }
          ],
          "scatterpolar": [
           {
            "marker": {
             "colorbar": {
              "outlinewidth": 0,
              "ticks": ""
             }
            },
            "type": "scatterpolar"
           }
          ],
          "scatterpolargl": [
           {
            "marker": {
             "colorbar": {
              "outlinewidth": 0,
              "ticks": ""
             }
            },
            "type": "scatterpolargl"
           }
          ],
          "scatterternary": [
           {
            "marker": {
             "colorbar": {
              "outlinewidth": 0,
              "ticks": ""
             }
            },
            "type": "scatterternary"
           }
          ],
          "surface": [
           {
            "colorbar": {
             "outlinewidth": 0,
             "ticks": ""
            },
            "colorscale": [
             [
              0,
              "#0d0887"
             ],
             [
              0.1111111111111111,
              "#46039f"
             ],
             [
              0.2222222222222222,
              "#7201a8"
             ],
             [
              0.3333333333333333,
              "#9c179e"
             ],
             [
              0.4444444444444444,
              "#bd3786"
             ],
             [
              0.5555555555555556,
              "#d8576b"
             ],
             [
              0.6666666666666666,
              "#ed7953"
             ],
             [
              0.7777777777777778,
              "#fb9f3a"
             ],
             [
              0.8888888888888888,
              "#fdca26"
             ],
             [
              1,
              "#f0f921"
             ]
            ],
            "type": "surface"
           }
          ],
          "table": [
           {
            "cells": {
             "fill": {
              "color": "#EBF0F8"
             },
             "line": {
              "color": "white"
             }
            },
            "header": {
             "fill": {
              "color": "#C8D4E3"
             },
             "line": {
              "color": "white"
             }
            },
            "type": "table"
           }
          ]
         },
         "layout": {
          "annotationdefaults": {
           "arrowcolor": "#2a3f5f",
           "arrowhead": 0,
           "arrowwidth": 1
          },
          "autotypenumbers": "strict",
          "coloraxis": {
           "colorbar": {
            "outlinewidth": 0,
            "ticks": ""
           }
          },
          "colorscale": {
           "diverging": [
            [
             0,
             "#8e0152"
            ],
            [
             0.1,
             "#c51b7d"
            ],
            [
             0.2,
             "#de77ae"
            ],
            [
             0.3,
             "#f1b6da"
            ],
            [
             0.4,
             "#fde0ef"
            ],
            [
             0.5,
             "#f7f7f7"
            ],
            [
             0.6,
             "#e6f5d0"
            ],
            [
             0.7,
             "#b8e186"
            ],
            [
             0.8,
             "#7fbc41"
            ],
            [
             0.9,
             "#4d9221"
            ],
            [
             1,
             "#276419"
            ]
           ],
           "sequential": [
            [
             0,
             "#0d0887"
            ],
            [
             0.1111111111111111,
             "#46039f"
            ],
            [
             0.2222222222222222,
             "#7201a8"
            ],
            [
             0.3333333333333333,
             "#9c179e"
            ],
            [
             0.4444444444444444,
             "#bd3786"
            ],
            [
             0.5555555555555556,
             "#d8576b"
            ],
            [
             0.6666666666666666,
             "#ed7953"
            ],
            [
             0.7777777777777778,
             "#fb9f3a"
            ],
            [
             0.8888888888888888,
             "#fdca26"
            ],
            [
             1,
             "#f0f921"
            ]
           ],
           "sequentialminus": [
            [
             0,
             "#0d0887"
            ],
            [
             0.1111111111111111,
             "#46039f"
            ],
            [
             0.2222222222222222,
             "#7201a8"
            ],
            [
             0.3333333333333333,
             "#9c179e"
            ],
            [
             0.4444444444444444,
             "#bd3786"
            ],
            [
             0.5555555555555556,
             "#d8576b"
            ],
            [
             0.6666666666666666,
             "#ed7953"
            ],
            [
             0.7777777777777778,
             "#fb9f3a"
            ],
            [
             0.8888888888888888,
             "#fdca26"
            ],
            [
             1,
             "#f0f921"
            ]
           ]
          },
          "colorway": [
           "#636efa",
           "#EF553B",
           "#00cc96",
           "#ab63fa",
           "#FFA15A",
           "#19d3f3",
           "#FF6692",
           "#B6E880",
           "#FF97FF",
           "#FECB52"
          ],
          "font": {
           "color": "#2a3f5f"
          },
          "geo": {
           "bgcolor": "white",
           "lakecolor": "white",
           "landcolor": "#E5ECF6",
           "showlakes": true,
           "showland": true,
           "subunitcolor": "white"
          },
          "hoverlabel": {
           "align": "left"
          },
          "hovermode": "closest",
          "mapbox": {
           "style": "light"
          },
          "paper_bgcolor": "white",
          "plot_bgcolor": "#E5ECF6",
          "polar": {
           "angularaxis": {
            "gridcolor": "white",
            "linecolor": "white",
            "ticks": ""
           },
           "bgcolor": "#E5ECF6",
           "radialaxis": {
            "gridcolor": "white",
            "linecolor": "white",
            "ticks": ""
           }
          },
          "scene": {
           "xaxis": {
            "backgroundcolor": "#E5ECF6",
            "gridcolor": "white",
            "gridwidth": 2,
            "linecolor": "white",
            "showbackground": true,
            "ticks": "",
            "zerolinecolor": "white"
           },
           "yaxis": {
            "backgroundcolor": "#E5ECF6",
            "gridcolor": "white",
            "gridwidth": 2,
            "linecolor": "white",
            "showbackground": true,
            "ticks": "",
            "zerolinecolor": "white"
           },
           "zaxis": {
            "backgroundcolor": "#E5ECF6",
            "gridcolor": "white",
            "gridwidth": 2,
            "linecolor": "white",
            "showbackground": true,
            "ticks": "",
            "zerolinecolor": "white"
           }
          },
          "shapedefaults": {
           "line": {
            "color": "#2a3f5f"
           }
          },
          "ternary": {
           "aaxis": {
            "gridcolor": "white",
            "linecolor": "white",
            "ticks": ""
           },
           "baxis": {
            "gridcolor": "white",
            "linecolor": "white",
            "ticks": ""
           },
           "bgcolor": "#E5ECF6",
           "caxis": {
            "gridcolor": "white",
            "linecolor": "white",
            "ticks": ""
           }
          },
          "title": {
           "x": 0.05
          },
          "xaxis": {
           "automargin": true,
           "gridcolor": "white",
           "linecolor": "white",
           "ticks": "",
           "title": {
            "standoff": 15
           },
           "zerolinecolor": "white",
           "zerolinewidth": 2
          },
          "yaxis": {
           "automargin": true,
           "gridcolor": "white",
           "linecolor": "white",
           "ticks": "",
           "title": {
            "standoff": 15
           },
           "zerolinecolor": "white",
           "zerolinewidth": 2
          }
         }
        },
        "xaxis": {
         "anchor": "y",
         "domain": [
          0,
          1
         ],
         "title": {
          "text": "variable"
         }
        },
        "yaxis": {
         "anchor": "x",
         "domain": [
          0,
          1
         ],
         "title": {
          "text": "value"
         }
        }
       }
      }
     },
     "metadata": {},
     "output_type": "display_data"
    }
   ],
   "source": [
    "fig = px.box(pd.DataFrame(contas_por_colaborador), points=\"all\")\n",
    "\n",
    "fig.show()"
   ]
  },
  {
   "cell_type": "markdown",
   "metadata": {},
   "source": [
    "Intervalos:\n",
    "- Q1: 1 a 4\n",
    "- Q2: 4 a 6\n",
    "- Q3: 6 a 9\n",
    "- Q4: 9 a 13"
   ]
  },
  {
   "cell_type": "code",
   "execution_count": 11,
   "metadata": {},
   "outputs": [
    {
     "data": {
      "application/vnd.plotly.v1+json": {
       "config": {
        "plotlyServerURL": "https://plot.ly"
       },
       "data": [
        {
         "alignmentgroup": "True",
         "boxpoints": "all",
         "hovertemplate": "variable=%{x}<br>value=%{y}<extra></extra>",
         "legendgroup": "",
         "marker": {
          "color": "#636efa"
         },
         "name": "",
         "notched": false,
         "offsetgroup": "",
         "orientation": "v",
         "showlegend": false,
         "type": "box",
         "x": [
          "saldo_disponivel",
          "saldo_disponivel",
          "saldo_disponivel",
          "saldo_disponivel",
          "saldo_disponivel",
          "saldo_disponivel",
          "saldo_disponivel",
          "saldo_disponivel",
          "saldo_disponivel",
          "saldo_disponivel",
          "saldo_disponivel",
          "saldo_disponivel",
          "saldo_disponivel",
          "saldo_disponivel",
          "saldo_disponivel",
          "saldo_disponivel",
          "saldo_disponivel",
          "saldo_disponivel",
          "saldo_disponivel",
          "saldo_disponivel",
          "saldo_disponivel",
          "saldo_disponivel",
          "saldo_disponivel",
          "saldo_disponivel",
          "saldo_disponivel",
          "saldo_disponivel",
          "saldo_disponivel",
          "saldo_disponivel",
          "saldo_disponivel",
          "saldo_disponivel",
          "saldo_disponivel",
          "saldo_disponivel",
          "saldo_disponivel",
          "saldo_disponivel",
          "saldo_disponivel",
          "saldo_disponivel",
          "saldo_disponivel",
          "saldo_disponivel",
          "saldo_disponivel",
          "saldo_disponivel",
          "saldo_disponivel",
          "saldo_disponivel",
          "saldo_disponivel",
          "saldo_disponivel",
          "saldo_disponivel",
          "saldo_disponivel",
          "saldo_disponivel",
          "saldo_disponivel",
          "saldo_disponivel",
          "saldo_disponivel",
          "saldo_disponivel",
          "saldo_disponivel",
          "saldo_disponivel",
          "saldo_disponivel",
          "saldo_disponivel",
          "saldo_disponivel",
          "saldo_disponivel",
          "saldo_disponivel",
          "saldo_disponivel",
          "saldo_disponivel",
          "saldo_disponivel",
          "saldo_disponivel",
          "saldo_disponivel",
          "saldo_disponivel",
          "saldo_disponivel",
          "saldo_disponivel",
          "saldo_disponivel",
          "saldo_disponivel",
          "saldo_disponivel",
          "saldo_disponivel",
          "saldo_disponivel",
          "saldo_disponivel",
          "saldo_disponivel",
          "saldo_disponivel",
          "saldo_disponivel",
          "saldo_disponivel",
          "saldo_disponivel",
          "saldo_disponivel",
          "saldo_disponivel",
          "saldo_disponivel",
          "saldo_disponivel",
          "saldo_disponivel",
          "saldo_disponivel",
          "saldo_disponivel",
          "saldo_disponivel",
          "saldo_disponivel",
          "saldo_disponivel",
          "saldo_disponivel",
          "saldo_disponivel",
          "saldo_disponivel",
          "saldo_disponivel",
          "saldo_disponivel",
          "saldo_disponivel",
          "saldo_disponivel",
          "saldo_disponivel",
          "saldo_disponivel",
          "saldo_disponivel",
          "saldo_disponivel",
          "saldo_disponivel",
          "saldo_disponivel",
          "saldo_disponivel",
          "saldo_disponivel",
          "saldo_disponivel",
          "saldo_disponivel",
          "saldo_disponivel",
          "saldo_disponivel",
          "saldo_disponivel",
          "saldo_disponivel",
          "saldo_disponivel",
          "saldo_disponivel",
          "saldo_disponivel",
          "saldo_disponivel",
          "saldo_disponivel",
          "saldo_disponivel",
          "saldo_disponivel",
          "saldo_disponivel",
          "saldo_disponivel",
          "saldo_disponivel",
          "saldo_disponivel",
          "saldo_disponivel",
          "saldo_disponivel",
          "saldo_disponivel",
          "saldo_disponivel",
          "saldo_disponivel",
          "saldo_disponivel",
          "saldo_disponivel",
          "saldo_disponivel",
          "saldo_disponivel",
          "saldo_disponivel",
          "saldo_disponivel",
          "saldo_disponivel",
          "saldo_disponivel",
          "saldo_disponivel",
          "saldo_disponivel",
          "saldo_disponivel",
          "saldo_disponivel",
          "saldo_disponivel",
          "saldo_disponivel",
          "saldo_disponivel",
          "saldo_disponivel",
          "saldo_disponivel",
          "saldo_disponivel",
          "saldo_disponivel",
          "saldo_disponivel",
          "saldo_disponivel",
          "saldo_disponivel",
          "saldo_disponivel",
          "saldo_disponivel",
          "saldo_disponivel",
          "saldo_disponivel",
          "saldo_disponivel",
          "saldo_disponivel",
          "saldo_disponivel",
          "saldo_disponivel",
          "saldo_disponivel",
          "saldo_disponivel",
          "saldo_disponivel",
          "saldo_disponivel",
          "saldo_disponivel",
          "saldo_disponivel",
          "saldo_disponivel",
          "saldo_disponivel",
          "saldo_disponivel",
          "saldo_disponivel",
          "saldo_disponivel",
          "saldo_disponivel",
          "saldo_disponivel",
          "saldo_disponivel",
          "saldo_disponivel",
          "saldo_disponivel",
          "saldo_disponivel",
          "saldo_disponivel",
          "saldo_disponivel",
          "saldo_disponivel",
          "saldo_disponivel",
          "saldo_disponivel",
          "saldo_disponivel",
          "saldo_disponivel",
          "saldo_disponivel",
          "saldo_disponivel",
          "saldo_disponivel",
          "saldo_disponivel",
          "saldo_disponivel",
          "saldo_disponivel",
          "saldo_disponivel",
          "saldo_disponivel",
          "saldo_disponivel",
          "saldo_disponivel",
          "saldo_disponivel",
          "saldo_disponivel",
          "saldo_disponivel",
          "saldo_disponivel",
          "saldo_disponivel",
          "saldo_disponivel",
          "saldo_disponivel",
          "saldo_disponivel",
          "saldo_disponivel",
          "saldo_disponivel",
          "saldo_disponivel",
          "saldo_disponivel",
          "saldo_disponivel",
          "saldo_disponivel",
          "saldo_disponivel",
          "saldo_disponivel",
          "saldo_disponivel",
          "saldo_disponivel",
          "saldo_disponivel",
          "saldo_disponivel",
          "saldo_disponivel",
          "saldo_disponivel",
          "saldo_disponivel",
          "saldo_disponivel",
          "saldo_disponivel",
          "saldo_disponivel",
          "saldo_disponivel",
          "saldo_disponivel",
          "saldo_disponivel",
          "saldo_disponivel",
          "saldo_disponivel",
          "saldo_disponivel",
          "saldo_disponivel",
          "saldo_disponivel",
          "saldo_disponivel",
          "saldo_disponivel",
          "saldo_disponivel",
          "saldo_disponivel",
          "saldo_disponivel",
          "saldo_disponivel",
          "saldo_disponivel",
          "saldo_disponivel",
          "saldo_disponivel",
          "saldo_disponivel",
          "saldo_disponivel",
          "saldo_disponivel",
          "saldo_disponivel",
          "saldo_disponivel",
          "saldo_disponivel",
          "saldo_disponivel",
          "saldo_disponivel",
          "saldo_disponivel",
          "saldo_disponivel",
          "saldo_disponivel",
          "saldo_disponivel",
          "saldo_disponivel",
          "saldo_disponivel",
          "saldo_disponivel",
          "saldo_disponivel",
          "saldo_disponivel",
          "saldo_disponivel",
          "saldo_disponivel",
          "saldo_disponivel",
          "saldo_disponivel",
          "saldo_disponivel",
          "saldo_disponivel",
          "saldo_disponivel",
          "saldo_disponivel",
          "saldo_disponivel",
          "saldo_disponivel",
          "saldo_disponivel",
          "saldo_disponivel",
          "saldo_disponivel",
          "saldo_disponivel",
          "saldo_disponivel",
          "saldo_disponivel",
          "saldo_disponivel",
          "saldo_disponivel",
          "saldo_disponivel",
          "saldo_disponivel",
          "saldo_disponivel",
          "saldo_disponivel",
          "saldo_disponivel",
          "saldo_disponivel",
          "saldo_disponivel",
          "saldo_disponivel",
          "saldo_disponivel",
          "saldo_disponivel",
          "saldo_disponivel",
          "saldo_disponivel",
          "saldo_disponivel",
          "saldo_disponivel",
          "saldo_disponivel",
          "saldo_disponivel",
          "saldo_disponivel",
          "saldo_disponivel",
          "saldo_disponivel",
          "saldo_disponivel",
          "saldo_disponivel",
          "saldo_disponivel",
          "saldo_disponivel",
          "saldo_disponivel",
          "saldo_disponivel",
          "saldo_disponivel",
          "saldo_disponivel",
          "saldo_disponivel",
          "saldo_disponivel",
          "saldo_disponivel",
          "saldo_disponivel",
          "saldo_disponivel",
          "saldo_disponivel",
          "saldo_disponivel",
          "saldo_disponivel",
          "saldo_disponivel",
          "saldo_disponivel",
          "saldo_disponivel",
          "saldo_disponivel",
          "saldo_disponivel",
          "saldo_disponivel",
          "saldo_disponivel",
          "saldo_disponivel",
          "saldo_disponivel",
          "saldo_disponivel",
          "saldo_disponivel",
          "saldo_disponivel",
          "saldo_disponivel",
          "saldo_disponivel",
          "saldo_disponivel",
          "saldo_disponivel",
          "saldo_disponivel",
          "saldo_disponivel",
          "saldo_disponivel",
          "saldo_disponivel",
          "saldo_disponivel",
          "saldo_disponivel",
          "saldo_disponivel",
          "saldo_disponivel",
          "saldo_disponivel",
          "saldo_disponivel",
          "saldo_disponivel",
          "saldo_disponivel",
          "saldo_disponivel",
          "saldo_disponivel",
          "saldo_disponivel",
          "saldo_disponivel",
          "saldo_disponivel",
          "saldo_disponivel",
          "saldo_disponivel",
          "saldo_disponivel",
          "saldo_disponivel",
          "saldo_disponivel",
          "saldo_disponivel",
          "saldo_disponivel",
          "saldo_disponivel",
          "saldo_disponivel",
          "saldo_disponivel",
          "saldo_disponivel",
          "saldo_disponivel",
          "saldo_disponivel",
          "saldo_disponivel",
          "saldo_disponivel",
          "saldo_disponivel",
          "saldo_disponivel",
          "saldo_disponivel",
          "saldo_disponivel",
          "saldo_disponivel",
          "saldo_disponivel",
          "saldo_disponivel",
          "saldo_disponivel",
          "saldo_disponivel",
          "saldo_disponivel",
          "saldo_disponivel",
          "saldo_disponivel",
          "saldo_disponivel",
          "saldo_disponivel",
          "saldo_disponivel",
          "saldo_disponivel",
          "saldo_disponivel",
          "saldo_disponivel",
          "saldo_disponivel",
          "saldo_disponivel",
          "saldo_disponivel",
          "saldo_disponivel",
          "saldo_disponivel",
          "saldo_disponivel",
          "saldo_disponivel",
          "saldo_disponivel",
          "saldo_disponivel",
          "saldo_disponivel",
          "saldo_disponivel",
          "saldo_disponivel",
          "saldo_disponivel",
          "saldo_disponivel",
          "saldo_disponivel",
          "saldo_disponivel",
          "saldo_disponivel",
          "saldo_disponivel",
          "saldo_disponivel",
          "saldo_disponivel",
          "saldo_disponivel",
          "saldo_disponivel",
          "saldo_disponivel",
          "saldo_disponivel",
          "saldo_disponivel",
          "saldo_disponivel",
          "saldo_disponivel",
          "saldo_disponivel",
          "saldo_disponivel",
          "saldo_disponivel",
          "saldo_disponivel",
          "saldo_disponivel",
          "saldo_disponivel",
          "saldo_disponivel",
          "saldo_disponivel",
          "saldo_disponivel",
          "saldo_disponivel",
          "saldo_disponivel",
          "saldo_disponivel",
          "saldo_disponivel",
          "saldo_disponivel",
          "saldo_disponivel",
          "saldo_disponivel",
          "saldo_disponivel",
          "saldo_disponivel",
          "saldo_disponivel",
          "saldo_disponivel",
          "saldo_disponivel",
          "saldo_disponivel",
          "saldo_disponivel",
          "saldo_disponivel",
          "saldo_disponivel",
          "saldo_disponivel",
          "saldo_disponivel",
          "saldo_disponivel",
          "saldo_disponivel",
          "saldo_disponivel",
          "saldo_disponivel",
          "saldo_disponivel",
          "saldo_disponivel",
          "saldo_disponivel",
          "saldo_disponivel",
          "saldo_disponivel",
          "saldo_disponivel",
          "saldo_disponivel",
          "saldo_disponivel",
          "saldo_disponivel",
          "saldo_disponivel",
          "saldo_disponivel",
          "saldo_disponivel",
          "saldo_disponivel",
          "saldo_disponivel",
          "saldo_disponivel",
          "saldo_disponivel",
          "saldo_disponivel",
          "saldo_disponivel",
          "saldo_disponivel",
          "saldo_disponivel",
          "saldo_disponivel",
          "saldo_disponivel",
          "saldo_disponivel",
          "saldo_disponivel",
          "saldo_disponivel",
          "saldo_disponivel",
          "saldo_disponivel",
          "saldo_disponivel",
          "saldo_disponivel",
          "saldo_disponivel",
          "saldo_disponivel",
          "saldo_disponivel",
          "saldo_disponivel",
          "saldo_disponivel",
          "saldo_disponivel",
          "saldo_disponivel",
          "saldo_disponivel",
          "saldo_disponivel",
          "saldo_disponivel",
          "saldo_disponivel",
          "saldo_disponivel",
          "saldo_disponivel",
          "saldo_disponivel",
          "saldo_disponivel",
          "saldo_disponivel",
          "saldo_disponivel",
          "saldo_disponivel",
          "saldo_disponivel",
          "saldo_disponivel",
          "saldo_disponivel",
          "saldo_disponivel",
          "saldo_disponivel",
          "saldo_disponivel",
          "saldo_disponivel",
          "saldo_disponivel",
          "saldo_disponivel",
          "saldo_disponivel",
          "saldo_disponivel",
          "saldo_disponivel",
          "saldo_disponivel",
          "saldo_disponivel",
          "saldo_disponivel",
          "saldo_disponivel",
          "saldo_disponivel",
          "saldo_disponivel",
          "saldo_disponivel",
          "saldo_disponivel",
          "saldo_disponivel",
          "saldo_disponivel",
          "saldo_disponivel",
          "saldo_disponivel",
          "saldo_disponivel",
          "saldo_disponivel",
          "saldo_disponivel",
          "saldo_disponivel",
          "saldo_disponivel",
          "saldo_disponivel",
          "saldo_disponivel",
          "saldo_disponivel",
          "saldo_disponivel",
          "saldo_disponivel",
          "saldo_disponivel",
          "saldo_disponivel",
          "saldo_disponivel",
          "saldo_disponivel",
          "saldo_disponivel",
          "saldo_disponivel",
          "saldo_disponivel",
          "saldo_disponivel",
          "saldo_disponivel",
          "saldo_disponivel",
          "saldo_disponivel",
          "saldo_disponivel",
          "saldo_disponivel",
          "saldo_disponivel",
          "saldo_disponivel",
          "saldo_disponivel",
          "saldo_disponivel",
          "saldo_disponivel",
          "saldo_disponivel",
          "saldo_disponivel",
          "saldo_disponivel",
          "saldo_disponivel",
          "saldo_disponivel",
          "saldo_disponivel",
          "saldo_disponivel",
          "saldo_disponivel",
          "saldo_disponivel",
          "saldo_disponivel",
          "saldo_disponivel",
          "saldo_disponivel",
          "saldo_disponivel",
          "saldo_disponivel",
          "saldo_disponivel",
          "saldo_disponivel",
          "saldo_disponivel",
          "saldo_disponivel",
          "saldo_disponivel",
          "saldo_disponivel",
          "saldo_disponivel",
          "saldo_disponivel",
          "saldo_disponivel",
          "saldo_disponivel",
          "saldo_disponivel",
          "saldo_disponivel",
          "saldo_disponivel",
          "saldo_disponivel",
          "saldo_disponivel",
          "saldo_disponivel",
          "saldo_disponivel",
          "saldo_disponivel",
          "saldo_disponivel",
          "saldo_disponivel",
          "saldo_disponivel",
          "saldo_disponivel",
          "saldo_disponivel",
          "saldo_disponivel",
          "saldo_disponivel",
          "saldo_disponivel",
          "saldo_disponivel",
          "saldo_disponivel",
          "saldo_disponivel",
          "saldo_disponivel",
          "saldo_disponivel",
          "saldo_disponivel",
          "saldo_disponivel",
          "saldo_disponivel",
          "saldo_disponivel",
          "saldo_disponivel",
          "saldo_disponivel",
          "saldo_disponivel",
          "saldo_disponivel",
          "saldo_disponivel",
          "saldo_disponivel",
          "saldo_disponivel",
          "saldo_disponivel",
          "saldo_disponivel",
          "saldo_disponivel",
          "saldo_disponivel",
          "saldo_disponivel",
          "saldo_disponivel",
          "saldo_disponivel",
          "saldo_disponivel",
          "saldo_disponivel",
          "saldo_disponivel",
          "saldo_disponivel",
          "saldo_disponivel",
          "saldo_disponivel",
          "saldo_disponivel",
          "saldo_disponivel",
          "saldo_disponivel",
          "saldo_disponivel",
          "saldo_disponivel",
          "saldo_disponivel",
          "saldo_disponivel",
          "saldo_disponivel",
          "saldo_disponivel",
          "saldo_disponivel",
          "saldo_disponivel",
          "saldo_disponivel",
          "saldo_disponivel",
          "saldo_disponivel",
          "saldo_disponivel",
          "saldo_disponivel",
          "saldo_disponivel",
          "saldo_disponivel",
          "saldo_disponivel",
          "saldo_disponivel",
          "saldo_disponivel",
          "saldo_disponivel",
          "saldo_disponivel",
          "saldo_disponivel",
          "saldo_disponivel",
          "saldo_disponivel",
          "saldo_disponivel",
          "saldo_disponivel",
          "saldo_disponivel",
          "saldo_disponivel",
          "saldo_disponivel",
          "saldo_disponivel",
          "saldo_disponivel",
          "saldo_disponivel",
          "saldo_disponivel",
          "saldo_disponivel",
          "saldo_disponivel",
          "saldo_disponivel",
          "saldo_disponivel",
          "saldo_disponivel",
          "saldo_disponivel",
          "saldo_disponivel",
          "saldo_disponivel",
          "saldo_disponivel",
          "saldo_disponivel",
          "saldo_disponivel",
          "saldo_disponivel",
          "saldo_disponivel",
          "saldo_disponivel",
          "saldo_disponivel",
          "saldo_disponivel",
          "saldo_disponivel",
          "saldo_disponivel",
          "saldo_disponivel",
          "saldo_disponivel",
          "saldo_disponivel",
          "saldo_disponivel",
          "saldo_disponivel",
          "saldo_disponivel",
          "saldo_disponivel",
          "saldo_disponivel",
          "saldo_disponivel",
          "saldo_disponivel",
          "saldo_disponivel",
          "saldo_disponivel",
          "saldo_disponivel",
          "saldo_disponivel",
          "saldo_disponivel",
          "saldo_disponivel",
          "saldo_disponivel",
          "saldo_disponivel",
          "saldo_disponivel",
          "saldo_disponivel",
          "saldo_disponivel",
          "saldo_disponivel",
          "saldo_disponivel",
          "saldo_disponivel",
          "saldo_disponivel",
          "saldo_disponivel",
          "saldo_disponivel",
          "saldo_disponivel",
          "saldo_disponivel",
          "saldo_disponivel",
          "saldo_disponivel",
          "saldo_disponivel",
          "saldo_disponivel",
          "saldo_disponivel",
          "saldo_disponivel",
          "saldo_disponivel",
          "saldo_disponivel",
          "saldo_disponivel",
          "saldo_disponivel",
          "saldo_disponivel",
          "saldo_disponivel",
          "saldo_disponivel",
          "saldo_disponivel",
          "saldo_disponivel",
          "saldo_disponivel",
          "saldo_disponivel",
          "saldo_disponivel",
          "saldo_disponivel",
          "saldo_disponivel",
          "saldo_disponivel",
          "saldo_disponivel",
          "saldo_disponivel",
          "saldo_disponivel",
          "saldo_disponivel",
          "saldo_disponivel",
          "saldo_disponivel",
          "saldo_disponivel",
          "saldo_disponivel",
          "saldo_disponivel",
          "saldo_disponivel",
          "saldo_disponivel",
          "saldo_disponivel",
          "saldo_disponivel",
          "saldo_disponivel",
          "saldo_disponivel",
          "saldo_disponivel",
          "saldo_disponivel",
          "saldo_disponivel",
          "saldo_disponivel",
          "saldo_disponivel",
          "saldo_disponivel",
          "saldo_disponivel",
          "saldo_disponivel",
          "saldo_disponivel",
          "saldo_disponivel",
          "saldo_disponivel",
          "saldo_disponivel",
          "saldo_disponivel",
          "saldo_disponivel",
          "saldo_disponivel",
          "saldo_disponivel",
          "saldo_disponivel",
          "saldo_disponivel",
          "saldo_disponivel",
          "saldo_disponivel",
          "saldo_disponivel",
          "saldo_disponivel",
          "saldo_disponivel",
          "saldo_disponivel",
          "saldo_disponivel",
          "saldo_disponivel",
          "saldo_disponivel",
          "saldo_disponivel",
          "saldo_disponivel",
          "saldo_disponivel",
          "saldo_disponivel",
          "saldo_disponivel",
          "saldo_disponivel",
          "saldo_disponivel",
          "saldo_disponivel",
          "saldo_disponivel",
          "saldo_disponivel",
          "saldo_disponivel",
          "saldo_disponivel",
          "saldo_disponivel",
          "saldo_disponivel",
          "saldo_disponivel",
          "saldo_disponivel",
          "saldo_disponivel",
          "saldo_disponivel",
          "saldo_disponivel",
          "saldo_disponivel",
          "saldo_disponivel",
          "saldo_disponivel",
          "saldo_disponivel",
          "saldo_disponivel",
          "saldo_disponivel",
          "saldo_disponivel",
          "saldo_disponivel",
          "saldo_disponivel",
          "saldo_disponivel",
          "saldo_disponivel",
          "saldo_disponivel",
          "saldo_disponivel",
          "saldo_disponivel",
          "saldo_disponivel",
          "saldo_disponivel",
          "saldo_disponivel",
          "saldo_disponivel",
          "saldo_disponivel",
          "saldo_disponivel",
          "saldo_disponivel",
          "saldo_disponivel",
          "saldo_disponivel",
          "saldo_disponivel",
          "saldo_disponivel",
          "saldo_disponivel",
          "saldo_disponivel",
          "saldo_disponivel",
          "saldo_disponivel",
          "saldo_disponivel",
          "saldo_disponivel",
          "saldo_disponivel",
          "saldo_disponivel",
          "saldo_disponivel",
          "saldo_disponivel",
          "saldo_disponivel",
          "saldo_disponivel",
          "saldo_disponivel",
          "saldo_disponivel",
          "saldo_disponivel",
          "saldo_disponivel",
          "saldo_disponivel",
          "saldo_disponivel",
          "saldo_disponivel",
          "saldo_disponivel",
          "saldo_disponivel",
          "saldo_disponivel",
          "saldo_disponivel",
          "saldo_disponivel",
          "saldo_disponivel",
          "saldo_disponivel",
          "saldo_disponivel",
          "saldo_disponivel",
          "saldo_disponivel",
          "saldo_disponivel",
          "saldo_disponivel",
          "saldo_disponivel",
          "saldo_disponivel",
          "saldo_disponivel",
          "saldo_disponivel",
          "saldo_disponivel",
          "saldo_disponivel",
          "saldo_disponivel",
          "saldo_disponivel",
          "saldo_disponivel",
          "saldo_disponivel",
          "saldo_disponivel",
          "saldo_disponivel",
          "saldo_disponivel",
          "saldo_disponivel",
          "saldo_disponivel",
          "saldo_disponivel",
          "saldo_disponivel",
          "saldo_disponivel",
          "saldo_disponivel",
          "saldo_disponivel",
          "saldo_disponivel",
          "saldo_disponivel",
          "saldo_disponivel",
          "saldo_disponivel",
          "saldo_disponivel",
          "saldo_disponivel",
          "saldo_disponivel",
          "saldo_disponivel",
          "saldo_disponivel",
          "saldo_disponivel",
          "saldo_disponivel",
          "saldo_disponivel",
          "saldo_disponivel",
          "saldo_disponivel",
          "saldo_disponivel",
          "saldo_disponivel",
          "saldo_disponivel",
          "saldo_disponivel",
          "saldo_disponivel",
          "saldo_disponivel",
          "saldo_disponivel",
          "saldo_disponivel",
          "saldo_disponivel",
          "saldo_disponivel",
          "saldo_disponivel",
          "saldo_disponivel",
          "saldo_disponivel",
          "saldo_disponivel",
          "saldo_disponivel",
          "saldo_disponivel",
          "saldo_disponivel",
          "saldo_disponivel",
          "saldo_disponivel",
          "saldo_disponivel",
          "saldo_disponivel",
          "saldo_disponivel",
          "saldo_disponivel",
          "saldo_disponivel",
          "saldo_disponivel",
          "saldo_disponivel",
          "saldo_disponivel",
          "saldo_disponivel",
          "saldo_disponivel",
          "saldo_disponivel",
          "saldo_disponivel",
          "saldo_disponivel",
          "saldo_disponivel",
          "saldo_disponivel",
          "saldo_disponivel",
          "saldo_disponivel",
          "saldo_disponivel",
          "saldo_disponivel",
          "saldo_disponivel",
          "saldo_disponivel",
          "saldo_disponivel",
          "saldo_disponivel",
          "saldo_disponivel",
          "saldo_disponivel",
          "saldo_disponivel",
          "saldo_disponivel",
          "saldo_disponivel",
          "saldo_disponivel",
          "saldo_disponivel",
          "saldo_disponivel",
          "saldo_disponivel",
          "saldo_disponivel",
          "saldo_disponivel",
          "saldo_disponivel",
          "saldo_disponivel",
          "saldo_disponivel",
          "saldo_disponivel",
          "saldo_disponivel",
          "saldo_disponivel",
          "saldo_disponivel",
          "saldo_disponivel",
          "saldo_disponivel",
          "saldo_disponivel",
          "saldo_disponivel",
          "saldo_disponivel",
          "saldo_disponivel",
          "saldo_disponivel",
          "saldo_disponivel",
          "saldo_disponivel",
          "saldo_disponivel",
          "saldo_disponivel",
          "saldo_disponivel",
          "saldo_disponivel",
          "saldo_disponivel",
          "saldo_disponivel",
          "saldo_disponivel",
          "saldo_disponivel",
          "saldo_disponivel",
          "saldo_disponivel",
          "saldo_disponivel",
          "saldo_disponivel",
          "saldo_disponivel",
          "saldo_disponivel",
          "saldo_disponivel",
          "saldo_disponivel",
          "saldo_disponivel",
          "saldo_disponivel",
          "saldo_disponivel",
          "saldo_disponivel",
          "saldo_disponivel",
          "saldo_disponivel",
          "saldo_disponivel",
          "saldo_disponivel",
          "saldo_disponivel",
          "saldo_disponivel",
          "saldo_disponivel",
          "saldo_disponivel",
          "saldo_disponivel",
          "saldo_disponivel",
          "saldo_disponivel",
          "saldo_disponivel",
          "saldo_disponivel",
          "saldo_disponivel",
          "saldo_disponivel",
          "saldo_disponivel",
          "saldo_disponivel",
          "saldo_disponivel",
          "saldo_disponivel",
          "saldo_disponivel",
          "saldo_disponivel",
          "saldo_disponivel",
          "saldo_disponivel",
          "saldo_disponivel",
          "saldo_disponivel",
          "saldo_disponivel",
          "saldo_disponivel",
          "saldo_disponivel",
          "saldo_disponivel",
          "saldo_disponivel",
          "saldo_disponivel",
          "saldo_disponivel",
          "saldo_disponivel",
          "saldo_disponivel",
          "saldo_disponivel",
          "saldo_disponivel",
          "saldo_disponivel",
          "saldo_disponivel",
          "saldo_disponivel",
          "saldo_disponivel",
          "saldo_disponivel",
          "saldo_disponivel",
          "saldo_disponivel",
          "saldo_disponivel",
          "saldo_disponivel",
          "saldo_disponivel",
          "saldo_disponivel",
          "saldo_disponivel",
          "saldo_disponivel",
          "saldo_disponivel",
          "saldo_disponivel",
          "saldo_disponivel",
          "saldo_disponivel",
          "saldo_disponivel",
          "saldo_disponivel",
          "saldo_disponivel",
          "saldo_disponivel",
          "saldo_disponivel",
          "saldo_disponivel",
          "saldo_disponivel",
          "saldo_disponivel",
          "saldo_disponivel",
          "saldo_disponivel"
         ],
         "x0": " ",
         "xaxis": "x",
         "y": [
          2814.67,
          4191.860000000001,
          3080.7099999999987,
          19461.56000000001,
          13197.539999999995,
          21677.880000000005,
          4183.68,
          1288.5100000000016,
          616.7900000000002,
          19863.759999999995,
          55917.15,
          35288.34,
          2511.2999999999965,
          34545.61999999999,
          80952.72000000003,
          335.3800000000008,
          168407.87999999998,
          54240.69,
          83480.03999999992,
          44.86000000000001,
          1827.75,
          812.5600000000035,
          10208.050000000005,
          163409.6799999999,
          7380.669999999998,
          20373.14,
          87609.81999999996,
          66507.14,
          41016.19999999999,
          74.5299999999999,
          19955.29999999999,
          1592.7000000000023,
          1252.5500000000109,
          20458.98,
          14679.189999999991,
          12934.409999999996,
          94200.57999999999,
          52.13000000000648,
          52418.23999999999,
          17483.73999999998,
          37.57000000000168,
          32308.149999999998,
          38894.44000000001,
          8075.479999999999,
          15408.800000000008,
          2543.8200000000006,
          28107.83999999999,
          14852.299999999992,
          697.9799999999996,
          19263.65,
          2608.2900000000004,
          5418.259999999997,
          78.94999999999986,
          22164.989999999994,
          34449.169999999984,
          13407.47999999999,
          28876.550000000003,
          43787.35999999999,
          126887.95,
          2427.579999999996,
          29533.51,
          3563.1999999999944,
          164.3100000000003,
          99717.26999999996,
          270.1800000000054,
          41516.750000000015,
          155.7200000000003,
          211636.0400000001,
          41331.12,
          67091.37000000001,
          4510.779999999998,
          2364.850000000002,
          71851.76000000001,
          11304.699999999995,
          78745.64,
          7802.339999999994,
          2941.4999999999927,
          22294.71000000001,
          87482.30000000002,
          21.400000000000382,
          45546.6,
          6722.359999999997,
          23267.770000000022,
          7813.65,
          54.71999999999517,
          27711.570000000003,
          13614.039999999994,
          43554.02999999999,
          68837.84999999999,
          1185.809999999952,
          31390.160000000003,
          8311.67,
          101572.38,
          6935.260000000002,
          31597.66000000001,
          10535.63,
          14689.169999999996,
          29273.680000000004,
          7660.1199999999935,
          65137.83000000001,
          16.22000000000142,
          14252.92,
          33578.19000000002,
          49224.08,
          29103.95,
          56551.49,
          30866.630000000005,
          577.4000000000003,
          26165.99,
          134.1999999999998,
          49969.30000000004,
          110336.89,
          16447.329999999998,
          15030.97,
          9667.709999999997,
          7551.609999999993,
          56919.71000000001,
          33034.49000000003,
          116.36000000000104,
          27609.02,
          393.61999999999927,
          64200.64,
          46241.16999999998,
          47060.44,
          19299.27,
          322.2600000000002,
          10769.580000000002,
          116.0499999999997,
          9159.69000000001,
          115048.84000000004,
          1268.5000000000048,
          64049.89000000007,
          20524.460000000003,
          52048.079999999994,
          27974.59999999997,
          37827.95999999999,
          12.040000000000893,
          191520.6000000001,
          5160.790000000003,
          48308.97000000001,
          3727.019999999996,
          42951.11999999998,
          3491.479999999999,
          13450.8,
          2677.19,
          33477.579999999994,
          7.339999999999648,
          36788.9,
          39530.31,
          12940.120000000004,
          49096.21000000001,
          40881.44,
          15969.620000000004,
          5.350000000000263,
          17333.02000000001,
          760.3900000000001,
          334.3100000000003,
          37024.01,
          40313.21,
          151644.4,
          1263.3899999999985,
          12657.899999999983,
          28153.49,
          16455.879999999997,
          5493.63,
          196440.97,
          84439.77000000003,
          8241.089999999998,
          6390.180000000003,
          2439.8500000000013,
          33166.60999999998,
          1744.86,
          263.32000000000124,
          38525.41000000002,
          20875.569999999985,
          34583.48,
          17267.949999999997,
          6536.309999999996,
          10032.940000000006,
          305.04,
          117253.54,
          109905.99,
          40234.87999999999,
          0.6000000000004135,
          170283.25000000003,
          228.68,
          253.21000000000063,
          8414.479999999996,
          12439.49,
          22071.15000000001,
          8346.630000000003,
          10124.270000000002,
          24783.64999999997,
          1702.4000000000003,
          11770.39,
          17130.820000000003,
          122476.89,
          10068.5,
          14856.86000000001,
          70325.65,
          22299.439999999988,
          25235.92000000001,
          20939.23000000001,
          61.300000000000075,
          918.5800000000014,
          231759.98000000004,
          5112.550000000002,
          128.34999999999877,
          44058.34,
          19820.47,
          3800.270000000004,
          24630.599999999988,
          29312.93,
          45922.630000000005,
          195.38000000000017,
          40067.48,
          40.060000000000045,
          3376.4299999999994,
          34.61000000000276,
          47398.84,
          7665.519999999995,
          2875.48,
          30770.779999999995,
          19025.32,
          5069.369999999998,
          3020.270000000008,
          6250.550000000002,
          28940.35,
          15511.599999999997,
          12075.629999999985,
          10745.11,
          1623.7099999999998,
          477.9500000000001,
          156.1499999999995,
          6957.3099999999995,
          38336.69000000001,
          26472.640000000003,
          11170.85,
          28544.94,
          74114.26000000001,
          107914.04,
          536.7199999999993,
          20567.89000000001,
          1368.4600000000014,
          37148.300000000025,
          4352.130000000007,
          34398.15000000001,
          3264.96,
          10009.550000000005,
          66086.48000000003,
          19977.86999999999,
          32782.46000000001,
          24.180000000000945,
          46356.45,
          19926.04999999998,
          15243.720000000008,
          14842.350000000004,
          22376.76000000001,
          783.199999999999,
          69922.47999999997,
          1451.6799999999994,
          538.6499999999992,
          5373.209999999998,
          51659.170000000006,
          56.559999999999874,
          24079.04,
          57526.37999999999,
          14722.03,
          200.49000000000024,
          130458.18000000002,
          5466.5499999999965,
          3645.789999999997,
          67700.81000000003,
          139067.40000000002,
          14424.129999999996,
          24763.26,
          11.269999999999255,
          254.4300000000002,
          139.20999999999944,
          79023.89000000001,
          650.8599999999997,
          39429.829999999965,
          29329.999999999975,
          26009.76000000001,
          48268.47000000001,
          1153.8499999999997,
          82556.41,
          9226.570000000003,
          871.17,
          99486.45,
          8497.309999999994,
          34907.80000000001,
          427.07999999999055,
          624.8199999999997,
          25725.93999999999,
          77835.11,
          75739.06999999998,
          12760.229999999983,
          2982.799999999997,
          316.6800000000012,
          17114.16999999999,
          1976.6800000000007,
          2414.309999999994,
          202.0699999999999,
          26.09000000000011,
          23748.1,
          32521.38,
          120169.18999999994,
          97.48999999999968,
          5824.069999999999,
          7893.980000000001,
          9242.54,
          21497.92,
          40667.300000000025,
          3737.0800000000017,
          32091.99,
          90717.11,
          19.700000000000895,
          7395.500000000005,
          43485.13999999999,
          78.42000000000002,
          10954.17,
          19957.63,
          179.6499999999999,
          21785.72,
          2052.749999999998,
          619.9799999999996,
          3704.5099999999993,
          6742.019999999996,
          8269.420000000006,
          237.1200000000004,
          48608.92999999997,
          66372.28,
          82151.29,
          74084.73999999996,
          79474.92000000001,
          42369.57999999998,
          32777.219999999965,
          6164.679999999998,
          9.760000000000076,
          102.7700000000045,
          44492.25,
          66842.31,
          4613.949999999999,
          18358.390000000007,
          301.41999999999933,
          108046.82,
          101.63000000000424,
          17057.350000000002,
          5759.04,
          14255.219999999996,
          27618.219999999976,
          13211.550000000008,
          76.57999999999971,
          509.95000000000994,
          19265.34,
          8294.28999999999,
          3450.2699999999973,
          8178.800000000008,
          1166.8700000000013,
          6150.549999999997,
          14875.639999999989,
          60.279999999995674,
          2843.45,
          49628.380000000005,
          507.200000000001,
          3004.3299999999977,
          44209.509999999966,
          13377.540000000034,
          2350.110000000001,
          5758.24,
          22538.060000000005,
          12.229999999999622,
          34814.880000000005,
          698.3299999999998,
          15424.989999999993,
          172773.52999999994,
          1284.2900000000154,
          396.5300000000013,
          11325.959999999995,
          35985.860000000015,
          24644.540000000008,
          32166.280000000013,
          2159.690000000003,
          33788.959999999985,
          1811.4899999999984,
          86317.92999999996,
          41896.72999999999,
          15334.759999999997,
          349.4800000000004,
          18763.110000000008,
          918.39,
          809.3499999999974,
          46.71000000000062,
          96197.7900000001,
          17763.990000000005,
          33542.41,
          20.830000000000496,
          44909.55000000003,
          4232.93,
          16654.639999999992,
          12434.7,
          13919.020000000006,
          340.18000000000006,
          19292.719999999998,
          24386.97,
          8079.569999999997,
          54060.360000000015,
          53607.32000000001,
          308.99,
          148919.10000000003,
          6859.660000000001,
          4043.629999999996,
          197.93,
          65285.170000000006,
          26.33999999999976,
          24529.73000000001,
          294.92999999999944,
          109931.59999999998,
          2269.760000000002,
          43828.91,
          108338.43,
          275.2100000000001,
          1062.2599999999993,
          13553.669999999996,
          48084.299999999996,
          12.719999999999883,
          10887.28,
          6501.510000000002,
          7760.45,
          744.27,
          10831.830000000004,
          786.3600000000007,
          34541.16,
          24708.180000000015,
          83239.81,
          18603.7,
          56789.220000000016,
          15220.770000000008,
          25729.27,
          333783.57000000007,
          438.38,
          1231.68,
          186.15999999999983,
          8596.759999999997,
          2061.360000000001,
          160.81000000000105,
          41996.880000000005,
          9275.919999999993,
          524.2000000000003,
          2366.42,
          146962.43,
          37.669999999998886,
          12694.709999999994,
          13010.519999999997,
          1498.3300000000002,
          19957.399999999998,
          1807.4899999999968,
          30107.63999999999,
          15678.090000000007,
          1592.91,
          253.59000000000012,
          11282.89,
          659.1999999999994,
          36353.97,
          29602.17,
          3729.58,
          31.699999999999363,
          842.2899999999988,
          44817.87,
          21.65999999999992,
          9653.13,
          19.21000000000088,
          18481.9,
          3218.2900000000054,
          2132.85,
          237.6,
          103.15999999999951,
          20280.68,
          17655.109999999993,
          764.3600000000004,
          241.97999999999968,
          47.8800000000021,
          33313.75000000001,
          96.51999999999992,
          42606.490000000005,
          17418.36,
          822.9700000000001,
          702.0800000000002,
          67.79000000000212,
          377919.46,
          8827.14,
          21003.23999999999,
          6136.9099999999935,
          34565.509999999995,
          23006.93,
          21620.27,
          12467.509999999984,
          11614.690000000008,
          2.570000000018503,
          354.60000000000014,
          22194.86,
          253.86000000000143,
          10071.98,
          24081.21,
          36812.24,
          51760.47,
          13695.14,
          25979.61,
          28423.389999999992,
          54610.49,
          88192.7,
          945.62,
          20014.449999999997,
          3850.5299999999984,
          239.80000000000024,
          130201.50999999988,
          579.95,
          82074.94999999998,
          26909.570000000007,
          84678.16,
          21792.21,
          689.6500000000012,
          50163.84,
          25670.84999999999,
          21.570000000002,
          24995.139999999985,
          9839.710000000003,
          8519.33,
          15714.769999999991,
          45918.69000000001,
          40732.589999999975,
          16.42999999999705,
          3896.8800000000015,
          932.7300000000016,
          106.61999999999998,
          1109.88,
          407.8700000000002,
          15458.459999999995,
          71.91999999999945,
          823.3000000000054,
          1012.65,
          1307.7499999999989,
          50324.19000000002,
          208.1500000000008,
          3092.4599999999973,
          5007.530000000003,
          4035.6599999999953,
          9550.960000000001,
          180.19999999999987,
          30.71000000000322,
          244.5599999999997,
          885.0999999999992,
          2655.280000000002,
          32.2900000000006,
          26339.26000000001,
          74061.32999999997,
          946.8000000000004,
          101639.81000000004,
          9370.809999999994,
          12935.609999999995,
          21653.35,
          6132.560000000003,
          5950.89,
          33336.16,
          20525.77,
          13802.429999999997,
          158495.12999999998,
          5669.230000000005,
          9982.919999999993,
          439.0999999999996,
          63.930000000000064,
          608.3100000000011,
          2809.969999999999,
          10722.869999999994,
          1311.3900000000006,
          36237.31000000002,
          5739.169999999999,
          11621.169999999998,
          146.28000000000017,
          142774.91999999998,
          29764.67,
          11723.3,
          95089.16,
          769.6799999999998,
          498.36000000000087,
          6816.7300000000005,
          7873.11,
          6144.819999999995,
          1912.43,
          84354.36,
          7061.730000000001,
          3668.4499999999994,
          44858.96,
          22871.31,
          684.2800000000008,
          179.30999999999972,
          39.95000000000084,
          90516.73999999996,
          28603.20000000001,
          101404.81,
          228.03999999999988,
          20119.83,
          2456.42,
          1232.1000000000006,
          97788.51000000001,
          32124.629999999983,
          37538.71000000001,
          938.790000000001,
          51891.34999999996,
          370.66,
          5126.2900000000045,
          13352.690000000008,
          1311.139999999999,
          24429.250000000025,
          47.30000000000027,
          239.8000000000011,
          96.0199999999996,
          16534.760000000002,
          30770.18,
          328.6600000000002,
          29.59999999999404,
          8208.760000000013,
          3.5299999999989207,
          801.7199999999998,
          34524.92999999999,
          84.08000000000064,
          1054.95,
          217787.98,
          30255.810000000005,
          349.81000000000006,
          34063.459999999985,
          46508.29,
          32440.67000000001,
          2862.07,
          729.1300000000003,
          401.64999999999935,
          2772.5999999999985,
          19341.19,
          23767.600000000013,
          181219.00999999992,
          17714.929999999997,
          74679.16999999998,
          27655.509999999995,
          82933.80000000002,
          71467.53999999996,
          879.13,
          72.7200000000015,
          64114.91999999999,
          7595.999999999996,
          24148.989999999994,
          29778.26000000001,
          98.43999999999976,
          71.32000000000038,
          27003.540000000005,
          101.75999999999983,
          10485.760000000004,
          74.02999999999983,
          290.31000000000034,
          30920.12000000001,
          3463.560000000001,
          10787.499999999984,
          6180.000000000001,
          3765.360000000006,
          609.1500000000001,
          187.91999999999888,
          16712.74000000001,
          1161.93,
          9793.869999999997,
          118.65000000000012,
          53350.32,
          42763.73,
          49952.45000000002,
          3069.4100000000026,
          26741.500000000007,
          45095.630000000005,
          11697.769999999997,
          3430.07,
          103374.03,
          5077.3200000000015,
          29643.65,
          19004.62999999999,
          14495.29000000001,
          44463.939999999995,
          18485.37000000001,
          28322.770000000004,
          1094.9699999999975,
          61092.73,
          328.2600000000006,
          35527.58999999999,
          2530.1000000000035,
          71055.32999999997,
          49975.52999999998,
          52158.79000000001,
          370.29999999999984,
          8355.740000000003,
          121260.38000000002,
          55301.670000000006,
          411617.06,
          6437.990000000001,
          38945.42999999999,
          14502.429999999988,
          15184.19,
          392.94000000000017,
          141742.22000000003,
          53347.529999999984,
          43163.69999999999,
          31.210000000000008,
          14528.579999999996,
          18148.49,
          873.5999999999988,
          233.56000000000049,
          7639.310000000001,
          24571.72000000001,
          1266.84,
          285.2600000000002,
          67382.17000000001,
          2429.12,
          249.03999999999976,
          83.89999999999687,
          28648.37000000001,
          148.95999999999984,
          4450.350000000009,
          1530.2000000000005,
          251588.81,
          75325.04,
          86746.65999999997,
          9726.469999999998,
          26892.409999999985,
          107095.24000000002,
          13064.999999999996,
          16268.020000000006,
          6676.279999999995,
          810.2799999999991,
          7573.15,
          38036.239999999976,
          41083.45999999999,
          152.00999999999974,
          1836.7099999999991,
          11738.349999999991,
          171.20000000000385,
          67.71000000000055,
          1890.9999999999964,
          1108.9299999999992,
          98589.37999999996,
          1806.9099999999985,
          13140.679999999998,
          3691.8800000000015,
          2138.159999999999,
          19764.44,
          23.430000000000856,
          103238.16999999995,
          25875.000000000004,
          61304.339999999975,
          11.879999999999972,
          264.7300000000027,
          163.9500000000006,
          62273.860000000015,
          29116.16999999999,
          27325.62999999999,
          410.8099999999996,
          21444.25,
          30918.080000000005,
          7643.5,
          85291.46000000002,
          494.70000000000016,
          78285.28000000001,
          177022.98,
          669.5500000000004,
          12292.180000000006,
          1066.0900000000008,
          49705.31999999999,
          23786.800000000017,
          20722.599999999995,
          26634.399999999987,
          4835.910000000004,
          4032.210000000001,
          38096.67,
          139.4699999999998,
          15370.330000000002,
          308.3699999999998,
          14102.079999999993,
          187.19000000000028,
          1236.6,
          8913.970000000007,
          5.730000000000221,
          71872.79999999999,
          57631.09,
          1855.39,
          10896.789999999995,
          11.61000000000007,
          270.0899999999995,
          10255.330000000002,
          61857.219999999965,
          209.44999999999985,
          225.71000000000032,
          17175.37000000001,
          770.500000000008,
          223.20999999999992,
          953.189999999992,
          22446.31,
          67168.87000000001,
          212.94000000000003,
          99308.13,
          37774.10999999997,
          12478.81000000001,
          12932.069999999989,
          298.54,
          32992.26000000002,
          292.6500000000015,
          16570.43000000001,
          23251.52999999999,
          10044.110000000002,
          17.600000000000705,
          19084.52,
          3468.330000000002,
          18628.42000000001,
          405.4100000000015,
          212.4999999999996,
          49629.64000000001,
          57199.63,
          2160.9900000000016,
          50612.740000000005,
          186.78999999999996,
          6395.689999999998,
          29.70000000000016,
          26440.840000000007,
          17788.250000000007,
          103.13000000000146,
          709.0100000000001,
          37852.089999999975,
          179836.58999999994,
          10598.119999999995,
          48405.149999999994,
          15142.779999999995,
          2392.1399999999985,
          1454.9899999999998,
          25982.42000000001,
          215962.42000000004,
          4563.98,
          7091.650000000001,
          36169.339999999975,
          18283.47,
          57884.81000000004,
          13891.759999999987,
          6030.19,
          45107.740000000005,
          529.5300000000002,
          56176.70999999999,
          58427.81,
          5111.28,
          38393.27999999998,
          377.69000000000045,
          70788.36000000003,
          58782.09000000001,
          789.1600000000002,
          40696.79000000001,
          98.6699999999996,
          133.8899999999999,
          13317.150000000003,
          1349.5399999999993,
          512.9299999999985,
          50042.79,
          577.5899999999988,
          4787.190000000005,
          51.65000000000024,
          576.9599999999999,
          7722.449999999989,
          16354.829999999996,
          357.2700000000001,
          35.29999999999993,
          146.4899999999999,
          17579.48999999999,
          411.6400000000005,
          64946.45999999996,
          16884.65000000001,
          13974.82,
          6492.199999999995,
          105076.54,
          167.8500000000003,
          77618.77,
          31954.14,
          6042.249999999996,
          51.5600000000001,
          46013.39,
          21928.039999999997,
          548.6799999999993,
          78.30000000000011,
          38511.37999999999,
          187.48000000000323,
          33.559999999999725,
          26.170000000000115,
          9013.16,
          51296.899999999994,
          50265.66,
          31038.090000000007,
          139689.9400000001,
          9025.439999999999,
          7373.57,
          12201.819999999992,
          13.080000000000156,
          46232.240000000005,
          10.869999999999877,
          128.1699999999987,
          1131.0999999999997,
          49704.079999999994,
          4310.239999999993,
          46182.70999999999,
          16088.409999999982,
          55598.11999999998,
          4337.7699999999995,
          59617.24999999999,
          50788.54999999998,
          331.30999999999995,
          243.4099999999995,
          568.8000000000004,
          57.039999999999765,
          38090.6,
          11226.090000000002,
          652.9399999999988,
          1943.3899999999996,
          112686.21000000002,
          15859.55999999999,
          36479.200000000004,
          310.44999999999965,
          4444.39,
          297.91999999999933,
          36903.26,
          16089.490000000002,
          635.6200000000001,
          91423.61,
          15247.75,
          15291.839999999993,
          22495.77,
          957.1500000000026,
          82534.20000000001,
          297.1099999999872,
          31765.419999999987,
          12932.35,
          56521.820000000014,
          37588.74999999998,
          1835.4199999999985,
          55.00000000000002,
          400.94999999999993,
          218.06000000000049,
          502.4600000000004,
          8.359999999999875,
          5776.050000000002,
          1003.8599999999916,
          17.210000000000328,
          67.74999999999915,
          24401.26000000001,
          122899.56999999998,
          6102.1199999999935,
          7492.980000000001,
          103.47999999999976,
          437.6999999999997,
          57983.03999999996,
          610.8900000000003,
          75.28000000000006,
          12225.509999999997,
          92.12000000000015,
          14492.840000000002,
          223.73000000000027,
          232.7799999999998,
          4254.340000000002,
          19948.770000000008,
          19194.430000000004,
          124.26000000000138,
          8911.519999999999,
          80069.17999999996,
          7091.999999999998,
          9647.990000000014,
          57686.21999999995,
          40913.97000000001,
          257.7499999999999,
          383.6099999999995,
          6828.530000000001,
          78.43999999999563,
          444.63000000000017,
          18537.45,
          37095.21,
          28682.48,
          29187.790000000005,
          235.75999999999976,
          47220.720000000016,
          4791.859999999999,
          4585.310000000004,
          143607.0400000001,
          91.53000000000131,
          642.8000000000004,
          32145.32,
          2641.36,
          29401.580000000016,
          9351.630000000006,
          64823.140000000014,
          6836.5700000000015,
          21578.33000000001,
          10336.340000000002
         ],
         "y0": " ",
         "yaxis": "y"
        }
       ],
       "layout": {
        "boxmode": "group",
        "legend": {
         "tracegroupgap": 0
        },
        "margin": {
         "t": 60
        },
        "template": {
         "data": {
          "bar": [
           {
            "error_x": {
             "color": "#2a3f5f"
            },
            "error_y": {
             "color": "#2a3f5f"
            },
            "marker": {
             "line": {
              "color": "#E5ECF6",
              "width": 0.5
             },
             "pattern": {
              "fillmode": "overlay",
              "size": 10,
              "solidity": 0.2
             }
            },
            "type": "bar"
           }
          ],
          "barpolar": [
           {
            "marker": {
             "line": {
              "color": "#E5ECF6",
              "width": 0.5
             },
             "pattern": {
              "fillmode": "overlay",
              "size": 10,
              "solidity": 0.2
             }
            },
            "type": "barpolar"
           }
          ],
          "carpet": [
           {
            "aaxis": {
             "endlinecolor": "#2a3f5f",
             "gridcolor": "white",
             "linecolor": "white",
             "minorgridcolor": "white",
             "startlinecolor": "#2a3f5f"
            },
            "baxis": {
             "endlinecolor": "#2a3f5f",
             "gridcolor": "white",
             "linecolor": "white",
             "minorgridcolor": "white",
             "startlinecolor": "#2a3f5f"
            },
            "type": "carpet"
           }
          ],
          "choropleth": [
           {
            "colorbar": {
             "outlinewidth": 0,
             "ticks": ""
            },
            "type": "choropleth"
           }
          ],
          "contour": [
           {
            "colorbar": {
             "outlinewidth": 0,
             "ticks": ""
            },
            "colorscale": [
             [
              0,
              "#0d0887"
             ],
             [
              0.1111111111111111,
              "#46039f"
             ],
             [
              0.2222222222222222,
              "#7201a8"
             ],
             [
              0.3333333333333333,
              "#9c179e"
             ],
             [
              0.4444444444444444,
              "#bd3786"
             ],
             [
              0.5555555555555556,
              "#d8576b"
             ],
             [
              0.6666666666666666,
              "#ed7953"
             ],
             [
              0.7777777777777778,
              "#fb9f3a"
             ],
             [
              0.8888888888888888,
              "#fdca26"
             ],
             [
              1,
              "#f0f921"
             ]
            ],
            "type": "contour"
           }
          ],
          "contourcarpet": [
           {
            "colorbar": {
             "outlinewidth": 0,
             "ticks": ""
            },
            "type": "contourcarpet"
           }
          ],
          "heatmap": [
           {
            "colorbar": {
             "outlinewidth": 0,
             "ticks": ""
            },
            "colorscale": [
             [
              0,
              "#0d0887"
             ],
             [
              0.1111111111111111,
              "#46039f"
             ],
             [
              0.2222222222222222,
              "#7201a8"
             ],
             [
              0.3333333333333333,
              "#9c179e"
             ],
             [
              0.4444444444444444,
              "#bd3786"
             ],
             [
              0.5555555555555556,
              "#d8576b"
             ],
             [
              0.6666666666666666,
              "#ed7953"
             ],
             [
              0.7777777777777778,
              "#fb9f3a"
             ],
             [
              0.8888888888888888,
              "#fdca26"
             ],
             [
              1,
              "#f0f921"
             ]
            ],
            "type": "heatmap"
           }
          ],
          "heatmapgl": [
           {
            "colorbar": {
             "outlinewidth": 0,
             "ticks": ""
            },
            "colorscale": [
             [
              0,
              "#0d0887"
             ],
             [
              0.1111111111111111,
              "#46039f"
             ],
             [
              0.2222222222222222,
              "#7201a8"
             ],
             [
              0.3333333333333333,
              "#9c179e"
             ],
             [
              0.4444444444444444,
              "#bd3786"
             ],
             [
              0.5555555555555556,
              "#d8576b"
             ],
             [
              0.6666666666666666,
              "#ed7953"
             ],
             [
              0.7777777777777778,
              "#fb9f3a"
             ],
             [
              0.8888888888888888,
              "#fdca26"
             ],
             [
              1,
              "#f0f921"
             ]
            ],
            "type": "heatmapgl"
           }
          ],
          "histogram": [
           {
            "marker": {
             "pattern": {
              "fillmode": "overlay",
              "size": 10,
              "solidity": 0.2
             }
            },
            "type": "histogram"
           }
          ],
          "histogram2d": [
           {
            "colorbar": {
             "outlinewidth": 0,
             "ticks": ""
            },
            "colorscale": [
             [
              0,
              "#0d0887"
             ],
             [
              0.1111111111111111,
              "#46039f"
             ],
             [
              0.2222222222222222,
              "#7201a8"
             ],
             [
              0.3333333333333333,
              "#9c179e"
             ],
             [
              0.4444444444444444,
              "#bd3786"
             ],
             [
              0.5555555555555556,
              "#d8576b"
             ],
             [
              0.6666666666666666,
              "#ed7953"
             ],
             [
              0.7777777777777778,
              "#fb9f3a"
             ],
             [
              0.8888888888888888,
              "#fdca26"
             ],
             [
              1,
              "#f0f921"
             ]
            ],
            "type": "histogram2d"
           }
          ],
          "histogram2dcontour": [
           {
            "colorbar": {
             "outlinewidth": 0,
             "ticks": ""
            },
            "colorscale": [
             [
              0,
              "#0d0887"
             ],
             [
              0.1111111111111111,
              "#46039f"
             ],
             [
              0.2222222222222222,
              "#7201a8"
             ],
             [
              0.3333333333333333,
              "#9c179e"
             ],
             [
              0.4444444444444444,
              "#bd3786"
             ],
             [
              0.5555555555555556,
              "#d8576b"
             ],
             [
              0.6666666666666666,
              "#ed7953"
             ],
             [
              0.7777777777777778,
              "#fb9f3a"
             ],
             [
              0.8888888888888888,
              "#fdca26"
             ],
             [
              1,
              "#f0f921"
             ]
            ],
            "type": "histogram2dcontour"
           }
          ],
          "mesh3d": [
           {
            "colorbar": {
             "outlinewidth": 0,
             "ticks": ""
            },
            "type": "mesh3d"
           }
          ],
          "parcoords": [
           {
            "line": {
             "colorbar": {
              "outlinewidth": 0,
              "ticks": ""
             }
            },
            "type": "parcoords"
           }
          ],
          "pie": [
           {
            "automargin": true,
            "type": "pie"
           }
          ],
          "scatter": [
           {
            "marker": {
             "colorbar": {
              "outlinewidth": 0,
              "ticks": ""
             }
            },
            "type": "scatter"
           }
          ],
          "scatter3d": [
           {
            "line": {
             "colorbar": {
              "outlinewidth": 0,
              "ticks": ""
             }
            },
            "marker": {
             "colorbar": {
              "outlinewidth": 0,
              "ticks": ""
             }
            },
            "type": "scatter3d"
           }
          ],
          "scattercarpet": [
           {
            "marker": {
             "colorbar": {
              "outlinewidth": 0,
              "ticks": ""
             }
            },
            "type": "scattercarpet"
           }
          ],
          "scattergeo": [
           {
            "marker": {
             "colorbar": {
              "outlinewidth": 0,
              "ticks": ""
             }
            },
            "type": "scattergeo"
           }
          ],
          "scattergl": [
           {
            "marker": {
             "colorbar": {
              "outlinewidth": 0,
              "ticks": ""
             }
            },
            "type": "scattergl"
           }
          ],
          "scattermapbox": [
           {
            "marker": {
             "colorbar": {
              "outlinewidth": 0,
              "ticks": ""
             }
            },
            "type": "scattermapbox"
           }
          ],
          "scatterpolar": [
           {
            "marker": {
             "colorbar": {
              "outlinewidth": 0,
              "ticks": ""
             }
            },
            "type": "scatterpolar"
           }
          ],
          "scatterpolargl": [
           {
            "marker": {
             "colorbar": {
              "outlinewidth": 0,
              "ticks": ""
             }
            },
            "type": "scatterpolargl"
           }
          ],
          "scatterternary": [
           {
            "marker": {
             "colorbar": {
              "outlinewidth": 0,
              "ticks": ""
             }
            },
            "type": "scatterternary"
           }
          ],
          "surface": [
           {
            "colorbar": {
             "outlinewidth": 0,
             "ticks": ""
            },
            "colorscale": [
             [
              0,
              "#0d0887"
             ],
             [
              0.1111111111111111,
              "#46039f"
             ],
             [
              0.2222222222222222,
              "#7201a8"
             ],
             [
              0.3333333333333333,
              "#9c179e"
             ],
             [
              0.4444444444444444,
              "#bd3786"
             ],
             [
              0.5555555555555556,
              "#d8576b"
             ],
             [
              0.6666666666666666,
              "#ed7953"
             ],
             [
              0.7777777777777778,
              "#fb9f3a"
             ],
             [
              0.8888888888888888,
              "#fdca26"
             ],
             [
              1,
              "#f0f921"
             ]
            ],
            "type": "surface"
           }
          ],
          "table": [
           {
            "cells": {
             "fill": {
              "color": "#EBF0F8"
             },
             "line": {
              "color": "white"
             }
            },
            "header": {
             "fill": {
              "color": "#C8D4E3"
             },
             "line": {
              "color": "white"
             }
            },
            "type": "table"
           }
          ]
         },
         "layout": {
          "annotationdefaults": {
           "arrowcolor": "#2a3f5f",
           "arrowhead": 0,
           "arrowwidth": 1
          },
          "autotypenumbers": "strict",
          "coloraxis": {
           "colorbar": {
            "outlinewidth": 0,
            "ticks": ""
           }
          },
          "colorscale": {
           "diverging": [
            [
             0,
             "#8e0152"
            ],
            [
             0.1,
             "#c51b7d"
            ],
            [
             0.2,
             "#de77ae"
            ],
            [
             0.3,
             "#f1b6da"
            ],
            [
             0.4,
             "#fde0ef"
            ],
            [
             0.5,
             "#f7f7f7"
            ],
            [
             0.6,
             "#e6f5d0"
            ],
            [
             0.7,
             "#b8e186"
            ],
            [
             0.8,
             "#7fbc41"
            ],
            [
             0.9,
             "#4d9221"
            ],
            [
             1,
             "#276419"
            ]
           ],
           "sequential": [
            [
             0,
             "#0d0887"
            ],
            [
             0.1111111111111111,
             "#46039f"
            ],
            [
             0.2222222222222222,
             "#7201a8"
            ],
            [
             0.3333333333333333,
             "#9c179e"
            ],
            [
             0.4444444444444444,
             "#bd3786"
            ],
            [
             0.5555555555555556,
             "#d8576b"
            ],
            [
             0.6666666666666666,
             "#ed7953"
            ],
            [
             0.7777777777777778,
             "#fb9f3a"
            ],
            [
             0.8888888888888888,
             "#fdca26"
            ],
            [
             1,
             "#f0f921"
            ]
           ],
           "sequentialminus": [
            [
             0,
             "#0d0887"
            ],
            [
             0.1111111111111111,
             "#46039f"
            ],
            [
             0.2222222222222222,
             "#7201a8"
            ],
            [
             0.3333333333333333,
             "#9c179e"
            ],
            [
             0.4444444444444444,
             "#bd3786"
            ],
            [
             0.5555555555555556,
             "#d8576b"
            ],
            [
             0.6666666666666666,
             "#ed7953"
            ],
            [
             0.7777777777777778,
             "#fb9f3a"
            ],
            [
             0.8888888888888888,
             "#fdca26"
            ],
            [
             1,
             "#f0f921"
            ]
           ]
          },
          "colorway": [
           "#636efa",
           "#EF553B",
           "#00cc96",
           "#ab63fa",
           "#FFA15A",
           "#19d3f3",
           "#FF6692",
           "#B6E880",
           "#FF97FF",
           "#FECB52"
          ],
          "font": {
           "color": "#2a3f5f"
          },
          "geo": {
           "bgcolor": "white",
           "lakecolor": "white",
           "landcolor": "#E5ECF6",
           "showlakes": true,
           "showland": true,
           "subunitcolor": "white"
          },
          "hoverlabel": {
           "align": "left"
          },
          "hovermode": "closest",
          "mapbox": {
           "style": "light"
          },
          "paper_bgcolor": "white",
          "plot_bgcolor": "#E5ECF6",
          "polar": {
           "angularaxis": {
            "gridcolor": "white",
            "linecolor": "white",
            "ticks": ""
           },
           "bgcolor": "#E5ECF6",
           "radialaxis": {
            "gridcolor": "white",
            "linecolor": "white",
            "ticks": ""
           }
          },
          "scene": {
           "xaxis": {
            "backgroundcolor": "#E5ECF6",
            "gridcolor": "white",
            "gridwidth": 2,
            "linecolor": "white",
            "showbackground": true,
            "ticks": "",
            "zerolinecolor": "white"
           },
           "yaxis": {
            "backgroundcolor": "#E5ECF6",
            "gridcolor": "white",
            "gridwidth": 2,
            "linecolor": "white",
            "showbackground": true,
            "ticks": "",
            "zerolinecolor": "white"
           },
           "zaxis": {
            "backgroundcolor": "#E5ECF6",
            "gridcolor": "white",
            "gridwidth": 2,
            "linecolor": "white",
            "showbackground": true,
            "ticks": "",
            "zerolinecolor": "white"
           }
          },
          "shapedefaults": {
           "line": {
            "color": "#2a3f5f"
           }
          },
          "ternary": {
           "aaxis": {
            "gridcolor": "white",
            "linecolor": "white",
            "ticks": ""
           },
           "baxis": {
            "gridcolor": "white",
            "linecolor": "white",
            "ticks": ""
           },
           "bgcolor": "#E5ECF6",
           "caxis": {
            "gridcolor": "white",
            "linecolor": "white",
            "ticks": ""
           }
          },
          "title": {
           "x": 0.05
          },
          "xaxis": {
           "automargin": true,
           "gridcolor": "white",
           "linecolor": "white",
           "ticks": "",
           "title": {
            "standoff": 15
           },
           "zerolinecolor": "white",
           "zerolinewidth": 2
          },
          "yaxis": {
           "automargin": true,
           "gridcolor": "white",
           "linecolor": "white",
           "ticks": "",
           "title": {
            "standoff": 15
           },
           "zerolinecolor": "white",
           "zerolinewidth": 2
          }
         }
        },
        "xaxis": {
         "anchor": "y",
         "domain": [
          0,
          1
         ],
         "title": {
          "text": "variable"
         }
        },
        "yaxis": {
         "anchor": "x",
         "domain": [
          0,
          1
         ],
         "title": {
          "text": "value"
         }
        }
       }
      }
     },
     "metadata": {},
     "output_type": "display_data"
    }
   ],
   "source": [
    "fig = px.box(df['contas']['saldo_disponivel'], points=\"all\")\n",
    "\n",
    "fig.show()"
   ]
  },
  {
   "cell_type": "markdown",
   "metadata": {},
   "source": [
    "Intervalos:\n",
    "- Q1: 0 a 920 (Baixo)\n",
    "- Q2: 920 a 11326 (Médio)\n",
    "- Q3: 11326 a 33995 (Alto)\n",
    "- Q4: 33995 a 83480 (Muito Alto)\n",
    "- Acima de 83480 (Premium)"
   ]
  },
  {
   "cell_type": "code",
   "execution_count": 12,
   "metadata": {},
   "outputs": [
    {
     "data": {
      "application/vnd.plotly.v1+json": {
       "config": {
        "plotlyServerURL": "https://plot.ly"
       },
       "data": [
        {
         "hovertemplate": "ano_abert=%{x}<br>valores=%{y}<extra></extra>",
         "legendgroup": "",
         "line": {
          "color": "#636efa",
          "dash": "solid"
         },
         "marker": {
          "symbol": "circle"
         },
         "mode": "lines",
         "name": "",
         "orientation": "v",
         "showlegend": false,
         "type": "scatter",
         "x": [
          2010,
          2011,
          2012,
          2013,
          2014,
          2015,
          2016,
          2017,
          2018,
          2019,
          2020,
          2021,
          2022
         ],
         "xaxis": "x",
         "y": [
          11,
          24,
          32,
          47,
          48,
          66,
          74,
          96,
          102,
          113,
          112,
          135,
          139
         ],
         "yaxis": "y"
        }
       ],
       "layout": {
        "legend": {
         "tracegroupgap": 0
        },
        "margin": {
         "t": 60
        },
        "template": {
         "data": {
          "bar": [
           {
            "error_x": {
             "color": "#2a3f5f"
            },
            "error_y": {
             "color": "#2a3f5f"
            },
            "marker": {
             "line": {
              "color": "#E5ECF6",
              "width": 0.5
             },
             "pattern": {
              "fillmode": "overlay",
              "size": 10,
              "solidity": 0.2
             }
            },
            "type": "bar"
           }
          ],
          "barpolar": [
           {
            "marker": {
             "line": {
              "color": "#E5ECF6",
              "width": 0.5
             },
             "pattern": {
              "fillmode": "overlay",
              "size": 10,
              "solidity": 0.2
             }
            },
            "type": "barpolar"
           }
          ],
          "carpet": [
           {
            "aaxis": {
             "endlinecolor": "#2a3f5f",
             "gridcolor": "white",
             "linecolor": "white",
             "minorgridcolor": "white",
             "startlinecolor": "#2a3f5f"
            },
            "baxis": {
             "endlinecolor": "#2a3f5f",
             "gridcolor": "white",
             "linecolor": "white",
             "minorgridcolor": "white",
             "startlinecolor": "#2a3f5f"
            },
            "type": "carpet"
           }
          ],
          "choropleth": [
           {
            "colorbar": {
             "outlinewidth": 0,
             "ticks": ""
            },
            "type": "choropleth"
           }
          ],
          "contour": [
           {
            "colorbar": {
             "outlinewidth": 0,
             "ticks": ""
            },
            "colorscale": [
             [
              0,
              "#0d0887"
             ],
             [
              0.1111111111111111,
              "#46039f"
             ],
             [
              0.2222222222222222,
              "#7201a8"
             ],
             [
              0.3333333333333333,
              "#9c179e"
             ],
             [
              0.4444444444444444,
              "#bd3786"
             ],
             [
              0.5555555555555556,
              "#d8576b"
             ],
             [
              0.6666666666666666,
              "#ed7953"
             ],
             [
              0.7777777777777778,
              "#fb9f3a"
             ],
             [
              0.8888888888888888,
              "#fdca26"
             ],
             [
              1,
              "#f0f921"
             ]
            ],
            "type": "contour"
           }
          ],
          "contourcarpet": [
           {
            "colorbar": {
             "outlinewidth": 0,
             "ticks": ""
            },
            "type": "contourcarpet"
           }
          ],
          "heatmap": [
           {
            "colorbar": {
             "outlinewidth": 0,
             "ticks": ""
            },
            "colorscale": [
             [
              0,
              "#0d0887"
             ],
             [
              0.1111111111111111,
              "#46039f"
             ],
             [
              0.2222222222222222,
              "#7201a8"
             ],
             [
              0.3333333333333333,
              "#9c179e"
             ],
             [
              0.4444444444444444,
              "#bd3786"
             ],
             [
              0.5555555555555556,
              "#d8576b"
             ],
             [
              0.6666666666666666,
              "#ed7953"
             ],
             [
              0.7777777777777778,
              "#fb9f3a"
             ],
             [
              0.8888888888888888,
              "#fdca26"
             ],
             [
              1,
              "#f0f921"
             ]
            ],
            "type": "heatmap"
           }
          ],
          "heatmapgl": [
           {
            "colorbar": {
             "outlinewidth": 0,
             "ticks": ""
            },
            "colorscale": [
             [
              0,
              "#0d0887"
             ],
             [
              0.1111111111111111,
              "#46039f"
             ],
             [
              0.2222222222222222,
              "#7201a8"
             ],
             [
              0.3333333333333333,
              "#9c179e"
             ],
             [
              0.4444444444444444,
              "#bd3786"
             ],
             [
              0.5555555555555556,
              "#d8576b"
             ],
             [
              0.6666666666666666,
              "#ed7953"
             ],
             [
              0.7777777777777778,
              "#fb9f3a"
             ],
             [
              0.8888888888888888,
              "#fdca26"
             ],
             [
              1,
              "#f0f921"
             ]
            ],
            "type": "heatmapgl"
           }
          ],
          "histogram": [
           {
            "marker": {
             "pattern": {
              "fillmode": "overlay",
              "size": 10,
              "solidity": 0.2
             }
            },
            "type": "histogram"
           }
          ],
          "histogram2d": [
           {
            "colorbar": {
             "outlinewidth": 0,
             "ticks": ""
            },
            "colorscale": [
             [
              0,
              "#0d0887"
             ],
             [
              0.1111111111111111,
              "#46039f"
             ],
             [
              0.2222222222222222,
              "#7201a8"
             ],
             [
              0.3333333333333333,
              "#9c179e"
             ],
             [
              0.4444444444444444,
              "#bd3786"
             ],
             [
              0.5555555555555556,
              "#d8576b"
             ],
             [
              0.6666666666666666,
              "#ed7953"
             ],
             [
              0.7777777777777778,
              "#fb9f3a"
             ],
             [
              0.8888888888888888,
              "#fdca26"
             ],
             [
              1,
              "#f0f921"
             ]
            ],
            "type": "histogram2d"
           }
          ],
          "histogram2dcontour": [
           {
            "colorbar": {
             "outlinewidth": 0,
             "ticks": ""
            },
            "colorscale": [
             [
              0,
              "#0d0887"
             ],
             [
              0.1111111111111111,
              "#46039f"
             ],
             [
              0.2222222222222222,
              "#7201a8"
             ],
             [
              0.3333333333333333,
              "#9c179e"
             ],
             [
              0.4444444444444444,
              "#bd3786"
             ],
             [
              0.5555555555555556,
              "#d8576b"
             ],
             [
              0.6666666666666666,
              "#ed7953"
             ],
             [
              0.7777777777777778,
              "#fb9f3a"
             ],
             [
              0.8888888888888888,
              "#fdca26"
             ],
             [
              1,
              "#f0f921"
             ]
            ],
            "type": "histogram2dcontour"
           }
          ],
          "mesh3d": [
           {
            "colorbar": {
             "outlinewidth": 0,
             "ticks": ""
            },
            "type": "mesh3d"
           }
          ],
          "parcoords": [
           {
            "line": {
             "colorbar": {
              "outlinewidth": 0,
              "ticks": ""
             }
            },
            "type": "parcoords"
           }
          ],
          "pie": [
           {
            "automargin": true,
            "type": "pie"
           }
          ],
          "scatter": [
           {
            "marker": {
             "colorbar": {
              "outlinewidth": 0,
              "ticks": ""
             }
            },
            "type": "scatter"
           }
          ],
          "scatter3d": [
           {
            "line": {
             "colorbar": {
              "outlinewidth": 0,
              "ticks": ""
             }
            },
            "marker": {
             "colorbar": {
              "outlinewidth": 0,
              "ticks": ""
             }
            },
            "type": "scatter3d"
           }
          ],
          "scattercarpet": [
           {
            "marker": {
             "colorbar": {
              "outlinewidth": 0,
              "ticks": ""
             }
            },
            "type": "scattercarpet"
           }
          ],
          "scattergeo": [
           {
            "marker": {
             "colorbar": {
              "outlinewidth": 0,
              "ticks": ""
             }
            },
            "type": "scattergeo"
           }
          ],
          "scattergl": [
           {
            "marker": {
             "colorbar": {
              "outlinewidth": 0,
              "ticks": ""
             }
            },
            "type": "scattergl"
           }
          ],
          "scattermapbox": [
           {
            "marker": {
             "colorbar": {
              "outlinewidth": 0,
              "ticks": ""
             }
            },
            "type": "scattermapbox"
           }
          ],
          "scatterpolar": [
           {
            "marker": {
             "colorbar": {
              "outlinewidth": 0,
              "ticks": ""
             }
            },
            "type": "scatterpolar"
           }
          ],
          "scatterpolargl": [
           {
            "marker": {
             "colorbar": {
              "outlinewidth": 0,
              "ticks": ""
             }
            },
            "type": "scatterpolargl"
           }
          ],
          "scatterternary": [
           {
            "marker": {
             "colorbar": {
              "outlinewidth": 0,
              "ticks": ""
             }
            },
            "type": "scatterternary"
           }
          ],
          "surface": [
           {
            "colorbar": {
             "outlinewidth": 0,
             "ticks": ""
            },
            "colorscale": [
             [
              0,
              "#0d0887"
             ],
             [
              0.1111111111111111,
              "#46039f"
             ],
             [
              0.2222222222222222,
              "#7201a8"
             ],
             [
              0.3333333333333333,
              "#9c179e"
             ],
             [
              0.4444444444444444,
              "#bd3786"
             ],
             [
              0.5555555555555556,
              "#d8576b"
             ],
             [
              0.6666666666666666,
              "#ed7953"
             ],
             [
              0.7777777777777778,
              "#fb9f3a"
             ],
             [
              0.8888888888888888,
              "#fdca26"
             ],
             [
              1,
              "#f0f921"
             ]
            ],
            "type": "surface"
           }
          ],
          "table": [
           {
            "cells": {
             "fill": {
              "color": "#EBF0F8"
             },
             "line": {
              "color": "white"
             }
            },
            "header": {
             "fill": {
              "color": "#C8D4E3"
             },
             "line": {
              "color": "white"
             }
            },
            "type": "table"
           }
          ]
         },
         "layout": {
          "annotationdefaults": {
           "arrowcolor": "#2a3f5f",
           "arrowhead": 0,
           "arrowwidth": 1
          },
          "autotypenumbers": "strict",
          "coloraxis": {
           "colorbar": {
            "outlinewidth": 0,
            "ticks": ""
           }
          },
          "colorscale": {
           "diverging": [
            [
             0,
             "#8e0152"
            ],
            [
             0.1,
             "#c51b7d"
            ],
            [
             0.2,
             "#de77ae"
            ],
            [
             0.3,
             "#f1b6da"
            ],
            [
             0.4,
             "#fde0ef"
            ],
            [
             0.5,
             "#f7f7f7"
            ],
            [
             0.6,
             "#e6f5d0"
            ],
            [
             0.7,
             "#b8e186"
            ],
            [
             0.8,
             "#7fbc41"
            ],
            [
             0.9,
             "#4d9221"
            ],
            [
             1,
             "#276419"
            ]
           ],
           "sequential": [
            [
             0,
             "#0d0887"
            ],
            [
             0.1111111111111111,
             "#46039f"
            ],
            [
             0.2222222222222222,
             "#7201a8"
            ],
            [
             0.3333333333333333,
             "#9c179e"
            ],
            [
             0.4444444444444444,
             "#bd3786"
            ],
            [
             0.5555555555555556,
             "#d8576b"
            ],
            [
             0.6666666666666666,
             "#ed7953"
            ],
            [
             0.7777777777777778,
             "#fb9f3a"
            ],
            [
             0.8888888888888888,
             "#fdca26"
            ],
            [
             1,
             "#f0f921"
            ]
           ],
           "sequentialminus": [
            [
             0,
             "#0d0887"
            ],
            [
             0.1111111111111111,
             "#46039f"
            ],
            [
             0.2222222222222222,
             "#7201a8"
            ],
            [
             0.3333333333333333,
             "#9c179e"
            ],
            [
             0.4444444444444444,
             "#bd3786"
            ],
            [
             0.5555555555555556,
             "#d8576b"
            ],
            [
             0.6666666666666666,
             "#ed7953"
            ],
            [
             0.7777777777777778,
             "#fb9f3a"
            ],
            [
             0.8888888888888888,
             "#fdca26"
            ],
            [
             1,
             "#f0f921"
            ]
           ]
          },
          "colorway": [
           "#636efa",
           "#EF553B",
           "#00cc96",
           "#ab63fa",
           "#FFA15A",
           "#19d3f3",
           "#FF6692",
           "#B6E880",
           "#FF97FF",
           "#FECB52"
          ],
          "font": {
           "color": "#2a3f5f"
          },
          "geo": {
           "bgcolor": "white",
           "lakecolor": "white",
           "landcolor": "#E5ECF6",
           "showlakes": true,
           "showland": true,
           "subunitcolor": "white"
          },
          "hoverlabel": {
           "align": "left"
          },
          "hovermode": "closest",
          "mapbox": {
           "style": "light"
          },
          "paper_bgcolor": "white",
          "plot_bgcolor": "#E5ECF6",
          "polar": {
           "angularaxis": {
            "gridcolor": "white",
            "linecolor": "white",
            "ticks": ""
           },
           "bgcolor": "#E5ECF6",
           "radialaxis": {
            "gridcolor": "white",
            "linecolor": "white",
            "ticks": ""
           }
          },
          "scene": {
           "xaxis": {
            "backgroundcolor": "#E5ECF6",
            "gridcolor": "white",
            "gridwidth": 2,
            "linecolor": "white",
            "showbackground": true,
            "ticks": "",
            "zerolinecolor": "white"
           },
           "yaxis": {
            "backgroundcolor": "#E5ECF6",
            "gridcolor": "white",
            "gridwidth": 2,
            "linecolor": "white",
            "showbackground": true,
            "ticks": "",
            "zerolinecolor": "white"
           },
           "zaxis": {
            "backgroundcolor": "#E5ECF6",
            "gridcolor": "white",
            "gridwidth": 2,
            "linecolor": "white",
            "showbackground": true,
            "ticks": "",
            "zerolinecolor": "white"
           }
          },
          "shapedefaults": {
           "line": {
            "color": "#2a3f5f"
           }
          },
          "ternary": {
           "aaxis": {
            "gridcolor": "white",
            "linecolor": "white",
            "ticks": ""
           },
           "baxis": {
            "gridcolor": "white",
            "linecolor": "white",
            "ticks": ""
           },
           "bgcolor": "#E5ECF6",
           "caxis": {
            "gridcolor": "white",
            "linecolor": "white",
            "ticks": ""
           }
          },
          "title": {
           "x": 0.05
          },
          "xaxis": {
           "automargin": true,
           "gridcolor": "white",
           "linecolor": "white",
           "ticks": "",
           "title": {
            "standoff": 15
           },
           "zerolinecolor": "white",
           "zerolinewidth": 2
          },
          "yaxis": {
           "automargin": true,
           "gridcolor": "white",
           "linecolor": "white",
           "ticks": "",
           "title": {
            "standoff": 15
           },
           "zerolinecolor": "white",
           "zerolinewidth": 2
          }
         }
        },
        "xaxis": {
         "anchor": "y",
         "domain": [
          0,
          1
         ],
         "title": {
          "text": "ano_abert"
         }
        },
        "yaxis": {
         "anchor": "x",
         "domain": [
          0,
          1
         ],
         "title": {
          "text": "valores"
         }
        }
       }
      }
     },
     "metadata": {},
     "output_type": "display_data"
    }
   ],
   "source": [
    "ano_abertura = []\n",
    "ano_ultimo_lanc = []\n",
    "\n",
    "for i in df['contas'].index:\n",
    "    ano_abertura.append(int(datetime.strptime(df['contas']['data_abertura'][i].split()[0], \"%Y-%m-%d\").strftime(\"%Y\")))\n",
    "    ano_ultimo_lanc.append(int(datetime.strptime(df['contas']['data_ultimo_lancamento'][i].split()[0], \"%Y-%m-%d\").strftime(\"%Y\")))\n",
    "\n",
    "df['contas']['ano_abertura'] = ano_abertura\n",
    "df['contas']['ano_ultimo_lanc'] = ano_ultimo_lanc\n",
    "\n",
    "ano_abert_df = pd.DataFrame(df['contas']['ano_abertura'].value_counts())\n",
    "ano_abert_df = ano_abert_df.reset_index()\n",
    "ano_abert_df = ano_abert_df.rename(columns={'index': 'ano_abert', 'ano_abertura':'valores'})\n",
    "ano_abert_df = ano_abert_df.sort_values(by='ano_abert')\n",
    "\n",
    "px.line(ano_abert_df, x='ano_abert', y='valores')"
   ]
  },
  {
   "cell_type": "code",
   "execution_count": 13,
   "metadata": {},
   "outputs": [],
   "source": [
    "tempo_inativo = []\n",
    "for i in df['contas'].index:\n",
    "    tempo_inativo.append(df['contas']['ano_ultimo_lanc'][i] - df['contas']['ano_abertura'][i])\n",
    "\n",
    "df['contas']['t_inat'] = tempo_inativo"
   ]
  },
  {
   "cell_type": "code",
   "execution_count": 14,
   "metadata": {},
   "outputs": [
    {
     "data": {
      "application/vnd.plotly.v1+json": {
       "config": {
        "plotlyServerURL": "https://plot.ly"
       },
       "data": [
        {
         "alignmentgroup": "True",
         "boxpoints": "all",
         "hovertemplate": "variable=%{x}<br>value=%{y}<extra></extra>",
         "legendgroup": "",
         "marker": {
          "color": "#636efa"
         },
         "name": "",
         "notched": false,
         "offsetgroup": "",
         "orientation": "v",
         "showlegend": false,
         "type": "box",
         "x": [
          "t_inat",
          "t_inat",
          "t_inat",
          "t_inat",
          "t_inat",
          "t_inat",
          "t_inat",
          "t_inat",
          "t_inat",
          "t_inat",
          "t_inat",
          "t_inat",
          "t_inat",
          "t_inat",
          "t_inat",
          "t_inat",
          "t_inat",
          "t_inat",
          "t_inat",
          "t_inat",
          "t_inat",
          "t_inat",
          "t_inat",
          "t_inat",
          "t_inat",
          "t_inat",
          "t_inat",
          "t_inat",
          "t_inat",
          "t_inat",
          "t_inat",
          "t_inat",
          "t_inat",
          "t_inat",
          "t_inat",
          "t_inat",
          "t_inat",
          "t_inat",
          "t_inat",
          "t_inat",
          "t_inat",
          "t_inat",
          "t_inat",
          "t_inat",
          "t_inat",
          "t_inat",
          "t_inat",
          "t_inat",
          "t_inat",
          "t_inat",
          "t_inat",
          "t_inat",
          "t_inat",
          "t_inat",
          "t_inat",
          "t_inat",
          "t_inat",
          "t_inat",
          "t_inat",
          "t_inat",
          "t_inat",
          "t_inat",
          "t_inat",
          "t_inat",
          "t_inat",
          "t_inat",
          "t_inat",
          "t_inat",
          "t_inat",
          "t_inat",
          "t_inat",
          "t_inat",
          "t_inat",
          "t_inat",
          "t_inat",
          "t_inat",
          "t_inat",
          "t_inat",
          "t_inat",
          "t_inat",
          "t_inat",
          "t_inat",
          "t_inat",
          "t_inat",
          "t_inat",
          "t_inat",
          "t_inat",
          "t_inat",
          "t_inat",
          "t_inat",
          "t_inat",
          "t_inat",
          "t_inat",
          "t_inat",
          "t_inat",
          "t_inat",
          "t_inat",
          "t_inat",
          "t_inat",
          "t_inat",
          "t_inat",
          "t_inat",
          "t_inat",
          "t_inat",
          "t_inat",
          "t_inat",
          "t_inat",
          "t_inat",
          "t_inat",
          "t_inat",
          "t_inat",
          "t_inat",
          "t_inat",
          "t_inat",
          "t_inat",
          "t_inat",
          "t_inat",
          "t_inat",
          "t_inat",
          "t_inat",
          "t_inat",
          "t_inat",
          "t_inat",
          "t_inat",
          "t_inat",
          "t_inat",
          "t_inat",
          "t_inat",
          "t_inat",
          "t_inat",
          "t_inat",
          "t_inat",
          "t_inat",
          "t_inat",
          "t_inat",
          "t_inat",
          "t_inat",
          "t_inat",
          "t_inat",
          "t_inat",
          "t_inat",
          "t_inat",
          "t_inat",
          "t_inat",
          "t_inat",
          "t_inat",
          "t_inat",
          "t_inat",
          "t_inat",
          "t_inat",
          "t_inat",
          "t_inat",
          "t_inat",
          "t_inat",
          "t_inat",
          "t_inat",
          "t_inat",
          "t_inat",
          "t_inat",
          "t_inat",
          "t_inat",
          "t_inat",
          "t_inat",
          "t_inat",
          "t_inat",
          "t_inat",
          "t_inat",
          "t_inat",
          "t_inat",
          "t_inat",
          "t_inat",
          "t_inat",
          "t_inat",
          "t_inat",
          "t_inat",
          "t_inat",
          "t_inat",
          "t_inat",
          "t_inat",
          "t_inat",
          "t_inat",
          "t_inat",
          "t_inat",
          "t_inat",
          "t_inat",
          "t_inat",
          "t_inat",
          "t_inat",
          "t_inat",
          "t_inat",
          "t_inat",
          "t_inat",
          "t_inat",
          "t_inat",
          "t_inat",
          "t_inat",
          "t_inat",
          "t_inat",
          "t_inat",
          "t_inat",
          "t_inat",
          "t_inat",
          "t_inat",
          "t_inat",
          "t_inat",
          "t_inat",
          "t_inat",
          "t_inat",
          "t_inat",
          "t_inat",
          "t_inat",
          "t_inat",
          "t_inat",
          "t_inat",
          "t_inat",
          "t_inat",
          "t_inat",
          "t_inat",
          "t_inat",
          "t_inat",
          "t_inat",
          "t_inat",
          "t_inat",
          "t_inat",
          "t_inat",
          "t_inat",
          "t_inat",
          "t_inat",
          "t_inat",
          "t_inat",
          "t_inat",
          "t_inat",
          "t_inat",
          "t_inat",
          "t_inat",
          "t_inat",
          "t_inat",
          "t_inat",
          "t_inat",
          "t_inat",
          "t_inat",
          "t_inat",
          "t_inat",
          "t_inat",
          "t_inat",
          "t_inat",
          "t_inat",
          "t_inat",
          "t_inat",
          "t_inat",
          "t_inat",
          "t_inat",
          "t_inat",
          "t_inat",
          "t_inat",
          "t_inat",
          "t_inat",
          "t_inat",
          "t_inat",
          "t_inat",
          "t_inat",
          "t_inat",
          "t_inat",
          "t_inat",
          "t_inat",
          "t_inat",
          "t_inat",
          "t_inat",
          "t_inat",
          "t_inat",
          "t_inat",
          "t_inat",
          "t_inat",
          "t_inat",
          "t_inat",
          "t_inat",
          "t_inat",
          "t_inat",
          "t_inat",
          "t_inat",
          "t_inat",
          "t_inat",
          "t_inat",
          "t_inat",
          "t_inat",
          "t_inat",
          "t_inat",
          "t_inat",
          "t_inat",
          "t_inat",
          "t_inat",
          "t_inat",
          "t_inat",
          "t_inat",
          "t_inat",
          "t_inat",
          "t_inat",
          "t_inat",
          "t_inat",
          "t_inat",
          "t_inat",
          "t_inat",
          "t_inat",
          "t_inat",
          "t_inat",
          "t_inat",
          "t_inat",
          "t_inat",
          "t_inat",
          "t_inat",
          "t_inat",
          "t_inat",
          "t_inat",
          "t_inat",
          "t_inat",
          "t_inat",
          "t_inat",
          "t_inat",
          "t_inat",
          "t_inat",
          "t_inat",
          "t_inat",
          "t_inat",
          "t_inat",
          "t_inat",
          "t_inat",
          "t_inat",
          "t_inat",
          "t_inat",
          "t_inat",
          "t_inat",
          "t_inat",
          "t_inat",
          "t_inat",
          "t_inat",
          "t_inat",
          "t_inat",
          "t_inat",
          "t_inat",
          "t_inat",
          "t_inat",
          "t_inat",
          "t_inat",
          "t_inat",
          "t_inat",
          "t_inat",
          "t_inat",
          "t_inat",
          "t_inat",
          "t_inat",
          "t_inat",
          "t_inat",
          "t_inat",
          "t_inat",
          "t_inat",
          "t_inat",
          "t_inat",
          "t_inat",
          "t_inat",
          "t_inat",
          "t_inat",
          "t_inat",
          "t_inat",
          "t_inat",
          "t_inat",
          "t_inat",
          "t_inat",
          "t_inat",
          "t_inat",
          "t_inat",
          "t_inat",
          "t_inat",
          "t_inat",
          "t_inat",
          "t_inat",
          "t_inat",
          "t_inat",
          "t_inat",
          "t_inat",
          "t_inat",
          "t_inat",
          "t_inat",
          "t_inat",
          "t_inat",
          "t_inat",
          "t_inat",
          "t_inat",
          "t_inat",
          "t_inat",
          "t_inat",
          "t_inat",
          "t_inat",
          "t_inat",
          "t_inat",
          "t_inat",
          "t_inat",
          "t_inat",
          "t_inat",
          "t_inat",
          "t_inat",
          "t_inat",
          "t_inat",
          "t_inat",
          "t_inat",
          "t_inat",
          "t_inat",
          "t_inat",
          "t_inat",
          "t_inat",
          "t_inat",
          "t_inat",
          "t_inat",
          "t_inat",
          "t_inat",
          "t_inat",
          "t_inat",
          "t_inat",
          "t_inat",
          "t_inat",
          "t_inat",
          "t_inat",
          "t_inat",
          "t_inat",
          "t_inat",
          "t_inat",
          "t_inat",
          "t_inat",
          "t_inat",
          "t_inat",
          "t_inat",
          "t_inat",
          "t_inat",
          "t_inat",
          "t_inat",
          "t_inat",
          "t_inat",
          "t_inat",
          "t_inat",
          "t_inat",
          "t_inat",
          "t_inat",
          "t_inat",
          "t_inat",
          "t_inat",
          "t_inat",
          "t_inat",
          "t_inat",
          "t_inat",
          "t_inat",
          "t_inat",
          "t_inat",
          "t_inat",
          "t_inat",
          "t_inat",
          "t_inat",
          "t_inat",
          "t_inat",
          "t_inat",
          "t_inat",
          "t_inat",
          "t_inat",
          "t_inat",
          "t_inat",
          "t_inat",
          "t_inat",
          "t_inat",
          "t_inat",
          "t_inat",
          "t_inat",
          "t_inat",
          "t_inat",
          "t_inat",
          "t_inat",
          "t_inat",
          "t_inat",
          "t_inat",
          "t_inat",
          "t_inat",
          "t_inat",
          "t_inat",
          "t_inat",
          "t_inat",
          "t_inat",
          "t_inat",
          "t_inat",
          "t_inat",
          "t_inat",
          "t_inat",
          "t_inat",
          "t_inat",
          "t_inat",
          "t_inat",
          "t_inat",
          "t_inat",
          "t_inat",
          "t_inat",
          "t_inat",
          "t_inat",
          "t_inat",
          "t_inat",
          "t_inat",
          "t_inat",
          "t_inat",
          "t_inat",
          "t_inat",
          "t_inat",
          "t_inat",
          "t_inat",
          "t_inat",
          "t_inat",
          "t_inat",
          "t_inat",
          "t_inat",
          "t_inat",
          "t_inat",
          "t_inat",
          "t_inat",
          "t_inat",
          "t_inat",
          "t_inat",
          "t_inat",
          "t_inat",
          "t_inat",
          "t_inat",
          "t_inat",
          "t_inat",
          "t_inat",
          "t_inat",
          "t_inat",
          "t_inat",
          "t_inat",
          "t_inat",
          "t_inat",
          "t_inat",
          "t_inat",
          "t_inat",
          "t_inat",
          "t_inat",
          "t_inat",
          "t_inat",
          "t_inat",
          "t_inat",
          "t_inat",
          "t_inat",
          "t_inat",
          "t_inat",
          "t_inat",
          "t_inat",
          "t_inat",
          "t_inat",
          "t_inat",
          "t_inat",
          "t_inat",
          "t_inat",
          "t_inat",
          "t_inat",
          "t_inat",
          "t_inat",
          "t_inat",
          "t_inat",
          "t_inat",
          "t_inat",
          "t_inat",
          "t_inat",
          "t_inat",
          "t_inat",
          "t_inat",
          "t_inat",
          "t_inat",
          "t_inat",
          "t_inat",
          "t_inat",
          "t_inat",
          "t_inat",
          "t_inat",
          "t_inat",
          "t_inat",
          "t_inat",
          "t_inat",
          "t_inat",
          "t_inat",
          "t_inat",
          "t_inat",
          "t_inat",
          "t_inat",
          "t_inat",
          "t_inat",
          "t_inat",
          "t_inat",
          "t_inat",
          "t_inat",
          "t_inat",
          "t_inat",
          "t_inat",
          "t_inat",
          "t_inat",
          "t_inat",
          "t_inat",
          "t_inat",
          "t_inat",
          "t_inat",
          "t_inat",
          "t_inat",
          "t_inat",
          "t_inat",
          "t_inat",
          "t_inat",
          "t_inat",
          "t_inat",
          "t_inat",
          "t_inat",
          "t_inat",
          "t_inat",
          "t_inat",
          "t_inat",
          "t_inat",
          "t_inat",
          "t_inat",
          "t_inat",
          "t_inat",
          "t_inat",
          "t_inat",
          "t_inat",
          "t_inat",
          "t_inat",
          "t_inat",
          "t_inat",
          "t_inat",
          "t_inat",
          "t_inat",
          "t_inat",
          "t_inat",
          "t_inat",
          "t_inat",
          "t_inat",
          "t_inat",
          "t_inat",
          "t_inat",
          "t_inat",
          "t_inat",
          "t_inat",
          "t_inat",
          "t_inat",
          "t_inat",
          "t_inat",
          "t_inat",
          "t_inat",
          "t_inat",
          "t_inat",
          "t_inat",
          "t_inat",
          "t_inat",
          "t_inat",
          "t_inat",
          "t_inat",
          "t_inat",
          "t_inat",
          "t_inat",
          "t_inat",
          "t_inat",
          "t_inat",
          "t_inat",
          "t_inat",
          "t_inat",
          "t_inat",
          "t_inat",
          "t_inat",
          "t_inat",
          "t_inat",
          "t_inat",
          "t_inat",
          "t_inat",
          "t_inat",
          "t_inat",
          "t_inat",
          "t_inat",
          "t_inat",
          "t_inat",
          "t_inat",
          "t_inat",
          "t_inat",
          "t_inat",
          "t_inat",
          "t_inat",
          "t_inat",
          "t_inat",
          "t_inat",
          "t_inat",
          "t_inat",
          "t_inat",
          "t_inat",
          "t_inat",
          "t_inat",
          "t_inat",
          "t_inat",
          "t_inat",
          "t_inat",
          "t_inat",
          "t_inat",
          "t_inat",
          "t_inat",
          "t_inat",
          "t_inat",
          "t_inat",
          "t_inat",
          "t_inat",
          "t_inat",
          "t_inat",
          "t_inat",
          "t_inat",
          "t_inat",
          "t_inat",
          "t_inat",
          "t_inat",
          "t_inat",
          "t_inat",
          "t_inat",
          "t_inat",
          "t_inat",
          "t_inat",
          "t_inat",
          "t_inat",
          "t_inat",
          "t_inat",
          "t_inat",
          "t_inat",
          "t_inat",
          "t_inat",
          "t_inat",
          "t_inat",
          "t_inat",
          "t_inat",
          "t_inat",
          "t_inat",
          "t_inat",
          "t_inat",
          "t_inat",
          "t_inat",
          "t_inat",
          "t_inat",
          "t_inat",
          "t_inat",
          "t_inat",
          "t_inat",
          "t_inat",
          "t_inat",
          "t_inat",
          "t_inat",
          "t_inat",
          "t_inat",
          "t_inat",
          "t_inat",
          "t_inat",
          "t_inat",
          "t_inat",
          "t_inat",
          "t_inat",
          "t_inat",
          "t_inat",
          "t_inat",
          "t_inat",
          "t_inat",
          "t_inat",
          "t_inat",
          "t_inat",
          "t_inat",
          "t_inat",
          "t_inat",
          "t_inat",
          "t_inat",
          "t_inat",
          "t_inat",
          "t_inat",
          "t_inat",
          "t_inat",
          "t_inat",
          "t_inat",
          "t_inat",
          "t_inat",
          "t_inat",
          "t_inat",
          "t_inat",
          "t_inat",
          "t_inat",
          "t_inat",
          "t_inat",
          "t_inat",
          "t_inat",
          "t_inat",
          "t_inat",
          "t_inat",
          "t_inat",
          "t_inat",
          "t_inat",
          "t_inat",
          "t_inat",
          "t_inat",
          "t_inat",
          "t_inat",
          "t_inat",
          "t_inat",
          "t_inat",
          "t_inat",
          "t_inat",
          "t_inat",
          "t_inat",
          "t_inat",
          "t_inat",
          "t_inat",
          "t_inat",
          "t_inat",
          "t_inat",
          "t_inat",
          "t_inat",
          "t_inat",
          "t_inat",
          "t_inat",
          "t_inat",
          "t_inat",
          "t_inat",
          "t_inat",
          "t_inat",
          "t_inat",
          "t_inat",
          "t_inat",
          "t_inat",
          "t_inat",
          "t_inat",
          "t_inat",
          "t_inat",
          "t_inat",
          "t_inat",
          "t_inat",
          "t_inat",
          "t_inat",
          "t_inat",
          "t_inat",
          "t_inat",
          "t_inat",
          "t_inat",
          "t_inat",
          "t_inat",
          "t_inat",
          "t_inat",
          "t_inat",
          "t_inat",
          "t_inat",
          "t_inat",
          "t_inat",
          "t_inat",
          "t_inat",
          "t_inat",
          "t_inat",
          "t_inat",
          "t_inat",
          "t_inat",
          "t_inat",
          "t_inat",
          "t_inat",
          "t_inat",
          "t_inat",
          "t_inat",
          "t_inat",
          "t_inat",
          "t_inat",
          "t_inat",
          "t_inat",
          "t_inat",
          "t_inat",
          "t_inat",
          "t_inat",
          "t_inat",
          "t_inat",
          "t_inat",
          "t_inat",
          "t_inat",
          "t_inat",
          "t_inat",
          "t_inat",
          "t_inat",
          "t_inat",
          "t_inat",
          "t_inat",
          "t_inat",
          "t_inat",
          "t_inat",
          "t_inat",
          "t_inat",
          "t_inat",
          "t_inat",
          "t_inat",
          "t_inat",
          "t_inat",
          "t_inat",
          "t_inat",
          "t_inat",
          "t_inat",
          "t_inat",
          "t_inat",
          "t_inat",
          "t_inat",
          "t_inat",
          "t_inat",
          "t_inat",
          "t_inat",
          "t_inat",
          "t_inat",
          "t_inat",
          "t_inat",
          "t_inat",
          "t_inat",
          "t_inat",
          "t_inat",
          "t_inat",
          "t_inat",
          "t_inat",
          "t_inat",
          "t_inat",
          "t_inat",
          "t_inat",
          "t_inat",
          "t_inat",
          "t_inat",
          "t_inat",
          "t_inat",
          "t_inat",
          "t_inat",
          "t_inat",
          "t_inat",
          "t_inat",
          "t_inat",
          "t_inat",
          "t_inat",
          "t_inat",
          "t_inat",
          "t_inat",
          "t_inat",
          "t_inat",
          "t_inat",
          "t_inat",
          "t_inat",
          "t_inat",
          "t_inat",
          "t_inat",
          "t_inat",
          "t_inat",
          "t_inat",
          "t_inat",
          "t_inat",
          "t_inat",
          "t_inat",
          "t_inat",
          "t_inat",
          "t_inat",
          "t_inat",
          "t_inat",
          "t_inat",
          "t_inat",
          "t_inat",
          "t_inat",
          "t_inat",
          "t_inat",
          "t_inat",
          "t_inat",
          "t_inat",
          "t_inat",
          "t_inat",
          "t_inat",
          "t_inat",
          "t_inat",
          "t_inat",
          "t_inat",
          "t_inat",
          "t_inat",
          "t_inat",
          "t_inat",
          "t_inat",
          "t_inat",
          "t_inat",
          "t_inat",
          "t_inat",
          "t_inat",
          "t_inat",
          "t_inat",
          "t_inat",
          "t_inat",
          "t_inat",
          "t_inat",
          "t_inat",
          "t_inat",
          "t_inat",
          "t_inat",
          "t_inat",
          "t_inat",
          "t_inat",
          "t_inat",
          "t_inat",
          "t_inat",
          "t_inat"
         ],
         "x0": " ",
         "xaxis": "x",
         "y": [
          8,
          7,
          3,
          6,
          1,
          4,
          0,
          3,
          8,
          4,
          5,
          10,
          1,
          8,
          2,
          1,
          3,
          7,
          8,
          10,
          7,
          5,
          2,
          9,
          5,
          0,
          5,
          0,
          10,
          2,
          2,
          5,
          0,
          8,
          5,
          1,
          3,
          0,
          2,
          4,
          7,
          9,
          7,
          6,
          2,
          5,
          1,
          5,
          3,
          4,
          3,
          7,
          2,
          4,
          9,
          6,
          4,
          5,
          6,
          1,
          11,
          11,
          7,
          1,
          1,
          1,
          7,
          4,
          0,
          9,
          11,
          3,
          10,
          4,
          5,
          6,
          7,
          9,
          4,
          1,
          1,
          7,
          4,
          8,
          3,
          4,
          5,
          2,
          0,
          3,
          6,
          3,
          3,
          7,
          6,
          8,
          2,
          5,
          4,
          9,
          5,
          11,
          4,
          4,
          4,
          5,
          7,
          1,
          2,
          0,
          5,
          7,
          5,
          10,
          3,
          1,
          5,
          2,
          6,
          9,
          10,
          7,
          7,
          1,
          10,
          6,
          12,
          4,
          0,
          11,
          3,
          2,
          3,
          7,
          0,
          10,
          8,
          9,
          5,
          5,
          10,
          3,
          8,
          6,
          6,
          7,
          1,
          2,
          4,
          4,
          6,
          8,
          5,
          9,
          5,
          0,
          8,
          4,
          10,
          5,
          4,
          3,
          7,
          4,
          9,
          4,
          2,
          4,
          10,
          5,
          11,
          3,
          3,
          4,
          2,
          3,
          3,
          1,
          9,
          0,
          7,
          3,
          1,
          7,
          5,
          0,
          1,
          12,
          0,
          10,
          8,
          1,
          1,
          0,
          4,
          12,
          7,
          3,
          3,
          4,
          11,
          5,
          10,
          2,
          7,
          6,
          6,
          1,
          11,
          1,
          7,
          6,
          1,
          5,
          3,
          8,
          4,
          2,
          9,
          3,
          4,
          1,
          2,
          4,
          3,
          0,
          0,
          1,
          3,
          6,
          10,
          0,
          2,
          6,
          6,
          7,
          1,
          4,
          5,
          3,
          5,
          1,
          5,
          6,
          9,
          4,
          8,
          4,
          4,
          3,
          6,
          10,
          7,
          7,
          9,
          9,
          6,
          4,
          3,
          8,
          6,
          5,
          4,
          7,
          3,
          9,
          5,
          2,
          3,
          9,
          3,
          5,
          3,
          0,
          7,
          3,
          10,
          6,
          2,
          5,
          5,
          6,
          7,
          6,
          3,
          9,
          3,
          8,
          3,
          7,
          1,
          1,
          8,
          3,
          10,
          6,
          0,
          0,
          8,
          4,
          8,
          2,
          4,
          2,
          0,
          1,
          5,
          3,
          1,
          6,
          0,
          4,
          4,
          8,
          0,
          4,
          1,
          4,
          4,
          3,
          8,
          1,
          4,
          3,
          1,
          1,
          5,
          5,
          6,
          2,
          2,
          5,
          4,
          3,
          2,
          7,
          1,
          1,
          6,
          5,
          3,
          2,
          3,
          0,
          8,
          4,
          3,
          8,
          4,
          7,
          5,
          6,
          5,
          1,
          7,
          8,
          1,
          5,
          6,
          2,
          4,
          7,
          4,
          0,
          1,
          0,
          0,
          2,
          8,
          1,
          0,
          8,
          0,
          3,
          8,
          7,
          5,
          4,
          0,
          1,
          7,
          1,
          8,
          2,
          2,
          1,
          6,
          1,
          7,
          3,
          5,
          5,
          0,
          1,
          7,
          3,
          3,
          2,
          5,
          7,
          6,
          1,
          5,
          3,
          5,
          3,
          7,
          5,
          4,
          0,
          1,
          2,
          5,
          1,
          0,
          7,
          3,
          7,
          3,
          1,
          8,
          3,
          1,
          0,
          5,
          5,
          2,
          6,
          6,
          3,
          3,
          7,
          0,
          4,
          2,
          2,
          1,
          0,
          2,
          7,
          2,
          5,
          3,
          4,
          4,
          6,
          2,
          1,
          7,
          1,
          3,
          2,
          0,
          6,
          1,
          3,
          4,
          4,
          4,
          6,
          2,
          2,
          7,
          3,
          2,
          4,
          1,
          0,
          5,
          7,
          0,
          0,
          5,
          3,
          0,
          4,
          2,
          2,
          6,
          0,
          5,
          7,
          6,
          1,
          2,
          1,
          0,
          0,
          3,
          4,
          5,
          0,
          5,
          1,
          3,
          5,
          3,
          5,
          5,
          0,
          1,
          3,
          2,
          1,
          2,
          3,
          3,
          0,
          6,
          4,
          1,
          0,
          1,
          1,
          7,
          6,
          0,
          2,
          4,
          5,
          1,
          3,
          0,
          3,
          0,
          1,
          0,
          5,
          3,
          1,
          3,
          4,
          3,
          3,
          1,
          2,
          2,
          0,
          1,
          1,
          3,
          4,
          3,
          2,
          4,
          4,
          3,
          1,
          1,
          6,
          2,
          0,
          0,
          3,
          3,
          4,
          3,
          2,
          4,
          1,
          2,
          3,
          2,
          2,
          4,
          1,
          4,
          0,
          3,
          0,
          2,
          1,
          0,
          5,
          1,
          0,
          2,
          7,
          5,
          0,
          7,
          2,
          2,
          5,
          4,
          1,
          4,
          3,
          3,
          4,
          2,
          4,
          4,
          4,
          5,
          0,
          1,
          6,
          4,
          0,
          2,
          3,
          2,
          1,
          6,
          2,
          3,
          4,
          3,
          0,
          0,
          1,
          5,
          4,
          2,
          0,
          6,
          4,
          1,
          4,
          1,
          3,
          6,
          3,
          1,
          5,
          2,
          1,
          1,
          5,
          3,
          2,
          1,
          4,
          1,
          3,
          6,
          2,
          2,
          2,
          2,
          6,
          3,
          5,
          0,
          2,
          2,
          5,
          1,
          6,
          0,
          7,
          1,
          0,
          5,
          0,
          5,
          3,
          0,
          3,
          1,
          2,
          2,
          5,
          2,
          0,
          4,
          1,
          1,
          3,
          1,
          1,
          4,
          3,
          4,
          3,
          1,
          5,
          5,
          3,
          4,
          1,
          2,
          5,
          5,
          2,
          0,
          5,
          0,
          1,
          2,
          1,
          4,
          5,
          1,
          2,
          1,
          3,
          2,
          1,
          7,
          5,
          0,
          0,
          7,
          1,
          4,
          4,
          0,
          3,
          1,
          2,
          5,
          3,
          0,
          1,
          3,
          0,
          0,
          3,
          4,
          1,
          6,
          1,
          3,
          2,
          6,
          1,
          5,
          4,
          4,
          4,
          1,
          0,
          6,
          4,
          1,
          0,
          5,
          3,
          1,
          1,
          6,
          1,
          4,
          3,
          2,
          2,
          2,
          7,
          4,
          1,
          5,
          0,
          3,
          4,
          1,
          5,
          1,
          4,
          0,
          5,
          1,
          1,
          3,
          2,
          3,
          1,
          6,
          6,
          1,
          5,
          0,
          6,
          3,
          5,
          3,
          0,
          3,
          5,
          3,
          3,
          1,
          2,
          3,
          1,
          2,
          3,
          3,
          2,
          2,
          0,
          2,
          0,
          2,
          2,
          1,
          2,
          2,
          2,
          5,
          1,
          1,
          0,
          1,
          2,
          5,
          0,
          3,
          6,
          2,
          6,
          0,
          1,
          2,
          3,
          5,
          6,
          1,
          1,
          5,
          3,
          2,
          1,
          2,
          2,
          4,
          5,
          0,
          0,
          5,
          6,
          5,
          3,
          6,
          0,
          2,
          0,
          2,
          4,
          1,
          4,
          6,
          5,
          3,
          4,
          4,
          0,
          0,
          1,
          2,
          4,
          5,
          3,
          4,
          2,
          3,
          0,
          1,
          3,
          3,
          5,
          4,
          0,
          7,
          0,
          4,
          4,
          4,
          0,
          5,
          1,
          2,
          6,
          4,
          3,
          2,
          5,
          4,
          1,
          3,
          4,
          5,
          5,
          0,
          2,
          6,
          5,
          2,
          1,
          2,
          0,
          4,
          2,
          2,
          0,
          0,
          3,
          3,
          6,
          2,
          1,
          6,
          2,
          3,
          0,
          4,
          3,
          3,
          4,
          0,
          3,
          3,
          2,
          1,
          1,
          5,
          3,
          2,
          5,
          2,
          3,
          2,
          3,
          2,
          0,
          1,
          0,
          2,
          5,
          2,
          0,
          0,
          3,
          4,
          2,
          4,
          1,
          3,
          3,
          4,
          1,
          1,
          1,
          0,
          2,
          1,
          2,
          2,
          2,
          2,
          2,
          2,
          1,
          0,
          3,
          4,
          3,
          0,
          2,
          3,
          1,
          3,
          2,
          0,
          0,
          0,
          2,
          1,
          1,
          2,
          3,
          0,
          0,
          0,
          0,
          0,
          3,
          1,
          2,
          2,
          0,
          2,
          0,
          1,
          2,
          2,
          1,
          2,
          2,
          0,
          1,
          1,
          0,
          0,
          0,
          0,
          0,
          0
         ],
         "y0": " ",
         "yaxis": "y"
        }
       ],
       "layout": {
        "boxmode": "group",
        "legend": {
         "tracegroupgap": 0
        },
        "margin": {
         "t": 60
        },
        "template": {
         "data": {
          "bar": [
           {
            "error_x": {
             "color": "#2a3f5f"
            },
            "error_y": {
             "color": "#2a3f5f"
            },
            "marker": {
             "line": {
              "color": "#E5ECF6",
              "width": 0.5
             },
             "pattern": {
              "fillmode": "overlay",
              "size": 10,
              "solidity": 0.2
             }
            },
            "type": "bar"
           }
          ],
          "barpolar": [
           {
            "marker": {
             "line": {
              "color": "#E5ECF6",
              "width": 0.5
             },
             "pattern": {
              "fillmode": "overlay",
              "size": 10,
              "solidity": 0.2
             }
            },
            "type": "barpolar"
           }
          ],
          "carpet": [
           {
            "aaxis": {
             "endlinecolor": "#2a3f5f",
             "gridcolor": "white",
             "linecolor": "white",
             "minorgridcolor": "white",
             "startlinecolor": "#2a3f5f"
            },
            "baxis": {
             "endlinecolor": "#2a3f5f",
             "gridcolor": "white",
             "linecolor": "white",
             "minorgridcolor": "white",
             "startlinecolor": "#2a3f5f"
            },
            "type": "carpet"
           }
          ],
          "choropleth": [
           {
            "colorbar": {
             "outlinewidth": 0,
             "ticks": ""
            },
            "type": "choropleth"
           }
          ],
          "contour": [
           {
            "colorbar": {
             "outlinewidth": 0,
             "ticks": ""
            },
            "colorscale": [
             [
              0,
              "#0d0887"
             ],
             [
              0.1111111111111111,
              "#46039f"
             ],
             [
              0.2222222222222222,
              "#7201a8"
             ],
             [
              0.3333333333333333,
              "#9c179e"
             ],
             [
              0.4444444444444444,
              "#bd3786"
             ],
             [
              0.5555555555555556,
              "#d8576b"
             ],
             [
              0.6666666666666666,
              "#ed7953"
             ],
             [
              0.7777777777777778,
              "#fb9f3a"
             ],
             [
              0.8888888888888888,
              "#fdca26"
             ],
             [
              1,
              "#f0f921"
             ]
            ],
            "type": "contour"
           }
          ],
          "contourcarpet": [
           {
            "colorbar": {
             "outlinewidth": 0,
             "ticks": ""
            },
            "type": "contourcarpet"
           }
          ],
          "heatmap": [
           {
            "colorbar": {
             "outlinewidth": 0,
             "ticks": ""
            },
            "colorscale": [
             [
              0,
              "#0d0887"
             ],
             [
              0.1111111111111111,
              "#46039f"
             ],
             [
              0.2222222222222222,
              "#7201a8"
             ],
             [
              0.3333333333333333,
              "#9c179e"
             ],
             [
              0.4444444444444444,
              "#bd3786"
             ],
             [
              0.5555555555555556,
              "#d8576b"
             ],
             [
              0.6666666666666666,
              "#ed7953"
             ],
             [
              0.7777777777777778,
              "#fb9f3a"
             ],
             [
              0.8888888888888888,
              "#fdca26"
             ],
             [
              1,
              "#f0f921"
             ]
            ],
            "type": "heatmap"
           }
          ],
          "heatmapgl": [
           {
            "colorbar": {
             "outlinewidth": 0,
             "ticks": ""
            },
            "colorscale": [
             [
              0,
              "#0d0887"
             ],
             [
              0.1111111111111111,
              "#46039f"
             ],
             [
              0.2222222222222222,
              "#7201a8"
             ],
             [
              0.3333333333333333,
              "#9c179e"
             ],
             [
              0.4444444444444444,
              "#bd3786"
             ],
             [
              0.5555555555555556,
              "#d8576b"
             ],
             [
              0.6666666666666666,
              "#ed7953"
             ],
             [
              0.7777777777777778,
              "#fb9f3a"
             ],
             [
              0.8888888888888888,
              "#fdca26"
             ],
             [
              1,
              "#f0f921"
             ]
            ],
            "type": "heatmapgl"
           }
          ],
          "histogram": [
           {
            "marker": {
             "pattern": {
              "fillmode": "overlay",
              "size": 10,
              "solidity": 0.2
             }
            },
            "type": "histogram"
           }
          ],
          "histogram2d": [
           {
            "colorbar": {
             "outlinewidth": 0,
             "ticks": ""
            },
            "colorscale": [
             [
              0,
              "#0d0887"
             ],
             [
              0.1111111111111111,
              "#46039f"
             ],
             [
              0.2222222222222222,
              "#7201a8"
             ],
             [
              0.3333333333333333,
              "#9c179e"
             ],
             [
              0.4444444444444444,
              "#bd3786"
             ],
             [
              0.5555555555555556,
              "#d8576b"
             ],
             [
              0.6666666666666666,
              "#ed7953"
             ],
             [
              0.7777777777777778,
              "#fb9f3a"
             ],
             [
              0.8888888888888888,
              "#fdca26"
             ],
             [
              1,
              "#f0f921"
             ]
            ],
            "type": "histogram2d"
           }
          ],
          "histogram2dcontour": [
           {
            "colorbar": {
             "outlinewidth": 0,
             "ticks": ""
            },
            "colorscale": [
             [
              0,
              "#0d0887"
             ],
             [
              0.1111111111111111,
              "#46039f"
             ],
             [
              0.2222222222222222,
              "#7201a8"
             ],
             [
              0.3333333333333333,
              "#9c179e"
             ],
             [
              0.4444444444444444,
              "#bd3786"
             ],
             [
              0.5555555555555556,
              "#d8576b"
             ],
             [
              0.6666666666666666,
              "#ed7953"
             ],
             [
              0.7777777777777778,
              "#fb9f3a"
             ],
             [
              0.8888888888888888,
              "#fdca26"
             ],
             [
              1,
              "#f0f921"
             ]
            ],
            "type": "histogram2dcontour"
           }
          ],
          "mesh3d": [
           {
            "colorbar": {
             "outlinewidth": 0,
             "ticks": ""
            },
            "type": "mesh3d"
           }
          ],
          "parcoords": [
           {
            "line": {
             "colorbar": {
              "outlinewidth": 0,
              "ticks": ""
             }
            },
            "type": "parcoords"
           }
          ],
          "pie": [
           {
            "automargin": true,
            "type": "pie"
           }
          ],
          "scatter": [
           {
            "marker": {
             "colorbar": {
              "outlinewidth": 0,
              "ticks": ""
             }
            },
            "type": "scatter"
           }
          ],
          "scatter3d": [
           {
            "line": {
             "colorbar": {
              "outlinewidth": 0,
              "ticks": ""
             }
            },
            "marker": {
             "colorbar": {
              "outlinewidth": 0,
              "ticks": ""
             }
            },
            "type": "scatter3d"
           }
          ],
          "scattercarpet": [
           {
            "marker": {
             "colorbar": {
              "outlinewidth": 0,
              "ticks": ""
             }
            },
            "type": "scattercarpet"
           }
          ],
          "scattergeo": [
           {
            "marker": {
             "colorbar": {
              "outlinewidth": 0,
              "ticks": ""
             }
            },
            "type": "scattergeo"
           }
          ],
          "scattergl": [
           {
            "marker": {
             "colorbar": {
              "outlinewidth": 0,
              "ticks": ""
             }
            },
            "type": "scattergl"
           }
          ],
          "scattermapbox": [
           {
            "marker": {
             "colorbar": {
              "outlinewidth": 0,
              "ticks": ""
             }
            },
            "type": "scattermapbox"
           }
          ],
          "scatterpolar": [
           {
            "marker": {
             "colorbar": {
              "outlinewidth": 0,
              "ticks": ""
             }
            },
            "type": "scatterpolar"
           }
          ],
          "scatterpolargl": [
           {
            "marker": {
             "colorbar": {
              "outlinewidth": 0,
              "ticks": ""
             }
            },
            "type": "scatterpolargl"
           }
          ],
          "scatterternary": [
           {
            "marker": {
             "colorbar": {
              "outlinewidth": 0,
              "ticks": ""
             }
            },
            "type": "scatterternary"
           }
          ],
          "surface": [
           {
            "colorbar": {
             "outlinewidth": 0,
             "ticks": ""
            },
            "colorscale": [
             [
              0,
              "#0d0887"
             ],
             [
              0.1111111111111111,
              "#46039f"
             ],
             [
              0.2222222222222222,
              "#7201a8"
             ],
             [
              0.3333333333333333,
              "#9c179e"
             ],
             [
              0.4444444444444444,
              "#bd3786"
             ],
             [
              0.5555555555555556,
              "#d8576b"
             ],
             [
              0.6666666666666666,
              "#ed7953"
             ],
             [
              0.7777777777777778,
              "#fb9f3a"
             ],
             [
              0.8888888888888888,
              "#fdca26"
             ],
             [
              1,
              "#f0f921"
             ]
            ],
            "type": "surface"
           }
          ],
          "table": [
           {
            "cells": {
             "fill": {
              "color": "#EBF0F8"
             },
             "line": {
              "color": "white"
             }
            },
            "header": {
             "fill": {
              "color": "#C8D4E3"
             },
             "line": {
              "color": "white"
             }
            },
            "type": "table"
           }
          ]
         },
         "layout": {
          "annotationdefaults": {
           "arrowcolor": "#2a3f5f",
           "arrowhead": 0,
           "arrowwidth": 1
          },
          "autotypenumbers": "strict",
          "coloraxis": {
           "colorbar": {
            "outlinewidth": 0,
            "ticks": ""
           }
          },
          "colorscale": {
           "diverging": [
            [
             0,
             "#8e0152"
            ],
            [
             0.1,
             "#c51b7d"
            ],
            [
             0.2,
             "#de77ae"
            ],
            [
             0.3,
             "#f1b6da"
            ],
            [
             0.4,
             "#fde0ef"
            ],
            [
             0.5,
             "#f7f7f7"
            ],
            [
             0.6,
             "#e6f5d0"
            ],
            [
             0.7,
             "#b8e186"
            ],
            [
             0.8,
             "#7fbc41"
            ],
            [
             0.9,
             "#4d9221"
            ],
            [
             1,
             "#276419"
            ]
           ],
           "sequential": [
            [
             0,
             "#0d0887"
            ],
            [
             0.1111111111111111,
             "#46039f"
            ],
            [
             0.2222222222222222,
             "#7201a8"
            ],
            [
             0.3333333333333333,
             "#9c179e"
            ],
            [
             0.4444444444444444,
             "#bd3786"
            ],
            [
             0.5555555555555556,
             "#d8576b"
            ],
            [
             0.6666666666666666,
             "#ed7953"
            ],
            [
             0.7777777777777778,
             "#fb9f3a"
            ],
            [
             0.8888888888888888,
             "#fdca26"
            ],
            [
             1,
             "#f0f921"
            ]
           ],
           "sequentialminus": [
            [
             0,
             "#0d0887"
            ],
            [
             0.1111111111111111,
             "#46039f"
            ],
            [
             0.2222222222222222,
             "#7201a8"
            ],
            [
             0.3333333333333333,
             "#9c179e"
            ],
            [
             0.4444444444444444,
             "#bd3786"
            ],
            [
             0.5555555555555556,
             "#d8576b"
            ],
            [
             0.6666666666666666,
             "#ed7953"
            ],
            [
             0.7777777777777778,
             "#fb9f3a"
            ],
            [
             0.8888888888888888,
             "#fdca26"
            ],
            [
             1,
             "#f0f921"
            ]
           ]
          },
          "colorway": [
           "#636efa",
           "#EF553B",
           "#00cc96",
           "#ab63fa",
           "#FFA15A",
           "#19d3f3",
           "#FF6692",
           "#B6E880",
           "#FF97FF",
           "#FECB52"
          ],
          "font": {
           "color": "#2a3f5f"
          },
          "geo": {
           "bgcolor": "white",
           "lakecolor": "white",
           "landcolor": "#E5ECF6",
           "showlakes": true,
           "showland": true,
           "subunitcolor": "white"
          },
          "hoverlabel": {
           "align": "left"
          },
          "hovermode": "closest",
          "mapbox": {
           "style": "light"
          },
          "paper_bgcolor": "white",
          "plot_bgcolor": "#E5ECF6",
          "polar": {
           "angularaxis": {
            "gridcolor": "white",
            "linecolor": "white",
            "ticks": ""
           },
           "bgcolor": "#E5ECF6",
           "radialaxis": {
            "gridcolor": "white",
            "linecolor": "white",
            "ticks": ""
           }
          },
          "scene": {
           "xaxis": {
            "backgroundcolor": "#E5ECF6",
            "gridcolor": "white",
            "gridwidth": 2,
            "linecolor": "white",
            "showbackground": true,
            "ticks": "",
            "zerolinecolor": "white"
           },
           "yaxis": {
            "backgroundcolor": "#E5ECF6",
            "gridcolor": "white",
            "gridwidth": 2,
            "linecolor": "white",
            "showbackground": true,
            "ticks": "",
            "zerolinecolor": "white"
           },
           "zaxis": {
            "backgroundcolor": "#E5ECF6",
            "gridcolor": "white",
            "gridwidth": 2,
            "linecolor": "white",
            "showbackground": true,
            "ticks": "",
            "zerolinecolor": "white"
           }
          },
          "shapedefaults": {
           "line": {
            "color": "#2a3f5f"
           }
          },
          "ternary": {
           "aaxis": {
            "gridcolor": "white",
            "linecolor": "white",
            "ticks": ""
           },
           "baxis": {
            "gridcolor": "white",
            "linecolor": "white",
            "ticks": ""
           },
           "bgcolor": "#E5ECF6",
           "caxis": {
            "gridcolor": "white",
            "linecolor": "white",
            "ticks": ""
           }
          },
          "title": {
           "x": 0.05
          },
          "xaxis": {
           "automargin": true,
           "gridcolor": "white",
           "linecolor": "white",
           "ticks": "",
           "title": {
            "standoff": 15
           },
           "zerolinecolor": "white",
           "zerolinewidth": 2
          },
          "yaxis": {
           "automargin": true,
           "gridcolor": "white",
           "linecolor": "white",
           "ticks": "",
           "title": {
            "standoff": 15
           },
           "zerolinecolor": "white",
           "zerolinewidth": 2
          }
         }
        },
        "xaxis": {
         "anchor": "y",
         "domain": [
          0,
          1
         ],
         "title": {
          "text": "variable"
         }
        },
        "yaxis": {
         "anchor": "x",
         "domain": [
          0,
          1
         ],
         "title": {
          "text": "value"
         }
        }
       }
      }
     },
     "metadata": {},
     "output_type": "display_data"
    }
   ],
   "source": [
    "fig = px.box(df['contas']['t_inat'], points=\"all\")\n",
    "\n",
    "fig.show()"
   ]
  },
  {
   "cell_type": "markdown",
   "metadata": {},
   "source": [
    "Intervalos:\n",
    "- Q1: 0 a 1\n",
    "- Q2: 1 a 3\n",
    "- Q3: 3 a 5\n",
    "- Q4: 5 a 11"
   ]
  },
  {
   "cell_type": "markdown",
   "metadata": {},
   "source": [
    "### Propostas de Crédito"
   ]
  },
  {
   "cell_type": "code",
   "execution_count": 15,
   "metadata": {},
   "outputs": [
    {
     "name": "stdout",
     "output_type": "stream",
     "text": [
      "<class 'pandas.core.frame.DataFrame'>\n",
      "RangeIndex: 2000 entries, 0 to 1999\n",
      "Data columns (total 12 columns):\n",
      " #   Column                 Non-Null Count  Dtype  \n",
      "---  ------                 --------------  -----  \n",
      " 0   cod_proposta           2000 non-null   int64  \n",
      " 1   cod_cliente            2000 non-null   int64  \n",
      " 2   cod_colaborador        2000 non-null   int64  \n",
      " 3   data_entrada_proposta  2000 non-null   object \n",
      " 4   taxa_juros_mensal      2000 non-null   float64\n",
      " 5   valor_proposta         2000 non-null   float64\n",
      " 6   valor_financiamento    2000 non-null   float64\n",
      " 7   valor_entrada          2000 non-null   float64\n",
      " 8   valor_prestacao        2000 non-null   float64\n",
      " 9   quantidade_parcelas    2000 non-null   int64  \n",
      " 10  carencia               2000 non-null   int64  \n",
      " 11  status_proposta        2000 non-null   object \n",
      "dtypes: float64(5), int64(5), object(2)\n",
      "memory usage: 187.6+ KB\n"
     ]
    }
   ],
   "source": [
    "df['propostas_credito'].info()"
   ]
  },
  {
   "cell_type": "code",
   "execution_count": 16,
   "metadata": {},
   "outputs": [
    {
     "data": {
      "text/html": [
       "<div>\n",
       "<style scoped>\n",
       "    .dataframe tbody tr th:only-of-type {\n",
       "        vertical-align: middle;\n",
       "    }\n",
       "\n",
       "    .dataframe tbody tr th {\n",
       "        vertical-align: top;\n",
       "    }\n",
       "\n",
       "    .dataframe thead th {\n",
       "        text-align: right;\n",
       "    }\n",
       "</style>\n",
       "<table border=\"1\" class=\"dataframe\">\n",
       "  <thead>\n",
       "    <tr style=\"text-align: right;\">\n",
       "      <th></th>\n",
       "      <th>cod_proposta</th>\n",
       "      <th>cod_cliente</th>\n",
       "      <th>cod_colaborador</th>\n",
       "      <th>data_entrada_proposta</th>\n",
       "      <th>taxa_juros_mensal</th>\n",
       "      <th>valor_proposta</th>\n",
       "      <th>valor_financiamento</th>\n",
       "      <th>valor_entrada</th>\n",
       "      <th>valor_prestacao</th>\n",
       "      <th>quantidade_parcelas</th>\n",
       "      <th>carencia</th>\n",
       "      <th>status_proposta</th>\n",
       "    </tr>\n",
       "  </thead>\n",
       "  <tbody>\n",
       "    <tr>\n",
       "      <th>0</th>\n",
       "      <td>116</td>\n",
       "      <td>338</td>\n",
       "      <td>1</td>\n",
       "      <td>2014-05-30 18:43:12 UTC</td>\n",
       "      <td>0.0194</td>\n",
       "      <td>36199.950355</td>\n",
       "      <td>50032.03</td>\n",
       "      <td>13832.079645</td>\n",
       "      <td>1045.219825</td>\n",
       "      <td>58</td>\n",
       "      <td>0</td>\n",
       "      <td>Enviada</td>\n",
       "    </tr>\n",
       "    <tr>\n",
       "      <th>1</th>\n",
       "      <td>715</td>\n",
       "      <td>45</td>\n",
       "      <td>1</td>\n",
       "      <td>2021-06-17 13:09:32 UTC</td>\n",
       "      <td>0.0131</td>\n",
       "      <td>12897.538285</td>\n",
       "      <td>19848.55</td>\n",
       "      <td>6951.011715</td>\n",
       "      <td>232.124685</td>\n",
       "      <td>100</td>\n",
       "      <td>1</td>\n",
       "      <td>Enviada</td>\n",
       "    </tr>\n",
       "    <tr>\n",
       "      <th>2</th>\n",
       "      <td>755</td>\n",
       "      <td>494</td>\n",
       "      <td>1</td>\n",
       "      <td>2021-08-10 04:24:02 UTC</td>\n",
       "      <td>0.0203</td>\n",
       "      <td>122236.312551</td>\n",
       "      <td>187154.36</td>\n",
       "      <td>64918.047449</td>\n",
       "      <td>3673.518951</td>\n",
       "      <td>56</td>\n",
       "      <td>0</td>\n",
       "      <td>Enviada</td>\n",
       "    </tr>\n",
       "    <tr>\n",
       "      <th>3</th>\n",
       "      <td>953</td>\n",
       "      <td>381</td>\n",
       "      <td>1</td>\n",
       "      <td>2011-02-23 07:57:58 UTC</td>\n",
       "      <td>0.0167</td>\n",
       "      <td>47784.649757</td>\n",
       "      <td>59530.61</td>\n",
       "      <td>11745.960243</td>\n",
       "      <td>955.041560</td>\n",
       "      <td>109</td>\n",
       "      <td>3</td>\n",
       "      <td>Enviada</td>\n",
       "    </tr>\n",
       "    <tr>\n",
       "      <th>4</th>\n",
       "      <td>1046</td>\n",
       "      <td>176</td>\n",
       "      <td>1</td>\n",
       "      <td>2010-11-15 16:03:28 UTC</td>\n",
       "      <td>0.0211</td>\n",
       "      <td>178393.038243</td>\n",
       "      <td>214294.19</td>\n",
       "      <td>35901.151757</td>\n",
       "      <td>10219.659415</td>\n",
       "      <td>22</td>\n",
       "      <td>4</td>\n",
       "      <td>Enviada</td>\n",
       "    </tr>\n",
       "    <tr>\n",
       "      <th>...</th>\n",
       "      <td>...</td>\n",
       "      <td>...</td>\n",
       "      <td>...</td>\n",
       "      <td>...</td>\n",
       "      <td>...</td>\n",
       "      <td>...</td>\n",
       "      <td>...</td>\n",
       "      <td>...</td>\n",
       "      <td>...</td>\n",
       "      <td>...</td>\n",
       "      <td>...</td>\n",
       "      <td>...</td>\n",
       "    </tr>\n",
       "    <tr>\n",
       "      <th>1995</th>\n",
       "      <td>1758</td>\n",
       "      <td>176</td>\n",
       "      <td>99</td>\n",
       "      <td>2010-01-10 08:12:47 UTC</td>\n",
       "      <td>0.0133</td>\n",
       "      <td>96404.111608</td>\n",
       "      <td>184043.36</td>\n",
       "      <td>87639.248392</td>\n",
       "      <td>1673.386037</td>\n",
       "      <td>110</td>\n",
       "      <td>6</td>\n",
       "      <td>Validação documentos</td>\n",
       "    </tr>\n",
       "    <tr>\n",
       "      <th>1996</th>\n",
       "      <td>582</td>\n",
       "      <td>241</td>\n",
       "      <td>100</td>\n",
       "      <td>2019-02-25 05:03:22 UTC</td>\n",
       "      <td>0.0151</td>\n",
       "      <td>61292.834593</td>\n",
       "      <td>82684.29</td>\n",
       "      <td>21391.455407</td>\n",
       "      <td>2219.574245</td>\n",
       "      <td>36</td>\n",
       "      <td>2</td>\n",
       "      <td>Validação documentos</td>\n",
       "    </tr>\n",
       "    <tr>\n",
       "      <th>1997</th>\n",
       "      <td>970</td>\n",
       "      <td>106</td>\n",
       "      <td>100</td>\n",
       "      <td>2011-06-05 04:13:16 UTC</td>\n",
       "      <td>0.0225</td>\n",
       "      <td>100371.681790</td>\n",
       "      <td>152272.50</td>\n",
       "      <td>51900.818210</td>\n",
       "      <td>3482.000980</td>\n",
       "      <td>47</td>\n",
       "      <td>2</td>\n",
       "      <td>Validação documentos</td>\n",
       "    </tr>\n",
       "    <tr>\n",
       "      <th>1998</th>\n",
       "      <td>1361</td>\n",
       "      <td>814</td>\n",
       "      <td>100</td>\n",
       "      <td>2020-07-25 20:50:30 UTC</td>\n",
       "      <td>0.0227</td>\n",
       "      <td>45431.892941</td>\n",
       "      <td>74490.36</td>\n",
       "      <td>29058.467059</td>\n",
       "      <td>1326.031489</td>\n",
       "      <td>67</td>\n",
       "      <td>5</td>\n",
       "      <td>Validação documentos</td>\n",
       "    </tr>\n",
       "    <tr>\n",
       "      <th>1999</th>\n",
       "      <td>1562</td>\n",
       "      <td>998</td>\n",
       "      <td>100</td>\n",
       "      <td>2017-03-22 12:25:42 UTC</td>\n",
       "      <td>0.0147</td>\n",
       "      <td>114794.473196</td>\n",
       "      <td>165036.26</td>\n",
       "      <td>50241.786804</td>\n",
       "      <td>3505.120046</td>\n",
       "      <td>45</td>\n",
       "      <td>0</td>\n",
       "      <td>Validação documentos</td>\n",
       "    </tr>\n",
       "  </tbody>\n",
       "</table>\n",
       "<p>2000 rows × 12 columns</p>\n",
       "</div>"
      ],
      "text/plain": [
       "      cod_proposta  cod_cliente  cod_colaborador    data_entrada_proposta  \\\n",
       "0              116          338                1  2014-05-30 18:43:12 UTC   \n",
       "1              715           45                1  2021-06-17 13:09:32 UTC   \n",
       "2              755          494                1  2021-08-10 04:24:02 UTC   \n",
       "3              953          381                1  2011-02-23 07:57:58 UTC   \n",
       "4             1046          176                1  2010-11-15 16:03:28 UTC   \n",
       "...            ...          ...              ...                      ...   \n",
       "1995          1758          176               99  2010-01-10 08:12:47 UTC   \n",
       "1996           582          241              100  2019-02-25 05:03:22 UTC   \n",
       "1997           970          106              100  2011-06-05 04:13:16 UTC   \n",
       "1998          1361          814              100  2020-07-25 20:50:30 UTC   \n",
       "1999          1562          998              100  2017-03-22 12:25:42 UTC   \n",
       "\n",
       "      taxa_juros_mensal  valor_proposta  valor_financiamento  valor_entrada  \\\n",
       "0                0.0194    36199.950355             50032.03   13832.079645   \n",
       "1                0.0131    12897.538285             19848.55    6951.011715   \n",
       "2                0.0203   122236.312551            187154.36   64918.047449   \n",
       "3                0.0167    47784.649757             59530.61   11745.960243   \n",
       "4                0.0211   178393.038243            214294.19   35901.151757   \n",
       "...                 ...             ...                  ...            ...   \n",
       "1995             0.0133    96404.111608            184043.36   87639.248392   \n",
       "1996             0.0151    61292.834593             82684.29   21391.455407   \n",
       "1997             0.0225   100371.681790            152272.50   51900.818210   \n",
       "1998             0.0227    45431.892941             74490.36   29058.467059   \n",
       "1999             0.0147   114794.473196            165036.26   50241.786804   \n",
       "\n",
       "      valor_prestacao  quantidade_parcelas  carencia       status_proposta  \n",
       "0         1045.219825                   58         0               Enviada  \n",
       "1          232.124685                  100         1               Enviada  \n",
       "2         3673.518951                   56         0               Enviada  \n",
       "3          955.041560                  109         3               Enviada  \n",
       "4        10219.659415                   22         4               Enviada  \n",
       "...               ...                  ...       ...                   ...  \n",
       "1995      1673.386037                  110         6  Validação documentos  \n",
       "1996      2219.574245                   36         2  Validação documentos  \n",
       "1997      3482.000980                   47         2  Validação documentos  \n",
       "1998      1326.031489                   67         5  Validação documentos  \n",
       "1999      3505.120046                   45         0  Validação documentos  \n",
       "\n",
       "[2000 rows x 12 columns]"
      ]
     },
     "execution_count": 16,
     "metadata": {},
     "output_type": "execute_result"
    }
   ],
   "source": [
    "df['propostas_credito']"
   ]
  },
  {
   "cell_type": "code",
   "execution_count": 17,
   "metadata": {},
   "outputs": [
    {
     "data": {
      "text/plain": [
       "18    34\n",
       "99    33\n",
       "73    33\n",
       "27    31\n",
       "37    30\n",
       "      ..\n",
       "35    11\n",
       "9     11\n",
       "8     10\n",
       "57    10\n",
       "50     8\n",
       "Name: cod_colaborador, Length: 100, dtype: int64"
      ]
     },
     "execution_count": 17,
     "metadata": {},
     "output_type": "execute_result"
    }
   ],
   "source": [
    "df['propostas_credito']['cod_colaborador'].value_counts()"
   ]
  },
  {
   "cell_type": "code",
   "execution_count": 18,
   "metadata": {},
   "outputs": [
    {
     "data": {
      "text/plain": [
       "Enviada                 527\n",
       "Aprovada                514\n",
       "Validação documentos    491\n",
       "Em análise              468\n",
       "Name: status_proposta, dtype: int64"
      ]
     },
     "execution_count": 18,
     "metadata": {},
     "output_type": "execute_result"
    }
   ],
   "source": [
    "df['propostas_credito']['status_proposta'].value_counts()"
   ]
  },
  {
   "cell_type": "markdown",
   "metadata": {},
   "source": [
    "### Transações"
   ]
  },
  {
   "cell_type": "code",
   "execution_count": 19,
   "metadata": {},
   "outputs": [
    {
     "name": "stdout",
     "output_type": "stream",
     "text": [
      "<class 'pandas.core.frame.DataFrame'>\n",
      "RangeIndex: 71999 entries, 0 to 71998\n",
      "Data columns (total 5 columns):\n",
      " #   Column           Non-Null Count  Dtype  \n",
      "---  ------           --------------  -----  \n",
      " 0   cod_transacao    71999 non-null  int64  \n",
      " 1   num_conta        71999 non-null  int64  \n",
      " 2   data_transacao   71999 non-null  object \n",
      " 3   nome_transacao   71999 non-null  object \n",
      " 4   valor_transacao  71999 non-null  float64\n",
      "dtypes: float64(1), int64(2), object(2)\n",
      "memory usage: 2.7+ MB\n"
     ]
    }
   ],
   "source": [
    "df['transacoes'].info()"
   ]
  },
  {
   "cell_type": "code",
   "execution_count": 23,
   "metadata": {},
   "outputs": [],
   "source": [
    "mes = []\n",
    "ano = []\n",
    "\n",
    "for i in range(len(df['transacoes']['data_transacao'])):\n",
    "    mes.append(int(datetime.strptime(df['transacoes']['data_transacao'][i].split()[0], \"%Y-%m-%d\").strftime(\"%m\")))\n",
    "    ano.append(int(datetime.strptime(df['transacoes']['data_transacao'][i].split()[0], \"%Y-%m-%d\").strftime(\"%Y\")))\n",
    "\n",
    "df['transacoes']['ano'] = ano\n",
    "df['transacoes']['mes'] = mes\n",
    "\n",
    "# uma análise inicial dos dados permitiu identificar que os dados do ano 2023 estão incompletos, havendo informações referentes apenas ao primeiro trimestre, logo este ano será removido do conjunto de dados para as análises seguintes\n",
    "\n",
    "df['transacoes'] = df['transacoes'].drop(df['transacoes'][df['transacoes']['ano'] == 2023].index)"
   ]
  },
  {
   "cell_type": "code",
   "execution_count": 24,
   "metadata": {},
   "outputs": [],
   "source": [
    "transac_por_conta = df['transacoes']['num_conta'].value_counts()\n",
    "\n",
    "agencias = {}\n",
    "\n",
    "for i in df['agencias']['cod_agencia'].unique():\n",
    "    df_local = pd.DataFrame(df['contas'][df['contas']['cod_agencia'] == i]['cod_cliente'])\n",
    "    df_local['num_trans'] = df_local['cod_cliente'].map(transac_por_conta)\n",
    "    agencias[i] = df_local['num_trans'].sum(axis=0)"
   ]
  },
  {
   "cell_type": "markdown",
   "metadata": {},
   "source": [
    "A agência com maior quantidade de transações é a Agência Digital, o que aponta para o maior investimento"
   ]
  },
  {
   "cell_type": "code",
   "execution_count": 26,
   "metadata": {},
   "outputs": [
    {
     "data": {
      "application/vnd.plotly.v1+json": {
       "config": {
        "plotlyServerURL": "https://plot.ly"
       },
       "data": [
        {
         "alignmentgroup": "True",
         "hovertemplate": "tipo_agencia=Digital<br>nome=%{x}<br>num_trans=%{y}<extra></extra>",
         "legendgroup": "Digital",
         "marker": {
          "color": "#636efa",
          "pattern": {
           "shape": ""
          }
         },
         "name": "Digital",
         "offsetgroup": "Digital",
         "orientation": "v",
         "showlegend": true,
         "textposition": "auto",
         "type": "bar",
         "x": [
          "Agência Digital"
         ],
         "xaxis": "x",
         "y": [
          32825
         ],
         "yaxis": "y"
        },
        {
         "alignmentgroup": "True",
         "hovertemplate": "tipo_agencia=Física<br>nome=%{x}<br>num_trans=%{y}<extra></extra>",
         "legendgroup": "Física",
         "marker": {
          "color": "#EF553B",
          "pattern": {
           "shape": ""
          }
         },
         "name": "Física",
         "offsetgroup": "Física",
         "orientation": "v",
         "showlegend": true,
         "textposition": "auto",
         "type": "bar",
         "x": [
          "Agência Matriz",
          "Agência Tatuapé",
          "Agência Campinas",
          "Agência Osasco",
          "Agência Porto Alegre",
          "Agência Rio de Janeiro",
          "Agência Jardins",
          "Agência Florianópolis",
          "Agência Recife"
         ],
         "xaxis": "x",
         "y": [
          8527,
          7156,
          5433,
          4697,
          4474,
          3779,
          2109,
          2066,
          374
         ],
         "yaxis": "y"
        }
       ],
       "layout": {
        "barmode": "relative",
        "legend": {
         "title": {
          "text": "tipo_agencia"
         },
         "tracegroupgap": 0
        },
        "margin": {
         "t": 60
        },
        "template": {
         "data": {
          "bar": [
           {
            "error_x": {
             "color": "#2a3f5f"
            },
            "error_y": {
             "color": "#2a3f5f"
            },
            "marker": {
             "line": {
              "color": "#E5ECF6",
              "width": 0.5
             },
             "pattern": {
              "fillmode": "overlay",
              "size": 10,
              "solidity": 0.2
             }
            },
            "type": "bar"
           }
          ],
          "barpolar": [
           {
            "marker": {
             "line": {
              "color": "#E5ECF6",
              "width": 0.5
             },
             "pattern": {
              "fillmode": "overlay",
              "size": 10,
              "solidity": 0.2
             }
            },
            "type": "barpolar"
           }
          ],
          "carpet": [
           {
            "aaxis": {
             "endlinecolor": "#2a3f5f",
             "gridcolor": "white",
             "linecolor": "white",
             "minorgridcolor": "white",
             "startlinecolor": "#2a3f5f"
            },
            "baxis": {
             "endlinecolor": "#2a3f5f",
             "gridcolor": "white",
             "linecolor": "white",
             "minorgridcolor": "white",
             "startlinecolor": "#2a3f5f"
            },
            "type": "carpet"
           }
          ],
          "choropleth": [
           {
            "colorbar": {
             "outlinewidth": 0,
             "ticks": ""
            },
            "type": "choropleth"
           }
          ],
          "contour": [
           {
            "colorbar": {
             "outlinewidth": 0,
             "ticks": ""
            },
            "colorscale": [
             [
              0,
              "#0d0887"
             ],
             [
              0.1111111111111111,
              "#46039f"
             ],
             [
              0.2222222222222222,
              "#7201a8"
             ],
             [
              0.3333333333333333,
              "#9c179e"
             ],
             [
              0.4444444444444444,
              "#bd3786"
             ],
             [
              0.5555555555555556,
              "#d8576b"
             ],
             [
              0.6666666666666666,
              "#ed7953"
             ],
             [
              0.7777777777777778,
              "#fb9f3a"
             ],
             [
              0.8888888888888888,
              "#fdca26"
             ],
             [
              1,
              "#f0f921"
             ]
            ],
            "type": "contour"
           }
          ],
          "contourcarpet": [
           {
            "colorbar": {
             "outlinewidth": 0,
             "ticks": ""
            },
            "type": "contourcarpet"
           }
          ],
          "heatmap": [
           {
            "colorbar": {
             "outlinewidth": 0,
             "ticks": ""
            },
            "colorscale": [
             [
              0,
              "#0d0887"
             ],
             [
              0.1111111111111111,
              "#46039f"
             ],
             [
              0.2222222222222222,
              "#7201a8"
             ],
             [
              0.3333333333333333,
              "#9c179e"
             ],
             [
              0.4444444444444444,
              "#bd3786"
             ],
             [
              0.5555555555555556,
              "#d8576b"
             ],
             [
              0.6666666666666666,
              "#ed7953"
             ],
             [
              0.7777777777777778,
              "#fb9f3a"
             ],
             [
              0.8888888888888888,
              "#fdca26"
             ],
             [
              1,
              "#f0f921"
             ]
            ],
            "type": "heatmap"
           }
          ],
          "heatmapgl": [
           {
            "colorbar": {
             "outlinewidth": 0,
             "ticks": ""
            },
            "colorscale": [
             [
              0,
              "#0d0887"
             ],
             [
              0.1111111111111111,
              "#46039f"
             ],
             [
              0.2222222222222222,
              "#7201a8"
             ],
             [
              0.3333333333333333,
              "#9c179e"
             ],
             [
              0.4444444444444444,
              "#bd3786"
             ],
             [
              0.5555555555555556,
              "#d8576b"
             ],
             [
              0.6666666666666666,
              "#ed7953"
             ],
             [
              0.7777777777777778,
              "#fb9f3a"
             ],
             [
              0.8888888888888888,
              "#fdca26"
             ],
             [
              1,
              "#f0f921"
             ]
            ],
            "type": "heatmapgl"
           }
          ],
          "histogram": [
           {
            "marker": {
             "pattern": {
              "fillmode": "overlay",
              "size": 10,
              "solidity": 0.2
             }
            },
            "type": "histogram"
           }
          ],
          "histogram2d": [
           {
            "colorbar": {
             "outlinewidth": 0,
             "ticks": ""
            },
            "colorscale": [
             [
              0,
              "#0d0887"
             ],
             [
              0.1111111111111111,
              "#46039f"
             ],
             [
              0.2222222222222222,
              "#7201a8"
             ],
             [
              0.3333333333333333,
              "#9c179e"
             ],
             [
              0.4444444444444444,
              "#bd3786"
             ],
             [
              0.5555555555555556,
              "#d8576b"
             ],
             [
              0.6666666666666666,
              "#ed7953"
             ],
             [
              0.7777777777777778,
              "#fb9f3a"
             ],
             [
              0.8888888888888888,
              "#fdca26"
             ],
             [
              1,
              "#f0f921"
             ]
            ],
            "type": "histogram2d"
           }
          ],
          "histogram2dcontour": [
           {
            "colorbar": {
             "outlinewidth": 0,
             "ticks": ""
            },
            "colorscale": [
             [
              0,
              "#0d0887"
             ],
             [
              0.1111111111111111,
              "#46039f"
             ],
             [
              0.2222222222222222,
              "#7201a8"
             ],
             [
              0.3333333333333333,
              "#9c179e"
             ],
             [
              0.4444444444444444,
              "#bd3786"
             ],
             [
              0.5555555555555556,
              "#d8576b"
             ],
             [
              0.6666666666666666,
              "#ed7953"
             ],
             [
              0.7777777777777778,
              "#fb9f3a"
             ],
             [
              0.8888888888888888,
              "#fdca26"
             ],
             [
              1,
              "#f0f921"
             ]
            ],
            "type": "histogram2dcontour"
           }
          ],
          "mesh3d": [
           {
            "colorbar": {
             "outlinewidth": 0,
             "ticks": ""
            },
            "type": "mesh3d"
           }
          ],
          "parcoords": [
           {
            "line": {
             "colorbar": {
              "outlinewidth": 0,
              "ticks": ""
             }
            },
            "type": "parcoords"
           }
          ],
          "pie": [
           {
            "automargin": true,
            "type": "pie"
           }
          ],
          "scatter": [
           {
            "marker": {
             "colorbar": {
              "outlinewidth": 0,
              "ticks": ""
             }
            },
            "type": "scatter"
           }
          ],
          "scatter3d": [
           {
            "line": {
             "colorbar": {
              "outlinewidth": 0,
              "ticks": ""
             }
            },
            "marker": {
             "colorbar": {
              "outlinewidth": 0,
              "ticks": ""
             }
            },
            "type": "scatter3d"
           }
          ],
          "scattercarpet": [
           {
            "marker": {
             "colorbar": {
              "outlinewidth": 0,
              "ticks": ""
             }
            },
            "type": "scattercarpet"
           }
          ],
          "scattergeo": [
           {
            "marker": {
             "colorbar": {
              "outlinewidth": 0,
              "ticks": ""
             }
            },
            "type": "scattergeo"
           }
          ],
          "scattergl": [
           {
            "marker": {
             "colorbar": {
              "outlinewidth": 0,
              "ticks": ""
             }
            },
            "type": "scattergl"
           }
          ],
          "scattermapbox": [
           {
            "marker": {
             "colorbar": {
              "outlinewidth": 0,
              "ticks": ""
             }
            },
            "type": "scattermapbox"
           }
          ],
          "scatterpolar": [
           {
            "marker": {
             "colorbar": {
              "outlinewidth": 0,
              "ticks": ""
             }
            },
            "type": "scatterpolar"
           }
          ],
          "scatterpolargl": [
           {
            "marker": {
             "colorbar": {
              "outlinewidth": 0,
              "ticks": ""
             }
            },
            "type": "scatterpolargl"
           }
          ],
          "scatterternary": [
           {
            "marker": {
             "colorbar": {
              "outlinewidth": 0,
              "ticks": ""
             }
            },
            "type": "scatterternary"
           }
          ],
          "surface": [
           {
            "colorbar": {
             "outlinewidth": 0,
             "ticks": ""
            },
            "colorscale": [
             [
              0,
              "#0d0887"
             ],
             [
              0.1111111111111111,
              "#46039f"
             ],
             [
              0.2222222222222222,
              "#7201a8"
             ],
             [
              0.3333333333333333,
              "#9c179e"
             ],
             [
              0.4444444444444444,
              "#bd3786"
             ],
             [
              0.5555555555555556,
              "#d8576b"
             ],
             [
              0.6666666666666666,
              "#ed7953"
             ],
             [
              0.7777777777777778,
              "#fb9f3a"
             ],
             [
              0.8888888888888888,
              "#fdca26"
             ],
             [
              1,
              "#f0f921"
             ]
            ],
            "type": "surface"
           }
          ],
          "table": [
           {
            "cells": {
             "fill": {
              "color": "#EBF0F8"
             },
             "line": {
              "color": "white"
             }
            },
            "header": {
             "fill": {
              "color": "#C8D4E3"
             },
             "line": {
              "color": "white"
             }
            },
            "type": "table"
           }
          ]
         },
         "layout": {
          "annotationdefaults": {
           "arrowcolor": "#2a3f5f",
           "arrowhead": 0,
           "arrowwidth": 1
          },
          "autotypenumbers": "strict",
          "coloraxis": {
           "colorbar": {
            "outlinewidth": 0,
            "ticks": ""
           }
          },
          "colorscale": {
           "diverging": [
            [
             0,
             "#8e0152"
            ],
            [
             0.1,
             "#c51b7d"
            ],
            [
             0.2,
             "#de77ae"
            ],
            [
             0.3,
             "#f1b6da"
            ],
            [
             0.4,
             "#fde0ef"
            ],
            [
             0.5,
             "#f7f7f7"
            ],
            [
             0.6,
             "#e6f5d0"
            ],
            [
             0.7,
             "#b8e186"
            ],
            [
             0.8,
             "#7fbc41"
            ],
            [
             0.9,
             "#4d9221"
            ],
            [
             1,
             "#276419"
            ]
           ],
           "sequential": [
            [
             0,
             "#0d0887"
            ],
            [
             0.1111111111111111,
             "#46039f"
            ],
            [
             0.2222222222222222,
             "#7201a8"
            ],
            [
             0.3333333333333333,
             "#9c179e"
            ],
            [
             0.4444444444444444,
             "#bd3786"
            ],
            [
             0.5555555555555556,
             "#d8576b"
            ],
            [
             0.6666666666666666,
             "#ed7953"
            ],
            [
             0.7777777777777778,
             "#fb9f3a"
            ],
            [
             0.8888888888888888,
             "#fdca26"
            ],
            [
             1,
             "#f0f921"
            ]
           ],
           "sequentialminus": [
            [
             0,
             "#0d0887"
            ],
            [
             0.1111111111111111,
             "#46039f"
            ],
            [
             0.2222222222222222,
             "#7201a8"
            ],
            [
             0.3333333333333333,
             "#9c179e"
            ],
            [
             0.4444444444444444,
             "#bd3786"
            ],
            [
             0.5555555555555556,
             "#d8576b"
            ],
            [
             0.6666666666666666,
             "#ed7953"
            ],
            [
             0.7777777777777778,
             "#fb9f3a"
            ],
            [
             0.8888888888888888,
             "#fdca26"
            ],
            [
             1,
             "#f0f921"
            ]
           ]
          },
          "colorway": [
           "#636efa",
           "#EF553B",
           "#00cc96",
           "#ab63fa",
           "#FFA15A",
           "#19d3f3",
           "#FF6692",
           "#B6E880",
           "#FF97FF",
           "#FECB52"
          ],
          "font": {
           "color": "#2a3f5f"
          },
          "geo": {
           "bgcolor": "white",
           "lakecolor": "white",
           "landcolor": "#E5ECF6",
           "showlakes": true,
           "showland": true,
           "subunitcolor": "white"
          },
          "hoverlabel": {
           "align": "left"
          },
          "hovermode": "closest",
          "mapbox": {
           "style": "light"
          },
          "paper_bgcolor": "white",
          "plot_bgcolor": "#E5ECF6",
          "polar": {
           "angularaxis": {
            "gridcolor": "white",
            "linecolor": "white",
            "ticks": ""
           },
           "bgcolor": "#E5ECF6",
           "radialaxis": {
            "gridcolor": "white",
            "linecolor": "white",
            "ticks": ""
           }
          },
          "scene": {
           "xaxis": {
            "backgroundcolor": "#E5ECF6",
            "gridcolor": "white",
            "gridwidth": 2,
            "linecolor": "white",
            "showbackground": true,
            "ticks": "",
            "zerolinecolor": "white"
           },
           "yaxis": {
            "backgroundcolor": "#E5ECF6",
            "gridcolor": "white",
            "gridwidth": 2,
            "linecolor": "white",
            "showbackground": true,
            "ticks": "",
            "zerolinecolor": "white"
           },
           "zaxis": {
            "backgroundcolor": "#E5ECF6",
            "gridcolor": "white",
            "gridwidth": 2,
            "linecolor": "white",
            "showbackground": true,
            "ticks": "",
            "zerolinecolor": "white"
           }
          },
          "shapedefaults": {
           "line": {
            "color": "#2a3f5f"
           }
          },
          "ternary": {
           "aaxis": {
            "gridcolor": "white",
            "linecolor": "white",
            "ticks": ""
           },
           "baxis": {
            "gridcolor": "white",
            "linecolor": "white",
            "ticks": ""
           },
           "bgcolor": "#E5ECF6",
           "caxis": {
            "gridcolor": "white",
            "linecolor": "white",
            "ticks": ""
           }
          },
          "title": {
           "x": 0.05
          },
          "xaxis": {
           "automargin": true,
           "gridcolor": "white",
           "linecolor": "white",
           "ticks": "",
           "title": {
            "standoff": 15
           },
           "zerolinecolor": "white",
           "zerolinewidth": 2
          },
          "yaxis": {
           "automargin": true,
           "gridcolor": "white",
           "linecolor": "white",
           "ticks": "",
           "title": {
            "standoff": 15
           },
           "zerolinecolor": "white",
           "zerolinewidth": 2
          }
         }
        },
        "xaxis": {
         "anchor": "y",
         "domain": [
          0,
          1
         ],
         "title": {
          "text": "nome"
         }
        },
        "yaxis": {
         "anchor": "x",
         "domain": [
          0,
          1
         ],
         "title": {
          "text": "num_trans"
         }
        }
       }
      }
     },
     "metadata": {},
     "output_type": "display_data"
    }
   ],
   "source": [
    "df['agencias']['num_trans'] = df['agencias']['cod_agencia'].map(agencias)\n",
    "\n",
    "fig = px.bar(df['agencias'], x='nome', y='num_trans', color='tipo_agencia')\n",
    "\n",
    "fig.show()"
   ]
  },
  {
   "cell_type": "code",
   "execution_count": 27,
   "metadata": {},
   "outputs": [
    {
     "data": {
      "application/vnd.plotly.v1+json": {
       "config": {
        "plotlyServerURL": "https://plot.ly"
       },
       "data": [
        {
         "alignmentgroup": "True",
         "hovertemplate": "ano=2010<br>transacao=%{x}<br>valor=%{y}<extra></extra>",
         "legendgroup": "2010",
         "marker": {
          "color": "#636efa",
          "pattern": {
           "shape": ""
          }
         },
         "name": "2010",
         "offsetgroup": "2010",
         "orientation": "v",
         "showlegend": true,
         "textposition": "auto",
         "type": "bar",
         "x": [
          "Compra Crédito",
          "Compra Débito",
          "DOC - Realizado",
          "DOC - Recebido",
          "Depósito em espécie",
          "Estorno de Debito",
          "Pagamento de boleto",
          "Pix - Realizado",
          "Pix - Recebido",
          "Pix Saque",
          "Saque",
          "TED - Realizado",
          "TED - Recebido",
          "Transferência entre CC - Crédito",
          "Transferência entre CC - Débito"
         ],
         "xaxis": "x",
         "y": [
          35,
          33,
          null,
          1,
          16,
          1,
          null,
          null,
          null,
          null,
          2,
          null,
          3,
          1,
          1
         ],
         "yaxis": "y"
        },
        {
         "alignmentgroup": "True",
         "hovertemplate": "ano=2011<br>transacao=%{x}<br>valor=%{y}<extra></extra>",
         "legendgroup": "2011",
         "marker": {
          "color": "#EF553B",
          "pattern": {
           "shape": ""
          }
         },
         "name": "2011",
         "offsetgroup": "2011",
         "orientation": "v",
         "showlegend": true,
         "textposition": "auto",
         "type": "bar",
         "x": [
          "Compra Crédito",
          "Compra Débito",
          "DOC - Realizado",
          "DOC - Recebido",
          "Depósito em espécie",
          "Estorno de Debito",
          "Pagamento de boleto",
          "Pix - Realizado",
          "Pix - Recebido",
          "Pix Saque",
          "Saque",
          "TED - Realizado",
          "TED - Recebido",
          "Transferência entre CC - Crédito",
          "Transferência entre CC - Débito"
         ],
         "xaxis": "x",
         "y": [
          159,
          103,
          1,
          2,
          58,
          6,
          3,
          null,
          null,
          null,
          14,
          1,
          17,
          3,
          null
         ],
         "yaxis": "y"
        },
        {
         "alignmentgroup": "True",
         "hovertemplate": "ano=2012<br>transacao=%{x}<br>valor=%{y}<extra></extra>",
         "legendgroup": "2012",
         "marker": {
          "color": "#00cc96",
          "pattern": {
           "shape": ""
          }
         },
         "name": "2012",
         "offsetgroup": "2012",
         "orientation": "v",
         "showlegend": true,
         "textposition": "auto",
         "type": "bar",
         "x": [
          "Compra Crédito",
          "Compra Débito",
          "DOC - Realizado",
          "DOC - Recebido",
          "Depósito em espécie",
          "Estorno de Debito",
          "Pagamento de boleto",
          "Pix - Realizado",
          "Pix - Recebido",
          "Pix Saque",
          "Saque",
          "TED - Realizado",
          "TED - Recebido",
          "Transferência entre CC - Crédito",
          "Transferência entre CC - Débito"
         ],
         "xaxis": "x",
         "y": [
          314,
          239,
          1,
          9,
          101,
          2,
          7,
          null,
          null,
          null,
          26,
          null,
          19,
          10,
          6
         ],
         "yaxis": "y"
        },
        {
         "alignmentgroup": "True",
         "hovertemplate": "ano=2013<br>transacao=%{x}<br>valor=%{y}<extra></extra>",
         "legendgroup": "2013",
         "marker": {
          "color": "#ab63fa",
          "pattern": {
           "shape": ""
          }
         },
         "name": "2013",
         "offsetgroup": "2013",
         "orientation": "v",
         "showlegend": true,
         "textposition": "auto",
         "type": "bar",
         "x": [
          "Compra Crédito",
          "Compra Débito",
          "DOC - Realizado",
          "DOC - Recebido",
          "Depósito em espécie",
          "Estorno de Debito",
          "Pagamento de boleto",
          "Pix - Realizado",
          "Pix - Recebido",
          "Pix Saque",
          "Saque",
          "TED - Realizado",
          "TED - Recebido",
          "Transferência entre CC - Crédito",
          "Transferência entre CC - Débito"
         ],
         "xaxis": "x",
         "y": [
          510,
          435,
          1,
          11,
          156,
          16,
          11,
          null,
          null,
          null,
          53,
          2,
          34,
          14,
          6
         ],
         "yaxis": "y"
        },
        {
         "alignmentgroup": "True",
         "hovertemplate": "ano=2014<br>transacao=%{x}<br>valor=%{y}<extra></extra>",
         "legendgroup": "2014",
         "marker": {
          "color": "#FFA15A",
          "pattern": {
           "shape": ""
          }
         },
         "name": "2014",
         "offsetgroup": "2014",
         "orientation": "v",
         "showlegend": true,
         "textposition": "auto",
         "type": "bar",
         "x": [
          "Compra Crédito",
          "Compra Débito",
          "DOC - Realizado",
          "DOC - Recebido",
          "Depósito em espécie",
          "Estorno de Debito",
          "Pagamento de boleto",
          "Pix - Realizado",
          "Pix - Recebido",
          "Pix Saque",
          "Saque",
          "TED - Realizado",
          "TED - Recebido",
          "Transferência entre CC - Crédito",
          "Transferência entre CC - Débito"
         ],
         "xaxis": "x",
         "y": [
          686,
          491,
          3,
          16,
          146,
          9,
          9,
          null,
          null,
          null,
          80,
          4,
          39,
          13,
          7
         ],
         "yaxis": "y"
        },
        {
         "alignmentgroup": "True",
         "hovertemplate": "ano=2015<br>transacao=%{x}<br>valor=%{y}<extra></extra>",
         "legendgroup": "2015",
         "marker": {
          "color": "#19d3f3",
          "pattern": {
           "shape": ""
          }
         },
         "name": "2015",
         "offsetgroup": "2015",
         "orientation": "v",
         "showlegend": true,
         "textposition": "auto",
         "type": "bar",
         "x": [
          "Compra Crédito",
          "Compra Débito",
          "DOC - Realizado",
          "DOC - Recebido",
          "Depósito em espécie",
          "Estorno de Debito",
          "Pagamento de boleto",
          "Pix - Realizado",
          "Pix - Recebido",
          "Pix Saque",
          "Saque",
          "TED - Realizado",
          "TED - Recebido",
          "Transferência entre CC - Crédito",
          "Transferência entre CC - Débito"
         ],
         "xaxis": "x",
         "y": [
          811,
          645,
          1,
          18,
          228,
          16,
          13,
          null,
          null,
          null,
          92,
          4,
          42,
          18,
          9
         ],
         "yaxis": "y"
        },
        {
         "alignmentgroup": "True",
         "hovertemplate": "ano=2016<br>transacao=%{x}<br>valor=%{y}<extra></extra>",
         "legendgroup": "2016",
         "marker": {
          "color": "#FF6692",
          "pattern": {
           "shape": ""
          }
         },
         "name": "2016",
         "offsetgroup": "2016",
         "orientation": "v",
         "showlegend": true,
         "textposition": "auto",
         "type": "bar",
         "x": [
          "Compra Crédito",
          "Compra Débito",
          "DOC - Realizado",
          "DOC - Recebido",
          "Depósito em espécie",
          "Estorno de Debito",
          "Pagamento de boleto",
          "Pix - Realizado",
          "Pix - Recebido",
          "Pix Saque",
          "Saque",
          "TED - Realizado",
          "TED - Recebido",
          "Transferência entre CC - Crédito",
          "Transferência entre CC - Débito"
         ],
         "xaxis": "x",
         "y": [
          1133,
          830,
          2,
          18,
          324,
          28,
          26,
          null,
          null,
          null,
          139,
          3,
          54,
          34,
          13
         ],
         "yaxis": "y"
        },
        {
         "alignmentgroup": "True",
         "hovertemplate": "ano=2017<br>transacao=%{x}<br>valor=%{y}<extra></extra>",
         "legendgroup": "2017",
         "marker": {
          "color": "#B6E880",
          "pattern": {
           "shape": ""
          }
         },
         "name": "2017",
         "offsetgroup": "2017",
         "orientation": "v",
         "showlegend": true,
         "textposition": "auto",
         "type": "bar",
         "x": [
          "Compra Crédito",
          "Compra Débito",
          "DOC - Realizado",
          "DOC - Recebido",
          "Depósito em espécie",
          "Estorno de Debito",
          "Pagamento de boleto",
          "Pix - Realizado",
          "Pix - Recebido",
          "Pix Saque",
          "Saque",
          "TED - Realizado",
          "TED - Recebido",
          "Transferência entre CC - Crédito",
          "Transferência entre CC - Débito"
         ],
         "xaxis": "x",
         "y": [
          1592,
          1118,
          3,
          35,
          423,
          38,
          32,
          null,
          null,
          null,
          176,
          12,
          64,
          36,
          25
         ],
         "yaxis": "y"
        },
        {
         "alignmentgroup": "True",
         "hovertemplate": "ano=2018<br>transacao=%{x}<br>valor=%{y}<extra></extra>",
         "legendgroup": "2018",
         "marker": {
          "color": "#FF97FF",
          "pattern": {
           "shape": ""
          }
         },
         "name": "2018",
         "offsetgroup": "2018",
         "orientation": "v",
         "showlegend": true,
         "textposition": "auto",
         "type": "bar",
         "x": [
          "Compra Crédito",
          "Compra Débito",
          "DOC - Realizado",
          "DOC - Recebido",
          "Depósito em espécie",
          "Estorno de Debito",
          "Pagamento de boleto",
          "Pix - Realizado",
          "Pix - Recebido",
          "Pix Saque",
          "Saque",
          "TED - Realizado",
          "TED - Recebido",
          "Transferência entre CC - Crédito",
          "Transferência entre CC - Débito"
         ],
         "xaxis": "x",
         "y": [
          1772,
          1252,
          9,
          24,
          451,
          41,
          30,
          null,
          null,
          null,
          191,
          10,
          106,
          39,
          20
         ],
         "yaxis": "y"
        },
        {
         "alignmentgroup": "True",
         "hovertemplate": "ano=2019<br>transacao=%{x}<br>valor=%{y}<extra></extra>",
         "legendgroup": "2019",
         "marker": {
          "color": "#FECB52",
          "pattern": {
           "shape": ""
          }
         },
         "name": "2019",
         "offsetgroup": "2019",
         "orientation": "v",
         "showlegend": true,
         "textposition": "auto",
         "type": "bar",
         "x": [
          "Compra Crédito",
          "Compra Débito",
          "DOC - Realizado",
          "DOC - Recebido",
          "Depósito em espécie",
          "Estorno de Debito",
          "Pagamento de boleto",
          "Pix - Realizado",
          "Pix - Recebido",
          "Pix Saque",
          "Saque",
          "TED - Realizado",
          "TED - Recebido",
          "Transferência entre CC - Crédito",
          "Transferência entre CC - Débito"
         ],
         "xaxis": "x",
         "y": [
          2502,
          1760,
          15,
          47,
          530,
          38,
          47,
          null,
          null,
          null,
          272,
          11,
          117,
          50,
          39
         ],
         "yaxis": "y"
        },
        {
         "alignmentgroup": "True",
         "hovertemplate": "ano=2020<br>transacao=%{x}<br>valor=%{y}<extra></extra>",
         "legendgroup": "2020",
         "marker": {
          "color": "#636efa",
          "pattern": {
           "shape": ""
          }
         },
         "name": "2020",
         "offsetgroup": "2020",
         "orientation": "v",
         "showlegend": true,
         "textposition": "auto",
         "type": "bar",
         "x": [
          "Compra Crédito",
          "Compra Débito",
          "DOC - Realizado",
          "DOC - Recebido",
          "Depósito em espécie",
          "Estorno de Debito",
          "Pagamento de boleto",
          "Pix - Realizado",
          "Pix - Recebido",
          "Pix Saque",
          "Saque",
          "TED - Realizado",
          "TED - Recebido",
          "Transferência entre CC - Crédito",
          "Transferência entre CC - Débito"
         ],
         "xaxis": "x",
         "y": [
          2507,
          1706,
          13,
          43,
          559,
          36,
          47,
          246,
          86,
          2,
          299,
          23,
          122,
          53,
          41
         ],
         "yaxis": "y"
        },
        {
         "alignmentgroup": "True",
         "hovertemplate": "ano=2021<br>transacao=%{x}<br>valor=%{y}<extra></extra>",
         "legendgroup": "2021",
         "marker": {
          "color": "#EF553B",
          "pattern": {
           "shape": ""
          }
         },
         "name": "2021",
         "offsetgroup": "2021",
         "orientation": "v",
         "showlegend": true,
         "textposition": "auto",
         "type": "bar",
         "x": [
          "Compra Crédito",
          "Compra Débito",
          "DOC - Realizado",
          "DOC - Recebido",
          "Depósito em espécie",
          "Estorno de Debito",
          "Pagamento de boleto",
          "Pix - Realizado",
          "Pix - Recebido",
          "Pix Saque",
          "Saque",
          "TED - Realizado",
          "TED - Recebido",
          "Transferência entre CC - Crédito",
          "Transferência entre CC - Débito"
         ],
         "xaxis": "x",
         "y": [
          2219,
          1524,
          5,
          23,
          395,
          32,
          36,
          2235,
          899,
          17,
          249,
          13,
          82,
          27,
          21
         ],
         "yaxis": "y"
        },
        {
         "alignmentgroup": "True",
         "hovertemplate": "ano=2022<br>transacao=%{x}<br>valor=%{y}<extra></extra>",
         "legendgroup": "2022",
         "marker": {
          "color": "#00cc96",
          "pattern": {
           "shape": ""
          }
         },
         "name": "2022",
         "offsetgroup": "2022",
         "orientation": "v",
         "showlegend": true,
         "textposition": "auto",
         "type": "bar",
         "x": [
          "Compra Crédito",
          "Compra Débito",
          "DOC - Realizado",
          "DOC - Recebido",
          "Depósito em espécie",
          "Estorno de Debito",
          "Pagamento de boleto",
          "Pix - Realizado",
          "Pix - Recebido",
          "Pix Saque",
          "Saque",
          "TED - Realizado",
          "TED - Recebido",
          "Transferência entre CC - Crédito",
          "Transferência entre CC - Débito"
         ],
         "xaxis": "x",
         "y": [
          10570,
          7411,
          36,
          151,
          1455,
          138,
          190,
          10537,
          4077,
          70,
          1272,
          45,
          300,
          139,
          115
         ],
         "yaxis": "y"
        }
       ],
       "layout": {
        "barmode": "relative",
        "legend": {
         "title": {
          "text": "ano"
         },
         "tracegroupgap": 0
        },
        "margin": {
         "t": 60
        },
        "template": {
         "data": {
          "bar": [
           {
            "error_x": {
             "color": "#2a3f5f"
            },
            "error_y": {
             "color": "#2a3f5f"
            },
            "marker": {
             "line": {
              "color": "#E5ECF6",
              "width": 0.5
             },
             "pattern": {
              "fillmode": "overlay",
              "size": 10,
              "solidity": 0.2
             }
            },
            "type": "bar"
           }
          ],
          "barpolar": [
           {
            "marker": {
             "line": {
              "color": "#E5ECF6",
              "width": 0.5
             },
             "pattern": {
              "fillmode": "overlay",
              "size": 10,
              "solidity": 0.2
             }
            },
            "type": "barpolar"
           }
          ],
          "carpet": [
           {
            "aaxis": {
             "endlinecolor": "#2a3f5f",
             "gridcolor": "white",
             "linecolor": "white",
             "minorgridcolor": "white",
             "startlinecolor": "#2a3f5f"
            },
            "baxis": {
             "endlinecolor": "#2a3f5f",
             "gridcolor": "white",
             "linecolor": "white",
             "minorgridcolor": "white",
             "startlinecolor": "#2a3f5f"
            },
            "type": "carpet"
           }
          ],
          "choropleth": [
           {
            "colorbar": {
             "outlinewidth": 0,
             "ticks": ""
            },
            "type": "choropleth"
           }
          ],
          "contour": [
           {
            "colorbar": {
             "outlinewidth": 0,
             "ticks": ""
            },
            "colorscale": [
             [
              0,
              "#0d0887"
             ],
             [
              0.1111111111111111,
              "#46039f"
             ],
             [
              0.2222222222222222,
              "#7201a8"
             ],
             [
              0.3333333333333333,
              "#9c179e"
             ],
             [
              0.4444444444444444,
              "#bd3786"
             ],
             [
              0.5555555555555556,
              "#d8576b"
             ],
             [
              0.6666666666666666,
              "#ed7953"
             ],
             [
              0.7777777777777778,
              "#fb9f3a"
             ],
             [
              0.8888888888888888,
              "#fdca26"
             ],
             [
              1,
              "#f0f921"
             ]
            ],
            "type": "contour"
           }
          ],
          "contourcarpet": [
           {
            "colorbar": {
             "outlinewidth": 0,
             "ticks": ""
            },
            "type": "contourcarpet"
           }
          ],
          "heatmap": [
           {
            "colorbar": {
             "outlinewidth": 0,
             "ticks": ""
            },
            "colorscale": [
             [
              0,
              "#0d0887"
             ],
             [
              0.1111111111111111,
              "#46039f"
             ],
             [
              0.2222222222222222,
              "#7201a8"
             ],
             [
              0.3333333333333333,
              "#9c179e"
             ],
             [
              0.4444444444444444,
              "#bd3786"
             ],
             [
              0.5555555555555556,
              "#d8576b"
             ],
             [
              0.6666666666666666,
              "#ed7953"
             ],
             [
              0.7777777777777778,
              "#fb9f3a"
             ],
             [
              0.8888888888888888,
              "#fdca26"
             ],
             [
              1,
              "#f0f921"
             ]
            ],
            "type": "heatmap"
           }
          ],
          "heatmapgl": [
           {
            "colorbar": {
             "outlinewidth": 0,
             "ticks": ""
            },
            "colorscale": [
             [
              0,
              "#0d0887"
             ],
             [
              0.1111111111111111,
              "#46039f"
             ],
             [
              0.2222222222222222,
              "#7201a8"
             ],
             [
              0.3333333333333333,
              "#9c179e"
             ],
             [
              0.4444444444444444,
              "#bd3786"
             ],
             [
              0.5555555555555556,
              "#d8576b"
             ],
             [
              0.6666666666666666,
              "#ed7953"
             ],
             [
              0.7777777777777778,
              "#fb9f3a"
             ],
             [
              0.8888888888888888,
              "#fdca26"
             ],
             [
              1,
              "#f0f921"
             ]
            ],
            "type": "heatmapgl"
           }
          ],
          "histogram": [
           {
            "marker": {
             "pattern": {
              "fillmode": "overlay",
              "size": 10,
              "solidity": 0.2
             }
            },
            "type": "histogram"
           }
          ],
          "histogram2d": [
           {
            "colorbar": {
             "outlinewidth": 0,
             "ticks": ""
            },
            "colorscale": [
             [
              0,
              "#0d0887"
             ],
             [
              0.1111111111111111,
              "#46039f"
             ],
             [
              0.2222222222222222,
              "#7201a8"
             ],
             [
              0.3333333333333333,
              "#9c179e"
             ],
             [
              0.4444444444444444,
              "#bd3786"
             ],
             [
              0.5555555555555556,
              "#d8576b"
             ],
             [
              0.6666666666666666,
              "#ed7953"
             ],
             [
              0.7777777777777778,
              "#fb9f3a"
             ],
             [
              0.8888888888888888,
              "#fdca26"
             ],
             [
              1,
              "#f0f921"
             ]
            ],
            "type": "histogram2d"
           }
          ],
          "histogram2dcontour": [
           {
            "colorbar": {
             "outlinewidth": 0,
             "ticks": ""
            },
            "colorscale": [
             [
              0,
              "#0d0887"
             ],
             [
              0.1111111111111111,
              "#46039f"
             ],
             [
              0.2222222222222222,
              "#7201a8"
             ],
             [
              0.3333333333333333,
              "#9c179e"
             ],
             [
              0.4444444444444444,
              "#bd3786"
             ],
             [
              0.5555555555555556,
              "#d8576b"
             ],
             [
              0.6666666666666666,
              "#ed7953"
             ],
             [
              0.7777777777777778,
              "#fb9f3a"
             ],
             [
              0.8888888888888888,
              "#fdca26"
             ],
             [
              1,
              "#f0f921"
             ]
            ],
            "type": "histogram2dcontour"
           }
          ],
          "mesh3d": [
           {
            "colorbar": {
             "outlinewidth": 0,
             "ticks": ""
            },
            "type": "mesh3d"
           }
          ],
          "parcoords": [
           {
            "line": {
             "colorbar": {
              "outlinewidth": 0,
              "ticks": ""
             }
            },
            "type": "parcoords"
           }
          ],
          "pie": [
           {
            "automargin": true,
            "type": "pie"
           }
          ],
          "scatter": [
           {
            "marker": {
             "colorbar": {
              "outlinewidth": 0,
              "ticks": ""
             }
            },
            "type": "scatter"
           }
          ],
          "scatter3d": [
           {
            "line": {
             "colorbar": {
              "outlinewidth": 0,
              "ticks": ""
             }
            },
            "marker": {
             "colorbar": {
              "outlinewidth": 0,
              "ticks": ""
             }
            },
            "type": "scatter3d"
           }
          ],
          "scattercarpet": [
           {
            "marker": {
             "colorbar": {
              "outlinewidth": 0,
              "ticks": ""
             }
            },
            "type": "scattercarpet"
           }
          ],
          "scattergeo": [
           {
            "marker": {
             "colorbar": {
              "outlinewidth": 0,
              "ticks": ""
             }
            },
            "type": "scattergeo"
           }
          ],
          "scattergl": [
           {
            "marker": {
             "colorbar": {
              "outlinewidth": 0,
              "ticks": ""
             }
            },
            "type": "scattergl"
           }
          ],
          "scattermapbox": [
           {
            "marker": {
             "colorbar": {
              "outlinewidth": 0,
              "ticks": ""
             }
            },
            "type": "scattermapbox"
           }
          ],
          "scatterpolar": [
           {
            "marker": {
             "colorbar": {
              "outlinewidth": 0,
              "ticks": ""
             }
            },
            "type": "scatterpolar"
           }
          ],
          "scatterpolargl": [
           {
            "marker": {
             "colorbar": {
              "outlinewidth": 0,
              "ticks": ""
             }
            },
            "type": "scatterpolargl"
           }
          ],
          "scatterternary": [
           {
            "marker": {
             "colorbar": {
              "outlinewidth": 0,
              "ticks": ""
             }
            },
            "type": "scatterternary"
           }
          ],
          "surface": [
           {
            "colorbar": {
             "outlinewidth": 0,
             "ticks": ""
            },
            "colorscale": [
             [
              0,
              "#0d0887"
             ],
             [
              0.1111111111111111,
              "#46039f"
             ],
             [
              0.2222222222222222,
              "#7201a8"
             ],
             [
              0.3333333333333333,
              "#9c179e"
             ],
             [
              0.4444444444444444,
              "#bd3786"
             ],
             [
              0.5555555555555556,
              "#d8576b"
             ],
             [
              0.6666666666666666,
              "#ed7953"
             ],
             [
              0.7777777777777778,
              "#fb9f3a"
             ],
             [
              0.8888888888888888,
              "#fdca26"
             ],
             [
              1,
              "#f0f921"
             ]
            ],
            "type": "surface"
           }
          ],
          "table": [
           {
            "cells": {
             "fill": {
              "color": "#EBF0F8"
             },
             "line": {
              "color": "white"
             }
            },
            "header": {
             "fill": {
              "color": "#C8D4E3"
             },
             "line": {
              "color": "white"
             }
            },
            "type": "table"
           }
          ]
         },
         "layout": {
          "annotationdefaults": {
           "arrowcolor": "#2a3f5f",
           "arrowhead": 0,
           "arrowwidth": 1
          },
          "autotypenumbers": "strict",
          "coloraxis": {
           "colorbar": {
            "outlinewidth": 0,
            "ticks": ""
           }
          },
          "colorscale": {
           "diverging": [
            [
             0,
             "#8e0152"
            ],
            [
             0.1,
             "#c51b7d"
            ],
            [
             0.2,
             "#de77ae"
            ],
            [
             0.3,
             "#f1b6da"
            ],
            [
             0.4,
             "#fde0ef"
            ],
            [
             0.5,
             "#f7f7f7"
            ],
            [
             0.6,
             "#e6f5d0"
            ],
            [
             0.7,
             "#b8e186"
            ],
            [
             0.8,
             "#7fbc41"
            ],
            [
             0.9,
             "#4d9221"
            ],
            [
             1,
             "#276419"
            ]
           ],
           "sequential": [
            [
             0,
             "#0d0887"
            ],
            [
             0.1111111111111111,
             "#46039f"
            ],
            [
             0.2222222222222222,
             "#7201a8"
            ],
            [
             0.3333333333333333,
             "#9c179e"
            ],
            [
             0.4444444444444444,
             "#bd3786"
            ],
            [
             0.5555555555555556,
             "#d8576b"
            ],
            [
             0.6666666666666666,
             "#ed7953"
            ],
            [
             0.7777777777777778,
             "#fb9f3a"
            ],
            [
             0.8888888888888888,
             "#fdca26"
            ],
            [
             1,
             "#f0f921"
            ]
           ],
           "sequentialminus": [
            [
             0,
             "#0d0887"
            ],
            [
             0.1111111111111111,
             "#46039f"
            ],
            [
             0.2222222222222222,
             "#7201a8"
            ],
            [
             0.3333333333333333,
             "#9c179e"
            ],
            [
             0.4444444444444444,
             "#bd3786"
            ],
            [
             0.5555555555555556,
             "#d8576b"
            ],
            [
             0.6666666666666666,
             "#ed7953"
            ],
            [
             0.7777777777777778,
             "#fb9f3a"
            ],
            [
             0.8888888888888888,
             "#fdca26"
            ],
            [
             1,
             "#f0f921"
            ]
           ]
          },
          "colorway": [
           "#636efa",
           "#EF553B",
           "#00cc96",
           "#ab63fa",
           "#FFA15A",
           "#19d3f3",
           "#FF6692",
           "#B6E880",
           "#FF97FF",
           "#FECB52"
          ],
          "font": {
           "color": "#2a3f5f"
          },
          "geo": {
           "bgcolor": "white",
           "lakecolor": "white",
           "landcolor": "#E5ECF6",
           "showlakes": true,
           "showland": true,
           "subunitcolor": "white"
          },
          "hoverlabel": {
           "align": "left"
          },
          "hovermode": "closest",
          "mapbox": {
           "style": "light"
          },
          "paper_bgcolor": "white",
          "plot_bgcolor": "#E5ECF6",
          "polar": {
           "angularaxis": {
            "gridcolor": "white",
            "linecolor": "white",
            "ticks": ""
           },
           "bgcolor": "#E5ECF6",
           "radialaxis": {
            "gridcolor": "white",
            "linecolor": "white",
            "ticks": ""
           }
          },
          "scene": {
           "xaxis": {
            "backgroundcolor": "#E5ECF6",
            "gridcolor": "white",
            "gridwidth": 2,
            "linecolor": "white",
            "showbackground": true,
            "ticks": "",
            "zerolinecolor": "white"
           },
           "yaxis": {
            "backgroundcolor": "#E5ECF6",
            "gridcolor": "white",
            "gridwidth": 2,
            "linecolor": "white",
            "showbackground": true,
            "ticks": "",
            "zerolinecolor": "white"
           },
           "zaxis": {
            "backgroundcolor": "#E5ECF6",
            "gridcolor": "white",
            "gridwidth": 2,
            "linecolor": "white",
            "showbackground": true,
            "ticks": "",
            "zerolinecolor": "white"
           }
          },
          "shapedefaults": {
           "line": {
            "color": "#2a3f5f"
           }
          },
          "ternary": {
           "aaxis": {
            "gridcolor": "white",
            "linecolor": "white",
            "ticks": ""
           },
           "baxis": {
            "gridcolor": "white",
            "linecolor": "white",
            "ticks": ""
           },
           "bgcolor": "#E5ECF6",
           "caxis": {
            "gridcolor": "white",
            "linecolor": "white",
            "ticks": ""
           }
          },
          "title": {
           "x": 0.05
          },
          "xaxis": {
           "automargin": true,
           "gridcolor": "white",
           "linecolor": "white",
           "ticks": "",
           "title": {
            "standoff": 15
           },
           "zerolinecolor": "white",
           "zerolinewidth": 2
          },
          "yaxis": {
           "automargin": true,
           "gridcolor": "white",
           "linecolor": "white",
           "ticks": "",
           "title": {
            "standoff": 15
           },
           "zerolinecolor": "white",
           "zerolinewidth": 2
          }
         }
        },
        "xaxis": {
         "anchor": "y",
         "domain": [
          0,
          1
         ],
         "title": {
          "text": "transacao"
         }
        },
        "yaxis": {
         "anchor": "x",
         "domain": [
          0,
          1
         ],
         "title": {
          "text": "valor"
         }
        }
       }
      }
     },
     "metadata": {},
     "output_type": "display_data"
    }
   ],
   "source": [
    "tipo_transf = {}\n",
    "\n",
    "anos = sorted(df['transacoes']['ano'].unique(), key=int)\n",
    "\n",
    "for a in anos:\n",
    "    tipo_transf[a] = df['transacoes'][df['transacoes']['ano'] == a]['nome_transacao'].value_counts()\n",
    "\n",
    "tipo_transf_df = pd.DataFrame(tipo_transf).reset_index()\n",
    "\n",
    "tipo_transf_df = tipo_transf_df.rename(columns={'index': 'transacao'})\n",
    "\n",
    "dados_long_1 = tipo_transf_df.melt(id_vars=[\"transacao\"], var_name=\"ano\", value_name=\"valor\")\n",
    "\n",
    "fig = px.bar(dados_long_1, x='transacao', y='valor', color='ano')\n",
    "\n",
    "fig.show()"
   ]
  },
  {
   "cell_type": "markdown",
   "metadata": {},
   "source": [
    "### Entrega 1\n",
    "\n",
    "Nem todos os envolvidos estão convictos com a ideia de uma frente de BIs no BanVic. Como podemos convencer Camila Diniz, diretora comercial,  que as nossas soluções serão úteis para a empresa? Apresente sua análise exploratória realizada a partir dos dados apresentados e cite quais perguntas de negócio podemos responder a fim de mostrar o valor que dados possuem para a empresa, levando em consideração o desafio apresentado."
   ]
  },
  {
   "cell_type": "markdown",
   "metadata": {},
   "source": [
    "Descrição dos dados:\n",
    "- Agências: informações características sobre as agências (e.g. nome, endereço). 10 entradas (relacional);\n",
    "- Clientes: informações características sobre os clientes (e.g. nome, endereço, cpf). 998 entradas;\n",
    "- Colaboradores: informações sobre qual agência cada colaborador pertence. 100 entradas (relacional);\n",
    "- Colaborador_agência: relação entre colaborador e agência. 100 entradas;\n",
    "- Contas: informações sobre as contas abertas neste banco. 999 entradas;\n",
    "- Propostas: informações sobre as propostas de crédito feitas para cada cliente. 2000 entradas;\n",
    "- Transações: informações sobre a quantidade de transações realizadas pelos clientes. 71999 entradas.\n",
    "\n",
    "Perguntas de negócio:\n",
    "- Quais os tipos de clientes que possuem contas no banco (físico ou jurídico)?\n",
    "    - KPI: Número de clientes físicos/jurídicos;\n",
    "- Considerando os tipos de agência (digital e física), qual tipo tem mais clientes?\n",
    "    - KPI: número de clientes por tipo de agência;\n",
    "- Baseado na localização, qual das agências tem mais clientes e por quê?\n",
    "    - KPI: Número de clientes por agência;\n",
    "    - Visualização: gráfico de barras por tipo\n",
    "- Qual ano teve mais abertura de contas?\n",
    "    - KPI: número de contas abertas por ano\n",
    "- Qual o tipo de transação mais frequente?\n",
    "    - KPI: número de transações por tipo\n",
    "    - Visualização: gráfico de barras por tipo\n",
    "- Qual a frequência de transações?\n",
    "    - KPI: Número de transações por mês;\n",
    "    - KPI: Número de transações por trimestre;\n",
    "    - KPI: Número de transações por ano;\n",
    "- Baseado no saldo em conta, quais os tipos de clientes que possuem conta no banco?\n",
    "- Média do valor das transações;\n",
    "- Média de transações por dia;\n",
    "- Quantas propostas estão ativas?\n",
    "- Quantas contas foram abertas por cada colaborador?\n",
    "- Clientes que não fazem transações a muito tempo;\n",
    "<!-- - Número de transações aprovadas e não-aprovadas; -->"
   ]
  },
  {
   "cell_type": "markdown",
   "metadata": {},
   "source": [
    "### Entrega 2\n",
    "\n",
    "Quais serão os indicadores ou análises utilizadas para responder às perguntas de negócio citadas anteriormente?"
   ]
  },
  {
   "cell_type": "markdown",
   "metadata": {},
   "source": [
    "### Entrega 3\n",
    "\n",
    "Uma dimensão de datas bem construída viabiliza a elaboração de análises mais robustas com relação ao tempo. O BanVic quer começar seu Data Warehouse (DW) com uma dim_dates que atenda seus requisitos de análise. Utilizando uma dimensão de datas, responda às duas perguntas a seguir. Por fim, proponha outras duas análises utilizando a dim_dates que possam ter valor de negócio para o BanVic.\n",
    "\n",
    "- Qual trimestre tem, em média, mais transações aprovadas e qual tem, também em média,  maior volume movimentado?\n",
    "\n",
    "Dado que não há no banco de dados um indicativo de quais transações foram aprovadas ou rejeitadas, assume-se que todas as transações contidas na BD foram aprovadas."
   ]
  },
  {
   "cell_type": "code",
   "execution_count": 28,
   "metadata": {},
   "outputs": [],
   "source": [
    "num_transf = {}\n",
    "\n",
    "meses = [1, 2, 3, 4, 5, 6, 7, 8, 9, 10, 11, 12]\n",
    "anos = sorted(df['transacoes']['ano'].unique(), key=int)\n",
    "\n",
    "for a in anos:\n",
    "    count = df['transacoes'][df['transacoes']['ano'] == a]['mes'].value_counts()\n",
    "\n",
    "    for m in meses:\n",
    "        if m not in list(count.keys()):\n",
    "            count[m] = 0\n",
    "\n",
    "    num_transf[a] = {1: count[1] + count[2] + count[3], \n",
    "                     2: count[4] + count[5] + count[6], \n",
    "                     3: count[7] + count[8] + count[9], \n",
    "                     4: count[10] + count[11] + count[12]}\n",
    "\n",
    "num_transf_df = pd.DataFrame(num_transf)\n",
    "num_transf_df = num_transf_df.reset_index()\n",
    "num_transf_df = num_transf_df.rename(columns={'index': 'Trimestre'})"
   ]
  },
  {
   "cell_type": "code",
   "execution_count": 29,
   "metadata": {},
   "outputs": [],
   "source": [
    "vol_transf = {}\n",
    "\n",
    "anos = sorted(df['transacoes']['ano'].unique(), key=int)\n",
    "\n",
    "for a in anos:\n",
    "    valor_prim_tri = 0\n",
    "    valor_seg_tri = 0\n",
    "    valor_ter_tri = 0\n",
    "    valor_qua_tri = 0\n",
    "\n",
    "    meses = sorted(df['transacoes'][df['transacoes']['ano'] == a]['mes'].unique(), key=int)\n",
    "\n",
    "    df_new = df['transacoes'][df['transacoes']['ano'] == a]\n",
    "\n",
    "    for m in meses:\n",
    "        if m in [1, 2, 3]:\n",
    "            valor_prim_tri += sum(abs(df_new[df_new['mes'] == m]['valor_transacao']))\n",
    "        elif m in [4, 5, 6]:\n",
    "            valor_seg_tri += sum(abs(df_new[df_new['mes'] == m]['valor_transacao']))\n",
    "        elif m in [7, 8, 9]:\n",
    "            valor_ter_tri += sum(abs(df_new[df_new['mes'] == m]['valor_transacao']))\n",
    "        elif m in [10, 11, 12]:\n",
    "            valor_qua_tri += sum(abs(df_new[df_new['mes'] == m]['valor_transacao']))\n",
    "\n",
    "    vol_transf[a] = {1: valor_prim_tri, 2: valor_seg_tri, 3: valor_ter_tri, 4: valor_qua_tri}\n",
    "\n",
    "vol_transf_df = pd.DataFrame(vol_transf)\n",
    "vol_transf_df = vol_transf_df.reset_index()\n",
    "vol_transf_df = vol_transf_df.rename(columns={'index': 'Trimestre'})"
   ]
  },
  {
   "cell_type": "code",
   "execution_count": 30,
   "metadata": {},
   "outputs": [],
   "source": [
    "media = {'Trimestre': [1, 2, 3, 4], 'Número de Transferências': [], 'Volume Transferido': []}\n",
    "\n",
    "for i in range(4):\n",
    "    media['Número de Transferências'].append(np.mean(list(num_transf_df[num_transf_df['Trimestre'] == i + 1].loc[:, 2010:2022].values)))\n",
    "    media['Volume Transferido'].append(np.mean(list(vol_transf_df[vol_transf_df['Trimestre'] == i + 1].loc[:, 2010:2022].values)))"
   ]
  },
  {
   "cell_type": "code",
   "execution_count": 31,
   "metadata": {},
   "outputs": [
    {
     "data": {
      "text/html": [
       "<div>\n",
       "<style scoped>\n",
       "    .dataframe tbody tr th:only-of-type {\n",
       "        vertical-align: middle;\n",
       "    }\n",
       "\n",
       "    .dataframe tbody tr th {\n",
       "        vertical-align: top;\n",
       "    }\n",
       "\n",
       "    .dataframe thead th {\n",
       "        text-align: right;\n",
       "    }\n",
       "</style>\n",
       "<table border=\"1\" class=\"dataframe\">\n",
       "  <thead>\n",
       "    <tr style=\"text-align: right;\">\n",
       "      <th></th>\n",
       "      <th>Trimestre</th>\n",
       "      <th>Número de Transferências</th>\n",
       "      <th>Volume Transferido</th>\n",
       "    </tr>\n",
       "  </thead>\n",
       "  <tbody>\n",
       "    <tr>\n",
       "      <th>0</th>\n",
       "      <td>1</td>\n",
       "      <td>788.769231</td>\n",
       "      <td>7.110626e+05</td>\n",
       "    </tr>\n",
       "    <tr>\n",
       "      <th>1</th>\n",
       "      <td>2</td>\n",
       "      <td>845.461538</td>\n",
       "      <td>6.644091e+05</td>\n",
       "    </tr>\n",
       "    <tr>\n",
       "      <th>2</th>\n",
       "      <td>3</td>\n",
       "      <td>937.692308</td>\n",
       "      <td>9.016052e+05</td>\n",
       "    </tr>\n",
       "    <tr>\n",
       "      <th>3</th>\n",
       "      <td>4</td>\n",
       "      <td>2923.461538</td>\n",
       "      <td>2.163221e+06</td>\n",
       "    </tr>\n",
       "  </tbody>\n",
       "</table>\n",
       "</div>"
      ],
      "text/plain": [
       "   Trimestre  Número de Transferências  Volume Transferido\n",
       "0          1                788.769231        7.110626e+05\n",
       "1          2                845.461538        6.644091e+05\n",
       "2          3                937.692308        9.016052e+05\n",
       "3          4               2923.461538        2.163221e+06"
      ]
     },
     "execution_count": 31,
     "metadata": {},
     "output_type": "execute_result"
    }
   ],
   "source": [
    "pd.DataFrame(media)"
   ]
  },
  {
   "cell_type": "markdown",
   "metadata": {},
   "source": [
    "- Um analista sugeriu que, meses que contém R no seu nome (Ex: janeiRo), tem um padrão de quantidade de transações diferentes dos meses que não apresentam R no nome (Ex: junho). Apresente suas análises validando ou não essa afirmação."
   ]
  },
  {
   "cell_type": "code",
   "execution_count": 32,
   "metadata": {},
   "outputs": [
    {
     "name": "stderr",
     "output_type": "stream",
     "text": [
      "C:\\Users\\Adel\\AppData\\Local\\Temp\\ipykernel_12584\\2254316994.py:17: FutureWarning:\n",
      "\n",
      "Dropping of nuisance columns in DataFrame reductions (with 'numeric_only=None') is deprecated; in a future version this will raise TypeError.  Select only valid columns before calling the reduction.\n",
      "\n"
     ]
    },
    {
     "data": {
      "application/vnd.plotly.v1+json": {
       "config": {
        "plotlyServerURL": "https://plot.ly"
       },
       "data": [
        {
         "alignmentgroup": "True",
         "hovertemplate": "Meses com R=True<br>Mês=%{x}<br>Valores=%{y}<extra></extra>",
         "legendgroup": "True",
         "marker": {
          "color": "#636efa",
          "pattern": {
           "shape": ""
          }
         },
         "name": "True",
         "offsetgroup": "True",
         "orientation": "v",
         "showlegend": true,
         "textposition": "auto",
         "type": "bar",
         "x": [
          "Jan",
          "Fev",
          "Mar",
          "Abr",
          "Set",
          "Out",
          "Nov",
          "Dez"
         ],
         "xaxis": "x",
         "y": [
          3482,
          2962,
          3816,
          3502,
          4133,
          4513,
          5024,
          28501
         ],
         "yaxis": "y"
        },
        {
         "alignmentgroup": "True",
         "hovertemplate": "Meses com R=False<br>Mês=%{x}<br>Valores=%{y}<extra></extra>",
         "legendgroup": "False",
         "marker": {
          "color": "#EF553B",
          "pattern": {
           "shape": ""
          }
         },
         "name": "False",
         "offsetgroup": "False",
         "orientation": "v",
         "showlegend": true,
         "textposition": "auto",
         "type": "bar",
         "x": [
          "Mai",
          "Jun",
          "Jul",
          "Ago"
         ],
         "xaxis": "x",
         "y": [
          3676,
          3828,
          3997,
          4084
         ],
         "yaxis": "y"
        }
       ],
       "layout": {
        "barmode": "stack",
        "legend": {
         "title": {
          "text": "Meses com R"
         },
         "tracegroupgap": 0
        },
        "margin": {
         "t": 60
        },
        "template": {
         "data": {
          "bar": [
           {
            "error_x": {
             "color": "#2a3f5f"
            },
            "error_y": {
             "color": "#2a3f5f"
            },
            "marker": {
             "line": {
              "color": "#E5ECF6",
              "width": 0.5
             },
             "pattern": {
              "fillmode": "overlay",
              "size": 10,
              "solidity": 0.2
             }
            },
            "type": "bar"
           }
          ],
          "barpolar": [
           {
            "marker": {
             "line": {
              "color": "#E5ECF6",
              "width": 0.5
             },
             "pattern": {
              "fillmode": "overlay",
              "size": 10,
              "solidity": 0.2
             }
            },
            "type": "barpolar"
           }
          ],
          "carpet": [
           {
            "aaxis": {
             "endlinecolor": "#2a3f5f",
             "gridcolor": "white",
             "linecolor": "white",
             "minorgridcolor": "white",
             "startlinecolor": "#2a3f5f"
            },
            "baxis": {
             "endlinecolor": "#2a3f5f",
             "gridcolor": "white",
             "linecolor": "white",
             "minorgridcolor": "white",
             "startlinecolor": "#2a3f5f"
            },
            "type": "carpet"
           }
          ],
          "choropleth": [
           {
            "colorbar": {
             "outlinewidth": 0,
             "ticks": ""
            },
            "type": "choropleth"
           }
          ],
          "contour": [
           {
            "colorbar": {
             "outlinewidth": 0,
             "ticks": ""
            },
            "colorscale": [
             [
              0,
              "#0d0887"
             ],
             [
              0.1111111111111111,
              "#46039f"
             ],
             [
              0.2222222222222222,
              "#7201a8"
             ],
             [
              0.3333333333333333,
              "#9c179e"
             ],
             [
              0.4444444444444444,
              "#bd3786"
             ],
             [
              0.5555555555555556,
              "#d8576b"
             ],
             [
              0.6666666666666666,
              "#ed7953"
             ],
             [
              0.7777777777777778,
              "#fb9f3a"
             ],
             [
              0.8888888888888888,
              "#fdca26"
             ],
             [
              1,
              "#f0f921"
             ]
            ],
            "type": "contour"
           }
          ],
          "contourcarpet": [
           {
            "colorbar": {
             "outlinewidth": 0,
             "ticks": ""
            },
            "type": "contourcarpet"
           }
          ],
          "heatmap": [
           {
            "colorbar": {
             "outlinewidth": 0,
             "ticks": ""
            },
            "colorscale": [
             [
              0,
              "#0d0887"
             ],
             [
              0.1111111111111111,
              "#46039f"
             ],
             [
              0.2222222222222222,
              "#7201a8"
             ],
             [
              0.3333333333333333,
              "#9c179e"
             ],
             [
              0.4444444444444444,
              "#bd3786"
             ],
             [
              0.5555555555555556,
              "#d8576b"
             ],
             [
              0.6666666666666666,
              "#ed7953"
             ],
             [
              0.7777777777777778,
              "#fb9f3a"
             ],
             [
              0.8888888888888888,
              "#fdca26"
             ],
             [
              1,
              "#f0f921"
             ]
            ],
            "type": "heatmap"
           }
          ],
          "heatmapgl": [
           {
            "colorbar": {
             "outlinewidth": 0,
             "ticks": ""
            },
            "colorscale": [
             [
              0,
              "#0d0887"
             ],
             [
              0.1111111111111111,
              "#46039f"
             ],
             [
              0.2222222222222222,
              "#7201a8"
             ],
             [
              0.3333333333333333,
              "#9c179e"
             ],
             [
              0.4444444444444444,
              "#bd3786"
             ],
             [
              0.5555555555555556,
              "#d8576b"
             ],
             [
              0.6666666666666666,
              "#ed7953"
             ],
             [
              0.7777777777777778,
              "#fb9f3a"
             ],
             [
              0.8888888888888888,
              "#fdca26"
             ],
             [
              1,
              "#f0f921"
             ]
            ],
            "type": "heatmapgl"
           }
          ],
          "histogram": [
           {
            "marker": {
             "pattern": {
              "fillmode": "overlay",
              "size": 10,
              "solidity": 0.2
             }
            },
            "type": "histogram"
           }
          ],
          "histogram2d": [
           {
            "colorbar": {
             "outlinewidth": 0,
             "ticks": ""
            },
            "colorscale": [
             [
              0,
              "#0d0887"
             ],
             [
              0.1111111111111111,
              "#46039f"
             ],
             [
              0.2222222222222222,
              "#7201a8"
             ],
             [
              0.3333333333333333,
              "#9c179e"
             ],
             [
              0.4444444444444444,
              "#bd3786"
             ],
             [
              0.5555555555555556,
              "#d8576b"
             ],
             [
              0.6666666666666666,
              "#ed7953"
             ],
             [
              0.7777777777777778,
              "#fb9f3a"
             ],
             [
              0.8888888888888888,
              "#fdca26"
             ],
             [
              1,
              "#f0f921"
             ]
            ],
            "type": "histogram2d"
           }
          ],
          "histogram2dcontour": [
           {
            "colorbar": {
             "outlinewidth": 0,
             "ticks": ""
            },
            "colorscale": [
             [
              0,
              "#0d0887"
             ],
             [
              0.1111111111111111,
              "#46039f"
             ],
             [
              0.2222222222222222,
              "#7201a8"
             ],
             [
              0.3333333333333333,
              "#9c179e"
             ],
             [
              0.4444444444444444,
              "#bd3786"
             ],
             [
              0.5555555555555556,
              "#d8576b"
             ],
             [
              0.6666666666666666,
              "#ed7953"
             ],
             [
              0.7777777777777778,
              "#fb9f3a"
             ],
             [
              0.8888888888888888,
              "#fdca26"
             ],
             [
              1,
              "#f0f921"
             ]
            ],
            "type": "histogram2dcontour"
           }
          ],
          "mesh3d": [
           {
            "colorbar": {
             "outlinewidth": 0,
             "ticks": ""
            },
            "type": "mesh3d"
           }
          ],
          "parcoords": [
           {
            "line": {
             "colorbar": {
              "outlinewidth": 0,
              "ticks": ""
             }
            },
            "type": "parcoords"
           }
          ],
          "pie": [
           {
            "automargin": true,
            "type": "pie"
           }
          ],
          "scatter": [
           {
            "marker": {
             "colorbar": {
              "outlinewidth": 0,
              "ticks": ""
             }
            },
            "type": "scatter"
           }
          ],
          "scatter3d": [
           {
            "line": {
             "colorbar": {
              "outlinewidth": 0,
              "ticks": ""
             }
            },
            "marker": {
             "colorbar": {
              "outlinewidth": 0,
              "ticks": ""
             }
            },
            "type": "scatter3d"
           }
          ],
          "scattercarpet": [
           {
            "marker": {
             "colorbar": {
              "outlinewidth": 0,
              "ticks": ""
             }
            },
            "type": "scattercarpet"
           }
          ],
          "scattergeo": [
           {
            "marker": {
             "colorbar": {
              "outlinewidth": 0,
              "ticks": ""
             }
            },
            "type": "scattergeo"
           }
          ],
          "scattergl": [
           {
            "marker": {
             "colorbar": {
              "outlinewidth": 0,
              "ticks": ""
             }
            },
            "type": "scattergl"
           }
          ],
          "scattermapbox": [
           {
            "marker": {
             "colorbar": {
              "outlinewidth": 0,
              "ticks": ""
             }
            },
            "type": "scattermapbox"
           }
          ],
          "scatterpolar": [
           {
            "marker": {
             "colorbar": {
              "outlinewidth": 0,
              "ticks": ""
             }
            },
            "type": "scatterpolar"
           }
          ],
          "scatterpolargl": [
           {
            "marker": {
             "colorbar": {
              "outlinewidth": 0,
              "ticks": ""
             }
            },
            "type": "scatterpolargl"
           }
          ],
          "scatterternary": [
           {
            "marker": {
             "colorbar": {
              "outlinewidth": 0,
              "ticks": ""
             }
            },
            "type": "scatterternary"
           }
          ],
          "surface": [
           {
            "colorbar": {
             "outlinewidth": 0,
             "ticks": ""
            },
            "colorscale": [
             [
              0,
              "#0d0887"
             ],
             [
              0.1111111111111111,
              "#46039f"
             ],
             [
              0.2222222222222222,
              "#7201a8"
             ],
             [
              0.3333333333333333,
              "#9c179e"
             ],
             [
              0.4444444444444444,
              "#bd3786"
             ],
             [
              0.5555555555555556,
              "#d8576b"
             ],
             [
              0.6666666666666666,
              "#ed7953"
             ],
             [
              0.7777777777777778,
              "#fb9f3a"
             ],
             [
              0.8888888888888888,
              "#fdca26"
             ],
             [
              1,
              "#f0f921"
             ]
            ],
            "type": "surface"
           }
          ],
          "table": [
           {
            "cells": {
             "fill": {
              "color": "#EBF0F8"
             },
             "line": {
              "color": "white"
             }
            },
            "header": {
             "fill": {
              "color": "#C8D4E3"
             },
             "line": {
              "color": "white"
             }
            },
            "type": "table"
           }
          ]
         },
         "layout": {
          "annotationdefaults": {
           "arrowcolor": "#2a3f5f",
           "arrowhead": 0,
           "arrowwidth": 1
          },
          "autotypenumbers": "strict",
          "coloraxis": {
           "colorbar": {
            "outlinewidth": 0,
            "ticks": ""
           }
          },
          "colorscale": {
           "diverging": [
            [
             0,
             "#8e0152"
            ],
            [
             0.1,
             "#c51b7d"
            ],
            [
             0.2,
             "#de77ae"
            ],
            [
             0.3,
             "#f1b6da"
            ],
            [
             0.4,
             "#fde0ef"
            ],
            [
             0.5,
             "#f7f7f7"
            ],
            [
             0.6,
             "#e6f5d0"
            ],
            [
             0.7,
             "#b8e186"
            ],
            [
             0.8,
             "#7fbc41"
            ],
            [
             0.9,
             "#4d9221"
            ],
            [
             1,
             "#276419"
            ]
           ],
           "sequential": [
            [
             0,
             "#0d0887"
            ],
            [
             0.1111111111111111,
             "#46039f"
            ],
            [
             0.2222222222222222,
             "#7201a8"
            ],
            [
             0.3333333333333333,
             "#9c179e"
            ],
            [
             0.4444444444444444,
             "#bd3786"
            ],
            [
             0.5555555555555556,
             "#d8576b"
            ],
            [
             0.6666666666666666,
             "#ed7953"
            ],
            [
             0.7777777777777778,
             "#fb9f3a"
            ],
            [
             0.8888888888888888,
             "#fdca26"
            ],
            [
             1,
             "#f0f921"
            ]
           ],
           "sequentialminus": [
            [
             0,
             "#0d0887"
            ],
            [
             0.1111111111111111,
             "#46039f"
            ],
            [
             0.2222222222222222,
             "#7201a8"
            ],
            [
             0.3333333333333333,
             "#9c179e"
            ],
            [
             0.4444444444444444,
             "#bd3786"
            ],
            [
             0.5555555555555556,
             "#d8576b"
            ],
            [
             0.6666666666666666,
             "#ed7953"
            ],
            [
             0.7777777777777778,
             "#fb9f3a"
            ],
            [
             0.8888888888888888,
             "#fdca26"
            ],
            [
             1,
             "#f0f921"
            ]
           ]
          },
          "colorway": [
           "#636efa",
           "#EF553B",
           "#00cc96",
           "#ab63fa",
           "#FFA15A",
           "#19d3f3",
           "#FF6692",
           "#B6E880",
           "#FF97FF",
           "#FECB52"
          ],
          "font": {
           "color": "#2a3f5f"
          },
          "geo": {
           "bgcolor": "white",
           "lakecolor": "white",
           "landcolor": "#E5ECF6",
           "showlakes": true,
           "showland": true,
           "subunitcolor": "white"
          },
          "hoverlabel": {
           "align": "left"
          },
          "hovermode": "closest",
          "mapbox": {
           "style": "light"
          },
          "paper_bgcolor": "white",
          "plot_bgcolor": "#E5ECF6",
          "polar": {
           "angularaxis": {
            "gridcolor": "white",
            "linecolor": "white",
            "ticks": ""
           },
           "bgcolor": "#E5ECF6",
           "radialaxis": {
            "gridcolor": "white",
            "linecolor": "white",
            "ticks": ""
           }
          },
          "scene": {
           "xaxis": {
            "backgroundcolor": "#E5ECF6",
            "gridcolor": "white",
            "gridwidth": 2,
            "linecolor": "white",
            "showbackground": true,
            "ticks": "",
            "zerolinecolor": "white"
           },
           "yaxis": {
            "backgroundcolor": "#E5ECF6",
            "gridcolor": "white",
            "gridwidth": 2,
            "linecolor": "white",
            "showbackground": true,
            "ticks": "",
            "zerolinecolor": "white"
           },
           "zaxis": {
            "backgroundcolor": "#E5ECF6",
            "gridcolor": "white",
            "gridwidth": 2,
            "linecolor": "white",
            "showbackground": true,
            "ticks": "",
            "zerolinecolor": "white"
           }
          },
          "shapedefaults": {
           "line": {
            "color": "#2a3f5f"
           }
          },
          "ternary": {
           "aaxis": {
            "gridcolor": "white",
            "linecolor": "white",
            "ticks": ""
           },
           "baxis": {
            "gridcolor": "white",
            "linecolor": "white",
            "ticks": ""
           },
           "bgcolor": "#E5ECF6",
           "caxis": {
            "gridcolor": "white",
            "linecolor": "white",
            "ticks": ""
           }
          },
          "title": {
           "x": 0.05
          },
          "xaxis": {
           "automargin": true,
           "gridcolor": "white",
           "linecolor": "white",
           "ticks": "",
           "title": {
            "standoff": 15
           },
           "zerolinecolor": "white",
           "zerolinewidth": 2
          },
          "yaxis": {
           "automargin": true,
           "gridcolor": "white",
           "linecolor": "white",
           "ticks": "",
           "title": {
            "standoff": 15
           },
           "zerolinecolor": "white",
           "zerolinewidth": 2
          }
         }
        },
        "xaxis": {
         "anchor": "y",
         "categoryarray": [
          "Jan",
          "Fev",
          "Mar",
          "Abr",
          "Mai",
          "Jun",
          "Jul",
          "Ago",
          "Set",
          "Out",
          "Nov",
          "Dez"
         ],
         "categoryorder": "array",
         "domain": [
          0,
          1
         ],
         "title": {
          "text": "Mês"
         }
        },
        "yaxis": {
         "anchor": "x",
         "domain": [
          0,
          1
         ],
         "title": {
          "text": "Valores"
         }
        }
       }
      }
     },
     "metadata": {},
     "output_type": "display_data"
    }
   ],
   "source": [
    "contagem_2 = {}\n",
    "\n",
    "meses = {1: 'Jan', 2: 'Fev', 3: 'Mar', 4: 'Abr', 5: 'Mai', 6: 'Jun', 7: 'Jul', 8: 'Ago', 9: 'Set', 10: 'Out', 11: 'Nov', 12: 'Dez'}\n",
    "anos = sorted(df['transacoes']['ano'].unique(), key=int)\n",
    "\n",
    "for a in anos:\n",
    "    contagem_2[a] = df['transacoes'][df['transacoes']['ano'] == a]['mes'].value_counts()\n",
    "    contagem_2[a].columns = ['count']\n",
    "\n",
    "data_3 = pd.DataFrame(contagem_2)\n",
    "data_3 = data_3.reset_index()\n",
    "data_3 = data_3.rename(columns={'index': 'mes'})\n",
    "data_3 = data_3.fillna(0)\n",
    "\n",
    "data_3['mes_nome'] = data_3['mes'].map(meses)\n",
    "\n",
    "cont = {'mes': list(data_3['mes_nome']), 'valores': list(data_3.sum(axis=1)), 'com_r_flag': [True, True, True, True, False, False, False, False, True, True, True, True]}\n",
    "\n",
    "cont_df = pd.DataFrame(cont)\n",
    "\n",
    "fig = px.bar(cont_df, x='mes', y='valores', color='com_r_flag', labels={'mes': 'Mês', 'valores': 'Valores', 'com_r_flag': 'Meses com R'})\n",
    "\n",
    "fig.update_layout(barmode='stack', xaxis={'categoryorder': 'array', 'categoryarray': list(meses.values())})\n",
    "\n",
    "fig.show()"
   ]
  },
  {
   "cell_type": "code",
   "execution_count": 33,
   "metadata": {},
   "outputs": [
    {
     "data": {
      "application/vnd.plotly.v1+json": {
       "config": {
        "plotlyServerURL": "https://plot.ly"
       },
       "data": [
        {
         "alignmentgroup": "True",
         "hovertemplate": "Ano=2010<br>Mês=%{x}<br>Valor=%{y}<extra></extra>",
         "legendgroup": "2010",
         "marker": {
          "color": "#636efa",
          "pattern": {
           "shape": ""
          }
         },
         "name": "2010",
         "offsetgroup": "2010",
         "orientation": "v",
         "showlegend": true,
         "textposition": "auto",
         "type": "bar",
         "x": [
          "Jan",
          "Fev",
          "Mar",
          "Abr",
          "Mai",
          "Jun",
          "Jul",
          "Ago",
          "Set",
          "Out",
          "Nov",
          "Dez"
         ],
         "xaxis": "x",
         "y": [
          0,
          2,
          8,
          0,
          2,
          6,
          6,
          9,
          20,
          16,
          2,
          22
         ],
         "yaxis": "y"
        },
        {
         "alignmentgroup": "True",
         "hovertemplate": "Ano=2011<br>Mês=%{x}<br>Valor=%{y}<extra></extra>",
         "legendgroup": "2011",
         "marker": {
          "color": "#EF553B",
          "pattern": {
           "shape": ""
          }
         },
         "name": "2011",
         "offsetgroup": "2011",
         "orientation": "v",
         "showlegend": true,
         "textposition": "auto",
         "type": "bar",
         "x": [
          "Jan",
          "Fev",
          "Mar",
          "Abr",
          "Mai",
          "Jun",
          "Jul",
          "Ago",
          "Set",
          "Out",
          "Nov",
          "Dez"
         ],
         "xaxis": "x",
         "y": [
          21,
          8,
          21,
          13,
          38,
          40,
          49,
          42,
          41,
          39,
          31,
          24
         ],
         "yaxis": "y"
        },
        {
         "alignmentgroup": "True",
         "hovertemplate": "Ano=2012<br>Mês=%{x}<br>Valor=%{y}<extra></extra>",
         "legendgroup": "2012",
         "marker": {
          "color": "#00cc96",
          "pattern": {
           "shape": ""
          }
         },
         "name": "2012",
         "offsetgroup": "2012",
         "orientation": "v",
         "showlegend": true,
         "textposition": "auto",
         "type": "bar",
         "x": [
          "Jan",
          "Fev",
          "Mar",
          "Abr",
          "Mai",
          "Jun",
          "Jul",
          "Ago",
          "Set",
          "Out",
          "Nov",
          "Dez"
         ],
         "xaxis": "x",
         "y": [
          33,
          32,
          65,
          88,
          75,
          57,
          65,
          41,
          47,
          62,
          73,
          96
         ],
         "yaxis": "y"
        },
        {
         "alignmentgroup": "True",
         "hovertemplate": "Ano=2013<br>Mês=%{x}<br>Valor=%{y}<extra></extra>",
         "legendgroup": "2013",
         "marker": {
          "color": "#ab63fa",
          "pattern": {
           "shape": ""
          }
         },
         "name": "2013",
         "offsetgroup": "2013",
         "orientation": "v",
         "showlegend": true,
         "textposition": "auto",
         "type": "bar",
         "x": [
          "Jan",
          "Fev",
          "Mar",
          "Abr",
          "Mai",
          "Jun",
          "Jul",
          "Ago",
          "Set",
          "Out",
          "Nov",
          "Dez"
         ],
         "xaxis": "x",
         "y": [
          103,
          80,
          93,
          84,
          102,
          137,
          88,
          101,
          80,
          90,
          127,
          164
         ],
         "yaxis": "y"
        },
        {
         "alignmentgroup": "True",
         "hovertemplate": "Ano=2014<br>Mês=%{x}<br>Valor=%{y}<extra></extra>",
         "legendgroup": "2014",
         "marker": {
          "color": "#FFA15A",
          "pattern": {
           "shape": ""
          }
         },
         "name": "2014",
         "offsetgroup": "2014",
         "orientation": "v",
         "showlegend": true,
         "textposition": "auto",
         "type": "bar",
         "x": [
          "Jan",
          "Fev",
          "Mar",
          "Abr",
          "Mai",
          "Jun",
          "Jul",
          "Ago",
          "Set",
          "Out",
          "Nov",
          "Dez"
         ],
         "xaxis": "x",
         "y": [
          134,
          83,
          130,
          122,
          154,
          134,
          108,
          120,
          149,
          127,
          117,
          125
         ],
         "yaxis": "y"
        },
        {
         "alignmentgroup": "True",
         "hovertemplate": "Ano=2015<br>Mês=%{x}<br>Valor=%{y}<extra></extra>",
         "legendgroup": "2015",
         "marker": {
          "color": "#19d3f3",
          "pattern": {
           "shape": ""
          }
         },
         "name": "2015",
         "offsetgroup": "2015",
         "orientation": "v",
         "showlegend": true,
         "textposition": "auto",
         "type": "bar",
         "x": [
          "Jan",
          "Fev",
          "Mar",
          "Abr",
          "Mai",
          "Jun",
          "Jul",
          "Ago",
          "Set",
          "Out",
          "Nov",
          "Dez"
         ],
         "xaxis": "x",
         "y": [
          137,
          94,
          142,
          197,
          117,
          175,
          162,
          199,
          129,
          178,
          171,
          196
         ],
         "yaxis": "y"
        },
        {
         "alignmentgroup": "True",
         "hovertemplate": "Ano=2016<br>Mês=%{x}<br>Valor=%{y}<extra></extra>",
         "legendgroup": "2016",
         "marker": {
          "color": "#FF6692",
          "pattern": {
           "shape": ""
          }
         },
         "name": "2016",
         "offsetgroup": "2016",
         "orientation": "v",
         "showlegend": true,
         "textposition": "auto",
         "type": "bar",
         "x": [
          "Jan",
          "Fev",
          "Mar",
          "Abr",
          "Mai",
          "Jun",
          "Jul",
          "Ago",
          "Set",
          "Out",
          "Nov",
          "Dez"
         ],
         "xaxis": "x",
         "y": [
          218,
          193,
          205,
          167,
          211,
          190,
          269,
          256,
          235,
          236,
          251,
          173
         ],
         "yaxis": "y"
        },
        {
         "alignmentgroup": "True",
         "hovertemplate": "Ano=2017<br>Mês=%{x}<br>Valor=%{y}<extra></extra>",
         "legendgroup": "2017",
         "marker": {
          "color": "#B6E880",
          "pattern": {
           "shape": ""
          }
         },
         "name": "2017",
         "offsetgroup": "2017",
         "orientation": "v",
         "showlegend": true,
         "textposition": "auto",
         "type": "bar",
         "x": [
          "Jan",
          "Fev",
          "Mar",
          "Abr",
          "Mai",
          "Jun",
          "Jul",
          "Ago",
          "Set",
          "Out",
          "Nov",
          "Dez"
         ],
         "xaxis": "x",
         "y": [
          278,
          219,
          308,
          289,
          329,
          301,
          257,
          312,
          334,
          345,
          349,
          233
         ],
         "yaxis": "y"
        },
        {
         "alignmentgroup": "True",
         "hovertemplate": "Ano=2018<br>Mês=%{x}<br>Valor=%{y}<extra></extra>",
         "legendgroup": "2018",
         "marker": {
          "color": "#FF97FF",
          "pattern": {
           "shape": ""
          }
         },
         "name": "2018",
         "offsetgroup": "2018",
         "orientation": "v",
         "showlegend": true,
         "textposition": "auto",
         "type": "bar",
         "x": [
          "Jan",
          "Fev",
          "Mar",
          "Abr",
          "Mai",
          "Jun",
          "Jul",
          "Ago",
          "Set",
          "Out",
          "Nov",
          "Dez"
         ],
         "xaxis": "x",
         "y": [
          279,
          270,
          400,
          303,
          365,
          346,
          378,
          308,
          262,
          287,
          370,
          377
         ],
         "yaxis": "y"
        },
        {
         "alignmentgroup": "True",
         "hovertemplate": "Ano=2019<br>Mês=%{x}<br>Valor=%{y}<extra></extra>",
         "legendgroup": "2019",
         "marker": {
          "color": "#FECB52",
          "pattern": {
           "shape": ""
          }
         },
         "name": "2019",
         "offsetgroup": "2019",
         "orientation": "v",
         "showlegend": true,
         "textposition": "auto",
         "type": "bar",
         "x": [
          "Jan",
          "Fev",
          "Mar",
          "Abr",
          "Mai",
          "Jun",
          "Jul",
          "Ago",
          "Set",
          "Out",
          "Nov",
          "Dez"
         ],
         "xaxis": "x",
         "y": [
          433,
          453,
          436,
          361,
          440,
          490,
          552,
          474,
          469,
          456,
          430,
          434
         ],
         "yaxis": "y"
        },
        {
         "alignmentgroup": "True",
         "hovertemplate": "Ano=2020<br>Mês=%{x}<br>Valor=%{y}<extra></extra>",
         "legendgroup": "2020",
         "marker": {
          "color": "#636efa",
          "pattern": {
           "shape": ""
          }
         },
         "name": "2020",
         "offsetgroup": "2020",
         "orientation": "v",
         "showlegend": true,
         "textposition": "auto",
         "type": "bar",
         "x": [
          "Jan",
          "Fev",
          "Mar",
          "Abr",
          "Mai",
          "Jun",
          "Jul",
          "Ago",
          "Set",
          "Out",
          "Nov",
          "Dez"
         ],
         "xaxis": "x",
         "y": [
          506,
          386,
          464,
          437,
          359,
          492,
          498,
          509,
          456,
          602,
          534,
          540
         ],
         "yaxis": "y"
        },
        {
         "alignmentgroup": "True",
         "hovertemplate": "Ano=2021<br>Mês=%{x}<br>Valor=%{y}<extra></extra>",
         "legendgroup": "2021",
         "marker": {
          "color": "#EF553B",
          "pattern": {
           "shape": ""
          }
         },
         "name": "2021",
         "offsetgroup": "2021",
         "orientation": "v",
         "showlegend": true,
         "textposition": "auto",
         "type": "bar",
         "x": [
          "Jan",
          "Fev",
          "Mar",
          "Abr",
          "Mai",
          "Jun",
          "Jul",
          "Ago",
          "Set",
          "Out",
          "Nov",
          "Dez"
         ],
         "xaxis": "x",
         "y": [
          569,
          515,
          626,
          646,
          653,
          647,
          633,
          620,
          672,
          693,
          717,
          786
         ],
         "yaxis": "y"
        },
        {
         "alignmentgroup": "True",
         "hovertemplate": "Ano=2022<br>Mês=%{x}<br>Valor=%{y}<extra></extra>",
         "legendgroup": "2022",
         "marker": {
          "color": "#00cc96",
          "pattern": {
           "shape": ""
          }
         },
         "name": "2022",
         "offsetgroup": "2022",
         "orientation": "v",
         "showlegend": true,
         "textposition": "auto",
         "type": "bar",
         "x": [
          "Jan",
          "Fev",
          "Mar",
          "Abr",
          "Mai",
          "Jun",
          "Jul",
          "Ago",
          "Set",
          "Out",
          "Nov",
          "Dez"
         ],
         "xaxis": "x",
         "y": [
          770,
          625,
          915,
          791,
          826,
          807,
          925,
          1085,
          1230,
          1372,
          1841,
          25319
         ],
         "yaxis": "y"
        }
       ],
       "layout": {
        "barmode": "relative",
        "legend": {
         "title": {
          "text": "Ano"
         },
         "tracegroupgap": 0
        },
        "margin": {
         "t": 60
        },
        "template": {
         "data": {
          "bar": [
           {
            "error_x": {
             "color": "#2a3f5f"
            },
            "error_y": {
             "color": "#2a3f5f"
            },
            "marker": {
             "line": {
              "color": "#E5ECF6",
              "width": 0.5
             },
             "pattern": {
              "fillmode": "overlay",
              "size": 10,
              "solidity": 0.2
             }
            },
            "type": "bar"
           }
          ],
          "barpolar": [
           {
            "marker": {
             "line": {
              "color": "#E5ECF6",
              "width": 0.5
             },
             "pattern": {
              "fillmode": "overlay",
              "size": 10,
              "solidity": 0.2
             }
            },
            "type": "barpolar"
           }
          ],
          "carpet": [
           {
            "aaxis": {
             "endlinecolor": "#2a3f5f",
             "gridcolor": "white",
             "linecolor": "white",
             "minorgridcolor": "white",
             "startlinecolor": "#2a3f5f"
            },
            "baxis": {
             "endlinecolor": "#2a3f5f",
             "gridcolor": "white",
             "linecolor": "white",
             "minorgridcolor": "white",
             "startlinecolor": "#2a3f5f"
            },
            "type": "carpet"
           }
          ],
          "choropleth": [
           {
            "colorbar": {
             "outlinewidth": 0,
             "ticks": ""
            },
            "type": "choropleth"
           }
          ],
          "contour": [
           {
            "colorbar": {
             "outlinewidth": 0,
             "ticks": ""
            },
            "colorscale": [
             [
              0,
              "#0d0887"
             ],
             [
              0.1111111111111111,
              "#46039f"
             ],
             [
              0.2222222222222222,
              "#7201a8"
             ],
             [
              0.3333333333333333,
              "#9c179e"
             ],
             [
              0.4444444444444444,
              "#bd3786"
             ],
             [
              0.5555555555555556,
              "#d8576b"
             ],
             [
              0.6666666666666666,
              "#ed7953"
             ],
             [
              0.7777777777777778,
              "#fb9f3a"
             ],
             [
              0.8888888888888888,
              "#fdca26"
             ],
             [
              1,
              "#f0f921"
             ]
            ],
            "type": "contour"
           }
          ],
          "contourcarpet": [
           {
            "colorbar": {
             "outlinewidth": 0,
             "ticks": ""
            },
            "type": "contourcarpet"
           }
          ],
          "heatmap": [
           {
            "colorbar": {
             "outlinewidth": 0,
             "ticks": ""
            },
            "colorscale": [
             [
              0,
              "#0d0887"
             ],
             [
              0.1111111111111111,
              "#46039f"
             ],
             [
              0.2222222222222222,
              "#7201a8"
             ],
             [
              0.3333333333333333,
              "#9c179e"
             ],
             [
              0.4444444444444444,
              "#bd3786"
             ],
             [
              0.5555555555555556,
              "#d8576b"
             ],
             [
              0.6666666666666666,
              "#ed7953"
             ],
             [
              0.7777777777777778,
              "#fb9f3a"
             ],
             [
              0.8888888888888888,
              "#fdca26"
             ],
             [
              1,
              "#f0f921"
             ]
            ],
            "type": "heatmap"
           }
          ],
          "heatmapgl": [
           {
            "colorbar": {
             "outlinewidth": 0,
             "ticks": ""
            },
            "colorscale": [
             [
              0,
              "#0d0887"
             ],
             [
              0.1111111111111111,
              "#46039f"
             ],
             [
              0.2222222222222222,
              "#7201a8"
             ],
             [
              0.3333333333333333,
              "#9c179e"
             ],
             [
              0.4444444444444444,
              "#bd3786"
             ],
             [
              0.5555555555555556,
              "#d8576b"
             ],
             [
              0.6666666666666666,
              "#ed7953"
             ],
             [
              0.7777777777777778,
              "#fb9f3a"
             ],
             [
              0.8888888888888888,
              "#fdca26"
             ],
             [
              1,
              "#f0f921"
             ]
            ],
            "type": "heatmapgl"
           }
          ],
          "histogram": [
           {
            "marker": {
             "pattern": {
              "fillmode": "overlay",
              "size": 10,
              "solidity": 0.2
             }
            },
            "type": "histogram"
           }
          ],
          "histogram2d": [
           {
            "colorbar": {
             "outlinewidth": 0,
             "ticks": ""
            },
            "colorscale": [
             [
              0,
              "#0d0887"
             ],
             [
              0.1111111111111111,
              "#46039f"
             ],
             [
              0.2222222222222222,
              "#7201a8"
             ],
             [
              0.3333333333333333,
              "#9c179e"
             ],
             [
              0.4444444444444444,
              "#bd3786"
             ],
             [
              0.5555555555555556,
              "#d8576b"
             ],
             [
              0.6666666666666666,
              "#ed7953"
             ],
             [
              0.7777777777777778,
              "#fb9f3a"
             ],
             [
              0.8888888888888888,
              "#fdca26"
             ],
             [
              1,
              "#f0f921"
             ]
            ],
            "type": "histogram2d"
           }
          ],
          "histogram2dcontour": [
           {
            "colorbar": {
             "outlinewidth": 0,
             "ticks": ""
            },
            "colorscale": [
             [
              0,
              "#0d0887"
             ],
             [
              0.1111111111111111,
              "#46039f"
             ],
             [
              0.2222222222222222,
              "#7201a8"
             ],
             [
              0.3333333333333333,
              "#9c179e"
             ],
             [
              0.4444444444444444,
              "#bd3786"
             ],
             [
              0.5555555555555556,
              "#d8576b"
             ],
             [
              0.6666666666666666,
              "#ed7953"
             ],
             [
              0.7777777777777778,
              "#fb9f3a"
             ],
             [
              0.8888888888888888,
              "#fdca26"
             ],
             [
              1,
              "#f0f921"
             ]
            ],
            "type": "histogram2dcontour"
           }
          ],
          "mesh3d": [
           {
            "colorbar": {
             "outlinewidth": 0,
             "ticks": ""
            },
            "type": "mesh3d"
           }
          ],
          "parcoords": [
           {
            "line": {
             "colorbar": {
              "outlinewidth": 0,
              "ticks": ""
             }
            },
            "type": "parcoords"
           }
          ],
          "pie": [
           {
            "automargin": true,
            "type": "pie"
           }
          ],
          "scatter": [
           {
            "marker": {
             "colorbar": {
              "outlinewidth": 0,
              "ticks": ""
             }
            },
            "type": "scatter"
           }
          ],
          "scatter3d": [
           {
            "line": {
             "colorbar": {
              "outlinewidth": 0,
              "ticks": ""
             }
            },
            "marker": {
             "colorbar": {
              "outlinewidth": 0,
              "ticks": ""
             }
            },
            "type": "scatter3d"
           }
          ],
          "scattercarpet": [
           {
            "marker": {
             "colorbar": {
              "outlinewidth": 0,
              "ticks": ""
             }
            },
            "type": "scattercarpet"
           }
          ],
          "scattergeo": [
           {
            "marker": {
             "colorbar": {
              "outlinewidth": 0,
              "ticks": ""
             }
            },
            "type": "scattergeo"
           }
          ],
          "scattergl": [
           {
            "marker": {
             "colorbar": {
              "outlinewidth": 0,
              "ticks": ""
             }
            },
            "type": "scattergl"
           }
          ],
          "scattermapbox": [
           {
            "marker": {
             "colorbar": {
              "outlinewidth": 0,
              "ticks": ""
             }
            },
            "type": "scattermapbox"
           }
          ],
          "scatterpolar": [
           {
            "marker": {
             "colorbar": {
              "outlinewidth": 0,
              "ticks": ""
             }
            },
            "type": "scatterpolar"
           }
          ],
          "scatterpolargl": [
           {
            "marker": {
             "colorbar": {
              "outlinewidth": 0,
              "ticks": ""
             }
            },
            "type": "scatterpolargl"
           }
          ],
          "scatterternary": [
           {
            "marker": {
             "colorbar": {
              "outlinewidth": 0,
              "ticks": ""
             }
            },
            "type": "scatterternary"
           }
          ],
          "surface": [
           {
            "colorbar": {
             "outlinewidth": 0,
             "ticks": ""
            },
            "colorscale": [
             [
              0,
              "#0d0887"
             ],
             [
              0.1111111111111111,
              "#46039f"
             ],
             [
              0.2222222222222222,
              "#7201a8"
             ],
             [
              0.3333333333333333,
              "#9c179e"
             ],
             [
              0.4444444444444444,
              "#bd3786"
             ],
             [
              0.5555555555555556,
              "#d8576b"
             ],
             [
              0.6666666666666666,
              "#ed7953"
             ],
             [
              0.7777777777777778,
              "#fb9f3a"
             ],
             [
              0.8888888888888888,
              "#fdca26"
             ],
             [
              1,
              "#f0f921"
             ]
            ],
            "type": "surface"
           }
          ],
          "table": [
           {
            "cells": {
             "fill": {
              "color": "#EBF0F8"
             },
             "line": {
              "color": "white"
             }
            },
            "header": {
             "fill": {
              "color": "#C8D4E3"
             },
             "line": {
              "color": "white"
             }
            },
            "type": "table"
           }
          ]
         },
         "layout": {
          "annotationdefaults": {
           "arrowcolor": "#2a3f5f",
           "arrowhead": 0,
           "arrowwidth": 1
          },
          "autotypenumbers": "strict",
          "coloraxis": {
           "colorbar": {
            "outlinewidth": 0,
            "ticks": ""
           }
          },
          "colorscale": {
           "diverging": [
            [
             0,
             "#8e0152"
            ],
            [
             0.1,
             "#c51b7d"
            ],
            [
             0.2,
             "#de77ae"
            ],
            [
             0.3,
             "#f1b6da"
            ],
            [
             0.4,
             "#fde0ef"
            ],
            [
             0.5,
             "#f7f7f7"
            ],
            [
             0.6,
             "#e6f5d0"
            ],
            [
             0.7,
             "#b8e186"
            ],
            [
             0.8,
             "#7fbc41"
            ],
            [
             0.9,
             "#4d9221"
            ],
            [
             1,
             "#276419"
            ]
           ],
           "sequential": [
            [
             0,
             "#0d0887"
            ],
            [
             0.1111111111111111,
             "#46039f"
            ],
            [
             0.2222222222222222,
             "#7201a8"
            ],
            [
             0.3333333333333333,
             "#9c179e"
            ],
            [
             0.4444444444444444,
             "#bd3786"
            ],
            [
             0.5555555555555556,
             "#d8576b"
            ],
            [
             0.6666666666666666,
             "#ed7953"
            ],
            [
             0.7777777777777778,
             "#fb9f3a"
            ],
            [
             0.8888888888888888,
             "#fdca26"
            ],
            [
             1,
             "#f0f921"
            ]
           ],
           "sequentialminus": [
            [
             0,
             "#0d0887"
            ],
            [
             0.1111111111111111,
             "#46039f"
            ],
            [
             0.2222222222222222,
             "#7201a8"
            ],
            [
             0.3333333333333333,
             "#9c179e"
            ],
            [
             0.4444444444444444,
             "#bd3786"
            ],
            [
             0.5555555555555556,
             "#d8576b"
            ],
            [
             0.6666666666666666,
             "#ed7953"
            ],
            [
             0.7777777777777778,
             "#fb9f3a"
            ],
            [
             0.8888888888888888,
             "#fdca26"
            ],
            [
             1,
             "#f0f921"
            ]
           ]
          },
          "colorway": [
           "#636efa",
           "#EF553B",
           "#00cc96",
           "#ab63fa",
           "#FFA15A",
           "#19d3f3",
           "#FF6692",
           "#B6E880",
           "#FF97FF",
           "#FECB52"
          ],
          "font": {
           "color": "#2a3f5f"
          },
          "geo": {
           "bgcolor": "white",
           "lakecolor": "white",
           "landcolor": "#E5ECF6",
           "showlakes": true,
           "showland": true,
           "subunitcolor": "white"
          },
          "hoverlabel": {
           "align": "left"
          },
          "hovermode": "closest",
          "mapbox": {
           "style": "light"
          },
          "paper_bgcolor": "white",
          "plot_bgcolor": "#E5ECF6",
          "polar": {
           "angularaxis": {
            "gridcolor": "white",
            "linecolor": "white",
            "ticks": ""
           },
           "bgcolor": "#E5ECF6",
           "radialaxis": {
            "gridcolor": "white",
            "linecolor": "white",
            "ticks": ""
           }
          },
          "scene": {
           "xaxis": {
            "backgroundcolor": "#E5ECF6",
            "gridcolor": "white",
            "gridwidth": 2,
            "linecolor": "white",
            "showbackground": true,
            "ticks": "",
            "zerolinecolor": "white"
           },
           "yaxis": {
            "backgroundcolor": "#E5ECF6",
            "gridcolor": "white",
            "gridwidth": 2,
            "linecolor": "white",
            "showbackground": true,
            "ticks": "",
            "zerolinecolor": "white"
           },
           "zaxis": {
            "backgroundcolor": "#E5ECF6",
            "gridcolor": "white",
            "gridwidth": 2,
            "linecolor": "white",
            "showbackground": true,
            "ticks": "",
            "zerolinecolor": "white"
           }
          },
          "shapedefaults": {
           "line": {
            "color": "#2a3f5f"
           }
          },
          "ternary": {
           "aaxis": {
            "gridcolor": "white",
            "linecolor": "white",
            "ticks": ""
           },
           "baxis": {
            "gridcolor": "white",
            "linecolor": "white",
            "ticks": ""
           },
           "bgcolor": "#E5ECF6",
           "caxis": {
            "gridcolor": "white",
            "linecolor": "white",
            "ticks": ""
           }
          },
          "title": {
           "x": 0.05
          },
          "xaxis": {
           "automargin": true,
           "gridcolor": "white",
           "linecolor": "white",
           "ticks": "",
           "title": {
            "standoff": 15
           },
           "zerolinecolor": "white",
           "zerolinewidth": 2
          },
          "yaxis": {
           "automargin": true,
           "gridcolor": "white",
           "linecolor": "white",
           "ticks": "",
           "title": {
            "standoff": 15
           },
           "zerolinecolor": "white",
           "zerolinewidth": 2
          }
         }
        },
        "xaxis": {
         "anchor": "y",
         "domain": [
          0,
          1
         ],
         "title": {
          "text": "Mês"
         }
        },
        "yaxis": {
         "anchor": "x",
         "domain": [
          0,
          1
         ],
         "title": {
          "text": "Valor"
         }
        }
       }
      }
     },
     "metadata": {},
     "output_type": "display_data"
    }
   ],
   "source": [
    "data_3 = data_3.drop(columns='mes')\n",
    "\n",
    "dados_long_2 = data_3.melt(id_vars=[\"mes_nome\"], var_name=\"Ano\", value_name=\"Valor\")\n",
    "\n",
    "fig = px.bar(dados_long_2, x='mes_nome', y='Valor', labels={'mes_nome': 'Mês'}, color='Ano')\n",
    "\n",
    "fig.show()"
   ]
  },
  {
   "cell_type": "code",
   "execution_count": 34,
   "metadata": {},
   "outputs": [
    {
     "data": {
      "application/vnd.plotly.v1+json": {
       "config": {
        "plotlyServerURL": "https://plot.ly"
       },
       "data": [
        {
         "alignmentgroup": "True",
         "hovertemplate": "Ano=2010<br>Mês=%{x}<br>Valor=%{y}<extra></extra>",
         "legendgroup": "2010",
         "marker": {
          "color": "#636efa",
          "pattern": {
           "shape": ""
          }
         },
         "name": "2010",
         "offsetgroup": "2010",
         "orientation": "v",
         "showlegend": true,
         "textposition": "auto",
         "type": "bar",
         "x": [
          "Jan",
          "Fev",
          "Mar",
          "Abr",
          "Mai",
          "Jun",
          "Jul",
          "Ago",
          "Set",
          "Out",
          "Nov",
          "Dez"
         ],
         "xaxis": "x",
         "y": [
          0,
          2,
          8,
          0,
          2,
          6,
          6,
          9,
          20,
          16,
          2,
          22
         ],
         "yaxis": "y"
        },
        {
         "alignmentgroup": "True",
         "hovertemplate": "Ano=2011<br>Mês=%{x}<br>Valor=%{y}<extra></extra>",
         "legendgroup": "2011",
         "marker": {
          "color": "#EF553B",
          "pattern": {
           "shape": ""
          }
         },
         "name": "2011",
         "offsetgroup": "2011",
         "orientation": "v",
         "showlegend": true,
         "textposition": "auto",
         "type": "bar",
         "x": [
          "Jan",
          "Fev",
          "Mar",
          "Abr",
          "Mai",
          "Jun",
          "Jul",
          "Ago",
          "Set",
          "Out",
          "Nov",
          "Dez"
         ],
         "xaxis": "x",
         "y": [
          21,
          8,
          21,
          13,
          38,
          40,
          49,
          42,
          41,
          39,
          31,
          24
         ],
         "yaxis": "y"
        },
        {
         "alignmentgroup": "True",
         "hovertemplate": "Ano=2012<br>Mês=%{x}<br>Valor=%{y}<extra></extra>",
         "legendgroup": "2012",
         "marker": {
          "color": "#00cc96",
          "pattern": {
           "shape": ""
          }
         },
         "name": "2012",
         "offsetgroup": "2012",
         "orientation": "v",
         "showlegend": true,
         "textposition": "auto",
         "type": "bar",
         "x": [
          "Jan",
          "Fev",
          "Mar",
          "Abr",
          "Mai",
          "Jun",
          "Jul",
          "Ago",
          "Set",
          "Out",
          "Nov",
          "Dez"
         ],
         "xaxis": "x",
         "y": [
          33,
          32,
          65,
          88,
          75,
          57,
          65,
          41,
          47,
          62,
          73,
          96
         ],
         "yaxis": "y"
        },
        {
         "alignmentgroup": "True",
         "hovertemplate": "Ano=2013<br>Mês=%{x}<br>Valor=%{y}<extra></extra>",
         "legendgroup": "2013",
         "marker": {
          "color": "#ab63fa",
          "pattern": {
           "shape": ""
          }
         },
         "name": "2013",
         "offsetgroup": "2013",
         "orientation": "v",
         "showlegend": true,
         "textposition": "auto",
         "type": "bar",
         "x": [
          "Jan",
          "Fev",
          "Mar",
          "Abr",
          "Mai",
          "Jun",
          "Jul",
          "Ago",
          "Set",
          "Out",
          "Nov",
          "Dez"
         ],
         "xaxis": "x",
         "y": [
          103,
          80,
          93,
          84,
          102,
          137,
          88,
          101,
          80,
          90,
          127,
          164
         ],
         "yaxis": "y"
        },
        {
         "alignmentgroup": "True",
         "hovertemplate": "Ano=2014<br>Mês=%{x}<br>Valor=%{y}<extra></extra>",
         "legendgroup": "2014",
         "marker": {
          "color": "#FFA15A",
          "pattern": {
           "shape": ""
          }
         },
         "name": "2014",
         "offsetgroup": "2014",
         "orientation": "v",
         "showlegend": true,
         "textposition": "auto",
         "type": "bar",
         "x": [
          "Jan",
          "Fev",
          "Mar",
          "Abr",
          "Mai",
          "Jun",
          "Jul",
          "Ago",
          "Set",
          "Out",
          "Nov",
          "Dez"
         ],
         "xaxis": "x",
         "y": [
          134,
          83,
          130,
          122,
          154,
          134,
          108,
          120,
          149,
          127,
          117,
          125
         ],
         "yaxis": "y"
        },
        {
         "alignmentgroup": "True",
         "hovertemplate": "Ano=2015<br>Mês=%{x}<br>Valor=%{y}<extra></extra>",
         "legendgroup": "2015",
         "marker": {
          "color": "#19d3f3",
          "pattern": {
           "shape": ""
          }
         },
         "name": "2015",
         "offsetgroup": "2015",
         "orientation": "v",
         "showlegend": true,
         "textposition": "auto",
         "type": "bar",
         "x": [
          "Jan",
          "Fev",
          "Mar",
          "Abr",
          "Mai",
          "Jun",
          "Jul",
          "Ago",
          "Set",
          "Out",
          "Nov",
          "Dez"
         ],
         "xaxis": "x",
         "y": [
          137,
          94,
          142,
          197,
          117,
          175,
          162,
          199,
          129,
          178,
          171,
          196
         ],
         "yaxis": "y"
        },
        {
         "alignmentgroup": "True",
         "hovertemplate": "Ano=2016<br>Mês=%{x}<br>Valor=%{y}<extra></extra>",
         "legendgroup": "2016",
         "marker": {
          "color": "#FF6692",
          "pattern": {
           "shape": ""
          }
         },
         "name": "2016",
         "offsetgroup": "2016",
         "orientation": "v",
         "showlegend": true,
         "textposition": "auto",
         "type": "bar",
         "x": [
          "Jan",
          "Fev",
          "Mar",
          "Abr",
          "Mai",
          "Jun",
          "Jul",
          "Ago",
          "Set",
          "Out",
          "Nov",
          "Dez"
         ],
         "xaxis": "x",
         "y": [
          218,
          193,
          205,
          167,
          211,
          190,
          269,
          256,
          235,
          236,
          251,
          173
         ],
         "yaxis": "y"
        },
        {
         "alignmentgroup": "True",
         "hovertemplate": "Ano=2017<br>Mês=%{x}<br>Valor=%{y}<extra></extra>",
         "legendgroup": "2017",
         "marker": {
          "color": "#B6E880",
          "pattern": {
           "shape": ""
          }
         },
         "name": "2017",
         "offsetgroup": "2017",
         "orientation": "v",
         "showlegend": true,
         "textposition": "auto",
         "type": "bar",
         "x": [
          "Jan",
          "Fev",
          "Mar",
          "Abr",
          "Mai",
          "Jun",
          "Jul",
          "Ago",
          "Set",
          "Out",
          "Nov",
          "Dez"
         ],
         "xaxis": "x",
         "y": [
          278,
          219,
          308,
          289,
          329,
          301,
          257,
          312,
          334,
          345,
          349,
          233
         ],
         "yaxis": "y"
        },
        {
         "alignmentgroup": "True",
         "hovertemplate": "Ano=2018<br>Mês=%{x}<br>Valor=%{y}<extra></extra>",
         "legendgroup": "2018",
         "marker": {
          "color": "#FF97FF",
          "pattern": {
           "shape": ""
          }
         },
         "name": "2018",
         "offsetgroup": "2018",
         "orientation": "v",
         "showlegend": true,
         "textposition": "auto",
         "type": "bar",
         "x": [
          "Jan",
          "Fev",
          "Mar",
          "Abr",
          "Mai",
          "Jun",
          "Jul",
          "Ago",
          "Set",
          "Out",
          "Nov",
          "Dez"
         ],
         "xaxis": "x",
         "y": [
          279,
          270,
          400,
          303,
          365,
          346,
          378,
          308,
          262,
          287,
          370,
          377
         ],
         "yaxis": "y"
        },
        {
         "alignmentgroup": "True",
         "hovertemplate": "Ano=2019<br>Mês=%{x}<br>Valor=%{y}<extra></extra>",
         "legendgroup": "2019",
         "marker": {
          "color": "#FECB52",
          "pattern": {
           "shape": ""
          }
         },
         "name": "2019",
         "offsetgroup": "2019",
         "orientation": "v",
         "showlegend": true,
         "textposition": "auto",
         "type": "bar",
         "x": [
          "Jan",
          "Fev",
          "Mar",
          "Abr",
          "Mai",
          "Jun",
          "Jul",
          "Ago",
          "Set",
          "Out",
          "Nov",
          "Dez"
         ],
         "xaxis": "x",
         "y": [
          433,
          453,
          436,
          361,
          440,
          490,
          552,
          474,
          469,
          456,
          430,
          434
         ],
         "yaxis": "y"
        },
        {
         "alignmentgroup": "True",
         "hovertemplate": "Ano=2020<br>Mês=%{x}<br>Valor=%{y}<extra></extra>",
         "legendgroup": "2020",
         "marker": {
          "color": "#636efa",
          "pattern": {
           "shape": ""
          }
         },
         "name": "2020",
         "offsetgroup": "2020",
         "orientation": "v",
         "showlegend": true,
         "textposition": "auto",
         "type": "bar",
         "x": [
          "Jan",
          "Fev",
          "Mar",
          "Abr",
          "Mai",
          "Jun",
          "Jul",
          "Ago",
          "Set",
          "Out",
          "Nov",
          "Dez"
         ],
         "xaxis": "x",
         "y": [
          506,
          386,
          464,
          437,
          359,
          492,
          498,
          509,
          456,
          602,
          534,
          540
         ],
         "yaxis": "y"
        },
        {
         "alignmentgroup": "True",
         "hovertemplate": "Ano=2021<br>Mês=%{x}<br>Valor=%{y}<extra></extra>",
         "legendgroup": "2021",
         "marker": {
          "color": "#EF553B",
          "pattern": {
           "shape": ""
          }
         },
         "name": "2021",
         "offsetgroup": "2021",
         "orientation": "v",
         "showlegend": true,
         "textposition": "auto",
         "type": "bar",
         "x": [
          "Jan",
          "Fev",
          "Mar",
          "Abr",
          "Mai",
          "Jun",
          "Jul",
          "Ago",
          "Set",
          "Out",
          "Nov",
          "Dez"
         ],
         "xaxis": "x",
         "y": [
          569,
          515,
          626,
          646,
          653,
          647,
          633,
          620,
          672,
          693,
          717,
          786
         ],
         "yaxis": "y"
        }
       ],
       "layout": {
        "barmode": "relative",
        "legend": {
         "title": {
          "text": "Ano"
         },
         "tracegroupgap": 0
        },
        "margin": {
         "t": 60
        },
        "template": {
         "data": {
          "bar": [
           {
            "error_x": {
             "color": "#2a3f5f"
            },
            "error_y": {
             "color": "#2a3f5f"
            },
            "marker": {
             "line": {
              "color": "#E5ECF6",
              "width": 0.5
             },
             "pattern": {
              "fillmode": "overlay",
              "size": 10,
              "solidity": 0.2
             }
            },
            "type": "bar"
           }
          ],
          "barpolar": [
           {
            "marker": {
             "line": {
              "color": "#E5ECF6",
              "width": 0.5
             },
             "pattern": {
              "fillmode": "overlay",
              "size": 10,
              "solidity": 0.2
             }
            },
            "type": "barpolar"
           }
          ],
          "carpet": [
           {
            "aaxis": {
             "endlinecolor": "#2a3f5f",
             "gridcolor": "white",
             "linecolor": "white",
             "minorgridcolor": "white",
             "startlinecolor": "#2a3f5f"
            },
            "baxis": {
             "endlinecolor": "#2a3f5f",
             "gridcolor": "white",
             "linecolor": "white",
             "minorgridcolor": "white",
             "startlinecolor": "#2a3f5f"
            },
            "type": "carpet"
           }
          ],
          "choropleth": [
           {
            "colorbar": {
             "outlinewidth": 0,
             "ticks": ""
            },
            "type": "choropleth"
           }
          ],
          "contour": [
           {
            "colorbar": {
             "outlinewidth": 0,
             "ticks": ""
            },
            "colorscale": [
             [
              0,
              "#0d0887"
             ],
             [
              0.1111111111111111,
              "#46039f"
             ],
             [
              0.2222222222222222,
              "#7201a8"
             ],
             [
              0.3333333333333333,
              "#9c179e"
             ],
             [
              0.4444444444444444,
              "#bd3786"
             ],
             [
              0.5555555555555556,
              "#d8576b"
             ],
             [
              0.6666666666666666,
              "#ed7953"
             ],
             [
              0.7777777777777778,
              "#fb9f3a"
             ],
             [
              0.8888888888888888,
              "#fdca26"
             ],
             [
              1,
              "#f0f921"
             ]
            ],
            "type": "contour"
           }
          ],
          "contourcarpet": [
           {
            "colorbar": {
             "outlinewidth": 0,
             "ticks": ""
            },
            "type": "contourcarpet"
           }
          ],
          "heatmap": [
           {
            "colorbar": {
             "outlinewidth": 0,
             "ticks": ""
            },
            "colorscale": [
             [
              0,
              "#0d0887"
             ],
             [
              0.1111111111111111,
              "#46039f"
             ],
             [
              0.2222222222222222,
              "#7201a8"
             ],
             [
              0.3333333333333333,
              "#9c179e"
             ],
             [
              0.4444444444444444,
              "#bd3786"
             ],
             [
              0.5555555555555556,
              "#d8576b"
             ],
             [
              0.6666666666666666,
              "#ed7953"
             ],
             [
              0.7777777777777778,
              "#fb9f3a"
             ],
             [
              0.8888888888888888,
              "#fdca26"
             ],
             [
              1,
              "#f0f921"
             ]
            ],
            "type": "heatmap"
           }
          ],
          "heatmapgl": [
           {
            "colorbar": {
             "outlinewidth": 0,
             "ticks": ""
            },
            "colorscale": [
             [
              0,
              "#0d0887"
             ],
             [
              0.1111111111111111,
              "#46039f"
             ],
             [
              0.2222222222222222,
              "#7201a8"
             ],
             [
              0.3333333333333333,
              "#9c179e"
             ],
             [
              0.4444444444444444,
              "#bd3786"
             ],
             [
              0.5555555555555556,
              "#d8576b"
             ],
             [
              0.6666666666666666,
              "#ed7953"
             ],
             [
              0.7777777777777778,
              "#fb9f3a"
             ],
             [
              0.8888888888888888,
              "#fdca26"
             ],
             [
              1,
              "#f0f921"
             ]
            ],
            "type": "heatmapgl"
           }
          ],
          "histogram": [
           {
            "marker": {
             "pattern": {
              "fillmode": "overlay",
              "size": 10,
              "solidity": 0.2
             }
            },
            "type": "histogram"
           }
          ],
          "histogram2d": [
           {
            "colorbar": {
             "outlinewidth": 0,
             "ticks": ""
            },
            "colorscale": [
             [
              0,
              "#0d0887"
             ],
             [
              0.1111111111111111,
              "#46039f"
             ],
             [
              0.2222222222222222,
              "#7201a8"
             ],
             [
              0.3333333333333333,
              "#9c179e"
             ],
             [
              0.4444444444444444,
              "#bd3786"
             ],
             [
              0.5555555555555556,
              "#d8576b"
             ],
             [
              0.6666666666666666,
              "#ed7953"
             ],
             [
              0.7777777777777778,
              "#fb9f3a"
             ],
             [
              0.8888888888888888,
              "#fdca26"
             ],
             [
              1,
              "#f0f921"
             ]
            ],
            "type": "histogram2d"
           }
          ],
          "histogram2dcontour": [
           {
            "colorbar": {
             "outlinewidth": 0,
             "ticks": ""
            },
            "colorscale": [
             [
              0,
              "#0d0887"
             ],
             [
              0.1111111111111111,
              "#46039f"
             ],
             [
              0.2222222222222222,
              "#7201a8"
             ],
             [
              0.3333333333333333,
              "#9c179e"
             ],
             [
              0.4444444444444444,
              "#bd3786"
             ],
             [
              0.5555555555555556,
              "#d8576b"
             ],
             [
              0.6666666666666666,
              "#ed7953"
             ],
             [
              0.7777777777777778,
              "#fb9f3a"
             ],
             [
              0.8888888888888888,
              "#fdca26"
             ],
             [
              1,
              "#f0f921"
             ]
            ],
            "type": "histogram2dcontour"
           }
          ],
          "mesh3d": [
           {
            "colorbar": {
             "outlinewidth": 0,
             "ticks": ""
            },
            "type": "mesh3d"
           }
          ],
          "parcoords": [
           {
            "line": {
             "colorbar": {
              "outlinewidth": 0,
              "ticks": ""
             }
            },
            "type": "parcoords"
           }
          ],
          "pie": [
           {
            "automargin": true,
            "type": "pie"
           }
          ],
          "scatter": [
           {
            "marker": {
             "colorbar": {
              "outlinewidth": 0,
              "ticks": ""
             }
            },
            "type": "scatter"
           }
          ],
          "scatter3d": [
           {
            "line": {
             "colorbar": {
              "outlinewidth": 0,
              "ticks": ""
             }
            },
            "marker": {
             "colorbar": {
              "outlinewidth": 0,
              "ticks": ""
             }
            },
            "type": "scatter3d"
           }
          ],
          "scattercarpet": [
           {
            "marker": {
             "colorbar": {
              "outlinewidth": 0,
              "ticks": ""
             }
            },
            "type": "scattercarpet"
           }
          ],
          "scattergeo": [
           {
            "marker": {
             "colorbar": {
              "outlinewidth": 0,
              "ticks": ""
             }
            },
            "type": "scattergeo"
           }
          ],
          "scattergl": [
           {
            "marker": {
             "colorbar": {
              "outlinewidth": 0,
              "ticks": ""
             }
            },
            "type": "scattergl"
           }
          ],
          "scattermapbox": [
           {
            "marker": {
             "colorbar": {
              "outlinewidth": 0,
              "ticks": ""
             }
            },
            "type": "scattermapbox"
           }
          ],
          "scatterpolar": [
           {
            "marker": {
             "colorbar": {
              "outlinewidth": 0,
              "ticks": ""
             }
            },
            "type": "scatterpolar"
           }
          ],
          "scatterpolargl": [
           {
            "marker": {
             "colorbar": {
              "outlinewidth": 0,
              "ticks": ""
             }
            },
            "type": "scatterpolargl"
           }
          ],
          "scatterternary": [
           {
            "marker": {
             "colorbar": {
              "outlinewidth": 0,
              "ticks": ""
             }
            },
            "type": "scatterternary"
           }
          ],
          "surface": [
           {
            "colorbar": {
             "outlinewidth": 0,
             "ticks": ""
            },
            "colorscale": [
             [
              0,
              "#0d0887"
             ],
             [
              0.1111111111111111,
              "#46039f"
             ],
             [
              0.2222222222222222,
              "#7201a8"
             ],
             [
              0.3333333333333333,
              "#9c179e"
             ],
             [
              0.4444444444444444,
              "#bd3786"
             ],
             [
              0.5555555555555556,
              "#d8576b"
             ],
             [
              0.6666666666666666,
              "#ed7953"
             ],
             [
              0.7777777777777778,
              "#fb9f3a"
             ],
             [
              0.8888888888888888,
              "#fdca26"
             ],
             [
              1,
              "#f0f921"
             ]
            ],
            "type": "surface"
           }
          ],
          "table": [
           {
            "cells": {
             "fill": {
              "color": "#EBF0F8"
             },
             "line": {
              "color": "white"
             }
            },
            "header": {
             "fill": {
              "color": "#C8D4E3"
             },
             "line": {
              "color": "white"
             }
            },
            "type": "table"
           }
          ]
         },
         "layout": {
          "annotationdefaults": {
           "arrowcolor": "#2a3f5f",
           "arrowhead": 0,
           "arrowwidth": 1
          },
          "autotypenumbers": "strict",
          "coloraxis": {
           "colorbar": {
            "outlinewidth": 0,
            "ticks": ""
           }
          },
          "colorscale": {
           "diverging": [
            [
             0,
             "#8e0152"
            ],
            [
             0.1,
             "#c51b7d"
            ],
            [
             0.2,
             "#de77ae"
            ],
            [
             0.3,
             "#f1b6da"
            ],
            [
             0.4,
             "#fde0ef"
            ],
            [
             0.5,
             "#f7f7f7"
            ],
            [
             0.6,
             "#e6f5d0"
            ],
            [
             0.7,
             "#b8e186"
            ],
            [
             0.8,
             "#7fbc41"
            ],
            [
             0.9,
             "#4d9221"
            ],
            [
             1,
             "#276419"
            ]
           ],
           "sequential": [
            [
             0,
             "#0d0887"
            ],
            [
             0.1111111111111111,
             "#46039f"
            ],
            [
             0.2222222222222222,
             "#7201a8"
            ],
            [
             0.3333333333333333,
             "#9c179e"
            ],
            [
             0.4444444444444444,
             "#bd3786"
            ],
            [
             0.5555555555555556,
             "#d8576b"
            ],
            [
             0.6666666666666666,
             "#ed7953"
            ],
            [
             0.7777777777777778,
             "#fb9f3a"
            ],
            [
             0.8888888888888888,
             "#fdca26"
            ],
            [
             1,
             "#f0f921"
            ]
           ],
           "sequentialminus": [
            [
             0,
             "#0d0887"
            ],
            [
             0.1111111111111111,
             "#46039f"
            ],
            [
             0.2222222222222222,
             "#7201a8"
            ],
            [
             0.3333333333333333,
             "#9c179e"
            ],
            [
             0.4444444444444444,
             "#bd3786"
            ],
            [
             0.5555555555555556,
             "#d8576b"
            ],
            [
             0.6666666666666666,
             "#ed7953"
            ],
            [
             0.7777777777777778,
             "#fb9f3a"
            ],
            [
             0.8888888888888888,
             "#fdca26"
            ],
            [
             1,
             "#f0f921"
            ]
           ]
          },
          "colorway": [
           "#636efa",
           "#EF553B",
           "#00cc96",
           "#ab63fa",
           "#FFA15A",
           "#19d3f3",
           "#FF6692",
           "#B6E880",
           "#FF97FF",
           "#FECB52"
          ],
          "font": {
           "color": "#2a3f5f"
          },
          "geo": {
           "bgcolor": "white",
           "lakecolor": "white",
           "landcolor": "#E5ECF6",
           "showlakes": true,
           "showland": true,
           "subunitcolor": "white"
          },
          "hoverlabel": {
           "align": "left"
          },
          "hovermode": "closest",
          "mapbox": {
           "style": "light"
          },
          "paper_bgcolor": "white",
          "plot_bgcolor": "#E5ECF6",
          "polar": {
           "angularaxis": {
            "gridcolor": "white",
            "linecolor": "white",
            "ticks": ""
           },
           "bgcolor": "#E5ECF6",
           "radialaxis": {
            "gridcolor": "white",
            "linecolor": "white",
            "ticks": ""
           }
          },
          "scene": {
           "xaxis": {
            "backgroundcolor": "#E5ECF6",
            "gridcolor": "white",
            "gridwidth": 2,
            "linecolor": "white",
            "showbackground": true,
            "ticks": "",
            "zerolinecolor": "white"
           },
           "yaxis": {
            "backgroundcolor": "#E5ECF6",
            "gridcolor": "white",
            "gridwidth": 2,
            "linecolor": "white",
            "showbackground": true,
            "ticks": "",
            "zerolinecolor": "white"
           },
           "zaxis": {
            "backgroundcolor": "#E5ECF6",
            "gridcolor": "white",
            "gridwidth": 2,
            "linecolor": "white",
            "showbackground": true,
            "ticks": "",
            "zerolinecolor": "white"
           }
          },
          "shapedefaults": {
           "line": {
            "color": "#2a3f5f"
           }
          },
          "ternary": {
           "aaxis": {
            "gridcolor": "white",
            "linecolor": "white",
            "ticks": ""
           },
           "baxis": {
            "gridcolor": "white",
            "linecolor": "white",
            "ticks": ""
           },
           "bgcolor": "#E5ECF6",
           "caxis": {
            "gridcolor": "white",
            "linecolor": "white",
            "ticks": ""
           }
          },
          "title": {
           "x": 0.05
          },
          "xaxis": {
           "automargin": true,
           "gridcolor": "white",
           "linecolor": "white",
           "ticks": "",
           "title": {
            "standoff": 15
           },
           "zerolinecolor": "white",
           "zerolinewidth": 2
          },
          "yaxis": {
           "automargin": true,
           "gridcolor": "white",
           "linecolor": "white",
           "ticks": "",
           "title": {
            "standoff": 15
           },
           "zerolinecolor": "white",
           "zerolinewidth": 2
          }
         }
        },
        "xaxis": {
         "anchor": "y",
         "domain": [
          0,
          1
         ],
         "title": {
          "text": "Mês"
         }
        },
        "yaxis": {
         "anchor": "x",
         "domain": [
          0,
          1
         ],
         "title": {
          "text": "Valor"
         }
        }
       }
      }
     },
     "metadata": {},
     "output_type": "display_data"
    }
   ],
   "source": [
    "data_3 = data_3.drop(columns=2022)\n",
    "\n",
    "dados_long_2 = data_3.melt(id_vars=[\"mes_nome\"], var_name=\"Ano\", value_name=\"Valor\")\n",
    "\n",
    "fig = px.bar(dados_long_2, x='mes_nome', y='Valor', labels={'mes_nome': 'Mês'}, color='Ano')\n",
    "\n",
    "fig.show()"
   ]
  },
  {
   "cell_type": "markdown",
   "metadata": {},
   "source": [
    "### Entrega 4\n",
    "\n",
    "André Tech, o especialista em tecnologia, solicitou que você buscasse fontes de dados públicas que poderiam ser utilizadas para enriquecer a base de dados do BanVic e ampliar as possibilidades de análise, considerando principalmente a necessidade atual apresentada. Pergunta prática e teórica.\n",
    "- Traga uma proposta de possíveis dados públicos a serem utilizados no Data Warehouse apresentando o valor que eles podem trazer para o desafio apresentado. "
   ]
  },
  {
   "cell_type": "markdown",
   "metadata": {},
   "source": [
    "- Um exemplo de dado externo é o Índice Nacional de Preços ao Consumidor Amplo. Considerando o IPCA no Brasil para o período apresentado na base de dados da BanVic, avalie se existe alguma relação do índice de preços com o volume de transações e/ou com o valor transacionado no período. Apresente suas análises e justifique sua opinião."
   ]
  },
  {
   "cell_type": "code",
   "execution_count": 35,
   "metadata": {},
   "outputs": [
    {
     "data": {
      "application/vnd.plotly.v1+json": {
       "config": {
        "plotlyServerURL": "https://plot.ly"
       },
       "data": [
        {
         "hovertemplate": "Ano=2010<br>Mês=%{x}<br>Valor=%{y}<extra></extra>",
         "legendgroup": "2010",
         "line": {
          "color": "#636efa",
          "dash": "solid"
         },
         "marker": {
          "symbol": "circle"
         },
         "mode": "lines",
         "name": "2010",
         "orientation": "v",
         "showlegend": true,
         "type": "scatter",
         "x": [
          "Jan",
          "Fev",
          "Mar",
          "Abr",
          "Mai",
          "Jun",
          "Jul",
          "Ago",
          "Set",
          "Out",
          "Nov",
          "Dez"
         ],
         "xaxis": "x",
         "y": [
          0,
          2,
          8,
          0,
          2,
          6,
          6,
          9,
          20,
          16,
          2,
          22
         ],
         "yaxis": "y"
        },
        {
         "hovertemplate": "Ano=2011<br>Mês=%{x}<br>Valor=%{y}<extra></extra>",
         "legendgroup": "2011",
         "line": {
          "color": "#EF553B",
          "dash": "solid"
         },
         "marker": {
          "symbol": "circle"
         },
         "mode": "lines",
         "name": "2011",
         "orientation": "v",
         "showlegend": true,
         "type": "scatter",
         "x": [
          "Jan",
          "Fev",
          "Mar",
          "Abr",
          "Mai",
          "Jun",
          "Jul",
          "Ago",
          "Set",
          "Out",
          "Nov",
          "Dez"
         ],
         "xaxis": "x",
         "y": [
          21,
          8,
          21,
          13,
          38,
          40,
          49,
          42,
          41,
          39,
          31,
          24
         ],
         "yaxis": "y"
        },
        {
         "hovertemplate": "Ano=2012<br>Mês=%{x}<br>Valor=%{y}<extra></extra>",
         "legendgroup": "2012",
         "line": {
          "color": "#00cc96",
          "dash": "solid"
         },
         "marker": {
          "symbol": "circle"
         },
         "mode": "lines",
         "name": "2012",
         "orientation": "v",
         "showlegend": true,
         "type": "scatter",
         "x": [
          "Jan",
          "Fev",
          "Mar",
          "Abr",
          "Mai",
          "Jun",
          "Jul",
          "Ago",
          "Set",
          "Out",
          "Nov",
          "Dez"
         ],
         "xaxis": "x",
         "y": [
          33,
          32,
          65,
          88,
          75,
          57,
          65,
          41,
          47,
          62,
          73,
          96
         ],
         "yaxis": "y"
        },
        {
         "hovertemplate": "Ano=2013<br>Mês=%{x}<br>Valor=%{y}<extra></extra>",
         "legendgroup": "2013",
         "line": {
          "color": "#ab63fa",
          "dash": "solid"
         },
         "marker": {
          "symbol": "circle"
         },
         "mode": "lines",
         "name": "2013",
         "orientation": "v",
         "showlegend": true,
         "type": "scatter",
         "x": [
          "Jan",
          "Fev",
          "Mar",
          "Abr",
          "Mai",
          "Jun",
          "Jul",
          "Ago",
          "Set",
          "Out",
          "Nov",
          "Dez"
         ],
         "xaxis": "x",
         "y": [
          103,
          80,
          93,
          84,
          102,
          137,
          88,
          101,
          80,
          90,
          127,
          164
         ],
         "yaxis": "y"
        },
        {
         "hovertemplate": "Ano=2014<br>Mês=%{x}<br>Valor=%{y}<extra></extra>",
         "legendgroup": "2014",
         "line": {
          "color": "#FFA15A",
          "dash": "solid"
         },
         "marker": {
          "symbol": "circle"
         },
         "mode": "lines",
         "name": "2014",
         "orientation": "v",
         "showlegend": true,
         "type": "scatter",
         "x": [
          "Jan",
          "Fev",
          "Mar",
          "Abr",
          "Mai",
          "Jun",
          "Jul",
          "Ago",
          "Set",
          "Out",
          "Nov",
          "Dez"
         ],
         "xaxis": "x",
         "y": [
          134,
          83,
          130,
          122,
          154,
          134,
          108,
          120,
          149,
          127,
          117,
          125
         ],
         "yaxis": "y"
        },
        {
         "hovertemplate": "Ano=2015<br>Mês=%{x}<br>Valor=%{y}<extra></extra>",
         "legendgroup": "2015",
         "line": {
          "color": "#19d3f3",
          "dash": "solid"
         },
         "marker": {
          "symbol": "circle"
         },
         "mode": "lines",
         "name": "2015",
         "orientation": "v",
         "showlegend": true,
         "type": "scatter",
         "x": [
          "Jan",
          "Fev",
          "Mar",
          "Abr",
          "Mai",
          "Jun",
          "Jul",
          "Ago",
          "Set",
          "Out",
          "Nov",
          "Dez"
         ],
         "xaxis": "x",
         "y": [
          137,
          94,
          142,
          197,
          117,
          175,
          162,
          199,
          129,
          178,
          171,
          196
         ],
         "yaxis": "y"
        },
        {
         "hovertemplate": "Ano=2016<br>Mês=%{x}<br>Valor=%{y}<extra></extra>",
         "legendgroup": "2016",
         "line": {
          "color": "#FF6692",
          "dash": "solid"
         },
         "marker": {
          "symbol": "circle"
         },
         "mode": "lines",
         "name": "2016",
         "orientation": "v",
         "showlegend": true,
         "type": "scatter",
         "x": [
          "Jan",
          "Fev",
          "Mar",
          "Abr",
          "Mai",
          "Jun",
          "Jul",
          "Ago",
          "Set",
          "Out",
          "Nov",
          "Dez"
         ],
         "xaxis": "x",
         "y": [
          218,
          193,
          205,
          167,
          211,
          190,
          269,
          256,
          235,
          236,
          251,
          173
         ],
         "yaxis": "y"
        },
        {
         "hovertemplate": "Ano=2017<br>Mês=%{x}<br>Valor=%{y}<extra></extra>",
         "legendgroup": "2017",
         "line": {
          "color": "#B6E880",
          "dash": "solid"
         },
         "marker": {
          "symbol": "circle"
         },
         "mode": "lines",
         "name": "2017",
         "orientation": "v",
         "showlegend": true,
         "type": "scatter",
         "x": [
          "Jan",
          "Fev",
          "Mar",
          "Abr",
          "Mai",
          "Jun",
          "Jul",
          "Ago",
          "Set",
          "Out",
          "Nov",
          "Dez"
         ],
         "xaxis": "x",
         "y": [
          278,
          219,
          308,
          289,
          329,
          301,
          257,
          312,
          334,
          345,
          349,
          233
         ],
         "yaxis": "y"
        },
        {
         "hovertemplate": "Ano=2018<br>Mês=%{x}<br>Valor=%{y}<extra></extra>",
         "legendgroup": "2018",
         "line": {
          "color": "#FF97FF",
          "dash": "solid"
         },
         "marker": {
          "symbol": "circle"
         },
         "mode": "lines",
         "name": "2018",
         "orientation": "v",
         "showlegend": true,
         "type": "scatter",
         "x": [
          "Jan",
          "Fev",
          "Mar",
          "Abr",
          "Mai",
          "Jun",
          "Jul",
          "Ago",
          "Set",
          "Out",
          "Nov",
          "Dez"
         ],
         "xaxis": "x",
         "y": [
          279,
          270,
          400,
          303,
          365,
          346,
          378,
          308,
          262,
          287,
          370,
          377
         ],
         "yaxis": "y"
        },
        {
         "hovertemplate": "Ano=2019<br>Mês=%{x}<br>Valor=%{y}<extra></extra>",
         "legendgroup": "2019",
         "line": {
          "color": "#FECB52",
          "dash": "solid"
         },
         "marker": {
          "symbol": "circle"
         },
         "mode": "lines",
         "name": "2019",
         "orientation": "v",
         "showlegend": true,
         "type": "scatter",
         "x": [
          "Jan",
          "Fev",
          "Mar",
          "Abr",
          "Mai",
          "Jun",
          "Jul",
          "Ago",
          "Set",
          "Out",
          "Nov",
          "Dez"
         ],
         "xaxis": "x",
         "y": [
          433,
          453,
          436,
          361,
          440,
          490,
          552,
          474,
          469,
          456,
          430,
          434
         ],
         "yaxis": "y"
        },
        {
         "hovertemplate": "Ano=2020<br>Mês=%{x}<br>Valor=%{y}<extra></extra>",
         "legendgroup": "2020",
         "line": {
          "color": "#636efa",
          "dash": "solid"
         },
         "marker": {
          "symbol": "circle"
         },
         "mode": "lines",
         "name": "2020",
         "orientation": "v",
         "showlegend": true,
         "type": "scatter",
         "x": [
          "Jan",
          "Fev",
          "Mar",
          "Abr",
          "Mai",
          "Jun",
          "Jul",
          "Ago",
          "Set",
          "Out",
          "Nov",
          "Dez"
         ],
         "xaxis": "x",
         "y": [
          506,
          386,
          464,
          437,
          359,
          492,
          498,
          509,
          456,
          602,
          534,
          540
         ],
         "yaxis": "y"
        },
        {
         "hovertemplate": "Ano=2021<br>Mês=%{x}<br>Valor=%{y}<extra></extra>",
         "legendgroup": "2021",
         "line": {
          "color": "#EF553B",
          "dash": "solid"
         },
         "marker": {
          "symbol": "circle"
         },
         "mode": "lines",
         "name": "2021",
         "orientation": "v",
         "showlegend": true,
         "type": "scatter",
         "x": [
          "Jan",
          "Fev",
          "Mar",
          "Abr",
          "Mai",
          "Jun",
          "Jul",
          "Ago",
          "Set",
          "Out",
          "Nov",
          "Dez"
         ],
         "xaxis": "x",
         "y": [
          569,
          515,
          626,
          646,
          653,
          647,
          633,
          620,
          672,
          693,
          717,
          786
         ],
         "yaxis": "y"
        }
       ],
       "layout": {
        "legend": {
         "title": {
          "text": "Ano"
         },
         "tracegroupgap": 0
        },
        "margin": {
         "t": 60
        },
        "template": {
         "data": {
          "bar": [
           {
            "error_x": {
             "color": "#2a3f5f"
            },
            "error_y": {
             "color": "#2a3f5f"
            },
            "marker": {
             "line": {
              "color": "#E5ECF6",
              "width": 0.5
             },
             "pattern": {
              "fillmode": "overlay",
              "size": 10,
              "solidity": 0.2
             }
            },
            "type": "bar"
           }
          ],
          "barpolar": [
           {
            "marker": {
             "line": {
              "color": "#E5ECF6",
              "width": 0.5
             },
             "pattern": {
              "fillmode": "overlay",
              "size": 10,
              "solidity": 0.2
             }
            },
            "type": "barpolar"
           }
          ],
          "carpet": [
           {
            "aaxis": {
             "endlinecolor": "#2a3f5f",
             "gridcolor": "white",
             "linecolor": "white",
             "minorgridcolor": "white",
             "startlinecolor": "#2a3f5f"
            },
            "baxis": {
             "endlinecolor": "#2a3f5f",
             "gridcolor": "white",
             "linecolor": "white",
             "minorgridcolor": "white",
             "startlinecolor": "#2a3f5f"
            },
            "type": "carpet"
           }
          ],
          "choropleth": [
           {
            "colorbar": {
             "outlinewidth": 0,
             "ticks": ""
            },
            "type": "choropleth"
           }
          ],
          "contour": [
           {
            "colorbar": {
             "outlinewidth": 0,
             "ticks": ""
            },
            "colorscale": [
             [
              0,
              "#0d0887"
             ],
             [
              0.1111111111111111,
              "#46039f"
             ],
             [
              0.2222222222222222,
              "#7201a8"
             ],
             [
              0.3333333333333333,
              "#9c179e"
             ],
             [
              0.4444444444444444,
              "#bd3786"
             ],
             [
              0.5555555555555556,
              "#d8576b"
             ],
             [
              0.6666666666666666,
              "#ed7953"
             ],
             [
              0.7777777777777778,
              "#fb9f3a"
             ],
             [
              0.8888888888888888,
              "#fdca26"
             ],
             [
              1,
              "#f0f921"
             ]
            ],
            "type": "contour"
           }
          ],
          "contourcarpet": [
           {
            "colorbar": {
             "outlinewidth": 0,
             "ticks": ""
            },
            "type": "contourcarpet"
           }
          ],
          "heatmap": [
           {
            "colorbar": {
             "outlinewidth": 0,
             "ticks": ""
            },
            "colorscale": [
             [
              0,
              "#0d0887"
             ],
             [
              0.1111111111111111,
              "#46039f"
             ],
             [
              0.2222222222222222,
              "#7201a8"
             ],
             [
              0.3333333333333333,
              "#9c179e"
             ],
             [
              0.4444444444444444,
              "#bd3786"
             ],
             [
              0.5555555555555556,
              "#d8576b"
             ],
             [
              0.6666666666666666,
              "#ed7953"
             ],
             [
              0.7777777777777778,
              "#fb9f3a"
             ],
             [
              0.8888888888888888,
              "#fdca26"
             ],
             [
              1,
              "#f0f921"
             ]
            ],
            "type": "heatmap"
           }
          ],
          "heatmapgl": [
           {
            "colorbar": {
             "outlinewidth": 0,
             "ticks": ""
            },
            "colorscale": [
             [
              0,
              "#0d0887"
             ],
             [
              0.1111111111111111,
              "#46039f"
             ],
             [
              0.2222222222222222,
              "#7201a8"
             ],
             [
              0.3333333333333333,
              "#9c179e"
             ],
             [
              0.4444444444444444,
              "#bd3786"
             ],
             [
              0.5555555555555556,
              "#d8576b"
             ],
             [
              0.6666666666666666,
              "#ed7953"
             ],
             [
              0.7777777777777778,
              "#fb9f3a"
             ],
             [
              0.8888888888888888,
              "#fdca26"
             ],
             [
              1,
              "#f0f921"
             ]
            ],
            "type": "heatmapgl"
           }
          ],
          "histogram": [
           {
            "marker": {
             "pattern": {
              "fillmode": "overlay",
              "size": 10,
              "solidity": 0.2
             }
            },
            "type": "histogram"
           }
          ],
          "histogram2d": [
           {
            "colorbar": {
             "outlinewidth": 0,
             "ticks": ""
            },
            "colorscale": [
             [
              0,
              "#0d0887"
             ],
             [
              0.1111111111111111,
              "#46039f"
             ],
             [
              0.2222222222222222,
              "#7201a8"
             ],
             [
              0.3333333333333333,
              "#9c179e"
             ],
             [
              0.4444444444444444,
              "#bd3786"
             ],
             [
              0.5555555555555556,
              "#d8576b"
             ],
             [
              0.6666666666666666,
              "#ed7953"
             ],
             [
              0.7777777777777778,
              "#fb9f3a"
             ],
             [
              0.8888888888888888,
              "#fdca26"
             ],
             [
              1,
              "#f0f921"
             ]
            ],
            "type": "histogram2d"
           }
          ],
          "histogram2dcontour": [
           {
            "colorbar": {
             "outlinewidth": 0,
             "ticks": ""
            },
            "colorscale": [
             [
              0,
              "#0d0887"
             ],
             [
              0.1111111111111111,
              "#46039f"
             ],
             [
              0.2222222222222222,
              "#7201a8"
             ],
             [
              0.3333333333333333,
              "#9c179e"
             ],
             [
              0.4444444444444444,
              "#bd3786"
             ],
             [
              0.5555555555555556,
              "#d8576b"
             ],
             [
              0.6666666666666666,
              "#ed7953"
             ],
             [
              0.7777777777777778,
              "#fb9f3a"
             ],
             [
              0.8888888888888888,
              "#fdca26"
             ],
             [
              1,
              "#f0f921"
             ]
            ],
            "type": "histogram2dcontour"
           }
          ],
          "mesh3d": [
           {
            "colorbar": {
             "outlinewidth": 0,
             "ticks": ""
            },
            "type": "mesh3d"
           }
          ],
          "parcoords": [
           {
            "line": {
             "colorbar": {
              "outlinewidth": 0,
              "ticks": ""
             }
            },
            "type": "parcoords"
           }
          ],
          "pie": [
           {
            "automargin": true,
            "type": "pie"
           }
          ],
          "scatter": [
           {
            "marker": {
             "colorbar": {
              "outlinewidth": 0,
              "ticks": ""
             }
            },
            "type": "scatter"
           }
          ],
          "scatter3d": [
           {
            "line": {
             "colorbar": {
              "outlinewidth": 0,
              "ticks": ""
             }
            },
            "marker": {
             "colorbar": {
              "outlinewidth": 0,
              "ticks": ""
             }
            },
            "type": "scatter3d"
           }
          ],
          "scattercarpet": [
           {
            "marker": {
             "colorbar": {
              "outlinewidth": 0,
              "ticks": ""
             }
            },
            "type": "scattercarpet"
           }
          ],
          "scattergeo": [
           {
            "marker": {
             "colorbar": {
              "outlinewidth": 0,
              "ticks": ""
             }
            },
            "type": "scattergeo"
           }
          ],
          "scattergl": [
           {
            "marker": {
             "colorbar": {
              "outlinewidth": 0,
              "ticks": ""
             }
            },
            "type": "scattergl"
           }
          ],
          "scattermapbox": [
           {
            "marker": {
             "colorbar": {
              "outlinewidth": 0,
              "ticks": ""
             }
            },
            "type": "scattermapbox"
           }
          ],
          "scatterpolar": [
           {
            "marker": {
             "colorbar": {
              "outlinewidth": 0,
              "ticks": ""
             }
            },
            "type": "scatterpolar"
           }
          ],
          "scatterpolargl": [
           {
            "marker": {
             "colorbar": {
              "outlinewidth": 0,
              "ticks": ""
             }
            },
            "type": "scatterpolargl"
           }
          ],
          "scatterternary": [
           {
            "marker": {
             "colorbar": {
              "outlinewidth": 0,
              "ticks": ""
             }
            },
            "type": "scatterternary"
           }
          ],
          "surface": [
           {
            "colorbar": {
             "outlinewidth": 0,
             "ticks": ""
            },
            "colorscale": [
             [
              0,
              "#0d0887"
             ],
             [
              0.1111111111111111,
              "#46039f"
             ],
             [
              0.2222222222222222,
              "#7201a8"
             ],
             [
              0.3333333333333333,
              "#9c179e"
             ],
             [
              0.4444444444444444,
              "#bd3786"
             ],
             [
              0.5555555555555556,
              "#d8576b"
             ],
             [
              0.6666666666666666,
              "#ed7953"
             ],
             [
              0.7777777777777778,
              "#fb9f3a"
             ],
             [
              0.8888888888888888,
              "#fdca26"
             ],
             [
              1,
              "#f0f921"
             ]
            ],
            "type": "surface"
           }
          ],
          "table": [
           {
            "cells": {
             "fill": {
              "color": "#EBF0F8"
             },
             "line": {
              "color": "white"
             }
            },
            "header": {
             "fill": {
              "color": "#C8D4E3"
             },
             "line": {
              "color": "white"
             }
            },
            "type": "table"
           }
          ]
         },
         "layout": {
          "annotationdefaults": {
           "arrowcolor": "#2a3f5f",
           "arrowhead": 0,
           "arrowwidth": 1
          },
          "autotypenumbers": "strict",
          "coloraxis": {
           "colorbar": {
            "outlinewidth": 0,
            "ticks": ""
           }
          },
          "colorscale": {
           "diverging": [
            [
             0,
             "#8e0152"
            ],
            [
             0.1,
             "#c51b7d"
            ],
            [
             0.2,
             "#de77ae"
            ],
            [
             0.3,
             "#f1b6da"
            ],
            [
             0.4,
             "#fde0ef"
            ],
            [
             0.5,
             "#f7f7f7"
            ],
            [
             0.6,
             "#e6f5d0"
            ],
            [
             0.7,
             "#b8e186"
            ],
            [
             0.8,
             "#7fbc41"
            ],
            [
             0.9,
             "#4d9221"
            ],
            [
             1,
             "#276419"
            ]
           ],
           "sequential": [
            [
             0,
             "#0d0887"
            ],
            [
             0.1111111111111111,
             "#46039f"
            ],
            [
             0.2222222222222222,
             "#7201a8"
            ],
            [
             0.3333333333333333,
             "#9c179e"
            ],
            [
             0.4444444444444444,
             "#bd3786"
            ],
            [
             0.5555555555555556,
             "#d8576b"
            ],
            [
             0.6666666666666666,
             "#ed7953"
            ],
            [
             0.7777777777777778,
             "#fb9f3a"
            ],
            [
             0.8888888888888888,
             "#fdca26"
            ],
            [
             1,
             "#f0f921"
            ]
           ],
           "sequentialminus": [
            [
             0,
             "#0d0887"
            ],
            [
             0.1111111111111111,
             "#46039f"
            ],
            [
             0.2222222222222222,
             "#7201a8"
            ],
            [
             0.3333333333333333,
             "#9c179e"
            ],
            [
             0.4444444444444444,
             "#bd3786"
            ],
            [
             0.5555555555555556,
             "#d8576b"
            ],
            [
             0.6666666666666666,
             "#ed7953"
            ],
            [
             0.7777777777777778,
             "#fb9f3a"
            ],
            [
             0.8888888888888888,
             "#fdca26"
            ],
            [
             1,
             "#f0f921"
            ]
           ]
          },
          "colorway": [
           "#636efa",
           "#EF553B",
           "#00cc96",
           "#ab63fa",
           "#FFA15A",
           "#19d3f3",
           "#FF6692",
           "#B6E880",
           "#FF97FF",
           "#FECB52"
          ],
          "font": {
           "color": "#2a3f5f"
          },
          "geo": {
           "bgcolor": "white",
           "lakecolor": "white",
           "landcolor": "#E5ECF6",
           "showlakes": true,
           "showland": true,
           "subunitcolor": "white"
          },
          "hoverlabel": {
           "align": "left"
          },
          "hovermode": "closest",
          "mapbox": {
           "style": "light"
          },
          "paper_bgcolor": "white",
          "plot_bgcolor": "#E5ECF6",
          "polar": {
           "angularaxis": {
            "gridcolor": "white",
            "linecolor": "white",
            "ticks": ""
           },
           "bgcolor": "#E5ECF6",
           "radialaxis": {
            "gridcolor": "white",
            "linecolor": "white",
            "ticks": ""
           }
          },
          "scene": {
           "xaxis": {
            "backgroundcolor": "#E5ECF6",
            "gridcolor": "white",
            "gridwidth": 2,
            "linecolor": "white",
            "showbackground": true,
            "ticks": "",
            "zerolinecolor": "white"
           },
           "yaxis": {
            "backgroundcolor": "#E5ECF6",
            "gridcolor": "white",
            "gridwidth": 2,
            "linecolor": "white",
            "showbackground": true,
            "ticks": "",
            "zerolinecolor": "white"
           },
           "zaxis": {
            "backgroundcolor": "#E5ECF6",
            "gridcolor": "white",
            "gridwidth": 2,
            "linecolor": "white",
            "showbackground": true,
            "ticks": "",
            "zerolinecolor": "white"
           }
          },
          "shapedefaults": {
           "line": {
            "color": "#2a3f5f"
           }
          },
          "ternary": {
           "aaxis": {
            "gridcolor": "white",
            "linecolor": "white",
            "ticks": ""
           },
           "baxis": {
            "gridcolor": "white",
            "linecolor": "white",
            "ticks": ""
           },
           "bgcolor": "#E5ECF6",
           "caxis": {
            "gridcolor": "white",
            "linecolor": "white",
            "ticks": ""
           }
          },
          "title": {
           "x": 0.05
          },
          "xaxis": {
           "automargin": true,
           "gridcolor": "white",
           "linecolor": "white",
           "ticks": "",
           "title": {
            "standoff": 15
           },
           "zerolinecolor": "white",
           "zerolinewidth": 2
          },
          "yaxis": {
           "automargin": true,
           "gridcolor": "white",
           "linecolor": "white",
           "ticks": "",
           "title": {
            "standoff": 15
           },
           "zerolinecolor": "white",
           "zerolinewidth": 2
          }
         }
        },
        "xaxis": {
         "anchor": "y",
         "domain": [
          0,
          1
         ],
         "title": {
          "text": "Mês"
         }
        },
        "yaxis": {
         "anchor": "x",
         "domain": [
          0,
          1
         ],
         "title": {
          "text": "Valor"
         }
        }
       }
      }
     },
     "metadata": {},
     "output_type": "display_data"
    }
   ],
   "source": [
    "fig = px.line(dados_long_2, x='mes_nome', y='Valor', labels={'mes_nome': 'Mês'}, color='Ano')\n",
    "\n",
    "fig.show()"
   ]
  },
  {
   "cell_type": "code",
   "execution_count": 36,
   "metadata": {},
   "outputs": [
    {
     "data": {
      "application/vnd.plotly.v1+json": {
       "config": {
        "plotlyServerURL": "https://plot.ly"
       },
       "data": [
        {
         "hovertemplate": "Ano=2010<br>Mes=%{x}<br>Valor=%{y}<extra></extra>",
         "legendgroup": "2010",
         "line": {
          "color": "#636efa",
          "dash": "solid"
         },
         "marker": {
          "symbol": "circle"
         },
         "mode": "lines",
         "name": "2010",
         "orientation": "v",
         "showlegend": true,
         "type": "scatter",
         "x": [
          "Jan",
          "Fev",
          "Mar",
          "Abr",
          "Mai",
          "Jun",
          "Jul",
          "Ago",
          "Set",
          "Out",
          "Nov",
          "Dez"
         ],
         "xaxis": "x",
         "y": [
          0.75,
          0.78,
          0.52,
          0.57,
          0.43,
          0,
          0.01,
          0.04,
          0.45,
          0.75,
          0.83,
          0.63
         ],
         "yaxis": "y"
        },
        {
         "hovertemplate": "Ano=2011<br>Mes=%{x}<br>Valor=%{y}<extra></extra>",
         "legendgroup": "2011",
         "line": {
          "color": "#EF553B",
          "dash": "solid"
         },
         "marker": {
          "symbol": "circle"
         },
         "mode": "lines",
         "name": "2011",
         "orientation": "v",
         "showlegend": true,
         "type": "scatter",
         "x": [
          "Jan",
          "Fev",
          "Mar",
          "Abr",
          "Mai",
          "Jun",
          "Jul",
          "Ago",
          "Set",
          "Out",
          "Nov",
          "Dez"
         ],
         "xaxis": "x",
         "y": [
          0.83,
          0.8,
          0.79,
          0.77,
          0.47,
          0.15,
          0.16,
          0.37,
          0.53,
          0.43,
          0.52,
          0.5
         ],
         "yaxis": "y"
        },
        {
         "hovertemplate": "Ano=2012<br>Mes=%{x}<br>Valor=%{y}<extra></extra>",
         "legendgroup": "2012",
         "line": {
          "color": "#00cc96",
          "dash": "solid"
         },
         "marker": {
          "symbol": "circle"
         },
         "mode": "lines",
         "name": "2012",
         "orientation": "v",
         "showlegend": true,
         "type": "scatter",
         "x": [
          "Jan",
          "Fev",
          "Mar",
          "Abr",
          "Mai",
          "Jun",
          "Jul",
          "Ago",
          "Set",
          "Out",
          "Nov",
          "Dez"
         ],
         "xaxis": "x",
         "y": [
          0.56,
          0.45,
          0.21,
          0.64,
          0.36,
          0.08,
          0.43,
          0.41,
          0.57,
          0.59,
          0.6,
          0.79
         ],
         "yaxis": "y"
        },
        {
         "hovertemplate": "Ano=2013<br>Mes=%{x}<br>Valor=%{y}<extra></extra>",
         "legendgroup": "2013",
         "line": {
          "color": "#ab63fa",
          "dash": "solid"
         },
         "marker": {
          "symbol": "circle"
         },
         "mode": "lines",
         "name": "2013",
         "orientation": "v",
         "showlegend": true,
         "type": "scatter",
         "x": [
          "Jan",
          "Fev",
          "Mar",
          "Abr",
          "Mai",
          "Jun",
          "Jul",
          "Ago",
          "Set",
          "Out",
          "Nov",
          "Dez"
         ],
         "xaxis": "x",
         "y": [
          0.86,
          0.6,
          0.47,
          0.55,
          0.37,
          0.26,
          0.03,
          0.24,
          0.35,
          0.57,
          0.54,
          0.92
         ],
         "yaxis": "y"
        },
        {
         "hovertemplate": "Ano=2014<br>Mes=%{x}<br>Valor=%{y}<extra></extra>",
         "legendgroup": "2014",
         "line": {
          "color": "#FFA15A",
          "dash": "solid"
         },
         "marker": {
          "symbol": "circle"
         },
         "mode": "lines",
         "name": "2014",
         "orientation": "v",
         "showlegend": true,
         "type": "scatter",
         "x": [
          "Jan",
          "Fev",
          "Mar",
          "Abr",
          "Mai",
          "Jun",
          "Jul",
          "Ago",
          "Set",
          "Out",
          "Nov",
          "Dez"
         ],
         "xaxis": "x",
         "y": [
          0.55,
          0.69,
          0.92,
          0.67,
          0.46,
          0.4,
          0.01,
          0.25,
          0.57,
          0.42,
          0.51,
          0.78
         ],
         "yaxis": "y"
        },
        {
         "hovertemplate": "Ano=2015<br>Mes=%{x}<br>Valor=%{y}<extra></extra>",
         "legendgroup": "2015",
         "line": {
          "color": "#19d3f3",
          "dash": "solid"
         },
         "marker": {
          "symbol": "circle"
         },
         "mode": "lines",
         "name": "2015",
         "orientation": "v",
         "showlegend": true,
         "type": "scatter",
         "x": [
          "Jan",
          "Fev",
          "Mar",
          "Abr",
          "Mai",
          "Jun",
          "Jul",
          "Ago",
          "Set",
          "Out",
          "Nov",
          "Dez"
         ],
         "xaxis": "x",
         "y": [
          1.24,
          1.22,
          1.32,
          0.71,
          0.74,
          0.79,
          0.62,
          0.22,
          0.54,
          0.82,
          1.01,
          0.96
         ],
         "yaxis": "y"
        },
        {
         "hovertemplate": "Ano=2016<br>Mes=%{x}<br>Valor=%{y}<extra></extra>",
         "legendgroup": "2016",
         "line": {
          "color": "#FF6692",
          "dash": "solid"
         },
         "marker": {
          "symbol": "circle"
         },
         "mode": "lines",
         "name": "2016",
         "orientation": "v",
         "showlegend": true,
         "type": "scatter",
         "x": [
          "Jan",
          "Fev",
          "Mar",
          "Abr",
          "Mai",
          "Jun",
          "Jul",
          "Ago",
          "Set",
          "Out",
          "Nov",
          "Dez"
         ],
         "xaxis": "x",
         "y": [
          1.27,
          0.9,
          0.43,
          0.61,
          0.78,
          0.35,
          0.52,
          0.44,
          0.08,
          0.26,
          0.18,
          0.3
         ],
         "yaxis": "y"
        },
        {
         "hovertemplate": "Ano=2017<br>Mes=%{x}<br>Valor=%{y}<extra></extra>",
         "legendgroup": "2017",
         "line": {
          "color": "#B6E880",
          "dash": "solid"
         },
         "marker": {
          "symbol": "circle"
         },
         "mode": "lines",
         "name": "2017",
         "orientation": "v",
         "showlegend": true,
         "type": "scatter",
         "x": [
          "Jan",
          "Fev",
          "Mar",
          "Abr",
          "Mai",
          "Jun",
          "Jul",
          "Ago",
          "Set",
          "Out",
          "Nov",
          "Dez"
         ],
         "xaxis": "x",
         "y": [
          0.38,
          0.33,
          0.25,
          0.14,
          0.31,
          -0.23,
          0.24,
          0.19,
          0.16,
          0.42,
          0.28,
          0.44
         ],
         "yaxis": "y"
        },
        {
         "hovertemplate": "Ano=2018<br>Mes=%{x}<br>Valor=%{y}<extra></extra>",
         "legendgroup": "2018",
         "line": {
          "color": "#FF97FF",
          "dash": "solid"
         },
         "marker": {
          "symbol": "circle"
         },
         "mode": "lines",
         "name": "2018",
         "orientation": "v",
         "showlegend": true,
         "type": "scatter",
         "x": [
          "Jan",
          "Fev",
          "Mar",
          "Abr",
          "Mai",
          "Jun",
          "Jul",
          "Ago",
          "Set",
          "Out",
          "Nov",
          "Dez"
         ],
         "xaxis": "x",
         "y": [
          0.29,
          0.32,
          0.09,
          0.22,
          0.4,
          1.26,
          0.33,
          -0.09,
          0.48,
          0.45,
          -0.21,
          0.15
         ],
         "yaxis": "y"
        },
        {
         "hovertemplate": "Ano=2019<br>Mes=%{x}<br>Valor=%{y}<extra></extra>",
         "legendgroup": "2019",
         "line": {
          "color": "#FECB52",
          "dash": "solid"
         },
         "marker": {
          "symbol": "circle"
         },
         "mode": "lines",
         "name": "2019",
         "orientation": "v",
         "showlegend": true,
         "type": "scatter",
         "x": [
          "Jan",
          "Fev",
          "Mar",
          "Abr",
          "Mai",
          "Jun",
          "Jul",
          "Ago",
          "Set",
          "Out",
          "Nov",
          "Dez"
         ],
         "xaxis": "x",
         "y": [
          0.32,
          0.43,
          0.75,
          0.57,
          0.13,
          0.01,
          0.19,
          0.11,
          -0.04,
          0.1,
          0.51,
          1.15
         ],
         "yaxis": "y"
        },
        {
         "hovertemplate": "Ano=2020<br>Mes=%{x}<br>Valor=%{y}<extra></extra>",
         "legendgroup": "2020",
         "line": {
          "color": "#636efa",
          "dash": "solid"
         },
         "marker": {
          "symbol": "circle"
         },
         "mode": "lines",
         "name": "2020",
         "orientation": "v",
         "showlegend": true,
         "type": "scatter",
         "x": [
          "Jan",
          "Fev",
          "Mar",
          "Abr",
          "Mai",
          "Jun",
          "Jul",
          "Ago",
          "Set",
          "Out",
          "Nov",
          "Dez"
         ],
         "xaxis": "x",
         "y": [
          0.21,
          0.25,
          0.07,
          -0.31,
          -0.38,
          0.26,
          0.36,
          0.24,
          0.64,
          0.86,
          0.89,
          1.35
         ],
         "yaxis": "y"
        },
        {
         "hovertemplate": "Ano=2021<br>Mes=%{x}<br>Valor=%{y}<extra></extra>",
         "legendgroup": "2021",
         "line": {
          "color": "#EF553B",
          "dash": "solid"
         },
         "marker": {
          "symbol": "circle"
         },
         "mode": "lines",
         "name": "2021",
         "orientation": "v",
         "showlegend": true,
         "type": "scatter",
         "x": [
          "Jan",
          "Fev",
          "Mar",
          "Abr",
          "Mai",
          "Jun",
          "Jul",
          "Ago",
          "Set",
          "Out",
          "Nov",
          "Dez"
         ],
         "xaxis": "x",
         "y": [
          0.25,
          0.29,
          0.53,
          0.65,
          0.82,
          0.53,
          0.96,
          1.02,
          1.16,
          1.32,
          1.64,
          1.46
         ],
         "yaxis": "y"
        }
       ],
       "layout": {
        "legend": {
         "title": {
          "text": "Ano"
         },
         "tracegroupgap": 0
        },
        "template": {
         "data": {
          "bar": [
           {
            "error_x": {
             "color": "#2a3f5f"
            },
            "error_y": {
             "color": "#2a3f5f"
            },
            "marker": {
             "line": {
              "color": "#E5ECF6",
              "width": 0.5
             },
             "pattern": {
              "fillmode": "overlay",
              "size": 10,
              "solidity": 0.2
             }
            },
            "type": "bar"
           }
          ],
          "barpolar": [
           {
            "marker": {
             "line": {
              "color": "#E5ECF6",
              "width": 0.5
             },
             "pattern": {
              "fillmode": "overlay",
              "size": 10,
              "solidity": 0.2
             }
            },
            "type": "barpolar"
           }
          ],
          "carpet": [
           {
            "aaxis": {
             "endlinecolor": "#2a3f5f",
             "gridcolor": "white",
             "linecolor": "white",
             "minorgridcolor": "white",
             "startlinecolor": "#2a3f5f"
            },
            "baxis": {
             "endlinecolor": "#2a3f5f",
             "gridcolor": "white",
             "linecolor": "white",
             "minorgridcolor": "white",
             "startlinecolor": "#2a3f5f"
            },
            "type": "carpet"
           }
          ],
          "choropleth": [
           {
            "colorbar": {
             "outlinewidth": 0,
             "ticks": ""
            },
            "type": "choropleth"
           }
          ],
          "contour": [
           {
            "colorbar": {
             "outlinewidth": 0,
             "ticks": ""
            },
            "colorscale": [
             [
              0,
              "#0d0887"
             ],
             [
              0.1111111111111111,
              "#46039f"
             ],
             [
              0.2222222222222222,
              "#7201a8"
             ],
             [
              0.3333333333333333,
              "#9c179e"
             ],
             [
              0.4444444444444444,
              "#bd3786"
             ],
             [
              0.5555555555555556,
              "#d8576b"
             ],
             [
              0.6666666666666666,
              "#ed7953"
             ],
             [
              0.7777777777777778,
              "#fb9f3a"
             ],
             [
              0.8888888888888888,
              "#fdca26"
             ],
             [
              1,
              "#f0f921"
             ]
            ],
            "type": "contour"
           }
          ],
          "contourcarpet": [
           {
            "colorbar": {
             "outlinewidth": 0,
             "ticks": ""
            },
            "type": "contourcarpet"
           }
          ],
          "heatmap": [
           {
            "colorbar": {
             "outlinewidth": 0,
             "ticks": ""
            },
            "colorscale": [
             [
              0,
              "#0d0887"
             ],
             [
              0.1111111111111111,
              "#46039f"
             ],
             [
              0.2222222222222222,
              "#7201a8"
             ],
             [
              0.3333333333333333,
              "#9c179e"
             ],
             [
              0.4444444444444444,
              "#bd3786"
             ],
             [
              0.5555555555555556,
              "#d8576b"
             ],
             [
              0.6666666666666666,
              "#ed7953"
             ],
             [
              0.7777777777777778,
              "#fb9f3a"
             ],
             [
              0.8888888888888888,
              "#fdca26"
             ],
             [
              1,
              "#f0f921"
             ]
            ],
            "type": "heatmap"
           }
          ],
          "heatmapgl": [
           {
            "colorbar": {
             "outlinewidth": 0,
             "ticks": ""
            },
            "colorscale": [
             [
              0,
              "#0d0887"
             ],
             [
              0.1111111111111111,
              "#46039f"
             ],
             [
              0.2222222222222222,
              "#7201a8"
             ],
             [
              0.3333333333333333,
              "#9c179e"
             ],
             [
              0.4444444444444444,
              "#bd3786"
             ],
             [
              0.5555555555555556,
              "#d8576b"
             ],
             [
              0.6666666666666666,
              "#ed7953"
             ],
             [
              0.7777777777777778,
              "#fb9f3a"
             ],
             [
              0.8888888888888888,
              "#fdca26"
             ],
             [
              1,
              "#f0f921"
             ]
            ],
            "type": "heatmapgl"
           }
          ],
          "histogram": [
           {
            "marker": {
             "pattern": {
              "fillmode": "overlay",
              "size": 10,
              "solidity": 0.2
             }
            },
            "type": "histogram"
           }
          ],
          "histogram2d": [
           {
            "colorbar": {
             "outlinewidth": 0,
             "ticks": ""
            },
            "colorscale": [
             [
              0,
              "#0d0887"
             ],
             [
              0.1111111111111111,
              "#46039f"
             ],
             [
              0.2222222222222222,
              "#7201a8"
             ],
             [
              0.3333333333333333,
              "#9c179e"
             ],
             [
              0.4444444444444444,
              "#bd3786"
             ],
             [
              0.5555555555555556,
              "#d8576b"
             ],
             [
              0.6666666666666666,
              "#ed7953"
             ],
             [
              0.7777777777777778,
              "#fb9f3a"
             ],
             [
              0.8888888888888888,
              "#fdca26"
             ],
             [
              1,
              "#f0f921"
             ]
            ],
            "type": "histogram2d"
           }
          ],
          "histogram2dcontour": [
           {
            "colorbar": {
             "outlinewidth": 0,
             "ticks": ""
            },
            "colorscale": [
             [
              0,
              "#0d0887"
             ],
             [
              0.1111111111111111,
              "#46039f"
             ],
             [
              0.2222222222222222,
              "#7201a8"
             ],
             [
              0.3333333333333333,
              "#9c179e"
             ],
             [
              0.4444444444444444,
              "#bd3786"
             ],
             [
              0.5555555555555556,
              "#d8576b"
             ],
             [
              0.6666666666666666,
              "#ed7953"
             ],
             [
              0.7777777777777778,
              "#fb9f3a"
             ],
             [
              0.8888888888888888,
              "#fdca26"
             ],
             [
              1,
              "#f0f921"
             ]
            ],
            "type": "histogram2dcontour"
           }
          ],
          "mesh3d": [
           {
            "colorbar": {
             "outlinewidth": 0,
             "ticks": ""
            },
            "type": "mesh3d"
           }
          ],
          "parcoords": [
           {
            "line": {
             "colorbar": {
              "outlinewidth": 0,
              "ticks": ""
             }
            },
            "type": "parcoords"
           }
          ],
          "pie": [
           {
            "automargin": true,
            "type": "pie"
           }
          ],
          "scatter": [
           {
            "marker": {
             "colorbar": {
              "outlinewidth": 0,
              "ticks": ""
             }
            },
            "type": "scatter"
           }
          ],
          "scatter3d": [
           {
            "line": {
             "colorbar": {
              "outlinewidth": 0,
              "ticks": ""
             }
            },
            "marker": {
             "colorbar": {
              "outlinewidth": 0,
              "ticks": ""
             }
            },
            "type": "scatter3d"
           }
          ],
          "scattercarpet": [
           {
            "marker": {
             "colorbar": {
              "outlinewidth": 0,
              "ticks": ""
             }
            },
            "type": "scattercarpet"
           }
          ],
          "scattergeo": [
           {
            "marker": {
             "colorbar": {
              "outlinewidth": 0,
              "ticks": ""
             }
            },
            "type": "scattergeo"
           }
          ],
          "scattergl": [
           {
            "marker": {
             "colorbar": {
              "outlinewidth": 0,
              "ticks": ""
             }
            },
            "type": "scattergl"
           }
          ],
          "scattermapbox": [
           {
            "marker": {
             "colorbar": {
              "outlinewidth": 0,
              "ticks": ""
             }
            },
            "type": "scattermapbox"
           }
          ],
          "scatterpolar": [
           {
            "marker": {
             "colorbar": {
              "outlinewidth": 0,
              "ticks": ""
             }
            },
            "type": "scatterpolar"
           }
          ],
          "scatterpolargl": [
           {
            "marker": {
             "colorbar": {
              "outlinewidth": 0,
              "ticks": ""
             }
            },
            "type": "scatterpolargl"
           }
          ],
          "scatterternary": [
           {
            "marker": {
             "colorbar": {
              "outlinewidth": 0,
              "ticks": ""
             }
            },
            "type": "scatterternary"
           }
          ],
          "surface": [
           {
            "colorbar": {
             "outlinewidth": 0,
             "ticks": ""
            },
            "colorscale": [
             [
              0,
              "#0d0887"
             ],
             [
              0.1111111111111111,
              "#46039f"
             ],
             [
              0.2222222222222222,
              "#7201a8"
             ],
             [
              0.3333333333333333,
              "#9c179e"
             ],
             [
              0.4444444444444444,
              "#bd3786"
             ],
             [
              0.5555555555555556,
              "#d8576b"
             ],
             [
              0.6666666666666666,
              "#ed7953"
             ],
             [
              0.7777777777777778,
              "#fb9f3a"
             ],
             [
              0.8888888888888888,
              "#fdca26"
             ],
             [
              1,
              "#f0f921"
             ]
            ],
            "type": "surface"
           }
          ],
          "table": [
           {
            "cells": {
             "fill": {
              "color": "#EBF0F8"
             },
             "line": {
              "color": "white"
             }
            },
            "header": {
             "fill": {
              "color": "#C8D4E3"
             },
             "line": {
              "color": "white"
             }
            },
            "type": "table"
           }
          ]
         },
         "layout": {
          "annotationdefaults": {
           "arrowcolor": "#2a3f5f",
           "arrowhead": 0,
           "arrowwidth": 1
          },
          "autotypenumbers": "strict",
          "coloraxis": {
           "colorbar": {
            "outlinewidth": 0,
            "ticks": ""
           }
          },
          "colorscale": {
           "diverging": [
            [
             0,
             "#8e0152"
            ],
            [
             0.1,
             "#c51b7d"
            ],
            [
             0.2,
             "#de77ae"
            ],
            [
             0.3,
             "#f1b6da"
            ],
            [
             0.4,
             "#fde0ef"
            ],
            [
             0.5,
             "#f7f7f7"
            ],
            [
             0.6,
             "#e6f5d0"
            ],
            [
             0.7,
             "#b8e186"
            ],
            [
             0.8,
             "#7fbc41"
            ],
            [
             0.9,
             "#4d9221"
            ],
            [
             1,
             "#276419"
            ]
           ],
           "sequential": [
            [
             0,
             "#0d0887"
            ],
            [
             0.1111111111111111,
             "#46039f"
            ],
            [
             0.2222222222222222,
             "#7201a8"
            ],
            [
             0.3333333333333333,
             "#9c179e"
            ],
            [
             0.4444444444444444,
             "#bd3786"
            ],
            [
             0.5555555555555556,
             "#d8576b"
            ],
            [
             0.6666666666666666,
             "#ed7953"
            ],
            [
             0.7777777777777778,
             "#fb9f3a"
            ],
            [
             0.8888888888888888,
             "#fdca26"
            ],
            [
             1,
             "#f0f921"
            ]
           ],
           "sequentialminus": [
            [
             0,
             "#0d0887"
            ],
            [
             0.1111111111111111,
             "#46039f"
            ],
            [
             0.2222222222222222,
             "#7201a8"
            ],
            [
             0.3333333333333333,
             "#9c179e"
            ],
            [
             0.4444444444444444,
             "#bd3786"
            ],
            [
             0.5555555555555556,
             "#d8576b"
            ],
            [
             0.6666666666666666,
             "#ed7953"
            ],
            [
             0.7777777777777778,
             "#fb9f3a"
            ],
            [
             0.8888888888888888,
             "#fdca26"
            ],
            [
             1,
             "#f0f921"
            ]
           ]
          },
          "colorway": [
           "#636efa",
           "#EF553B",
           "#00cc96",
           "#ab63fa",
           "#FFA15A",
           "#19d3f3",
           "#FF6692",
           "#B6E880",
           "#FF97FF",
           "#FECB52"
          ],
          "font": {
           "color": "#2a3f5f"
          },
          "geo": {
           "bgcolor": "white",
           "lakecolor": "white",
           "landcolor": "#E5ECF6",
           "showlakes": true,
           "showland": true,
           "subunitcolor": "white"
          },
          "hoverlabel": {
           "align": "left"
          },
          "hovermode": "closest",
          "mapbox": {
           "style": "light"
          },
          "paper_bgcolor": "white",
          "plot_bgcolor": "#E5ECF6",
          "polar": {
           "angularaxis": {
            "gridcolor": "white",
            "linecolor": "white",
            "ticks": ""
           },
           "bgcolor": "#E5ECF6",
           "radialaxis": {
            "gridcolor": "white",
            "linecolor": "white",
            "ticks": ""
           }
          },
          "scene": {
           "xaxis": {
            "backgroundcolor": "#E5ECF6",
            "gridcolor": "white",
            "gridwidth": 2,
            "linecolor": "white",
            "showbackground": true,
            "ticks": "",
            "zerolinecolor": "white"
           },
           "yaxis": {
            "backgroundcolor": "#E5ECF6",
            "gridcolor": "white",
            "gridwidth": 2,
            "linecolor": "white",
            "showbackground": true,
            "ticks": "",
            "zerolinecolor": "white"
           },
           "zaxis": {
            "backgroundcolor": "#E5ECF6",
            "gridcolor": "white",
            "gridwidth": 2,
            "linecolor": "white",
            "showbackground": true,
            "ticks": "",
            "zerolinecolor": "white"
           }
          },
          "shapedefaults": {
           "line": {
            "color": "#2a3f5f"
           }
          },
          "ternary": {
           "aaxis": {
            "gridcolor": "white",
            "linecolor": "white",
            "ticks": ""
           },
           "baxis": {
            "gridcolor": "white",
            "linecolor": "white",
            "ticks": ""
           },
           "bgcolor": "#E5ECF6",
           "caxis": {
            "gridcolor": "white",
            "linecolor": "white",
            "ticks": ""
           }
          },
          "title": {
           "x": 0.05
          },
          "xaxis": {
           "automargin": true,
           "gridcolor": "white",
           "linecolor": "white",
           "ticks": "",
           "title": {
            "standoff": 15
           },
           "zerolinecolor": "white",
           "zerolinewidth": 2
          },
          "yaxis": {
           "automargin": true,
           "gridcolor": "white",
           "linecolor": "white",
           "ticks": "",
           "title": {
            "standoff": 15
           },
           "zerolinecolor": "white",
           "zerolinewidth": 2
          }
         }
        },
        "title": {
         "text": "Evolução Trimestral por Ano"
        },
        "xaxis": {
         "anchor": "y",
         "domain": [
          0,
          1
         ],
         "title": {
          "text": "Mes"
         }
        },
        "yaxis": {
         "anchor": "x",
         "domain": [
          0,
          1
         ],
         "title": {
          "text": "Valor"
         }
        }
       }
      }
     },
     "metadata": {},
     "output_type": "display_data"
    }
   ],
   "source": [
    "ipca_data = pd.read_csv('dados/dados_auxiliar/dados_ipca.csv')\n",
    "ipca_df = pd.DataFrame(ipca_data)\n",
    "\n",
    "ipca_df = ipca_df[29:41] # considerando os anos de 2010 a 2021\n",
    "\n",
    "ipca_df = ipca_df.set_index('Ano').T.reset_index()\n",
    "\n",
    "ipca_df.columns.name = None\n",
    "\n",
    "ipca_df = ipca_df.rename(columns={'index': 'Mes'})\n",
    "dados_long_3 = ipca_df.melt(id_vars=[\"Mes\"], var_name=\"Ano\", value_name=\"Valor\")\n",
    "\n",
    "fig = px.line(dados_long_3, x=\"Mes\", y=\"Valor\", color=\"Ano\",\n",
    "              title=\"Evolução Trimestral por Ano\")\n",
    "\n",
    "fig.show()"
   ]
  },
  {
   "cell_type": "code",
   "execution_count": 37,
   "metadata": {},
   "outputs": [
    {
     "data": {
      "application/vnd.plotly.v1+json": {
       "config": {
        "plotlyServerURL": "https://plot.ly"
       },
       "data": [
        {
         "hovertemplate": "Ano=2010<br>Mes=%{x}<br>Valor=%{y}<extra></extra>",
         "legendgroup": "2010",
         "line": {
          "color": "#636efa",
          "dash": "solid"
         },
         "marker": {
          "symbol": "circle"
         },
         "mode": "lines",
         "name": "2010",
         "orientation": "v",
         "showlegend": true,
         "type": "scatter",
         "x": [
          "Jan",
          "Fev",
          "Mar",
          "Abr",
          "Mai",
          "Jun",
          "Jul",
          "Ago",
          "Set",
          "Out",
          "Nov",
          "Dez"
         ],
         "xaxis": "x",
         "y": [
          0,
          116.01000000000002,
          1566.96,
          0,
          15.060000000000002,
          9869.880000000001,
          270.34,
          10.680000000000007,
          17129.599999999995,
          -484.8800000000001,
          223.62,
          -50.77000000000005
         ],
         "yaxis": "y"
        },
        {
         "hovertemplate": "Ano=2011<br>Mes=%{x}<br>Valor=%{y}<extra></extra>",
         "legendgroup": "2011",
         "line": {
          "color": "#EF553B",
          "dash": "solid"
         },
         "marker": {
          "symbol": "circle"
         },
         "mode": "lines",
         "name": "2011",
         "orientation": "v",
         "showlegend": true,
         "type": "scatter",
         "x": [
          "Jan",
          "Fev",
          "Mar",
          "Abr",
          "Mai",
          "Jun",
          "Jul",
          "Ago",
          "Set",
          "Out",
          "Nov",
          "Dez"
         ],
         "xaxis": "x",
         "y": [
          25317.470000000005,
          2118.54,
          92.29000000000018,
          4934.55,
          18156.699999999997,
          3325.9000000000005,
          19872.799999999996,
          199160.4,
          2136.6099999999997,
          -3956.0700000000006,
          131012.29,
          14063.610000000004
         ],
         "yaxis": "y"
        },
        {
         "hovertemplate": "Ano=2012<br>Mes=%{x}<br>Valor=%{y}<extra></extra>",
         "legendgroup": "2012",
         "line": {
          "color": "#00cc96",
          "dash": "solid"
         },
         "marker": {
          "symbol": "circle"
         },
         "mode": "lines",
         "name": "2012",
         "orientation": "v",
         "showlegend": true,
         "type": "scatter",
         "x": [
          "Jan",
          "Fev",
          "Mar",
          "Abr",
          "Mai",
          "Jun",
          "Jul",
          "Ago",
          "Set",
          "Out",
          "Nov",
          "Dez"
         ],
         "xaxis": "x",
         "y": [
          24433.969999999998,
          -6841.540000000001,
          67078.88,
          222137.38000000006,
          51765.01,
          145.20999999999992,
          246588.92000000007,
          -2098.6099999999997,
          73862.55000000002,
          -81455.84999999999,
          109660.32999999999,
          18658.14
         ],
         "yaxis": "y"
        },
        {
         "hovertemplate": "Ano=2013<br>Mes=%{x}<br>Valor=%{y}<extra></extra>",
         "legendgroup": "2013",
         "line": {
          "color": "#ab63fa",
          "dash": "solid"
         },
         "marker": {
          "symbol": "circle"
         },
         "mode": "lines",
         "name": "2013",
         "orientation": "v",
         "showlegend": true,
         "type": "scatter",
         "x": [
          "Jan",
          "Fev",
          "Mar",
          "Abr",
          "Mai",
          "Jun",
          "Jul",
          "Ago",
          "Set",
          "Out",
          "Nov",
          "Dez"
         ],
         "xaxis": "x",
         "y": [
          8239.379999999997,
          57997.600000000006,
          135398.38000000006,
          141742.53000000003,
          96136.85999999999,
          -11529.13,
          9812.179999999997,
          -3256.929999999998,
          54782.409999999996,
          188264.30999999997,
          29183.749999999985,
          143889.81000000006
         ],
         "yaxis": "y"
        },
        {
         "hovertemplate": "Ano=2014<br>Mes=%{x}<br>Valor=%{y}<extra></extra>",
         "legendgroup": "2014",
         "line": {
          "color": "#FFA15A",
          "dash": "solid"
         },
         "marker": {
          "symbol": "circle"
         },
         "mode": "lines",
         "name": "2014",
         "orientation": "v",
         "showlegend": true,
         "type": "scatter",
         "x": [
          "Jan",
          "Fev",
          "Mar",
          "Abr",
          "Mai",
          "Jun",
          "Jul",
          "Ago",
          "Set",
          "Out",
          "Nov",
          "Dez"
         ],
         "xaxis": "x",
         "y": [
          213868.99999999994,
          -2421.9999999999995,
          78366.51999999995,
          56778.87000000006,
          60022.89999999998,
          67158.59,
          372191.31999999995,
          64525.19999999998,
          75683.77999999998,
          117289.60000000006,
          2777.659999999995,
          -38359.520000000026
         ],
         "yaxis": "y"
        },
        {
         "hovertemplate": "Ano=2015<br>Mes=%{x}<br>Valor=%{y}<extra></extra>",
         "legendgroup": "2015",
         "line": {
          "color": "#19d3f3",
          "dash": "solid"
         },
         "marker": {
          "symbol": "circle"
         },
         "mode": "lines",
         "name": "2015",
         "orientation": "v",
         "showlegend": true,
         "type": "scatter",
         "x": [
          "Jan",
          "Fev",
          "Mar",
          "Abr",
          "Mai",
          "Jun",
          "Jul",
          "Ago",
          "Set",
          "Out",
          "Nov",
          "Dez"
         ],
         "xaxis": "x",
         "y": [
          18102.4,
          58497.830000000016,
          80682.71999999999,
          77033.92000000003,
          103876.72000000002,
          183285.37000000014,
          124244.57999999997,
          130197.00000000019,
          10245.65,
          26680.830000000027,
          124094.32000000005,
          113183.55999999994
         ],
         "yaxis": "y"
        },
        {
         "hovertemplate": "Ano=2016<br>Mes=%{x}<br>Valor=%{y}<extra></extra>",
         "legendgroup": "2016",
         "line": {
          "color": "#FF6692",
          "dash": "solid"
         },
         "marker": {
          "symbol": "circle"
         },
         "mode": "lines",
         "name": "2016",
         "orientation": "v",
         "showlegend": true,
         "type": "scatter",
         "x": [
          "Jan",
          "Fev",
          "Mar",
          "Abr",
          "Mai",
          "Jun",
          "Jul",
          "Ago",
          "Set",
          "Out",
          "Nov",
          "Dez"
         ],
         "xaxis": "x",
         "y": [
          158433.91999999998,
          -4622.040000000005,
          -4711.200000000002,
          47879.84999999998,
          13982.369999999992,
          50039.38000000008,
          78663.8,
          216345.79000000018,
          134472.29999999984,
          86624.79999999997,
          39611.47000000004,
          123966.7599999999
         ],
         "yaxis": "y"
        },
        {
         "hovertemplate": "Ano=2017<br>Mes=%{x}<br>Valor=%{y}<extra></extra>",
         "legendgroup": "2017",
         "line": {
          "color": "#B6E880",
          "dash": "solid"
         },
         "marker": {
          "symbol": "circle"
         },
         "mode": "lines",
         "name": "2017",
         "orientation": "v",
         "showlegend": true,
         "type": "scatter",
         "x": [
          "Jan",
          "Fev",
          "Mar",
          "Abr",
          "Mai",
          "Jun",
          "Jul",
          "Ago",
          "Set",
          "Out",
          "Nov",
          "Dez"
         ],
         "xaxis": "x",
         "y": [
          176700.97999999975,
          197771.82999999993,
          214059.71000000008,
          415164.00000000035,
          135187.90999999983,
          185929.89000000013,
          158054.02999999985,
          -2163.8800000000474,
          540809.5699999993,
          210967.3599999999,
          254793.5499999996,
          178546.78000000006
         ],
         "yaxis": "y"
        },
        {
         "hovertemplate": "Ano=2018<br>Mes=%{x}<br>Valor=%{y}<extra></extra>",
         "legendgroup": "2018",
         "line": {
          "color": "#FF97FF",
          "dash": "solid"
         },
         "marker": {
          "symbol": "circle"
         },
         "mode": "lines",
         "name": "2018",
         "orientation": "v",
         "showlegend": true,
         "type": "scatter",
         "x": [
          "Jan",
          "Fev",
          "Mar",
          "Abr",
          "Mai",
          "Jun",
          "Jul",
          "Ago",
          "Set",
          "Out",
          "Nov",
          "Dez"
         ],
         "xaxis": "x",
         "y": [
          171871.54000000012,
          75396.62999999993,
          197733.0799999995,
          162640.09000000005,
          287727.56,
          156797.15999999983,
          139592.4200000001,
          233172.05000000005,
          359584.7699999998,
          23560.72000000002,
          367413.8600000002,
          316682.06999999995
         ],
         "yaxis": "y"
        },
        {
         "hovertemplate": "Ano=2019<br>Mes=%{x}<br>Valor=%{y}<extra></extra>",
         "legendgroup": "2019",
         "line": {
          "color": "#FECB52",
          "dash": "solid"
         },
         "marker": {
          "symbol": "circle"
         },
         "mode": "lines",
         "name": "2019",
         "orientation": "v",
         "showlegend": true,
         "type": "scatter",
         "x": [
          "Jan",
          "Fev",
          "Mar",
          "Abr",
          "Mai",
          "Jun",
          "Jul",
          "Ago",
          "Set",
          "Out",
          "Nov",
          "Dez"
         ],
         "xaxis": "x",
         "y": [
          349961.82999999967,
          131094.6600000001,
          150041.13999999987,
          634176.6300000006,
          81516.02999999994,
          328077.5299999999,
          118079.1500000001,
          611690.7499999993,
          318370.64999999956,
          94094.45,
          398914.2599999998,
          113149.59999999998
         ],
         "yaxis": "y"
        },
        {
         "hovertemplate": "Ano=2020<br>Mes=%{x}<br>Valor=%{y}<extra></extra>",
         "legendgroup": "2020",
         "line": {
          "color": "#636efa",
          "dash": "solid"
         },
         "marker": {
          "symbol": "circle"
         },
         "mode": "lines",
         "name": "2020",
         "orientation": "v",
         "showlegend": true,
         "type": "scatter",
         "x": [
          "Jan",
          "Fev",
          "Mar",
          "Abr",
          "Mai",
          "Jun",
          "Jul",
          "Ago",
          "Set",
          "Out",
          "Nov",
          "Dez"
         ],
         "xaxis": "x",
         "y": [
          702306.5500000003,
          132234.2800000001,
          136288.31000000006,
          112380.38000000008,
          95188.91000000003,
          70295.31999999998,
          168355.49999999994,
          233165.64999999988,
          849155.1500000005,
          570339.2800000014,
          295084.7900000007,
          31660.789999999914
         ],
         "yaxis": "y"
        },
        {
         "hovertemplate": "Ano=2021<br>Mes=%{x}<br>Valor=%{y}<extra></extra>",
         "legendgroup": "2021",
         "line": {
          "color": "#EF553B",
          "dash": "solid"
         },
         "marker": {
          "symbol": "circle"
         },
         "mode": "lines",
         "name": "2021",
         "orientation": "v",
         "showlegend": true,
         "type": "scatter",
         "x": [
          "Jan",
          "Fev",
          "Mar",
          "Abr",
          "Mai",
          "Jun",
          "Jul",
          "Ago",
          "Set",
          "Out",
          "Nov",
          "Dez"
         ],
         "xaxis": "x",
         "y": [
          166774.17999999988,
          -21850.04000000002,
          283576.47000000015,
          37253.89999999997,
          83183.40999999983,
          -39333.41999999995,
          33292.119999999886,
          36486.10999999988,
          94543.51000000031,
          135931.88000000012,
          128061.22000000009,
          40059.889999999796
         ],
         "yaxis": "y"
        }
       ],
       "layout": {
        "legend": {
         "title": {
          "text": "Ano"
         },
         "tracegroupgap": 0
        },
        "template": {
         "data": {
          "bar": [
           {
            "error_x": {
             "color": "#2a3f5f"
            },
            "error_y": {
             "color": "#2a3f5f"
            },
            "marker": {
             "line": {
              "color": "#E5ECF6",
              "width": 0.5
             },
             "pattern": {
              "fillmode": "overlay",
              "size": 10,
              "solidity": 0.2
             }
            },
            "type": "bar"
           }
          ],
          "barpolar": [
           {
            "marker": {
             "line": {
              "color": "#E5ECF6",
              "width": 0.5
             },
             "pattern": {
              "fillmode": "overlay",
              "size": 10,
              "solidity": 0.2
             }
            },
            "type": "barpolar"
           }
          ],
          "carpet": [
           {
            "aaxis": {
             "endlinecolor": "#2a3f5f",
             "gridcolor": "white",
             "linecolor": "white",
             "minorgridcolor": "white",
             "startlinecolor": "#2a3f5f"
            },
            "baxis": {
             "endlinecolor": "#2a3f5f",
             "gridcolor": "white",
             "linecolor": "white",
             "minorgridcolor": "white",
             "startlinecolor": "#2a3f5f"
            },
            "type": "carpet"
           }
          ],
          "choropleth": [
           {
            "colorbar": {
             "outlinewidth": 0,
             "ticks": ""
            },
            "type": "choropleth"
           }
          ],
          "contour": [
           {
            "colorbar": {
             "outlinewidth": 0,
             "ticks": ""
            },
            "colorscale": [
             [
              0,
              "#0d0887"
             ],
             [
              0.1111111111111111,
              "#46039f"
             ],
             [
              0.2222222222222222,
              "#7201a8"
             ],
             [
              0.3333333333333333,
              "#9c179e"
             ],
             [
              0.4444444444444444,
              "#bd3786"
             ],
             [
              0.5555555555555556,
              "#d8576b"
             ],
             [
              0.6666666666666666,
              "#ed7953"
             ],
             [
              0.7777777777777778,
              "#fb9f3a"
             ],
             [
              0.8888888888888888,
              "#fdca26"
             ],
             [
              1,
              "#f0f921"
             ]
            ],
            "type": "contour"
           }
          ],
          "contourcarpet": [
           {
            "colorbar": {
             "outlinewidth": 0,
             "ticks": ""
            },
            "type": "contourcarpet"
           }
          ],
          "heatmap": [
           {
            "colorbar": {
             "outlinewidth": 0,
             "ticks": ""
            },
            "colorscale": [
             [
              0,
              "#0d0887"
             ],
             [
              0.1111111111111111,
              "#46039f"
             ],
             [
              0.2222222222222222,
              "#7201a8"
             ],
             [
              0.3333333333333333,
              "#9c179e"
             ],
             [
              0.4444444444444444,
              "#bd3786"
             ],
             [
              0.5555555555555556,
              "#d8576b"
             ],
             [
              0.6666666666666666,
              "#ed7953"
             ],
             [
              0.7777777777777778,
              "#fb9f3a"
             ],
             [
              0.8888888888888888,
              "#fdca26"
             ],
             [
              1,
              "#f0f921"
             ]
            ],
            "type": "heatmap"
           }
          ],
          "heatmapgl": [
           {
            "colorbar": {
             "outlinewidth": 0,
             "ticks": ""
            },
            "colorscale": [
             [
              0,
              "#0d0887"
             ],
             [
              0.1111111111111111,
              "#46039f"
             ],
             [
              0.2222222222222222,
              "#7201a8"
             ],
             [
              0.3333333333333333,
              "#9c179e"
             ],
             [
              0.4444444444444444,
              "#bd3786"
             ],
             [
              0.5555555555555556,
              "#d8576b"
             ],
             [
              0.6666666666666666,
              "#ed7953"
             ],
             [
              0.7777777777777778,
              "#fb9f3a"
             ],
             [
              0.8888888888888888,
              "#fdca26"
             ],
             [
              1,
              "#f0f921"
             ]
            ],
            "type": "heatmapgl"
           }
          ],
          "histogram": [
           {
            "marker": {
             "pattern": {
              "fillmode": "overlay",
              "size": 10,
              "solidity": 0.2
             }
            },
            "type": "histogram"
           }
          ],
          "histogram2d": [
           {
            "colorbar": {
             "outlinewidth": 0,
             "ticks": ""
            },
            "colorscale": [
             [
              0,
              "#0d0887"
             ],
             [
              0.1111111111111111,
              "#46039f"
             ],
             [
              0.2222222222222222,
              "#7201a8"
             ],
             [
              0.3333333333333333,
              "#9c179e"
             ],
             [
              0.4444444444444444,
              "#bd3786"
             ],
             [
              0.5555555555555556,
              "#d8576b"
             ],
             [
              0.6666666666666666,
              "#ed7953"
             ],
             [
              0.7777777777777778,
              "#fb9f3a"
             ],
             [
              0.8888888888888888,
              "#fdca26"
             ],
             [
              1,
              "#f0f921"
             ]
            ],
            "type": "histogram2d"
           }
          ],
          "histogram2dcontour": [
           {
            "colorbar": {
             "outlinewidth": 0,
             "ticks": ""
            },
            "colorscale": [
             [
              0,
              "#0d0887"
             ],
             [
              0.1111111111111111,
              "#46039f"
             ],
             [
              0.2222222222222222,
              "#7201a8"
             ],
             [
              0.3333333333333333,
              "#9c179e"
             ],
             [
              0.4444444444444444,
              "#bd3786"
             ],
             [
              0.5555555555555556,
              "#d8576b"
             ],
             [
              0.6666666666666666,
              "#ed7953"
             ],
             [
              0.7777777777777778,
              "#fb9f3a"
             ],
             [
              0.8888888888888888,
              "#fdca26"
             ],
             [
              1,
              "#f0f921"
             ]
            ],
            "type": "histogram2dcontour"
           }
          ],
          "mesh3d": [
           {
            "colorbar": {
             "outlinewidth": 0,
             "ticks": ""
            },
            "type": "mesh3d"
           }
          ],
          "parcoords": [
           {
            "line": {
             "colorbar": {
              "outlinewidth": 0,
              "ticks": ""
             }
            },
            "type": "parcoords"
           }
          ],
          "pie": [
           {
            "automargin": true,
            "type": "pie"
           }
          ],
          "scatter": [
           {
            "marker": {
             "colorbar": {
              "outlinewidth": 0,
              "ticks": ""
             }
            },
            "type": "scatter"
           }
          ],
          "scatter3d": [
           {
            "line": {
             "colorbar": {
              "outlinewidth": 0,
              "ticks": ""
             }
            },
            "marker": {
             "colorbar": {
              "outlinewidth": 0,
              "ticks": ""
             }
            },
            "type": "scatter3d"
           }
          ],
          "scattercarpet": [
           {
            "marker": {
             "colorbar": {
              "outlinewidth": 0,
              "ticks": ""
             }
            },
            "type": "scattercarpet"
           }
          ],
          "scattergeo": [
           {
            "marker": {
             "colorbar": {
              "outlinewidth": 0,
              "ticks": ""
             }
            },
            "type": "scattergeo"
           }
          ],
          "scattergl": [
           {
            "marker": {
             "colorbar": {
              "outlinewidth": 0,
              "ticks": ""
             }
            },
            "type": "scattergl"
           }
          ],
          "scattermapbox": [
           {
            "marker": {
             "colorbar": {
              "outlinewidth": 0,
              "ticks": ""
             }
            },
            "type": "scattermapbox"
           }
          ],
          "scatterpolar": [
           {
            "marker": {
             "colorbar": {
              "outlinewidth": 0,
              "ticks": ""
             }
            },
            "type": "scatterpolar"
           }
          ],
          "scatterpolargl": [
           {
            "marker": {
             "colorbar": {
              "outlinewidth": 0,
              "ticks": ""
             }
            },
            "type": "scatterpolargl"
           }
          ],
          "scatterternary": [
           {
            "marker": {
             "colorbar": {
              "outlinewidth": 0,
              "ticks": ""
             }
            },
            "type": "scatterternary"
           }
          ],
          "surface": [
           {
            "colorbar": {
             "outlinewidth": 0,
             "ticks": ""
            },
            "colorscale": [
             [
              0,
              "#0d0887"
             ],
             [
              0.1111111111111111,
              "#46039f"
             ],
             [
              0.2222222222222222,
              "#7201a8"
             ],
             [
              0.3333333333333333,
              "#9c179e"
             ],
             [
              0.4444444444444444,
              "#bd3786"
             ],
             [
              0.5555555555555556,
              "#d8576b"
             ],
             [
              0.6666666666666666,
              "#ed7953"
             ],
             [
              0.7777777777777778,
              "#fb9f3a"
             ],
             [
              0.8888888888888888,
              "#fdca26"
             ],
             [
              1,
              "#f0f921"
             ]
            ],
            "type": "surface"
           }
          ],
          "table": [
           {
            "cells": {
             "fill": {
              "color": "#EBF0F8"
             },
             "line": {
              "color": "white"
             }
            },
            "header": {
             "fill": {
              "color": "#C8D4E3"
             },
             "line": {
              "color": "white"
             }
            },
            "type": "table"
           }
          ]
         },
         "layout": {
          "annotationdefaults": {
           "arrowcolor": "#2a3f5f",
           "arrowhead": 0,
           "arrowwidth": 1
          },
          "autotypenumbers": "strict",
          "coloraxis": {
           "colorbar": {
            "outlinewidth": 0,
            "ticks": ""
           }
          },
          "colorscale": {
           "diverging": [
            [
             0,
             "#8e0152"
            ],
            [
             0.1,
             "#c51b7d"
            ],
            [
             0.2,
             "#de77ae"
            ],
            [
             0.3,
             "#f1b6da"
            ],
            [
             0.4,
             "#fde0ef"
            ],
            [
             0.5,
             "#f7f7f7"
            ],
            [
             0.6,
             "#e6f5d0"
            ],
            [
             0.7,
             "#b8e186"
            ],
            [
             0.8,
             "#7fbc41"
            ],
            [
             0.9,
             "#4d9221"
            ],
            [
             1,
             "#276419"
            ]
           ],
           "sequential": [
            [
             0,
             "#0d0887"
            ],
            [
             0.1111111111111111,
             "#46039f"
            ],
            [
             0.2222222222222222,
             "#7201a8"
            ],
            [
             0.3333333333333333,
             "#9c179e"
            ],
            [
             0.4444444444444444,
             "#bd3786"
            ],
            [
             0.5555555555555556,
             "#d8576b"
            ],
            [
             0.6666666666666666,
             "#ed7953"
            ],
            [
             0.7777777777777778,
             "#fb9f3a"
            ],
            [
             0.8888888888888888,
             "#fdca26"
            ],
            [
             1,
             "#f0f921"
            ]
           ],
           "sequentialminus": [
            [
             0,
             "#0d0887"
            ],
            [
             0.1111111111111111,
             "#46039f"
            ],
            [
             0.2222222222222222,
             "#7201a8"
            ],
            [
             0.3333333333333333,
             "#9c179e"
            ],
            [
             0.4444444444444444,
             "#bd3786"
            ],
            [
             0.5555555555555556,
             "#d8576b"
            ],
            [
             0.6666666666666666,
             "#ed7953"
            ],
            [
             0.7777777777777778,
             "#fb9f3a"
            ],
            [
             0.8888888888888888,
             "#fdca26"
            ],
            [
             1,
             "#f0f921"
            ]
           ]
          },
          "colorway": [
           "#636efa",
           "#EF553B",
           "#00cc96",
           "#ab63fa",
           "#FFA15A",
           "#19d3f3",
           "#FF6692",
           "#B6E880",
           "#FF97FF",
           "#FECB52"
          ],
          "font": {
           "color": "#2a3f5f"
          },
          "geo": {
           "bgcolor": "white",
           "lakecolor": "white",
           "landcolor": "#E5ECF6",
           "showlakes": true,
           "showland": true,
           "subunitcolor": "white"
          },
          "hoverlabel": {
           "align": "left"
          },
          "hovermode": "closest",
          "mapbox": {
           "style": "light"
          },
          "paper_bgcolor": "white",
          "plot_bgcolor": "#E5ECF6",
          "polar": {
           "angularaxis": {
            "gridcolor": "white",
            "linecolor": "white",
            "ticks": ""
           },
           "bgcolor": "#E5ECF6",
           "radialaxis": {
            "gridcolor": "white",
            "linecolor": "white",
            "ticks": ""
           }
          },
          "scene": {
           "xaxis": {
            "backgroundcolor": "#E5ECF6",
            "gridcolor": "white",
            "gridwidth": 2,
            "linecolor": "white",
            "showbackground": true,
            "ticks": "",
            "zerolinecolor": "white"
           },
           "yaxis": {
            "backgroundcolor": "#E5ECF6",
            "gridcolor": "white",
            "gridwidth": 2,
            "linecolor": "white",
            "showbackground": true,
            "ticks": "",
            "zerolinecolor": "white"
           },
           "zaxis": {
            "backgroundcolor": "#E5ECF6",
            "gridcolor": "white",
            "gridwidth": 2,
            "linecolor": "white",
            "showbackground": true,
            "ticks": "",
            "zerolinecolor": "white"
           }
          },
          "shapedefaults": {
           "line": {
            "color": "#2a3f5f"
           }
          },
          "ternary": {
           "aaxis": {
            "gridcolor": "white",
            "linecolor": "white",
            "ticks": ""
           },
           "baxis": {
            "gridcolor": "white",
            "linecolor": "white",
            "ticks": ""
           },
           "bgcolor": "#E5ECF6",
           "caxis": {
            "gridcolor": "white",
            "linecolor": "white",
            "ticks": ""
           }
          },
          "title": {
           "x": 0.05
          },
          "xaxis": {
           "automargin": true,
           "gridcolor": "white",
           "linecolor": "white",
           "ticks": "",
           "title": {
            "standoff": 15
           },
           "zerolinecolor": "white",
           "zerolinewidth": 2
          },
          "yaxis": {
           "automargin": true,
           "gridcolor": "white",
           "linecolor": "white",
           "ticks": "",
           "title": {
            "standoff": 15
           },
           "zerolinecolor": "white",
           "zerolinewidth": 2
          }
         }
        },
        "title": {
         "text": "Evolução Trimestral por Ano"
        },
        "xaxis": {
         "anchor": "y",
         "domain": [
          0,
          1
         ],
         "title": {
          "text": "Mes"
         }
        },
        "yaxis": {
         "anchor": "x",
         "domain": [
          0,
          1
         ],
         "title": {
          "text": "Valor"
         }
        }
       }
      }
     },
     "metadata": {},
     "output_type": "display_data"
    }
   ],
   "source": [
    "data_4 = df['transacoes'].loc[:, 'valor_transacao':'mes']\n",
    "\n",
    "valor_trans = {'Mes' : ['Jan','Fev','Mar','Abr','Mai','Jun','Jul','Ago','Set','Out','Nov','Dez']}\n",
    "\n",
    "meses = [1,2,3,4,5,6,7,8,9,10,11,12]\n",
    "anos = sorted(df['transacoes']['ano'].unique(), key=int)\n",
    "\n",
    "for a in anos:\n",
    "    valor_trans[a] = []\n",
    "    for m in meses:\n",
    "        valor_trans[a].append(sum(data_4[(data_4['ano'] == a) & (data_4['mes'] == m)]['valor_transacao']))\n",
    "\n",
    "df_transf = pd.DataFrame(valor_trans) # dataframe de valores das transferencias (2010 a 2021)\n",
    "\n",
    "df_transf = df_transf.loc[:, 'Mes': 2021]\n",
    "\n",
    "dados_long_4 = df_transf.melt(id_vars=[\"Mes\"], var_name=\"Ano\", value_name=\"Valor\")\n",
    "\n",
    "fig = px.line(dados_long_4, x=\"Mes\", y=\"Valor\", color=\"Ano\",\n",
    "              title=\"Evolução Trimestral por Ano\")\n",
    "\n",
    "fig.show()"
   ]
  },
  {
   "cell_type": "code",
   "execution_count": 38,
   "metadata": {},
   "outputs": [],
   "source": [
    "labels = ['IPCA', 'Valor Transferido', 'Número de Transferências']\n",
    "ipca_anual = ipca_df.loc[:, 2010:2021].sum(axis=0) # ipca anual\n",
    "valor_transf_ano = df_transf.loc[:, 2010:2021].sum(axis=0) # valores transferidos anualmente\n",
    "num_transf_anual = data_3.loc[:, 2010:2021].sum(axis=0) # número de transferências por ano\n",
    "\n",
    "df_un = pd.DataFrame([ipca_anual, valor_transf_ano, num_transf_anual])\n",
    "df_un.insert(0, 'ind', labels)\n",
    "\n",
    "df_un = df_un.set_index('ind').T.reset_index()\n",
    "\n",
    "df_un.columns.name = None\n",
    "\n",
    "df_un = df_un.rename(columns={'index': 'Ano'})"
   ]
  },
  {
   "cell_type": "markdown",
   "metadata": {},
   "source": [
    "Correlação de Pearson: https://www.blog.psicometriaonline.com.br/o-que-e-correlacao-de-pearson/"
   ]
  },
  {
   "cell_type": "code",
   "execution_count": 39,
   "metadata": {},
   "outputs": [
    {
     "data": {
      "application/vnd.plotly.v1+json": {
       "config": {
        "plotlyServerURL": "https://plot.ly"
       },
       "data": [
        {
         "coloraxis": "coloraxis",
         "hovertemplate": "x: %{x}<br>y: %{y}<br>Correlação: %{z}<extra></extra>",
         "name": "0",
         "texttemplate": "%{z}",
         "type": "heatmap",
         "x": [
          "IPCA",
          "Valor Transferido",
          "Número de Transferências"
         ],
         "xaxis": "x",
         "y": [
          "IPCA",
          "Valor Transferido",
          "Número de Transferências"
         ],
         "yaxis": "y",
         "z": [
          [
           1,
           -0.5462316412936591,
           0.0890897992738114
          ],
          [
           -0.5462316412936591,
           1,
           0.6562052013459299
          ],
          [
           0.0890897992738114,
           0.6562052013459299,
           1
          ]
         ]
        }
       ],
       "layout": {
        "coloraxis": {
         "colorbar": {
          "title": {
           "text": "Correlação"
          }
         },
         "colorscale": [
          [
           0,
           "rgb(5,48,97)"
          ],
          [
           0.1,
           "rgb(33,102,172)"
          ],
          [
           0.2,
           "rgb(67,147,195)"
          ],
          [
           0.3,
           "rgb(146,197,222)"
          ],
          [
           0.4,
           "rgb(209,229,240)"
          ],
          [
           0.5,
           "rgb(247,247,247)"
          ],
          [
           0.6,
           "rgb(253,219,199)"
          ],
          [
           0.7,
           "rgb(244,165,130)"
          ],
          [
           0.8,
           "rgb(214,96,77)"
          ],
          [
           0.9,
           "rgb(178,24,43)"
          ],
          [
           1,
           "rgb(103,0,31)"
          ]
         ]
        },
        "margin": {
         "t": 60
        },
        "template": {
         "data": {
          "bar": [
           {
            "error_x": {
             "color": "#2a3f5f"
            },
            "error_y": {
             "color": "#2a3f5f"
            },
            "marker": {
             "line": {
              "color": "#E5ECF6",
              "width": 0.5
             },
             "pattern": {
              "fillmode": "overlay",
              "size": 10,
              "solidity": 0.2
             }
            },
            "type": "bar"
           }
          ],
          "barpolar": [
           {
            "marker": {
             "line": {
              "color": "#E5ECF6",
              "width": 0.5
             },
             "pattern": {
              "fillmode": "overlay",
              "size": 10,
              "solidity": 0.2
             }
            },
            "type": "barpolar"
           }
          ],
          "carpet": [
           {
            "aaxis": {
             "endlinecolor": "#2a3f5f",
             "gridcolor": "white",
             "linecolor": "white",
             "minorgridcolor": "white",
             "startlinecolor": "#2a3f5f"
            },
            "baxis": {
             "endlinecolor": "#2a3f5f",
             "gridcolor": "white",
             "linecolor": "white",
             "minorgridcolor": "white",
             "startlinecolor": "#2a3f5f"
            },
            "type": "carpet"
           }
          ],
          "choropleth": [
           {
            "colorbar": {
             "outlinewidth": 0,
             "ticks": ""
            },
            "type": "choropleth"
           }
          ],
          "contour": [
           {
            "colorbar": {
             "outlinewidth": 0,
             "ticks": ""
            },
            "colorscale": [
             [
              0,
              "#0d0887"
             ],
             [
              0.1111111111111111,
              "#46039f"
             ],
             [
              0.2222222222222222,
              "#7201a8"
             ],
             [
              0.3333333333333333,
              "#9c179e"
             ],
             [
              0.4444444444444444,
              "#bd3786"
             ],
             [
              0.5555555555555556,
              "#d8576b"
             ],
             [
              0.6666666666666666,
              "#ed7953"
             ],
             [
              0.7777777777777778,
              "#fb9f3a"
             ],
             [
              0.8888888888888888,
              "#fdca26"
             ],
             [
              1,
              "#f0f921"
             ]
            ],
            "type": "contour"
           }
          ],
          "contourcarpet": [
           {
            "colorbar": {
             "outlinewidth": 0,
             "ticks": ""
            },
            "type": "contourcarpet"
           }
          ],
          "heatmap": [
           {
            "colorbar": {
             "outlinewidth": 0,
             "ticks": ""
            },
            "colorscale": [
             [
              0,
              "#0d0887"
             ],
             [
              0.1111111111111111,
              "#46039f"
             ],
             [
              0.2222222222222222,
              "#7201a8"
             ],
             [
              0.3333333333333333,
              "#9c179e"
             ],
             [
              0.4444444444444444,
              "#bd3786"
             ],
             [
              0.5555555555555556,
              "#d8576b"
             ],
             [
              0.6666666666666666,
              "#ed7953"
             ],
             [
              0.7777777777777778,
              "#fb9f3a"
             ],
             [
              0.8888888888888888,
              "#fdca26"
             ],
             [
              1,
              "#f0f921"
             ]
            ],
            "type": "heatmap"
           }
          ],
          "heatmapgl": [
           {
            "colorbar": {
             "outlinewidth": 0,
             "ticks": ""
            },
            "colorscale": [
             [
              0,
              "#0d0887"
             ],
             [
              0.1111111111111111,
              "#46039f"
             ],
             [
              0.2222222222222222,
              "#7201a8"
             ],
             [
              0.3333333333333333,
              "#9c179e"
             ],
             [
              0.4444444444444444,
              "#bd3786"
             ],
             [
              0.5555555555555556,
              "#d8576b"
             ],
             [
              0.6666666666666666,
              "#ed7953"
             ],
             [
              0.7777777777777778,
              "#fb9f3a"
             ],
             [
              0.8888888888888888,
              "#fdca26"
             ],
             [
              1,
              "#f0f921"
             ]
            ],
            "type": "heatmapgl"
           }
          ],
          "histogram": [
           {
            "marker": {
             "pattern": {
              "fillmode": "overlay",
              "size": 10,
              "solidity": 0.2
             }
            },
            "type": "histogram"
           }
          ],
          "histogram2d": [
           {
            "colorbar": {
             "outlinewidth": 0,
             "ticks": ""
            },
            "colorscale": [
             [
              0,
              "#0d0887"
             ],
             [
              0.1111111111111111,
              "#46039f"
             ],
             [
              0.2222222222222222,
              "#7201a8"
             ],
             [
              0.3333333333333333,
              "#9c179e"
             ],
             [
              0.4444444444444444,
              "#bd3786"
             ],
             [
              0.5555555555555556,
              "#d8576b"
             ],
             [
              0.6666666666666666,
              "#ed7953"
             ],
             [
              0.7777777777777778,
              "#fb9f3a"
             ],
             [
              0.8888888888888888,
              "#fdca26"
             ],
             [
              1,
              "#f0f921"
             ]
            ],
            "type": "histogram2d"
           }
          ],
          "histogram2dcontour": [
           {
            "colorbar": {
             "outlinewidth": 0,
             "ticks": ""
            },
            "colorscale": [
             [
              0,
              "#0d0887"
             ],
             [
              0.1111111111111111,
              "#46039f"
             ],
             [
              0.2222222222222222,
              "#7201a8"
             ],
             [
              0.3333333333333333,
              "#9c179e"
             ],
             [
              0.4444444444444444,
              "#bd3786"
             ],
             [
              0.5555555555555556,
              "#d8576b"
             ],
             [
              0.6666666666666666,
              "#ed7953"
             ],
             [
              0.7777777777777778,
              "#fb9f3a"
             ],
             [
              0.8888888888888888,
              "#fdca26"
             ],
             [
              1,
              "#f0f921"
             ]
            ],
            "type": "histogram2dcontour"
           }
          ],
          "mesh3d": [
           {
            "colorbar": {
             "outlinewidth": 0,
             "ticks": ""
            },
            "type": "mesh3d"
           }
          ],
          "parcoords": [
           {
            "line": {
             "colorbar": {
              "outlinewidth": 0,
              "ticks": ""
             }
            },
            "type": "parcoords"
           }
          ],
          "pie": [
           {
            "automargin": true,
            "type": "pie"
           }
          ],
          "scatter": [
           {
            "marker": {
             "colorbar": {
              "outlinewidth": 0,
              "ticks": ""
             }
            },
            "type": "scatter"
           }
          ],
          "scatter3d": [
           {
            "line": {
             "colorbar": {
              "outlinewidth": 0,
              "ticks": ""
             }
            },
            "marker": {
             "colorbar": {
              "outlinewidth": 0,
              "ticks": ""
             }
            },
            "type": "scatter3d"
           }
          ],
          "scattercarpet": [
           {
            "marker": {
             "colorbar": {
              "outlinewidth": 0,
              "ticks": ""
             }
            },
            "type": "scattercarpet"
           }
          ],
          "scattergeo": [
           {
            "marker": {
             "colorbar": {
              "outlinewidth": 0,
              "ticks": ""
             }
            },
            "type": "scattergeo"
           }
          ],
          "scattergl": [
           {
            "marker": {
             "colorbar": {
              "outlinewidth": 0,
              "ticks": ""
             }
            },
            "type": "scattergl"
           }
          ],
          "scattermapbox": [
           {
            "marker": {
             "colorbar": {
              "outlinewidth": 0,
              "ticks": ""
             }
            },
            "type": "scattermapbox"
           }
          ],
          "scatterpolar": [
           {
            "marker": {
             "colorbar": {
              "outlinewidth": 0,
              "ticks": ""
             }
            },
            "type": "scatterpolar"
           }
          ],
          "scatterpolargl": [
           {
            "marker": {
             "colorbar": {
              "outlinewidth": 0,
              "ticks": ""
             }
            },
            "type": "scatterpolargl"
           }
          ],
          "scatterternary": [
           {
            "marker": {
             "colorbar": {
              "outlinewidth": 0,
              "ticks": ""
             }
            },
            "type": "scatterternary"
           }
          ],
          "surface": [
           {
            "colorbar": {
             "outlinewidth": 0,
             "ticks": ""
            },
            "colorscale": [
             [
              0,
              "#0d0887"
             ],
             [
              0.1111111111111111,
              "#46039f"
             ],
             [
              0.2222222222222222,
              "#7201a8"
             ],
             [
              0.3333333333333333,
              "#9c179e"
             ],
             [
              0.4444444444444444,
              "#bd3786"
             ],
             [
              0.5555555555555556,
              "#d8576b"
             ],
             [
              0.6666666666666666,
              "#ed7953"
             ],
             [
              0.7777777777777778,
              "#fb9f3a"
             ],
             [
              0.8888888888888888,
              "#fdca26"
             ],
             [
              1,
              "#f0f921"
             ]
            ],
            "type": "surface"
           }
          ],
          "table": [
           {
            "cells": {
             "fill": {
              "color": "#EBF0F8"
             },
             "line": {
              "color": "white"
             }
            },
            "header": {
             "fill": {
              "color": "#C8D4E3"
             },
             "line": {
              "color": "white"
             }
            },
            "type": "table"
           }
          ]
         },
         "layout": {
          "annotationdefaults": {
           "arrowcolor": "#2a3f5f",
           "arrowhead": 0,
           "arrowwidth": 1
          },
          "autotypenumbers": "strict",
          "coloraxis": {
           "colorbar": {
            "outlinewidth": 0,
            "ticks": ""
           }
          },
          "colorscale": {
           "diverging": [
            [
             0,
             "#8e0152"
            ],
            [
             0.1,
             "#c51b7d"
            ],
            [
             0.2,
             "#de77ae"
            ],
            [
             0.3,
             "#f1b6da"
            ],
            [
             0.4,
             "#fde0ef"
            ],
            [
             0.5,
             "#f7f7f7"
            ],
            [
             0.6,
             "#e6f5d0"
            ],
            [
             0.7,
             "#b8e186"
            ],
            [
             0.8,
             "#7fbc41"
            ],
            [
             0.9,
             "#4d9221"
            ],
            [
             1,
             "#276419"
            ]
           ],
           "sequential": [
            [
             0,
             "#0d0887"
            ],
            [
             0.1111111111111111,
             "#46039f"
            ],
            [
             0.2222222222222222,
             "#7201a8"
            ],
            [
             0.3333333333333333,
             "#9c179e"
            ],
            [
             0.4444444444444444,
             "#bd3786"
            ],
            [
             0.5555555555555556,
             "#d8576b"
            ],
            [
             0.6666666666666666,
             "#ed7953"
            ],
            [
             0.7777777777777778,
             "#fb9f3a"
            ],
            [
             0.8888888888888888,
             "#fdca26"
            ],
            [
             1,
             "#f0f921"
            ]
           ],
           "sequentialminus": [
            [
             0,
             "#0d0887"
            ],
            [
             0.1111111111111111,
             "#46039f"
            ],
            [
             0.2222222222222222,
             "#7201a8"
            ],
            [
             0.3333333333333333,
             "#9c179e"
            ],
            [
             0.4444444444444444,
             "#bd3786"
            ],
            [
             0.5555555555555556,
             "#d8576b"
            ],
            [
             0.6666666666666666,
             "#ed7953"
            ],
            [
             0.7777777777777778,
             "#fb9f3a"
            ],
            [
             0.8888888888888888,
             "#fdca26"
            ],
            [
             1,
             "#f0f921"
            ]
           ]
          },
          "colorway": [
           "#636efa",
           "#EF553B",
           "#00cc96",
           "#ab63fa",
           "#FFA15A",
           "#19d3f3",
           "#FF6692",
           "#B6E880",
           "#FF97FF",
           "#FECB52"
          ],
          "font": {
           "color": "#2a3f5f"
          },
          "geo": {
           "bgcolor": "white",
           "lakecolor": "white",
           "landcolor": "#E5ECF6",
           "showlakes": true,
           "showland": true,
           "subunitcolor": "white"
          },
          "hoverlabel": {
           "align": "left"
          },
          "hovermode": "closest",
          "mapbox": {
           "style": "light"
          },
          "paper_bgcolor": "white",
          "plot_bgcolor": "#E5ECF6",
          "polar": {
           "angularaxis": {
            "gridcolor": "white",
            "linecolor": "white",
            "ticks": ""
           },
           "bgcolor": "#E5ECF6",
           "radialaxis": {
            "gridcolor": "white",
            "linecolor": "white",
            "ticks": ""
           }
          },
          "scene": {
           "xaxis": {
            "backgroundcolor": "#E5ECF6",
            "gridcolor": "white",
            "gridwidth": 2,
            "linecolor": "white",
            "showbackground": true,
            "ticks": "",
            "zerolinecolor": "white"
           },
           "yaxis": {
            "backgroundcolor": "#E5ECF6",
            "gridcolor": "white",
            "gridwidth": 2,
            "linecolor": "white",
            "showbackground": true,
            "ticks": "",
            "zerolinecolor": "white"
           },
           "zaxis": {
            "backgroundcolor": "#E5ECF6",
            "gridcolor": "white",
            "gridwidth": 2,
            "linecolor": "white",
            "showbackground": true,
            "ticks": "",
            "zerolinecolor": "white"
           }
          },
          "shapedefaults": {
           "line": {
            "color": "#2a3f5f"
           }
          },
          "ternary": {
           "aaxis": {
            "gridcolor": "white",
            "linecolor": "white",
            "ticks": ""
           },
           "baxis": {
            "gridcolor": "white",
            "linecolor": "white",
            "ticks": ""
           },
           "bgcolor": "#E5ECF6",
           "caxis": {
            "gridcolor": "white",
            "linecolor": "white",
            "ticks": ""
           }
          },
          "title": {
           "x": 0.05
          },
          "xaxis": {
           "automargin": true,
           "gridcolor": "white",
           "linecolor": "white",
           "ticks": "",
           "title": {
            "standoff": 15
           },
           "zerolinecolor": "white",
           "zerolinewidth": 2
          },
          "yaxis": {
           "automargin": true,
           "gridcolor": "white",
           "linecolor": "white",
           "ticks": "",
           "title": {
            "standoff": 15
           },
           "zerolinecolor": "white",
           "zerolinewidth": 2
          }
         }
        },
        "title": {
         "text": "Matriz de Correlação entre IPCA e Indicadores do BanVic"
        },
        "xaxis": {
         "anchor": "y",
         "constrain": "domain",
         "domain": [
          0,
          1
         ],
         "scaleanchor": "y",
         "title": {
          "text": "Variáveis"
         }
        },
        "yaxis": {
         "anchor": "x",
         "autorange": "reversed",
         "constrain": "domain",
         "domain": [
          0,
          1
         ],
         "title": {
          "text": "Variáveis"
         }
        }
       }
      }
     },
     "metadata": {},
     "output_type": "display_data"
    }
   ],
   "source": [
    "matriz_corr = df_un[['IPCA', 'Valor Transferido', 'Número de Transferências']].corr()\n",
    "\n",
    "fig = px.imshow(matriz_corr,     text_auto=True,  # Exibe os valores dentro do heatmap\n",
    "    color_continuous_scale=\"RdBu_r\",  # Mapa de cores (azul-vermelho)\n",
    "    labels=dict(color=\"Correlação\")  # Nome da legenda de cores)\n",
    ")\n",
    "\n",
    "# Títulos e layout\n",
    "fig.update_layout(\n",
    "    title=\"Matriz de Correlação entre IPCA e Indicadores do BanVic\",\n",
    "    xaxis_title=\"Variáveis\",\n",
    "    yaxis_title=\"Variáveis\"\n",
    ")\n",
    "\n",
    "fig.show()"
   ]
  },
  {
   "cell_type": "code",
   "execution_count": null,
   "metadata": {},
   "outputs": [
    {
     "data": {
      "application/vnd.plotly.v1+json": {
       "config": {
        "plotlyServerURL": "https://plot.ly"
       },
       "data": [
        {
         "hovertemplate": "Indicador=IPCA<br>Ano=%{x}<br>Valor=%{y}<extra></extra>",
         "legendgroup": "IPCA",
         "line": {
          "color": "#636efa",
          "dash": "solid"
         },
         "marker": {
          "symbol": "circle"
         },
         "mode": "lines+markers",
         "name": "IPCA",
         "orientation": "v",
         "showlegend": true,
         "type": "scatter",
         "x": [
          2010,
          2011,
          2012,
          2013,
          2014,
          2015,
          2016,
          2017,
          2018,
          2019,
          2020,
          2021
         ],
         "xaxis": "x",
         "y": [
          5.760000000000001,
          6.32,
          5.6899999999999995,
          5.76,
          6.23,
          10.190000000000001,
          6.119999999999999,
          2.9099999999999997,
          3.6900000000000004,
          4.23,
          4.4399999999999995,
          10.630000000000003
         ],
         "yaxis": "y"
        },
        {
         "hovertemplate": "Indicador=Valor Transferido<br>Ano=%{x}<br>Valor=%{y}<extra></extra>",
         "legendgroup": "Valor Transferido",
         "line": {
          "color": "#EF553B",
          "dash": "solid"
         },
         "marker": {
          "symbol": "circle"
         },
         "mode": "lines+markers",
         "name": "Valor Transferido",
         "orientation": "v",
         "showlegend": true,
         "type": "scatter",
         "x": [
          2010,
          2011,
          2012,
          2013,
          2014,
          2015,
          2016,
          2017,
          2018,
          2019,
          2020,
          2021
         ],
         "xaxis": "x",
         "y": [
          28666.499999999993,
          416235.08999999997,
          723934.3900000002,
          850661.1500000001,
          1067881.92,
          1050124.9000000004,
          940687.2,
          2665821.729999999,
          2492171.9499999993,
          3329166.6799999992,
          3396454.9100000025,
          977979.23
         ],
         "yaxis": "y"
        },
        {
         "hovertemplate": "Indicador=Número de Transferências<br>Ano=%{x}<br>Valor=%{y}<extra></extra>",
         "legendgroup": "Número de Transferências",
         "line": {
          "color": "#00cc96",
          "dash": "solid"
         },
         "marker": {
          "symbol": "circle"
         },
         "mode": "lines+markers",
         "name": "Número de Transferências",
         "orientation": "v",
         "showlegend": true,
         "type": "scatter",
         "x": [
          2010,
          2011,
          2012,
          2013,
          2014,
          2015,
          2016,
          2017,
          2018,
          2019,
          2020,
          2021
         ],
         "xaxis": "x",
         "y": [
          93,
          367,
          734,
          1249,
          1503,
          1897,
          2604,
          3554,
          3945,
          5428,
          5783,
          7777
         ],
         "yaxis": "y"
        },
        {
         "hovertemplate": "Indicador=Valor Transferido Normalizado<br>Ano=%{x}<br>Valor=%{y}<extra></extra>",
         "legendgroup": "Valor Transferido Normalizado",
         "line": {
          "color": "#ab63fa",
          "dash": "solid"
         },
         "marker": {
          "symbol": "circle"
         },
         "mode": "lines+markers",
         "name": "Valor Transferido Normalizado",
         "orientation": "v",
         "showlegend": true,
         "type": "scatter",
         "x": [
          2010,
          2011,
          2012,
          2013,
          2014,
          2015,
          2016,
          2017,
          2018,
          2019,
          2020,
          2021
         ],
         "xaxis": "x",
         "y": [
          -1.3282943102474527,
          -0.977206768273648,
          -0.6984705814633069,
          -0.5836723552430028,
          -0.38689813727823646,
          -0.40298372487598155,
          -0.5021202753695776,
          1.0606308281495052,
          0.9033263509613719,
          1.6615364587534625,
          1.7224909836659925,
          -0.4683384687791276
         ],
         "yaxis": "y"
        },
        {
         "hovertemplate": "Indicador=Número de Transferências Normalizado<br>Ano=%{x}<br>Valor=%{y}<extra></extra>",
         "legendgroup": "Número de Transferências Normalizado",
         "line": {
          "color": "#FFA15A",
          "dash": "solid"
         },
         "marker": {
          "symbol": "circle"
         },
         "mode": "lines+markers",
         "name": "Número de Transferências Normalizado",
         "orientation": "v",
         "showlegend": true,
         "type": "scatter",
         "x": [
          2010,
          2011,
          2012,
          2013,
          2014,
          2015,
          2016,
          2017,
          2018,
          2019,
          2020,
          2021
         ],
         "xaxis": "x",
         "y": [
          -1.2130849560125752,
          -1.0951411587634965,
          -0.9371653427400952,
          -0.7154826581296003,
          -0.6061478971760748,
          -0.43654988215367674,
          -0.13222044910587114,
          0.2767087749329058,
          0.4450154345109708,
          1.0833754758262406,
          1.2361858700723098,
          2.094506788738964
         ],
         "yaxis": "y"
        },
        {
         "hovertemplate": "Indicador=IPCA Normalizado<br>Ano=%{x}<br>Valor=%{y}<extra></extra>",
         "legendgroup": "IPCA Normalizado",
         "line": {
          "color": "#19d3f3",
          "dash": "solid"
         },
         "marker": {
          "symbol": "circle"
         },
         "mode": "lines+markers",
         "name": "IPCA Normalizado",
         "orientation": "v",
         "showlegend": true,
         "type": "scatter",
         "x": [
          2010,
          2011,
          2012,
          2013,
          2014,
          2015,
          2016,
          2017,
          2018,
          2019,
          2020,
          2021
         ],
         "xaxis": "x",
         "y": [
          -0.10636879625570457,
          0.1444376285998524,
          -0.13771959936264974,
          -0.10636879625570496,
          0.10412945317663794,
          1.8776891717980781,
          0.05486390543715295,
          -1.3827943513241656,
          -1.0334568309896393,
          -0.7916077784503519,
          -0.6975553691295184,
          2.0747513627560163
         ],
         "yaxis": "y"
        }
       ],
       "layout": {
        "legend": {
         "title": {
          "text": "Indicador"
         },
         "tracegroupgap": 0
        },
        "template": {
         "data": {
          "bar": [
           {
            "error_x": {
             "color": "#2a3f5f"
            },
            "error_y": {
             "color": "#2a3f5f"
            },
            "marker": {
             "line": {
              "color": "#E5ECF6",
              "width": 0.5
             },
             "pattern": {
              "fillmode": "overlay",
              "size": 10,
              "solidity": 0.2
             }
            },
            "type": "bar"
           }
          ],
          "barpolar": [
           {
            "marker": {
             "line": {
              "color": "#E5ECF6",
              "width": 0.5
             },
             "pattern": {
              "fillmode": "overlay",
              "size": 10,
              "solidity": 0.2
             }
            },
            "type": "barpolar"
           }
          ],
          "carpet": [
           {
            "aaxis": {
             "endlinecolor": "#2a3f5f",
             "gridcolor": "white",
             "linecolor": "white",
             "minorgridcolor": "white",
             "startlinecolor": "#2a3f5f"
            },
            "baxis": {
             "endlinecolor": "#2a3f5f",
             "gridcolor": "white",
             "linecolor": "white",
             "minorgridcolor": "white",
             "startlinecolor": "#2a3f5f"
            },
            "type": "carpet"
           }
          ],
          "choropleth": [
           {
            "colorbar": {
             "outlinewidth": 0,
             "ticks": ""
            },
            "type": "choropleth"
           }
          ],
          "contour": [
           {
            "colorbar": {
             "outlinewidth": 0,
             "ticks": ""
            },
            "colorscale": [
             [
              0,
              "#0d0887"
             ],
             [
              0.1111111111111111,
              "#46039f"
             ],
             [
              0.2222222222222222,
              "#7201a8"
             ],
             [
              0.3333333333333333,
              "#9c179e"
             ],
             [
              0.4444444444444444,
              "#bd3786"
             ],
             [
              0.5555555555555556,
              "#d8576b"
             ],
             [
              0.6666666666666666,
              "#ed7953"
             ],
             [
              0.7777777777777778,
              "#fb9f3a"
             ],
             [
              0.8888888888888888,
              "#fdca26"
             ],
             [
              1,
              "#f0f921"
             ]
            ],
            "type": "contour"
           }
          ],
          "contourcarpet": [
           {
            "colorbar": {
             "outlinewidth": 0,
             "ticks": ""
            },
            "type": "contourcarpet"
           }
          ],
          "heatmap": [
           {
            "colorbar": {
             "outlinewidth": 0,
             "ticks": ""
            },
            "colorscale": [
             [
              0,
              "#0d0887"
             ],
             [
              0.1111111111111111,
              "#46039f"
             ],
             [
              0.2222222222222222,
              "#7201a8"
             ],
             [
              0.3333333333333333,
              "#9c179e"
             ],
             [
              0.4444444444444444,
              "#bd3786"
             ],
             [
              0.5555555555555556,
              "#d8576b"
             ],
             [
              0.6666666666666666,
              "#ed7953"
             ],
             [
              0.7777777777777778,
              "#fb9f3a"
             ],
             [
              0.8888888888888888,
              "#fdca26"
             ],
             [
              1,
              "#f0f921"
             ]
            ],
            "type": "heatmap"
           }
          ],
          "heatmapgl": [
           {
            "colorbar": {
             "outlinewidth": 0,
             "ticks": ""
            },
            "colorscale": [
             [
              0,
              "#0d0887"
             ],
             [
              0.1111111111111111,
              "#46039f"
             ],
             [
              0.2222222222222222,
              "#7201a8"
             ],
             [
              0.3333333333333333,
              "#9c179e"
             ],
             [
              0.4444444444444444,
              "#bd3786"
             ],
             [
              0.5555555555555556,
              "#d8576b"
             ],
             [
              0.6666666666666666,
              "#ed7953"
             ],
             [
              0.7777777777777778,
              "#fb9f3a"
             ],
             [
              0.8888888888888888,
              "#fdca26"
             ],
             [
              1,
              "#f0f921"
             ]
            ],
            "type": "heatmapgl"
           }
          ],
          "histogram": [
           {
            "marker": {
             "pattern": {
              "fillmode": "overlay",
              "size": 10,
              "solidity": 0.2
             }
            },
            "type": "histogram"
           }
          ],
          "histogram2d": [
           {
            "colorbar": {
             "outlinewidth": 0,
             "ticks": ""
            },
            "colorscale": [
             [
              0,
              "#0d0887"
             ],
             [
              0.1111111111111111,
              "#46039f"
             ],
             [
              0.2222222222222222,
              "#7201a8"
             ],
             [
              0.3333333333333333,
              "#9c179e"
             ],
             [
              0.4444444444444444,
              "#bd3786"
             ],
             [
              0.5555555555555556,
              "#d8576b"
             ],
             [
              0.6666666666666666,
              "#ed7953"
             ],
             [
              0.7777777777777778,
              "#fb9f3a"
             ],
             [
              0.8888888888888888,
              "#fdca26"
             ],
             [
              1,
              "#f0f921"
             ]
            ],
            "type": "histogram2d"
           }
          ],
          "histogram2dcontour": [
           {
            "colorbar": {
             "outlinewidth": 0,
             "ticks": ""
            },
            "colorscale": [
             [
              0,
              "#0d0887"
             ],
             [
              0.1111111111111111,
              "#46039f"
             ],
             [
              0.2222222222222222,
              "#7201a8"
             ],
             [
              0.3333333333333333,
              "#9c179e"
             ],
             [
              0.4444444444444444,
              "#bd3786"
             ],
             [
              0.5555555555555556,
              "#d8576b"
             ],
             [
              0.6666666666666666,
              "#ed7953"
             ],
             [
              0.7777777777777778,
              "#fb9f3a"
             ],
             [
              0.8888888888888888,
              "#fdca26"
             ],
             [
              1,
              "#f0f921"
             ]
            ],
            "type": "histogram2dcontour"
           }
          ],
          "mesh3d": [
           {
            "colorbar": {
             "outlinewidth": 0,
             "ticks": ""
            },
            "type": "mesh3d"
           }
          ],
          "parcoords": [
           {
            "line": {
             "colorbar": {
              "outlinewidth": 0,
              "ticks": ""
             }
            },
            "type": "parcoords"
           }
          ],
          "pie": [
           {
            "automargin": true,
            "type": "pie"
           }
          ],
          "scatter": [
           {
            "marker": {
             "colorbar": {
              "outlinewidth": 0,
              "ticks": ""
             }
            },
            "type": "scatter"
           }
          ],
          "scatter3d": [
           {
            "line": {
             "colorbar": {
              "outlinewidth": 0,
              "ticks": ""
             }
            },
            "marker": {
             "colorbar": {
              "outlinewidth": 0,
              "ticks": ""
             }
            },
            "type": "scatter3d"
           }
          ],
          "scattercarpet": [
           {
            "marker": {
             "colorbar": {
              "outlinewidth": 0,
              "ticks": ""
             }
            },
            "type": "scattercarpet"
           }
          ],
          "scattergeo": [
           {
            "marker": {
             "colorbar": {
              "outlinewidth": 0,
              "ticks": ""
             }
            },
            "type": "scattergeo"
           }
          ],
          "scattergl": [
           {
            "marker": {
             "colorbar": {
              "outlinewidth": 0,
              "ticks": ""
             }
            },
            "type": "scattergl"
           }
          ],
          "scattermapbox": [
           {
            "marker": {
             "colorbar": {
              "outlinewidth": 0,
              "ticks": ""
             }
            },
            "type": "scattermapbox"
           }
          ],
          "scatterpolar": [
           {
            "marker": {
             "colorbar": {
              "outlinewidth": 0,
              "ticks": ""
             }
            },
            "type": "scatterpolar"
           }
          ],
          "scatterpolargl": [
           {
            "marker": {
             "colorbar": {
              "outlinewidth": 0,
              "ticks": ""
             }
            },
            "type": "scatterpolargl"
           }
          ],
          "scatterternary": [
           {
            "marker": {
             "colorbar": {
              "outlinewidth": 0,
              "ticks": ""
             }
            },
            "type": "scatterternary"
           }
          ],
          "surface": [
           {
            "colorbar": {
             "outlinewidth": 0,
             "ticks": ""
            },
            "colorscale": [
             [
              0,
              "#0d0887"
             ],
             [
              0.1111111111111111,
              "#46039f"
             ],
             [
              0.2222222222222222,
              "#7201a8"
             ],
             [
              0.3333333333333333,
              "#9c179e"
             ],
             [
              0.4444444444444444,
              "#bd3786"
             ],
             [
              0.5555555555555556,
              "#d8576b"
             ],
             [
              0.6666666666666666,
              "#ed7953"
             ],
             [
              0.7777777777777778,
              "#fb9f3a"
             ],
             [
              0.8888888888888888,
              "#fdca26"
             ],
             [
              1,
              "#f0f921"
             ]
            ],
            "type": "surface"
           }
          ],
          "table": [
           {
            "cells": {
             "fill": {
              "color": "#EBF0F8"
             },
             "line": {
              "color": "white"
             }
            },
            "header": {
             "fill": {
              "color": "#C8D4E3"
             },
             "line": {
              "color": "white"
             }
            },
            "type": "table"
           }
          ]
         },
         "layout": {
          "annotationdefaults": {
           "arrowcolor": "#2a3f5f",
           "arrowhead": 0,
           "arrowwidth": 1
          },
          "autotypenumbers": "strict",
          "coloraxis": {
           "colorbar": {
            "outlinewidth": 0,
            "ticks": ""
           }
          },
          "colorscale": {
           "diverging": [
            [
             0,
             "#8e0152"
            ],
            [
             0.1,
             "#c51b7d"
            ],
            [
             0.2,
             "#de77ae"
            ],
            [
             0.3,
             "#f1b6da"
            ],
            [
             0.4,
             "#fde0ef"
            ],
            [
             0.5,
             "#f7f7f7"
            ],
            [
             0.6,
             "#e6f5d0"
            ],
            [
             0.7,
             "#b8e186"
            ],
            [
             0.8,
             "#7fbc41"
            ],
            [
             0.9,
             "#4d9221"
            ],
            [
             1,
             "#276419"
            ]
           ],
           "sequential": [
            [
             0,
             "#0d0887"
            ],
            [
             0.1111111111111111,
             "#46039f"
            ],
            [
             0.2222222222222222,
             "#7201a8"
            ],
            [
             0.3333333333333333,
             "#9c179e"
            ],
            [
             0.4444444444444444,
             "#bd3786"
            ],
            [
             0.5555555555555556,
             "#d8576b"
            ],
            [
             0.6666666666666666,
             "#ed7953"
            ],
            [
             0.7777777777777778,
             "#fb9f3a"
            ],
            [
             0.8888888888888888,
             "#fdca26"
            ],
            [
             1,
             "#f0f921"
            ]
           ],
           "sequentialminus": [
            [
             0,
             "#0d0887"
            ],
            [
             0.1111111111111111,
             "#46039f"
            ],
            [
             0.2222222222222222,
             "#7201a8"
            ],
            [
             0.3333333333333333,
             "#9c179e"
            ],
            [
             0.4444444444444444,
             "#bd3786"
            ],
            [
             0.5555555555555556,
             "#d8576b"
            ],
            [
             0.6666666666666666,
             "#ed7953"
            ],
            [
             0.7777777777777778,
             "#fb9f3a"
            ],
            [
             0.8888888888888888,
             "#fdca26"
            ],
            [
             1,
             "#f0f921"
            ]
           ]
          },
          "colorway": [
           "#636efa",
           "#EF553B",
           "#00cc96",
           "#ab63fa",
           "#FFA15A",
           "#19d3f3",
           "#FF6692",
           "#B6E880",
           "#FF97FF",
           "#FECB52"
          ],
          "font": {
           "color": "#2a3f5f"
          },
          "geo": {
           "bgcolor": "white",
           "lakecolor": "white",
           "landcolor": "#E5ECF6",
           "showlakes": true,
           "showland": true,
           "subunitcolor": "white"
          },
          "hoverlabel": {
           "align": "left"
          },
          "hovermode": "closest",
          "mapbox": {
           "style": "light"
          },
          "paper_bgcolor": "white",
          "plot_bgcolor": "#E5ECF6",
          "polar": {
           "angularaxis": {
            "gridcolor": "white",
            "linecolor": "white",
            "ticks": ""
           },
           "bgcolor": "#E5ECF6",
           "radialaxis": {
            "gridcolor": "white",
            "linecolor": "white",
            "ticks": ""
           }
          },
          "scene": {
           "xaxis": {
            "backgroundcolor": "#E5ECF6",
            "gridcolor": "white",
            "gridwidth": 2,
            "linecolor": "white",
            "showbackground": true,
            "ticks": "",
            "zerolinecolor": "white"
           },
           "yaxis": {
            "backgroundcolor": "#E5ECF6",
            "gridcolor": "white",
            "gridwidth": 2,
            "linecolor": "white",
            "showbackground": true,
            "ticks": "",
            "zerolinecolor": "white"
           },
           "zaxis": {
            "backgroundcolor": "#E5ECF6",
            "gridcolor": "white",
            "gridwidth": 2,
            "linecolor": "white",
            "showbackground": true,
            "ticks": "",
            "zerolinecolor": "white"
           }
          },
          "shapedefaults": {
           "line": {
            "color": "#2a3f5f"
           }
          },
          "ternary": {
           "aaxis": {
            "gridcolor": "white",
            "linecolor": "white",
            "ticks": ""
           },
           "baxis": {
            "gridcolor": "white",
            "linecolor": "white",
            "ticks": ""
           },
           "bgcolor": "#E5ECF6",
           "caxis": {
            "gridcolor": "white",
            "linecolor": "white",
            "ticks": ""
           }
          },
          "title": {
           "x": 0.05
          },
          "xaxis": {
           "automargin": true,
           "gridcolor": "white",
           "linecolor": "white",
           "ticks": "",
           "title": {
            "standoff": 15
           },
           "zerolinecolor": "white",
           "zerolinewidth": 2
          },
          "yaxis": {
           "automargin": true,
           "gridcolor": "white",
           "linecolor": "white",
           "ticks": "",
           "title": {
            "standoff": 15
           },
           "zerolinecolor": "white",
           "zerolinewidth": 2
          }
         }
        },
        "title": {
         "text": "Evolução Trimestral por Ano"
        },
        "xaxis": {
         "anchor": "y",
         "domain": [
          0,
          1
         ],
         "title": {
          "text": "Ano"
         }
        },
        "yaxis": {
         "anchor": "x",
         "domain": [
          0,
          1
         ],
         "title": {
          "text": "Valor"
         }
        }
       }
      }
     },
     "metadata": {},
     "output_type": "display_data"
    }
   ],
   "source": [
    "dados_long_5 = df_un.melt(id_vars=['Ano'], var_name='Indicador', value_name='Valor')\n",
    "\n",
    "fig = px.line(dados_long_5, x=\"Ano\", y=\"Valor\", color=\"Indicador\", markers=True,\n",
    "              title=\"Evolução Trimestral por Ano\")\n",
    "\n",
    "fig.show()"
   ]
  },
  {
   "cell_type": "markdown",
   "metadata": {},
   "source": [
    "Normalização com Z-score: https://www.investopedia.com/terms/z/zscore.asp"
   ]
  },
  {
   "cell_type": "code",
   "execution_count": 40,
   "metadata": {},
   "outputs": [
    {
     "data": {
      "application/vnd.plotly.v1+json": {
       "config": {
        "plotlyServerURL": "https://plot.ly"
       },
       "data": [
        {
         "hovertemplate": "Legenda=Valor Transferido Normalizado<br>Ano=%{x}<br>Valor=%{y}<extra></extra>",
         "legendgroup": "Valor Transferido Normalizado",
         "line": {
          "color": "#636efa",
          "dash": "solid"
         },
         "marker": {
          "symbol": "circle"
         },
         "mode": "lines",
         "name": "Valor Transferido Normalizado",
         "orientation": "v",
         "showlegend": true,
         "type": "scatter",
         "x": [
          2010,
          2011,
          2012,
          2013,
          2014,
          2015,
          2016,
          2017,
          2018,
          2019,
          2020,
          2021
         ],
         "xaxis": "x",
         "y": [
          -1.3282943102474527,
          -0.977206768273648,
          -0.6984705814633069,
          -0.5836723552430028,
          -0.38689813727823646,
          -0.40298372487598155,
          -0.5021202753695776,
          1.0606308281495052,
          0.9033263509613719,
          1.6615364587534625,
          1.7224909836659925,
          -0.4683384687791276
         ],
         "yaxis": "y"
        },
        {
         "hovertemplate": "Legenda=Número de Transferências Normalizado<br>Ano=%{x}<br>Valor=%{y}<extra></extra>",
         "legendgroup": "Número de Transferências Normalizado",
         "line": {
          "color": "#EF553B",
          "dash": "solid"
         },
         "marker": {
          "symbol": "circle"
         },
         "mode": "lines",
         "name": "Número de Transferências Normalizado",
         "orientation": "v",
         "showlegend": true,
         "type": "scatter",
         "x": [
          2010,
          2011,
          2012,
          2013,
          2014,
          2015,
          2016,
          2017,
          2018,
          2019,
          2020,
          2021
         ],
         "xaxis": "x",
         "y": [
          -1.2130849560125752,
          -1.0951411587634965,
          -0.9371653427400952,
          -0.7154826581296003,
          -0.6061478971760748,
          -0.43654988215367674,
          -0.13222044910587114,
          0.2767087749329058,
          0.4450154345109708,
          1.0833754758262406,
          1.2361858700723098,
          2.094506788738964
         ],
         "yaxis": "y"
        },
        {
         "hovertemplate": "Legenda=IPCA Normalizado<br>Ano=%{x}<br>Valor=%{y}<extra></extra>",
         "legendgroup": "IPCA Normalizado",
         "line": {
          "color": "#00cc96",
          "dash": "solid"
         },
         "marker": {
          "symbol": "circle"
         },
         "mode": "lines",
         "name": "IPCA Normalizado",
         "orientation": "v",
         "showlegend": true,
         "type": "scatter",
         "x": [
          2010,
          2011,
          2012,
          2013,
          2014,
          2015,
          2016,
          2017,
          2018,
          2019,
          2020,
          2021
         ],
         "xaxis": "x",
         "y": [
          -0.10636879625570457,
          0.1444376285998524,
          -0.13771959936264974,
          -0.10636879625570496,
          0.10412945317663794,
          1.8776891717980781,
          0.05486390543715295,
          -1.3827943513241656,
          -1.0334568309896393,
          -0.7916077784503519,
          -0.6975553691295184,
          2.0747513627560163
         ],
         "yaxis": "y"
        }
       ],
       "layout": {
        "legend": {
         "title": {
          "text": "Legenda"
         },
         "tracegroupgap": 0
        },
        "template": {
         "data": {
          "bar": [
           {
            "error_x": {
             "color": "#2a3f5f"
            },
            "error_y": {
             "color": "#2a3f5f"
            },
            "marker": {
             "line": {
              "color": "#E5ECF6",
              "width": 0.5
             },
             "pattern": {
              "fillmode": "overlay",
              "size": 10,
              "solidity": 0.2
             }
            },
            "type": "bar"
           }
          ],
          "barpolar": [
           {
            "marker": {
             "line": {
              "color": "#E5ECF6",
              "width": 0.5
             },
             "pattern": {
              "fillmode": "overlay",
              "size": 10,
              "solidity": 0.2
             }
            },
            "type": "barpolar"
           }
          ],
          "carpet": [
           {
            "aaxis": {
             "endlinecolor": "#2a3f5f",
             "gridcolor": "white",
             "linecolor": "white",
             "minorgridcolor": "white",
             "startlinecolor": "#2a3f5f"
            },
            "baxis": {
             "endlinecolor": "#2a3f5f",
             "gridcolor": "white",
             "linecolor": "white",
             "minorgridcolor": "white",
             "startlinecolor": "#2a3f5f"
            },
            "type": "carpet"
           }
          ],
          "choropleth": [
           {
            "colorbar": {
             "outlinewidth": 0,
             "ticks": ""
            },
            "type": "choropleth"
           }
          ],
          "contour": [
           {
            "colorbar": {
             "outlinewidth": 0,
             "ticks": ""
            },
            "colorscale": [
             [
              0,
              "#0d0887"
             ],
             [
              0.1111111111111111,
              "#46039f"
             ],
             [
              0.2222222222222222,
              "#7201a8"
             ],
             [
              0.3333333333333333,
              "#9c179e"
             ],
             [
              0.4444444444444444,
              "#bd3786"
             ],
             [
              0.5555555555555556,
              "#d8576b"
             ],
             [
              0.6666666666666666,
              "#ed7953"
             ],
             [
              0.7777777777777778,
              "#fb9f3a"
             ],
             [
              0.8888888888888888,
              "#fdca26"
             ],
             [
              1,
              "#f0f921"
             ]
            ],
            "type": "contour"
           }
          ],
          "contourcarpet": [
           {
            "colorbar": {
             "outlinewidth": 0,
             "ticks": ""
            },
            "type": "contourcarpet"
           }
          ],
          "heatmap": [
           {
            "colorbar": {
             "outlinewidth": 0,
             "ticks": ""
            },
            "colorscale": [
             [
              0,
              "#0d0887"
             ],
             [
              0.1111111111111111,
              "#46039f"
             ],
             [
              0.2222222222222222,
              "#7201a8"
             ],
             [
              0.3333333333333333,
              "#9c179e"
             ],
             [
              0.4444444444444444,
              "#bd3786"
             ],
             [
              0.5555555555555556,
              "#d8576b"
             ],
             [
              0.6666666666666666,
              "#ed7953"
             ],
             [
              0.7777777777777778,
              "#fb9f3a"
             ],
             [
              0.8888888888888888,
              "#fdca26"
             ],
             [
              1,
              "#f0f921"
             ]
            ],
            "type": "heatmap"
           }
          ],
          "heatmapgl": [
           {
            "colorbar": {
             "outlinewidth": 0,
             "ticks": ""
            },
            "colorscale": [
             [
              0,
              "#0d0887"
             ],
             [
              0.1111111111111111,
              "#46039f"
             ],
             [
              0.2222222222222222,
              "#7201a8"
             ],
             [
              0.3333333333333333,
              "#9c179e"
             ],
             [
              0.4444444444444444,
              "#bd3786"
             ],
             [
              0.5555555555555556,
              "#d8576b"
             ],
             [
              0.6666666666666666,
              "#ed7953"
             ],
             [
              0.7777777777777778,
              "#fb9f3a"
             ],
             [
              0.8888888888888888,
              "#fdca26"
             ],
             [
              1,
              "#f0f921"
             ]
            ],
            "type": "heatmapgl"
           }
          ],
          "histogram": [
           {
            "marker": {
             "pattern": {
              "fillmode": "overlay",
              "size": 10,
              "solidity": 0.2
             }
            },
            "type": "histogram"
           }
          ],
          "histogram2d": [
           {
            "colorbar": {
             "outlinewidth": 0,
             "ticks": ""
            },
            "colorscale": [
             [
              0,
              "#0d0887"
             ],
             [
              0.1111111111111111,
              "#46039f"
             ],
             [
              0.2222222222222222,
              "#7201a8"
             ],
             [
              0.3333333333333333,
              "#9c179e"
             ],
             [
              0.4444444444444444,
              "#bd3786"
             ],
             [
              0.5555555555555556,
              "#d8576b"
             ],
             [
              0.6666666666666666,
              "#ed7953"
             ],
             [
              0.7777777777777778,
              "#fb9f3a"
             ],
             [
              0.8888888888888888,
              "#fdca26"
             ],
             [
              1,
              "#f0f921"
             ]
            ],
            "type": "histogram2d"
           }
          ],
          "histogram2dcontour": [
           {
            "colorbar": {
             "outlinewidth": 0,
             "ticks": ""
            },
            "colorscale": [
             [
              0,
              "#0d0887"
             ],
             [
              0.1111111111111111,
              "#46039f"
             ],
             [
              0.2222222222222222,
              "#7201a8"
             ],
             [
              0.3333333333333333,
              "#9c179e"
             ],
             [
              0.4444444444444444,
              "#bd3786"
             ],
             [
              0.5555555555555556,
              "#d8576b"
             ],
             [
              0.6666666666666666,
              "#ed7953"
             ],
             [
              0.7777777777777778,
              "#fb9f3a"
             ],
             [
              0.8888888888888888,
              "#fdca26"
             ],
             [
              1,
              "#f0f921"
             ]
            ],
            "type": "histogram2dcontour"
           }
          ],
          "mesh3d": [
           {
            "colorbar": {
             "outlinewidth": 0,
             "ticks": ""
            },
            "type": "mesh3d"
           }
          ],
          "parcoords": [
           {
            "line": {
             "colorbar": {
              "outlinewidth": 0,
              "ticks": ""
             }
            },
            "type": "parcoords"
           }
          ],
          "pie": [
           {
            "automargin": true,
            "type": "pie"
           }
          ],
          "scatter": [
           {
            "marker": {
             "colorbar": {
              "outlinewidth": 0,
              "ticks": ""
             }
            },
            "type": "scatter"
           }
          ],
          "scatter3d": [
           {
            "line": {
             "colorbar": {
              "outlinewidth": 0,
              "ticks": ""
             }
            },
            "marker": {
             "colorbar": {
              "outlinewidth": 0,
              "ticks": ""
             }
            },
            "type": "scatter3d"
           }
          ],
          "scattercarpet": [
           {
            "marker": {
             "colorbar": {
              "outlinewidth": 0,
              "ticks": ""
             }
            },
            "type": "scattercarpet"
           }
          ],
          "scattergeo": [
           {
            "marker": {
             "colorbar": {
              "outlinewidth": 0,
              "ticks": ""
             }
            },
            "type": "scattergeo"
           }
          ],
          "scattergl": [
           {
            "marker": {
             "colorbar": {
              "outlinewidth": 0,
              "ticks": ""
             }
            },
            "type": "scattergl"
           }
          ],
          "scattermapbox": [
           {
            "marker": {
             "colorbar": {
              "outlinewidth": 0,
              "ticks": ""
             }
            },
            "type": "scattermapbox"
           }
          ],
          "scatterpolar": [
           {
            "marker": {
             "colorbar": {
              "outlinewidth": 0,
              "ticks": ""
             }
            },
            "type": "scatterpolar"
           }
          ],
          "scatterpolargl": [
           {
            "marker": {
             "colorbar": {
              "outlinewidth": 0,
              "ticks": ""
             }
            },
            "type": "scatterpolargl"
           }
          ],
          "scatterternary": [
           {
            "marker": {
             "colorbar": {
              "outlinewidth": 0,
              "ticks": ""
             }
            },
            "type": "scatterternary"
           }
          ],
          "surface": [
           {
            "colorbar": {
             "outlinewidth": 0,
             "ticks": ""
            },
            "colorscale": [
             [
              0,
              "#0d0887"
             ],
             [
              0.1111111111111111,
              "#46039f"
             ],
             [
              0.2222222222222222,
              "#7201a8"
             ],
             [
              0.3333333333333333,
              "#9c179e"
             ],
             [
              0.4444444444444444,
              "#bd3786"
             ],
             [
              0.5555555555555556,
              "#d8576b"
             ],
             [
              0.6666666666666666,
              "#ed7953"
             ],
             [
              0.7777777777777778,
              "#fb9f3a"
             ],
             [
              0.8888888888888888,
              "#fdca26"
             ],
             [
              1,
              "#f0f921"
             ]
            ],
            "type": "surface"
           }
          ],
          "table": [
           {
            "cells": {
             "fill": {
              "color": "#EBF0F8"
             },
             "line": {
              "color": "white"
             }
            },
            "header": {
             "fill": {
              "color": "#C8D4E3"
             },
             "line": {
              "color": "white"
             }
            },
            "type": "table"
           }
          ]
         },
         "layout": {
          "annotationdefaults": {
           "arrowcolor": "#2a3f5f",
           "arrowhead": 0,
           "arrowwidth": 1
          },
          "autotypenumbers": "strict",
          "coloraxis": {
           "colorbar": {
            "outlinewidth": 0,
            "ticks": ""
           }
          },
          "colorscale": {
           "diverging": [
            [
             0,
             "#8e0152"
            ],
            [
             0.1,
             "#c51b7d"
            ],
            [
             0.2,
             "#de77ae"
            ],
            [
             0.3,
             "#f1b6da"
            ],
            [
             0.4,
             "#fde0ef"
            ],
            [
             0.5,
             "#f7f7f7"
            ],
            [
             0.6,
             "#e6f5d0"
            ],
            [
             0.7,
             "#b8e186"
            ],
            [
             0.8,
             "#7fbc41"
            ],
            [
             0.9,
             "#4d9221"
            ],
            [
             1,
             "#276419"
            ]
           ],
           "sequential": [
            [
             0,
             "#0d0887"
            ],
            [
             0.1111111111111111,
             "#46039f"
            ],
            [
             0.2222222222222222,
             "#7201a8"
            ],
            [
             0.3333333333333333,
             "#9c179e"
            ],
            [
             0.4444444444444444,
             "#bd3786"
            ],
            [
             0.5555555555555556,
             "#d8576b"
            ],
            [
             0.6666666666666666,
             "#ed7953"
            ],
            [
             0.7777777777777778,
             "#fb9f3a"
            ],
            [
             0.8888888888888888,
             "#fdca26"
            ],
            [
             1,
             "#f0f921"
            ]
           ],
           "sequentialminus": [
            [
             0,
             "#0d0887"
            ],
            [
             0.1111111111111111,
             "#46039f"
            ],
            [
             0.2222222222222222,
             "#7201a8"
            ],
            [
             0.3333333333333333,
             "#9c179e"
            ],
            [
             0.4444444444444444,
             "#bd3786"
            ],
            [
             0.5555555555555556,
             "#d8576b"
            ],
            [
             0.6666666666666666,
             "#ed7953"
            ],
            [
             0.7777777777777778,
             "#fb9f3a"
            ],
            [
             0.8888888888888888,
             "#fdca26"
            ],
            [
             1,
             "#f0f921"
            ]
           ]
          },
          "colorway": [
           "#636efa",
           "#EF553B",
           "#00cc96",
           "#ab63fa",
           "#FFA15A",
           "#19d3f3",
           "#FF6692",
           "#B6E880",
           "#FF97FF",
           "#FECB52"
          ],
          "font": {
           "color": "#2a3f5f"
          },
          "geo": {
           "bgcolor": "white",
           "lakecolor": "white",
           "landcolor": "#E5ECF6",
           "showlakes": true,
           "showland": true,
           "subunitcolor": "white"
          },
          "hoverlabel": {
           "align": "left"
          },
          "hovermode": "closest",
          "mapbox": {
           "style": "light"
          },
          "paper_bgcolor": "white",
          "plot_bgcolor": "#E5ECF6",
          "polar": {
           "angularaxis": {
            "gridcolor": "white",
            "linecolor": "white",
            "ticks": ""
           },
           "bgcolor": "#E5ECF6",
           "radialaxis": {
            "gridcolor": "white",
            "linecolor": "white",
            "ticks": ""
           }
          },
          "scene": {
           "xaxis": {
            "backgroundcolor": "#E5ECF6",
            "gridcolor": "white",
            "gridwidth": 2,
            "linecolor": "white",
            "showbackground": true,
            "ticks": "",
            "zerolinecolor": "white"
           },
           "yaxis": {
            "backgroundcolor": "#E5ECF6",
            "gridcolor": "white",
            "gridwidth": 2,
            "linecolor": "white",
            "showbackground": true,
            "ticks": "",
            "zerolinecolor": "white"
           },
           "zaxis": {
            "backgroundcolor": "#E5ECF6",
            "gridcolor": "white",
            "gridwidth": 2,
            "linecolor": "white",
            "showbackground": true,
            "ticks": "",
            "zerolinecolor": "white"
           }
          },
          "shapedefaults": {
           "line": {
            "color": "#2a3f5f"
           }
          },
          "ternary": {
           "aaxis": {
            "gridcolor": "white",
            "linecolor": "white",
            "ticks": ""
           },
           "baxis": {
            "gridcolor": "white",
            "linecolor": "white",
            "ticks": ""
           },
           "bgcolor": "#E5ECF6",
           "caxis": {
            "gridcolor": "white",
            "linecolor": "white",
            "ticks": ""
           }
          },
          "title": {
           "x": 0.05
          },
          "xaxis": {
           "automargin": true,
           "gridcolor": "white",
           "linecolor": "white",
           "ticks": "",
           "title": {
            "standoff": 15
           },
           "zerolinecolor": "white",
           "zerolinewidth": 2
          },
          "yaxis": {
           "automargin": true,
           "gridcolor": "white",
           "linecolor": "white",
           "ticks": "",
           "title": {
            "standoff": 15
           },
           "zerolinecolor": "white",
           "zerolinewidth": 2
          }
         }
        },
        "title": {
         "text": "Valor Transferido, Número de Transferências e IPCA Normalizados por Z-score"
        },
        "xaxis": {
         "anchor": "y",
         "domain": [
          0,
          1
         ],
         "title": {
          "text": "Ano"
         }
        },
        "yaxis": {
         "anchor": "x",
         "domain": [
          0,
          1
         ],
         "title": {
          "text": "Valor"
         }
        }
       }
      }
     },
     "metadata": {},
     "output_type": "display_data"
    }
   ],
   "source": [
    "from scipy.stats import zscore\n",
    "\n",
    "df_un['Valor Transferido Normalizado'] = zscore(df_un['Valor Transferido'])\n",
    "df_un['Número de Transferências Normalizado'] = zscore(df_un['Número de Transferências'])\n",
    "df_un['IPCA Normalizado'] = zscore(df_un['IPCA'])\n",
    "\n",
    "df_un_edit = df_un[['Ano', 'Valor Transferido Normalizado', 'Número de Transferências Normalizado', 'IPCA Normalizado']]\n",
    "\n",
    "dados_long_6 = df_un_edit.melt(id_vars=['Ano'], var_name='Score', value_name='Valor')\n",
    "\n",
    "fig = px.line(dados_long_6, x=\"Ano\", y=\"Valor\", color=\"Score\",\n",
    "              title=\"Valor Transferido, Número de Transferências e IPCA Normalizados por Z-score\", \n",
    "              labels={'valor_transf_zscore': 'Valor Transferido Normalizado', 'num_transf_zscore': 'Número de Transferências Normalizado', 'ipca_zscore': 'IPCA Normalizado', 'Score': 'Legenda'}\n",
    "              )\n",
    "\n",
    "fig.show()"
   ]
  },
  {
   "cell_type": "markdown",
   "metadata": {},
   "source": [
    "- Quais decisões poderiam ser facilitadas com o uso desses novos dados? Pergunta de nível teórico. O seu projeto final não necessariamente precisa trazer esses dados externos."
   ]
  },
  {
   "cell_type": "markdown",
   "metadata": {},
   "source": []
  }
 ],
 "metadata": {
  "kernelspec": {
   "display_name": "base",
   "language": "python",
   "name": "python3"
  },
  "language_info": {
   "codemirror_mode": {
    "name": "ipython",
    "version": 3
   },
   "file_extension": ".py",
   "mimetype": "text/x-python",
   "name": "python",
   "nbconvert_exporter": "python",
   "pygments_lexer": "ipython3",
   "version": "3.9.12"
  }
 },
 "nbformat": 4,
 "nbformat_minor": 2
}
