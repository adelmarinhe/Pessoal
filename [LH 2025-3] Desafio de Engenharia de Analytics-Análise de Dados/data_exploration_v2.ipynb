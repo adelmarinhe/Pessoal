{
 "cells": [
  {
   "cell_type": "markdown",
   "metadata": {},
   "source": [
    "Criar uma ferramenta online (protótipo) de visualização de dados\n",
    "- Quais as perguntas a serem respondidas?\n",
    "- Quais análises são necessárias?\n",
    "- Quais análises (extras) são possíveis?\n",
    "- Ferramentas a utilizar:\n",
    "    - Python (Notebook)\n",
    "    - HTML/Javascript"
   ]
  },
  {
   "cell_type": "code",
   "execution_count": 2,
   "metadata": {},
   "outputs": [],
   "source": [
    "# pip install pandas\n",
    "# pip install plotly\n",
    "# pip install os\n",
    "# pip install datetime\n",
    "# pip install -U kaleido"
   ]
  },
  {
   "cell_type": "code",
   "execution_count": 3,
   "metadata": {},
   "outputs": [],
   "source": [
    "import pandas as pd\n",
    "import numpy as np\n",
    "import plotly.express as px\n",
    "import os\n",
    "from datetime import datetime\n",
    "from scipy.stats import zscore"
   ]
  },
  {
   "cell_type": "code",
   "execution_count": 4,
   "metadata": {},
   "outputs": [],
   "source": [
    "df = {}\n",
    "\n",
    "for archive in os.listdir('dados/dados_fornec'):\n",
    "    data = pd.read_csv(f'dados/dados_fornec/{archive}')\n",
    "    df[f'{archive.split(\".\")[0]}'] = pd.DataFrame(data)"
   ]
  },
  {
   "cell_type": "markdown",
   "metadata": {},
   "source": [
    "### Agências"
   ]
  },
  {
   "cell_type": "code",
   "execution_count": 5,
   "metadata": {},
   "outputs": [
    {
     "name": "stdout",
     "output_type": "stream",
     "text": [
      "<class 'pandas.core.frame.DataFrame'>\n",
      "RangeIndex: 10 entries, 0 to 9\n",
      "Data columns (total 7 columns):\n",
      " #   Column         Non-Null Count  Dtype \n",
      "---  ------         --------------  ----- \n",
      " 0   cod_agencia    10 non-null     int64 \n",
      " 1   nome           10 non-null     object\n",
      " 2   endereco       10 non-null     object\n",
      " 3   cidade         10 non-null     object\n",
      " 4   uf             10 non-null     object\n",
      " 5   data_abertura  10 non-null     object\n",
      " 6   tipo_agencia   10 non-null     object\n",
      "dtypes: int64(1), object(6)\n",
      "memory usage: 688.0+ bytes\n"
     ]
    }
   ],
   "source": [
    "df['agencias'].info()"
   ]
  },
  {
   "cell_type": "markdown",
   "metadata": {},
   "source": [
    "Perguntas:\n",
    "- Quantas agências foram abertas por ano?"
   ]
  },
  {
   "cell_type": "markdown",
   "metadata": {},
   "source": [
    "### Clientes"
   ]
  },
  {
   "cell_type": "code",
   "execution_count": 6,
   "metadata": {},
   "outputs": [
    {
     "name": "stdout",
     "output_type": "stream",
     "text": [
      "<class 'pandas.core.frame.DataFrame'>\n",
      "RangeIndex: 998 entries, 0 to 997\n",
      "Data columns (total 10 columns):\n",
      " #   Column           Non-Null Count  Dtype \n",
      "---  ------           --------------  ----- \n",
      " 0   cod_cliente      998 non-null    int64 \n",
      " 1   primeiro_nome    998 non-null    object\n",
      " 2   ultimo_nome      998 non-null    object\n",
      " 3   email            998 non-null    object\n",
      " 4   tipo_cliente     998 non-null    object\n",
      " 5   data_inclusao    998 non-null    object\n",
      " 6   cpfcnpj          998 non-null    object\n",
      " 7   data_nascimento  998 non-null    object\n",
      " 8   endereco         998 non-null    object\n",
      " 9   cep              998 non-null    object\n",
      "dtypes: int64(1), object(9)\n",
      "memory usage: 78.1+ KB\n"
     ]
    }
   ],
   "source": [
    "df['clientes'].info()"
   ]
  },
  {
   "cell_type": "markdown",
   "metadata": {},
   "source": [
    "Perguntas:\n",
    "- Qual a faixa etária dos clientes?"
   ]
  },
  {
   "cell_type": "markdown",
   "metadata": {},
   "source": [
    "### Colaborador-Agência"
   ]
  },
  {
   "cell_type": "code",
   "execution_count": 7,
   "metadata": {},
   "outputs": [
    {
     "name": "stdout",
     "output_type": "stream",
     "text": [
      "<class 'pandas.core.frame.DataFrame'>\n",
      "RangeIndex: 100 entries, 0 to 99\n",
      "Data columns (total 2 columns):\n",
      " #   Column           Non-Null Count  Dtype\n",
      "---  ------           --------------  -----\n",
      " 0   cod_colaborador  100 non-null    int64\n",
      " 1   cod_agencia      100 non-null    int64\n",
      "dtypes: int64(2)\n",
      "memory usage: 1.7 KB\n"
     ]
    }
   ],
   "source": [
    "df['colaborador_agencia'].info()"
   ]
  },
  {
   "cell_type": "markdown",
   "metadata": {},
   "source": [
    "Perguntas:\n",
    "- Quantos coleboradores trabalham em cada agência?"
   ]
  },
  {
   "cell_type": "markdown",
   "metadata": {},
   "source": [
    "### Colaboradores"
   ]
  },
  {
   "cell_type": "code",
   "execution_count": 8,
   "metadata": {},
   "outputs": [
    {
     "name": "stdout",
     "output_type": "stream",
     "text": [
      "<class 'pandas.core.frame.DataFrame'>\n",
      "RangeIndex: 100 entries, 0 to 99\n",
      "Data columns (total 8 columns):\n",
      " #   Column           Non-Null Count  Dtype \n",
      "---  ------           --------------  ----- \n",
      " 0   cod_colaborador  100 non-null    int64 \n",
      " 1   primeiro_nome    100 non-null    object\n",
      " 2   ultimo_nome      100 non-null    object\n",
      " 3   email            100 non-null    object\n",
      " 4   cpf              100 non-null    object\n",
      " 5   data_nascimento  100 non-null    object\n",
      " 6   endereco         100 non-null    object\n",
      " 7   cep              100 non-null    object\n",
      "dtypes: int64(1), object(7)\n",
      "memory usage: 6.4+ KB\n"
     ]
    }
   ],
   "source": [
    "df['colaboradores'].info()"
   ]
  },
  {
   "cell_type": "markdown",
   "metadata": {},
   "source": [
    "Perguntas:\n",
    "- Qual a faixa etária dos colaboradores?\n",
    "- Qual a distribuição dos colaboradores por gênero?"
   ]
  },
  {
   "cell_type": "markdown",
   "metadata": {},
   "source": [
    "### Contas"
   ]
  },
  {
   "cell_type": "code",
   "execution_count": 9,
   "metadata": {},
   "outputs": [
    {
     "name": "stdout",
     "output_type": "stream",
     "text": [
      "<class 'pandas.core.frame.DataFrame'>\n",
      "RangeIndex: 999 entries, 0 to 998\n",
      "Data columns (total 9 columns):\n",
      " #   Column                  Non-Null Count  Dtype  \n",
      "---  ------                  --------------  -----  \n",
      " 0   num_conta               999 non-null    int64  \n",
      " 1   cod_cliente             999 non-null    int64  \n",
      " 2   cod_agencia             999 non-null    int64  \n",
      " 3   cod_colaborador         999 non-null    int64  \n",
      " 4   tipo_conta              999 non-null    object \n",
      " 5   data_abertura           999 non-null    object \n",
      " 6   saldo_total             999 non-null    float64\n",
      " 7   saldo_disponivel        999 non-null    float64\n",
      " 8   data_ultimo_lancamento  999 non-null    object \n",
      "dtypes: float64(2), int64(4), object(3)\n",
      "memory usage: 70.4+ KB\n"
     ]
    }
   ],
   "source": [
    "df['contas'].info()"
   ]
  },
  {
   "cell_type": "markdown",
   "metadata": {},
   "source": [
    "Perguntas:\n",
    "- Quantas contas cada agência possui?\n",
    "- Quantas contas cada colaborador abriu/gerencia?\n",
    "- Quantas contas foram abertas por ano?\n",
    "- Quantas contas ainda estão ativas?\n",
    "- Qual o perfil dos clientes?\n",
    "- Quais colaboradores gerenciam mais contas?\n",
    "- Quais colaboradores gerenciam menos contas?"
   ]
  },
  {
   "cell_type": "code",
   "execution_count": 74,
   "metadata": {},
   "outputs": [],
   "source": [
    "contas_por_agencia = df['contas']['cod_agencia'].value_counts() # estudar quais agências tem maior movimentação\n",
    "contas_por_colaborador = df['contas']['cod_colaborador'].value_counts() # estudar a eficiência de cada colaborador e relacionar a sua eficiência à movimentação da agência"
   ]
  },
  {
   "cell_type": "code",
   "execution_count": 101,
   "metadata": {},
   "outputs": [
    {
     "data": {
      "application/vnd.plotly.v1+json": {
       "config": {
        "plotlyServerURL": "https://plot.ly"
       },
       "data": [
        {
         "domain": {
          "x": [
           0,
           1
          ],
          "y": [
           0,
           1
          ]
         },
         "hovertemplate": "nome_agencia=%{label}<br>contas=%{value}<extra></extra>",
         "labels": [
          "Agência Digital",
          "Agência Matriz",
          "Agência Tatuapé",
          "Agência Campinas",
          "Agência Osasco",
          "Agência Porto Alegre",
          "Agência Rio de Janeiro",
          "Agência Jardins",
          "Agência Florianópolis",
          "Agência Recife"
         ],
         "legendgroup": "",
         "name": "",
         "showlegend": true,
         "type": "pie",
         "values": [
          460,
          119,
          101,
          76,
          65,
          61,
          52,
          30,
          30,
          5
         ]
        }
       ],
       "layout": {
        "legend": {
         "tracegroupgap": 0
        },
        "template": {
         "data": {
          "bar": [
           {
            "error_x": {
             "color": "#2a3f5f"
            },
            "error_y": {
             "color": "#2a3f5f"
            },
            "marker": {
             "line": {
              "color": "#E5ECF6",
              "width": 0.5
             },
             "pattern": {
              "fillmode": "overlay",
              "size": 10,
              "solidity": 0.2
             }
            },
            "type": "bar"
           }
          ],
          "barpolar": [
           {
            "marker": {
             "line": {
              "color": "#E5ECF6",
              "width": 0.5
             },
             "pattern": {
              "fillmode": "overlay",
              "size": 10,
              "solidity": 0.2
             }
            },
            "type": "barpolar"
           }
          ],
          "carpet": [
           {
            "aaxis": {
             "endlinecolor": "#2a3f5f",
             "gridcolor": "white",
             "linecolor": "white",
             "minorgridcolor": "white",
             "startlinecolor": "#2a3f5f"
            },
            "baxis": {
             "endlinecolor": "#2a3f5f",
             "gridcolor": "white",
             "linecolor": "white",
             "minorgridcolor": "white",
             "startlinecolor": "#2a3f5f"
            },
            "type": "carpet"
           }
          ],
          "choropleth": [
           {
            "colorbar": {
             "outlinewidth": 0,
             "ticks": ""
            },
            "type": "choropleth"
           }
          ],
          "contour": [
           {
            "colorbar": {
             "outlinewidth": 0,
             "ticks": ""
            },
            "colorscale": [
             [
              0,
              "#0d0887"
             ],
             [
              0.1111111111111111,
              "#46039f"
             ],
             [
              0.2222222222222222,
              "#7201a8"
             ],
             [
              0.3333333333333333,
              "#9c179e"
             ],
             [
              0.4444444444444444,
              "#bd3786"
             ],
             [
              0.5555555555555556,
              "#d8576b"
             ],
             [
              0.6666666666666666,
              "#ed7953"
             ],
             [
              0.7777777777777778,
              "#fb9f3a"
             ],
             [
              0.8888888888888888,
              "#fdca26"
             ],
             [
              1,
              "#f0f921"
             ]
            ],
            "type": "contour"
           }
          ],
          "contourcarpet": [
           {
            "colorbar": {
             "outlinewidth": 0,
             "ticks": ""
            },
            "type": "contourcarpet"
           }
          ],
          "heatmap": [
           {
            "colorbar": {
             "outlinewidth": 0,
             "ticks": ""
            },
            "colorscale": [
             [
              0,
              "#0d0887"
             ],
             [
              0.1111111111111111,
              "#46039f"
             ],
             [
              0.2222222222222222,
              "#7201a8"
             ],
             [
              0.3333333333333333,
              "#9c179e"
             ],
             [
              0.4444444444444444,
              "#bd3786"
             ],
             [
              0.5555555555555556,
              "#d8576b"
             ],
             [
              0.6666666666666666,
              "#ed7953"
             ],
             [
              0.7777777777777778,
              "#fb9f3a"
             ],
             [
              0.8888888888888888,
              "#fdca26"
             ],
             [
              1,
              "#f0f921"
             ]
            ],
            "type": "heatmap"
           }
          ],
          "heatmapgl": [
           {
            "colorbar": {
             "outlinewidth": 0,
             "ticks": ""
            },
            "colorscale": [
             [
              0,
              "#0d0887"
             ],
             [
              0.1111111111111111,
              "#46039f"
             ],
             [
              0.2222222222222222,
              "#7201a8"
             ],
             [
              0.3333333333333333,
              "#9c179e"
             ],
             [
              0.4444444444444444,
              "#bd3786"
             ],
             [
              0.5555555555555556,
              "#d8576b"
             ],
             [
              0.6666666666666666,
              "#ed7953"
             ],
             [
              0.7777777777777778,
              "#fb9f3a"
             ],
             [
              0.8888888888888888,
              "#fdca26"
             ],
             [
              1,
              "#f0f921"
             ]
            ],
            "type": "heatmapgl"
           }
          ],
          "histogram": [
           {
            "marker": {
             "pattern": {
              "fillmode": "overlay",
              "size": 10,
              "solidity": 0.2
             }
            },
            "type": "histogram"
           }
          ],
          "histogram2d": [
           {
            "colorbar": {
             "outlinewidth": 0,
             "ticks": ""
            },
            "colorscale": [
             [
              0,
              "#0d0887"
             ],
             [
              0.1111111111111111,
              "#46039f"
             ],
             [
              0.2222222222222222,
              "#7201a8"
             ],
             [
              0.3333333333333333,
              "#9c179e"
             ],
             [
              0.4444444444444444,
              "#bd3786"
             ],
             [
              0.5555555555555556,
              "#d8576b"
             ],
             [
              0.6666666666666666,
              "#ed7953"
             ],
             [
              0.7777777777777778,
              "#fb9f3a"
             ],
             [
              0.8888888888888888,
              "#fdca26"
             ],
             [
              1,
              "#f0f921"
             ]
            ],
            "type": "histogram2d"
           }
          ],
          "histogram2dcontour": [
           {
            "colorbar": {
             "outlinewidth": 0,
             "ticks": ""
            },
            "colorscale": [
             [
              0,
              "#0d0887"
             ],
             [
              0.1111111111111111,
              "#46039f"
             ],
             [
              0.2222222222222222,
              "#7201a8"
             ],
             [
              0.3333333333333333,
              "#9c179e"
             ],
             [
              0.4444444444444444,
              "#bd3786"
             ],
             [
              0.5555555555555556,
              "#d8576b"
             ],
             [
              0.6666666666666666,
              "#ed7953"
             ],
             [
              0.7777777777777778,
              "#fb9f3a"
             ],
             [
              0.8888888888888888,
              "#fdca26"
             ],
             [
              1,
              "#f0f921"
             ]
            ],
            "type": "histogram2dcontour"
           }
          ],
          "mesh3d": [
           {
            "colorbar": {
             "outlinewidth": 0,
             "ticks": ""
            },
            "type": "mesh3d"
           }
          ],
          "parcoords": [
           {
            "line": {
             "colorbar": {
              "outlinewidth": 0,
              "ticks": ""
             }
            },
            "type": "parcoords"
           }
          ],
          "pie": [
           {
            "automargin": true,
            "type": "pie"
           }
          ],
          "scatter": [
           {
            "marker": {
             "colorbar": {
              "outlinewidth": 0,
              "ticks": ""
             }
            },
            "type": "scatter"
           }
          ],
          "scatter3d": [
           {
            "line": {
             "colorbar": {
              "outlinewidth": 0,
              "ticks": ""
             }
            },
            "marker": {
             "colorbar": {
              "outlinewidth": 0,
              "ticks": ""
             }
            },
            "type": "scatter3d"
           }
          ],
          "scattercarpet": [
           {
            "marker": {
             "colorbar": {
              "outlinewidth": 0,
              "ticks": ""
             }
            },
            "type": "scattercarpet"
           }
          ],
          "scattergeo": [
           {
            "marker": {
             "colorbar": {
              "outlinewidth": 0,
              "ticks": ""
             }
            },
            "type": "scattergeo"
           }
          ],
          "scattergl": [
           {
            "marker": {
             "colorbar": {
              "outlinewidth": 0,
              "ticks": ""
             }
            },
            "type": "scattergl"
           }
          ],
          "scattermapbox": [
           {
            "marker": {
             "colorbar": {
              "outlinewidth": 0,
              "ticks": ""
             }
            },
            "type": "scattermapbox"
           }
          ],
          "scatterpolar": [
           {
            "marker": {
             "colorbar": {
              "outlinewidth": 0,
              "ticks": ""
             }
            },
            "type": "scatterpolar"
           }
          ],
          "scatterpolargl": [
           {
            "marker": {
             "colorbar": {
              "outlinewidth": 0,
              "ticks": ""
             }
            },
            "type": "scatterpolargl"
           }
          ],
          "scatterternary": [
           {
            "marker": {
             "colorbar": {
              "outlinewidth": 0,
              "ticks": ""
             }
            },
            "type": "scatterternary"
           }
          ],
          "surface": [
           {
            "colorbar": {
             "outlinewidth": 0,
             "ticks": ""
            },
            "colorscale": [
             [
              0,
              "#0d0887"
             ],
             [
              0.1111111111111111,
              "#46039f"
             ],
             [
              0.2222222222222222,
              "#7201a8"
             ],
             [
              0.3333333333333333,
              "#9c179e"
             ],
             [
              0.4444444444444444,
              "#bd3786"
             ],
             [
              0.5555555555555556,
              "#d8576b"
             ],
             [
              0.6666666666666666,
              "#ed7953"
             ],
             [
              0.7777777777777778,
              "#fb9f3a"
             ],
             [
              0.8888888888888888,
              "#fdca26"
             ],
             [
              1,
              "#f0f921"
             ]
            ],
            "type": "surface"
           }
          ],
          "table": [
           {
            "cells": {
             "fill": {
              "color": "#EBF0F8"
             },
             "line": {
              "color": "white"
             }
            },
            "header": {
             "fill": {
              "color": "#C8D4E3"
             },
             "line": {
              "color": "white"
             }
            },
            "type": "table"
           }
          ]
         },
         "layout": {
          "annotationdefaults": {
           "arrowcolor": "#2a3f5f",
           "arrowhead": 0,
           "arrowwidth": 1
          },
          "autotypenumbers": "strict",
          "coloraxis": {
           "colorbar": {
            "outlinewidth": 0,
            "ticks": ""
           }
          },
          "colorscale": {
           "diverging": [
            [
             0,
             "#8e0152"
            ],
            [
             0.1,
             "#c51b7d"
            ],
            [
             0.2,
             "#de77ae"
            ],
            [
             0.3,
             "#f1b6da"
            ],
            [
             0.4,
             "#fde0ef"
            ],
            [
             0.5,
             "#f7f7f7"
            ],
            [
             0.6,
             "#e6f5d0"
            ],
            [
             0.7,
             "#b8e186"
            ],
            [
             0.8,
             "#7fbc41"
            ],
            [
             0.9,
             "#4d9221"
            ],
            [
             1,
             "#276419"
            ]
           ],
           "sequential": [
            [
             0,
             "#0d0887"
            ],
            [
             0.1111111111111111,
             "#46039f"
            ],
            [
             0.2222222222222222,
             "#7201a8"
            ],
            [
             0.3333333333333333,
             "#9c179e"
            ],
            [
             0.4444444444444444,
             "#bd3786"
            ],
            [
             0.5555555555555556,
             "#d8576b"
            ],
            [
             0.6666666666666666,
             "#ed7953"
            ],
            [
             0.7777777777777778,
             "#fb9f3a"
            ],
            [
             0.8888888888888888,
             "#fdca26"
            ],
            [
             1,
             "#f0f921"
            ]
           ],
           "sequentialminus": [
            [
             0,
             "#0d0887"
            ],
            [
             0.1111111111111111,
             "#46039f"
            ],
            [
             0.2222222222222222,
             "#7201a8"
            ],
            [
             0.3333333333333333,
             "#9c179e"
            ],
            [
             0.4444444444444444,
             "#bd3786"
            ],
            [
             0.5555555555555556,
             "#d8576b"
            ],
            [
             0.6666666666666666,
             "#ed7953"
            ],
            [
             0.7777777777777778,
             "#fb9f3a"
            ],
            [
             0.8888888888888888,
             "#fdca26"
            ],
            [
             1,
             "#f0f921"
            ]
           ]
          },
          "colorway": [
           "#636efa",
           "#EF553B",
           "#00cc96",
           "#ab63fa",
           "#FFA15A",
           "#19d3f3",
           "#FF6692",
           "#B6E880",
           "#FF97FF",
           "#FECB52"
          ],
          "font": {
           "color": "#2a3f5f"
          },
          "geo": {
           "bgcolor": "white",
           "lakecolor": "white",
           "landcolor": "#E5ECF6",
           "showlakes": true,
           "showland": true,
           "subunitcolor": "white"
          },
          "hoverlabel": {
           "align": "left"
          },
          "hovermode": "closest",
          "mapbox": {
           "style": "light"
          },
          "paper_bgcolor": "white",
          "plot_bgcolor": "#E5ECF6",
          "polar": {
           "angularaxis": {
            "gridcolor": "white",
            "linecolor": "white",
            "ticks": ""
           },
           "bgcolor": "#E5ECF6",
           "radialaxis": {
            "gridcolor": "white",
            "linecolor": "white",
            "ticks": ""
           }
          },
          "scene": {
           "xaxis": {
            "backgroundcolor": "#E5ECF6",
            "gridcolor": "white",
            "gridwidth": 2,
            "linecolor": "white",
            "showbackground": true,
            "ticks": "",
            "zerolinecolor": "white"
           },
           "yaxis": {
            "backgroundcolor": "#E5ECF6",
            "gridcolor": "white",
            "gridwidth": 2,
            "linecolor": "white",
            "showbackground": true,
            "ticks": "",
            "zerolinecolor": "white"
           },
           "zaxis": {
            "backgroundcolor": "#E5ECF6",
            "gridcolor": "white",
            "gridwidth": 2,
            "linecolor": "white",
            "showbackground": true,
            "ticks": "",
            "zerolinecolor": "white"
           }
          },
          "shapedefaults": {
           "line": {
            "color": "#2a3f5f"
           }
          },
          "ternary": {
           "aaxis": {
            "gridcolor": "white",
            "linecolor": "white",
            "ticks": ""
           },
           "baxis": {
            "gridcolor": "white",
            "linecolor": "white",
            "ticks": ""
           },
           "bgcolor": "#E5ECF6",
           "caxis": {
            "gridcolor": "white",
            "linecolor": "white",
            "ticks": ""
           }
          },
          "title": {
           "x": 0.05
          },
          "xaxis": {
           "automargin": true,
           "gridcolor": "white",
           "linecolor": "white",
           "ticks": "",
           "title": {
            "standoff": 15
           },
           "zerolinecolor": "white",
           "zerolinewidth": 2
          },
          "yaxis": {
           "automargin": true,
           "gridcolor": "white",
           "linecolor": "white",
           "ticks": "",
           "title": {
            "standoff": 15
           },
           "zerolinecolor": "white",
           "zerolinewidth": 2
          }
         }
        },
        "title": {
         "text": "Distribuição das Contas por Agência"
        }
       }
      }
     },
     "metadata": {},
     "output_type": "display_data"
    }
   ],
   "source": [
    "nomes_agencias = {df['agencias']['cod_agencia'][i]: df['agencias']['nome'][i] for i in df['agencias'].index}\n",
    "\n",
    "contas_por_agencia_df = pd.DataFrame(contas_por_agencia)\n",
    "\n",
    "contas_por_agencia_df = contas_por_agencia_df.reset_index()\n",
    "\n",
    "contas_por_agencia_df = contas_por_agencia_df.rename(columns={'index': 'agencia', 'cod_agencia': 'contas'})\n",
    "\n",
    "contas_por_agencia_df['nome_agencia'] = contas_por_agencia_df['agencia'].map(nomes_agencias)\n",
    "\n",
    "fig = px.pie(contas_por_agencia_df, values='contas', names='nome_agencia', title='Distribuição das Contas por Agência')\n",
    "\n",
    "fig.show()"
   ]
  },
  {
   "cell_type": "code",
   "execution_count": 12,
   "metadata": {},
   "outputs": [
    {
     "data": {
      "application/vnd.plotly.v1+json": {
       "config": {
        "plotlyServerURL": "https://plot.ly"
       },
       "data": [
        {
         "alignmentgroup": "True",
         "boxpoints": "all",
         "hovertemplate": "variable=%{x}<br>value=%{y}<extra></extra>",
         "legendgroup": "",
         "marker": {
          "color": "#636efa"
         },
         "name": "",
         "notched": false,
         "offsetgroup": "",
         "orientation": "v",
         "showlegend": false,
         "type": "box",
         "x": [
          "saldo_disponivel",
          "saldo_disponivel",
          "saldo_disponivel",
          "saldo_disponivel",
          "saldo_disponivel",
          "saldo_disponivel",
          "saldo_disponivel",
          "saldo_disponivel",
          "saldo_disponivel",
          "saldo_disponivel",
          "saldo_disponivel",
          "saldo_disponivel",
          "saldo_disponivel",
          "saldo_disponivel",
          "saldo_disponivel",
          "saldo_disponivel",
          "saldo_disponivel",
          "saldo_disponivel",
          "saldo_disponivel",
          "saldo_disponivel",
          "saldo_disponivel",
          "saldo_disponivel",
          "saldo_disponivel",
          "saldo_disponivel",
          "saldo_disponivel",
          "saldo_disponivel",
          "saldo_disponivel",
          "saldo_disponivel",
          "saldo_disponivel",
          "saldo_disponivel",
          "saldo_disponivel",
          "saldo_disponivel",
          "saldo_disponivel",
          "saldo_disponivel",
          "saldo_disponivel",
          "saldo_disponivel",
          "saldo_disponivel",
          "saldo_disponivel",
          "saldo_disponivel",
          "saldo_disponivel",
          "saldo_disponivel",
          "saldo_disponivel",
          "saldo_disponivel",
          "saldo_disponivel",
          "saldo_disponivel",
          "saldo_disponivel",
          "saldo_disponivel",
          "saldo_disponivel",
          "saldo_disponivel",
          "saldo_disponivel",
          "saldo_disponivel",
          "saldo_disponivel",
          "saldo_disponivel",
          "saldo_disponivel",
          "saldo_disponivel",
          "saldo_disponivel",
          "saldo_disponivel",
          "saldo_disponivel",
          "saldo_disponivel",
          "saldo_disponivel",
          "saldo_disponivel",
          "saldo_disponivel",
          "saldo_disponivel",
          "saldo_disponivel",
          "saldo_disponivel",
          "saldo_disponivel",
          "saldo_disponivel",
          "saldo_disponivel",
          "saldo_disponivel",
          "saldo_disponivel",
          "saldo_disponivel",
          "saldo_disponivel",
          "saldo_disponivel",
          "saldo_disponivel",
          "saldo_disponivel",
          "saldo_disponivel",
          "saldo_disponivel",
          "saldo_disponivel",
          "saldo_disponivel",
          "saldo_disponivel",
          "saldo_disponivel",
          "saldo_disponivel",
          "saldo_disponivel",
          "saldo_disponivel",
          "saldo_disponivel",
          "saldo_disponivel",
          "saldo_disponivel",
          "saldo_disponivel",
          "saldo_disponivel",
          "saldo_disponivel",
          "saldo_disponivel",
          "saldo_disponivel",
          "saldo_disponivel",
          "saldo_disponivel",
          "saldo_disponivel",
          "saldo_disponivel",
          "saldo_disponivel",
          "saldo_disponivel",
          "saldo_disponivel",
          "saldo_disponivel",
          "saldo_disponivel",
          "saldo_disponivel",
          "saldo_disponivel",
          "saldo_disponivel",
          "saldo_disponivel",
          "saldo_disponivel",
          "saldo_disponivel",
          "saldo_disponivel",
          "saldo_disponivel",
          "saldo_disponivel",
          "saldo_disponivel",
          "saldo_disponivel",
          "saldo_disponivel",
          "saldo_disponivel",
          "saldo_disponivel",
          "saldo_disponivel",
          "saldo_disponivel",
          "saldo_disponivel",
          "saldo_disponivel",
          "saldo_disponivel",
          "saldo_disponivel",
          "saldo_disponivel",
          "saldo_disponivel",
          "saldo_disponivel",
          "saldo_disponivel",
          "saldo_disponivel",
          "saldo_disponivel",
          "saldo_disponivel",
          "saldo_disponivel",
          "saldo_disponivel",
          "saldo_disponivel",
          "saldo_disponivel",
          "saldo_disponivel",
          "saldo_disponivel",
          "saldo_disponivel",
          "saldo_disponivel",
          "saldo_disponivel",
          "saldo_disponivel",
          "saldo_disponivel",
          "saldo_disponivel",
          "saldo_disponivel",
          "saldo_disponivel",
          "saldo_disponivel",
          "saldo_disponivel",
          "saldo_disponivel",
          "saldo_disponivel",
          "saldo_disponivel",
          "saldo_disponivel",
          "saldo_disponivel",
          "saldo_disponivel",
          "saldo_disponivel",
          "saldo_disponivel",
          "saldo_disponivel",
          "saldo_disponivel",
          "saldo_disponivel",
          "saldo_disponivel",
          "saldo_disponivel",
          "saldo_disponivel",
          "saldo_disponivel",
          "saldo_disponivel",
          "saldo_disponivel",
          "saldo_disponivel",
          "saldo_disponivel",
          "saldo_disponivel",
          "saldo_disponivel",
          "saldo_disponivel",
          "saldo_disponivel",
          "saldo_disponivel",
          "saldo_disponivel",
          "saldo_disponivel",
          "saldo_disponivel",
          "saldo_disponivel",
          "saldo_disponivel",
          "saldo_disponivel",
          "saldo_disponivel",
          "saldo_disponivel",
          "saldo_disponivel",
          "saldo_disponivel",
          "saldo_disponivel",
          "saldo_disponivel",
          "saldo_disponivel",
          "saldo_disponivel",
          "saldo_disponivel",
          "saldo_disponivel",
          "saldo_disponivel",
          "saldo_disponivel",
          "saldo_disponivel",
          "saldo_disponivel",
          "saldo_disponivel",
          "saldo_disponivel",
          "saldo_disponivel",
          "saldo_disponivel",
          "saldo_disponivel",
          "saldo_disponivel",
          "saldo_disponivel",
          "saldo_disponivel",
          "saldo_disponivel",
          "saldo_disponivel",
          "saldo_disponivel",
          "saldo_disponivel",
          "saldo_disponivel",
          "saldo_disponivel",
          "saldo_disponivel",
          "saldo_disponivel",
          "saldo_disponivel",
          "saldo_disponivel",
          "saldo_disponivel",
          "saldo_disponivel",
          "saldo_disponivel",
          "saldo_disponivel",
          "saldo_disponivel",
          "saldo_disponivel",
          "saldo_disponivel",
          "saldo_disponivel",
          "saldo_disponivel",
          "saldo_disponivel",
          "saldo_disponivel",
          "saldo_disponivel",
          "saldo_disponivel",
          "saldo_disponivel",
          "saldo_disponivel",
          "saldo_disponivel",
          "saldo_disponivel",
          "saldo_disponivel",
          "saldo_disponivel",
          "saldo_disponivel",
          "saldo_disponivel",
          "saldo_disponivel",
          "saldo_disponivel",
          "saldo_disponivel",
          "saldo_disponivel",
          "saldo_disponivel",
          "saldo_disponivel",
          "saldo_disponivel",
          "saldo_disponivel",
          "saldo_disponivel",
          "saldo_disponivel",
          "saldo_disponivel",
          "saldo_disponivel",
          "saldo_disponivel",
          "saldo_disponivel",
          "saldo_disponivel",
          "saldo_disponivel",
          "saldo_disponivel",
          "saldo_disponivel",
          "saldo_disponivel",
          "saldo_disponivel",
          "saldo_disponivel",
          "saldo_disponivel",
          "saldo_disponivel",
          "saldo_disponivel",
          "saldo_disponivel",
          "saldo_disponivel",
          "saldo_disponivel",
          "saldo_disponivel",
          "saldo_disponivel",
          "saldo_disponivel",
          "saldo_disponivel",
          "saldo_disponivel",
          "saldo_disponivel",
          "saldo_disponivel",
          "saldo_disponivel",
          "saldo_disponivel",
          "saldo_disponivel",
          "saldo_disponivel",
          "saldo_disponivel",
          "saldo_disponivel",
          "saldo_disponivel",
          "saldo_disponivel",
          "saldo_disponivel",
          "saldo_disponivel",
          "saldo_disponivel",
          "saldo_disponivel",
          "saldo_disponivel",
          "saldo_disponivel",
          "saldo_disponivel",
          "saldo_disponivel",
          "saldo_disponivel",
          "saldo_disponivel",
          "saldo_disponivel",
          "saldo_disponivel",
          "saldo_disponivel",
          "saldo_disponivel",
          "saldo_disponivel",
          "saldo_disponivel",
          "saldo_disponivel",
          "saldo_disponivel",
          "saldo_disponivel",
          "saldo_disponivel",
          "saldo_disponivel",
          "saldo_disponivel",
          "saldo_disponivel",
          "saldo_disponivel",
          "saldo_disponivel",
          "saldo_disponivel",
          "saldo_disponivel",
          "saldo_disponivel",
          "saldo_disponivel",
          "saldo_disponivel",
          "saldo_disponivel",
          "saldo_disponivel",
          "saldo_disponivel",
          "saldo_disponivel",
          "saldo_disponivel",
          "saldo_disponivel",
          "saldo_disponivel",
          "saldo_disponivel",
          "saldo_disponivel",
          "saldo_disponivel",
          "saldo_disponivel",
          "saldo_disponivel",
          "saldo_disponivel",
          "saldo_disponivel",
          "saldo_disponivel",
          "saldo_disponivel",
          "saldo_disponivel",
          "saldo_disponivel",
          "saldo_disponivel",
          "saldo_disponivel",
          "saldo_disponivel",
          "saldo_disponivel",
          "saldo_disponivel",
          "saldo_disponivel",
          "saldo_disponivel",
          "saldo_disponivel",
          "saldo_disponivel",
          "saldo_disponivel",
          "saldo_disponivel",
          "saldo_disponivel",
          "saldo_disponivel",
          "saldo_disponivel",
          "saldo_disponivel",
          "saldo_disponivel",
          "saldo_disponivel",
          "saldo_disponivel",
          "saldo_disponivel",
          "saldo_disponivel",
          "saldo_disponivel",
          "saldo_disponivel",
          "saldo_disponivel",
          "saldo_disponivel",
          "saldo_disponivel",
          "saldo_disponivel",
          "saldo_disponivel",
          "saldo_disponivel",
          "saldo_disponivel",
          "saldo_disponivel",
          "saldo_disponivel",
          "saldo_disponivel",
          "saldo_disponivel",
          "saldo_disponivel",
          "saldo_disponivel",
          "saldo_disponivel",
          "saldo_disponivel",
          "saldo_disponivel",
          "saldo_disponivel",
          "saldo_disponivel",
          "saldo_disponivel",
          "saldo_disponivel",
          "saldo_disponivel",
          "saldo_disponivel",
          "saldo_disponivel",
          "saldo_disponivel",
          "saldo_disponivel",
          "saldo_disponivel",
          "saldo_disponivel",
          "saldo_disponivel",
          "saldo_disponivel",
          "saldo_disponivel",
          "saldo_disponivel",
          "saldo_disponivel",
          "saldo_disponivel",
          "saldo_disponivel",
          "saldo_disponivel",
          "saldo_disponivel",
          "saldo_disponivel",
          "saldo_disponivel",
          "saldo_disponivel",
          "saldo_disponivel",
          "saldo_disponivel",
          "saldo_disponivel",
          "saldo_disponivel",
          "saldo_disponivel",
          "saldo_disponivel",
          "saldo_disponivel",
          "saldo_disponivel",
          "saldo_disponivel",
          "saldo_disponivel",
          "saldo_disponivel",
          "saldo_disponivel",
          "saldo_disponivel",
          "saldo_disponivel",
          "saldo_disponivel",
          "saldo_disponivel",
          "saldo_disponivel",
          "saldo_disponivel",
          "saldo_disponivel",
          "saldo_disponivel",
          "saldo_disponivel",
          "saldo_disponivel",
          "saldo_disponivel",
          "saldo_disponivel",
          "saldo_disponivel",
          "saldo_disponivel",
          "saldo_disponivel",
          "saldo_disponivel",
          "saldo_disponivel",
          "saldo_disponivel",
          "saldo_disponivel",
          "saldo_disponivel",
          "saldo_disponivel",
          "saldo_disponivel",
          "saldo_disponivel",
          "saldo_disponivel",
          "saldo_disponivel",
          "saldo_disponivel",
          "saldo_disponivel",
          "saldo_disponivel",
          "saldo_disponivel",
          "saldo_disponivel",
          "saldo_disponivel",
          "saldo_disponivel",
          "saldo_disponivel",
          "saldo_disponivel",
          "saldo_disponivel",
          "saldo_disponivel",
          "saldo_disponivel",
          "saldo_disponivel",
          "saldo_disponivel",
          "saldo_disponivel",
          "saldo_disponivel",
          "saldo_disponivel",
          "saldo_disponivel",
          "saldo_disponivel",
          "saldo_disponivel",
          "saldo_disponivel",
          "saldo_disponivel",
          "saldo_disponivel",
          "saldo_disponivel",
          "saldo_disponivel",
          "saldo_disponivel",
          "saldo_disponivel",
          "saldo_disponivel",
          "saldo_disponivel",
          "saldo_disponivel",
          "saldo_disponivel",
          "saldo_disponivel",
          "saldo_disponivel",
          "saldo_disponivel",
          "saldo_disponivel",
          "saldo_disponivel",
          "saldo_disponivel",
          "saldo_disponivel",
          "saldo_disponivel",
          "saldo_disponivel",
          "saldo_disponivel",
          "saldo_disponivel",
          "saldo_disponivel",
          "saldo_disponivel",
          "saldo_disponivel",
          "saldo_disponivel",
          "saldo_disponivel",
          "saldo_disponivel",
          "saldo_disponivel",
          "saldo_disponivel",
          "saldo_disponivel",
          "saldo_disponivel",
          "saldo_disponivel",
          "saldo_disponivel",
          "saldo_disponivel",
          "saldo_disponivel",
          "saldo_disponivel",
          "saldo_disponivel",
          "saldo_disponivel",
          "saldo_disponivel",
          "saldo_disponivel",
          "saldo_disponivel",
          "saldo_disponivel",
          "saldo_disponivel",
          "saldo_disponivel",
          "saldo_disponivel",
          "saldo_disponivel",
          "saldo_disponivel",
          "saldo_disponivel",
          "saldo_disponivel",
          "saldo_disponivel",
          "saldo_disponivel",
          "saldo_disponivel",
          "saldo_disponivel",
          "saldo_disponivel",
          "saldo_disponivel",
          "saldo_disponivel",
          "saldo_disponivel",
          "saldo_disponivel",
          "saldo_disponivel",
          "saldo_disponivel",
          "saldo_disponivel",
          "saldo_disponivel",
          "saldo_disponivel",
          "saldo_disponivel",
          "saldo_disponivel",
          "saldo_disponivel",
          "saldo_disponivel",
          "saldo_disponivel",
          "saldo_disponivel",
          "saldo_disponivel",
          "saldo_disponivel",
          "saldo_disponivel",
          "saldo_disponivel",
          "saldo_disponivel",
          "saldo_disponivel",
          "saldo_disponivel",
          "saldo_disponivel",
          "saldo_disponivel",
          "saldo_disponivel",
          "saldo_disponivel",
          "saldo_disponivel",
          "saldo_disponivel",
          "saldo_disponivel",
          "saldo_disponivel",
          "saldo_disponivel",
          "saldo_disponivel",
          "saldo_disponivel",
          "saldo_disponivel",
          "saldo_disponivel",
          "saldo_disponivel",
          "saldo_disponivel",
          "saldo_disponivel",
          "saldo_disponivel",
          "saldo_disponivel",
          "saldo_disponivel",
          "saldo_disponivel",
          "saldo_disponivel",
          "saldo_disponivel",
          "saldo_disponivel",
          "saldo_disponivel",
          "saldo_disponivel",
          "saldo_disponivel",
          "saldo_disponivel",
          "saldo_disponivel",
          "saldo_disponivel",
          "saldo_disponivel",
          "saldo_disponivel",
          "saldo_disponivel",
          "saldo_disponivel",
          "saldo_disponivel",
          "saldo_disponivel",
          "saldo_disponivel",
          "saldo_disponivel",
          "saldo_disponivel",
          "saldo_disponivel",
          "saldo_disponivel",
          "saldo_disponivel",
          "saldo_disponivel",
          "saldo_disponivel",
          "saldo_disponivel",
          "saldo_disponivel",
          "saldo_disponivel",
          "saldo_disponivel",
          "saldo_disponivel",
          "saldo_disponivel",
          "saldo_disponivel",
          "saldo_disponivel",
          "saldo_disponivel",
          "saldo_disponivel",
          "saldo_disponivel",
          "saldo_disponivel",
          "saldo_disponivel",
          "saldo_disponivel",
          "saldo_disponivel",
          "saldo_disponivel",
          "saldo_disponivel",
          "saldo_disponivel",
          "saldo_disponivel",
          "saldo_disponivel",
          "saldo_disponivel",
          "saldo_disponivel",
          "saldo_disponivel",
          "saldo_disponivel",
          "saldo_disponivel",
          "saldo_disponivel",
          "saldo_disponivel",
          "saldo_disponivel",
          "saldo_disponivel",
          "saldo_disponivel",
          "saldo_disponivel",
          "saldo_disponivel",
          "saldo_disponivel",
          "saldo_disponivel",
          "saldo_disponivel",
          "saldo_disponivel",
          "saldo_disponivel",
          "saldo_disponivel",
          "saldo_disponivel",
          "saldo_disponivel",
          "saldo_disponivel",
          "saldo_disponivel",
          "saldo_disponivel",
          "saldo_disponivel",
          "saldo_disponivel",
          "saldo_disponivel",
          "saldo_disponivel",
          "saldo_disponivel",
          "saldo_disponivel",
          "saldo_disponivel",
          "saldo_disponivel",
          "saldo_disponivel",
          "saldo_disponivel",
          "saldo_disponivel",
          "saldo_disponivel",
          "saldo_disponivel",
          "saldo_disponivel",
          "saldo_disponivel",
          "saldo_disponivel",
          "saldo_disponivel",
          "saldo_disponivel",
          "saldo_disponivel",
          "saldo_disponivel",
          "saldo_disponivel",
          "saldo_disponivel",
          "saldo_disponivel",
          "saldo_disponivel",
          "saldo_disponivel",
          "saldo_disponivel",
          "saldo_disponivel",
          "saldo_disponivel",
          "saldo_disponivel",
          "saldo_disponivel",
          "saldo_disponivel",
          "saldo_disponivel",
          "saldo_disponivel",
          "saldo_disponivel",
          "saldo_disponivel",
          "saldo_disponivel",
          "saldo_disponivel",
          "saldo_disponivel",
          "saldo_disponivel",
          "saldo_disponivel",
          "saldo_disponivel",
          "saldo_disponivel",
          "saldo_disponivel",
          "saldo_disponivel",
          "saldo_disponivel",
          "saldo_disponivel",
          "saldo_disponivel",
          "saldo_disponivel",
          "saldo_disponivel",
          "saldo_disponivel",
          "saldo_disponivel",
          "saldo_disponivel",
          "saldo_disponivel",
          "saldo_disponivel",
          "saldo_disponivel",
          "saldo_disponivel",
          "saldo_disponivel",
          "saldo_disponivel",
          "saldo_disponivel",
          "saldo_disponivel",
          "saldo_disponivel",
          "saldo_disponivel",
          "saldo_disponivel",
          "saldo_disponivel",
          "saldo_disponivel",
          "saldo_disponivel",
          "saldo_disponivel",
          "saldo_disponivel",
          "saldo_disponivel",
          "saldo_disponivel",
          "saldo_disponivel",
          "saldo_disponivel",
          "saldo_disponivel",
          "saldo_disponivel",
          "saldo_disponivel",
          "saldo_disponivel",
          "saldo_disponivel",
          "saldo_disponivel",
          "saldo_disponivel",
          "saldo_disponivel",
          "saldo_disponivel",
          "saldo_disponivel",
          "saldo_disponivel",
          "saldo_disponivel",
          "saldo_disponivel",
          "saldo_disponivel",
          "saldo_disponivel",
          "saldo_disponivel",
          "saldo_disponivel",
          "saldo_disponivel",
          "saldo_disponivel",
          "saldo_disponivel",
          "saldo_disponivel",
          "saldo_disponivel",
          "saldo_disponivel",
          "saldo_disponivel",
          "saldo_disponivel",
          "saldo_disponivel",
          "saldo_disponivel",
          "saldo_disponivel",
          "saldo_disponivel",
          "saldo_disponivel",
          "saldo_disponivel",
          "saldo_disponivel",
          "saldo_disponivel",
          "saldo_disponivel",
          "saldo_disponivel",
          "saldo_disponivel",
          "saldo_disponivel",
          "saldo_disponivel",
          "saldo_disponivel",
          "saldo_disponivel",
          "saldo_disponivel",
          "saldo_disponivel",
          "saldo_disponivel",
          "saldo_disponivel",
          "saldo_disponivel",
          "saldo_disponivel",
          "saldo_disponivel",
          "saldo_disponivel",
          "saldo_disponivel",
          "saldo_disponivel",
          "saldo_disponivel",
          "saldo_disponivel",
          "saldo_disponivel",
          "saldo_disponivel",
          "saldo_disponivel",
          "saldo_disponivel",
          "saldo_disponivel",
          "saldo_disponivel",
          "saldo_disponivel",
          "saldo_disponivel",
          "saldo_disponivel",
          "saldo_disponivel",
          "saldo_disponivel",
          "saldo_disponivel",
          "saldo_disponivel",
          "saldo_disponivel",
          "saldo_disponivel",
          "saldo_disponivel",
          "saldo_disponivel",
          "saldo_disponivel",
          "saldo_disponivel",
          "saldo_disponivel",
          "saldo_disponivel",
          "saldo_disponivel",
          "saldo_disponivel",
          "saldo_disponivel",
          "saldo_disponivel",
          "saldo_disponivel",
          "saldo_disponivel",
          "saldo_disponivel",
          "saldo_disponivel",
          "saldo_disponivel",
          "saldo_disponivel",
          "saldo_disponivel",
          "saldo_disponivel",
          "saldo_disponivel",
          "saldo_disponivel",
          "saldo_disponivel",
          "saldo_disponivel",
          "saldo_disponivel",
          "saldo_disponivel",
          "saldo_disponivel",
          "saldo_disponivel",
          "saldo_disponivel",
          "saldo_disponivel",
          "saldo_disponivel",
          "saldo_disponivel",
          "saldo_disponivel",
          "saldo_disponivel",
          "saldo_disponivel",
          "saldo_disponivel",
          "saldo_disponivel",
          "saldo_disponivel",
          "saldo_disponivel",
          "saldo_disponivel",
          "saldo_disponivel",
          "saldo_disponivel",
          "saldo_disponivel",
          "saldo_disponivel",
          "saldo_disponivel",
          "saldo_disponivel",
          "saldo_disponivel",
          "saldo_disponivel",
          "saldo_disponivel",
          "saldo_disponivel",
          "saldo_disponivel",
          "saldo_disponivel",
          "saldo_disponivel",
          "saldo_disponivel",
          "saldo_disponivel",
          "saldo_disponivel",
          "saldo_disponivel",
          "saldo_disponivel",
          "saldo_disponivel",
          "saldo_disponivel",
          "saldo_disponivel",
          "saldo_disponivel",
          "saldo_disponivel",
          "saldo_disponivel",
          "saldo_disponivel",
          "saldo_disponivel",
          "saldo_disponivel",
          "saldo_disponivel",
          "saldo_disponivel",
          "saldo_disponivel",
          "saldo_disponivel",
          "saldo_disponivel",
          "saldo_disponivel",
          "saldo_disponivel",
          "saldo_disponivel",
          "saldo_disponivel",
          "saldo_disponivel",
          "saldo_disponivel",
          "saldo_disponivel",
          "saldo_disponivel",
          "saldo_disponivel",
          "saldo_disponivel",
          "saldo_disponivel",
          "saldo_disponivel",
          "saldo_disponivel",
          "saldo_disponivel",
          "saldo_disponivel",
          "saldo_disponivel",
          "saldo_disponivel",
          "saldo_disponivel",
          "saldo_disponivel",
          "saldo_disponivel",
          "saldo_disponivel",
          "saldo_disponivel",
          "saldo_disponivel",
          "saldo_disponivel",
          "saldo_disponivel",
          "saldo_disponivel",
          "saldo_disponivel",
          "saldo_disponivel",
          "saldo_disponivel",
          "saldo_disponivel",
          "saldo_disponivel",
          "saldo_disponivel",
          "saldo_disponivel",
          "saldo_disponivel",
          "saldo_disponivel",
          "saldo_disponivel",
          "saldo_disponivel",
          "saldo_disponivel",
          "saldo_disponivel",
          "saldo_disponivel",
          "saldo_disponivel",
          "saldo_disponivel",
          "saldo_disponivel",
          "saldo_disponivel",
          "saldo_disponivel",
          "saldo_disponivel",
          "saldo_disponivel",
          "saldo_disponivel",
          "saldo_disponivel",
          "saldo_disponivel",
          "saldo_disponivel",
          "saldo_disponivel",
          "saldo_disponivel",
          "saldo_disponivel",
          "saldo_disponivel",
          "saldo_disponivel",
          "saldo_disponivel",
          "saldo_disponivel",
          "saldo_disponivel",
          "saldo_disponivel",
          "saldo_disponivel",
          "saldo_disponivel",
          "saldo_disponivel",
          "saldo_disponivel",
          "saldo_disponivel",
          "saldo_disponivel",
          "saldo_disponivel",
          "saldo_disponivel",
          "saldo_disponivel",
          "saldo_disponivel",
          "saldo_disponivel",
          "saldo_disponivel",
          "saldo_disponivel",
          "saldo_disponivel",
          "saldo_disponivel",
          "saldo_disponivel",
          "saldo_disponivel",
          "saldo_disponivel",
          "saldo_disponivel",
          "saldo_disponivel",
          "saldo_disponivel",
          "saldo_disponivel",
          "saldo_disponivel",
          "saldo_disponivel",
          "saldo_disponivel",
          "saldo_disponivel",
          "saldo_disponivel",
          "saldo_disponivel",
          "saldo_disponivel",
          "saldo_disponivel",
          "saldo_disponivel",
          "saldo_disponivel",
          "saldo_disponivel",
          "saldo_disponivel",
          "saldo_disponivel",
          "saldo_disponivel",
          "saldo_disponivel",
          "saldo_disponivel",
          "saldo_disponivel",
          "saldo_disponivel",
          "saldo_disponivel",
          "saldo_disponivel",
          "saldo_disponivel",
          "saldo_disponivel",
          "saldo_disponivel",
          "saldo_disponivel",
          "saldo_disponivel",
          "saldo_disponivel",
          "saldo_disponivel",
          "saldo_disponivel",
          "saldo_disponivel",
          "saldo_disponivel",
          "saldo_disponivel",
          "saldo_disponivel",
          "saldo_disponivel",
          "saldo_disponivel",
          "saldo_disponivel",
          "saldo_disponivel",
          "saldo_disponivel",
          "saldo_disponivel",
          "saldo_disponivel",
          "saldo_disponivel",
          "saldo_disponivel",
          "saldo_disponivel",
          "saldo_disponivel",
          "saldo_disponivel",
          "saldo_disponivel",
          "saldo_disponivel",
          "saldo_disponivel",
          "saldo_disponivel",
          "saldo_disponivel",
          "saldo_disponivel",
          "saldo_disponivel",
          "saldo_disponivel",
          "saldo_disponivel",
          "saldo_disponivel",
          "saldo_disponivel",
          "saldo_disponivel",
          "saldo_disponivel",
          "saldo_disponivel",
          "saldo_disponivel",
          "saldo_disponivel",
          "saldo_disponivel",
          "saldo_disponivel",
          "saldo_disponivel",
          "saldo_disponivel",
          "saldo_disponivel",
          "saldo_disponivel",
          "saldo_disponivel",
          "saldo_disponivel",
          "saldo_disponivel",
          "saldo_disponivel",
          "saldo_disponivel",
          "saldo_disponivel",
          "saldo_disponivel",
          "saldo_disponivel",
          "saldo_disponivel",
          "saldo_disponivel",
          "saldo_disponivel",
          "saldo_disponivel",
          "saldo_disponivel",
          "saldo_disponivel",
          "saldo_disponivel",
          "saldo_disponivel",
          "saldo_disponivel",
          "saldo_disponivel",
          "saldo_disponivel",
          "saldo_disponivel",
          "saldo_disponivel",
          "saldo_disponivel",
          "saldo_disponivel",
          "saldo_disponivel",
          "saldo_disponivel",
          "saldo_disponivel",
          "saldo_disponivel",
          "saldo_disponivel",
          "saldo_disponivel",
          "saldo_disponivel",
          "saldo_disponivel",
          "saldo_disponivel",
          "saldo_disponivel",
          "saldo_disponivel",
          "saldo_disponivel",
          "saldo_disponivel",
          "saldo_disponivel",
          "saldo_disponivel",
          "saldo_disponivel",
          "saldo_disponivel",
          "saldo_disponivel",
          "saldo_disponivel",
          "saldo_disponivel",
          "saldo_disponivel"
         ],
         "x0": " ",
         "xaxis": "x",
         "y": [
          2814.67,
          4191.860000000001,
          3080.7099999999987,
          19461.56000000001,
          13197.539999999995,
          21677.880000000005,
          4183.68,
          1288.5100000000016,
          616.7900000000002,
          19863.759999999995,
          55917.15,
          35288.34,
          2511.2999999999965,
          34545.61999999999,
          80952.72000000003,
          335.3800000000008,
          168407.87999999998,
          54240.69,
          83480.03999999992,
          44.86000000000001,
          1827.75,
          812.5600000000035,
          10208.050000000005,
          163409.6799999999,
          7380.669999999998,
          20373.14,
          87609.81999999996,
          66507.14,
          41016.19999999999,
          74.5299999999999,
          19955.29999999999,
          1592.7000000000023,
          1252.5500000000109,
          20458.98,
          14679.189999999991,
          12934.409999999996,
          94200.57999999999,
          52.13000000000648,
          52418.23999999999,
          17483.73999999998,
          37.57000000000168,
          32308.149999999998,
          38894.44000000001,
          8075.479999999999,
          15408.800000000008,
          2543.8200000000006,
          28107.83999999999,
          14852.299999999992,
          697.9799999999996,
          19263.65,
          2608.2900000000004,
          5418.259999999997,
          78.94999999999986,
          22164.989999999994,
          34449.169999999984,
          13407.47999999999,
          28876.550000000003,
          43787.35999999999,
          126887.95,
          2427.579999999996,
          29533.51,
          3563.1999999999944,
          164.3100000000003,
          99717.26999999996,
          270.1800000000054,
          41516.750000000015,
          155.7200000000003,
          211636.0400000001,
          41331.12,
          67091.37000000001,
          4510.779999999998,
          2364.850000000002,
          71851.76000000001,
          11304.699999999995,
          78745.64,
          7802.339999999994,
          2941.4999999999927,
          22294.71000000001,
          87482.30000000002,
          21.400000000000382,
          45546.6,
          6722.359999999997,
          23267.770000000022,
          7813.65,
          54.71999999999517,
          27711.570000000003,
          13614.039999999994,
          43554.02999999999,
          68837.84999999999,
          1185.809999999952,
          31390.160000000003,
          8311.67,
          101572.38,
          6935.260000000002,
          31597.66000000001,
          10535.63,
          14689.169999999996,
          29273.680000000004,
          7660.1199999999935,
          65137.83000000001,
          16.22000000000142,
          14252.92,
          33578.19000000002,
          49224.08,
          29103.95,
          56551.49,
          30866.630000000005,
          577.4000000000003,
          26165.99,
          134.1999999999998,
          49969.30000000004,
          110336.89,
          16447.329999999998,
          15030.97,
          9667.709999999997,
          7551.609999999993,
          56919.71000000001,
          33034.49000000003,
          116.36000000000104,
          27609.02,
          393.61999999999927,
          64200.64,
          46241.16999999998,
          47060.44,
          19299.27,
          322.2600000000002,
          10769.580000000002,
          116.0499999999997,
          9159.69000000001,
          115048.84000000004,
          1268.5000000000048,
          64049.89000000007,
          20524.460000000003,
          52048.079999999994,
          27974.59999999997,
          37827.95999999999,
          12.040000000000893,
          191520.6000000001,
          5160.790000000003,
          48308.97000000001,
          3727.019999999996,
          42951.11999999998,
          3491.479999999999,
          13450.8,
          2677.19,
          33477.579999999994,
          7.339999999999648,
          36788.9,
          39530.31,
          12940.120000000004,
          49096.21000000001,
          40881.44,
          15969.620000000004,
          5.350000000000263,
          17333.02000000001,
          760.3900000000001,
          334.3100000000003,
          37024.01,
          40313.21,
          151644.4,
          1263.3899999999985,
          12657.899999999983,
          28153.49,
          16455.879999999997,
          5493.63,
          196440.97,
          84439.77000000003,
          8241.089999999998,
          6390.180000000003,
          2439.8500000000013,
          33166.60999999998,
          1744.86,
          263.32000000000124,
          38525.41000000002,
          20875.569999999985,
          34583.48,
          17267.949999999997,
          6536.309999999996,
          10032.940000000006,
          305.04,
          117253.54,
          109905.99,
          40234.87999999999,
          0.6000000000004135,
          170283.25000000003,
          228.68,
          253.21000000000063,
          8414.479999999996,
          12439.49,
          22071.15000000001,
          8346.630000000003,
          10124.270000000002,
          24783.64999999997,
          1702.4000000000003,
          11770.39,
          17130.820000000003,
          122476.89,
          10068.5,
          14856.86000000001,
          70325.65,
          22299.439999999988,
          25235.92000000001,
          20939.23000000001,
          61.300000000000075,
          918.5800000000014,
          231759.98000000004,
          5112.550000000002,
          128.34999999999877,
          44058.34,
          19820.47,
          3800.270000000004,
          24630.599999999988,
          29312.93,
          45922.630000000005,
          195.38000000000017,
          40067.48,
          40.060000000000045,
          3376.4299999999994,
          34.61000000000276,
          47398.84,
          7665.519999999995,
          2875.48,
          30770.779999999995,
          19025.32,
          5069.369999999998,
          3020.270000000008,
          6250.550000000002,
          28940.35,
          15511.599999999997,
          12075.629999999985,
          10745.11,
          1623.7099999999998,
          477.9500000000001,
          156.1499999999995,
          6957.3099999999995,
          38336.69000000001,
          26472.640000000003,
          11170.85,
          28544.94,
          74114.26000000001,
          107914.04,
          536.7199999999993,
          20567.89000000001,
          1368.4600000000014,
          37148.300000000025,
          4352.130000000007,
          34398.15000000001,
          3264.96,
          10009.550000000005,
          66086.48000000003,
          19977.86999999999,
          32782.46000000001,
          24.180000000000945,
          46356.45,
          19926.04999999998,
          15243.720000000008,
          14842.350000000004,
          22376.76000000001,
          783.199999999999,
          69922.47999999997,
          1451.6799999999994,
          538.6499999999992,
          5373.209999999998,
          51659.170000000006,
          56.559999999999874,
          24079.04,
          57526.37999999999,
          14722.03,
          200.49000000000024,
          130458.18000000002,
          5466.5499999999965,
          3645.789999999997,
          67700.81000000003,
          139067.40000000002,
          14424.129999999996,
          24763.26,
          11.269999999999255,
          254.4300000000002,
          139.20999999999944,
          79023.89000000001,
          650.8599999999997,
          39429.829999999965,
          29329.999999999975,
          26009.76000000001,
          48268.47000000001,
          1153.8499999999997,
          82556.41,
          9226.570000000003,
          871.17,
          99486.45,
          8497.309999999994,
          34907.80000000001,
          427.07999999999055,
          624.8199999999997,
          25725.93999999999,
          77835.11,
          75739.06999999998,
          12760.229999999983,
          2982.799999999997,
          316.6800000000012,
          17114.16999999999,
          1976.6800000000007,
          2414.309999999994,
          202.0699999999999,
          26.09000000000011,
          23748.1,
          32521.38,
          120169.18999999994,
          97.48999999999968,
          5824.069999999999,
          7893.980000000001,
          9242.54,
          21497.92,
          40667.300000000025,
          3737.0800000000017,
          32091.99,
          90717.11,
          19.700000000000895,
          7395.500000000005,
          43485.13999999999,
          78.42000000000002,
          10954.17,
          19957.63,
          179.6499999999999,
          21785.72,
          2052.749999999998,
          619.9799999999996,
          3704.5099999999993,
          6742.019999999996,
          8269.420000000006,
          237.1200000000004,
          48608.92999999997,
          66372.28,
          82151.29,
          74084.73999999996,
          79474.92000000001,
          42369.57999999998,
          32777.219999999965,
          6164.679999999998,
          9.760000000000076,
          102.7700000000045,
          44492.25,
          66842.31,
          4613.949999999999,
          18358.390000000007,
          301.41999999999933,
          108046.82,
          101.63000000000424,
          17057.350000000002,
          5759.04,
          14255.219999999996,
          27618.219999999976,
          13211.550000000008,
          76.57999999999971,
          509.95000000000994,
          19265.34,
          8294.28999999999,
          3450.2699999999973,
          8178.800000000008,
          1166.8700000000013,
          6150.549999999997,
          14875.639999999989,
          60.279999999995674,
          2843.45,
          49628.380000000005,
          507.200000000001,
          3004.3299999999977,
          44209.509999999966,
          13377.540000000034,
          2350.110000000001,
          5758.24,
          22538.060000000005,
          12.229999999999622,
          34814.880000000005,
          698.3299999999998,
          15424.989999999993,
          172773.52999999994,
          1284.2900000000154,
          396.5300000000013,
          11325.959999999995,
          35985.860000000015,
          24644.540000000008,
          32166.280000000013,
          2159.690000000003,
          33788.959999999985,
          1811.4899999999984,
          86317.92999999996,
          41896.72999999999,
          15334.759999999997,
          349.4800000000004,
          18763.110000000008,
          918.39,
          809.3499999999974,
          46.71000000000062,
          96197.7900000001,
          17763.990000000005,
          33542.41,
          20.830000000000496,
          44909.55000000003,
          4232.93,
          16654.639999999992,
          12434.7,
          13919.020000000006,
          340.18000000000006,
          19292.719999999998,
          24386.97,
          8079.569999999997,
          54060.360000000015,
          53607.32000000001,
          308.99,
          148919.10000000003,
          6859.660000000001,
          4043.629999999996,
          197.93,
          65285.170000000006,
          26.33999999999976,
          24529.73000000001,
          294.92999999999944,
          109931.59999999998,
          2269.760000000002,
          43828.91,
          108338.43,
          275.2100000000001,
          1062.2599999999993,
          13553.669999999996,
          48084.299999999996,
          12.719999999999883,
          10887.28,
          6501.510000000002,
          7760.45,
          744.27,
          10831.830000000004,
          786.3600000000007,
          34541.16,
          24708.180000000015,
          83239.81,
          18603.7,
          56789.220000000016,
          15220.770000000008,
          25729.27,
          333783.57000000007,
          438.38,
          1231.68,
          186.15999999999983,
          8596.759999999997,
          2061.360000000001,
          160.81000000000105,
          41996.880000000005,
          9275.919999999993,
          524.2000000000003,
          2366.42,
          146962.43,
          37.669999999998886,
          12694.709999999994,
          13010.519999999997,
          1498.3300000000002,
          19957.399999999998,
          1807.4899999999968,
          30107.63999999999,
          15678.090000000007,
          1592.91,
          253.59000000000012,
          11282.89,
          659.1999999999994,
          36353.97,
          29602.17,
          3729.58,
          31.699999999999363,
          842.2899999999988,
          44817.87,
          21.65999999999992,
          9653.13,
          19.21000000000088,
          18481.9,
          3218.2900000000054,
          2132.85,
          237.6,
          103.15999999999951,
          20280.68,
          17655.109999999993,
          764.3600000000004,
          241.97999999999968,
          47.8800000000021,
          33313.75000000001,
          96.51999999999992,
          42606.490000000005,
          17418.36,
          822.9700000000001,
          702.0800000000002,
          67.79000000000212,
          377919.46,
          8827.14,
          21003.23999999999,
          6136.9099999999935,
          34565.509999999995,
          23006.93,
          21620.27,
          12467.509999999984,
          11614.690000000008,
          2.570000000018503,
          354.60000000000014,
          22194.86,
          253.86000000000143,
          10071.98,
          24081.21,
          36812.24,
          51760.47,
          13695.14,
          25979.61,
          28423.389999999992,
          54610.49,
          88192.7,
          945.62,
          20014.449999999997,
          3850.5299999999984,
          239.80000000000024,
          130201.50999999988,
          579.95,
          82074.94999999998,
          26909.570000000007,
          84678.16,
          21792.21,
          689.6500000000012,
          50163.84,
          25670.84999999999,
          21.570000000002,
          24995.139999999985,
          9839.710000000003,
          8519.33,
          15714.769999999991,
          45918.69000000001,
          40732.589999999975,
          16.42999999999705,
          3896.8800000000015,
          932.7300000000016,
          106.61999999999998,
          1109.88,
          407.8700000000002,
          15458.459999999995,
          71.91999999999945,
          823.3000000000054,
          1012.65,
          1307.7499999999989,
          50324.19000000002,
          208.1500000000008,
          3092.4599999999973,
          5007.530000000003,
          4035.6599999999953,
          9550.960000000001,
          180.19999999999987,
          30.71000000000322,
          244.5599999999997,
          885.0999999999992,
          2655.280000000002,
          32.2900000000006,
          26339.26000000001,
          74061.32999999997,
          946.8000000000004,
          101639.81000000004,
          9370.809999999994,
          12935.609999999995,
          21653.35,
          6132.560000000003,
          5950.89,
          33336.16,
          20525.77,
          13802.429999999997,
          158495.12999999998,
          5669.230000000005,
          9982.919999999993,
          439.0999999999996,
          63.930000000000064,
          608.3100000000011,
          2809.969999999999,
          10722.869999999994,
          1311.3900000000006,
          36237.31000000002,
          5739.169999999999,
          11621.169999999998,
          146.28000000000017,
          142774.91999999998,
          29764.67,
          11723.3,
          95089.16,
          769.6799999999998,
          498.36000000000087,
          6816.7300000000005,
          7873.11,
          6144.819999999995,
          1912.43,
          84354.36,
          7061.730000000001,
          3668.4499999999994,
          44858.96,
          22871.31,
          684.2800000000008,
          179.30999999999972,
          39.95000000000084,
          90516.73999999996,
          28603.20000000001,
          101404.81,
          228.03999999999988,
          20119.83,
          2456.42,
          1232.1000000000006,
          97788.51000000001,
          32124.629999999983,
          37538.71000000001,
          938.790000000001,
          51891.34999999996,
          370.66,
          5126.2900000000045,
          13352.690000000008,
          1311.139999999999,
          24429.250000000025,
          47.30000000000027,
          239.8000000000011,
          96.0199999999996,
          16534.760000000002,
          30770.18,
          328.6600000000002,
          29.59999999999404,
          8208.760000000013,
          3.5299999999989207,
          801.7199999999998,
          34524.92999999999,
          84.08000000000064,
          1054.95,
          217787.98,
          30255.810000000005,
          349.81000000000006,
          34063.459999999985,
          46508.29,
          32440.67000000001,
          2862.07,
          729.1300000000003,
          401.64999999999935,
          2772.5999999999985,
          19341.19,
          23767.600000000013,
          181219.00999999992,
          17714.929999999997,
          74679.16999999998,
          27655.509999999995,
          82933.80000000002,
          71467.53999999996,
          879.13,
          72.7200000000015,
          64114.91999999999,
          7595.999999999996,
          24148.989999999994,
          29778.26000000001,
          98.43999999999976,
          71.32000000000038,
          27003.540000000005,
          101.75999999999983,
          10485.760000000004,
          74.02999999999983,
          290.31000000000034,
          30920.12000000001,
          3463.560000000001,
          10787.499999999984,
          6180.000000000001,
          3765.360000000006,
          609.1500000000001,
          187.91999999999888,
          16712.74000000001,
          1161.93,
          9793.869999999997,
          118.65000000000012,
          53350.32,
          42763.73,
          49952.45000000002,
          3069.4100000000026,
          26741.500000000007,
          45095.630000000005,
          11697.769999999997,
          3430.07,
          103374.03,
          5077.3200000000015,
          29643.65,
          19004.62999999999,
          14495.29000000001,
          44463.939999999995,
          18485.37000000001,
          28322.770000000004,
          1094.9699999999975,
          61092.73,
          328.2600000000006,
          35527.58999999999,
          2530.1000000000035,
          71055.32999999997,
          49975.52999999998,
          52158.79000000001,
          370.29999999999984,
          8355.740000000003,
          121260.38000000002,
          55301.670000000006,
          411617.06,
          6437.990000000001,
          38945.42999999999,
          14502.429999999988,
          15184.19,
          392.94000000000017,
          141742.22000000003,
          53347.529999999984,
          43163.69999999999,
          31.210000000000008,
          14528.579999999996,
          18148.49,
          873.5999999999988,
          233.56000000000049,
          7639.310000000001,
          24571.72000000001,
          1266.84,
          285.2600000000002,
          67382.17000000001,
          2429.12,
          249.03999999999976,
          83.89999999999687,
          28648.37000000001,
          148.95999999999984,
          4450.350000000009,
          1530.2000000000005,
          251588.81,
          75325.04,
          86746.65999999997,
          9726.469999999998,
          26892.409999999985,
          107095.24000000002,
          13064.999999999996,
          16268.020000000006,
          6676.279999999995,
          810.2799999999991,
          7573.15,
          38036.239999999976,
          41083.45999999999,
          152.00999999999974,
          1836.7099999999991,
          11738.349999999991,
          171.20000000000385,
          67.71000000000055,
          1890.9999999999964,
          1108.9299999999992,
          98589.37999999996,
          1806.9099999999985,
          13140.679999999998,
          3691.8800000000015,
          2138.159999999999,
          19764.44,
          23.430000000000856,
          103238.16999999995,
          25875.000000000004,
          61304.339999999975,
          11.879999999999972,
          264.7300000000027,
          163.9500000000006,
          62273.860000000015,
          29116.16999999999,
          27325.62999999999,
          410.8099999999996,
          21444.25,
          30918.080000000005,
          7643.5,
          85291.46000000002,
          494.70000000000016,
          78285.28000000001,
          177022.98,
          669.5500000000004,
          12292.180000000006,
          1066.0900000000008,
          49705.31999999999,
          23786.800000000017,
          20722.599999999995,
          26634.399999999987,
          4835.910000000004,
          4032.210000000001,
          38096.67,
          139.4699999999998,
          15370.330000000002,
          308.3699999999998,
          14102.079999999993,
          187.19000000000028,
          1236.6,
          8913.970000000007,
          5.730000000000221,
          71872.79999999999,
          57631.09,
          1855.39,
          10896.789999999995,
          11.61000000000007,
          270.0899999999995,
          10255.330000000002,
          61857.219999999965,
          209.44999999999985,
          225.71000000000032,
          17175.37000000001,
          770.500000000008,
          223.20999999999992,
          953.189999999992,
          22446.31,
          67168.87000000001,
          212.94000000000003,
          99308.13,
          37774.10999999997,
          12478.81000000001,
          12932.069999999989,
          298.54,
          32992.26000000002,
          292.6500000000015,
          16570.43000000001,
          23251.52999999999,
          10044.110000000002,
          17.600000000000705,
          19084.52,
          3468.330000000002,
          18628.42000000001,
          405.4100000000015,
          212.4999999999996,
          49629.64000000001,
          57199.63,
          2160.9900000000016,
          50612.740000000005,
          186.78999999999996,
          6395.689999999998,
          29.70000000000016,
          26440.840000000007,
          17788.250000000007,
          103.13000000000146,
          709.0100000000001,
          37852.089999999975,
          179836.58999999994,
          10598.119999999995,
          48405.149999999994,
          15142.779999999995,
          2392.1399999999985,
          1454.9899999999998,
          25982.42000000001,
          215962.42000000004,
          4563.98,
          7091.650000000001,
          36169.339999999975,
          18283.47,
          57884.81000000004,
          13891.759999999987,
          6030.19,
          45107.740000000005,
          529.5300000000002,
          56176.70999999999,
          58427.81,
          5111.28,
          38393.27999999998,
          377.69000000000045,
          70788.36000000003,
          58782.09000000001,
          789.1600000000002,
          40696.79000000001,
          98.6699999999996,
          133.8899999999999,
          13317.150000000003,
          1349.5399999999993,
          512.9299999999985,
          50042.79,
          577.5899999999988,
          4787.190000000005,
          51.65000000000024,
          576.9599999999999,
          7722.449999999989,
          16354.829999999996,
          357.2700000000001,
          35.29999999999993,
          146.4899999999999,
          17579.48999999999,
          411.6400000000005,
          64946.45999999996,
          16884.65000000001,
          13974.82,
          6492.199999999995,
          105076.54,
          167.8500000000003,
          77618.77,
          31954.14,
          6042.249999999996,
          51.5600000000001,
          46013.39,
          21928.039999999997,
          548.6799999999993,
          78.30000000000011,
          38511.37999999999,
          187.48000000000323,
          33.559999999999725,
          26.170000000000115,
          9013.16,
          51296.899999999994,
          50265.66,
          31038.090000000007,
          139689.9400000001,
          9025.439999999999,
          7373.57,
          12201.819999999992,
          13.080000000000156,
          46232.240000000005,
          10.869999999999877,
          128.1699999999987,
          1131.0999999999997,
          49704.079999999994,
          4310.239999999993,
          46182.70999999999,
          16088.409999999982,
          55598.11999999998,
          4337.7699999999995,
          59617.24999999999,
          50788.54999999998,
          331.30999999999995,
          243.4099999999995,
          568.8000000000004,
          57.039999999999765,
          38090.6,
          11226.090000000002,
          652.9399999999988,
          1943.3899999999996,
          112686.21000000002,
          15859.55999999999,
          36479.200000000004,
          310.44999999999965,
          4444.39,
          297.91999999999933,
          36903.26,
          16089.490000000002,
          635.6200000000001,
          91423.61,
          15247.75,
          15291.839999999993,
          22495.77,
          957.1500000000026,
          82534.20000000001,
          297.1099999999872,
          31765.419999999987,
          12932.35,
          56521.820000000014,
          37588.74999999998,
          1835.4199999999985,
          55.00000000000002,
          400.94999999999993,
          218.06000000000049,
          502.4600000000004,
          8.359999999999875,
          5776.050000000002,
          1003.8599999999916,
          17.210000000000328,
          67.74999999999915,
          24401.26000000001,
          122899.56999999998,
          6102.1199999999935,
          7492.980000000001,
          103.47999999999976,
          437.6999999999997,
          57983.03999999996,
          610.8900000000003,
          75.28000000000006,
          12225.509999999997,
          92.12000000000015,
          14492.840000000002,
          223.73000000000027,
          232.7799999999998,
          4254.340000000002,
          19948.770000000008,
          19194.430000000004,
          124.26000000000138,
          8911.519999999999,
          80069.17999999996,
          7091.999999999998,
          9647.990000000014,
          57686.21999999995,
          40913.97000000001,
          257.7499999999999,
          383.6099999999995,
          6828.530000000001,
          78.43999999999563,
          444.63000000000017,
          18537.45,
          37095.21,
          28682.48,
          29187.790000000005,
          235.75999999999976,
          47220.720000000016,
          4791.859999999999,
          4585.310000000004,
          143607.0400000001,
          91.53000000000131,
          642.8000000000004,
          32145.32,
          2641.36,
          29401.580000000016,
          9351.630000000006,
          64823.140000000014,
          6836.5700000000015,
          21578.33000000001,
          10336.340000000002
         ],
         "y0": " ",
         "yaxis": "y"
        }
       ],
       "layout": {
        "boxmode": "group",
        "legend": {
         "tracegroupgap": 0
        },
        "margin": {
         "t": 60
        },
        "template": {
         "data": {
          "bar": [
           {
            "error_x": {
             "color": "#2a3f5f"
            },
            "error_y": {
             "color": "#2a3f5f"
            },
            "marker": {
             "line": {
              "color": "#E5ECF6",
              "width": 0.5
             },
             "pattern": {
              "fillmode": "overlay",
              "size": 10,
              "solidity": 0.2
             }
            },
            "type": "bar"
           }
          ],
          "barpolar": [
           {
            "marker": {
             "line": {
              "color": "#E5ECF6",
              "width": 0.5
             },
             "pattern": {
              "fillmode": "overlay",
              "size": 10,
              "solidity": 0.2
             }
            },
            "type": "barpolar"
           }
          ],
          "carpet": [
           {
            "aaxis": {
             "endlinecolor": "#2a3f5f",
             "gridcolor": "white",
             "linecolor": "white",
             "minorgridcolor": "white",
             "startlinecolor": "#2a3f5f"
            },
            "baxis": {
             "endlinecolor": "#2a3f5f",
             "gridcolor": "white",
             "linecolor": "white",
             "minorgridcolor": "white",
             "startlinecolor": "#2a3f5f"
            },
            "type": "carpet"
           }
          ],
          "choropleth": [
           {
            "colorbar": {
             "outlinewidth": 0,
             "ticks": ""
            },
            "type": "choropleth"
           }
          ],
          "contour": [
           {
            "colorbar": {
             "outlinewidth": 0,
             "ticks": ""
            },
            "colorscale": [
             [
              0,
              "#0d0887"
             ],
             [
              0.1111111111111111,
              "#46039f"
             ],
             [
              0.2222222222222222,
              "#7201a8"
             ],
             [
              0.3333333333333333,
              "#9c179e"
             ],
             [
              0.4444444444444444,
              "#bd3786"
             ],
             [
              0.5555555555555556,
              "#d8576b"
             ],
             [
              0.6666666666666666,
              "#ed7953"
             ],
             [
              0.7777777777777778,
              "#fb9f3a"
             ],
             [
              0.8888888888888888,
              "#fdca26"
             ],
             [
              1,
              "#f0f921"
             ]
            ],
            "type": "contour"
           }
          ],
          "contourcarpet": [
           {
            "colorbar": {
             "outlinewidth": 0,
             "ticks": ""
            },
            "type": "contourcarpet"
           }
          ],
          "heatmap": [
           {
            "colorbar": {
             "outlinewidth": 0,
             "ticks": ""
            },
            "colorscale": [
             [
              0,
              "#0d0887"
             ],
             [
              0.1111111111111111,
              "#46039f"
             ],
             [
              0.2222222222222222,
              "#7201a8"
             ],
             [
              0.3333333333333333,
              "#9c179e"
             ],
             [
              0.4444444444444444,
              "#bd3786"
             ],
             [
              0.5555555555555556,
              "#d8576b"
             ],
             [
              0.6666666666666666,
              "#ed7953"
             ],
             [
              0.7777777777777778,
              "#fb9f3a"
             ],
             [
              0.8888888888888888,
              "#fdca26"
             ],
             [
              1,
              "#f0f921"
             ]
            ],
            "type": "heatmap"
           }
          ],
          "heatmapgl": [
           {
            "colorbar": {
             "outlinewidth": 0,
             "ticks": ""
            },
            "colorscale": [
             [
              0,
              "#0d0887"
             ],
             [
              0.1111111111111111,
              "#46039f"
             ],
             [
              0.2222222222222222,
              "#7201a8"
             ],
             [
              0.3333333333333333,
              "#9c179e"
             ],
             [
              0.4444444444444444,
              "#bd3786"
             ],
             [
              0.5555555555555556,
              "#d8576b"
             ],
             [
              0.6666666666666666,
              "#ed7953"
             ],
             [
              0.7777777777777778,
              "#fb9f3a"
             ],
             [
              0.8888888888888888,
              "#fdca26"
             ],
             [
              1,
              "#f0f921"
             ]
            ],
            "type": "heatmapgl"
           }
          ],
          "histogram": [
           {
            "marker": {
             "pattern": {
              "fillmode": "overlay",
              "size": 10,
              "solidity": 0.2
             }
            },
            "type": "histogram"
           }
          ],
          "histogram2d": [
           {
            "colorbar": {
             "outlinewidth": 0,
             "ticks": ""
            },
            "colorscale": [
             [
              0,
              "#0d0887"
             ],
             [
              0.1111111111111111,
              "#46039f"
             ],
             [
              0.2222222222222222,
              "#7201a8"
             ],
             [
              0.3333333333333333,
              "#9c179e"
             ],
             [
              0.4444444444444444,
              "#bd3786"
             ],
             [
              0.5555555555555556,
              "#d8576b"
             ],
             [
              0.6666666666666666,
              "#ed7953"
             ],
             [
              0.7777777777777778,
              "#fb9f3a"
             ],
             [
              0.8888888888888888,
              "#fdca26"
             ],
             [
              1,
              "#f0f921"
             ]
            ],
            "type": "histogram2d"
           }
          ],
          "histogram2dcontour": [
           {
            "colorbar": {
             "outlinewidth": 0,
             "ticks": ""
            },
            "colorscale": [
             [
              0,
              "#0d0887"
             ],
             [
              0.1111111111111111,
              "#46039f"
             ],
             [
              0.2222222222222222,
              "#7201a8"
             ],
             [
              0.3333333333333333,
              "#9c179e"
             ],
             [
              0.4444444444444444,
              "#bd3786"
             ],
             [
              0.5555555555555556,
              "#d8576b"
             ],
             [
              0.6666666666666666,
              "#ed7953"
             ],
             [
              0.7777777777777778,
              "#fb9f3a"
             ],
             [
              0.8888888888888888,
              "#fdca26"
             ],
             [
              1,
              "#f0f921"
             ]
            ],
            "type": "histogram2dcontour"
           }
          ],
          "mesh3d": [
           {
            "colorbar": {
             "outlinewidth": 0,
             "ticks": ""
            },
            "type": "mesh3d"
           }
          ],
          "parcoords": [
           {
            "line": {
             "colorbar": {
              "outlinewidth": 0,
              "ticks": ""
             }
            },
            "type": "parcoords"
           }
          ],
          "pie": [
           {
            "automargin": true,
            "type": "pie"
           }
          ],
          "scatter": [
           {
            "marker": {
             "colorbar": {
              "outlinewidth": 0,
              "ticks": ""
             }
            },
            "type": "scatter"
           }
          ],
          "scatter3d": [
           {
            "line": {
             "colorbar": {
              "outlinewidth": 0,
              "ticks": ""
             }
            },
            "marker": {
             "colorbar": {
              "outlinewidth": 0,
              "ticks": ""
             }
            },
            "type": "scatter3d"
           }
          ],
          "scattercarpet": [
           {
            "marker": {
             "colorbar": {
              "outlinewidth": 0,
              "ticks": ""
             }
            },
            "type": "scattercarpet"
           }
          ],
          "scattergeo": [
           {
            "marker": {
             "colorbar": {
              "outlinewidth": 0,
              "ticks": ""
             }
            },
            "type": "scattergeo"
           }
          ],
          "scattergl": [
           {
            "marker": {
             "colorbar": {
              "outlinewidth": 0,
              "ticks": ""
             }
            },
            "type": "scattergl"
           }
          ],
          "scattermapbox": [
           {
            "marker": {
             "colorbar": {
              "outlinewidth": 0,
              "ticks": ""
             }
            },
            "type": "scattermapbox"
           }
          ],
          "scatterpolar": [
           {
            "marker": {
             "colorbar": {
              "outlinewidth": 0,
              "ticks": ""
             }
            },
            "type": "scatterpolar"
           }
          ],
          "scatterpolargl": [
           {
            "marker": {
             "colorbar": {
              "outlinewidth": 0,
              "ticks": ""
             }
            },
            "type": "scatterpolargl"
           }
          ],
          "scatterternary": [
           {
            "marker": {
             "colorbar": {
              "outlinewidth": 0,
              "ticks": ""
             }
            },
            "type": "scatterternary"
           }
          ],
          "surface": [
           {
            "colorbar": {
             "outlinewidth": 0,
             "ticks": ""
            },
            "colorscale": [
             [
              0,
              "#0d0887"
             ],
             [
              0.1111111111111111,
              "#46039f"
             ],
             [
              0.2222222222222222,
              "#7201a8"
             ],
             [
              0.3333333333333333,
              "#9c179e"
             ],
             [
              0.4444444444444444,
              "#bd3786"
             ],
             [
              0.5555555555555556,
              "#d8576b"
             ],
             [
              0.6666666666666666,
              "#ed7953"
             ],
             [
              0.7777777777777778,
              "#fb9f3a"
             ],
             [
              0.8888888888888888,
              "#fdca26"
             ],
             [
              1,
              "#f0f921"
             ]
            ],
            "type": "surface"
           }
          ],
          "table": [
           {
            "cells": {
             "fill": {
              "color": "#EBF0F8"
             },
             "line": {
              "color": "white"
             }
            },
            "header": {
             "fill": {
              "color": "#C8D4E3"
             },
             "line": {
              "color": "white"
             }
            },
            "type": "table"
           }
          ]
         },
         "layout": {
          "annotationdefaults": {
           "arrowcolor": "#2a3f5f",
           "arrowhead": 0,
           "arrowwidth": 1
          },
          "autotypenumbers": "strict",
          "coloraxis": {
           "colorbar": {
            "outlinewidth": 0,
            "ticks": ""
           }
          },
          "colorscale": {
           "diverging": [
            [
             0,
             "#8e0152"
            ],
            [
             0.1,
             "#c51b7d"
            ],
            [
             0.2,
             "#de77ae"
            ],
            [
             0.3,
             "#f1b6da"
            ],
            [
             0.4,
             "#fde0ef"
            ],
            [
             0.5,
             "#f7f7f7"
            ],
            [
             0.6,
             "#e6f5d0"
            ],
            [
             0.7,
             "#b8e186"
            ],
            [
             0.8,
             "#7fbc41"
            ],
            [
             0.9,
             "#4d9221"
            ],
            [
             1,
             "#276419"
            ]
           ],
           "sequential": [
            [
             0,
             "#0d0887"
            ],
            [
             0.1111111111111111,
             "#46039f"
            ],
            [
             0.2222222222222222,
             "#7201a8"
            ],
            [
             0.3333333333333333,
             "#9c179e"
            ],
            [
             0.4444444444444444,
             "#bd3786"
            ],
            [
             0.5555555555555556,
             "#d8576b"
            ],
            [
             0.6666666666666666,
             "#ed7953"
            ],
            [
             0.7777777777777778,
             "#fb9f3a"
            ],
            [
             0.8888888888888888,
             "#fdca26"
            ],
            [
             1,
             "#f0f921"
            ]
           ],
           "sequentialminus": [
            [
             0,
             "#0d0887"
            ],
            [
             0.1111111111111111,
             "#46039f"
            ],
            [
             0.2222222222222222,
             "#7201a8"
            ],
            [
             0.3333333333333333,
             "#9c179e"
            ],
            [
             0.4444444444444444,
             "#bd3786"
            ],
            [
             0.5555555555555556,
             "#d8576b"
            ],
            [
             0.6666666666666666,
             "#ed7953"
            ],
            [
             0.7777777777777778,
             "#fb9f3a"
            ],
            [
             0.8888888888888888,
             "#fdca26"
            ],
            [
             1,
             "#f0f921"
            ]
           ]
          },
          "colorway": [
           "#636efa",
           "#EF553B",
           "#00cc96",
           "#ab63fa",
           "#FFA15A",
           "#19d3f3",
           "#FF6692",
           "#B6E880",
           "#FF97FF",
           "#FECB52"
          ],
          "font": {
           "color": "#2a3f5f"
          },
          "geo": {
           "bgcolor": "white",
           "lakecolor": "white",
           "landcolor": "#E5ECF6",
           "showlakes": true,
           "showland": true,
           "subunitcolor": "white"
          },
          "hoverlabel": {
           "align": "left"
          },
          "hovermode": "closest",
          "mapbox": {
           "style": "light"
          },
          "paper_bgcolor": "white",
          "plot_bgcolor": "#E5ECF6",
          "polar": {
           "angularaxis": {
            "gridcolor": "white",
            "linecolor": "white",
            "ticks": ""
           },
           "bgcolor": "#E5ECF6",
           "radialaxis": {
            "gridcolor": "white",
            "linecolor": "white",
            "ticks": ""
           }
          },
          "scene": {
           "xaxis": {
            "backgroundcolor": "#E5ECF6",
            "gridcolor": "white",
            "gridwidth": 2,
            "linecolor": "white",
            "showbackground": true,
            "ticks": "",
            "zerolinecolor": "white"
           },
           "yaxis": {
            "backgroundcolor": "#E5ECF6",
            "gridcolor": "white",
            "gridwidth": 2,
            "linecolor": "white",
            "showbackground": true,
            "ticks": "",
            "zerolinecolor": "white"
           },
           "zaxis": {
            "backgroundcolor": "#E5ECF6",
            "gridcolor": "white",
            "gridwidth": 2,
            "linecolor": "white",
            "showbackground": true,
            "ticks": "",
            "zerolinecolor": "white"
           }
          },
          "shapedefaults": {
           "line": {
            "color": "#2a3f5f"
           }
          },
          "ternary": {
           "aaxis": {
            "gridcolor": "white",
            "linecolor": "white",
            "ticks": ""
           },
           "baxis": {
            "gridcolor": "white",
            "linecolor": "white",
            "ticks": ""
           },
           "bgcolor": "#E5ECF6",
           "caxis": {
            "gridcolor": "white",
            "linecolor": "white",
            "ticks": ""
           }
          },
          "title": {
           "x": 0.05
          },
          "xaxis": {
           "automargin": true,
           "gridcolor": "white",
           "linecolor": "white",
           "ticks": "",
           "title": {
            "standoff": 15
           },
           "zerolinecolor": "white",
           "zerolinewidth": 2
          },
          "yaxis": {
           "automargin": true,
           "gridcolor": "white",
           "linecolor": "white",
           "ticks": "",
           "title": {
            "standoff": 15
           },
           "zerolinecolor": "white",
           "zerolinewidth": 2
          }
         }
        },
        "xaxis": {
         "anchor": "y",
         "domain": [
          0,
          1
         ],
         "title": {
          "text": "variable"
         }
        },
        "yaxis": {
         "anchor": "x",
         "domain": [
          0,
          1
         ],
         "title": {
          "text": "value"
         }
        }
       }
      }
     },
     "metadata": {},
     "output_type": "display_data"
    }
   ],
   "source": [
    "fig = px.box(df['contas']['saldo_disponivel'], points=\"all\")\n",
    "\n",
    "fig.show()"
   ]
  },
  {
   "cell_type": "code",
   "execution_count": 110,
   "metadata": {},
   "outputs": [
    {
     "name": "stdout",
     "output_type": "stream",
     "text": [
      "Lower Bound: 0,\n",
      "Q1: 918.4850000000007,\n",
      "Mediana (Q2): 11325.959999999995,\n",
      "Q3: 33926.209999999985,\n",
      "Upper Bound: 83437.79749999996\n"
     ]
    }
   ],
   "source": [
    "# Cálculo dos quartis\n",
    "\n",
    "q1 = np.percentile(df['contas']['saldo_disponivel'], 25)  # Primeiro quartil (25%)\n",
    "q2 = np.percentile(df['contas']['saldo_disponivel'], 50)  # Segundo quartil (mediana, 50%)\n",
    "q3 = np.percentile(df['contas']['saldo_disponivel'], 75)  # Terceiro quartil (75%)\n",
    "\n",
    "iqr = q3 - q1\n",
    "\n",
    "lower_bound = q1 - (1.5 * iqr) if q1 - (1.5 * iqr) > 0 else 0\n",
    "upper_bound = q3 + (1.5 * iqr)\n",
    "\n",
    "print(f\"Lower Bound: {lower_bound},\\nQ1: {q1},\\nMediana (Q2): {q2},\\nQ3: {q3},\\nUpper Bound: {upper_bound}\")"
   ]
  },
  {
   "cell_type": "code",
   "execution_count": 117,
   "metadata": {},
   "outputs": [],
   "source": [
    "# Definir os rótulos para cada faixa de saldo\n",
    "labels = ['baixa', 'média-baixa', 'média', 'alta', 'Premium']\n",
    "\n",
    "# Definir os limites das faixas\n",
    "bins = [lower_bound, q1, q2, q3, upper_bound, df['contas']['saldo_disponivel'].max()]\n",
    "\n",
    "# Aplicar a classificação usando pd.cut\n",
    "df['contas']['classificacao'] = pd.cut(df['contas']['saldo_disponivel'], bins=bins, labels=labels, include_lowest=True)"
   ]
  },
  {
   "cell_type": "code",
   "execution_count": 118,
   "metadata": {},
   "outputs": [
    {
     "data": {
      "text/plain": [
       "baixa          250\n",
       "média-baixa    250\n",
       "média          249\n",
       "alta           180\n",
       "Premium         70\n",
       "Name: classificacao, dtype: int64"
      ]
     },
     "execution_count": 118,
     "metadata": {},
     "output_type": "execute_result"
    }
   ],
   "source": [
    "df['contas']['classificacao'].value_counts()"
   ]
  },
  {
   "cell_type": "code",
   "execution_count": 119,
   "metadata": {},
   "outputs": [
    {
     "data": {
      "application/vnd.plotly.v1+json": {
       "config": {
        "plotlyServerURL": "https://plot.ly"
       },
       "data": [
        {
         "hovertemplate": "classificacao=média-baixa<br>index=%{x}<br>saldo_disponivel=%{y}<extra></extra>",
         "legendgroup": "média-baixa",
         "marker": {
          "color": "#636efa",
          "symbol": "circle"
         },
         "mode": "markers",
         "name": "média-baixa",
         "orientation": "v",
         "showlegend": true,
         "type": "scatter",
         "x": [
          0,
          1,
          2,
          6,
          7,
          12,
          20,
          22,
          24,
          31,
          32,
          43,
          45,
          50,
          51,
          59,
          61,
          70,
          71,
          73,
          75,
          76,
          81,
          83,
          89,
          91,
          93,
          95,
          98,
          114,
          115,
          126,
          128,
          130,
          138,
          140,
          142,
          144,
          160,
          164,
          167,
          168,
          169,
          171,
          177,
          178,
          187,
          190,
          191,
          193,
          197,
          204,
          206,
          210,
          217,
          220,
          221,
          224,
          225,
          226,
          230,
          231,
          234,
          237,
          243,
          245,
          247,
          248,
          260,
          262,
          270,
          271,
          285,
          287,
          290,
          298,
          301,
          302,
          309,
          310,
          311,
          314,
          318,
          321,
          325,
          327,
          328,
          329,
          338,
          343,
          349,
          356,
          357,
          358,
          359,
          360,
          363,
          366,
          369,
          370,
          377,
          379,
          383,
          385,
          399,
          406,
          411,
          412,
          419,
          423,
          427,
          428,
          429,
          431,
          442,
          444,
          445,
          448,
          450,
          455,
          457,
          460,
          462,
          466,
          471,
          474,
          475,
          491,
          493,
          503,
          512,
          514,
          527,
          528,
          533,
          534,
          536,
          541,
          542,
          545,
          546,
          547,
          548,
          553,
          557,
          559,
          562,
          563,
          568,
          569,
          573,
          574,
          575,
          577,
          586,
          587,
          588,
          589,
          591,
          592,
          603,
          604,
          608,
          611,
          613,
          622,
          627,
          634,
          637,
          649,
          656,
          660,
          661,
          662,
          663,
          667,
          668,
          673,
          677,
          679,
          686,
          690,
          695,
          699,
          712,
          714,
          717,
          722,
          723,
          727,
          732,
          734,
          738,
          742,
          743,
          745,
          747,
          748,
          763,
          770,
          775,
          776,
          783,
          784,
          788,
          789,
          792,
          799,
          812,
          815,
          821,
          824,
          832,
          835,
          836,
          839,
          840,
          845,
          850,
          860,
          864,
          867,
          877,
          882,
          892,
          897,
          898,
          904,
          906,
          910,
          918,
          920,
          925,
          934,
          941,
          947,
          948,
          953,
          954,
          965,
          969,
          971,
          972,
          977,
          986,
          987,
          992,
          994,
          996,
          998
         ],
         "xaxis": "x",
         "y": [
          2814.67,
          4191.860000000001,
          3080.7099999999987,
          4183.68,
          1288.5100000000016,
          2511.2999999999965,
          1827.75,
          10208.050000000005,
          7380.669999999998,
          1592.7000000000023,
          1252.5500000000109,
          8075.479999999999,
          2543.8200000000006,
          2608.2900000000004,
          5418.259999999997,
          2427.579999999996,
          3563.1999999999944,
          4510.779999999998,
          2364.850000000002,
          11304.699999999995,
          7802.339999999994,
          2941.4999999999927,
          6722.359999999997,
          7813.65,
          1185.809999999952,
          8311.67,
          6935.260000000002,
          10535.63,
          7660.1199999999935,
          9667.709999999997,
          7551.609999999993,
          10769.580000000002,
          9159.69000000001,
          1268.5000000000048,
          5160.790000000003,
          3727.019999999996,
          3491.479999999999,
          2677.19,
          1263.3899999999985,
          5493.63,
          8241.089999999998,
          6390.180000000003,
          2439.8500000000013,
          1744.86,
          6536.309999999996,
          10032.940000000006,
          8414.479999999996,
          8346.630000000003,
          10124.270000000002,
          1702.4000000000003,
          10068.5,
          918.5800000000014,
          5112.550000000002,
          3800.270000000004,
          3376.4299999999994,
          7665.519999999995,
          2875.48,
          5069.369999999998,
          3020.270000000008,
          6250.550000000002,
          10745.11,
          1623.7099999999998,
          6957.3099999999995,
          11170.85,
          1368.4600000000014,
          4352.130000000007,
          3264.96,
          10009.550000000005,
          1451.6799999999994,
          5373.209999999998,
          5466.5499999999965,
          3645.789999999997,
          1153.8499999999997,
          9226.570000000003,
          8497.309999999994,
          2982.799999999997,
          1976.6800000000007,
          2414.309999999994,
          5824.069999999999,
          7893.980000000001,
          9242.54,
          3737.0800000000017,
          7395.500000000005,
          10954.17,
          2052.749999999998,
          3704.5099999999993,
          6742.019999999996,
          8269.420000000006,
          6164.679999999998,
          4613.949999999999,
          5759.04,
          8294.28999999999,
          3450.2699999999973,
          8178.800000000008,
          1166.8700000000013,
          6150.549999999997,
          2843.45,
          3004.3299999999977,
          2350.110000000001,
          5758.24,
          1284.2900000000154,
          11325.959999999995,
          2159.690000000003,
          1811.4899999999984,
          4232.93,
          8079.569999999997,
          6859.660000000001,
          4043.629999999996,
          2269.760000000002,
          1062.2599999999993,
          10887.28,
          6501.510000000002,
          7760.45,
          10831.830000000004,
          1231.68,
          8596.759999999997,
          2061.360000000001,
          9275.919999999993,
          2366.42,
          1498.3300000000002,
          1807.4899999999968,
          1592.91,
          11282.89,
          3729.58,
          9653.13,
          3218.2900000000054,
          2132.85,
          8827.14,
          6136.9099999999935,
          10071.98,
          945.62,
          3850.5299999999984,
          9839.710000000003,
          8519.33,
          3896.8800000000015,
          932.7300000000016,
          1109.88,
          1012.65,
          1307.7499999999989,
          3092.4599999999973,
          5007.530000000003,
          4035.6599999999953,
          9550.960000000001,
          2655.280000000002,
          946.8000000000004,
          9370.809999999994,
          6132.560000000003,
          5950.89,
          5669.230000000005,
          9982.919999999993,
          2809.969999999999,
          10722.869999999994,
          1311.3900000000006,
          5739.169999999999,
          6816.7300000000005,
          7873.11,
          6144.819999999995,
          1912.43,
          7061.730000000001,
          3668.4499999999994,
          2456.42,
          1232.1000000000006,
          938.790000000001,
          5126.2900000000045,
          1311.139999999999,
          8208.760000000013,
          1054.95,
          2862.07,
          2772.5999999999985,
          7595.999999999996,
          10485.760000000004,
          3463.560000000001,
          10787.499999999984,
          6180.000000000001,
          3765.360000000006,
          1161.93,
          9793.869999999997,
          3069.4100000000026,
          3430.07,
          5077.3200000000015,
          1094.9699999999975,
          2530.1000000000035,
          8355.740000000003,
          6437.990000000001,
          7639.310000000001,
          1266.84,
          2429.12,
          4450.350000000009,
          1530.2000000000005,
          9726.469999999998,
          6676.279999999995,
          7573.15,
          1836.7099999999991,
          1890.9999999999964,
          1108.9299999999992,
          1806.9099999999985,
          3691.8800000000015,
          2138.159999999999,
          7643.5,
          1066.0900000000008,
          4835.910000000004,
          4032.210000000001,
          1236.6,
          8913.970000000007,
          1855.39,
          10896.789999999995,
          10255.330000000002,
          953.189999999992,
          10044.110000000002,
          3468.330000000002,
          2160.9900000000016,
          6395.689999999998,
          10598.119999999995,
          2392.1399999999985,
          1454.9899999999998,
          4563.98,
          7091.650000000001,
          6030.19,
          5111.28,
          1349.5399999999993,
          4787.190000000005,
          7722.449999999989,
          6492.199999999995,
          6042.249999999996,
          9013.16,
          9025.439999999999,
          7373.57,
          1131.0999999999997,
          4310.239999999993,
          4337.7699999999995,
          11226.090000000002,
          1943.3899999999996,
          4444.39,
          957.1500000000026,
          1835.4199999999985,
          5776.050000000002,
          1003.8599999999916,
          6102.1199999999935,
          7492.980000000001,
          4254.340000000002,
          8911.519999999999,
          7091.999999999998,
          9647.990000000014,
          6828.530000000001,
          4791.859999999999,
          4585.310000000004,
          2641.36,
          9351.630000000006,
          6836.5700000000015,
          10336.340000000002
         ],
         "yaxis": "y"
        },
        {
         "hovertemplate": "classificacao=média<br>index=%{x}<br>saldo_disponivel=%{y}<extra></extra>",
         "legendgroup": "média",
         "marker": {
          "color": "#EF553B",
          "symbol": "circle"
         },
         "mode": "markers",
         "name": "média",
         "orientation": "v",
         "showlegend": true,
         "type": "scatter",
         "x": [
          3,
          4,
          5,
          9,
          25,
          30,
          33,
          34,
          35,
          39,
          41,
          44,
          46,
          47,
          49,
          53,
          55,
          56,
          60,
          77,
          82,
          85,
          86,
          90,
          94,
          96,
          97,
          101,
          102,
          104,
          106,
          108,
          112,
          113,
          117,
          119,
          124,
          132,
          134,
          143,
          145,
          149,
          152,
          154,
          161,
          162,
          163,
          170,
          174,
          176,
          188,
          189,
          192,
          194,
          195,
          198,
          200,
          201,
          202,
          209,
          211,
          212,
          222,
          223,
          227,
          228,
          229,
          236,
          238,
          242,
          250,
          251,
          254,
          255,
          256,
          257,
          265,
          267,
          274,
          275,
          282,
          283,
          294,
          297,
          300,
          305,
          306,
          312,
          315,
          322,
          324,
          337,
          344,
          348,
          350,
          351,
          352,
          355,
          361,
          368,
          371,
          375,
          381,
          382,
          384,
          388,
          390,
          395,
          396,
          400,
          401,
          402,
          404,
          405,
          416,
          424,
          434,
          436,
          438,
          439,
          453,
          454,
          456,
          458,
          459,
          465,
          473,
          478,
          479,
          483,
          486,
          492,
          495,
          496,
          497,
          498,
          501,
          504,
          507,
          508,
          509,
          513,
          519,
          521,
          524,
          526,
          529,
          538,
          555,
          560,
          561,
          564,
          565,
          566,
          578,
          581,
          582,
          594,
          599,
          602,
          606,
          612,
          614,
          618,
          619,
          629,
          633,
          638,
          639,
          641,
          643,
          650,
          651,
          654,
          659,
          666,
          674,
          676,
          680,
          681,
          682,
          684,
          685,
          701,
          702,
          708,
          709,
          713,
          720,
          728,
          730,
          731,
          739,
          746,
          749,
          752,
          758,
          759,
          761,
          762,
          769,
          772,
          773,
          774,
          779,
          781,
          796,
          800,
          805,
          806,
          808,
          810,
          811,
          814,
          816,
          826,
          827,
          834,
          837,
          842,
          844,
          859,
          868,
          872,
          875,
          876,
          881,
          885,
          895,
          899,
          908,
          922,
          928,
          931,
          932,
          933,
          937,
          938,
          951,
          960,
          962,
          966,
          967,
          980,
          982,
          983,
          991,
          993,
          997
         ],
         "xaxis": "x",
         "y": [
          19461.56000000001,
          13197.539999999995,
          21677.880000000005,
          19863.759999999995,
          20373.14,
          19955.29999999999,
          20458.98,
          14679.189999999991,
          12934.409999999996,
          17483.73999999998,
          32308.149999999998,
          15408.800000000008,
          28107.83999999999,
          14852.299999999992,
          19263.65,
          22164.989999999994,
          13407.47999999999,
          28876.550000000003,
          29533.51,
          22294.71000000001,
          23267.770000000022,
          27711.570000000003,
          13614.039999999994,
          31390.160000000003,
          31597.66000000001,
          14689.169999999996,
          29273.680000000004,
          14252.92,
          33578.19000000002,
          29103.95,
          30866.630000000005,
          26165.99,
          16447.329999999998,
          15030.97,
          33034.49000000003,
          27609.02,
          19299.27,
          20524.460000000003,
          27974.59999999997,
          13450.8,
          33477.579999999994,
          12940.120000000004,
          15969.620000000004,
          17333.02000000001,
          12657.899999999983,
          28153.49,
          16455.879999999997,
          33166.60999999998,
          20875.569999999985,
          17267.949999999997,
          12439.49,
          22071.15000000001,
          24783.64999999997,
          11770.39,
          17130.820000000003,
          14856.86000000001,
          22299.439999999988,
          25235.92000000001,
          20939.23000000001,
          19820.47,
          24630.599999999988,
          29312.93,
          30770.779999999995,
          19025.32,
          28940.35,
          15511.599999999997,
          12075.629999999985,
          26472.640000000003,
          28544.94,
          20567.89000000001,
          19977.86999999999,
          32782.46000000001,
          19926.04999999998,
          15243.720000000008,
          14842.350000000004,
          22376.76000000001,
          24079.04,
          14722.03,
          14424.129999999996,
          24763.26,
          29329.999999999975,
          26009.76000000001,
          25725.93999999999,
          12760.229999999983,
          17114.16999999999,
          23748.1,
          32521.38,
          21497.92,
          32091.99,
          19957.63,
          21785.72,
          32777.219999999965,
          18358.390000000007,
          17057.350000000002,
          14255.219999999996,
          27618.219999999976,
          13211.550000000008,
          19265.34,
          14875.639999999989,
          13377.540000000034,
          22538.060000000005,
          15424.989999999993,
          24644.540000000008,
          32166.280000000013,
          33788.959999999985,
          15334.759999999997,
          18763.110000000008,
          17763.990000000005,
          33542.41,
          16654.639999999992,
          12434.7,
          13919.020000000006,
          19292.719999999998,
          24386.97,
          24529.73000000001,
          13553.669999999996,
          24708.180000000015,
          18603.7,
          15220.770000000008,
          25729.27,
          12694.709999999994,
          13010.519999999997,
          19957.399999999998,
          30107.63999999999,
          15678.090000000007,
          29602.17,
          18481.9,
          20280.68,
          17655.109999999993,
          33313.75000000001,
          17418.36,
          21003.23999999999,
          23006.93,
          21620.27,
          12467.509999999984,
          11614.690000000008,
          22194.86,
          24081.21,
          13695.14,
          25979.61,
          28423.389999999992,
          20014.449999999997,
          26909.570000000007,
          21792.21,
          25670.84999999999,
          24995.139999999985,
          15714.769999999991,
          15458.459999999995,
          26339.26000000001,
          12935.609999999995,
          21653.35,
          33336.16,
          20525.77,
          13802.429999999997,
          11621.169999999998,
          29764.67,
          11723.3,
          22871.31,
          28603.20000000001,
          20119.83,
          32124.629999999983,
          13352.690000000008,
          24429.250000000025,
          16534.760000000002,
          30770.18,
          30255.810000000005,
          32440.67000000001,
          19341.19,
          23767.600000000013,
          17714.929999999997,
          27655.509999999995,
          24148.989999999994,
          29778.26000000001,
          27003.540000000005,
          30920.12000000001,
          16712.74000000001,
          26741.500000000007,
          11697.769999999997,
          29643.65,
          19004.62999999999,
          14495.29000000001,
          18485.37000000001,
          28322.770000000004,
          14502.429999999988,
          15184.19,
          14528.579999999996,
          18148.49,
          24571.72000000001,
          28648.37000000001,
          26892.409999999985,
          13064.999999999996,
          16268.020000000006,
          11738.349999999991,
          13140.679999999998,
          19764.44,
          25875.000000000004,
          29116.16999999999,
          27325.62999999999,
          21444.25,
          30918.080000000005,
          12292.180000000006,
          23786.800000000017,
          20722.599999999995,
          26634.399999999987,
          15370.330000000002,
          14102.079999999993,
          17175.37000000001,
          22446.31,
          12478.81000000001,
          12932.069999999989,
          32992.26000000002,
          16570.43000000001,
          23251.52999999999,
          19084.52,
          18628.42000000001,
          26440.840000000007,
          17788.250000000007,
          15142.779999999995,
          25982.42000000001,
          18283.47,
          13891.759999999987,
          13317.150000000003,
          16354.829999999996,
          17579.48999999999,
          16884.65000000001,
          13974.82,
          31954.14,
          21928.039999999997,
          31038.090000000007,
          12201.819999999992,
          16088.409999999982,
          15859.55999999999,
          16089.490000000002,
          15247.75,
          15291.839999999993,
          22495.77,
          31765.419999999987,
          12932.35,
          24401.26000000001,
          12225.509999999997,
          14492.840000000002,
          19948.770000000008,
          19194.430000000004,
          18537.45,
          28682.48,
          29187.790000000005,
          32145.32,
          29401.580000000016,
          21578.33000000001
         ],
         "yaxis": "y"
        },
        {
         "hovertemplate": "classificacao=baixa<br>index=%{x}<br>saldo_disponivel=%{y}<extra></extra>",
         "legendgroup": "baixa",
         "marker": {
          "color": "#00cc96",
          "symbol": "circle"
         },
         "mode": "markers",
         "name": "baixa",
         "orientation": "v",
         "showlegend": true,
         "type": "scatter",
         "x": [
          8,
          15,
          19,
          21,
          29,
          37,
          40,
          48,
          52,
          62,
          64,
          66,
          79,
          84,
          100,
          107,
          109,
          118,
          120,
          125,
          127,
          136,
          146,
          153,
          155,
          156,
          172,
          179,
          183,
          185,
          186,
          203,
          207,
          214,
          216,
          218,
          232,
          233,
          241,
          252,
          258,
          261,
          264,
          268,
          276,
          277,
          278,
          280,
          288,
          292,
          293,
          299,
          303,
          304,
          308,
          317,
          320,
          323,
          326,
          330,
          339,
          340,
          345,
          347,
          353,
          354,
          362,
          365,
          372,
          374,
          378,
          389,
          391,
          392,
          393,
          397,
          403,
          409,
          413,
          415,
          417,
          422,
          426,
          430,
          432,
          441,
          443,
          446,
          449,
          452,
          461,
          463,
          467,
          468,
          470,
          472,
          476,
          477,
          480,
          481,
          482,
          484,
          487,
          488,
          489,
          499,
          500,
          502,
          515,
          517,
          522,
          525,
          532,
          535,
          537,
          539,
          540,
          544,
          549,
          550,
          551,
          552,
          554,
          570,
          571,
          572,
          579,
          584,
          585,
          595,
          596,
          597,
          601,
          610,
          615,
          616,
          617,
          620,
          621,
          623,
          624,
          626,
          630,
          635,
          636,
          646,
          647,
          652,
          653,
          655,
          657,
          658,
          664,
          665,
          669,
          688,
          694,
          703,
          707,
          710,
          711,
          715,
          718,
          719,
          721,
          733,
          737,
          740,
          741,
          750,
          754,
          755,
          756,
          760,
          765,
          768,
          778,
          780,
          782,
          785,
          790,
          791,
          794,
          795,
          797,
          798,
          802,
          807,
          809,
          813,
          817,
          818,
          823,
          825,
          828,
          829,
          847,
          852,
          855,
          857,
          858,
          861,
          863,
          865,
          866,
          869,
          870,
          871,
          873,
          879,
          883,
          886,
          887,
          889,
          890,
          891,
          900,
          902,
          903,
          913,
          914,
          915,
          916,
          919,
          924,
          926,
          929,
          936,
          942,
          943,
          944,
          945,
          946,
          949,
          950,
          955,
          956,
          958,
          959,
          961,
          963,
          964,
          968,
          975,
          976,
          978,
          979,
          984,
          989,
          990
         ],
         "xaxis": "x",
         "y": [
          616.7900000000002,
          335.3800000000008,
          44.86000000000001,
          812.5600000000035,
          74.5299999999999,
          52.13000000000648,
          37.57000000000168,
          697.9799999999996,
          78.94999999999986,
          164.3100000000003,
          270.1800000000054,
          155.7200000000003,
          21.400000000000382,
          54.71999999999517,
          16.22000000000142,
          577.4000000000003,
          134.1999999999998,
          116.36000000000104,
          393.61999999999927,
          322.2600000000002,
          116.0499999999997,
          12.040000000000893,
          7.339999999999648,
          5.350000000000263,
          760.3900000000001,
          334.3100000000003,
          263.32000000000124,
          305.04,
          0.6000000000004135,
          228.68,
          253.21000000000063,
          61.300000000000075,
          128.34999999999877,
          195.38000000000017,
          40.060000000000045,
          34.61000000000276,
          477.9500000000001,
          156.1499999999995,
          536.7199999999993,
          24.180000000000945,
          783.199999999999,
          538.6499999999992,
          56.559999999999874,
          200.49000000000024,
          11.269999999999255,
          254.4300000000002,
          139.20999999999944,
          650.8599999999997,
          871.17,
          427.07999999999055,
          624.8199999999997,
          316.6800000000012,
          202.0699999999999,
          26.09000000000011,
          97.48999999999968,
          19.700000000000895,
          78.42000000000002,
          179.6499999999999,
          619.9799999999996,
          237.1200000000004,
          9.760000000000076,
          102.7700000000045,
          301.41999999999933,
          101.63000000000424,
          76.57999999999971,
          509.95000000000994,
          60.279999999995674,
          507.200000000001,
          12.229999999999622,
          698.3299999999998,
          396.5300000000013,
          349.4800000000004,
          918.39,
          809.3499999999974,
          46.71000000000062,
          20.830000000000496,
          340.18000000000006,
          308.99,
          197.93,
          26.33999999999976,
          294.92999999999944,
          275.2100000000001,
          12.719999999999883,
          744.27,
          786.3600000000007,
          438.38,
          186.15999999999983,
          160.81000000000105,
          524.2000000000003,
          37.669999999998886,
          253.59000000000012,
          659.1999999999994,
          31.699999999999363,
          842.2899999999988,
          21.65999999999992,
          19.21000000000088,
          237.6,
          103.15999999999951,
          764.3600000000004,
          241.97999999999968,
          47.8800000000021,
          96.51999999999992,
          822.9700000000001,
          702.0800000000002,
          67.79000000000212,
          2.570000000018503,
          354.60000000000014,
          253.86000000000143,
          239.80000000000024,
          579.95,
          689.6500000000012,
          21.570000000002,
          16.42999999999705,
          106.61999999999998,
          407.8700000000002,
          71.91999999999945,
          823.3000000000054,
          208.1500000000008,
          180.19999999999987,
          30.71000000000322,
          244.5599999999997,
          885.0999999999992,
          32.2900000000006,
          439.0999999999996,
          63.930000000000064,
          608.3100000000011,
          146.28000000000017,
          769.6799999999998,
          498.36000000000087,
          684.2800000000008,
          179.30999999999972,
          39.95000000000084,
          228.03999999999988,
          370.66,
          47.30000000000027,
          239.8000000000011,
          96.0199999999996,
          328.6600000000002,
          29.59999999999404,
          3.5299999999989207,
          801.7199999999998,
          84.08000000000064,
          349.81000000000006,
          729.1300000000003,
          401.64999999999935,
          879.13,
          72.7200000000015,
          98.43999999999976,
          71.32000000000038,
          101.75999999999983,
          74.02999999999983,
          290.31000000000034,
          609.1500000000001,
          187.91999999999888,
          118.65000000000012,
          328.2600000000006,
          370.29999999999984,
          392.94000000000017,
          31.210000000000008,
          873.5999999999988,
          233.56000000000049,
          285.2600000000002,
          249.03999999999976,
          83.89999999999687,
          148.95999999999984,
          810.2799999999991,
          152.00999999999974,
          171.20000000000385,
          67.71000000000055,
          23.430000000000856,
          11.879999999999972,
          264.7300000000027,
          163.9500000000006,
          410.8099999999996,
          494.70000000000016,
          669.5500000000004,
          139.4699999999998,
          308.3699999999998,
          187.19000000000028,
          5.730000000000221,
          11.61000000000007,
          270.0899999999995,
          209.44999999999985,
          225.71000000000032,
          770.500000000008,
          223.20999999999992,
          212.94000000000003,
          298.54,
          292.6500000000015,
          17.600000000000705,
          405.4100000000015,
          212.4999999999996,
          186.78999999999996,
          29.70000000000016,
          103.13000000000146,
          709.0100000000001,
          529.5300000000002,
          377.69000000000045,
          789.1600000000002,
          98.6699999999996,
          133.8899999999999,
          512.9299999999985,
          577.5899999999988,
          51.65000000000024,
          576.9599999999999,
          357.2700000000001,
          35.29999999999993,
          146.4899999999999,
          411.6400000000005,
          167.8500000000003,
          51.5600000000001,
          548.6799999999993,
          78.30000000000011,
          187.48000000000323,
          33.559999999999725,
          26.170000000000115,
          13.080000000000156,
          10.869999999999877,
          128.1699999999987,
          331.30999999999995,
          243.4099999999995,
          568.8000000000004,
          57.039999999999765,
          652.9399999999988,
          310.44999999999965,
          297.91999999999933,
          635.6200000000001,
          297.1099999999872,
          55.00000000000002,
          400.94999999999993,
          218.06000000000049,
          502.4600000000004,
          8.359999999999875,
          17.210000000000328,
          67.74999999999915,
          103.47999999999976,
          437.6999999999997,
          610.8900000000003,
          75.28000000000006,
          92.12000000000015,
          223.73000000000027,
          232.7799999999998,
          124.26000000000138,
          257.7499999999999,
          383.6099999999995,
          78.43999999999563,
          444.63000000000017,
          235.75999999999976,
          91.53000000000131,
          642.8000000000004
         ],
         "yaxis": "y"
        },
        {
         "hovertemplate": "classificacao=alta<br>index=%{x}<br>saldo_disponivel=%{y}<extra></extra>",
         "legendgroup": "alta",
         "marker": {
          "color": "#ab63fa",
          "symbol": "circle"
         },
         "mode": "markers",
         "name": "alta",
         "orientation": "v",
         "showlegend": true,
         "type": "scatter",
         "x": [
          10,
          11,
          13,
          14,
          17,
          27,
          28,
          38,
          42,
          54,
          57,
          65,
          68,
          69,
          72,
          74,
          80,
          87,
          88,
          99,
          103,
          105,
          110,
          116,
          121,
          122,
          123,
          131,
          133,
          135,
          139,
          141,
          147,
          148,
          150,
          151,
          157,
          158,
          173,
          175,
          182,
          199,
          208,
          213,
          215,
          219,
          235,
          239,
          244,
          246,
          249,
          253,
          259,
          263,
          266,
          272,
          279,
          281,
          284,
          286,
          291,
          295,
          296,
          313,
          319,
          331,
          332,
          333,
          334,
          335,
          336,
          341,
          342,
          364,
          367,
          373,
          380,
          387,
          398,
          407,
          408,
          414,
          420,
          425,
          433,
          435,
          437,
          447,
          464,
          469,
          485,
          494,
          505,
          506,
          510,
          518,
          523,
          530,
          531,
          543,
          556,
          576,
          593,
          607,
          609,
          625,
          631,
          632,
          642,
          644,
          645,
          648,
          670,
          671,
          672,
          675,
          683,
          687,
          689,
          691,
          692,
          693,
          697,
          700,
          705,
          706,
          716,
          725,
          735,
          736,
          753,
          757,
          766,
          771,
          777,
          786,
          787,
          793,
          801,
          804,
          819,
          820,
          822,
          830,
          833,
          841,
          843,
          846,
          848,
          849,
          851,
          853,
          854,
          856,
          862,
          874,
          880,
          884,
          888,
          893,
          894,
          901,
          905,
          907,
          909,
          911,
          912,
          917,
          923,
          927,
          935,
          939,
          940,
          957,
          970,
          973,
          974,
          981,
          985,
          995
         ],
         "xaxis": "x",
         "y": [
          55917.15,
          35288.34,
          34545.61999999999,
          80952.72000000003,
          54240.69,
          66507.14,
          41016.19999999999,
          52418.23999999999,
          38894.44000000001,
          34449.169999999984,
          43787.35999999999,
          41516.750000000015,
          41331.12,
          67091.37000000001,
          71851.76000000001,
          78745.64,
          45546.6,
          43554.02999999999,
          68837.84999999999,
          65137.83000000001,
          49224.08,
          56551.49,
          49969.30000000004,
          56919.71000000001,
          64200.64,
          46241.16999999998,
          47060.44,
          64049.89000000007,
          52048.079999999994,
          37827.95999999999,
          48308.97000000001,
          42951.11999999998,
          36788.9,
          39530.31,
          49096.21000000001,
          40881.44,
          37024.01,
          40313.21,
          38525.41000000002,
          34583.48,
          40234.87999999999,
          70325.65,
          44058.34,
          45922.630000000005,
          40067.48,
          47398.84,
          38336.69000000001,
          74114.26000000001,
          37148.300000000025,
          34398.15000000001,
          66086.48000000003,
          46356.45,
          69922.47999999997,
          51659.170000000006,
          57526.37999999999,
          67700.81000000003,
          79023.89000000001,
          39429.829999999965,
          48268.47000000001,
          82556.41,
          34907.80000000001,
          77835.11,
          75739.06999999998,
          40667.300000000025,
          43485.13999999999,
          48608.92999999997,
          66372.28,
          82151.29,
          74084.73999999996,
          79474.92000000001,
          42369.57999999998,
          44492.25,
          66842.31,
          49628.380000000005,
          44209.509999999966,
          34814.880000000005,
          35985.860000000015,
          41896.72999999999,
          44909.55000000003,
          54060.360000000015,
          53607.32000000001,
          65285.170000000006,
          43828.91,
          48084.299999999996,
          34541.16,
          83239.81,
          56789.220000000016,
          41996.880000000005,
          36353.97,
          44817.87,
          42606.490000000005,
          34565.509999999995,
          36812.24,
          51760.47,
          54610.49,
          82074.94999999998,
          50163.84,
          45918.69000000001,
          40732.589999999975,
          50324.19000000002,
          74061.32999999997,
          36237.31000000002,
          44858.96,
          37538.71000000001,
          51891.34999999996,
          34524.92999999999,
          34063.459999999985,
          46508.29,
          74679.16999999998,
          82933.80000000002,
          71467.53999999996,
          64114.91999999999,
          53350.32,
          42763.73,
          49952.45000000002,
          45095.630000000005,
          44463.939999999995,
          61092.73,
          35527.58999999999,
          71055.32999999997,
          49975.52999999998,
          52158.79000000001,
          55301.670000000006,
          38945.42999999999,
          53347.529999999984,
          43163.69999999999,
          67382.17000000001,
          75325.04,
          38036.239999999976,
          41083.45999999999,
          61304.339999999975,
          62273.860000000015,
          78285.28000000001,
          49705.31999999999,
          38096.67,
          71872.79999999999,
          57631.09,
          61857.219999999965,
          67168.87000000001,
          37774.10999999997,
          49629.64000000001,
          57199.63,
          50612.740000000005,
          37852.089999999975,
          48405.149999999994,
          36169.339999999975,
          57884.81000000004,
          45107.740000000005,
          56176.70999999999,
          58427.81,
          38393.27999999998,
          70788.36000000003,
          58782.09000000001,
          40696.79000000001,
          50042.79,
          64946.45999999996,
          77618.77,
          46013.39,
          38511.37999999999,
          51296.899999999994,
          50265.66,
          46232.240000000005,
          49704.079999999994,
          46182.70999999999,
          55598.11999999998,
          59617.24999999999,
          50788.54999999998,
          38090.6,
          36479.200000000004,
          36903.26,
          82534.20000000001,
          56521.820000000014,
          37588.74999999998,
          57983.03999999996,
          80069.17999999996,
          57686.21999999995,
          40913.97000000001,
          37095.21,
          47220.720000000016,
          64823.140000000014
         ],
         "yaxis": "y"
        },
        {
         "hovertemplate": "classificacao=Premium<br>index=%{x}<br>saldo_disponivel=%{y}<extra></extra>",
         "legendgroup": "Premium",
         "marker": {
          "color": "#FFA15A",
          "symbol": "circle"
         },
         "mode": "markers",
         "name": "Premium",
         "orientation": "v",
         "showlegend": true,
         "type": "scatter",
         "x": [
          16,
          18,
          23,
          26,
          36,
          58,
          63,
          67,
          78,
          92,
          111,
          129,
          137,
          159,
          165,
          166,
          180,
          181,
          184,
          196,
          205,
          240,
          269,
          273,
          289,
          307,
          316,
          346,
          376,
          386,
          394,
          410,
          418,
          421,
          440,
          451,
          490,
          511,
          516,
          520,
          558,
          567,
          580,
          583,
          590,
          598,
          600,
          605,
          628,
          640,
          678,
          696,
          698,
          704,
          724,
          726,
          729,
          744,
          751,
          764,
          767,
          803,
          831,
          838,
          878,
          896,
          921,
          930,
          952,
          988
         ],
         "xaxis": "x",
         "y": [
          168407.87999999998,
          83480.03999999992,
          163409.6799999999,
          87609.81999999996,
          94200.57999999999,
          126887.95,
          99717.26999999996,
          211636.0400000001,
          87482.30000000002,
          101572.38,
          110336.89,
          115048.84000000004,
          191520.6000000001,
          151644.4,
          196440.97,
          84439.77000000003,
          117253.54,
          109905.99,
          170283.25000000003,
          122476.89,
          231759.98000000004,
          107914.04,
          130458.18000000002,
          139067.40000000002,
          99486.45,
          120169.18999999994,
          90717.11,
          108046.82,
          172773.52999999994,
          86317.92999999996,
          96197.7900000001,
          148919.10000000003,
          109931.59999999998,
          108338.43,
          333783.57000000007,
          146962.43,
          377919.46,
          88192.7,
          130201.50999999988,
          84678.16,
          101639.81000000004,
          158495.12999999998,
          142774.91999999998,
          95089.16,
          84354.36,
          90516.73999999996,
          101404.81,
          97788.51000000001,
          217787.98,
          181219.00999999992,
          103374.03,
          121260.38000000002,
          411617.06,
          141742.22000000003,
          251588.81,
          86746.65999999997,
          107095.24000000002,
          98589.37999999996,
          103238.16999999995,
          85291.46000000002,
          177022.98,
          99308.13,
          179836.58999999994,
          215962.42000000004,
          105076.54,
          139689.9400000001,
          112686.21000000002,
          91423.61,
          122899.56999999998,
          143607.0400000001
         ],
         "yaxis": "y"
        }
       ],
       "layout": {
        "legend": {
         "title": {
          "text": "classificacao"
         },
         "tracegroupgap": 0
        },
        "margin": {
         "t": 60
        },
        "template": {
         "data": {
          "bar": [
           {
            "error_x": {
             "color": "#2a3f5f"
            },
            "error_y": {
             "color": "#2a3f5f"
            },
            "marker": {
             "line": {
              "color": "#E5ECF6",
              "width": 0.5
             },
             "pattern": {
              "fillmode": "overlay",
              "size": 10,
              "solidity": 0.2
             }
            },
            "type": "bar"
           }
          ],
          "barpolar": [
           {
            "marker": {
             "line": {
              "color": "#E5ECF6",
              "width": 0.5
             },
             "pattern": {
              "fillmode": "overlay",
              "size": 10,
              "solidity": 0.2
             }
            },
            "type": "barpolar"
           }
          ],
          "carpet": [
           {
            "aaxis": {
             "endlinecolor": "#2a3f5f",
             "gridcolor": "white",
             "linecolor": "white",
             "minorgridcolor": "white",
             "startlinecolor": "#2a3f5f"
            },
            "baxis": {
             "endlinecolor": "#2a3f5f",
             "gridcolor": "white",
             "linecolor": "white",
             "minorgridcolor": "white",
             "startlinecolor": "#2a3f5f"
            },
            "type": "carpet"
           }
          ],
          "choropleth": [
           {
            "colorbar": {
             "outlinewidth": 0,
             "ticks": ""
            },
            "type": "choropleth"
           }
          ],
          "contour": [
           {
            "colorbar": {
             "outlinewidth": 0,
             "ticks": ""
            },
            "colorscale": [
             [
              0,
              "#0d0887"
             ],
             [
              0.1111111111111111,
              "#46039f"
             ],
             [
              0.2222222222222222,
              "#7201a8"
             ],
             [
              0.3333333333333333,
              "#9c179e"
             ],
             [
              0.4444444444444444,
              "#bd3786"
             ],
             [
              0.5555555555555556,
              "#d8576b"
             ],
             [
              0.6666666666666666,
              "#ed7953"
             ],
             [
              0.7777777777777778,
              "#fb9f3a"
             ],
             [
              0.8888888888888888,
              "#fdca26"
             ],
             [
              1,
              "#f0f921"
             ]
            ],
            "type": "contour"
           }
          ],
          "contourcarpet": [
           {
            "colorbar": {
             "outlinewidth": 0,
             "ticks": ""
            },
            "type": "contourcarpet"
           }
          ],
          "heatmap": [
           {
            "colorbar": {
             "outlinewidth": 0,
             "ticks": ""
            },
            "colorscale": [
             [
              0,
              "#0d0887"
             ],
             [
              0.1111111111111111,
              "#46039f"
             ],
             [
              0.2222222222222222,
              "#7201a8"
             ],
             [
              0.3333333333333333,
              "#9c179e"
             ],
             [
              0.4444444444444444,
              "#bd3786"
             ],
             [
              0.5555555555555556,
              "#d8576b"
             ],
             [
              0.6666666666666666,
              "#ed7953"
             ],
             [
              0.7777777777777778,
              "#fb9f3a"
             ],
             [
              0.8888888888888888,
              "#fdca26"
             ],
             [
              1,
              "#f0f921"
             ]
            ],
            "type": "heatmap"
           }
          ],
          "heatmapgl": [
           {
            "colorbar": {
             "outlinewidth": 0,
             "ticks": ""
            },
            "colorscale": [
             [
              0,
              "#0d0887"
             ],
             [
              0.1111111111111111,
              "#46039f"
             ],
             [
              0.2222222222222222,
              "#7201a8"
             ],
             [
              0.3333333333333333,
              "#9c179e"
             ],
             [
              0.4444444444444444,
              "#bd3786"
             ],
             [
              0.5555555555555556,
              "#d8576b"
             ],
             [
              0.6666666666666666,
              "#ed7953"
             ],
             [
              0.7777777777777778,
              "#fb9f3a"
             ],
             [
              0.8888888888888888,
              "#fdca26"
             ],
             [
              1,
              "#f0f921"
             ]
            ],
            "type": "heatmapgl"
           }
          ],
          "histogram": [
           {
            "marker": {
             "pattern": {
              "fillmode": "overlay",
              "size": 10,
              "solidity": 0.2
             }
            },
            "type": "histogram"
           }
          ],
          "histogram2d": [
           {
            "colorbar": {
             "outlinewidth": 0,
             "ticks": ""
            },
            "colorscale": [
             [
              0,
              "#0d0887"
             ],
             [
              0.1111111111111111,
              "#46039f"
             ],
             [
              0.2222222222222222,
              "#7201a8"
             ],
             [
              0.3333333333333333,
              "#9c179e"
             ],
             [
              0.4444444444444444,
              "#bd3786"
             ],
             [
              0.5555555555555556,
              "#d8576b"
             ],
             [
              0.6666666666666666,
              "#ed7953"
             ],
             [
              0.7777777777777778,
              "#fb9f3a"
             ],
             [
              0.8888888888888888,
              "#fdca26"
             ],
             [
              1,
              "#f0f921"
             ]
            ],
            "type": "histogram2d"
           }
          ],
          "histogram2dcontour": [
           {
            "colorbar": {
             "outlinewidth": 0,
             "ticks": ""
            },
            "colorscale": [
             [
              0,
              "#0d0887"
             ],
             [
              0.1111111111111111,
              "#46039f"
             ],
             [
              0.2222222222222222,
              "#7201a8"
             ],
             [
              0.3333333333333333,
              "#9c179e"
             ],
             [
              0.4444444444444444,
              "#bd3786"
             ],
             [
              0.5555555555555556,
              "#d8576b"
             ],
             [
              0.6666666666666666,
              "#ed7953"
             ],
             [
              0.7777777777777778,
              "#fb9f3a"
             ],
             [
              0.8888888888888888,
              "#fdca26"
             ],
             [
              1,
              "#f0f921"
             ]
            ],
            "type": "histogram2dcontour"
           }
          ],
          "mesh3d": [
           {
            "colorbar": {
             "outlinewidth": 0,
             "ticks": ""
            },
            "type": "mesh3d"
           }
          ],
          "parcoords": [
           {
            "line": {
             "colorbar": {
              "outlinewidth": 0,
              "ticks": ""
             }
            },
            "type": "parcoords"
           }
          ],
          "pie": [
           {
            "automargin": true,
            "type": "pie"
           }
          ],
          "scatter": [
           {
            "marker": {
             "colorbar": {
              "outlinewidth": 0,
              "ticks": ""
             }
            },
            "type": "scatter"
           }
          ],
          "scatter3d": [
           {
            "line": {
             "colorbar": {
              "outlinewidth": 0,
              "ticks": ""
             }
            },
            "marker": {
             "colorbar": {
              "outlinewidth": 0,
              "ticks": ""
             }
            },
            "type": "scatter3d"
           }
          ],
          "scattercarpet": [
           {
            "marker": {
             "colorbar": {
              "outlinewidth": 0,
              "ticks": ""
             }
            },
            "type": "scattercarpet"
           }
          ],
          "scattergeo": [
           {
            "marker": {
             "colorbar": {
              "outlinewidth": 0,
              "ticks": ""
             }
            },
            "type": "scattergeo"
           }
          ],
          "scattergl": [
           {
            "marker": {
             "colorbar": {
              "outlinewidth": 0,
              "ticks": ""
             }
            },
            "type": "scattergl"
           }
          ],
          "scattermapbox": [
           {
            "marker": {
             "colorbar": {
              "outlinewidth": 0,
              "ticks": ""
             }
            },
            "type": "scattermapbox"
           }
          ],
          "scatterpolar": [
           {
            "marker": {
             "colorbar": {
              "outlinewidth": 0,
              "ticks": ""
             }
            },
            "type": "scatterpolar"
           }
          ],
          "scatterpolargl": [
           {
            "marker": {
             "colorbar": {
              "outlinewidth": 0,
              "ticks": ""
             }
            },
            "type": "scatterpolargl"
           }
          ],
          "scatterternary": [
           {
            "marker": {
             "colorbar": {
              "outlinewidth": 0,
              "ticks": ""
             }
            },
            "type": "scatterternary"
           }
          ],
          "surface": [
           {
            "colorbar": {
             "outlinewidth": 0,
             "ticks": ""
            },
            "colorscale": [
             [
              0,
              "#0d0887"
             ],
             [
              0.1111111111111111,
              "#46039f"
             ],
             [
              0.2222222222222222,
              "#7201a8"
             ],
             [
              0.3333333333333333,
              "#9c179e"
             ],
             [
              0.4444444444444444,
              "#bd3786"
             ],
             [
              0.5555555555555556,
              "#d8576b"
             ],
             [
              0.6666666666666666,
              "#ed7953"
             ],
             [
              0.7777777777777778,
              "#fb9f3a"
             ],
             [
              0.8888888888888888,
              "#fdca26"
             ],
             [
              1,
              "#f0f921"
             ]
            ],
            "type": "surface"
           }
          ],
          "table": [
           {
            "cells": {
             "fill": {
              "color": "#EBF0F8"
             },
             "line": {
              "color": "white"
             }
            },
            "header": {
             "fill": {
              "color": "#C8D4E3"
             },
             "line": {
              "color": "white"
             }
            },
            "type": "table"
           }
          ]
         },
         "layout": {
          "annotationdefaults": {
           "arrowcolor": "#2a3f5f",
           "arrowhead": 0,
           "arrowwidth": 1
          },
          "autotypenumbers": "strict",
          "coloraxis": {
           "colorbar": {
            "outlinewidth": 0,
            "ticks": ""
           }
          },
          "colorscale": {
           "diverging": [
            [
             0,
             "#8e0152"
            ],
            [
             0.1,
             "#c51b7d"
            ],
            [
             0.2,
             "#de77ae"
            ],
            [
             0.3,
             "#f1b6da"
            ],
            [
             0.4,
             "#fde0ef"
            ],
            [
             0.5,
             "#f7f7f7"
            ],
            [
             0.6,
             "#e6f5d0"
            ],
            [
             0.7,
             "#b8e186"
            ],
            [
             0.8,
             "#7fbc41"
            ],
            [
             0.9,
             "#4d9221"
            ],
            [
             1,
             "#276419"
            ]
           ],
           "sequential": [
            [
             0,
             "#0d0887"
            ],
            [
             0.1111111111111111,
             "#46039f"
            ],
            [
             0.2222222222222222,
             "#7201a8"
            ],
            [
             0.3333333333333333,
             "#9c179e"
            ],
            [
             0.4444444444444444,
             "#bd3786"
            ],
            [
             0.5555555555555556,
             "#d8576b"
            ],
            [
             0.6666666666666666,
             "#ed7953"
            ],
            [
             0.7777777777777778,
             "#fb9f3a"
            ],
            [
             0.8888888888888888,
             "#fdca26"
            ],
            [
             1,
             "#f0f921"
            ]
           ],
           "sequentialminus": [
            [
             0,
             "#0d0887"
            ],
            [
             0.1111111111111111,
             "#46039f"
            ],
            [
             0.2222222222222222,
             "#7201a8"
            ],
            [
             0.3333333333333333,
             "#9c179e"
            ],
            [
             0.4444444444444444,
             "#bd3786"
            ],
            [
             0.5555555555555556,
             "#d8576b"
            ],
            [
             0.6666666666666666,
             "#ed7953"
            ],
            [
             0.7777777777777778,
             "#fb9f3a"
            ],
            [
             0.8888888888888888,
             "#fdca26"
            ],
            [
             1,
             "#f0f921"
            ]
           ]
          },
          "colorway": [
           "#636efa",
           "#EF553B",
           "#00cc96",
           "#ab63fa",
           "#FFA15A",
           "#19d3f3",
           "#FF6692",
           "#B6E880",
           "#FF97FF",
           "#FECB52"
          ],
          "font": {
           "color": "#2a3f5f"
          },
          "geo": {
           "bgcolor": "white",
           "lakecolor": "white",
           "landcolor": "#E5ECF6",
           "showlakes": true,
           "showland": true,
           "subunitcolor": "white"
          },
          "hoverlabel": {
           "align": "left"
          },
          "hovermode": "closest",
          "mapbox": {
           "style": "light"
          },
          "paper_bgcolor": "white",
          "plot_bgcolor": "#E5ECF6",
          "polar": {
           "angularaxis": {
            "gridcolor": "white",
            "linecolor": "white",
            "ticks": ""
           },
           "bgcolor": "#E5ECF6",
           "radialaxis": {
            "gridcolor": "white",
            "linecolor": "white",
            "ticks": ""
           }
          },
          "scene": {
           "xaxis": {
            "backgroundcolor": "#E5ECF6",
            "gridcolor": "white",
            "gridwidth": 2,
            "linecolor": "white",
            "showbackground": true,
            "ticks": "",
            "zerolinecolor": "white"
           },
           "yaxis": {
            "backgroundcolor": "#E5ECF6",
            "gridcolor": "white",
            "gridwidth": 2,
            "linecolor": "white",
            "showbackground": true,
            "ticks": "",
            "zerolinecolor": "white"
           },
           "zaxis": {
            "backgroundcolor": "#E5ECF6",
            "gridcolor": "white",
            "gridwidth": 2,
            "linecolor": "white",
            "showbackground": true,
            "ticks": "",
            "zerolinecolor": "white"
           }
          },
          "shapedefaults": {
           "line": {
            "color": "#2a3f5f"
           }
          },
          "ternary": {
           "aaxis": {
            "gridcolor": "white",
            "linecolor": "white",
            "ticks": ""
           },
           "baxis": {
            "gridcolor": "white",
            "linecolor": "white",
            "ticks": ""
           },
           "bgcolor": "#E5ECF6",
           "caxis": {
            "gridcolor": "white",
            "linecolor": "white",
            "ticks": ""
           }
          },
          "title": {
           "x": 0.05
          },
          "xaxis": {
           "automargin": true,
           "gridcolor": "white",
           "linecolor": "white",
           "ticks": "",
           "title": {
            "standoff": 15
           },
           "zerolinecolor": "white",
           "zerolinewidth": 2
          },
          "yaxis": {
           "automargin": true,
           "gridcolor": "white",
           "linecolor": "white",
           "ticks": "",
           "title": {
            "standoff": 15
           },
           "zerolinecolor": "white",
           "zerolinewidth": 2
          }
         }
        },
        "xaxis": {
         "anchor": "y",
         "domain": [
          0,
          1
         ],
         "title": {
          "text": "index"
         }
        },
        "yaxis": {
         "anchor": "x",
         "domain": [
          0,
          1
         ],
         "title": {
          "text": "saldo_disponivel"
         }
        }
       }
      }
     },
     "metadata": {},
     "output_type": "display_data"
    }
   ],
   "source": [
    "fig = px.scatter(df['contas'], x=df['contas'].index, y='saldo_disponivel', \n",
    "                 color='classificacao')\n",
    "\n",
    "fig.show()\n"
   ]
  },
  {
   "cell_type": "code",
   "execution_count": 13,
   "metadata": {},
   "outputs": [
    {
     "data": {
      "application/vnd.plotly.v1+json": {
       "config": {
        "plotlyServerURL": "https://plot.ly"
       },
       "data": [
        {
         "hovertemplate": "ano_abert=%{x}<br>valores=%{y}<extra></extra>",
         "legendgroup": "",
         "line": {
          "color": "#636efa",
          "dash": "solid"
         },
         "marker": {
          "symbol": "circle"
         },
         "mode": "lines",
         "name": "",
         "orientation": "v",
         "showlegend": false,
         "type": "scatter",
         "x": [
          2010,
          2011,
          2012,
          2013,
          2014,
          2015,
          2016,
          2017,
          2018,
          2019,
          2020,
          2021,
          2022
         ],
         "xaxis": "x",
         "y": [
          11,
          24,
          32,
          47,
          48,
          66,
          74,
          96,
          102,
          113,
          112,
          135,
          139
         ],
         "yaxis": "y"
        }
       ],
       "layout": {
        "legend": {
         "tracegroupgap": 0
        },
        "margin": {
         "t": 60
        },
        "template": {
         "data": {
          "bar": [
           {
            "error_x": {
             "color": "#2a3f5f"
            },
            "error_y": {
             "color": "#2a3f5f"
            },
            "marker": {
             "line": {
              "color": "#E5ECF6",
              "width": 0.5
             },
             "pattern": {
              "fillmode": "overlay",
              "size": 10,
              "solidity": 0.2
             }
            },
            "type": "bar"
           }
          ],
          "barpolar": [
           {
            "marker": {
             "line": {
              "color": "#E5ECF6",
              "width": 0.5
             },
             "pattern": {
              "fillmode": "overlay",
              "size": 10,
              "solidity": 0.2
             }
            },
            "type": "barpolar"
           }
          ],
          "carpet": [
           {
            "aaxis": {
             "endlinecolor": "#2a3f5f",
             "gridcolor": "white",
             "linecolor": "white",
             "minorgridcolor": "white",
             "startlinecolor": "#2a3f5f"
            },
            "baxis": {
             "endlinecolor": "#2a3f5f",
             "gridcolor": "white",
             "linecolor": "white",
             "minorgridcolor": "white",
             "startlinecolor": "#2a3f5f"
            },
            "type": "carpet"
           }
          ],
          "choropleth": [
           {
            "colorbar": {
             "outlinewidth": 0,
             "ticks": ""
            },
            "type": "choropleth"
           }
          ],
          "contour": [
           {
            "colorbar": {
             "outlinewidth": 0,
             "ticks": ""
            },
            "colorscale": [
             [
              0,
              "#0d0887"
             ],
             [
              0.1111111111111111,
              "#46039f"
             ],
             [
              0.2222222222222222,
              "#7201a8"
             ],
             [
              0.3333333333333333,
              "#9c179e"
             ],
             [
              0.4444444444444444,
              "#bd3786"
             ],
             [
              0.5555555555555556,
              "#d8576b"
             ],
             [
              0.6666666666666666,
              "#ed7953"
             ],
             [
              0.7777777777777778,
              "#fb9f3a"
             ],
             [
              0.8888888888888888,
              "#fdca26"
             ],
             [
              1,
              "#f0f921"
             ]
            ],
            "type": "contour"
           }
          ],
          "contourcarpet": [
           {
            "colorbar": {
             "outlinewidth": 0,
             "ticks": ""
            },
            "type": "contourcarpet"
           }
          ],
          "heatmap": [
           {
            "colorbar": {
             "outlinewidth": 0,
             "ticks": ""
            },
            "colorscale": [
             [
              0,
              "#0d0887"
             ],
             [
              0.1111111111111111,
              "#46039f"
             ],
             [
              0.2222222222222222,
              "#7201a8"
             ],
             [
              0.3333333333333333,
              "#9c179e"
             ],
             [
              0.4444444444444444,
              "#bd3786"
             ],
             [
              0.5555555555555556,
              "#d8576b"
             ],
             [
              0.6666666666666666,
              "#ed7953"
             ],
             [
              0.7777777777777778,
              "#fb9f3a"
             ],
             [
              0.8888888888888888,
              "#fdca26"
             ],
             [
              1,
              "#f0f921"
             ]
            ],
            "type": "heatmap"
           }
          ],
          "heatmapgl": [
           {
            "colorbar": {
             "outlinewidth": 0,
             "ticks": ""
            },
            "colorscale": [
             [
              0,
              "#0d0887"
             ],
             [
              0.1111111111111111,
              "#46039f"
             ],
             [
              0.2222222222222222,
              "#7201a8"
             ],
             [
              0.3333333333333333,
              "#9c179e"
             ],
             [
              0.4444444444444444,
              "#bd3786"
             ],
             [
              0.5555555555555556,
              "#d8576b"
             ],
             [
              0.6666666666666666,
              "#ed7953"
             ],
             [
              0.7777777777777778,
              "#fb9f3a"
             ],
             [
              0.8888888888888888,
              "#fdca26"
             ],
             [
              1,
              "#f0f921"
             ]
            ],
            "type": "heatmapgl"
           }
          ],
          "histogram": [
           {
            "marker": {
             "pattern": {
              "fillmode": "overlay",
              "size": 10,
              "solidity": 0.2
             }
            },
            "type": "histogram"
           }
          ],
          "histogram2d": [
           {
            "colorbar": {
             "outlinewidth": 0,
             "ticks": ""
            },
            "colorscale": [
             [
              0,
              "#0d0887"
             ],
             [
              0.1111111111111111,
              "#46039f"
             ],
             [
              0.2222222222222222,
              "#7201a8"
             ],
             [
              0.3333333333333333,
              "#9c179e"
             ],
             [
              0.4444444444444444,
              "#bd3786"
             ],
             [
              0.5555555555555556,
              "#d8576b"
             ],
             [
              0.6666666666666666,
              "#ed7953"
             ],
             [
              0.7777777777777778,
              "#fb9f3a"
             ],
             [
              0.8888888888888888,
              "#fdca26"
             ],
             [
              1,
              "#f0f921"
             ]
            ],
            "type": "histogram2d"
           }
          ],
          "histogram2dcontour": [
           {
            "colorbar": {
             "outlinewidth": 0,
             "ticks": ""
            },
            "colorscale": [
             [
              0,
              "#0d0887"
             ],
             [
              0.1111111111111111,
              "#46039f"
             ],
             [
              0.2222222222222222,
              "#7201a8"
             ],
             [
              0.3333333333333333,
              "#9c179e"
             ],
             [
              0.4444444444444444,
              "#bd3786"
             ],
             [
              0.5555555555555556,
              "#d8576b"
             ],
             [
              0.6666666666666666,
              "#ed7953"
             ],
             [
              0.7777777777777778,
              "#fb9f3a"
             ],
             [
              0.8888888888888888,
              "#fdca26"
             ],
             [
              1,
              "#f0f921"
             ]
            ],
            "type": "histogram2dcontour"
           }
          ],
          "mesh3d": [
           {
            "colorbar": {
             "outlinewidth": 0,
             "ticks": ""
            },
            "type": "mesh3d"
           }
          ],
          "parcoords": [
           {
            "line": {
             "colorbar": {
              "outlinewidth": 0,
              "ticks": ""
             }
            },
            "type": "parcoords"
           }
          ],
          "pie": [
           {
            "automargin": true,
            "type": "pie"
           }
          ],
          "scatter": [
           {
            "marker": {
             "colorbar": {
              "outlinewidth": 0,
              "ticks": ""
             }
            },
            "type": "scatter"
           }
          ],
          "scatter3d": [
           {
            "line": {
             "colorbar": {
              "outlinewidth": 0,
              "ticks": ""
             }
            },
            "marker": {
             "colorbar": {
              "outlinewidth": 0,
              "ticks": ""
             }
            },
            "type": "scatter3d"
           }
          ],
          "scattercarpet": [
           {
            "marker": {
             "colorbar": {
              "outlinewidth": 0,
              "ticks": ""
             }
            },
            "type": "scattercarpet"
           }
          ],
          "scattergeo": [
           {
            "marker": {
             "colorbar": {
              "outlinewidth": 0,
              "ticks": ""
             }
            },
            "type": "scattergeo"
           }
          ],
          "scattergl": [
           {
            "marker": {
             "colorbar": {
              "outlinewidth": 0,
              "ticks": ""
             }
            },
            "type": "scattergl"
           }
          ],
          "scattermapbox": [
           {
            "marker": {
             "colorbar": {
              "outlinewidth": 0,
              "ticks": ""
             }
            },
            "type": "scattermapbox"
           }
          ],
          "scatterpolar": [
           {
            "marker": {
             "colorbar": {
              "outlinewidth": 0,
              "ticks": ""
             }
            },
            "type": "scatterpolar"
           }
          ],
          "scatterpolargl": [
           {
            "marker": {
             "colorbar": {
              "outlinewidth": 0,
              "ticks": ""
             }
            },
            "type": "scatterpolargl"
           }
          ],
          "scatterternary": [
           {
            "marker": {
             "colorbar": {
              "outlinewidth": 0,
              "ticks": ""
             }
            },
            "type": "scatterternary"
           }
          ],
          "surface": [
           {
            "colorbar": {
             "outlinewidth": 0,
             "ticks": ""
            },
            "colorscale": [
             [
              0,
              "#0d0887"
             ],
             [
              0.1111111111111111,
              "#46039f"
             ],
             [
              0.2222222222222222,
              "#7201a8"
             ],
             [
              0.3333333333333333,
              "#9c179e"
             ],
             [
              0.4444444444444444,
              "#bd3786"
             ],
             [
              0.5555555555555556,
              "#d8576b"
             ],
             [
              0.6666666666666666,
              "#ed7953"
             ],
             [
              0.7777777777777778,
              "#fb9f3a"
             ],
             [
              0.8888888888888888,
              "#fdca26"
             ],
             [
              1,
              "#f0f921"
             ]
            ],
            "type": "surface"
           }
          ],
          "table": [
           {
            "cells": {
             "fill": {
              "color": "#EBF0F8"
             },
             "line": {
              "color": "white"
             }
            },
            "header": {
             "fill": {
              "color": "#C8D4E3"
             },
             "line": {
              "color": "white"
             }
            },
            "type": "table"
           }
          ]
         },
         "layout": {
          "annotationdefaults": {
           "arrowcolor": "#2a3f5f",
           "arrowhead": 0,
           "arrowwidth": 1
          },
          "autotypenumbers": "strict",
          "coloraxis": {
           "colorbar": {
            "outlinewidth": 0,
            "ticks": ""
           }
          },
          "colorscale": {
           "diverging": [
            [
             0,
             "#8e0152"
            ],
            [
             0.1,
             "#c51b7d"
            ],
            [
             0.2,
             "#de77ae"
            ],
            [
             0.3,
             "#f1b6da"
            ],
            [
             0.4,
             "#fde0ef"
            ],
            [
             0.5,
             "#f7f7f7"
            ],
            [
             0.6,
             "#e6f5d0"
            ],
            [
             0.7,
             "#b8e186"
            ],
            [
             0.8,
             "#7fbc41"
            ],
            [
             0.9,
             "#4d9221"
            ],
            [
             1,
             "#276419"
            ]
           ],
           "sequential": [
            [
             0,
             "#0d0887"
            ],
            [
             0.1111111111111111,
             "#46039f"
            ],
            [
             0.2222222222222222,
             "#7201a8"
            ],
            [
             0.3333333333333333,
             "#9c179e"
            ],
            [
             0.4444444444444444,
             "#bd3786"
            ],
            [
             0.5555555555555556,
             "#d8576b"
            ],
            [
             0.6666666666666666,
             "#ed7953"
            ],
            [
             0.7777777777777778,
             "#fb9f3a"
            ],
            [
             0.8888888888888888,
             "#fdca26"
            ],
            [
             1,
             "#f0f921"
            ]
           ],
           "sequentialminus": [
            [
             0,
             "#0d0887"
            ],
            [
             0.1111111111111111,
             "#46039f"
            ],
            [
             0.2222222222222222,
             "#7201a8"
            ],
            [
             0.3333333333333333,
             "#9c179e"
            ],
            [
             0.4444444444444444,
             "#bd3786"
            ],
            [
             0.5555555555555556,
             "#d8576b"
            ],
            [
             0.6666666666666666,
             "#ed7953"
            ],
            [
             0.7777777777777778,
             "#fb9f3a"
            ],
            [
             0.8888888888888888,
             "#fdca26"
            ],
            [
             1,
             "#f0f921"
            ]
           ]
          },
          "colorway": [
           "#636efa",
           "#EF553B",
           "#00cc96",
           "#ab63fa",
           "#FFA15A",
           "#19d3f3",
           "#FF6692",
           "#B6E880",
           "#FF97FF",
           "#FECB52"
          ],
          "font": {
           "color": "#2a3f5f"
          },
          "geo": {
           "bgcolor": "white",
           "lakecolor": "white",
           "landcolor": "#E5ECF6",
           "showlakes": true,
           "showland": true,
           "subunitcolor": "white"
          },
          "hoverlabel": {
           "align": "left"
          },
          "hovermode": "closest",
          "mapbox": {
           "style": "light"
          },
          "paper_bgcolor": "white",
          "plot_bgcolor": "#E5ECF6",
          "polar": {
           "angularaxis": {
            "gridcolor": "white",
            "linecolor": "white",
            "ticks": ""
           },
           "bgcolor": "#E5ECF6",
           "radialaxis": {
            "gridcolor": "white",
            "linecolor": "white",
            "ticks": ""
           }
          },
          "scene": {
           "xaxis": {
            "backgroundcolor": "#E5ECF6",
            "gridcolor": "white",
            "gridwidth": 2,
            "linecolor": "white",
            "showbackground": true,
            "ticks": "",
            "zerolinecolor": "white"
           },
           "yaxis": {
            "backgroundcolor": "#E5ECF6",
            "gridcolor": "white",
            "gridwidth": 2,
            "linecolor": "white",
            "showbackground": true,
            "ticks": "",
            "zerolinecolor": "white"
           },
           "zaxis": {
            "backgroundcolor": "#E5ECF6",
            "gridcolor": "white",
            "gridwidth": 2,
            "linecolor": "white",
            "showbackground": true,
            "ticks": "",
            "zerolinecolor": "white"
           }
          },
          "shapedefaults": {
           "line": {
            "color": "#2a3f5f"
           }
          },
          "ternary": {
           "aaxis": {
            "gridcolor": "white",
            "linecolor": "white",
            "ticks": ""
           },
           "baxis": {
            "gridcolor": "white",
            "linecolor": "white",
            "ticks": ""
           },
           "bgcolor": "#E5ECF6",
           "caxis": {
            "gridcolor": "white",
            "linecolor": "white",
            "ticks": ""
           }
          },
          "title": {
           "x": 0.05
          },
          "xaxis": {
           "automargin": true,
           "gridcolor": "white",
           "linecolor": "white",
           "ticks": "",
           "title": {
            "standoff": 15
           },
           "zerolinecolor": "white",
           "zerolinewidth": 2
          },
          "yaxis": {
           "automargin": true,
           "gridcolor": "white",
           "linecolor": "white",
           "ticks": "",
           "title": {
            "standoff": 15
           },
           "zerolinecolor": "white",
           "zerolinewidth": 2
          }
         }
        },
        "xaxis": {
         "anchor": "y",
         "domain": [
          0,
          1
         ],
         "title": {
          "text": "ano_abert"
         }
        },
        "yaxis": {
         "anchor": "x",
         "domain": [
          0,
          1
         ],
         "title": {
          "text": "valores"
         }
        }
       }
      }
     },
     "metadata": {},
     "output_type": "display_data"
    }
   ],
   "source": [
    "ano_abertura = []\n",
    "ano_ultimo_lanc = []\n",
    "\n",
    "for i in df['contas'].index:\n",
    "    ano_abertura.append(int(datetime.strptime(df['contas']['data_abertura'][i].split()[0], \"%Y-%m-%d\").strftime(\"%Y\")))\n",
    "    ano_ultimo_lanc.append(int(datetime.strptime(df['contas']['data_ultimo_lancamento'][i].split()[0], \"%Y-%m-%d\").strftime(\"%Y\")))\n",
    "\n",
    "df['contas']['ano_abertura'] = ano_abertura\n",
    "df['contas']['ano_ultimo_lanc'] = ano_ultimo_lanc\n",
    "\n",
    "ano_abert_df = pd.DataFrame(df['contas']['ano_abertura'].value_counts())\n",
    "ano_abert_df = ano_abert_df.reset_index()\n",
    "ano_abert_df = ano_abert_df.rename(columns={'index': 'ano_abert', 'ano_abertura':'valores'})\n",
    "ano_abert_df = ano_abert_df.sort_values(by='ano_abert')\n",
    "\n",
    "px.line(ano_abert_df, x='ano_abert', y='valores')"
   ]
  },
  {
   "cell_type": "code",
   "execution_count": 14,
   "metadata": {},
   "outputs": [],
   "source": [
    "tempo_inativo = []\n",
    "for i in df['contas'].index:\n",
    "    tempo_inativo.append(df['contas']['ano_ultimo_lanc'][i] - df['contas']['ano_abertura'][i])\n",
    "\n",
    "df['contas']['t_inat'] = tempo_inativo"
   ]
  },
  {
   "cell_type": "code",
   "execution_count": 15,
   "metadata": {},
   "outputs": [
    {
     "data": {
      "application/vnd.plotly.v1+json": {
       "config": {
        "plotlyServerURL": "https://plot.ly"
       },
       "data": [
        {
         "alignmentgroup": "True",
         "boxpoints": "all",
         "hovertemplate": "variable=%{x}<br>value=%{y}<extra></extra>",
         "legendgroup": "",
         "marker": {
          "color": "#636efa"
         },
         "name": "",
         "notched": false,
         "offsetgroup": "",
         "orientation": "v",
         "showlegend": false,
         "type": "box",
         "x": [
          "t_inat",
          "t_inat",
          "t_inat",
          "t_inat",
          "t_inat",
          "t_inat",
          "t_inat",
          "t_inat",
          "t_inat",
          "t_inat",
          "t_inat",
          "t_inat",
          "t_inat",
          "t_inat",
          "t_inat",
          "t_inat",
          "t_inat",
          "t_inat",
          "t_inat",
          "t_inat",
          "t_inat",
          "t_inat",
          "t_inat",
          "t_inat",
          "t_inat",
          "t_inat",
          "t_inat",
          "t_inat",
          "t_inat",
          "t_inat",
          "t_inat",
          "t_inat",
          "t_inat",
          "t_inat",
          "t_inat",
          "t_inat",
          "t_inat",
          "t_inat",
          "t_inat",
          "t_inat",
          "t_inat",
          "t_inat",
          "t_inat",
          "t_inat",
          "t_inat",
          "t_inat",
          "t_inat",
          "t_inat",
          "t_inat",
          "t_inat",
          "t_inat",
          "t_inat",
          "t_inat",
          "t_inat",
          "t_inat",
          "t_inat",
          "t_inat",
          "t_inat",
          "t_inat",
          "t_inat",
          "t_inat",
          "t_inat",
          "t_inat",
          "t_inat",
          "t_inat",
          "t_inat",
          "t_inat",
          "t_inat",
          "t_inat",
          "t_inat",
          "t_inat",
          "t_inat",
          "t_inat",
          "t_inat",
          "t_inat",
          "t_inat",
          "t_inat",
          "t_inat",
          "t_inat",
          "t_inat",
          "t_inat",
          "t_inat",
          "t_inat",
          "t_inat",
          "t_inat",
          "t_inat",
          "t_inat",
          "t_inat",
          "t_inat",
          "t_inat",
          "t_inat",
          "t_inat",
          "t_inat",
          "t_inat",
          "t_inat",
          "t_inat",
          "t_inat",
          "t_inat",
          "t_inat",
          "t_inat",
          "t_inat",
          "t_inat",
          "t_inat",
          "t_inat",
          "t_inat",
          "t_inat",
          "t_inat",
          "t_inat",
          "t_inat",
          "t_inat",
          "t_inat",
          "t_inat",
          "t_inat",
          "t_inat",
          "t_inat",
          "t_inat",
          "t_inat",
          "t_inat",
          "t_inat",
          "t_inat",
          "t_inat",
          "t_inat",
          "t_inat",
          "t_inat",
          "t_inat",
          "t_inat",
          "t_inat",
          "t_inat",
          "t_inat",
          "t_inat",
          "t_inat",
          "t_inat",
          "t_inat",
          "t_inat",
          "t_inat",
          "t_inat",
          "t_inat",
          "t_inat",
          "t_inat",
          "t_inat",
          "t_inat",
          "t_inat",
          "t_inat",
          "t_inat",
          "t_inat",
          "t_inat",
          "t_inat",
          "t_inat",
          "t_inat",
          "t_inat",
          "t_inat",
          "t_inat",
          "t_inat",
          "t_inat",
          "t_inat",
          "t_inat",
          "t_inat",
          "t_inat",
          "t_inat",
          "t_inat",
          "t_inat",
          "t_inat",
          "t_inat",
          "t_inat",
          "t_inat",
          "t_inat",
          "t_inat",
          "t_inat",
          "t_inat",
          "t_inat",
          "t_inat",
          "t_inat",
          "t_inat",
          "t_inat",
          "t_inat",
          "t_inat",
          "t_inat",
          "t_inat",
          "t_inat",
          "t_inat",
          "t_inat",
          "t_inat",
          "t_inat",
          "t_inat",
          "t_inat",
          "t_inat",
          "t_inat",
          "t_inat",
          "t_inat",
          "t_inat",
          "t_inat",
          "t_inat",
          "t_inat",
          "t_inat",
          "t_inat",
          "t_inat",
          "t_inat",
          "t_inat",
          "t_inat",
          "t_inat",
          "t_inat",
          "t_inat",
          "t_inat",
          "t_inat",
          "t_inat",
          "t_inat",
          "t_inat",
          "t_inat",
          "t_inat",
          "t_inat",
          "t_inat",
          "t_inat",
          "t_inat",
          "t_inat",
          "t_inat",
          "t_inat",
          "t_inat",
          "t_inat",
          "t_inat",
          "t_inat",
          "t_inat",
          "t_inat",
          "t_inat",
          "t_inat",
          "t_inat",
          "t_inat",
          "t_inat",
          "t_inat",
          "t_inat",
          "t_inat",
          "t_inat",
          "t_inat",
          "t_inat",
          "t_inat",
          "t_inat",
          "t_inat",
          "t_inat",
          "t_inat",
          "t_inat",
          "t_inat",
          "t_inat",
          "t_inat",
          "t_inat",
          "t_inat",
          "t_inat",
          "t_inat",
          "t_inat",
          "t_inat",
          "t_inat",
          "t_inat",
          "t_inat",
          "t_inat",
          "t_inat",
          "t_inat",
          "t_inat",
          "t_inat",
          "t_inat",
          "t_inat",
          "t_inat",
          "t_inat",
          "t_inat",
          "t_inat",
          "t_inat",
          "t_inat",
          "t_inat",
          "t_inat",
          "t_inat",
          "t_inat",
          "t_inat",
          "t_inat",
          "t_inat",
          "t_inat",
          "t_inat",
          "t_inat",
          "t_inat",
          "t_inat",
          "t_inat",
          "t_inat",
          "t_inat",
          "t_inat",
          "t_inat",
          "t_inat",
          "t_inat",
          "t_inat",
          "t_inat",
          "t_inat",
          "t_inat",
          "t_inat",
          "t_inat",
          "t_inat",
          "t_inat",
          "t_inat",
          "t_inat",
          "t_inat",
          "t_inat",
          "t_inat",
          "t_inat",
          "t_inat",
          "t_inat",
          "t_inat",
          "t_inat",
          "t_inat",
          "t_inat",
          "t_inat",
          "t_inat",
          "t_inat",
          "t_inat",
          "t_inat",
          "t_inat",
          "t_inat",
          "t_inat",
          "t_inat",
          "t_inat",
          "t_inat",
          "t_inat",
          "t_inat",
          "t_inat",
          "t_inat",
          "t_inat",
          "t_inat",
          "t_inat",
          "t_inat",
          "t_inat",
          "t_inat",
          "t_inat",
          "t_inat",
          "t_inat",
          "t_inat",
          "t_inat",
          "t_inat",
          "t_inat",
          "t_inat",
          "t_inat",
          "t_inat",
          "t_inat",
          "t_inat",
          "t_inat",
          "t_inat",
          "t_inat",
          "t_inat",
          "t_inat",
          "t_inat",
          "t_inat",
          "t_inat",
          "t_inat",
          "t_inat",
          "t_inat",
          "t_inat",
          "t_inat",
          "t_inat",
          "t_inat",
          "t_inat",
          "t_inat",
          "t_inat",
          "t_inat",
          "t_inat",
          "t_inat",
          "t_inat",
          "t_inat",
          "t_inat",
          "t_inat",
          "t_inat",
          "t_inat",
          "t_inat",
          "t_inat",
          "t_inat",
          "t_inat",
          "t_inat",
          "t_inat",
          "t_inat",
          "t_inat",
          "t_inat",
          "t_inat",
          "t_inat",
          "t_inat",
          "t_inat",
          "t_inat",
          "t_inat",
          "t_inat",
          "t_inat",
          "t_inat",
          "t_inat",
          "t_inat",
          "t_inat",
          "t_inat",
          "t_inat",
          "t_inat",
          "t_inat",
          "t_inat",
          "t_inat",
          "t_inat",
          "t_inat",
          "t_inat",
          "t_inat",
          "t_inat",
          "t_inat",
          "t_inat",
          "t_inat",
          "t_inat",
          "t_inat",
          "t_inat",
          "t_inat",
          "t_inat",
          "t_inat",
          "t_inat",
          "t_inat",
          "t_inat",
          "t_inat",
          "t_inat",
          "t_inat",
          "t_inat",
          "t_inat",
          "t_inat",
          "t_inat",
          "t_inat",
          "t_inat",
          "t_inat",
          "t_inat",
          "t_inat",
          "t_inat",
          "t_inat",
          "t_inat",
          "t_inat",
          "t_inat",
          "t_inat",
          "t_inat",
          "t_inat",
          "t_inat",
          "t_inat",
          "t_inat",
          "t_inat",
          "t_inat",
          "t_inat",
          "t_inat",
          "t_inat",
          "t_inat",
          "t_inat",
          "t_inat",
          "t_inat",
          "t_inat",
          "t_inat",
          "t_inat",
          "t_inat",
          "t_inat",
          "t_inat",
          "t_inat",
          "t_inat",
          "t_inat",
          "t_inat",
          "t_inat",
          "t_inat",
          "t_inat",
          "t_inat",
          "t_inat",
          "t_inat",
          "t_inat",
          "t_inat",
          "t_inat",
          "t_inat",
          "t_inat",
          "t_inat",
          "t_inat",
          "t_inat",
          "t_inat",
          "t_inat",
          "t_inat",
          "t_inat",
          "t_inat",
          "t_inat",
          "t_inat",
          "t_inat",
          "t_inat",
          "t_inat",
          "t_inat",
          "t_inat",
          "t_inat",
          "t_inat",
          "t_inat",
          "t_inat",
          "t_inat",
          "t_inat",
          "t_inat",
          "t_inat",
          "t_inat",
          "t_inat",
          "t_inat",
          "t_inat",
          "t_inat",
          "t_inat",
          "t_inat",
          "t_inat",
          "t_inat",
          "t_inat",
          "t_inat",
          "t_inat",
          "t_inat",
          "t_inat",
          "t_inat",
          "t_inat",
          "t_inat",
          "t_inat",
          "t_inat",
          "t_inat",
          "t_inat",
          "t_inat",
          "t_inat",
          "t_inat",
          "t_inat",
          "t_inat",
          "t_inat",
          "t_inat",
          "t_inat",
          "t_inat",
          "t_inat",
          "t_inat",
          "t_inat",
          "t_inat",
          "t_inat",
          "t_inat",
          "t_inat",
          "t_inat",
          "t_inat",
          "t_inat",
          "t_inat",
          "t_inat",
          "t_inat",
          "t_inat",
          "t_inat",
          "t_inat",
          "t_inat",
          "t_inat",
          "t_inat",
          "t_inat",
          "t_inat",
          "t_inat",
          "t_inat",
          "t_inat",
          "t_inat",
          "t_inat",
          "t_inat",
          "t_inat",
          "t_inat",
          "t_inat",
          "t_inat",
          "t_inat",
          "t_inat",
          "t_inat",
          "t_inat",
          "t_inat",
          "t_inat",
          "t_inat",
          "t_inat",
          "t_inat",
          "t_inat",
          "t_inat",
          "t_inat",
          "t_inat",
          "t_inat",
          "t_inat",
          "t_inat",
          "t_inat",
          "t_inat",
          "t_inat",
          "t_inat",
          "t_inat",
          "t_inat",
          "t_inat",
          "t_inat",
          "t_inat",
          "t_inat",
          "t_inat",
          "t_inat",
          "t_inat",
          "t_inat",
          "t_inat",
          "t_inat",
          "t_inat",
          "t_inat",
          "t_inat",
          "t_inat",
          "t_inat",
          "t_inat",
          "t_inat",
          "t_inat",
          "t_inat",
          "t_inat",
          "t_inat",
          "t_inat",
          "t_inat",
          "t_inat",
          "t_inat",
          "t_inat",
          "t_inat",
          "t_inat",
          "t_inat",
          "t_inat",
          "t_inat",
          "t_inat",
          "t_inat",
          "t_inat",
          "t_inat",
          "t_inat",
          "t_inat",
          "t_inat",
          "t_inat",
          "t_inat",
          "t_inat",
          "t_inat",
          "t_inat",
          "t_inat",
          "t_inat",
          "t_inat",
          "t_inat",
          "t_inat",
          "t_inat",
          "t_inat",
          "t_inat",
          "t_inat",
          "t_inat",
          "t_inat",
          "t_inat",
          "t_inat",
          "t_inat",
          "t_inat",
          "t_inat",
          "t_inat",
          "t_inat",
          "t_inat",
          "t_inat",
          "t_inat",
          "t_inat",
          "t_inat",
          "t_inat",
          "t_inat",
          "t_inat",
          "t_inat",
          "t_inat",
          "t_inat",
          "t_inat",
          "t_inat",
          "t_inat",
          "t_inat",
          "t_inat",
          "t_inat",
          "t_inat",
          "t_inat",
          "t_inat",
          "t_inat",
          "t_inat",
          "t_inat",
          "t_inat",
          "t_inat",
          "t_inat",
          "t_inat",
          "t_inat",
          "t_inat",
          "t_inat",
          "t_inat",
          "t_inat",
          "t_inat",
          "t_inat",
          "t_inat",
          "t_inat",
          "t_inat",
          "t_inat",
          "t_inat",
          "t_inat",
          "t_inat",
          "t_inat",
          "t_inat",
          "t_inat",
          "t_inat",
          "t_inat",
          "t_inat",
          "t_inat",
          "t_inat",
          "t_inat",
          "t_inat",
          "t_inat",
          "t_inat",
          "t_inat",
          "t_inat",
          "t_inat",
          "t_inat",
          "t_inat",
          "t_inat",
          "t_inat",
          "t_inat",
          "t_inat",
          "t_inat",
          "t_inat",
          "t_inat",
          "t_inat",
          "t_inat",
          "t_inat",
          "t_inat",
          "t_inat",
          "t_inat",
          "t_inat",
          "t_inat",
          "t_inat",
          "t_inat",
          "t_inat",
          "t_inat",
          "t_inat",
          "t_inat",
          "t_inat",
          "t_inat",
          "t_inat",
          "t_inat",
          "t_inat",
          "t_inat",
          "t_inat",
          "t_inat",
          "t_inat",
          "t_inat",
          "t_inat",
          "t_inat",
          "t_inat",
          "t_inat",
          "t_inat",
          "t_inat",
          "t_inat",
          "t_inat",
          "t_inat",
          "t_inat",
          "t_inat",
          "t_inat",
          "t_inat",
          "t_inat",
          "t_inat",
          "t_inat",
          "t_inat",
          "t_inat",
          "t_inat",
          "t_inat",
          "t_inat",
          "t_inat",
          "t_inat",
          "t_inat",
          "t_inat",
          "t_inat",
          "t_inat",
          "t_inat",
          "t_inat",
          "t_inat",
          "t_inat",
          "t_inat",
          "t_inat",
          "t_inat",
          "t_inat",
          "t_inat",
          "t_inat",
          "t_inat",
          "t_inat",
          "t_inat",
          "t_inat",
          "t_inat",
          "t_inat",
          "t_inat",
          "t_inat",
          "t_inat",
          "t_inat",
          "t_inat",
          "t_inat",
          "t_inat",
          "t_inat",
          "t_inat",
          "t_inat",
          "t_inat",
          "t_inat",
          "t_inat",
          "t_inat",
          "t_inat",
          "t_inat",
          "t_inat",
          "t_inat",
          "t_inat",
          "t_inat",
          "t_inat",
          "t_inat",
          "t_inat",
          "t_inat",
          "t_inat",
          "t_inat",
          "t_inat",
          "t_inat",
          "t_inat",
          "t_inat",
          "t_inat",
          "t_inat",
          "t_inat",
          "t_inat",
          "t_inat",
          "t_inat",
          "t_inat",
          "t_inat",
          "t_inat",
          "t_inat",
          "t_inat",
          "t_inat",
          "t_inat",
          "t_inat",
          "t_inat",
          "t_inat",
          "t_inat",
          "t_inat",
          "t_inat",
          "t_inat",
          "t_inat",
          "t_inat",
          "t_inat",
          "t_inat",
          "t_inat",
          "t_inat",
          "t_inat",
          "t_inat",
          "t_inat",
          "t_inat",
          "t_inat",
          "t_inat",
          "t_inat",
          "t_inat",
          "t_inat",
          "t_inat",
          "t_inat",
          "t_inat",
          "t_inat",
          "t_inat",
          "t_inat",
          "t_inat",
          "t_inat",
          "t_inat",
          "t_inat",
          "t_inat",
          "t_inat",
          "t_inat",
          "t_inat",
          "t_inat",
          "t_inat",
          "t_inat",
          "t_inat",
          "t_inat",
          "t_inat",
          "t_inat",
          "t_inat",
          "t_inat",
          "t_inat",
          "t_inat",
          "t_inat",
          "t_inat",
          "t_inat",
          "t_inat",
          "t_inat",
          "t_inat",
          "t_inat",
          "t_inat",
          "t_inat",
          "t_inat",
          "t_inat",
          "t_inat",
          "t_inat",
          "t_inat",
          "t_inat",
          "t_inat",
          "t_inat",
          "t_inat",
          "t_inat",
          "t_inat",
          "t_inat",
          "t_inat",
          "t_inat",
          "t_inat",
          "t_inat",
          "t_inat",
          "t_inat",
          "t_inat",
          "t_inat",
          "t_inat",
          "t_inat",
          "t_inat",
          "t_inat",
          "t_inat",
          "t_inat",
          "t_inat",
          "t_inat",
          "t_inat",
          "t_inat",
          "t_inat",
          "t_inat",
          "t_inat",
          "t_inat",
          "t_inat",
          "t_inat",
          "t_inat",
          "t_inat",
          "t_inat",
          "t_inat",
          "t_inat",
          "t_inat",
          "t_inat",
          "t_inat",
          "t_inat",
          "t_inat",
          "t_inat",
          "t_inat",
          "t_inat",
          "t_inat",
          "t_inat",
          "t_inat",
          "t_inat",
          "t_inat",
          "t_inat",
          "t_inat",
          "t_inat",
          "t_inat",
          "t_inat",
          "t_inat",
          "t_inat",
          "t_inat",
          "t_inat",
          "t_inat",
          "t_inat",
          "t_inat",
          "t_inat",
          "t_inat",
          "t_inat",
          "t_inat",
          "t_inat",
          "t_inat",
          "t_inat",
          "t_inat",
          "t_inat",
          "t_inat",
          "t_inat",
          "t_inat",
          "t_inat",
          "t_inat",
          "t_inat",
          "t_inat",
          "t_inat",
          "t_inat",
          "t_inat",
          "t_inat",
          "t_inat",
          "t_inat",
          "t_inat",
          "t_inat",
          "t_inat",
          "t_inat",
          "t_inat",
          "t_inat",
          "t_inat",
          "t_inat",
          "t_inat",
          "t_inat",
          "t_inat",
          "t_inat",
          "t_inat",
          "t_inat",
          "t_inat",
          "t_inat",
          "t_inat",
          "t_inat",
          "t_inat",
          "t_inat",
          "t_inat",
          "t_inat",
          "t_inat",
          "t_inat",
          "t_inat",
          "t_inat",
          "t_inat",
          "t_inat",
          "t_inat",
          "t_inat",
          "t_inat",
          "t_inat",
          "t_inat",
          "t_inat",
          "t_inat",
          "t_inat",
          "t_inat",
          "t_inat",
          "t_inat",
          "t_inat",
          "t_inat",
          "t_inat",
          "t_inat",
          "t_inat",
          "t_inat",
          "t_inat",
          "t_inat",
          "t_inat",
          "t_inat",
          "t_inat",
          "t_inat",
          "t_inat",
          "t_inat"
         ],
         "x0": " ",
         "xaxis": "x",
         "y": [
          8,
          7,
          3,
          6,
          1,
          4,
          0,
          3,
          8,
          4,
          5,
          10,
          1,
          8,
          2,
          1,
          3,
          7,
          8,
          10,
          7,
          5,
          2,
          9,
          5,
          0,
          5,
          0,
          10,
          2,
          2,
          5,
          0,
          8,
          5,
          1,
          3,
          0,
          2,
          4,
          7,
          9,
          7,
          6,
          2,
          5,
          1,
          5,
          3,
          4,
          3,
          7,
          2,
          4,
          9,
          6,
          4,
          5,
          6,
          1,
          11,
          11,
          7,
          1,
          1,
          1,
          7,
          4,
          0,
          9,
          11,
          3,
          10,
          4,
          5,
          6,
          7,
          9,
          4,
          1,
          1,
          7,
          4,
          8,
          3,
          4,
          5,
          2,
          0,
          3,
          6,
          3,
          3,
          7,
          6,
          8,
          2,
          5,
          4,
          9,
          5,
          11,
          4,
          4,
          4,
          5,
          7,
          1,
          2,
          0,
          5,
          7,
          5,
          10,
          3,
          1,
          5,
          2,
          6,
          9,
          10,
          7,
          7,
          1,
          10,
          6,
          12,
          4,
          0,
          11,
          3,
          2,
          3,
          7,
          0,
          10,
          8,
          9,
          5,
          5,
          10,
          3,
          8,
          6,
          6,
          7,
          1,
          2,
          4,
          4,
          6,
          8,
          5,
          9,
          5,
          0,
          8,
          4,
          10,
          5,
          4,
          3,
          7,
          4,
          9,
          4,
          2,
          4,
          10,
          5,
          11,
          3,
          3,
          4,
          2,
          3,
          3,
          1,
          9,
          0,
          7,
          3,
          1,
          7,
          5,
          0,
          1,
          12,
          0,
          10,
          8,
          1,
          1,
          0,
          4,
          12,
          7,
          3,
          3,
          4,
          11,
          5,
          10,
          2,
          7,
          6,
          6,
          1,
          11,
          1,
          7,
          6,
          1,
          5,
          3,
          8,
          4,
          2,
          9,
          3,
          4,
          1,
          2,
          4,
          3,
          0,
          0,
          1,
          3,
          6,
          10,
          0,
          2,
          6,
          6,
          7,
          1,
          4,
          5,
          3,
          5,
          1,
          5,
          6,
          9,
          4,
          8,
          4,
          4,
          3,
          6,
          10,
          7,
          7,
          9,
          9,
          6,
          4,
          3,
          8,
          6,
          5,
          4,
          7,
          3,
          9,
          5,
          2,
          3,
          9,
          3,
          5,
          3,
          0,
          7,
          3,
          10,
          6,
          2,
          5,
          5,
          6,
          7,
          6,
          3,
          9,
          3,
          8,
          3,
          7,
          1,
          1,
          8,
          3,
          10,
          6,
          0,
          0,
          8,
          4,
          8,
          2,
          4,
          2,
          0,
          1,
          5,
          3,
          1,
          6,
          0,
          4,
          4,
          8,
          0,
          4,
          1,
          4,
          4,
          3,
          8,
          1,
          4,
          3,
          1,
          1,
          5,
          5,
          6,
          2,
          2,
          5,
          4,
          3,
          2,
          7,
          1,
          1,
          6,
          5,
          3,
          2,
          3,
          0,
          8,
          4,
          3,
          8,
          4,
          7,
          5,
          6,
          5,
          1,
          7,
          8,
          1,
          5,
          6,
          2,
          4,
          7,
          4,
          0,
          1,
          0,
          0,
          2,
          8,
          1,
          0,
          8,
          0,
          3,
          8,
          7,
          5,
          4,
          0,
          1,
          7,
          1,
          8,
          2,
          2,
          1,
          6,
          1,
          7,
          3,
          5,
          5,
          0,
          1,
          7,
          3,
          3,
          2,
          5,
          7,
          6,
          1,
          5,
          3,
          5,
          3,
          7,
          5,
          4,
          0,
          1,
          2,
          5,
          1,
          0,
          7,
          3,
          7,
          3,
          1,
          8,
          3,
          1,
          0,
          5,
          5,
          2,
          6,
          6,
          3,
          3,
          7,
          0,
          4,
          2,
          2,
          1,
          0,
          2,
          7,
          2,
          5,
          3,
          4,
          4,
          6,
          2,
          1,
          7,
          1,
          3,
          2,
          0,
          6,
          1,
          3,
          4,
          4,
          4,
          6,
          2,
          2,
          7,
          3,
          2,
          4,
          1,
          0,
          5,
          7,
          0,
          0,
          5,
          3,
          0,
          4,
          2,
          2,
          6,
          0,
          5,
          7,
          6,
          1,
          2,
          1,
          0,
          0,
          3,
          4,
          5,
          0,
          5,
          1,
          3,
          5,
          3,
          5,
          5,
          0,
          1,
          3,
          2,
          1,
          2,
          3,
          3,
          0,
          6,
          4,
          1,
          0,
          1,
          1,
          7,
          6,
          0,
          2,
          4,
          5,
          1,
          3,
          0,
          3,
          0,
          1,
          0,
          5,
          3,
          1,
          3,
          4,
          3,
          3,
          1,
          2,
          2,
          0,
          1,
          1,
          3,
          4,
          3,
          2,
          4,
          4,
          3,
          1,
          1,
          6,
          2,
          0,
          0,
          3,
          3,
          4,
          3,
          2,
          4,
          1,
          2,
          3,
          2,
          2,
          4,
          1,
          4,
          0,
          3,
          0,
          2,
          1,
          0,
          5,
          1,
          0,
          2,
          7,
          5,
          0,
          7,
          2,
          2,
          5,
          4,
          1,
          4,
          3,
          3,
          4,
          2,
          4,
          4,
          4,
          5,
          0,
          1,
          6,
          4,
          0,
          2,
          3,
          2,
          1,
          6,
          2,
          3,
          4,
          3,
          0,
          0,
          1,
          5,
          4,
          2,
          0,
          6,
          4,
          1,
          4,
          1,
          3,
          6,
          3,
          1,
          5,
          2,
          1,
          1,
          5,
          3,
          2,
          1,
          4,
          1,
          3,
          6,
          2,
          2,
          2,
          2,
          6,
          3,
          5,
          0,
          2,
          2,
          5,
          1,
          6,
          0,
          7,
          1,
          0,
          5,
          0,
          5,
          3,
          0,
          3,
          1,
          2,
          2,
          5,
          2,
          0,
          4,
          1,
          1,
          3,
          1,
          1,
          4,
          3,
          4,
          3,
          1,
          5,
          5,
          3,
          4,
          1,
          2,
          5,
          5,
          2,
          0,
          5,
          0,
          1,
          2,
          1,
          4,
          5,
          1,
          2,
          1,
          3,
          2,
          1,
          7,
          5,
          0,
          0,
          7,
          1,
          4,
          4,
          0,
          3,
          1,
          2,
          5,
          3,
          0,
          1,
          3,
          0,
          0,
          3,
          4,
          1,
          6,
          1,
          3,
          2,
          6,
          1,
          5,
          4,
          4,
          4,
          1,
          0,
          6,
          4,
          1,
          0,
          5,
          3,
          1,
          1,
          6,
          1,
          4,
          3,
          2,
          2,
          2,
          7,
          4,
          1,
          5,
          0,
          3,
          4,
          1,
          5,
          1,
          4,
          0,
          5,
          1,
          1,
          3,
          2,
          3,
          1,
          6,
          6,
          1,
          5,
          0,
          6,
          3,
          5,
          3,
          0,
          3,
          5,
          3,
          3,
          1,
          2,
          3,
          1,
          2,
          3,
          3,
          2,
          2,
          0,
          2,
          0,
          2,
          2,
          1,
          2,
          2,
          2,
          5,
          1,
          1,
          0,
          1,
          2,
          5,
          0,
          3,
          6,
          2,
          6,
          0,
          1,
          2,
          3,
          5,
          6,
          1,
          1,
          5,
          3,
          2,
          1,
          2,
          2,
          4,
          5,
          0,
          0,
          5,
          6,
          5,
          3,
          6,
          0,
          2,
          0,
          2,
          4,
          1,
          4,
          6,
          5,
          3,
          4,
          4,
          0,
          0,
          1,
          2,
          4,
          5,
          3,
          4,
          2,
          3,
          0,
          1,
          3,
          3,
          5,
          4,
          0,
          7,
          0,
          4,
          4,
          4,
          0,
          5,
          1,
          2,
          6,
          4,
          3,
          2,
          5,
          4,
          1,
          3,
          4,
          5,
          5,
          0,
          2,
          6,
          5,
          2,
          1,
          2,
          0,
          4,
          2,
          2,
          0,
          0,
          3,
          3,
          6,
          2,
          1,
          6,
          2,
          3,
          0,
          4,
          3,
          3,
          4,
          0,
          3,
          3,
          2,
          1,
          1,
          5,
          3,
          2,
          5,
          2,
          3,
          2,
          3,
          2,
          0,
          1,
          0,
          2,
          5,
          2,
          0,
          0,
          3,
          4,
          2,
          4,
          1,
          3,
          3,
          4,
          1,
          1,
          1,
          0,
          2,
          1,
          2,
          2,
          2,
          2,
          2,
          2,
          1,
          0,
          3,
          4,
          3,
          0,
          2,
          3,
          1,
          3,
          2,
          0,
          0,
          0,
          2,
          1,
          1,
          2,
          3,
          0,
          0,
          0,
          0,
          0,
          3,
          1,
          2,
          2,
          0,
          2,
          0,
          1,
          2,
          2,
          1,
          2,
          2,
          0,
          1,
          1,
          0,
          0,
          0,
          0,
          0,
          0
         ],
         "y0": " ",
         "yaxis": "y"
        }
       ],
       "layout": {
        "boxmode": "group",
        "legend": {
         "tracegroupgap": 0
        },
        "margin": {
         "t": 60
        },
        "template": {
         "data": {
          "bar": [
           {
            "error_x": {
             "color": "#2a3f5f"
            },
            "error_y": {
             "color": "#2a3f5f"
            },
            "marker": {
             "line": {
              "color": "#E5ECF6",
              "width": 0.5
             },
             "pattern": {
              "fillmode": "overlay",
              "size": 10,
              "solidity": 0.2
             }
            },
            "type": "bar"
           }
          ],
          "barpolar": [
           {
            "marker": {
             "line": {
              "color": "#E5ECF6",
              "width": 0.5
             },
             "pattern": {
              "fillmode": "overlay",
              "size": 10,
              "solidity": 0.2
             }
            },
            "type": "barpolar"
           }
          ],
          "carpet": [
           {
            "aaxis": {
             "endlinecolor": "#2a3f5f",
             "gridcolor": "white",
             "linecolor": "white",
             "minorgridcolor": "white",
             "startlinecolor": "#2a3f5f"
            },
            "baxis": {
             "endlinecolor": "#2a3f5f",
             "gridcolor": "white",
             "linecolor": "white",
             "minorgridcolor": "white",
             "startlinecolor": "#2a3f5f"
            },
            "type": "carpet"
           }
          ],
          "choropleth": [
           {
            "colorbar": {
             "outlinewidth": 0,
             "ticks": ""
            },
            "type": "choropleth"
           }
          ],
          "contour": [
           {
            "colorbar": {
             "outlinewidth": 0,
             "ticks": ""
            },
            "colorscale": [
             [
              0,
              "#0d0887"
             ],
             [
              0.1111111111111111,
              "#46039f"
             ],
             [
              0.2222222222222222,
              "#7201a8"
             ],
             [
              0.3333333333333333,
              "#9c179e"
             ],
             [
              0.4444444444444444,
              "#bd3786"
             ],
             [
              0.5555555555555556,
              "#d8576b"
             ],
             [
              0.6666666666666666,
              "#ed7953"
             ],
             [
              0.7777777777777778,
              "#fb9f3a"
             ],
             [
              0.8888888888888888,
              "#fdca26"
             ],
             [
              1,
              "#f0f921"
             ]
            ],
            "type": "contour"
           }
          ],
          "contourcarpet": [
           {
            "colorbar": {
             "outlinewidth": 0,
             "ticks": ""
            },
            "type": "contourcarpet"
           }
          ],
          "heatmap": [
           {
            "colorbar": {
             "outlinewidth": 0,
             "ticks": ""
            },
            "colorscale": [
             [
              0,
              "#0d0887"
             ],
             [
              0.1111111111111111,
              "#46039f"
             ],
             [
              0.2222222222222222,
              "#7201a8"
             ],
             [
              0.3333333333333333,
              "#9c179e"
             ],
             [
              0.4444444444444444,
              "#bd3786"
             ],
             [
              0.5555555555555556,
              "#d8576b"
             ],
             [
              0.6666666666666666,
              "#ed7953"
             ],
             [
              0.7777777777777778,
              "#fb9f3a"
             ],
             [
              0.8888888888888888,
              "#fdca26"
             ],
             [
              1,
              "#f0f921"
             ]
            ],
            "type": "heatmap"
           }
          ],
          "heatmapgl": [
           {
            "colorbar": {
             "outlinewidth": 0,
             "ticks": ""
            },
            "colorscale": [
             [
              0,
              "#0d0887"
             ],
             [
              0.1111111111111111,
              "#46039f"
             ],
             [
              0.2222222222222222,
              "#7201a8"
             ],
             [
              0.3333333333333333,
              "#9c179e"
             ],
             [
              0.4444444444444444,
              "#bd3786"
             ],
             [
              0.5555555555555556,
              "#d8576b"
             ],
             [
              0.6666666666666666,
              "#ed7953"
             ],
             [
              0.7777777777777778,
              "#fb9f3a"
             ],
             [
              0.8888888888888888,
              "#fdca26"
             ],
             [
              1,
              "#f0f921"
             ]
            ],
            "type": "heatmapgl"
           }
          ],
          "histogram": [
           {
            "marker": {
             "pattern": {
              "fillmode": "overlay",
              "size": 10,
              "solidity": 0.2
             }
            },
            "type": "histogram"
           }
          ],
          "histogram2d": [
           {
            "colorbar": {
             "outlinewidth": 0,
             "ticks": ""
            },
            "colorscale": [
             [
              0,
              "#0d0887"
             ],
             [
              0.1111111111111111,
              "#46039f"
             ],
             [
              0.2222222222222222,
              "#7201a8"
             ],
             [
              0.3333333333333333,
              "#9c179e"
             ],
             [
              0.4444444444444444,
              "#bd3786"
             ],
             [
              0.5555555555555556,
              "#d8576b"
             ],
             [
              0.6666666666666666,
              "#ed7953"
             ],
             [
              0.7777777777777778,
              "#fb9f3a"
             ],
             [
              0.8888888888888888,
              "#fdca26"
             ],
             [
              1,
              "#f0f921"
             ]
            ],
            "type": "histogram2d"
           }
          ],
          "histogram2dcontour": [
           {
            "colorbar": {
             "outlinewidth": 0,
             "ticks": ""
            },
            "colorscale": [
             [
              0,
              "#0d0887"
             ],
             [
              0.1111111111111111,
              "#46039f"
             ],
             [
              0.2222222222222222,
              "#7201a8"
             ],
             [
              0.3333333333333333,
              "#9c179e"
             ],
             [
              0.4444444444444444,
              "#bd3786"
             ],
             [
              0.5555555555555556,
              "#d8576b"
             ],
             [
              0.6666666666666666,
              "#ed7953"
             ],
             [
              0.7777777777777778,
              "#fb9f3a"
             ],
             [
              0.8888888888888888,
              "#fdca26"
             ],
             [
              1,
              "#f0f921"
             ]
            ],
            "type": "histogram2dcontour"
           }
          ],
          "mesh3d": [
           {
            "colorbar": {
             "outlinewidth": 0,
             "ticks": ""
            },
            "type": "mesh3d"
           }
          ],
          "parcoords": [
           {
            "line": {
             "colorbar": {
              "outlinewidth": 0,
              "ticks": ""
             }
            },
            "type": "parcoords"
           }
          ],
          "pie": [
           {
            "automargin": true,
            "type": "pie"
           }
          ],
          "scatter": [
           {
            "marker": {
             "colorbar": {
              "outlinewidth": 0,
              "ticks": ""
             }
            },
            "type": "scatter"
           }
          ],
          "scatter3d": [
           {
            "line": {
             "colorbar": {
              "outlinewidth": 0,
              "ticks": ""
             }
            },
            "marker": {
             "colorbar": {
              "outlinewidth": 0,
              "ticks": ""
             }
            },
            "type": "scatter3d"
           }
          ],
          "scattercarpet": [
           {
            "marker": {
             "colorbar": {
              "outlinewidth": 0,
              "ticks": ""
             }
            },
            "type": "scattercarpet"
           }
          ],
          "scattergeo": [
           {
            "marker": {
             "colorbar": {
              "outlinewidth": 0,
              "ticks": ""
             }
            },
            "type": "scattergeo"
           }
          ],
          "scattergl": [
           {
            "marker": {
             "colorbar": {
              "outlinewidth": 0,
              "ticks": ""
             }
            },
            "type": "scattergl"
           }
          ],
          "scattermapbox": [
           {
            "marker": {
             "colorbar": {
              "outlinewidth": 0,
              "ticks": ""
             }
            },
            "type": "scattermapbox"
           }
          ],
          "scatterpolar": [
           {
            "marker": {
             "colorbar": {
              "outlinewidth": 0,
              "ticks": ""
             }
            },
            "type": "scatterpolar"
           }
          ],
          "scatterpolargl": [
           {
            "marker": {
             "colorbar": {
              "outlinewidth": 0,
              "ticks": ""
             }
            },
            "type": "scatterpolargl"
           }
          ],
          "scatterternary": [
           {
            "marker": {
             "colorbar": {
              "outlinewidth": 0,
              "ticks": ""
             }
            },
            "type": "scatterternary"
           }
          ],
          "surface": [
           {
            "colorbar": {
             "outlinewidth": 0,
             "ticks": ""
            },
            "colorscale": [
             [
              0,
              "#0d0887"
             ],
             [
              0.1111111111111111,
              "#46039f"
             ],
             [
              0.2222222222222222,
              "#7201a8"
             ],
             [
              0.3333333333333333,
              "#9c179e"
             ],
             [
              0.4444444444444444,
              "#bd3786"
             ],
             [
              0.5555555555555556,
              "#d8576b"
             ],
             [
              0.6666666666666666,
              "#ed7953"
             ],
             [
              0.7777777777777778,
              "#fb9f3a"
             ],
             [
              0.8888888888888888,
              "#fdca26"
             ],
             [
              1,
              "#f0f921"
             ]
            ],
            "type": "surface"
           }
          ],
          "table": [
           {
            "cells": {
             "fill": {
              "color": "#EBF0F8"
             },
             "line": {
              "color": "white"
             }
            },
            "header": {
             "fill": {
              "color": "#C8D4E3"
             },
             "line": {
              "color": "white"
             }
            },
            "type": "table"
           }
          ]
         },
         "layout": {
          "annotationdefaults": {
           "arrowcolor": "#2a3f5f",
           "arrowhead": 0,
           "arrowwidth": 1
          },
          "autotypenumbers": "strict",
          "coloraxis": {
           "colorbar": {
            "outlinewidth": 0,
            "ticks": ""
           }
          },
          "colorscale": {
           "diverging": [
            [
             0,
             "#8e0152"
            ],
            [
             0.1,
             "#c51b7d"
            ],
            [
             0.2,
             "#de77ae"
            ],
            [
             0.3,
             "#f1b6da"
            ],
            [
             0.4,
             "#fde0ef"
            ],
            [
             0.5,
             "#f7f7f7"
            ],
            [
             0.6,
             "#e6f5d0"
            ],
            [
             0.7,
             "#b8e186"
            ],
            [
             0.8,
             "#7fbc41"
            ],
            [
             0.9,
             "#4d9221"
            ],
            [
             1,
             "#276419"
            ]
           ],
           "sequential": [
            [
             0,
             "#0d0887"
            ],
            [
             0.1111111111111111,
             "#46039f"
            ],
            [
             0.2222222222222222,
             "#7201a8"
            ],
            [
             0.3333333333333333,
             "#9c179e"
            ],
            [
             0.4444444444444444,
             "#bd3786"
            ],
            [
             0.5555555555555556,
             "#d8576b"
            ],
            [
             0.6666666666666666,
             "#ed7953"
            ],
            [
             0.7777777777777778,
             "#fb9f3a"
            ],
            [
             0.8888888888888888,
             "#fdca26"
            ],
            [
             1,
             "#f0f921"
            ]
           ],
           "sequentialminus": [
            [
             0,
             "#0d0887"
            ],
            [
             0.1111111111111111,
             "#46039f"
            ],
            [
             0.2222222222222222,
             "#7201a8"
            ],
            [
             0.3333333333333333,
             "#9c179e"
            ],
            [
             0.4444444444444444,
             "#bd3786"
            ],
            [
             0.5555555555555556,
             "#d8576b"
            ],
            [
             0.6666666666666666,
             "#ed7953"
            ],
            [
             0.7777777777777778,
             "#fb9f3a"
            ],
            [
             0.8888888888888888,
             "#fdca26"
            ],
            [
             1,
             "#f0f921"
            ]
           ]
          },
          "colorway": [
           "#636efa",
           "#EF553B",
           "#00cc96",
           "#ab63fa",
           "#FFA15A",
           "#19d3f3",
           "#FF6692",
           "#B6E880",
           "#FF97FF",
           "#FECB52"
          ],
          "font": {
           "color": "#2a3f5f"
          },
          "geo": {
           "bgcolor": "white",
           "lakecolor": "white",
           "landcolor": "#E5ECF6",
           "showlakes": true,
           "showland": true,
           "subunitcolor": "white"
          },
          "hoverlabel": {
           "align": "left"
          },
          "hovermode": "closest",
          "mapbox": {
           "style": "light"
          },
          "paper_bgcolor": "white",
          "plot_bgcolor": "#E5ECF6",
          "polar": {
           "angularaxis": {
            "gridcolor": "white",
            "linecolor": "white",
            "ticks": ""
           },
           "bgcolor": "#E5ECF6",
           "radialaxis": {
            "gridcolor": "white",
            "linecolor": "white",
            "ticks": ""
           }
          },
          "scene": {
           "xaxis": {
            "backgroundcolor": "#E5ECF6",
            "gridcolor": "white",
            "gridwidth": 2,
            "linecolor": "white",
            "showbackground": true,
            "ticks": "",
            "zerolinecolor": "white"
           },
           "yaxis": {
            "backgroundcolor": "#E5ECF6",
            "gridcolor": "white",
            "gridwidth": 2,
            "linecolor": "white",
            "showbackground": true,
            "ticks": "",
            "zerolinecolor": "white"
           },
           "zaxis": {
            "backgroundcolor": "#E5ECF6",
            "gridcolor": "white",
            "gridwidth": 2,
            "linecolor": "white",
            "showbackground": true,
            "ticks": "",
            "zerolinecolor": "white"
           }
          },
          "shapedefaults": {
           "line": {
            "color": "#2a3f5f"
           }
          },
          "ternary": {
           "aaxis": {
            "gridcolor": "white",
            "linecolor": "white",
            "ticks": ""
           },
           "baxis": {
            "gridcolor": "white",
            "linecolor": "white",
            "ticks": ""
           },
           "bgcolor": "#E5ECF6",
           "caxis": {
            "gridcolor": "white",
            "linecolor": "white",
            "ticks": ""
           }
          },
          "title": {
           "x": 0.05
          },
          "xaxis": {
           "automargin": true,
           "gridcolor": "white",
           "linecolor": "white",
           "ticks": "",
           "title": {
            "standoff": 15
           },
           "zerolinecolor": "white",
           "zerolinewidth": 2
          },
          "yaxis": {
           "automargin": true,
           "gridcolor": "white",
           "linecolor": "white",
           "ticks": "",
           "title": {
            "standoff": 15
           },
           "zerolinecolor": "white",
           "zerolinewidth": 2
          }
         }
        },
        "xaxis": {
         "anchor": "y",
         "domain": [
          0,
          1
         ],
         "title": {
          "text": "variable"
         }
        },
        "yaxis": {
         "anchor": "x",
         "domain": [
          0,
          1
         ],
         "title": {
          "text": "value"
         }
        }
       }
      }
     },
     "metadata": {},
     "output_type": "display_data"
    }
   ],
   "source": [
    "fig = px.box(df['contas']['t_inat'], points=\"all\")\n",
    "\n",
    "fig.show()"
   ]
  },
  {
   "cell_type": "markdown",
   "metadata": {},
   "source": [
    "Intervalos:\n",
    "- Q1: 0 a 1\n",
    "- Q2: 1 a 3\n",
    "- Q3: 3 a 5\n",
    "- Q4: 5 a 11"
   ]
  },
  {
   "cell_type": "markdown",
   "metadata": {},
   "source": [
    "### Propostas de Crédito"
   ]
  },
  {
   "cell_type": "code",
   "execution_count": 16,
   "metadata": {},
   "outputs": [
    {
     "name": "stdout",
     "output_type": "stream",
     "text": [
      "<class 'pandas.core.frame.DataFrame'>\n",
      "RangeIndex: 2000 entries, 0 to 1999\n",
      "Data columns (total 12 columns):\n",
      " #   Column                 Non-Null Count  Dtype  \n",
      "---  ------                 --------------  -----  \n",
      " 0   cod_proposta           2000 non-null   int64  \n",
      " 1   cod_cliente            2000 non-null   int64  \n",
      " 2   cod_colaborador        2000 non-null   int64  \n",
      " 3   data_entrada_proposta  2000 non-null   object \n",
      " 4   taxa_juros_mensal      2000 non-null   float64\n",
      " 5   valor_proposta         2000 non-null   float64\n",
      " 6   valor_financiamento    2000 non-null   float64\n",
      " 7   valor_entrada          2000 non-null   float64\n",
      " 8   valor_prestacao        2000 non-null   float64\n",
      " 9   quantidade_parcelas    2000 non-null   int64  \n",
      " 10  carencia               2000 non-null   int64  \n",
      " 11  status_proposta        2000 non-null   object \n",
      "dtypes: float64(5), int64(5), object(2)\n",
      "memory usage: 187.6+ KB\n"
     ]
    }
   ],
   "source": [
    "df['propostas_credito'].info()"
   ]
  },
  {
   "cell_type": "code",
   "execution_count": 17,
   "metadata": {},
   "outputs": [
    {
     "data": {
      "text/html": [
       "<div>\n",
       "<style scoped>\n",
       "    .dataframe tbody tr th:only-of-type {\n",
       "        vertical-align: middle;\n",
       "    }\n",
       "\n",
       "    .dataframe tbody tr th {\n",
       "        vertical-align: top;\n",
       "    }\n",
       "\n",
       "    .dataframe thead th {\n",
       "        text-align: right;\n",
       "    }\n",
       "</style>\n",
       "<table border=\"1\" class=\"dataframe\">\n",
       "  <thead>\n",
       "    <tr style=\"text-align: right;\">\n",
       "      <th></th>\n",
       "      <th>cod_proposta</th>\n",
       "      <th>cod_cliente</th>\n",
       "      <th>cod_colaborador</th>\n",
       "      <th>data_entrada_proposta</th>\n",
       "      <th>taxa_juros_mensal</th>\n",
       "      <th>valor_proposta</th>\n",
       "      <th>valor_financiamento</th>\n",
       "      <th>valor_entrada</th>\n",
       "      <th>valor_prestacao</th>\n",
       "      <th>quantidade_parcelas</th>\n",
       "      <th>carencia</th>\n",
       "      <th>status_proposta</th>\n",
       "    </tr>\n",
       "  </thead>\n",
       "  <tbody>\n",
       "    <tr>\n",
       "      <th>0</th>\n",
       "      <td>116</td>\n",
       "      <td>338</td>\n",
       "      <td>1</td>\n",
       "      <td>2014-05-30 18:43:12 UTC</td>\n",
       "      <td>0.0194</td>\n",
       "      <td>36199.950355</td>\n",
       "      <td>50032.03</td>\n",
       "      <td>13832.079645</td>\n",
       "      <td>1045.219825</td>\n",
       "      <td>58</td>\n",
       "      <td>0</td>\n",
       "      <td>Enviada</td>\n",
       "    </tr>\n",
       "    <tr>\n",
       "      <th>1</th>\n",
       "      <td>715</td>\n",
       "      <td>45</td>\n",
       "      <td>1</td>\n",
       "      <td>2021-06-17 13:09:32 UTC</td>\n",
       "      <td>0.0131</td>\n",
       "      <td>12897.538285</td>\n",
       "      <td>19848.55</td>\n",
       "      <td>6951.011715</td>\n",
       "      <td>232.124685</td>\n",
       "      <td>100</td>\n",
       "      <td>1</td>\n",
       "      <td>Enviada</td>\n",
       "    </tr>\n",
       "    <tr>\n",
       "      <th>2</th>\n",
       "      <td>755</td>\n",
       "      <td>494</td>\n",
       "      <td>1</td>\n",
       "      <td>2021-08-10 04:24:02 UTC</td>\n",
       "      <td>0.0203</td>\n",
       "      <td>122236.312551</td>\n",
       "      <td>187154.36</td>\n",
       "      <td>64918.047449</td>\n",
       "      <td>3673.518951</td>\n",
       "      <td>56</td>\n",
       "      <td>0</td>\n",
       "      <td>Enviada</td>\n",
       "    </tr>\n",
       "    <tr>\n",
       "      <th>3</th>\n",
       "      <td>953</td>\n",
       "      <td>381</td>\n",
       "      <td>1</td>\n",
       "      <td>2011-02-23 07:57:58 UTC</td>\n",
       "      <td>0.0167</td>\n",
       "      <td>47784.649757</td>\n",
       "      <td>59530.61</td>\n",
       "      <td>11745.960243</td>\n",
       "      <td>955.041560</td>\n",
       "      <td>109</td>\n",
       "      <td>3</td>\n",
       "      <td>Enviada</td>\n",
       "    </tr>\n",
       "    <tr>\n",
       "      <th>4</th>\n",
       "      <td>1046</td>\n",
       "      <td>176</td>\n",
       "      <td>1</td>\n",
       "      <td>2010-11-15 16:03:28 UTC</td>\n",
       "      <td>0.0211</td>\n",
       "      <td>178393.038243</td>\n",
       "      <td>214294.19</td>\n",
       "      <td>35901.151757</td>\n",
       "      <td>10219.659415</td>\n",
       "      <td>22</td>\n",
       "      <td>4</td>\n",
       "      <td>Enviada</td>\n",
       "    </tr>\n",
       "    <tr>\n",
       "      <th>...</th>\n",
       "      <td>...</td>\n",
       "      <td>...</td>\n",
       "      <td>...</td>\n",
       "      <td>...</td>\n",
       "      <td>...</td>\n",
       "      <td>...</td>\n",
       "      <td>...</td>\n",
       "      <td>...</td>\n",
       "      <td>...</td>\n",
       "      <td>...</td>\n",
       "      <td>...</td>\n",
       "      <td>...</td>\n",
       "    </tr>\n",
       "    <tr>\n",
       "      <th>1995</th>\n",
       "      <td>1758</td>\n",
       "      <td>176</td>\n",
       "      <td>99</td>\n",
       "      <td>2010-01-10 08:12:47 UTC</td>\n",
       "      <td>0.0133</td>\n",
       "      <td>96404.111608</td>\n",
       "      <td>184043.36</td>\n",
       "      <td>87639.248392</td>\n",
       "      <td>1673.386037</td>\n",
       "      <td>110</td>\n",
       "      <td>6</td>\n",
       "      <td>Validação documentos</td>\n",
       "    </tr>\n",
       "    <tr>\n",
       "      <th>1996</th>\n",
       "      <td>582</td>\n",
       "      <td>241</td>\n",
       "      <td>100</td>\n",
       "      <td>2019-02-25 05:03:22 UTC</td>\n",
       "      <td>0.0151</td>\n",
       "      <td>61292.834593</td>\n",
       "      <td>82684.29</td>\n",
       "      <td>21391.455407</td>\n",
       "      <td>2219.574245</td>\n",
       "      <td>36</td>\n",
       "      <td>2</td>\n",
       "      <td>Validação documentos</td>\n",
       "    </tr>\n",
       "    <tr>\n",
       "      <th>1997</th>\n",
       "      <td>970</td>\n",
       "      <td>106</td>\n",
       "      <td>100</td>\n",
       "      <td>2011-06-05 04:13:16 UTC</td>\n",
       "      <td>0.0225</td>\n",
       "      <td>100371.681790</td>\n",
       "      <td>152272.50</td>\n",
       "      <td>51900.818210</td>\n",
       "      <td>3482.000980</td>\n",
       "      <td>47</td>\n",
       "      <td>2</td>\n",
       "      <td>Validação documentos</td>\n",
       "    </tr>\n",
       "    <tr>\n",
       "      <th>1998</th>\n",
       "      <td>1361</td>\n",
       "      <td>814</td>\n",
       "      <td>100</td>\n",
       "      <td>2020-07-25 20:50:30 UTC</td>\n",
       "      <td>0.0227</td>\n",
       "      <td>45431.892941</td>\n",
       "      <td>74490.36</td>\n",
       "      <td>29058.467059</td>\n",
       "      <td>1326.031489</td>\n",
       "      <td>67</td>\n",
       "      <td>5</td>\n",
       "      <td>Validação documentos</td>\n",
       "    </tr>\n",
       "    <tr>\n",
       "      <th>1999</th>\n",
       "      <td>1562</td>\n",
       "      <td>998</td>\n",
       "      <td>100</td>\n",
       "      <td>2017-03-22 12:25:42 UTC</td>\n",
       "      <td>0.0147</td>\n",
       "      <td>114794.473196</td>\n",
       "      <td>165036.26</td>\n",
       "      <td>50241.786804</td>\n",
       "      <td>3505.120046</td>\n",
       "      <td>45</td>\n",
       "      <td>0</td>\n",
       "      <td>Validação documentos</td>\n",
       "    </tr>\n",
       "  </tbody>\n",
       "</table>\n",
       "<p>2000 rows × 12 columns</p>\n",
       "</div>"
      ],
      "text/plain": [
       "      cod_proposta  cod_cliente  cod_colaborador    data_entrada_proposta  \\\n",
       "0              116          338                1  2014-05-30 18:43:12 UTC   \n",
       "1              715           45                1  2021-06-17 13:09:32 UTC   \n",
       "2              755          494                1  2021-08-10 04:24:02 UTC   \n",
       "3              953          381                1  2011-02-23 07:57:58 UTC   \n",
       "4             1046          176                1  2010-11-15 16:03:28 UTC   \n",
       "...            ...          ...              ...                      ...   \n",
       "1995          1758          176               99  2010-01-10 08:12:47 UTC   \n",
       "1996           582          241              100  2019-02-25 05:03:22 UTC   \n",
       "1997           970          106              100  2011-06-05 04:13:16 UTC   \n",
       "1998          1361          814              100  2020-07-25 20:50:30 UTC   \n",
       "1999          1562          998              100  2017-03-22 12:25:42 UTC   \n",
       "\n",
       "      taxa_juros_mensal  valor_proposta  valor_financiamento  valor_entrada  \\\n",
       "0                0.0194    36199.950355             50032.03   13832.079645   \n",
       "1                0.0131    12897.538285             19848.55    6951.011715   \n",
       "2                0.0203   122236.312551            187154.36   64918.047449   \n",
       "3                0.0167    47784.649757             59530.61   11745.960243   \n",
       "4                0.0211   178393.038243            214294.19   35901.151757   \n",
       "...                 ...             ...                  ...            ...   \n",
       "1995             0.0133    96404.111608            184043.36   87639.248392   \n",
       "1996             0.0151    61292.834593             82684.29   21391.455407   \n",
       "1997             0.0225   100371.681790            152272.50   51900.818210   \n",
       "1998             0.0227    45431.892941             74490.36   29058.467059   \n",
       "1999             0.0147   114794.473196            165036.26   50241.786804   \n",
       "\n",
       "      valor_prestacao  quantidade_parcelas  carencia       status_proposta  \n",
       "0         1045.219825                   58         0               Enviada  \n",
       "1          232.124685                  100         1               Enviada  \n",
       "2         3673.518951                   56         0               Enviada  \n",
       "3          955.041560                  109         3               Enviada  \n",
       "4        10219.659415                   22         4               Enviada  \n",
       "...               ...                  ...       ...                   ...  \n",
       "1995      1673.386037                  110         6  Validação documentos  \n",
       "1996      2219.574245                   36         2  Validação documentos  \n",
       "1997      3482.000980                   47         2  Validação documentos  \n",
       "1998      1326.031489                   67         5  Validação documentos  \n",
       "1999      3505.120046                   45         0  Validação documentos  \n",
       "\n",
       "[2000 rows x 12 columns]"
      ]
     },
     "execution_count": 17,
     "metadata": {},
     "output_type": "execute_result"
    }
   ],
   "source": [
    "df['propostas_credito']"
   ]
  },
  {
   "cell_type": "code",
   "execution_count": 18,
   "metadata": {},
   "outputs": [
    {
     "data": {
      "text/plain": [
       "18    34\n",
       "99    33\n",
       "73    33\n",
       "27    31\n",
       "37    30\n",
       "      ..\n",
       "35    11\n",
       "9     11\n",
       "8     10\n",
       "57    10\n",
       "50     8\n",
       "Name: cod_colaborador, Length: 100, dtype: int64"
      ]
     },
     "execution_count": 18,
     "metadata": {},
     "output_type": "execute_result"
    }
   ],
   "source": [
    "df['propostas_credito']['cod_colaborador'].value_counts()"
   ]
  },
  {
   "cell_type": "code",
   "execution_count": 19,
   "metadata": {},
   "outputs": [
    {
     "data": {
      "text/plain": [
       "Enviada                 527\n",
       "Aprovada                514\n",
       "Validação documentos    491\n",
       "Em análise              468\n",
       "Name: status_proposta, dtype: int64"
      ]
     },
     "execution_count": 19,
     "metadata": {},
     "output_type": "execute_result"
    }
   ],
   "source": [
    "df['propostas_credito']['status_proposta'].value_counts()"
   ]
  },
  {
   "cell_type": "markdown",
   "metadata": {},
   "source": [
    "### Transações"
   ]
  },
  {
   "cell_type": "code",
   "execution_count": 20,
   "metadata": {},
   "outputs": [
    {
     "name": "stdout",
     "output_type": "stream",
     "text": [
      "<class 'pandas.core.frame.DataFrame'>\n",
      "RangeIndex: 71999 entries, 0 to 71998\n",
      "Data columns (total 5 columns):\n",
      " #   Column           Non-Null Count  Dtype  \n",
      "---  ------           --------------  -----  \n",
      " 0   cod_transacao    71999 non-null  int64  \n",
      " 1   num_conta        71999 non-null  int64  \n",
      " 2   data_transacao   71999 non-null  object \n",
      " 3   nome_transacao   71999 non-null  object \n",
      " 4   valor_transacao  71999 non-null  float64\n",
      "dtypes: float64(1), int64(2), object(2)\n",
      "memory usage: 2.7+ MB\n"
     ]
    }
   ],
   "source": [
    "df['transacoes'].info()"
   ]
  },
  {
   "cell_type": "code",
   "execution_count": 21,
   "metadata": {},
   "outputs": [],
   "source": [
    "mes = []\n",
    "ano = []\n",
    "\n",
    "for i in range(len(df['transacoes']['data_transacao'])):\n",
    "    mes.append(int(datetime.strptime(df['transacoes']['data_transacao'][i].split()[0], \"%Y-%m-%d\").strftime(\"%m\")))\n",
    "    ano.append(int(datetime.strptime(df['transacoes']['data_transacao'][i].split()[0], \"%Y-%m-%d\").strftime(\"%Y\")))\n",
    "\n",
    "df['transacoes']['ano'] = ano\n",
    "df['transacoes']['mes'] = mes\n",
    "\n",
    "# uma análise inicial dos dados permitiu identificar que os dados do ano 2023 estão incompletos, havendo informações referentes apenas ao primeiro trimestre, logo este ano será removido do conjunto de dados para as análises seguintes\n",
    "\n",
    "df['transacoes'] = df['transacoes'].drop(df['transacoes'][df['transacoes']['ano'] == 2023].index)"
   ]
  },
  {
   "cell_type": "code",
   "execution_count": 22,
   "metadata": {},
   "outputs": [],
   "source": [
    "transac_por_conta = df['transacoes']['num_conta'].value_counts()\n",
    "\n",
    "agencias = {}\n",
    "\n",
    "for i in df['agencias']['cod_agencia'].unique():\n",
    "    df_local = pd.DataFrame(df['contas'][df['contas']['cod_agencia'] == i]['cod_cliente'])\n",
    "    df_local['num_trans'] = df_local['cod_cliente'].map(transac_por_conta)\n",
    "    agencias[i] = df_local['num_trans'].sum(axis=0)"
   ]
  },
  {
   "cell_type": "markdown",
   "metadata": {},
   "source": [
    "A agência com maior quantidade de transações é a Agência Digital, o que aponta para o maior investimento"
   ]
  },
  {
   "cell_type": "code",
   "execution_count": 23,
   "metadata": {},
   "outputs": [
    {
     "data": {
      "application/vnd.plotly.v1+json": {
       "config": {
        "plotlyServerURL": "https://plot.ly"
       },
       "data": [
        {
         "alignmentgroup": "True",
         "hovertemplate": "tipo_agencia=Digital<br>nome=%{x}<br>num_trans=%{y}<extra></extra>",
         "legendgroup": "Digital",
         "marker": {
          "color": "#636efa",
          "pattern": {
           "shape": ""
          }
         },
         "name": "Digital",
         "offsetgroup": "Digital",
         "orientation": "v",
         "showlegend": true,
         "textposition": "auto",
         "type": "bar",
         "x": [
          "Agência Digital"
         ],
         "xaxis": "x",
         "y": [
          32825
         ],
         "yaxis": "y"
        },
        {
         "alignmentgroup": "True",
         "hovertemplate": "tipo_agencia=Física<br>nome=%{x}<br>num_trans=%{y}<extra></extra>",
         "legendgroup": "Física",
         "marker": {
          "color": "#EF553B",
          "pattern": {
           "shape": ""
          }
         },
         "name": "Física",
         "offsetgroup": "Física",
         "orientation": "v",
         "showlegend": true,
         "textposition": "auto",
         "type": "bar",
         "x": [
          "Agência Matriz",
          "Agência Tatuapé",
          "Agência Campinas",
          "Agência Osasco",
          "Agência Porto Alegre",
          "Agência Rio de Janeiro",
          "Agência Jardins",
          "Agência Florianópolis",
          "Agência Recife"
         ],
         "xaxis": "x",
         "y": [
          8527,
          7156,
          5433,
          4697,
          4474,
          3779,
          2109,
          2066,
          374
         ],
         "yaxis": "y"
        }
       ],
       "layout": {
        "barmode": "relative",
        "legend": {
         "title": {
          "text": "tipo_agencia"
         },
         "tracegroupgap": 0
        },
        "margin": {
         "t": 60
        },
        "template": {
         "data": {
          "bar": [
           {
            "error_x": {
             "color": "#2a3f5f"
            },
            "error_y": {
             "color": "#2a3f5f"
            },
            "marker": {
             "line": {
              "color": "#E5ECF6",
              "width": 0.5
             },
             "pattern": {
              "fillmode": "overlay",
              "size": 10,
              "solidity": 0.2
             }
            },
            "type": "bar"
           }
          ],
          "barpolar": [
           {
            "marker": {
             "line": {
              "color": "#E5ECF6",
              "width": 0.5
             },
             "pattern": {
              "fillmode": "overlay",
              "size": 10,
              "solidity": 0.2
             }
            },
            "type": "barpolar"
           }
          ],
          "carpet": [
           {
            "aaxis": {
             "endlinecolor": "#2a3f5f",
             "gridcolor": "white",
             "linecolor": "white",
             "minorgridcolor": "white",
             "startlinecolor": "#2a3f5f"
            },
            "baxis": {
             "endlinecolor": "#2a3f5f",
             "gridcolor": "white",
             "linecolor": "white",
             "minorgridcolor": "white",
             "startlinecolor": "#2a3f5f"
            },
            "type": "carpet"
           }
          ],
          "choropleth": [
           {
            "colorbar": {
             "outlinewidth": 0,
             "ticks": ""
            },
            "type": "choropleth"
           }
          ],
          "contour": [
           {
            "colorbar": {
             "outlinewidth": 0,
             "ticks": ""
            },
            "colorscale": [
             [
              0,
              "#0d0887"
             ],
             [
              0.1111111111111111,
              "#46039f"
             ],
             [
              0.2222222222222222,
              "#7201a8"
             ],
             [
              0.3333333333333333,
              "#9c179e"
             ],
             [
              0.4444444444444444,
              "#bd3786"
             ],
             [
              0.5555555555555556,
              "#d8576b"
             ],
             [
              0.6666666666666666,
              "#ed7953"
             ],
             [
              0.7777777777777778,
              "#fb9f3a"
             ],
             [
              0.8888888888888888,
              "#fdca26"
             ],
             [
              1,
              "#f0f921"
             ]
            ],
            "type": "contour"
           }
          ],
          "contourcarpet": [
           {
            "colorbar": {
             "outlinewidth": 0,
             "ticks": ""
            },
            "type": "contourcarpet"
           }
          ],
          "heatmap": [
           {
            "colorbar": {
             "outlinewidth": 0,
             "ticks": ""
            },
            "colorscale": [
             [
              0,
              "#0d0887"
             ],
             [
              0.1111111111111111,
              "#46039f"
             ],
             [
              0.2222222222222222,
              "#7201a8"
             ],
             [
              0.3333333333333333,
              "#9c179e"
             ],
             [
              0.4444444444444444,
              "#bd3786"
             ],
             [
              0.5555555555555556,
              "#d8576b"
             ],
             [
              0.6666666666666666,
              "#ed7953"
             ],
             [
              0.7777777777777778,
              "#fb9f3a"
             ],
             [
              0.8888888888888888,
              "#fdca26"
             ],
             [
              1,
              "#f0f921"
             ]
            ],
            "type": "heatmap"
           }
          ],
          "heatmapgl": [
           {
            "colorbar": {
             "outlinewidth": 0,
             "ticks": ""
            },
            "colorscale": [
             [
              0,
              "#0d0887"
             ],
             [
              0.1111111111111111,
              "#46039f"
             ],
             [
              0.2222222222222222,
              "#7201a8"
             ],
             [
              0.3333333333333333,
              "#9c179e"
             ],
             [
              0.4444444444444444,
              "#bd3786"
             ],
             [
              0.5555555555555556,
              "#d8576b"
             ],
             [
              0.6666666666666666,
              "#ed7953"
             ],
             [
              0.7777777777777778,
              "#fb9f3a"
             ],
             [
              0.8888888888888888,
              "#fdca26"
             ],
             [
              1,
              "#f0f921"
             ]
            ],
            "type": "heatmapgl"
           }
          ],
          "histogram": [
           {
            "marker": {
             "pattern": {
              "fillmode": "overlay",
              "size": 10,
              "solidity": 0.2
             }
            },
            "type": "histogram"
           }
          ],
          "histogram2d": [
           {
            "colorbar": {
             "outlinewidth": 0,
             "ticks": ""
            },
            "colorscale": [
             [
              0,
              "#0d0887"
             ],
             [
              0.1111111111111111,
              "#46039f"
             ],
             [
              0.2222222222222222,
              "#7201a8"
             ],
             [
              0.3333333333333333,
              "#9c179e"
             ],
             [
              0.4444444444444444,
              "#bd3786"
             ],
             [
              0.5555555555555556,
              "#d8576b"
             ],
             [
              0.6666666666666666,
              "#ed7953"
             ],
             [
              0.7777777777777778,
              "#fb9f3a"
             ],
             [
              0.8888888888888888,
              "#fdca26"
             ],
             [
              1,
              "#f0f921"
             ]
            ],
            "type": "histogram2d"
           }
          ],
          "histogram2dcontour": [
           {
            "colorbar": {
             "outlinewidth": 0,
             "ticks": ""
            },
            "colorscale": [
             [
              0,
              "#0d0887"
             ],
             [
              0.1111111111111111,
              "#46039f"
             ],
             [
              0.2222222222222222,
              "#7201a8"
             ],
             [
              0.3333333333333333,
              "#9c179e"
             ],
             [
              0.4444444444444444,
              "#bd3786"
             ],
             [
              0.5555555555555556,
              "#d8576b"
             ],
             [
              0.6666666666666666,
              "#ed7953"
             ],
             [
              0.7777777777777778,
              "#fb9f3a"
             ],
             [
              0.8888888888888888,
              "#fdca26"
             ],
             [
              1,
              "#f0f921"
             ]
            ],
            "type": "histogram2dcontour"
           }
          ],
          "mesh3d": [
           {
            "colorbar": {
             "outlinewidth": 0,
             "ticks": ""
            },
            "type": "mesh3d"
           }
          ],
          "parcoords": [
           {
            "line": {
             "colorbar": {
              "outlinewidth": 0,
              "ticks": ""
             }
            },
            "type": "parcoords"
           }
          ],
          "pie": [
           {
            "automargin": true,
            "type": "pie"
           }
          ],
          "scatter": [
           {
            "marker": {
             "colorbar": {
              "outlinewidth": 0,
              "ticks": ""
             }
            },
            "type": "scatter"
           }
          ],
          "scatter3d": [
           {
            "line": {
             "colorbar": {
              "outlinewidth": 0,
              "ticks": ""
             }
            },
            "marker": {
             "colorbar": {
              "outlinewidth": 0,
              "ticks": ""
             }
            },
            "type": "scatter3d"
           }
          ],
          "scattercarpet": [
           {
            "marker": {
             "colorbar": {
              "outlinewidth": 0,
              "ticks": ""
             }
            },
            "type": "scattercarpet"
           }
          ],
          "scattergeo": [
           {
            "marker": {
             "colorbar": {
              "outlinewidth": 0,
              "ticks": ""
             }
            },
            "type": "scattergeo"
           }
          ],
          "scattergl": [
           {
            "marker": {
             "colorbar": {
              "outlinewidth": 0,
              "ticks": ""
             }
            },
            "type": "scattergl"
           }
          ],
          "scattermapbox": [
           {
            "marker": {
             "colorbar": {
              "outlinewidth": 0,
              "ticks": ""
             }
            },
            "type": "scattermapbox"
           }
          ],
          "scatterpolar": [
           {
            "marker": {
             "colorbar": {
              "outlinewidth": 0,
              "ticks": ""
             }
            },
            "type": "scatterpolar"
           }
          ],
          "scatterpolargl": [
           {
            "marker": {
             "colorbar": {
              "outlinewidth": 0,
              "ticks": ""
             }
            },
            "type": "scatterpolargl"
           }
          ],
          "scatterternary": [
           {
            "marker": {
             "colorbar": {
              "outlinewidth": 0,
              "ticks": ""
             }
            },
            "type": "scatterternary"
           }
          ],
          "surface": [
           {
            "colorbar": {
             "outlinewidth": 0,
             "ticks": ""
            },
            "colorscale": [
             [
              0,
              "#0d0887"
             ],
             [
              0.1111111111111111,
              "#46039f"
             ],
             [
              0.2222222222222222,
              "#7201a8"
             ],
             [
              0.3333333333333333,
              "#9c179e"
             ],
             [
              0.4444444444444444,
              "#bd3786"
             ],
             [
              0.5555555555555556,
              "#d8576b"
             ],
             [
              0.6666666666666666,
              "#ed7953"
             ],
             [
              0.7777777777777778,
              "#fb9f3a"
             ],
             [
              0.8888888888888888,
              "#fdca26"
             ],
             [
              1,
              "#f0f921"
             ]
            ],
            "type": "surface"
           }
          ],
          "table": [
           {
            "cells": {
             "fill": {
              "color": "#EBF0F8"
             },
             "line": {
              "color": "white"
             }
            },
            "header": {
             "fill": {
              "color": "#C8D4E3"
             },
             "line": {
              "color": "white"
             }
            },
            "type": "table"
           }
          ]
         },
         "layout": {
          "annotationdefaults": {
           "arrowcolor": "#2a3f5f",
           "arrowhead": 0,
           "arrowwidth": 1
          },
          "autotypenumbers": "strict",
          "coloraxis": {
           "colorbar": {
            "outlinewidth": 0,
            "ticks": ""
           }
          },
          "colorscale": {
           "diverging": [
            [
             0,
             "#8e0152"
            ],
            [
             0.1,
             "#c51b7d"
            ],
            [
             0.2,
             "#de77ae"
            ],
            [
             0.3,
             "#f1b6da"
            ],
            [
             0.4,
             "#fde0ef"
            ],
            [
             0.5,
             "#f7f7f7"
            ],
            [
             0.6,
             "#e6f5d0"
            ],
            [
             0.7,
             "#b8e186"
            ],
            [
             0.8,
             "#7fbc41"
            ],
            [
             0.9,
             "#4d9221"
            ],
            [
             1,
             "#276419"
            ]
           ],
           "sequential": [
            [
             0,
             "#0d0887"
            ],
            [
             0.1111111111111111,
             "#46039f"
            ],
            [
             0.2222222222222222,
             "#7201a8"
            ],
            [
             0.3333333333333333,
             "#9c179e"
            ],
            [
             0.4444444444444444,
             "#bd3786"
            ],
            [
             0.5555555555555556,
             "#d8576b"
            ],
            [
             0.6666666666666666,
             "#ed7953"
            ],
            [
             0.7777777777777778,
             "#fb9f3a"
            ],
            [
             0.8888888888888888,
             "#fdca26"
            ],
            [
             1,
             "#f0f921"
            ]
           ],
           "sequentialminus": [
            [
             0,
             "#0d0887"
            ],
            [
             0.1111111111111111,
             "#46039f"
            ],
            [
             0.2222222222222222,
             "#7201a8"
            ],
            [
             0.3333333333333333,
             "#9c179e"
            ],
            [
             0.4444444444444444,
             "#bd3786"
            ],
            [
             0.5555555555555556,
             "#d8576b"
            ],
            [
             0.6666666666666666,
             "#ed7953"
            ],
            [
             0.7777777777777778,
             "#fb9f3a"
            ],
            [
             0.8888888888888888,
             "#fdca26"
            ],
            [
             1,
             "#f0f921"
            ]
           ]
          },
          "colorway": [
           "#636efa",
           "#EF553B",
           "#00cc96",
           "#ab63fa",
           "#FFA15A",
           "#19d3f3",
           "#FF6692",
           "#B6E880",
           "#FF97FF",
           "#FECB52"
          ],
          "font": {
           "color": "#2a3f5f"
          },
          "geo": {
           "bgcolor": "white",
           "lakecolor": "white",
           "landcolor": "#E5ECF6",
           "showlakes": true,
           "showland": true,
           "subunitcolor": "white"
          },
          "hoverlabel": {
           "align": "left"
          },
          "hovermode": "closest",
          "mapbox": {
           "style": "light"
          },
          "paper_bgcolor": "white",
          "plot_bgcolor": "#E5ECF6",
          "polar": {
           "angularaxis": {
            "gridcolor": "white",
            "linecolor": "white",
            "ticks": ""
           },
           "bgcolor": "#E5ECF6",
           "radialaxis": {
            "gridcolor": "white",
            "linecolor": "white",
            "ticks": ""
           }
          },
          "scene": {
           "xaxis": {
            "backgroundcolor": "#E5ECF6",
            "gridcolor": "white",
            "gridwidth": 2,
            "linecolor": "white",
            "showbackground": true,
            "ticks": "",
            "zerolinecolor": "white"
           },
           "yaxis": {
            "backgroundcolor": "#E5ECF6",
            "gridcolor": "white",
            "gridwidth": 2,
            "linecolor": "white",
            "showbackground": true,
            "ticks": "",
            "zerolinecolor": "white"
           },
           "zaxis": {
            "backgroundcolor": "#E5ECF6",
            "gridcolor": "white",
            "gridwidth": 2,
            "linecolor": "white",
            "showbackground": true,
            "ticks": "",
            "zerolinecolor": "white"
           }
          },
          "shapedefaults": {
           "line": {
            "color": "#2a3f5f"
           }
          },
          "ternary": {
           "aaxis": {
            "gridcolor": "white",
            "linecolor": "white",
            "ticks": ""
           },
           "baxis": {
            "gridcolor": "white",
            "linecolor": "white",
            "ticks": ""
           },
           "bgcolor": "#E5ECF6",
           "caxis": {
            "gridcolor": "white",
            "linecolor": "white",
            "ticks": ""
           }
          },
          "title": {
           "x": 0.05
          },
          "xaxis": {
           "automargin": true,
           "gridcolor": "white",
           "linecolor": "white",
           "ticks": "",
           "title": {
            "standoff": 15
           },
           "zerolinecolor": "white",
           "zerolinewidth": 2
          },
          "yaxis": {
           "automargin": true,
           "gridcolor": "white",
           "linecolor": "white",
           "ticks": "",
           "title": {
            "standoff": 15
           },
           "zerolinecolor": "white",
           "zerolinewidth": 2
          }
         }
        },
        "xaxis": {
         "anchor": "y",
         "domain": [
          0,
          1
         ],
         "title": {
          "text": "nome"
         }
        },
        "yaxis": {
         "anchor": "x",
         "domain": [
          0,
          1
         ],
         "title": {
          "text": "num_trans"
         }
        }
       }
      }
     },
     "metadata": {},
     "output_type": "display_data"
    }
   ],
   "source": [
    "df['agencias']['num_trans'] = df['agencias']['cod_agencia'].map(agencias)\n",
    "\n",
    "fig = px.bar(df['agencias'], x='nome', y='num_trans', color='tipo_agencia')\n",
    "\n",
    "fig.show()"
   ]
  },
  {
   "cell_type": "code",
   "execution_count": 24,
   "metadata": {},
   "outputs": [
    {
     "data": {
      "application/vnd.plotly.v1+json": {
       "config": {
        "plotlyServerURL": "https://plot.ly"
       },
       "data": [
        {
         "alignmentgroup": "True",
         "hovertemplate": "ano=2010<br>transacao=%{x}<br>valor=%{y}<extra></extra>",
         "legendgroup": "2010",
         "marker": {
          "color": "#636efa",
          "pattern": {
           "shape": ""
          }
         },
         "name": "2010",
         "offsetgroup": "2010",
         "orientation": "v",
         "showlegend": true,
         "textposition": "auto",
         "type": "bar",
         "x": [
          "Compra Crédito",
          "Compra Débito",
          "DOC - Realizado",
          "DOC - Recebido",
          "Depósito em espécie",
          "Estorno de Debito",
          "Pagamento de boleto",
          "Pix - Realizado",
          "Pix - Recebido",
          "Pix Saque",
          "Saque",
          "TED - Realizado",
          "TED - Recebido",
          "Transferência entre CC - Crédito",
          "Transferência entre CC - Débito"
         ],
         "xaxis": "x",
         "y": [
          35,
          33,
          null,
          1,
          16,
          1,
          null,
          null,
          null,
          null,
          2,
          null,
          3,
          1,
          1
         ],
         "yaxis": "y"
        },
        {
         "alignmentgroup": "True",
         "hovertemplate": "ano=2011<br>transacao=%{x}<br>valor=%{y}<extra></extra>",
         "legendgroup": "2011",
         "marker": {
          "color": "#EF553B",
          "pattern": {
           "shape": ""
          }
         },
         "name": "2011",
         "offsetgroup": "2011",
         "orientation": "v",
         "showlegend": true,
         "textposition": "auto",
         "type": "bar",
         "x": [
          "Compra Crédito",
          "Compra Débito",
          "DOC - Realizado",
          "DOC - Recebido",
          "Depósito em espécie",
          "Estorno de Debito",
          "Pagamento de boleto",
          "Pix - Realizado",
          "Pix - Recebido",
          "Pix Saque",
          "Saque",
          "TED - Realizado",
          "TED - Recebido",
          "Transferência entre CC - Crédito",
          "Transferência entre CC - Débito"
         ],
         "xaxis": "x",
         "y": [
          159,
          103,
          1,
          2,
          58,
          6,
          3,
          null,
          null,
          null,
          14,
          1,
          17,
          3,
          null
         ],
         "yaxis": "y"
        },
        {
         "alignmentgroup": "True",
         "hovertemplate": "ano=2012<br>transacao=%{x}<br>valor=%{y}<extra></extra>",
         "legendgroup": "2012",
         "marker": {
          "color": "#00cc96",
          "pattern": {
           "shape": ""
          }
         },
         "name": "2012",
         "offsetgroup": "2012",
         "orientation": "v",
         "showlegend": true,
         "textposition": "auto",
         "type": "bar",
         "x": [
          "Compra Crédito",
          "Compra Débito",
          "DOC - Realizado",
          "DOC - Recebido",
          "Depósito em espécie",
          "Estorno de Debito",
          "Pagamento de boleto",
          "Pix - Realizado",
          "Pix - Recebido",
          "Pix Saque",
          "Saque",
          "TED - Realizado",
          "TED - Recebido",
          "Transferência entre CC - Crédito",
          "Transferência entre CC - Débito"
         ],
         "xaxis": "x",
         "y": [
          314,
          239,
          1,
          9,
          101,
          2,
          7,
          null,
          null,
          null,
          26,
          null,
          19,
          10,
          6
         ],
         "yaxis": "y"
        },
        {
         "alignmentgroup": "True",
         "hovertemplate": "ano=2013<br>transacao=%{x}<br>valor=%{y}<extra></extra>",
         "legendgroup": "2013",
         "marker": {
          "color": "#ab63fa",
          "pattern": {
           "shape": ""
          }
         },
         "name": "2013",
         "offsetgroup": "2013",
         "orientation": "v",
         "showlegend": true,
         "textposition": "auto",
         "type": "bar",
         "x": [
          "Compra Crédito",
          "Compra Débito",
          "DOC - Realizado",
          "DOC - Recebido",
          "Depósito em espécie",
          "Estorno de Debito",
          "Pagamento de boleto",
          "Pix - Realizado",
          "Pix - Recebido",
          "Pix Saque",
          "Saque",
          "TED - Realizado",
          "TED - Recebido",
          "Transferência entre CC - Crédito",
          "Transferência entre CC - Débito"
         ],
         "xaxis": "x",
         "y": [
          510,
          435,
          1,
          11,
          156,
          16,
          11,
          null,
          null,
          null,
          53,
          2,
          34,
          14,
          6
         ],
         "yaxis": "y"
        },
        {
         "alignmentgroup": "True",
         "hovertemplate": "ano=2014<br>transacao=%{x}<br>valor=%{y}<extra></extra>",
         "legendgroup": "2014",
         "marker": {
          "color": "#FFA15A",
          "pattern": {
           "shape": ""
          }
         },
         "name": "2014",
         "offsetgroup": "2014",
         "orientation": "v",
         "showlegend": true,
         "textposition": "auto",
         "type": "bar",
         "x": [
          "Compra Crédito",
          "Compra Débito",
          "DOC - Realizado",
          "DOC - Recebido",
          "Depósito em espécie",
          "Estorno de Debito",
          "Pagamento de boleto",
          "Pix - Realizado",
          "Pix - Recebido",
          "Pix Saque",
          "Saque",
          "TED - Realizado",
          "TED - Recebido",
          "Transferência entre CC - Crédito",
          "Transferência entre CC - Débito"
         ],
         "xaxis": "x",
         "y": [
          686,
          491,
          3,
          16,
          146,
          9,
          9,
          null,
          null,
          null,
          80,
          4,
          39,
          13,
          7
         ],
         "yaxis": "y"
        },
        {
         "alignmentgroup": "True",
         "hovertemplate": "ano=2015<br>transacao=%{x}<br>valor=%{y}<extra></extra>",
         "legendgroup": "2015",
         "marker": {
          "color": "#19d3f3",
          "pattern": {
           "shape": ""
          }
         },
         "name": "2015",
         "offsetgroup": "2015",
         "orientation": "v",
         "showlegend": true,
         "textposition": "auto",
         "type": "bar",
         "x": [
          "Compra Crédito",
          "Compra Débito",
          "DOC - Realizado",
          "DOC - Recebido",
          "Depósito em espécie",
          "Estorno de Debito",
          "Pagamento de boleto",
          "Pix - Realizado",
          "Pix - Recebido",
          "Pix Saque",
          "Saque",
          "TED - Realizado",
          "TED - Recebido",
          "Transferência entre CC - Crédito",
          "Transferência entre CC - Débito"
         ],
         "xaxis": "x",
         "y": [
          811,
          645,
          1,
          18,
          228,
          16,
          13,
          null,
          null,
          null,
          92,
          4,
          42,
          18,
          9
         ],
         "yaxis": "y"
        },
        {
         "alignmentgroup": "True",
         "hovertemplate": "ano=2016<br>transacao=%{x}<br>valor=%{y}<extra></extra>",
         "legendgroup": "2016",
         "marker": {
          "color": "#FF6692",
          "pattern": {
           "shape": ""
          }
         },
         "name": "2016",
         "offsetgroup": "2016",
         "orientation": "v",
         "showlegend": true,
         "textposition": "auto",
         "type": "bar",
         "x": [
          "Compra Crédito",
          "Compra Débito",
          "DOC - Realizado",
          "DOC - Recebido",
          "Depósito em espécie",
          "Estorno de Debito",
          "Pagamento de boleto",
          "Pix - Realizado",
          "Pix - Recebido",
          "Pix Saque",
          "Saque",
          "TED - Realizado",
          "TED - Recebido",
          "Transferência entre CC - Crédito",
          "Transferência entre CC - Débito"
         ],
         "xaxis": "x",
         "y": [
          1133,
          830,
          2,
          18,
          324,
          28,
          26,
          null,
          null,
          null,
          139,
          3,
          54,
          34,
          13
         ],
         "yaxis": "y"
        },
        {
         "alignmentgroup": "True",
         "hovertemplate": "ano=2017<br>transacao=%{x}<br>valor=%{y}<extra></extra>",
         "legendgroup": "2017",
         "marker": {
          "color": "#B6E880",
          "pattern": {
           "shape": ""
          }
         },
         "name": "2017",
         "offsetgroup": "2017",
         "orientation": "v",
         "showlegend": true,
         "textposition": "auto",
         "type": "bar",
         "x": [
          "Compra Crédito",
          "Compra Débito",
          "DOC - Realizado",
          "DOC - Recebido",
          "Depósito em espécie",
          "Estorno de Debito",
          "Pagamento de boleto",
          "Pix - Realizado",
          "Pix - Recebido",
          "Pix Saque",
          "Saque",
          "TED - Realizado",
          "TED - Recebido",
          "Transferência entre CC - Crédito",
          "Transferência entre CC - Débito"
         ],
         "xaxis": "x",
         "y": [
          1592,
          1118,
          3,
          35,
          423,
          38,
          32,
          null,
          null,
          null,
          176,
          12,
          64,
          36,
          25
         ],
         "yaxis": "y"
        },
        {
         "alignmentgroup": "True",
         "hovertemplate": "ano=2018<br>transacao=%{x}<br>valor=%{y}<extra></extra>",
         "legendgroup": "2018",
         "marker": {
          "color": "#FF97FF",
          "pattern": {
           "shape": ""
          }
         },
         "name": "2018",
         "offsetgroup": "2018",
         "orientation": "v",
         "showlegend": true,
         "textposition": "auto",
         "type": "bar",
         "x": [
          "Compra Crédito",
          "Compra Débito",
          "DOC - Realizado",
          "DOC - Recebido",
          "Depósito em espécie",
          "Estorno de Debito",
          "Pagamento de boleto",
          "Pix - Realizado",
          "Pix - Recebido",
          "Pix Saque",
          "Saque",
          "TED - Realizado",
          "TED - Recebido",
          "Transferência entre CC - Crédito",
          "Transferência entre CC - Débito"
         ],
         "xaxis": "x",
         "y": [
          1772,
          1252,
          9,
          24,
          451,
          41,
          30,
          null,
          null,
          null,
          191,
          10,
          106,
          39,
          20
         ],
         "yaxis": "y"
        },
        {
         "alignmentgroup": "True",
         "hovertemplate": "ano=2019<br>transacao=%{x}<br>valor=%{y}<extra></extra>",
         "legendgroup": "2019",
         "marker": {
          "color": "#FECB52",
          "pattern": {
           "shape": ""
          }
         },
         "name": "2019",
         "offsetgroup": "2019",
         "orientation": "v",
         "showlegend": true,
         "textposition": "auto",
         "type": "bar",
         "x": [
          "Compra Crédito",
          "Compra Débito",
          "DOC - Realizado",
          "DOC - Recebido",
          "Depósito em espécie",
          "Estorno de Debito",
          "Pagamento de boleto",
          "Pix - Realizado",
          "Pix - Recebido",
          "Pix Saque",
          "Saque",
          "TED - Realizado",
          "TED - Recebido",
          "Transferência entre CC - Crédito",
          "Transferência entre CC - Débito"
         ],
         "xaxis": "x",
         "y": [
          2502,
          1760,
          15,
          47,
          530,
          38,
          47,
          null,
          null,
          null,
          272,
          11,
          117,
          50,
          39
         ],
         "yaxis": "y"
        },
        {
         "alignmentgroup": "True",
         "hovertemplate": "ano=2020<br>transacao=%{x}<br>valor=%{y}<extra></extra>",
         "legendgroup": "2020",
         "marker": {
          "color": "#636efa",
          "pattern": {
           "shape": ""
          }
         },
         "name": "2020",
         "offsetgroup": "2020",
         "orientation": "v",
         "showlegend": true,
         "textposition": "auto",
         "type": "bar",
         "x": [
          "Compra Crédito",
          "Compra Débito",
          "DOC - Realizado",
          "DOC - Recebido",
          "Depósito em espécie",
          "Estorno de Debito",
          "Pagamento de boleto",
          "Pix - Realizado",
          "Pix - Recebido",
          "Pix Saque",
          "Saque",
          "TED - Realizado",
          "TED - Recebido",
          "Transferência entre CC - Crédito",
          "Transferência entre CC - Débito"
         ],
         "xaxis": "x",
         "y": [
          2507,
          1706,
          13,
          43,
          559,
          36,
          47,
          246,
          86,
          2,
          299,
          23,
          122,
          53,
          41
         ],
         "yaxis": "y"
        },
        {
         "alignmentgroup": "True",
         "hovertemplate": "ano=2021<br>transacao=%{x}<br>valor=%{y}<extra></extra>",
         "legendgroup": "2021",
         "marker": {
          "color": "#EF553B",
          "pattern": {
           "shape": ""
          }
         },
         "name": "2021",
         "offsetgroup": "2021",
         "orientation": "v",
         "showlegend": true,
         "textposition": "auto",
         "type": "bar",
         "x": [
          "Compra Crédito",
          "Compra Débito",
          "DOC - Realizado",
          "DOC - Recebido",
          "Depósito em espécie",
          "Estorno de Debito",
          "Pagamento de boleto",
          "Pix - Realizado",
          "Pix - Recebido",
          "Pix Saque",
          "Saque",
          "TED - Realizado",
          "TED - Recebido",
          "Transferência entre CC - Crédito",
          "Transferência entre CC - Débito"
         ],
         "xaxis": "x",
         "y": [
          2219,
          1524,
          5,
          23,
          395,
          32,
          36,
          2235,
          899,
          17,
          249,
          13,
          82,
          27,
          21
         ],
         "yaxis": "y"
        },
        {
         "alignmentgroup": "True",
         "hovertemplate": "ano=2022<br>transacao=%{x}<br>valor=%{y}<extra></extra>",
         "legendgroup": "2022",
         "marker": {
          "color": "#00cc96",
          "pattern": {
           "shape": ""
          }
         },
         "name": "2022",
         "offsetgroup": "2022",
         "orientation": "v",
         "showlegend": true,
         "textposition": "auto",
         "type": "bar",
         "x": [
          "Compra Crédito",
          "Compra Débito",
          "DOC - Realizado",
          "DOC - Recebido",
          "Depósito em espécie",
          "Estorno de Debito",
          "Pagamento de boleto",
          "Pix - Realizado",
          "Pix - Recebido",
          "Pix Saque",
          "Saque",
          "TED - Realizado",
          "TED - Recebido",
          "Transferência entre CC - Crédito",
          "Transferência entre CC - Débito"
         ],
         "xaxis": "x",
         "y": [
          10570,
          7411,
          36,
          151,
          1455,
          138,
          190,
          10537,
          4077,
          70,
          1272,
          45,
          300,
          139,
          115
         ],
         "yaxis": "y"
        }
       ],
       "layout": {
        "barmode": "relative",
        "legend": {
         "title": {
          "text": "ano"
         },
         "tracegroupgap": 0
        },
        "margin": {
         "t": 60
        },
        "template": {
         "data": {
          "bar": [
           {
            "error_x": {
             "color": "#2a3f5f"
            },
            "error_y": {
             "color": "#2a3f5f"
            },
            "marker": {
             "line": {
              "color": "#E5ECF6",
              "width": 0.5
             },
             "pattern": {
              "fillmode": "overlay",
              "size": 10,
              "solidity": 0.2
             }
            },
            "type": "bar"
           }
          ],
          "barpolar": [
           {
            "marker": {
             "line": {
              "color": "#E5ECF6",
              "width": 0.5
             },
             "pattern": {
              "fillmode": "overlay",
              "size": 10,
              "solidity": 0.2
             }
            },
            "type": "barpolar"
           }
          ],
          "carpet": [
           {
            "aaxis": {
             "endlinecolor": "#2a3f5f",
             "gridcolor": "white",
             "linecolor": "white",
             "minorgridcolor": "white",
             "startlinecolor": "#2a3f5f"
            },
            "baxis": {
             "endlinecolor": "#2a3f5f",
             "gridcolor": "white",
             "linecolor": "white",
             "minorgridcolor": "white",
             "startlinecolor": "#2a3f5f"
            },
            "type": "carpet"
           }
          ],
          "choropleth": [
           {
            "colorbar": {
             "outlinewidth": 0,
             "ticks": ""
            },
            "type": "choropleth"
           }
          ],
          "contour": [
           {
            "colorbar": {
             "outlinewidth": 0,
             "ticks": ""
            },
            "colorscale": [
             [
              0,
              "#0d0887"
             ],
             [
              0.1111111111111111,
              "#46039f"
             ],
             [
              0.2222222222222222,
              "#7201a8"
             ],
             [
              0.3333333333333333,
              "#9c179e"
             ],
             [
              0.4444444444444444,
              "#bd3786"
             ],
             [
              0.5555555555555556,
              "#d8576b"
             ],
             [
              0.6666666666666666,
              "#ed7953"
             ],
             [
              0.7777777777777778,
              "#fb9f3a"
             ],
             [
              0.8888888888888888,
              "#fdca26"
             ],
             [
              1,
              "#f0f921"
             ]
            ],
            "type": "contour"
           }
          ],
          "contourcarpet": [
           {
            "colorbar": {
             "outlinewidth": 0,
             "ticks": ""
            },
            "type": "contourcarpet"
           }
          ],
          "heatmap": [
           {
            "colorbar": {
             "outlinewidth": 0,
             "ticks": ""
            },
            "colorscale": [
             [
              0,
              "#0d0887"
             ],
             [
              0.1111111111111111,
              "#46039f"
             ],
             [
              0.2222222222222222,
              "#7201a8"
             ],
             [
              0.3333333333333333,
              "#9c179e"
             ],
             [
              0.4444444444444444,
              "#bd3786"
             ],
             [
              0.5555555555555556,
              "#d8576b"
             ],
             [
              0.6666666666666666,
              "#ed7953"
             ],
             [
              0.7777777777777778,
              "#fb9f3a"
             ],
             [
              0.8888888888888888,
              "#fdca26"
             ],
             [
              1,
              "#f0f921"
             ]
            ],
            "type": "heatmap"
           }
          ],
          "heatmapgl": [
           {
            "colorbar": {
             "outlinewidth": 0,
             "ticks": ""
            },
            "colorscale": [
             [
              0,
              "#0d0887"
             ],
             [
              0.1111111111111111,
              "#46039f"
             ],
             [
              0.2222222222222222,
              "#7201a8"
             ],
             [
              0.3333333333333333,
              "#9c179e"
             ],
             [
              0.4444444444444444,
              "#bd3786"
             ],
             [
              0.5555555555555556,
              "#d8576b"
             ],
             [
              0.6666666666666666,
              "#ed7953"
             ],
             [
              0.7777777777777778,
              "#fb9f3a"
             ],
             [
              0.8888888888888888,
              "#fdca26"
             ],
             [
              1,
              "#f0f921"
             ]
            ],
            "type": "heatmapgl"
           }
          ],
          "histogram": [
           {
            "marker": {
             "pattern": {
              "fillmode": "overlay",
              "size": 10,
              "solidity": 0.2
             }
            },
            "type": "histogram"
           }
          ],
          "histogram2d": [
           {
            "colorbar": {
             "outlinewidth": 0,
             "ticks": ""
            },
            "colorscale": [
             [
              0,
              "#0d0887"
             ],
             [
              0.1111111111111111,
              "#46039f"
             ],
             [
              0.2222222222222222,
              "#7201a8"
             ],
             [
              0.3333333333333333,
              "#9c179e"
             ],
             [
              0.4444444444444444,
              "#bd3786"
             ],
             [
              0.5555555555555556,
              "#d8576b"
             ],
             [
              0.6666666666666666,
              "#ed7953"
             ],
             [
              0.7777777777777778,
              "#fb9f3a"
             ],
             [
              0.8888888888888888,
              "#fdca26"
             ],
             [
              1,
              "#f0f921"
             ]
            ],
            "type": "histogram2d"
           }
          ],
          "histogram2dcontour": [
           {
            "colorbar": {
             "outlinewidth": 0,
             "ticks": ""
            },
            "colorscale": [
             [
              0,
              "#0d0887"
             ],
             [
              0.1111111111111111,
              "#46039f"
             ],
             [
              0.2222222222222222,
              "#7201a8"
             ],
             [
              0.3333333333333333,
              "#9c179e"
             ],
             [
              0.4444444444444444,
              "#bd3786"
             ],
             [
              0.5555555555555556,
              "#d8576b"
             ],
             [
              0.6666666666666666,
              "#ed7953"
             ],
             [
              0.7777777777777778,
              "#fb9f3a"
             ],
             [
              0.8888888888888888,
              "#fdca26"
             ],
             [
              1,
              "#f0f921"
             ]
            ],
            "type": "histogram2dcontour"
           }
          ],
          "mesh3d": [
           {
            "colorbar": {
             "outlinewidth": 0,
             "ticks": ""
            },
            "type": "mesh3d"
           }
          ],
          "parcoords": [
           {
            "line": {
             "colorbar": {
              "outlinewidth": 0,
              "ticks": ""
             }
            },
            "type": "parcoords"
           }
          ],
          "pie": [
           {
            "automargin": true,
            "type": "pie"
           }
          ],
          "scatter": [
           {
            "marker": {
             "colorbar": {
              "outlinewidth": 0,
              "ticks": ""
             }
            },
            "type": "scatter"
           }
          ],
          "scatter3d": [
           {
            "line": {
             "colorbar": {
              "outlinewidth": 0,
              "ticks": ""
             }
            },
            "marker": {
             "colorbar": {
              "outlinewidth": 0,
              "ticks": ""
             }
            },
            "type": "scatter3d"
           }
          ],
          "scattercarpet": [
           {
            "marker": {
             "colorbar": {
              "outlinewidth": 0,
              "ticks": ""
             }
            },
            "type": "scattercarpet"
           }
          ],
          "scattergeo": [
           {
            "marker": {
             "colorbar": {
              "outlinewidth": 0,
              "ticks": ""
             }
            },
            "type": "scattergeo"
           }
          ],
          "scattergl": [
           {
            "marker": {
             "colorbar": {
              "outlinewidth": 0,
              "ticks": ""
             }
            },
            "type": "scattergl"
           }
          ],
          "scattermapbox": [
           {
            "marker": {
             "colorbar": {
              "outlinewidth": 0,
              "ticks": ""
             }
            },
            "type": "scattermapbox"
           }
          ],
          "scatterpolar": [
           {
            "marker": {
             "colorbar": {
              "outlinewidth": 0,
              "ticks": ""
             }
            },
            "type": "scatterpolar"
           }
          ],
          "scatterpolargl": [
           {
            "marker": {
             "colorbar": {
              "outlinewidth": 0,
              "ticks": ""
             }
            },
            "type": "scatterpolargl"
           }
          ],
          "scatterternary": [
           {
            "marker": {
             "colorbar": {
              "outlinewidth": 0,
              "ticks": ""
             }
            },
            "type": "scatterternary"
           }
          ],
          "surface": [
           {
            "colorbar": {
             "outlinewidth": 0,
             "ticks": ""
            },
            "colorscale": [
             [
              0,
              "#0d0887"
             ],
             [
              0.1111111111111111,
              "#46039f"
             ],
             [
              0.2222222222222222,
              "#7201a8"
             ],
             [
              0.3333333333333333,
              "#9c179e"
             ],
             [
              0.4444444444444444,
              "#bd3786"
             ],
             [
              0.5555555555555556,
              "#d8576b"
             ],
             [
              0.6666666666666666,
              "#ed7953"
             ],
             [
              0.7777777777777778,
              "#fb9f3a"
             ],
             [
              0.8888888888888888,
              "#fdca26"
             ],
             [
              1,
              "#f0f921"
             ]
            ],
            "type": "surface"
           }
          ],
          "table": [
           {
            "cells": {
             "fill": {
              "color": "#EBF0F8"
             },
             "line": {
              "color": "white"
             }
            },
            "header": {
             "fill": {
              "color": "#C8D4E3"
             },
             "line": {
              "color": "white"
             }
            },
            "type": "table"
           }
          ]
         },
         "layout": {
          "annotationdefaults": {
           "arrowcolor": "#2a3f5f",
           "arrowhead": 0,
           "arrowwidth": 1
          },
          "autotypenumbers": "strict",
          "coloraxis": {
           "colorbar": {
            "outlinewidth": 0,
            "ticks": ""
           }
          },
          "colorscale": {
           "diverging": [
            [
             0,
             "#8e0152"
            ],
            [
             0.1,
             "#c51b7d"
            ],
            [
             0.2,
             "#de77ae"
            ],
            [
             0.3,
             "#f1b6da"
            ],
            [
             0.4,
             "#fde0ef"
            ],
            [
             0.5,
             "#f7f7f7"
            ],
            [
             0.6,
             "#e6f5d0"
            ],
            [
             0.7,
             "#b8e186"
            ],
            [
             0.8,
             "#7fbc41"
            ],
            [
             0.9,
             "#4d9221"
            ],
            [
             1,
             "#276419"
            ]
           ],
           "sequential": [
            [
             0,
             "#0d0887"
            ],
            [
             0.1111111111111111,
             "#46039f"
            ],
            [
             0.2222222222222222,
             "#7201a8"
            ],
            [
             0.3333333333333333,
             "#9c179e"
            ],
            [
             0.4444444444444444,
             "#bd3786"
            ],
            [
             0.5555555555555556,
             "#d8576b"
            ],
            [
             0.6666666666666666,
             "#ed7953"
            ],
            [
             0.7777777777777778,
             "#fb9f3a"
            ],
            [
             0.8888888888888888,
             "#fdca26"
            ],
            [
             1,
             "#f0f921"
            ]
           ],
           "sequentialminus": [
            [
             0,
             "#0d0887"
            ],
            [
             0.1111111111111111,
             "#46039f"
            ],
            [
             0.2222222222222222,
             "#7201a8"
            ],
            [
             0.3333333333333333,
             "#9c179e"
            ],
            [
             0.4444444444444444,
             "#bd3786"
            ],
            [
             0.5555555555555556,
             "#d8576b"
            ],
            [
             0.6666666666666666,
             "#ed7953"
            ],
            [
             0.7777777777777778,
             "#fb9f3a"
            ],
            [
             0.8888888888888888,
             "#fdca26"
            ],
            [
             1,
             "#f0f921"
            ]
           ]
          },
          "colorway": [
           "#636efa",
           "#EF553B",
           "#00cc96",
           "#ab63fa",
           "#FFA15A",
           "#19d3f3",
           "#FF6692",
           "#B6E880",
           "#FF97FF",
           "#FECB52"
          ],
          "font": {
           "color": "#2a3f5f"
          },
          "geo": {
           "bgcolor": "white",
           "lakecolor": "white",
           "landcolor": "#E5ECF6",
           "showlakes": true,
           "showland": true,
           "subunitcolor": "white"
          },
          "hoverlabel": {
           "align": "left"
          },
          "hovermode": "closest",
          "mapbox": {
           "style": "light"
          },
          "paper_bgcolor": "white",
          "plot_bgcolor": "#E5ECF6",
          "polar": {
           "angularaxis": {
            "gridcolor": "white",
            "linecolor": "white",
            "ticks": ""
           },
           "bgcolor": "#E5ECF6",
           "radialaxis": {
            "gridcolor": "white",
            "linecolor": "white",
            "ticks": ""
           }
          },
          "scene": {
           "xaxis": {
            "backgroundcolor": "#E5ECF6",
            "gridcolor": "white",
            "gridwidth": 2,
            "linecolor": "white",
            "showbackground": true,
            "ticks": "",
            "zerolinecolor": "white"
           },
           "yaxis": {
            "backgroundcolor": "#E5ECF6",
            "gridcolor": "white",
            "gridwidth": 2,
            "linecolor": "white",
            "showbackground": true,
            "ticks": "",
            "zerolinecolor": "white"
           },
           "zaxis": {
            "backgroundcolor": "#E5ECF6",
            "gridcolor": "white",
            "gridwidth": 2,
            "linecolor": "white",
            "showbackground": true,
            "ticks": "",
            "zerolinecolor": "white"
           }
          },
          "shapedefaults": {
           "line": {
            "color": "#2a3f5f"
           }
          },
          "ternary": {
           "aaxis": {
            "gridcolor": "white",
            "linecolor": "white",
            "ticks": ""
           },
           "baxis": {
            "gridcolor": "white",
            "linecolor": "white",
            "ticks": ""
           },
           "bgcolor": "#E5ECF6",
           "caxis": {
            "gridcolor": "white",
            "linecolor": "white",
            "ticks": ""
           }
          },
          "title": {
           "x": 0.05
          },
          "xaxis": {
           "automargin": true,
           "gridcolor": "white",
           "linecolor": "white",
           "ticks": "",
           "title": {
            "standoff": 15
           },
           "zerolinecolor": "white",
           "zerolinewidth": 2
          },
          "yaxis": {
           "automargin": true,
           "gridcolor": "white",
           "linecolor": "white",
           "ticks": "",
           "title": {
            "standoff": 15
           },
           "zerolinecolor": "white",
           "zerolinewidth": 2
          }
         }
        },
        "xaxis": {
         "anchor": "y",
         "domain": [
          0,
          1
         ],
         "title": {
          "text": "transacao"
         }
        },
        "yaxis": {
         "anchor": "x",
         "domain": [
          0,
          1
         ],
         "title": {
          "text": "valor"
         }
        }
       }
      }
     },
     "metadata": {},
     "output_type": "display_data"
    }
   ],
   "source": [
    "tipo_transf = {}\n",
    "\n",
    "anos = sorted(df['transacoes']['ano'].unique(), key=int)\n",
    "\n",
    "for a in anos:\n",
    "    tipo_transf[a] = df['transacoes'][df['transacoes']['ano'] == a]['nome_transacao'].value_counts()\n",
    "\n",
    "tipo_transf_df = pd.DataFrame(tipo_transf).reset_index()\n",
    "\n",
    "tipo_transf_df = tipo_transf_df.rename(columns={'index': 'transacao'})\n",
    "\n",
    "dados_long_1 = tipo_transf_df.melt(id_vars=[\"transacao\"], var_name=\"ano\", value_name=\"valor\")\n",
    "\n",
    "fig = px.bar(dados_long_1, x='transacao', y='valor', color='ano')\n",
    "\n",
    "fig.show()"
   ]
  },
  {
   "cell_type": "markdown",
   "metadata": {},
   "source": [
    "### Entrega 3\n",
    "\n",
    "Uma dimensão de datas bem construída viabiliza a elaboração de análises mais robustas com relação ao tempo. O BanVic quer começar seu Data Warehouse (DW) com uma dim_dates que atenda seus requisitos de análise. Utilizando uma dimensão de datas, responda às duas perguntas a seguir. Por fim, proponha outras duas análises utilizando a dim_dates que possam ter valor de negócio para o BanVic.\n",
    "\n",
    "- Qual trimestre tem, em média, mais transações aprovadas e qual tem, também em média,  maior volume movimentado?\n",
    "\n",
    "Dado que não há no banco de dados um indicativo de quais transações foram aprovadas ou rejeitadas, assume-se que todas as transações contidas na BD foram aprovadas."
   ]
  },
  {
   "cell_type": "code",
   "execution_count": 25,
   "metadata": {},
   "outputs": [],
   "source": [
    "num_transf = {}\n",
    "\n",
    "meses = [1, 2, 3, 4, 5, 6, 7, 8, 9, 10, 11, 12]\n",
    "anos = sorted(df['transacoes']['ano'].unique(), key=int)\n",
    "\n",
    "for a in anos:\n",
    "    count = df['transacoes'][df['transacoes']['ano'] == a]['mes'].value_counts()\n",
    "\n",
    "    for m in meses:\n",
    "        if m not in list(count.keys()):\n",
    "            count[m] = 0\n",
    "\n",
    "    num_transf[a] = {1: count[1] + count[2] + count[3], \n",
    "                     2: count[4] + count[5] + count[6], \n",
    "                     3: count[7] + count[8] + count[9], \n",
    "                     4: count[10] + count[11] + count[12]}\n",
    "\n",
    "num_transf_df = pd.DataFrame(num_transf)\n",
    "num_transf_df = num_transf_df.reset_index()\n",
    "num_transf_df = num_transf_df.rename(columns={'index': 'Trimestre'})"
   ]
  },
  {
   "cell_type": "code",
   "execution_count": 26,
   "metadata": {},
   "outputs": [],
   "source": [
    "vol_transf = {}\n",
    "\n",
    "anos = sorted(df['transacoes']['ano'].unique(), key=int)\n",
    "\n",
    "for a in anos:\n",
    "    valor_prim_tri = 0\n",
    "    valor_seg_tri = 0\n",
    "    valor_ter_tri = 0\n",
    "    valor_qua_tri = 0\n",
    "\n",
    "    meses = sorted(df['transacoes'][df['transacoes']['ano'] == a]['mes'].unique(), key=int)\n",
    "\n",
    "    df_new = df['transacoes'][df['transacoes']['ano'] == a]\n",
    "\n",
    "    for m in meses:\n",
    "        if m in [1, 2, 3]:\n",
    "            valor_prim_tri += sum(abs(df_new[df_new['mes'] == m]['valor_transacao']))\n",
    "        elif m in [4, 5, 6]:\n",
    "            valor_seg_tri += sum(abs(df_new[df_new['mes'] == m]['valor_transacao']))\n",
    "        elif m in [7, 8, 9]:\n",
    "            valor_ter_tri += sum(abs(df_new[df_new['mes'] == m]['valor_transacao']))\n",
    "        elif m in [10, 11, 12]:\n",
    "            valor_qua_tri += sum(abs(df_new[df_new['mes'] == m]['valor_transacao']))\n",
    "\n",
    "    vol_transf[a] = {1: valor_prim_tri, 2: valor_seg_tri, 3: valor_ter_tri, 4: valor_qua_tri}\n",
    "\n",
    "vol_transf_df = pd.DataFrame(vol_transf)\n",
    "vol_transf_df = vol_transf_df.reset_index()\n",
    "vol_transf_df = vol_transf_df.rename(columns={'index': 'Trimestre'})"
   ]
  },
  {
   "cell_type": "code",
   "execution_count": 27,
   "metadata": {},
   "outputs": [],
   "source": [
    "media = {'Trimestre': [1, 2, 3, 4], 'Número de Transferências': [], 'Volume Transferido': []}\n",
    "\n",
    "for i in range(4):\n",
    "    media['Número de Transferências'].append(np.mean(list(num_transf_df[num_transf_df['Trimestre'] == i + 1].loc[:, 2010:2022].values)))\n",
    "    media['Volume Transferido'].append(np.mean(list(vol_transf_df[vol_transf_df['Trimestre'] == i + 1].loc[:, 2010:2022].values)))"
   ]
  },
  {
   "cell_type": "code",
   "execution_count": 28,
   "metadata": {},
   "outputs": [
    {
     "data": {
      "text/html": [
       "<div>\n",
       "<style scoped>\n",
       "    .dataframe tbody tr th:only-of-type {\n",
       "        vertical-align: middle;\n",
       "    }\n",
       "\n",
       "    .dataframe tbody tr th {\n",
       "        vertical-align: top;\n",
       "    }\n",
       "\n",
       "    .dataframe thead th {\n",
       "        text-align: right;\n",
       "    }\n",
       "</style>\n",
       "<table border=\"1\" class=\"dataframe\">\n",
       "  <thead>\n",
       "    <tr style=\"text-align: right;\">\n",
       "      <th></th>\n",
       "      <th>Trimestre</th>\n",
       "      <th>Número de Transferências</th>\n",
       "      <th>Volume Transferido</th>\n",
       "    </tr>\n",
       "  </thead>\n",
       "  <tbody>\n",
       "    <tr>\n",
       "      <th>0</th>\n",
       "      <td>1</td>\n",
       "      <td>788.769231</td>\n",
       "      <td>7.110626e+05</td>\n",
       "    </tr>\n",
       "    <tr>\n",
       "      <th>1</th>\n",
       "      <td>2</td>\n",
       "      <td>845.461538</td>\n",
       "      <td>6.644091e+05</td>\n",
       "    </tr>\n",
       "    <tr>\n",
       "      <th>2</th>\n",
       "      <td>3</td>\n",
       "      <td>937.692308</td>\n",
       "      <td>9.016052e+05</td>\n",
       "    </tr>\n",
       "    <tr>\n",
       "      <th>3</th>\n",
       "      <td>4</td>\n",
       "      <td>2923.461538</td>\n",
       "      <td>2.163221e+06</td>\n",
       "    </tr>\n",
       "  </tbody>\n",
       "</table>\n",
       "</div>"
      ],
      "text/plain": [
       "   Trimestre  Número de Transferências  Volume Transferido\n",
       "0          1                788.769231        7.110626e+05\n",
       "1          2                845.461538        6.644091e+05\n",
       "2          3                937.692308        9.016052e+05\n",
       "3          4               2923.461538        2.163221e+06"
      ]
     },
     "execution_count": 28,
     "metadata": {},
     "output_type": "execute_result"
    }
   ],
   "source": [
    "pd.DataFrame(media)"
   ]
  },
  {
   "cell_type": "markdown",
   "metadata": {},
   "source": [
    "- Um analista sugeriu que, meses que contém R no seu nome (Ex: janeiRo), tem um padrão de quantidade de transações diferentes dos meses que não apresentam R no nome (Ex: junho). Apresente suas análises validando ou não essa afirmação."
   ]
  },
  {
   "cell_type": "code",
   "execution_count": 38,
   "metadata": {},
   "outputs": [
    {
     "name": "stderr",
     "output_type": "stream",
     "text": [
      "C:\\Users\\Adel\\AppData\\Local\\Temp\\ipykernel_10508\\2092582101.py:19: FutureWarning:\n",
      "\n",
      "Dropping of nuisance columns in DataFrame reductions (with 'numeric_only=None') is deprecated; in a future version this will raise TypeError.  Select only valid columns before calling the reduction.\n",
      "\n"
     ]
    },
    {
     "data": {
      "application/vnd.plotly.v1+json": {
       "config": {
        "plotlyServerURL": "https://plot.ly"
       },
       "data": [
        {
         "alignmentgroup": "True",
         "hovertemplate": "Meses com R=True<br>Mês=%{x}<br>Valores=%{y}<extra></extra>",
         "legendgroup": "True",
         "marker": {
          "color": "#636efa",
          "pattern": {
           "shape": ""
          }
         },
         "name": "True",
         "offsetgroup": "True",
         "orientation": "v",
         "showlegend": true,
         "textposition": "auto",
         "type": "bar",
         "x": [
          "Jan",
          "Fev",
          "Mar",
          "Abr",
          "Set",
          "Out",
          "Nov",
          "Dez"
         ],
         "xaxis": "x",
         "y": [
          3481,
          2960,
          3813,
          3498,
          4124,
          4503,
          5013,
          28489
         ],
         "yaxis": "y"
        },
        {
         "alignmentgroup": "True",
         "hovertemplate": "Meses com R=False<br>Mês=%{x}<br>Valores=%{y}<extra></extra>",
         "legendgroup": "False",
         "marker": {
          "color": "#EF553B",
          "pattern": {
           "shape": ""
          }
         },
         "name": "False",
         "offsetgroup": "False",
         "orientation": "v",
         "showlegend": true,
         "textposition": "auto",
         "type": "bar",
         "x": [
          "Mai",
          "Jun",
          "Jul",
          "Ago"
         ],
         "xaxis": "x",
         "y": [
          3671,
          3822,
          3990,
          4076
         ],
         "yaxis": "y"
        }
       ],
       "layout": {
        "barmode": "stack",
        "legend": {
         "title": {
          "text": "Meses com R"
         },
         "tracegroupgap": 0
        },
        "margin": {
         "t": 60
        },
        "template": {
         "data": {
          "bar": [
           {
            "error_x": {
             "color": "#2a3f5f"
            },
            "error_y": {
             "color": "#2a3f5f"
            },
            "marker": {
             "line": {
              "color": "#E5ECF6",
              "width": 0.5
             },
             "pattern": {
              "fillmode": "overlay",
              "size": 10,
              "solidity": 0.2
             }
            },
            "type": "bar"
           }
          ],
          "barpolar": [
           {
            "marker": {
             "line": {
              "color": "#E5ECF6",
              "width": 0.5
             },
             "pattern": {
              "fillmode": "overlay",
              "size": 10,
              "solidity": 0.2
             }
            },
            "type": "barpolar"
           }
          ],
          "carpet": [
           {
            "aaxis": {
             "endlinecolor": "#2a3f5f",
             "gridcolor": "white",
             "linecolor": "white",
             "minorgridcolor": "white",
             "startlinecolor": "#2a3f5f"
            },
            "baxis": {
             "endlinecolor": "#2a3f5f",
             "gridcolor": "white",
             "linecolor": "white",
             "minorgridcolor": "white",
             "startlinecolor": "#2a3f5f"
            },
            "type": "carpet"
           }
          ],
          "choropleth": [
           {
            "colorbar": {
             "outlinewidth": 0,
             "ticks": ""
            },
            "type": "choropleth"
           }
          ],
          "contour": [
           {
            "colorbar": {
             "outlinewidth": 0,
             "ticks": ""
            },
            "colorscale": [
             [
              0,
              "#0d0887"
             ],
             [
              0.1111111111111111,
              "#46039f"
             ],
             [
              0.2222222222222222,
              "#7201a8"
             ],
             [
              0.3333333333333333,
              "#9c179e"
             ],
             [
              0.4444444444444444,
              "#bd3786"
             ],
             [
              0.5555555555555556,
              "#d8576b"
             ],
             [
              0.6666666666666666,
              "#ed7953"
             ],
             [
              0.7777777777777778,
              "#fb9f3a"
             ],
             [
              0.8888888888888888,
              "#fdca26"
             ],
             [
              1,
              "#f0f921"
             ]
            ],
            "type": "contour"
           }
          ],
          "contourcarpet": [
           {
            "colorbar": {
             "outlinewidth": 0,
             "ticks": ""
            },
            "type": "contourcarpet"
           }
          ],
          "heatmap": [
           {
            "colorbar": {
             "outlinewidth": 0,
             "ticks": ""
            },
            "colorscale": [
             [
              0,
              "#0d0887"
             ],
             [
              0.1111111111111111,
              "#46039f"
             ],
             [
              0.2222222222222222,
              "#7201a8"
             ],
             [
              0.3333333333333333,
              "#9c179e"
             ],
             [
              0.4444444444444444,
              "#bd3786"
             ],
             [
              0.5555555555555556,
              "#d8576b"
             ],
             [
              0.6666666666666666,
              "#ed7953"
             ],
             [
              0.7777777777777778,
              "#fb9f3a"
             ],
             [
              0.8888888888888888,
              "#fdca26"
             ],
             [
              1,
              "#f0f921"
             ]
            ],
            "type": "heatmap"
           }
          ],
          "heatmapgl": [
           {
            "colorbar": {
             "outlinewidth": 0,
             "ticks": ""
            },
            "colorscale": [
             [
              0,
              "#0d0887"
             ],
             [
              0.1111111111111111,
              "#46039f"
             ],
             [
              0.2222222222222222,
              "#7201a8"
             ],
             [
              0.3333333333333333,
              "#9c179e"
             ],
             [
              0.4444444444444444,
              "#bd3786"
             ],
             [
              0.5555555555555556,
              "#d8576b"
             ],
             [
              0.6666666666666666,
              "#ed7953"
             ],
             [
              0.7777777777777778,
              "#fb9f3a"
             ],
             [
              0.8888888888888888,
              "#fdca26"
             ],
             [
              1,
              "#f0f921"
             ]
            ],
            "type": "heatmapgl"
           }
          ],
          "histogram": [
           {
            "marker": {
             "pattern": {
              "fillmode": "overlay",
              "size": 10,
              "solidity": 0.2
             }
            },
            "type": "histogram"
           }
          ],
          "histogram2d": [
           {
            "colorbar": {
             "outlinewidth": 0,
             "ticks": ""
            },
            "colorscale": [
             [
              0,
              "#0d0887"
             ],
             [
              0.1111111111111111,
              "#46039f"
             ],
             [
              0.2222222222222222,
              "#7201a8"
             ],
             [
              0.3333333333333333,
              "#9c179e"
             ],
             [
              0.4444444444444444,
              "#bd3786"
             ],
             [
              0.5555555555555556,
              "#d8576b"
             ],
             [
              0.6666666666666666,
              "#ed7953"
             ],
             [
              0.7777777777777778,
              "#fb9f3a"
             ],
             [
              0.8888888888888888,
              "#fdca26"
             ],
             [
              1,
              "#f0f921"
             ]
            ],
            "type": "histogram2d"
           }
          ],
          "histogram2dcontour": [
           {
            "colorbar": {
             "outlinewidth": 0,
             "ticks": ""
            },
            "colorscale": [
             [
              0,
              "#0d0887"
             ],
             [
              0.1111111111111111,
              "#46039f"
             ],
             [
              0.2222222222222222,
              "#7201a8"
             ],
             [
              0.3333333333333333,
              "#9c179e"
             ],
             [
              0.4444444444444444,
              "#bd3786"
             ],
             [
              0.5555555555555556,
              "#d8576b"
             ],
             [
              0.6666666666666666,
              "#ed7953"
             ],
             [
              0.7777777777777778,
              "#fb9f3a"
             ],
             [
              0.8888888888888888,
              "#fdca26"
             ],
             [
              1,
              "#f0f921"
             ]
            ],
            "type": "histogram2dcontour"
           }
          ],
          "mesh3d": [
           {
            "colorbar": {
             "outlinewidth": 0,
             "ticks": ""
            },
            "type": "mesh3d"
           }
          ],
          "parcoords": [
           {
            "line": {
             "colorbar": {
              "outlinewidth": 0,
              "ticks": ""
             }
            },
            "type": "parcoords"
           }
          ],
          "pie": [
           {
            "automargin": true,
            "type": "pie"
           }
          ],
          "scatter": [
           {
            "marker": {
             "colorbar": {
              "outlinewidth": 0,
              "ticks": ""
             }
            },
            "type": "scatter"
           }
          ],
          "scatter3d": [
           {
            "line": {
             "colorbar": {
              "outlinewidth": 0,
              "ticks": ""
             }
            },
            "marker": {
             "colorbar": {
              "outlinewidth": 0,
              "ticks": ""
             }
            },
            "type": "scatter3d"
           }
          ],
          "scattercarpet": [
           {
            "marker": {
             "colorbar": {
              "outlinewidth": 0,
              "ticks": ""
             }
            },
            "type": "scattercarpet"
           }
          ],
          "scattergeo": [
           {
            "marker": {
             "colorbar": {
              "outlinewidth": 0,
              "ticks": ""
             }
            },
            "type": "scattergeo"
           }
          ],
          "scattergl": [
           {
            "marker": {
             "colorbar": {
              "outlinewidth": 0,
              "ticks": ""
             }
            },
            "type": "scattergl"
           }
          ],
          "scattermapbox": [
           {
            "marker": {
             "colorbar": {
              "outlinewidth": 0,
              "ticks": ""
             }
            },
            "type": "scattermapbox"
           }
          ],
          "scatterpolar": [
           {
            "marker": {
             "colorbar": {
              "outlinewidth": 0,
              "ticks": ""
             }
            },
            "type": "scatterpolar"
           }
          ],
          "scatterpolargl": [
           {
            "marker": {
             "colorbar": {
              "outlinewidth": 0,
              "ticks": ""
             }
            },
            "type": "scatterpolargl"
           }
          ],
          "scatterternary": [
           {
            "marker": {
             "colorbar": {
              "outlinewidth": 0,
              "ticks": ""
             }
            },
            "type": "scatterternary"
           }
          ],
          "surface": [
           {
            "colorbar": {
             "outlinewidth": 0,
             "ticks": ""
            },
            "colorscale": [
             [
              0,
              "#0d0887"
             ],
             [
              0.1111111111111111,
              "#46039f"
             ],
             [
              0.2222222222222222,
              "#7201a8"
             ],
             [
              0.3333333333333333,
              "#9c179e"
             ],
             [
              0.4444444444444444,
              "#bd3786"
             ],
             [
              0.5555555555555556,
              "#d8576b"
             ],
             [
              0.6666666666666666,
              "#ed7953"
             ],
             [
              0.7777777777777778,
              "#fb9f3a"
             ],
             [
              0.8888888888888888,
              "#fdca26"
             ],
             [
              1,
              "#f0f921"
             ]
            ],
            "type": "surface"
           }
          ],
          "table": [
           {
            "cells": {
             "fill": {
              "color": "#EBF0F8"
             },
             "line": {
              "color": "white"
             }
            },
            "header": {
             "fill": {
              "color": "#C8D4E3"
             },
             "line": {
              "color": "white"
             }
            },
            "type": "table"
           }
          ]
         },
         "layout": {
          "annotationdefaults": {
           "arrowcolor": "#2a3f5f",
           "arrowhead": 0,
           "arrowwidth": 1
          },
          "autotypenumbers": "strict",
          "coloraxis": {
           "colorbar": {
            "outlinewidth": 0,
            "ticks": ""
           }
          },
          "colorscale": {
           "diverging": [
            [
             0,
             "#8e0152"
            ],
            [
             0.1,
             "#c51b7d"
            ],
            [
             0.2,
             "#de77ae"
            ],
            [
             0.3,
             "#f1b6da"
            ],
            [
             0.4,
             "#fde0ef"
            ],
            [
             0.5,
             "#f7f7f7"
            ],
            [
             0.6,
             "#e6f5d0"
            ],
            [
             0.7,
             "#b8e186"
            ],
            [
             0.8,
             "#7fbc41"
            ],
            [
             0.9,
             "#4d9221"
            ],
            [
             1,
             "#276419"
            ]
           ],
           "sequential": [
            [
             0,
             "#0d0887"
            ],
            [
             0.1111111111111111,
             "#46039f"
            ],
            [
             0.2222222222222222,
             "#7201a8"
            ],
            [
             0.3333333333333333,
             "#9c179e"
            ],
            [
             0.4444444444444444,
             "#bd3786"
            ],
            [
             0.5555555555555556,
             "#d8576b"
            ],
            [
             0.6666666666666666,
             "#ed7953"
            ],
            [
             0.7777777777777778,
             "#fb9f3a"
            ],
            [
             0.8888888888888888,
             "#fdca26"
            ],
            [
             1,
             "#f0f921"
            ]
           ],
           "sequentialminus": [
            [
             0,
             "#0d0887"
            ],
            [
             0.1111111111111111,
             "#46039f"
            ],
            [
             0.2222222222222222,
             "#7201a8"
            ],
            [
             0.3333333333333333,
             "#9c179e"
            ],
            [
             0.4444444444444444,
             "#bd3786"
            ],
            [
             0.5555555555555556,
             "#d8576b"
            ],
            [
             0.6666666666666666,
             "#ed7953"
            ],
            [
             0.7777777777777778,
             "#fb9f3a"
            ],
            [
             0.8888888888888888,
             "#fdca26"
            ],
            [
             1,
             "#f0f921"
            ]
           ]
          },
          "colorway": [
           "#636efa",
           "#EF553B",
           "#00cc96",
           "#ab63fa",
           "#FFA15A",
           "#19d3f3",
           "#FF6692",
           "#B6E880",
           "#FF97FF",
           "#FECB52"
          ],
          "font": {
           "color": "#2a3f5f"
          },
          "geo": {
           "bgcolor": "white",
           "lakecolor": "white",
           "landcolor": "#E5ECF6",
           "showlakes": true,
           "showland": true,
           "subunitcolor": "white"
          },
          "hoverlabel": {
           "align": "left"
          },
          "hovermode": "closest",
          "mapbox": {
           "style": "light"
          },
          "paper_bgcolor": "white",
          "plot_bgcolor": "#E5ECF6",
          "polar": {
           "angularaxis": {
            "gridcolor": "white",
            "linecolor": "white",
            "ticks": ""
           },
           "bgcolor": "#E5ECF6",
           "radialaxis": {
            "gridcolor": "white",
            "linecolor": "white",
            "ticks": ""
           }
          },
          "scene": {
           "xaxis": {
            "backgroundcolor": "#E5ECF6",
            "gridcolor": "white",
            "gridwidth": 2,
            "linecolor": "white",
            "showbackground": true,
            "ticks": "",
            "zerolinecolor": "white"
           },
           "yaxis": {
            "backgroundcolor": "#E5ECF6",
            "gridcolor": "white",
            "gridwidth": 2,
            "linecolor": "white",
            "showbackground": true,
            "ticks": "",
            "zerolinecolor": "white"
           },
           "zaxis": {
            "backgroundcolor": "#E5ECF6",
            "gridcolor": "white",
            "gridwidth": 2,
            "linecolor": "white",
            "showbackground": true,
            "ticks": "",
            "zerolinecolor": "white"
           }
          },
          "shapedefaults": {
           "line": {
            "color": "#2a3f5f"
           }
          },
          "ternary": {
           "aaxis": {
            "gridcolor": "white",
            "linecolor": "white",
            "ticks": ""
           },
           "baxis": {
            "gridcolor": "white",
            "linecolor": "white",
            "ticks": ""
           },
           "bgcolor": "#E5ECF6",
           "caxis": {
            "gridcolor": "white",
            "linecolor": "white",
            "ticks": ""
           }
          },
          "title": {
           "x": 0.05
          },
          "xaxis": {
           "automargin": true,
           "gridcolor": "white",
           "linecolor": "white",
           "ticks": "",
           "title": {
            "standoff": 15
           },
           "zerolinecolor": "white",
           "zerolinewidth": 2
          },
          "yaxis": {
           "automargin": true,
           "gridcolor": "white",
           "linecolor": "white",
           "ticks": "",
           "title": {
            "standoff": 15
           },
           "zerolinecolor": "white",
           "zerolinewidth": 2
          }
         }
        },
        "xaxis": {
         "anchor": "y",
         "categoryarray": [
          "Jan",
          "Fev",
          "Mar",
          "Abr",
          "Mai",
          "Jun",
          "Jul",
          "Ago",
          "Set",
          "Out",
          "Nov",
          "Dez"
         ],
         "categoryorder": "array",
         "domain": [
          0,
          1
         ],
         "title": {
          "text": "Mês"
         }
        },
        "yaxis": {
         "anchor": "x",
         "domain": [
          0,
          1
         ],
         "title": {
          "text": "Valores"
         }
        }
       }
      }
     },
     "metadata": {},
     "output_type": "display_data"
    }
   ],
   "source": [
    "contagem_2 = {}\n",
    "\n",
    "meses = {1: 'Jan', 2: 'Fev', 3: 'Mar', 4: 'Abr', 5: 'Mai', 6: 'Jun', 7: 'Jul', 8: 'Ago', 9: 'Set', 10: 'Out', 11: 'Nov', 12: 'Dez'}\n",
    "anos = sorted(df['transacoes']['ano'].unique(), key=int)\n",
    "\n",
    "for a in anos:\n",
    "    contagem_2[a] = df['transacoes'][df['transacoes']['ano'] == a]['mes'].value_counts()\n",
    "    contagem_2[a].columns = ['count']\n",
    "\n",
    "data_3 = pd.DataFrame(contagem_2)\n",
    "data_3 = data_3.reset_index()\n",
    "data_3 = data_3.rename(columns={'index': 'mes'})\n",
    "data_3 = data_3.fillna(0)\n",
    "\n",
    "data_3['mes_nome'] = data_3['mes'].map(meses)\n",
    "\n",
    "data_3 = data_3.drop(columns='mes')\n",
    "\n",
    "cont = {'mes': list(data_3['mes_nome']), 'valores': list(data_3.sum(axis=1)), 'com_r_flag': [True, True, True, True, False, False, False, False, True, True, True, True]}\n",
    "\n",
    "cont_df = pd.DataFrame(cont)\n",
    "\n",
    "fig = px.bar(cont_df, x='mes', y='valores', color='com_r_flag', labels={'mes': 'Mês', 'valores': 'Valores', 'com_r_flag': 'Meses com R'})\n",
    "\n",
    "fig.update_layout(barmode='stack', xaxis={'categoryorder': 'array', 'categoryarray': list(meses.values())})\n",
    "\n",
    "fig.show()\n",
    "\n",
    "# fig.write_image(\"plots_export/trans_mes_ano.png\")"
   ]
  },
  {
   "cell_type": "code",
   "execution_count": 39,
   "metadata": {},
   "outputs": [
    {
     "data": {
      "application/vnd.plotly.v1+json": {
       "config": {
        "plotlyServerURL": "https://plot.ly"
       },
       "data": [
        {
         "alignmentgroup": "True",
         "hovertemplate": "Ano=2010<br>Mês=%{x}<br>Volume=%{y}<extra></extra>",
         "legendgroup": "2010",
         "marker": {
          "color": "#636efa",
          "pattern": {
           "shape": ""
          }
         },
         "name": "2010",
         "offsetgroup": "2010",
         "orientation": "v",
         "showlegend": true,
         "textposition": "auto",
         "type": "bar",
         "x": [
          "Jan",
          "Fev",
          "Mar",
          "Abr",
          "Mai",
          "Jun",
          "Jul",
          "Ago",
          "Set",
          "Out",
          "Nov",
          "Dez"
         ],
         "xaxis": "x",
         "y": [
          0,
          2,
          8,
          0,
          2,
          6,
          6,
          9,
          20,
          16,
          2,
          22
         ],
         "yaxis": "y"
        },
        {
         "alignmentgroup": "True",
         "hovertemplate": "Ano=2011<br>Mês=%{x}<br>Volume=%{y}<extra></extra>",
         "legendgroup": "2011",
         "marker": {
          "color": "#EF553B",
          "pattern": {
           "shape": ""
          }
         },
         "name": "2011",
         "offsetgroup": "2011",
         "orientation": "v",
         "showlegend": true,
         "textposition": "auto",
         "type": "bar",
         "x": [
          "Jan",
          "Fev",
          "Mar",
          "Abr",
          "Mai",
          "Jun",
          "Jul",
          "Ago",
          "Set",
          "Out",
          "Nov",
          "Dez"
         ],
         "xaxis": "x",
         "y": [
          21,
          8,
          21,
          13,
          38,
          40,
          49,
          42,
          41,
          39,
          31,
          24
         ],
         "yaxis": "y"
        },
        {
         "alignmentgroup": "True",
         "hovertemplate": "Ano=2012<br>Mês=%{x}<br>Volume=%{y}<extra></extra>",
         "legendgroup": "2012",
         "marker": {
          "color": "#00cc96",
          "pattern": {
           "shape": ""
          }
         },
         "name": "2012",
         "offsetgroup": "2012",
         "orientation": "v",
         "showlegend": true,
         "textposition": "auto",
         "type": "bar",
         "x": [
          "Jan",
          "Fev",
          "Mar",
          "Abr",
          "Mai",
          "Jun",
          "Jul",
          "Ago",
          "Set",
          "Out",
          "Nov",
          "Dez"
         ],
         "xaxis": "x",
         "y": [
          33,
          32,
          65,
          88,
          75,
          57,
          65,
          41,
          47,
          62,
          73,
          96
         ],
         "yaxis": "y"
        },
        {
         "alignmentgroup": "True",
         "hovertemplate": "Ano=2013<br>Mês=%{x}<br>Volume=%{y}<extra></extra>",
         "legendgroup": "2013",
         "marker": {
          "color": "#ab63fa",
          "pattern": {
           "shape": ""
          }
         },
         "name": "2013",
         "offsetgroup": "2013",
         "orientation": "v",
         "showlegend": true,
         "textposition": "auto",
         "type": "bar",
         "x": [
          "Jan",
          "Fev",
          "Mar",
          "Abr",
          "Mai",
          "Jun",
          "Jul",
          "Ago",
          "Set",
          "Out",
          "Nov",
          "Dez"
         ],
         "xaxis": "x",
         "y": [
          103,
          80,
          93,
          84,
          102,
          137,
          88,
          101,
          80,
          90,
          127,
          164
         ],
         "yaxis": "y"
        },
        {
         "alignmentgroup": "True",
         "hovertemplate": "Ano=2014<br>Mês=%{x}<br>Volume=%{y}<extra></extra>",
         "legendgroup": "2014",
         "marker": {
          "color": "#FFA15A",
          "pattern": {
           "shape": ""
          }
         },
         "name": "2014",
         "offsetgroup": "2014",
         "orientation": "v",
         "showlegend": true,
         "textposition": "auto",
         "type": "bar",
         "x": [
          "Jan",
          "Fev",
          "Mar",
          "Abr",
          "Mai",
          "Jun",
          "Jul",
          "Ago",
          "Set",
          "Out",
          "Nov",
          "Dez"
         ],
         "xaxis": "x",
         "y": [
          134,
          83,
          130,
          122,
          154,
          134,
          108,
          120,
          149,
          127,
          117,
          125
         ],
         "yaxis": "y"
        },
        {
         "alignmentgroup": "True",
         "hovertemplate": "Ano=2015<br>Mês=%{x}<br>Volume=%{y}<extra></extra>",
         "legendgroup": "2015",
         "marker": {
          "color": "#19d3f3",
          "pattern": {
           "shape": ""
          }
         },
         "name": "2015",
         "offsetgroup": "2015",
         "orientation": "v",
         "showlegend": true,
         "textposition": "auto",
         "type": "bar",
         "x": [
          "Jan",
          "Fev",
          "Mar",
          "Abr",
          "Mai",
          "Jun",
          "Jul",
          "Ago",
          "Set",
          "Out",
          "Nov",
          "Dez"
         ],
         "xaxis": "x",
         "y": [
          137,
          94,
          142,
          197,
          117,
          175,
          162,
          199,
          129,
          178,
          171,
          196
         ],
         "yaxis": "y"
        },
        {
         "alignmentgroup": "True",
         "hovertemplate": "Ano=2016<br>Mês=%{x}<br>Volume=%{y}<extra></extra>",
         "legendgroup": "2016",
         "marker": {
          "color": "#FF6692",
          "pattern": {
           "shape": ""
          }
         },
         "name": "2016",
         "offsetgroup": "2016",
         "orientation": "v",
         "showlegend": true,
         "textposition": "auto",
         "type": "bar",
         "x": [
          "Jan",
          "Fev",
          "Mar",
          "Abr",
          "Mai",
          "Jun",
          "Jul",
          "Ago",
          "Set",
          "Out",
          "Nov",
          "Dez"
         ],
         "xaxis": "x",
         "y": [
          218,
          193,
          205,
          167,
          211,
          190,
          269,
          256,
          235,
          236,
          251,
          173
         ],
         "yaxis": "y"
        },
        {
         "alignmentgroup": "True",
         "hovertemplate": "Ano=2017<br>Mês=%{x}<br>Volume=%{y}<extra></extra>",
         "legendgroup": "2017",
         "marker": {
          "color": "#B6E880",
          "pattern": {
           "shape": ""
          }
         },
         "name": "2017",
         "offsetgroup": "2017",
         "orientation": "v",
         "showlegend": true,
         "textposition": "auto",
         "type": "bar",
         "x": [
          "Jan",
          "Fev",
          "Mar",
          "Abr",
          "Mai",
          "Jun",
          "Jul",
          "Ago",
          "Set",
          "Out",
          "Nov",
          "Dez"
         ],
         "xaxis": "x",
         "y": [
          278,
          219,
          308,
          289,
          329,
          301,
          257,
          312,
          334,
          345,
          349,
          233
         ],
         "yaxis": "y"
        },
        {
         "alignmentgroup": "True",
         "hovertemplate": "Ano=2018<br>Mês=%{x}<br>Volume=%{y}<extra></extra>",
         "legendgroup": "2018",
         "marker": {
          "color": "#FF97FF",
          "pattern": {
           "shape": ""
          }
         },
         "name": "2018",
         "offsetgroup": "2018",
         "orientation": "v",
         "showlegend": true,
         "textposition": "auto",
         "type": "bar",
         "x": [
          "Jan",
          "Fev",
          "Mar",
          "Abr",
          "Mai",
          "Jun",
          "Jul",
          "Ago",
          "Set",
          "Out",
          "Nov",
          "Dez"
         ],
         "xaxis": "x",
         "y": [
          279,
          270,
          400,
          303,
          365,
          346,
          378,
          308,
          262,
          287,
          370,
          377
         ],
         "yaxis": "y"
        },
        {
         "alignmentgroup": "True",
         "hovertemplate": "Ano=2019<br>Mês=%{x}<br>Volume=%{y}<extra></extra>",
         "legendgroup": "2019",
         "marker": {
          "color": "#FECB52",
          "pattern": {
           "shape": ""
          }
         },
         "name": "2019",
         "offsetgroup": "2019",
         "orientation": "v",
         "showlegend": true,
         "textposition": "auto",
         "type": "bar",
         "x": [
          "Jan",
          "Fev",
          "Mar",
          "Abr",
          "Mai",
          "Jun",
          "Jul",
          "Ago",
          "Set",
          "Out",
          "Nov",
          "Dez"
         ],
         "xaxis": "x",
         "y": [
          433,
          453,
          436,
          361,
          440,
          490,
          552,
          474,
          469,
          456,
          430,
          434
         ],
         "yaxis": "y"
        },
        {
         "alignmentgroup": "True",
         "hovertemplate": "Ano=2020<br>Mês=%{x}<br>Volume=%{y}<extra></extra>",
         "legendgroup": "2020",
         "marker": {
          "color": "#636efa",
          "pattern": {
           "shape": ""
          }
         },
         "name": "2020",
         "offsetgroup": "2020",
         "orientation": "v",
         "showlegend": true,
         "textposition": "auto",
         "type": "bar",
         "x": [
          "Jan",
          "Fev",
          "Mar",
          "Abr",
          "Mai",
          "Jun",
          "Jul",
          "Ago",
          "Set",
          "Out",
          "Nov",
          "Dez"
         ],
         "xaxis": "x",
         "y": [
          506,
          386,
          464,
          437,
          359,
          492,
          498,
          509,
          456,
          602,
          534,
          540
         ],
         "yaxis": "y"
        },
        {
         "alignmentgroup": "True",
         "hovertemplate": "Ano=2021<br>Mês=%{x}<br>Volume=%{y}<extra></extra>",
         "legendgroup": "2021",
         "marker": {
          "color": "#EF553B",
          "pattern": {
           "shape": ""
          }
         },
         "name": "2021",
         "offsetgroup": "2021",
         "orientation": "v",
         "showlegend": true,
         "textposition": "auto",
         "type": "bar",
         "x": [
          "Jan",
          "Fev",
          "Mar",
          "Abr",
          "Mai",
          "Jun",
          "Jul",
          "Ago",
          "Set",
          "Out",
          "Nov",
          "Dez"
         ],
         "xaxis": "x",
         "y": [
          569,
          515,
          626,
          646,
          653,
          647,
          633,
          620,
          672,
          693,
          717,
          786
         ],
         "yaxis": "y"
        },
        {
         "alignmentgroup": "True",
         "hovertemplate": "Ano=2022<br>Mês=%{x}<br>Volume=%{y}<extra></extra>",
         "legendgroup": "2022",
         "marker": {
          "color": "#00cc96",
          "pattern": {
           "shape": ""
          }
         },
         "name": "2022",
         "offsetgroup": "2022",
         "orientation": "v",
         "showlegend": true,
         "textposition": "auto",
         "type": "bar",
         "x": [
          "Jan",
          "Fev",
          "Mar",
          "Abr",
          "Mai",
          "Jun",
          "Jul",
          "Ago",
          "Set",
          "Out",
          "Nov",
          "Dez"
         ],
         "xaxis": "x",
         "y": [
          770,
          625,
          915,
          791,
          826,
          807,
          925,
          1085,
          1230,
          1372,
          1841,
          25319
         ],
         "yaxis": "y"
        }
       ],
       "layout": {
        "barmode": "relative",
        "legend": {
         "title": {
          "text": "Ano"
         },
         "tracegroupgap": 0
        },
        "template": {
         "data": {
          "bar": [
           {
            "error_x": {
             "color": "#2a3f5f"
            },
            "error_y": {
             "color": "#2a3f5f"
            },
            "marker": {
             "line": {
              "color": "#E5ECF6",
              "width": 0.5
             },
             "pattern": {
              "fillmode": "overlay",
              "size": 10,
              "solidity": 0.2
             }
            },
            "type": "bar"
           }
          ],
          "barpolar": [
           {
            "marker": {
             "line": {
              "color": "#E5ECF6",
              "width": 0.5
             },
             "pattern": {
              "fillmode": "overlay",
              "size": 10,
              "solidity": 0.2
             }
            },
            "type": "barpolar"
           }
          ],
          "carpet": [
           {
            "aaxis": {
             "endlinecolor": "#2a3f5f",
             "gridcolor": "white",
             "linecolor": "white",
             "minorgridcolor": "white",
             "startlinecolor": "#2a3f5f"
            },
            "baxis": {
             "endlinecolor": "#2a3f5f",
             "gridcolor": "white",
             "linecolor": "white",
             "minorgridcolor": "white",
             "startlinecolor": "#2a3f5f"
            },
            "type": "carpet"
           }
          ],
          "choropleth": [
           {
            "colorbar": {
             "outlinewidth": 0,
             "ticks": ""
            },
            "type": "choropleth"
           }
          ],
          "contour": [
           {
            "colorbar": {
             "outlinewidth": 0,
             "ticks": ""
            },
            "colorscale": [
             [
              0,
              "#0d0887"
             ],
             [
              0.1111111111111111,
              "#46039f"
             ],
             [
              0.2222222222222222,
              "#7201a8"
             ],
             [
              0.3333333333333333,
              "#9c179e"
             ],
             [
              0.4444444444444444,
              "#bd3786"
             ],
             [
              0.5555555555555556,
              "#d8576b"
             ],
             [
              0.6666666666666666,
              "#ed7953"
             ],
             [
              0.7777777777777778,
              "#fb9f3a"
             ],
             [
              0.8888888888888888,
              "#fdca26"
             ],
             [
              1,
              "#f0f921"
             ]
            ],
            "type": "contour"
           }
          ],
          "contourcarpet": [
           {
            "colorbar": {
             "outlinewidth": 0,
             "ticks": ""
            },
            "type": "contourcarpet"
           }
          ],
          "heatmap": [
           {
            "colorbar": {
             "outlinewidth": 0,
             "ticks": ""
            },
            "colorscale": [
             [
              0,
              "#0d0887"
             ],
             [
              0.1111111111111111,
              "#46039f"
             ],
             [
              0.2222222222222222,
              "#7201a8"
             ],
             [
              0.3333333333333333,
              "#9c179e"
             ],
             [
              0.4444444444444444,
              "#bd3786"
             ],
             [
              0.5555555555555556,
              "#d8576b"
             ],
             [
              0.6666666666666666,
              "#ed7953"
             ],
             [
              0.7777777777777778,
              "#fb9f3a"
             ],
             [
              0.8888888888888888,
              "#fdca26"
             ],
             [
              1,
              "#f0f921"
             ]
            ],
            "type": "heatmap"
           }
          ],
          "heatmapgl": [
           {
            "colorbar": {
             "outlinewidth": 0,
             "ticks": ""
            },
            "colorscale": [
             [
              0,
              "#0d0887"
             ],
             [
              0.1111111111111111,
              "#46039f"
             ],
             [
              0.2222222222222222,
              "#7201a8"
             ],
             [
              0.3333333333333333,
              "#9c179e"
             ],
             [
              0.4444444444444444,
              "#bd3786"
             ],
             [
              0.5555555555555556,
              "#d8576b"
             ],
             [
              0.6666666666666666,
              "#ed7953"
             ],
             [
              0.7777777777777778,
              "#fb9f3a"
             ],
             [
              0.8888888888888888,
              "#fdca26"
             ],
             [
              1,
              "#f0f921"
             ]
            ],
            "type": "heatmapgl"
           }
          ],
          "histogram": [
           {
            "marker": {
             "pattern": {
              "fillmode": "overlay",
              "size": 10,
              "solidity": 0.2
             }
            },
            "type": "histogram"
           }
          ],
          "histogram2d": [
           {
            "colorbar": {
             "outlinewidth": 0,
             "ticks": ""
            },
            "colorscale": [
             [
              0,
              "#0d0887"
             ],
             [
              0.1111111111111111,
              "#46039f"
             ],
             [
              0.2222222222222222,
              "#7201a8"
             ],
             [
              0.3333333333333333,
              "#9c179e"
             ],
             [
              0.4444444444444444,
              "#bd3786"
             ],
             [
              0.5555555555555556,
              "#d8576b"
             ],
             [
              0.6666666666666666,
              "#ed7953"
             ],
             [
              0.7777777777777778,
              "#fb9f3a"
             ],
             [
              0.8888888888888888,
              "#fdca26"
             ],
             [
              1,
              "#f0f921"
             ]
            ],
            "type": "histogram2d"
           }
          ],
          "histogram2dcontour": [
           {
            "colorbar": {
             "outlinewidth": 0,
             "ticks": ""
            },
            "colorscale": [
             [
              0,
              "#0d0887"
             ],
             [
              0.1111111111111111,
              "#46039f"
             ],
             [
              0.2222222222222222,
              "#7201a8"
             ],
             [
              0.3333333333333333,
              "#9c179e"
             ],
             [
              0.4444444444444444,
              "#bd3786"
             ],
             [
              0.5555555555555556,
              "#d8576b"
             ],
             [
              0.6666666666666666,
              "#ed7953"
             ],
             [
              0.7777777777777778,
              "#fb9f3a"
             ],
             [
              0.8888888888888888,
              "#fdca26"
             ],
             [
              1,
              "#f0f921"
             ]
            ],
            "type": "histogram2dcontour"
           }
          ],
          "mesh3d": [
           {
            "colorbar": {
             "outlinewidth": 0,
             "ticks": ""
            },
            "type": "mesh3d"
           }
          ],
          "parcoords": [
           {
            "line": {
             "colorbar": {
              "outlinewidth": 0,
              "ticks": ""
             }
            },
            "type": "parcoords"
           }
          ],
          "pie": [
           {
            "automargin": true,
            "type": "pie"
           }
          ],
          "scatter": [
           {
            "marker": {
             "colorbar": {
              "outlinewidth": 0,
              "ticks": ""
             }
            },
            "type": "scatter"
           }
          ],
          "scatter3d": [
           {
            "line": {
             "colorbar": {
              "outlinewidth": 0,
              "ticks": ""
             }
            },
            "marker": {
             "colorbar": {
              "outlinewidth": 0,
              "ticks": ""
             }
            },
            "type": "scatter3d"
           }
          ],
          "scattercarpet": [
           {
            "marker": {
             "colorbar": {
              "outlinewidth": 0,
              "ticks": ""
             }
            },
            "type": "scattercarpet"
           }
          ],
          "scattergeo": [
           {
            "marker": {
             "colorbar": {
              "outlinewidth": 0,
              "ticks": ""
             }
            },
            "type": "scattergeo"
           }
          ],
          "scattergl": [
           {
            "marker": {
             "colorbar": {
              "outlinewidth": 0,
              "ticks": ""
             }
            },
            "type": "scattergl"
           }
          ],
          "scattermapbox": [
           {
            "marker": {
             "colorbar": {
              "outlinewidth": 0,
              "ticks": ""
             }
            },
            "type": "scattermapbox"
           }
          ],
          "scatterpolar": [
           {
            "marker": {
             "colorbar": {
              "outlinewidth": 0,
              "ticks": ""
             }
            },
            "type": "scatterpolar"
           }
          ],
          "scatterpolargl": [
           {
            "marker": {
             "colorbar": {
              "outlinewidth": 0,
              "ticks": ""
             }
            },
            "type": "scatterpolargl"
           }
          ],
          "scatterternary": [
           {
            "marker": {
             "colorbar": {
              "outlinewidth": 0,
              "ticks": ""
             }
            },
            "type": "scatterternary"
           }
          ],
          "surface": [
           {
            "colorbar": {
             "outlinewidth": 0,
             "ticks": ""
            },
            "colorscale": [
             [
              0,
              "#0d0887"
             ],
             [
              0.1111111111111111,
              "#46039f"
             ],
             [
              0.2222222222222222,
              "#7201a8"
             ],
             [
              0.3333333333333333,
              "#9c179e"
             ],
             [
              0.4444444444444444,
              "#bd3786"
             ],
             [
              0.5555555555555556,
              "#d8576b"
             ],
             [
              0.6666666666666666,
              "#ed7953"
             ],
             [
              0.7777777777777778,
              "#fb9f3a"
             ],
             [
              0.8888888888888888,
              "#fdca26"
             ],
             [
              1,
              "#f0f921"
             ]
            ],
            "type": "surface"
           }
          ],
          "table": [
           {
            "cells": {
             "fill": {
              "color": "#EBF0F8"
             },
             "line": {
              "color": "white"
             }
            },
            "header": {
             "fill": {
              "color": "#C8D4E3"
             },
             "line": {
              "color": "white"
             }
            },
            "type": "table"
           }
          ]
         },
         "layout": {
          "annotationdefaults": {
           "arrowcolor": "#2a3f5f",
           "arrowhead": 0,
           "arrowwidth": 1
          },
          "autotypenumbers": "strict",
          "coloraxis": {
           "colorbar": {
            "outlinewidth": 0,
            "ticks": ""
           }
          },
          "colorscale": {
           "diverging": [
            [
             0,
             "#8e0152"
            ],
            [
             0.1,
             "#c51b7d"
            ],
            [
             0.2,
             "#de77ae"
            ],
            [
             0.3,
             "#f1b6da"
            ],
            [
             0.4,
             "#fde0ef"
            ],
            [
             0.5,
             "#f7f7f7"
            ],
            [
             0.6,
             "#e6f5d0"
            ],
            [
             0.7,
             "#b8e186"
            ],
            [
             0.8,
             "#7fbc41"
            ],
            [
             0.9,
             "#4d9221"
            ],
            [
             1,
             "#276419"
            ]
           ],
           "sequential": [
            [
             0,
             "#0d0887"
            ],
            [
             0.1111111111111111,
             "#46039f"
            ],
            [
             0.2222222222222222,
             "#7201a8"
            ],
            [
             0.3333333333333333,
             "#9c179e"
            ],
            [
             0.4444444444444444,
             "#bd3786"
            ],
            [
             0.5555555555555556,
             "#d8576b"
            ],
            [
             0.6666666666666666,
             "#ed7953"
            ],
            [
             0.7777777777777778,
             "#fb9f3a"
            ],
            [
             0.8888888888888888,
             "#fdca26"
            ],
            [
             1,
             "#f0f921"
            ]
           ],
           "sequentialminus": [
            [
             0,
             "#0d0887"
            ],
            [
             0.1111111111111111,
             "#46039f"
            ],
            [
             0.2222222222222222,
             "#7201a8"
            ],
            [
             0.3333333333333333,
             "#9c179e"
            ],
            [
             0.4444444444444444,
             "#bd3786"
            ],
            [
             0.5555555555555556,
             "#d8576b"
            ],
            [
             0.6666666666666666,
             "#ed7953"
            ],
            [
             0.7777777777777778,
             "#fb9f3a"
            ],
            [
             0.8888888888888888,
             "#fdca26"
            ],
            [
             1,
             "#f0f921"
            ]
           ]
          },
          "colorway": [
           "#636efa",
           "#EF553B",
           "#00cc96",
           "#ab63fa",
           "#FFA15A",
           "#19d3f3",
           "#FF6692",
           "#B6E880",
           "#FF97FF",
           "#FECB52"
          ],
          "font": {
           "color": "#2a3f5f"
          },
          "geo": {
           "bgcolor": "white",
           "lakecolor": "white",
           "landcolor": "#E5ECF6",
           "showlakes": true,
           "showland": true,
           "subunitcolor": "white"
          },
          "hoverlabel": {
           "align": "left"
          },
          "hovermode": "closest",
          "mapbox": {
           "style": "light"
          },
          "paper_bgcolor": "white",
          "plot_bgcolor": "#E5ECF6",
          "polar": {
           "angularaxis": {
            "gridcolor": "white",
            "linecolor": "white",
            "ticks": ""
           },
           "bgcolor": "#E5ECF6",
           "radialaxis": {
            "gridcolor": "white",
            "linecolor": "white",
            "ticks": ""
           }
          },
          "scene": {
           "xaxis": {
            "backgroundcolor": "#E5ECF6",
            "gridcolor": "white",
            "gridwidth": 2,
            "linecolor": "white",
            "showbackground": true,
            "ticks": "",
            "zerolinecolor": "white"
           },
           "yaxis": {
            "backgroundcolor": "#E5ECF6",
            "gridcolor": "white",
            "gridwidth": 2,
            "linecolor": "white",
            "showbackground": true,
            "ticks": "",
            "zerolinecolor": "white"
           },
           "zaxis": {
            "backgroundcolor": "#E5ECF6",
            "gridcolor": "white",
            "gridwidth": 2,
            "linecolor": "white",
            "showbackground": true,
            "ticks": "",
            "zerolinecolor": "white"
           }
          },
          "shapedefaults": {
           "line": {
            "color": "#2a3f5f"
           }
          },
          "ternary": {
           "aaxis": {
            "gridcolor": "white",
            "linecolor": "white",
            "ticks": ""
           },
           "baxis": {
            "gridcolor": "white",
            "linecolor": "white",
            "ticks": ""
           },
           "bgcolor": "#E5ECF6",
           "caxis": {
            "gridcolor": "white",
            "linecolor": "white",
            "ticks": ""
           }
          },
          "title": {
           "x": 0.05
          },
          "xaxis": {
           "automargin": true,
           "gridcolor": "white",
           "linecolor": "white",
           "ticks": "",
           "title": {
            "standoff": 15
           },
           "zerolinecolor": "white",
           "zerolinewidth": 2
          },
          "yaxis": {
           "automargin": true,
           "gridcolor": "white",
           "linecolor": "white",
           "ticks": "",
           "title": {
            "standoff": 15
           },
           "zerolinecolor": "white",
           "zerolinewidth": 2
          }
         }
        },
        "title": {
         "text": "Transações por Mês por Ano"
        },
        "xaxis": {
         "anchor": "y",
         "domain": [
          0,
          1
         ],
         "title": {
          "text": "Mês"
         }
        },
        "yaxis": {
         "anchor": "x",
         "domain": [
          0,
          1
         ],
         "title": {
          "text": "Volume"
         }
        }
       }
      }
     },
     "metadata": {},
     "output_type": "display_data"
    }
   ],
   "source": [
    "dados_long_2 = data_3.melt(id_vars=[\"mes_nome\"], var_name=\"Ano\", value_name=\"Valor\")\n",
    "\n",
    "fig = px.bar(dados_long_2, x='mes_nome', y='Valor', labels={'mes_nome': 'Mês', 'Valor': 'Volume'}, \n",
    "             color='Ano', title=\"Transações por Mês por Ano\")\n",
    "\n",
    "fig.show()\n",
    "\n",
    "# fig.write_image(\"plots_export/trans_mes_ano.png\")"
   ]
  },
  {
   "cell_type": "code",
   "execution_count": 40,
   "metadata": {},
   "outputs": [
    {
     "name": "stdout",
     "output_type": "stream",
     "text": [
      "Teste de Shapiro-Wilk para normalidade:\n",
      "Meses com 'R': p-valor = 6.204497294904409e-22\n",
      "Meses sem 'R': p-valor = 0.0003104768693447113\n",
      "\n",
      "Teste de Mann-Whitney:\n",
      "Estatística: 2622.5, p-valor: 0.7607329165972996\n",
      "Não rejeitamos a hipótese nula: não há evidências suficientes para afirmar que há diferença.\n"
     ]
    }
   ],
   "source": [
    "from scipy.stats import ttest_ind, shapiro, mannwhitneyu\n",
    "\n",
    "meses_com_r = data_3[data_3[\"mes_nome\"].isin([\"Jan\", \"Fev\", \"Mar\", \"Abr\", \"Set\", \"Out\", \"Nov\", \"Dez\"])].drop(columns=[\"mes_nome\"]).values.flatten()\n",
    "\n",
    "meses_sem_r = data_3[data_3[\"mes_nome\"].isin([\"Mai\", \"Jun\", \"Jul\", \"Ago\"])].drop(columns=[\"mes_nome\"]).values.flatten()\n",
    "\n",
    "shapiro_r = shapiro(meses_com_r)\n",
    "shapiro_sem_r = shapiro(meses_sem_r)\n",
    "\n",
    "print(\"Teste de Shapiro-Wilk para normalidade:\")\n",
    "print(f\"Meses com 'R': p-valor = {shapiro_r.pvalue}\")\n",
    "print(f\"Meses sem 'R': p-valor = {shapiro_sem_r.pvalue}\")\n",
    "\n",
    "if shapiro_r.pvalue > 0.05 and shapiro_sem_r.pvalue > 0.05:\n",
    "    stat, p = ttest_ind(meses_com_r, meses_sem_r, equal_var=False)\n",
    "    print(\"\\nTeste t de Student:\")\n",
    "else:\n",
    "    stat, p = mannwhitneyu(meses_com_r, meses_sem_r)\n",
    "    print(\"\\nTeste de Mann-Whitney:\")\n",
    "\n",
    "print(f\"Estatística: {stat}, p-valor: {p}\")\n",
    "\n",
    "alpha = 0.05\n",
    "if p < alpha:\n",
    "    print(\"Há diferença significativa entre os grupos.\")\n",
    "else:\n",
    "    print(\"Não há evidências suficientes para afirmar que há diferença.\")\n"
   ]
  },
  {
   "cell_type": "markdown",
   "metadata": {},
   "source": [
    "### Entrega 4\n",
    "\n",
    "André Tech, o especialista em tecnologia, solicitou que você buscasse fontes de dados públicas que poderiam ser utilizadas para enriquecer a base de dados do BanVic e ampliar as possibilidades de análise, considerando principalmente a necessidade atual apresentada. Pergunta prática e teórica.\n",
    "- Traga uma proposta de possíveis dados públicos a serem utilizados no Data Warehouse apresentando o valor que eles podem trazer para o desafio apresentado. "
   ]
  },
  {
   "cell_type": "markdown",
   "metadata": {},
   "source": [
    "- Um exemplo de dado externo é o Índice Nacional de Preços ao Consumidor Amplo. Considerando o IPCA no Brasil para o período apresentado na base de dados da BanVic, avalie se existe alguma relação do índice de preços com o volume de transações e/ou com o valor transacionado no período. Apresente suas análises e justifique sua opinião."
   ]
  },
  {
   "cell_type": "code",
   "execution_count": 31,
   "metadata": {},
   "outputs": [],
   "source": [
    "ipca_data = pd.read_csv('dados/dados_auxiliar/dados_ipca.csv')\n",
    "ipca_df = pd.DataFrame(ipca_data)\n",
    "\n",
    "ipca_df = ipca_df[29:42] # considerando os anos de 2010 a 2021\n",
    "\n",
    "ipca_df = ipca_df.set_index('Ano').T.reset_index()\n",
    "\n",
    "ipca_df.columns.name = None\n",
    "\n",
    "ipca_df = ipca_df.rename(columns={'index': 'Mes'})"
   ]
  },
  {
   "cell_type": "code",
   "execution_count": 32,
   "metadata": {},
   "outputs": [],
   "source": [
    "data_4 = df['transacoes'].loc[:, 'valor_transacao':'mes']\n",
    "\n",
    "valor_trans = {'Mes' : ['Jan','Fev','Mar','Abr','Mai','Jun','Jul','Ago','Set','Out','Nov','Dez']}\n",
    "\n",
    "meses = [1,2,3,4,5,6,7,8,9,10,11,12]\n",
    "anos = sorted(df['transacoes']['ano'].unique(), key=int)\n",
    "\n",
    "for a in anos:\n",
    "    valor_trans[a] = []\n",
    "    for m in meses:\n",
    "        valor_trans[a].append(sum(data_4[(data_4['ano'] == a) & (data_4['mes'] == m)]['valor_transacao']))\n",
    "\n",
    "df_transf = pd.DataFrame(valor_trans) # dataframe de valores das transferencias (2010 a 2021)\n",
    "\n",
    "df_transf = df_transf.loc[:, 'Mes': 2022]"
   ]
  },
  {
   "cell_type": "code",
   "execution_count": 54,
   "metadata": {},
   "outputs": [],
   "source": [
    "labels = ['IPCA', 'Valor Transferido', 'Número de Transferências']\n",
    "ipca_anual = ipca_df.loc[:, 2010:2022].sum(axis=0) # ipca anual\n",
    "valor_transf_ano = df_transf.loc[:, 2010:2022].sum(axis=0) # valores transferidos anualmente\n",
    "num_transf_anual = data_3.loc[:, 2010:2022].sum(axis=0) # número de transferências por ano\n",
    "\n",
    "df_un = pd.DataFrame([ipca_anual, valor_transf_ano, num_transf_anual])\n",
    "df_un.insert(0, 'ind', labels)\n",
    "\n",
    "df_un = df_un.set_index('ind').T.reset_index()\n",
    "\n",
    "df_un.columns.name = None\n",
    "\n",
    "df_un = df_un.rename(columns={'index': 'Ano'})"
   ]
  },
  {
   "cell_type": "markdown",
   "metadata": {},
   "source": [
    "Correlação de Pearson: https://www.blog.psicometriaonline.com.br/o-que-e-correlacao-de-pearson/"
   ]
  },
  {
   "cell_type": "code",
   "execution_count": 55,
   "metadata": {},
   "outputs": [
    {
     "data": {
      "application/vnd.plotly.v1+json": {
       "config": {
        "plotlyServerURL": "https://plot.ly"
       },
       "data": [
        {
         "coloraxis": "coloraxis",
         "hovertemplate": "x: %{x}<br>y: %{y}<br>Correlação: %{z}<extra></extra>",
         "name": "0",
         "texttemplate": "%{z}",
         "type": "heatmap",
         "x": [
          "IPCA",
          "Valor Transferido",
          "Número de Transferências"
         ],
         "xaxis": "x",
         "y": [
          "IPCA",
          "Valor Transferido",
          "Número de Transferências"
         ],
         "yaxis": "y",
         "z": [
          [
           1,
           -0.32964707933695603,
           -0.0191079987908766
          ],
          [
           -0.32964707933695603,
           1,
           0.9026692051600133
          ],
          [
           -0.0191079987908766,
           0.9026692051600133,
           1
          ]
         ]
        }
       ],
       "layout": {
        "coloraxis": {
         "colorbar": {
          "title": {
           "text": "Correlação"
          }
         },
         "colorscale": [
          [
           0,
           "rgb(5,48,97)"
          ],
          [
           0.1,
           "rgb(33,102,172)"
          ],
          [
           0.2,
           "rgb(67,147,195)"
          ],
          [
           0.3,
           "rgb(146,197,222)"
          ],
          [
           0.4,
           "rgb(209,229,240)"
          ],
          [
           0.5,
           "rgb(247,247,247)"
          ],
          [
           0.6,
           "rgb(253,219,199)"
          ],
          [
           0.7,
           "rgb(244,165,130)"
          ],
          [
           0.8,
           "rgb(214,96,77)"
          ],
          [
           0.9,
           "rgb(178,24,43)"
          ],
          [
           1,
           "rgb(103,0,31)"
          ]
         ]
        },
        "margin": {
         "t": 60
        },
        "template": {
         "data": {
          "bar": [
           {
            "error_x": {
             "color": "#2a3f5f"
            },
            "error_y": {
             "color": "#2a3f5f"
            },
            "marker": {
             "line": {
              "color": "#E5ECF6",
              "width": 0.5
             },
             "pattern": {
              "fillmode": "overlay",
              "size": 10,
              "solidity": 0.2
             }
            },
            "type": "bar"
           }
          ],
          "barpolar": [
           {
            "marker": {
             "line": {
              "color": "#E5ECF6",
              "width": 0.5
             },
             "pattern": {
              "fillmode": "overlay",
              "size": 10,
              "solidity": 0.2
             }
            },
            "type": "barpolar"
           }
          ],
          "carpet": [
           {
            "aaxis": {
             "endlinecolor": "#2a3f5f",
             "gridcolor": "white",
             "linecolor": "white",
             "minorgridcolor": "white",
             "startlinecolor": "#2a3f5f"
            },
            "baxis": {
             "endlinecolor": "#2a3f5f",
             "gridcolor": "white",
             "linecolor": "white",
             "minorgridcolor": "white",
             "startlinecolor": "#2a3f5f"
            },
            "type": "carpet"
           }
          ],
          "choropleth": [
           {
            "colorbar": {
             "outlinewidth": 0,
             "ticks": ""
            },
            "type": "choropleth"
           }
          ],
          "contour": [
           {
            "colorbar": {
             "outlinewidth": 0,
             "ticks": ""
            },
            "colorscale": [
             [
              0,
              "#0d0887"
             ],
             [
              0.1111111111111111,
              "#46039f"
             ],
             [
              0.2222222222222222,
              "#7201a8"
             ],
             [
              0.3333333333333333,
              "#9c179e"
             ],
             [
              0.4444444444444444,
              "#bd3786"
             ],
             [
              0.5555555555555556,
              "#d8576b"
             ],
             [
              0.6666666666666666,
              "#ed7953"
             ],
             [
              0.7777777777777778,
              "#fb9f3a"
             ],
             [
              0.8888888888888888,
              "#fdca26"
             ],
             [
              1,
              "#f0f921"
             ]
            ],
            "type": "contour"
           }
          ],
          "contourcarpet": [
           {
            "colorbar": {
             "outlinewidth": 0,
             "ticks": ""
            },
            "type": "contourcarpet"
           }
          ],
          "heatmap": [
           {
            "colorbar": {
             "outlinewidth": 0,
             "ticks": ""
            },
            "colorscale": [
             [
              0,
              "#0d0887"
             ],
             [
              0.1111111111111111,
              "#46039f"
             ],
             [
              0.2222222222222222,
              "#7201a8"
             ],
             [
              0.3333333333333333,
              "#9c179e"
             ],
             [
              0.4444444444444444,
              "#bd3786"
             ],
             [
              0.5555555555555556,
              "#d8576b"
             ],
             [
              0.6666666666666666,
              "#ed7953"
             ],
             [
              0.7777777777777778,
              "#fb9f3a"
             ],
             [
              0.8888888888888888,
              "#fdca26"
             ],
             [
              1,
              "#f0f921"
             ]
            ],
            "type": "heatmap"
           }
          ],
          "heatmapgl": [
           {
            "colorbar": {
             "outlinewidth": 0,
             "ticks": ""
            },
            "colorscale": [
             [
              0,
              "#0d0887"
             ],
             [
              0.1111111111111111,
              "#46039f"
             ],
             [
              0.2222222222222222,
              "#7201a8"
             ],
             [
              0.3333333333333333,
              "#9c179e"
             ],
             [
              0.4444444444444444,
              "#bd3786"
             ],
             [
              0.5555555555555556,
              "#d8576b"
             ],
             [
              0.6666666666666666,
              "#ed7953"
             ],
             [
              0.7777777777777778,
              "#fb9f3a"
             ],
             [
              0.8888888888888888,
              "#fdca26"
             ],
             [
              1,
              "#f0f921"
             ]
            ],
            "type": "heatmapgl"
           }
          ],
          "histogram": [
           {
            "marker": {
             "pattern": {
              "fillmode": "overlay",
              "size": 10,
              "solidity": 0.2
             }
            },
            "type": "histogram"
           }
          ],
          "histogram2d": [
           {
            "colorbar": {
             "outlinewidth": 0,
             "ticks": ""
            },
            "colorscale": [
             [
              0,
              "#0d0887"
             ],
             [
              0.1111111111111111,
              "#46039f"
             ],
             [
              0.2222222222222222,
              "#7201a8"
             ],
             [
              0.3333333333333333,
              "#9c179e"
             ],
             [
              0.4444444444444444,
              "#bd3786"
             ],
             [
              0.5555555555555556,
              "#d8576b"
             ],
             [
              0.6666666666666666,
              "#ed7953"
             ],
             [
              0.7777777777777778,
              "#fb9f3a"
             ],
             [
              0.8888888888888888,
              "#fdca26"
             ],
             [
              1,
              "#f0f921"
             ]
            ],
            "type": "histogram2d"
           }
          ],
          "histogram2dcontour": [
           {
            "colorbar": {
             "outlinewidth": 0,
             "ticks": ""
            },
            "colorscale": [
             [
              0,
              "#0d0887"
             ],
             [
              0.1111111111111111,
              "#46039f"
             ],
             [
              0.2222222222222222,
              "#7201a8"
             ],
             [
              0.3333333333333333,
              "#9c179e"
             ],
             [
              0.4444444444444444,
              "#bd3786"
             ],
             [
              0.5555555555555556,
              "#d8576b"
             ],
             [
              0.6666666666666666,
              "#ed7953"
             ],
             [
              0.7777777777777778,
              "#fb9f3a"
             ],
             [
              0.8888888888888888,
              "#fdca26"
             ],
             [
              1,
              "#f0f921"
             ]
            ],
            "type": "histogram2dcontour"
           }
          ],
          "mesh3d": [
           {
            "colorbar": {
             "outlinewidth": 0,
             "ticks": ""
            },
            "type": "mesh3d"
           }
          ],
          "parcoords": [
           {
            "line": {
             "colorbar": {
              "outlinewidth": 0,
              "ticks": ""
             }
            },
            "type": "parcoords"
           }
          ],
          "pie": [
           {
            "automargin": true,
            "type": "pie"
           }
          ],
          "scatter": [
           {
            "marker": {
             "colorbar": {
              "outlinewidth": 0,
              "ticks": ""
             }
            },
            "type": "scatter"
           }
          ],
          "scatter3d": [
           {
            "line": {
             "colorbar": {
              "outlinewidth": 0,
              "ticks": ""
             }
            },
            "marker": {
             "colorbar": {
              "outlinewidth": 0,
              "ticks": ""
             }
            },
            "type": "scatter3d"
           }
          ],
          "scattercarpet": [
           {
            "marker": {
             "colorbar": {
              "outlinewidth": 0,
              "ticks": ""
             }
            },
            "type": "scattercarpet"
           }
          ],
          "scattergeo": [
           {
            "marker": {
             "colorbar": {
              "outlinewidth": 0,
              "ticks": ""
             }
            },
            "type": "scattergeo"
           }
          ],
          "scattergl": [
           {
            "marker": {
             "colorbar": {
              "outlinewidth": 0,
              "ticks": ""
             }
            },
            "type": "scattergl"
           }
          ],
          "scattermapbox": [
           {
            "marker": {
             "colorbar": {
              "outlinewidth": 0,
              "ticks": ""
             }
            },
            "type": "scattermapbox"
           }
          ],
          "scatterpolar": [
           {
            "marker": {
             "colorbar": {
              "outlinewidth": 0,
              "ticks": ""
             }
            },
            "type": "scatterpolar"
           }
          ],
          "scatterpolargl": [
           {
            "marker": {
             "colorbar": {
              "outlinewidth": 0,
              "ticks": ""
             }
            },
            "type": "scatterpolargl"
           }
          ],
          "scatterternary": [
           {
            "marker": {
             "colorbar": {
              "outlinewidth": 0,
              "ticks": ""
             }
            },
            "type": "scatterternary"
           }
          ],
          "surface": [
           {
            "colorbar": {
             "outlinewidth": 0,
             "ticks": ""
            },
            "colorscale": [
             [
              0,
              "#0d0887"
             ],
             [
              0.1111111111111111,
              "#46039f"
             ],
             [
              0.2222222222222222,
              "#7201a8"
             ],
             [
              0.3333333333333333,
              "#9c179e"
             ],
             [
              0.4444444444444444,
              "#bd3786"
             ],
             [
              0.5555555555555556,
              "#d8576b"
             ],
             [
              0.6666666666666666,
              "#ed7953"
             ],
             [
              0.7777777777777778,
              "#fb9f3a"
             ],
             [
              0.8888888888888888,
              "#fdca26"
             ],
             [
              1,
              "#f0f921"
             ]
            ],
            "type": "surface"
           }
          ],
          "table": [
           {
            "cells": {
             "fill": {
              "color": "#EBF0F8"
             },
             "line": {
              "color": "white"
             }
            },
            "header": {
             "fill": {
              "color": "#C8D4E3"
             },
             "line": {
              "color": "white"
             }
            },
            "type": "table"
           }
          ]
         },
         "layout": {
          "annotationdefaults": {
           "arrowcolor": "#2a3f5f",
           "arrowhead": 0,
           "arrowwidth": 1
          },
          "autotypenumbers": "strict",
          "coloraxis": {
           "colorbar": {
            "outlinewidth": 0,
            "ticks": ""
           }
          },
          "colorscale": {
           "diverging": [
            [
             0,
             "#8e0152"
            ],
            [
             0.1,
             "#c51b7d"
            ],
            [
             0.2,
             "#de77ae"
            ],
            [
             0.3,
             "#f1b6da"
            ],
            [
             0.4,
             "#fde0ef"
            ],
            [
             0.5,
             "#f7f7f7"
            ],
            [
             0.6,
             "#e6f5d0"
            ],
            [
             0.7,
             "#b8e186"
            ],
            [
             0.8,
             "#7fbc41"
            ],
            [
             0.9,
             "#4d9221"
            ],
            [
             1,
             "#276419"
            ]
           ],
           "sequential": [
            [
             0,
             "#0d0887"
            ],
            [
             0.1111111111111111,
             "#46039f"
            ],
            [
             0.2222222222222222,
             "#7201a8"
            ],
            [
             0.3333333333333333,
             "#9c179e"
            ],
            [
             0.4444444444444444,
             "#bd3786"
            ],
            [
             0.5555555555555556,
             "#d8576b"
            ],
            [
             0.6666666666666666,
             "#ed7953"
            ],
            [
             0.7777777777777778,
             "#fb9f3a"
            ],
            [
             0.8888888888888888,
             "#fdca26"
            ],
            [
             1,
             "#f0f921"
            ]
           ],
           "sequentialminus": [
            [
             0,
             "#0d0887"
            ],
            [
             0.1111111111111111,
             "#46039f"
            ],
            [
             0.2222222222222222,
             "#7201a8"
            ],
            [
             0.3333333333333333,
             "#9c179e"
            ],
            [
             0.4444444444444444,
             "#bd3786"
            ],
            [
             0.5555555555555556,
             "#d8576b"
            ],
            [
             0.6666666666666666,
             "#ed7953"
            ],
            [
             0.7777777777777778,
             "#fb9f3a"
            ],
            [
             0.8888888888888888,
             "#fdca26"
            ],
            [
             1,
             "#f0f921"
            ]
           ]
          },
          "colorway": [
           "#636efa",
           "#EF553B",
           "#00cc96",
           "#ab63fa",
           "#FFA15A",
           "#19d3f3",
           "#FF6692",
           "#B6E880",
           "#FF97FF",
           "#FECB52"
          ],
          "font": {
           "color": "#2a3f5f"
          },
          "geo": {
           "bgcolor": "white",
           "lakecolor": "white",
           "landcolor": "#E5ECF6",
           "showlakes": true,
           "showland": true,
           "subunitcolor": "white"
          },
          "hoverlabel": {
           "align": "left"
          },
          "hovermode": "closest",
          "mapbox": {
           "style": "light"
          },
          "paper_bgcolor": "white",
          "plot_bgcolor": "#E5ECF6",
          "polar": {
           "angularaxis": {
            "gridcolor": "white",
            "linecolor": "white",
            "ticks": ""
           },
           "bgcolor": "#E5ECF6",
           "radialaxis": {
            "gridcolor": "white",
            "linecolor": "white",
            "ticks": ""
           }
          },
          "scene": {
           "xaxis": {
            "backgroundcolor": "#E5ECF6",
            "gridcolor": "white",
            "gridwidth": 2,
            "linecolor": "white",
            "showbackground": true,
            "ticks": "",
            "zerolinecolor": "white"
           },
           "yaxis": {
            "backgroundcolor": "#E5ECF6",
            "gridcolor": "white",
            "gridwidth": 2,
            "linecolor": "white",
            "showbackground": true,
            "ticks": "",
            "zerolinecolor": "white"
           },
           "zaxis": {
            "backgroundcolor": "#E5ECF6",
            "gridcolor": "white",
            "gridwidth": 2,
            "linecolor": "white",
            "showbackground": true,
            "ticks": "",
            "zerolinecolor": "white"
           }
          },
          "shapedefaults": {
           "line": {
            "color": "#2a3f5f"
           }
          },
          "ternary": {
           "aaxis": {
            "gridcolor": "white",
            "linecolor": "white",
            "ticks": ""
           },
           "baxis": {
            "gridcolor": "white",
            "linecolor": "white",
            "ticks": ""
           },
           "bgcolor": "#E5ECF6",
           "caxis": {
            "gridcolor": "white",
            "linecolor": "white",
            "ticks": ""
           }
          },
          "title": {
           "x": 0.05
          },
          "xaxis": {
           "automargin": true,
           "gridcolor": "white",
           "linecolor": "white",
           "ticks": "",
           "title": {
            "standoff": 15
           },
           "zerolinecolor": "white",
           "zerolinewidth": 2
          },
          "yaxis": {
           "automargin": true,
           "gridcolor": "white",
           "linecolor": "white",
           "ticks": "",
           "title": {
            "standoff": 15
           },
           "zerolinecolor": "white",
           "zerolinewidth": 2
          }
         }
        },
        "title": {
         "text": "Matriz de Correlação entre IPCA e Indicadores (2010 a 2022)"
        },
        "xaxis": {
         "anchor": "y",
         "constrain": "domain",
         "domain": [
          0,
          1
         ],
         "scaleanchor": "y",
         "title": {
          "text": "Variáveis"
         }
        },
        "yaxis": {
         "anchor": "x",
         "autorange": "reversed",
         "constrain": "domain",
         "domain": [
          0,
          1
         ],
         "title": {
          "text": "Variáveis"
         }
        }
       }
      }
     },
     "metadata": {},
     "output_type": "display_data"
    }
   ],
   "source": [
    "matriz_corr = df_un[['IPCA', 'Valor Transferido', 'Número de Transferências']].corr()\n",
    "\n",
    "fig = px.imshow(matriz_corr,     text_auto=True,  # Exibe os valores dentro do heatmap\n",
    "    color_continuous_scale=\"RdBu_r\",  # Mapa de cores (azul-vermelho)\n",
    "    labels=dict(color=\"Correlação\")  # Nome da legenda de cores)\n",
    ")\n",
    "\n",
    "# Títulos e layout\n",
    "fig.update_layout(\n",
    "    title=\"Matriz de Correlação entre IPCA e Indicadores (2010 a 2022)\",\n",
    "    xaxis_title=\"Variáveis\",\n",
    "    yaxis_title=\"Variáveis\"\n",
    ")\n",
    "\n",
    "fig.show()\n",
    "fig.write_image('plots_export/corr_ipca_2010_2022.png')"
   ]
  },
  {
   "cell_type": "code",
   "execution_count": 56,
   "metadata": {},
   "outputs": [
    {
     "data": {
      "application/vnd.plotly.v1+json": {
       "config": {
        "plotlyServerURL": "https://plot.ly"
       },
       "data": [
        {
         "coloraxis": "coloraxis",
         "hovertemplate": "x: %{x}<br>y: %{y}<br>Correlação: %{z}<extra></extra>",
         "name": "0",
         "texttemplate": "%{z}",
         "type": "heatmap",
         "x": [
          "IPCA",
          "Valor Transferido",
          "Número de Transferências"
         ],
         "xaxis": "x",
         "y": [
          "IPCA",
          "Valor Transferido",
          "Número de Transferências"
         ],
         "yaxis": "y",
         "z": [
          [
           1,
           -0.5462316412936591,
           0.0890897992738114
          ],
          [
           -0.5462316412936591,
           1,
           0.6562052013459299
          ],
          [
           0.0890897992738114,
           0.6562052013459299,
           1
          ]
         ]
        }
       ],
       "layout": {
        "coloraxis": {
         "colorbar": {
          "title": {
           "text": "Correlação"
          }
         },
         "colorscale": [
          [
           0,
           "rgb(5,48,97)"
          ],
          [
           0.1,
           "rgb(33,102,172)"
          ],
          [
           0.2,
           "rgb(67,147,195)"
          ],
          [
           0.3,
           "rgb(146,197,222)"
          ],
          [
           0.4,
           "rgb(209,229,240)"
          ],
          [
           0.5,
           "rgb(247,247,247)"
          ],
          [
           0.6,
           "rgb(253,219,199)"
          ],
          [
           0.7,
           "rgb(244,165,130)"
          ],
          [
           0.8,
           "rgb(214,96,77)"
          ],
          [
           0.9,
           "rgb(178,24,43)"
          ],
          [
           1,
           "rgb(103,0,31)"
          ]
         ]
        },
        "margin": {
         "t": 60
        },
        "template": {
         "data": {
          "bar": [
           {
            "error_x": {
             "color": "#2a3f5f"
            },
            "error_y": {
             "color": "#2a3f5f"
            },
            "marker": {
             "line": {
              "color": "#E5ECF6",
              "width": 0.5
             },
             "pattern": {
              "fillmode": "overlay",
              "size": 10,
              "solidity": 0.2
             }
            },
            "type": "bar"
           }
          ],
          "barpolar": [
           {
            "marker": {
             "line": {
              "color": "#E5ECF6",
              "width": 0.5
             },
             "pattern": {
              "fillmode": "overlay",
              "size": 10,
              "solidity": 0.2
             }
            },
            "type": "barpolar"
           }
          ],
          "carpet": [
           {
            "aaxis": {
             "endlinecolor": "#2a3f5f",
             "gridcolor": "white",
             "linecolor": "white",
             "minorgridcolor": "white",
             "startlinecolor": "#2a3f5f"
            },
            "baxis": {
             "endlinecolor": "#2a3f5f",
             "gridcolor": "white",
             "linecolor": "white",
             "minorgridcolor": "white",
             "startlinecolor": "#2a3f5f"
            },
            "type": "carpet"
           }
          ],
          "choropleth": [
           {
            "colorbar": {
             "outlinewidth": 0,
             "ticks": ""
            },
            "type": "choropleth"
           }
          ],
          "contour": [
           {
            "colorbar": {
             "outlinewidth": 0,
             "ticks": ""
            },
            "colorscale": [
             [
              0,
              "#0d0887"
             ],
             [
              0.1111111111111111,
              "#46039f"
             ],
             [
              0.2222222222222222,
              "#7201a8"
             ],
             [
              0.3333333333333333,
              "#9c179e"
             ],
             [
              0.4444444444444444,
              "#bd3786"
             ],
             [
              0.5555555555555556,
              "#d8576b"
             ],
             [
              0.6666666666666666,
              "#ed7953"
             ],
             [
              0.7777777777777778,
              "#fb9f3a"
             ],
             [
              0.8888888888888888,
              "#fdca26"
             ],
             [
              1,
              "#f0f921"
             ]
            ],
            "type": "contour"
           }
          ],
          "contourcarpet": [
           {
            "colorbar": {
             "outlinewidth": 0,
             "ticks": ""
            },
            "type": "contourcarpet"
           }
          ],
          "heatmap": [
           {
            "colorbar": {
             "outlinewidth": 0,
             "ticks": ""
            },
            "colorscale": [
             [
              0,
              "#0d0887"
             ],
             [
              0.1111111111111111,
              "#46039f"
             ],
             [
              0.2222222222222222,
              "#7201a8"
             ],
             [
              0.3333333333333333,
              "#9c179e"
             ],
             [
              0.4444444444444444,
              "#bd3786"
             ],
             [
              0.5555555555555556,
              "#d8576b"
             ],
             [
              0.6666666666666666,
              "#ed7953"
             ],
             [
              0.7777777777777778,
              "#fb9f3a"
             ],
             [
              0.8888888888888888,
              "#fdca26"
             ],
             [
              1,
              "#f0f921"
             ]
            ],
            "type": "heatmap"
           }
          ],
          "heatmapgl": [
           {
            "colorbar": {
             "outlinewidth": 0,
             "ticks": ""
            },
            "colorscale": [
             [
              0,
              "#0d0887"
             ],
             [
              0.1111111111111111,
              "#46039f"
             ],
             [
              0.2222222222222222,
              "#7201a8"
             ],
             [
              0.3333333333333333,
              "#9c179e"
             ],
             [
              0.4444444444444444,
              "#bd3786"
             ],
             [
              0.5555555555555556,
              "#d8576b"
             ],
             [
              0.6666666666666666,
              "#ed7953"
             ],
             [
              0.7777777777777778,
              "#fb9f3a"
             ],
             [
              0.8888888888888888,
              "#fdca26"
             ],
             [
              1,
              "#f0f921"
             ]
            ],
            "type": "heatmapgl"
           }
          ],
          "histogram": [
           {
            "marker": {
             "pattern": {
              "fillmode": "overlay",
              "size": 10,
              "solidity": 0.2
             }
            },
            "type": "histogram"
           }
          ],
          "histogram2d": [
           {
            "colorbar": {
             "outlinewidth": 0,
             "ticks": ""
            },
            "colorscale": [
             [
              0,
              "#0d0887"
             ],
             [
              0.1111111111111111,
              "#46039f"
             ],
             [
              0.2222222222222222,
              "#7201a8"
             ],
             [
              0.3333333333333333,
              "#9c179e"
             ],
             [
              0.4444444444444444,
              "#bd3786"
             ],
             [
              0.5555555555555556,
              "#d8576b"
             ],
             [
              0.6666666666666666,
              "#ed7953"
             ],
             [
              0.7777777777777778,
              "#fb9f3a"
             ],
             [
              0.8888888888888888,
              "#fdca26"
             ],
             [
              1,
              "#f0f921"
             ]
            ],
            "type": "histogram2d"
           }
          ],
          "histogram2dcontour": [
           {
            "colorbar": {
             "outlinewidth": 0,
             "ticks": ""
            },
            "colorscale": [
             [
              0,
              "#0d0887"
             ],
             [
              0.1111111111111111,
              "#46039f"
             ],
             [
              0.2222222222222222,
              "#7201a8"
             ],
             [
              0.3333333333333333,
              "#9c179e"
             ],
             [
              0.4444444444444444,
              "#bd3786"
             ],
             [
              0.5555555555555556,
              "#d8576b"
             ],
             [
              0.6666666666666666,
              "#ed7953"
             ],
             [
              0.7777777777777778,
              "#fb9f3a"
             ],
             [
              0.8888888888888888,
              "#fdca26"
             ],
             [
              1,
              "#f0f921"
             ]
            ],
            "type": "histogram2dcontour"
           }
          ],
          "mesh3d": [
           {
            "colorbar": {
             "outlinewidth": 0,
             "ticks": ""
            },
            "type": "mesh3d"
           }
          ],
          "parcoords": [
           {
            "line": {
             "colorbar": {
              "outlinewidth": 0,
              "ticks": ""
             }
            },
            "type": "parcoords"
           }
          ],
          "pie": [
           {
            "automargin": true,
            "type": "pie"
           }
          ],
          "scatter": [
           {
            "marker": {
             "colorbar": {
              "outlinewidth": 0,
              "ticks": ""
             }
            },
            "type": "scatter"
           }
          ],
          "scatter3d": [
           {
            "line": {
             "colorbar": {
              "outlinewidth": 0,
              "ticks": ""
             }
            },
            "marker": {
             "colorbar": {
              "outlinewidth": 0,
              "ticks": ""
             }
            },
            "type": "scatter3d"
           }
          ],
          "scattercarpet": [
           {
            "marker": {
             "colorbar": {
              "outlinewidth": 0,
              "ticks": ""
             }
            },
            "type": "scattercarpet"
           }
          ],
          "scattergeo": [
           {
            "marker": {
             "colorbar": {
              "outlinewidth": 0,
              "ticks": ""
             }
            },
            "type": "scattergeo"
           }
          ],
          "scattergl": [
           {
            "marker": {
             "colorbar": {
              "outlinewidth": 0,
              "ticks": ""
             }
            },
            "type": "scattergl"
           }
          ],
          "scattermapbox": [
           {
            "marker": {
             "colorbar": {
              "outlinewidth": 0,
              "ticks": ""
             }
            },
            "type": "scattermapbox"
           }
          ],
          "scatterpolar": [
           {
            "marker": {
             "colorbar": {
              "outlinewidth": 0,
              "ticks": ""
             }
            },
            "type": "scatterpolar"
           }
          ],
          "scatterpolargl": [
           {
            "marker": {
             "colorbar": {
              "outlinewidth": 0,
              "ticks": ""
             }
            },
            "type": "scatterpolargl"
           }
          ],
          "scatterternary": [
           {
            "marker": {
             "colorbar": {
              "outlinewidth": 0,
              "ticks": ""
             }
            },
            "type": "scatterternary"
           }
          ],
          "surface": [
           {
            "colorbar": {
             "outlinewidth": 0,
             "ticks": ""
            },
            "colorscale": [
             [
              0,
              "#0d0887"
             ],
             [
              0.1111111111111111,
              "#46039f"
             ],
             [
              0.2222222222222222,
              "#7201a8"
             ],
             [
              0.3333333333333333,
              "#9c179e"
             ],
             [
              0.4444444444444444,
              "#bd3786"
             ],
             [
              0.5555555555555556,
              "#d8576b"
             ],
             [
              0.6666666666666666,
              "#ed7953"
             ],
             [
              0.7777777777777778,
              "#fb9f3a"
             ],
             [
              0.8888888888888888,
              "#fdca26"
             ],
             [
              1,
              "#f0f921"
             ]
            ],
            "type": "surface"
           }
          ],
          "table": [
           {
            "cells": {
             "fill": {
              "color": "#EBF0F8"
             },
             "line": {
              "color": "white"
             }
            },
            "header": {
             "fill": {
              "color": "#C8D4E3"
             },
             "line": {
              "color": "white"
             }
            },
            "type": "table"
           }
          ]
         },
         "layout": {
          "annotationdefaults": {
           "arrowcolor": "#2a3f5f",
           "arrowhead": 0,
           "arrowwidth": 1
          },
          "autotypenumbers": "strict",
          "coloraxis": {
           "colorbar": {
            "outlinewidth": 0,
            "ticks": ""
           }
          },
          "colorscale": {
           "diverging": [
            [
             0,
             "#8e0152"
            ],
            [
             0.1,
             "#c51b7d"
            ],
            [
             0.2,
             "#de77ae"
            ],
            [
             0.3,
             "#f1b6da"
            ],
            [
             0.4,
             "#fde0ef"
            ],
            [
             0.5,
             "#f7f7f7"
            ],
            [
             0.6,
             "#e6f5d0"
            ],
            [
             0.7,
             "#b8e186"
            ],
            [
             0.8,
             "#7fbc41"
            ],
            [
             0.9,
             "#4d9221"
            ],
            [
             1,
             "#276419"
            ]
           ],
           "sequential": [
            [
             0,
             "#0d0887"
            ],
            [
             0.1111111111111111,
             "#46039f"
            ],
            [
             0.2222222222222222,
             "#7201a8"
            ],
            [
             0.3333333333333333,
             "#9c179e"
            ],
            [
             0.4444444444444444,
             "#bd3786"
            ],
            [
             0.5555555555555556,
             "#d8576b"
            ],
            [
             0.6666666666666666,
             "#ed7953"
            ],
            [
             0.7777777777777778,
             "#fb9f3a"
            ],
            [
             0.8888888888888888,
             "#fdca26"
            ],
            [
             1,
             "#f0f921"
            ]
           ],
           "sequentialminus": [
            [
             0,
             "#0d0887"
            ],
            [
             0.1111111111111111,
             "#46039f"
            ],
            [
             0.2222222222222222,
             "#7201a8"
            ],
            [
             0.3333333333333333,
             "#9c179e"
            ],
            [
             0.4444444444444444,
             "#bd3786"
            ],
            [
             0.5555555555555556,
             "#d8576b"
            ],
            [
             0.6666666666666666,
             "#ed7953"
            ],
            [
             0.7777777777777778,
             "#fb9f3a"
            ],
            [
             0.8888888888888888,
             "#fdca26"
            ],
            [
             1,
             "#f0f921"
            ]
           ]
          },
          "colorway": [
           "#636efa",
           "#EF553B",
           "#00cc96",
           "#ab63fa",
           "#FFA15A",
           "#19d3f3",
           "#FF6692",
           "#B6E880",
           "#FF97FF",
           "#FECB52"
          ],
          "font": {
           "color": "#2a3f5f"
          },
          "geo": {
           "bgcolor": "white",
           "lakecolor": "white",
           "landcolor": "#E5ECF6",
           "showlakes": true,
           "showland": true,
           "subunitcolor": "white"
          },
          "hoverlabel": {
           "align": "left"
          },
          "hovermode": "closest",
          "mapbox": {
           "style": "light"
          },
          "paper_bgcolor": "white",
          "plot_bgcolor": "#E5ECF6",
          "polar": {
           "angularaxis": {
            "gridcolor": "white",
            "linecolor": "white",
            "ticks": ""
           },
           "bgcolor": "#E5ECF6",
           "radialaxis": {
            "gridcolor": "white",
            "linecolor": "white",
            "ticks": ""
           }
          },
          "scene": {
           "xaxis": {
            "backgroundcolor": "#E5ECF6",
            "gridcolor": "white",
            "gridwidth": 2,
            "linecolor": "white",
            "showbackground": true,
            "ticks": "",
            "zerolinecolor": "white"
           },
           "yaxis": {
            "backgroundcolor": "#E5ECF6",
            "gridcolor": "white",
            "gridwidth": 2,
            "linecolor": "white",
            "showbackground": true,
            "ticks": "",
            "zerolinecolor": "white"
           },
           "zaxis": {
            "backgroundcolor": "#E5ECF6",
            "gridcolor": "white",
            "gridwidth": 2,
            "linecolor": "white",
            "showbackground": true,
            "ticks": "",
            "zerolinecolor": "white"
           }
          },
          "shapedefaults": {
           "line": {
            "color": "#2a3f5f"
           }
          },
          "ternary": {
           "aaxis": {
            "gridcolor": "white",
            "linecolor": "white",
            "ticks": ""
           },
           "baxis": {
            "gridcolor": "white",
            "linecolor": "white",
            "ticks": ""
           },
           "bgcolor": "#E5ECF6",
           "caxis": {
            "gridcolor": "white",
            "linecolor": "white",
            "ticks": ""
           }
          },
          "title": {
           "x": 0.05
          },
          "xaxis": {
           "automargin": true,
           "gridcolor": "white",
           "linecolor": "white",
           "ticks": "",
           "title": {
            "standoff": 15
           },
           "zerolinecolor": "white",
           "zerolinewidth": 2
          },
          "yaxis": {
           "automargin": true,
           "gridcolor": "white",
           "linecolor": "white",
           "ticks": "",
           "title": {
            "standoff": 15
           },
           "zerolinecolor": "white",
           "zerolinewidth": 2
          }
         }
        },
        "title": {
         "text": "Matriz de Correlação entre IPCA e Indicadores (2010 a 2021)"
        },
        "xaxis": {
         "anchor": "y",
         "constrain": "domain",
         "domain": [
          0,
          1
         ],
         "scaleanchor": "y",
         "title": {
          "text": "Variáveis"
         }
        },
        "yaxis": {
         "anchor": "x",
         "autorange": "reversed",
         "constrain": "domain",
         "domain": [
          0,
          1
         ],
         "title": {
          "text": "Variáveis"
         }
        }
       }
      }
     },
     "metadata": {},
     "output_type": "display_data"
    }
   ],
   "source": [
    "labels = ['IPCA', 'Valor Transferido', 'Número de Transferências']\n",
    "ipca_anual = ipca_df.loc[:, 2010:2021].sum(axis=0) # ipca anual\n",
    "valor_transf_ano = df_transf.loc[:, 2010:2021].sum(axis=0) # valores transferidos anualmente\n",
    "num_transf_anual = data_3.loc[:, 2010:2021].sum(axis=0) # número de transferências por ano\n",
    "\n",
    "df_un = pd.DataFrame([ipca_anual, valor_transf_ano, num_transf_anual])\n",
    "df_un.insert(0, 'ind', labels)\n",
    "\n",
    "df_un = df_un.set_index('ind').T.reset_index()\n",
    "\n",
    "df_un.columns.name = None\n",
    "\n",
    "df_un = df_un.rename(columns={'index': 'Ano'})\n",
    "\n",
    "matriz_corr = df_un[['IPCA', 'Valor Transferido', 'Número de Transferências']].corr()\n",
    "\n",
    "fig = px.imshow(matriz_corr,     text_auto=True,  # Exibe os valores dentro do heatmap\n",
    "    color_continuous_scale=\"RdBu_r\",  # Mapa de cores (azul-vermelho)\n",
    "    labels=dict(color=\"Correlação\")  # Nome da legenda de cores)\n",
    ")\n",
    "\n",
    "# Títulos e layout\n",
    "fig.update_layout(\n",
    "    title=\"Matriz de Correlação entre IPCA e Indicadores (2010 a 2021)\",\n",
    "    xaxis_title=\"Variáveis\",\n",
    "    yaxis_title=\"Variáveis\"\n",
    ")\n",
    "\n",
    "fig.show()\n",
    "\n",
    "fig.write_image('plots_export/corr_ipca_2010_2021.png')"
   ]
  },
  {
   "cell_type": "markdown",
   "metadata": {},
   "source": [
    "Normalização com Z-score: https://www.investopedia.com/terms/z/zscore.asp\n",
    "\n",
    "Dados em escalas diferentes"
   ]
  },
  {
   "cell_type": "code",
   "execution_count": 60,
   "metadata": {},
   "outputs": [
    {
     "data": {
      "application/vnd.plotly.v1+json": {
       "config": {
        "plotlyServerURL": "https://plot.ly"
       },
       "data": [
        {
         "hovertemplate": "Legenda=Valor Transferido Normalizado<br>Ano=%{x}<br>Valor=%{y}<extra></extra>",
         "legendgroup": "Valor Transferido Normalizado",
         "line": {
          "color": "#636efa",
          "dash": "solid"
         },
         "marker": {
          "symbol": "circle"
         },
         "mode": "lines",
         "name": "Valor Transferido Normalizado",
         "orientation": "v",
         "showlegend": true,
         "type": "scatter",
         "x": [
          2010,
          2011,
          2012,
          2013,
          2014,
          2015,
          2016,
          2017,
          2018,
          2019,
          2020,
          2021
         ],
         "xaxis": "x",
         "y": [
          -1.3282943102474527,
          -0.977206768273648,
          -0.6984705814633069,
          -0.5836723552430028,
          -0.38689813727823646,
          -0.40298372487598155,
          -0.5021202753695776,
          1.0606308281495052,
          0.9033263509613719,
          1.6615364587534625,
          1.7224909836659925,
          -0.4683384687791276
         ],
         "yaxis": "y"
        },
        {
         "hovertemplate": "Legenda=Número de Transferências Normalizado<br>Ano=%{x}<br>Valor=%{y}<extra></extra>",
         "legendgroup": "Número de Transferências Normalizado",
         "line": {
          "color": "#EF553B",
          "dash": "solid"
         },
         "marker": {
          "symbol": "circle"
         },
         "mode": "lines",
         "name": "Número de Transferências Normalizado",
         "orientation": "v",
         "showlegend": true,
         "type": "scatter",
         "x": [
          2010,
          2011,
          2012,
          2013,
          2014,
          2015,
          2016,
          2017,
          2018,
          2019,
          2020,
          2021
         ],
         "xaxis": "x",
         "y": [
          -1.2130849560125752,
          -1.0951411587634965,
          -0.9371653427400952,
          -0.7154826581296003,
          -0.6061478971760748,
          -0.43654988215367674,
          -0.13222044910587114,
          0.2767087749329058,
          0.4450154345109708,
          1.0833754758262406,
          1.2361858700723098,
          2.094506788738964
         ],
         "yaxis": "y"
        },
        {
         "hovertemplate": "Legenda=IPCA Normalizado<br>Ano=%{x}<br>Valor=%{y}<extra></extra>",
         "legendgroup": "IPCA Normalizado",
         "line": {
          "color": "#00cc96",
          "dash": "solid"
         },
         "marker": {
          "symbol": "circle"
         },
         "mode": "lines",
         "name": "IPCA Normalizado",
         "orientation": "v",
         "showlegend": true,
         "type": "scatter",
         "x": [
          2010,
          2011,
          2012,
          2013,
          2014,
          2015,
          2016,
          2017,
          2018,
          2019,
          2020,
          2021
         ],
         "xaxis": "x",
         "y": [
          -0.10636879625570457,
          0.1444376285998524,
          -0.13771959936264974,
          -0.10636879625570496,
          0.10412945317663794,
          1.8776891717980781,
          0.05486390543715295,
          -1.3827943513241656,
          -1.0334568309896393,
          -0.7916077784503519,
          -0.6975553691295184,
          2.0747513627560163
         ],
         "yaxis": "y"
        }
       ],
       "layout": {
        "legend": {
         "title": {
          "text": "Legenda"
         },
         "tracegroupgap": 0
        },
        "template": {
         "data": {
          "bar": [
           {
            "error_x": {
             "color": "#2a3f5f"
            },
            "error_y": {
             "color": "#2a3f5f"
            },
            "marker": {
             "line": {
              "color": "#E5ECF6",
              "width": 0.5
             },
             "pattern": {
              "fillmode": "overlay",
              "size": 10,
              "solidity": 0.2
             }
            },
            "type": "bar"
           }
          ],
          "barpolar": [
           {
            "marker": {
             "line": {
              "color": "#E5ECF6",
              "width": 0.5
             },
             "pattern": {
              "fillmode": "overlay",
              "size": 10,
              "solidity": 0.2
             }
            },
            "type": "barpolar"
           }
          ],
          "carpet": [
           {
            "aaxis": {
             "endlinecolor": "#2a3f5f",
             "gridcolor": "white",
             "linecolor": "white",
             "minorgridcolor": "white",
             "startlinecolor": "#2a3f5f"
            },
            "baxis": {
             "endlinecolor": "#2a3f5f",
             "gridcolor": "white",
             "linecolor": "white",
             "minorgridcolor": "white",
             "startlinecolor": "#2a3f5f"
            },
            "type": "carpet"
           }
          ],
          "choropleth": [
           {
            "colorbar": {
             "outlinewidth": 0,
             "ticks": ""
            },
            "type": "choropleth"
           }
          ],
          "contour": [
           {
            "colorbar": {
             "outlinewidth": 0,
             "ticks": ""
            },
            "colorscale": [
             [
              0,
              "#0d0887"
             ],
             [
              0.1111111111111111,
              "#46039f"
             ],
             [
              0.2222222222222222,
              "#7201a8"
             ],
             [
              0.3333333333333333,
              "#9c179e"
             ],
             [
              0.4444444444444444,
              "#bd3786"
             ],
             [
              0.5555555555555556,
              "#d8576b"
             ],
             [
              0.6666666666666666,
              "#ed7953"
             ],
             [
              0.7777777777777778,
              "#fb9f3a"
             ],
             [
              0.8888888888888888,
              "#fdca26"
             ],
             [
              1,
              "#f0f921"
             ]
            ],
            "type": "contour"
           }
          ],
          "contourcarpet": [
           {
            "colorbar": {
             "outlinewidth": 0,
             "ticks": ""
            },
            "type": "contourcarpet"
           }
          ],
          "heatmap": [
           {
            "colorbar": {
             "outlinewidth": 0,
             "ticks": ""
            },
            "colorscale": [
             [
              0,
              "#0d0887"
             ],
             [
              0.1111111111111111,
              "#46039f"
             ],
             [
              0.2222222222222222,
              "#7201a8"
             ],
             [
              0.3333333333333333,
              "#9c179e"
             ],
             [
              0.4444444444444444,
              "#bd3786"
             ],
             [
              0.5555555555555556,
              "#d8576b"
             ],
             [
              0.6666666666666666,
              "#ed7953"
             ],
             [
              0.7777777777777778,
              "#fb9f3a"
             ],
             [
              0.8888888888888888,
              "#fdca26"
             ],
             [
              1,
              "#f0f921"
             ]
            ],
            "type": "heatmap"
           }
          ],
          "heatmapgl": [
           {
            "colorbar": {
             "outlinewidth": 0,
             "ticks": ""
            },
            "colorscale": [
             [
              0,
              "#0d0887"
             ],
             [
              0.1111111111111111,
              "#46039f"
             ],
             [
              0.2222222222222222,
              "#7201a8"
             ],
             [
              0.3333333333333333,
              "#9c179e"
             ],
             [
              0.4444444444444444,
              "#bd3786"
             ],
             [
              0.5555555555555556,
              "#d8576b"
             ],
             [
              0.6666666666666666,
              "#ed7953"
             ],
             [
              0.7777777777777778,
              "#fb9f3a"
             ],
             [
              0.8888888888888888,
              "#fdca26"
             ],
             [
              1,
              "#f0f921"
             ]
            ],
            "type": "heatmapgl"
           }
          ],
          "histogram": [
           {
            "marker": {
             "pattern": {
              "fillmode": "overlay",
              "size": 10,
              "solidity": 0.2
             }
            },
            "type": "histogram"
           }
          ],
          "histogram2d": [
           {
            "colorbar": {
             "outlinewidth": 0,
             "ticks": ""
            },
            "colorscale": [
             [
              0,
              "#0d0887"
             ],
             [
              0.1111111111111111,
              "#46039f"
             ],
             [
              0.2222222222222222,
              "#7201a8"
             ],
             [
              0.3333333333333333,
              "#9c179e"
             ],
             [
              0.4444444444444444,
              "#bd3786"
             ],
             [
              0.5555555555555556,
              "#d8576b"
             ],
             [
              0.6666666666666666,
              "#ed7953"
             ],
             [
              0.7777777777777778,
              "#fb9f3a"
             ],
             [
              0.8888888888888888,
              "#fdca26"
             ],
             [
              1,
              "#f0f921"
             ]
            ],
            "type": "histogram2d"
           }
          ],
          "histogram2dcontour": [
           {
            "colorbar": {
             "outlinewidth": 0,
             "ticks": ""
            },
            "colorscale": [
             [
              0,
              "#0d0887"
             ],
             [
              0.1111111111111111,
              "#46039f"
             ],
             [
              0.2222222222222222,
              "#7201a8"
             ],
             [
              0.3333333333333333,
              "#9c179e"
             ],
             [
              0.4444444444444444,
              "#bd3786"
             ],
             [
              0.5555555555555556,
              "#d8576b"
             ],
             [
              0.6666666666666666,
              "#ed7953"
             ],
             [
              0.7777777777777778,
              "#fb9f3a"
             ],
             [
              0.8888888888888888,
              "#fdca26"
             ],
             [
              1,
              "#f0f921"
             ]
            ],
            "type": "histogram2dcontour"
           }
          ],
          "mesh3d": [
           {
            "colorbar": {
             "outlinewidth": 0,
             "ticks": ""
            },
            "type": "mesh3d"
           }
          ],
          "parcoords": [
           {
            "line": {
             "colorbar": {
              "outlinewidth": 0,
              "ticks": ""
             }
            },
            "type": "parcoords"
           }
          ],
          "pie": [
           {
            "automargin": true,
            "type": "pie"
           }
          ],
          "scatter": [
           {
            "marker": {
             "colorbar": {
              "outlinewidth": 0,
              "ticks": ""
             }
            },
            "type": "scatter"
           }
          ],
          "scatter3d": [
           {
            "line": {
             "colorbar": {
              "outlinewidth": 0,
              "ticks": ""
             }
            },
            "marker": {
             "colorbar": {
              "outlinewidth": 0,
              "ticks": ""
             }
            },
            "type": "scatter3d"
           }
          ],
          "scattercarpet": [
           {
            "marker": {
             "colorbar": {
              "outlinewidth": 0,
              "ticks": ""
             }
            },
            "type": "scattercarpet"
           }
          ],
          "scattergeo": [
           {
            "marker": {
             "colorbar": {
              "outlinewidth": 0,
              "ticks": ""
             }
            },
            "type": "scattergeo"
           }
          ],
          "scattergl": [
           {
            "marker": {
             "colorbar": {
              "outlinewidth": 0,
              "ticks": ""
             }
            },
            "type": "scattergl"
           }
          ],
          "scattermapbox": [
           {
            "marker": {
             "colorbar": {
              "outlinewidth": 0,
              "ticks": ""
             }
            },
            "type": "scattermapbox"
           }
          ],
          "scatterpolar": [
           {
            "marker": {
             "colorbar": {
              "outlinewidth": 0,
              "ticks": ""
             }
            },
            "type": "scatterpolar"
           }
          ],
          "scatterpolargl": [
           {
            "marker": {
             "colorbar": {
              "outlinewidth": 0,
              "ticks": ""
             }
            },
            "type": "scatterpolargl"
           }
          ],
          "scatterternary": [
           {
            "marker": {
             "colorbar": {
              "outlinewidth": 0,
              "ticks": ""
             }
            },
            "type": "scatterternary"
           }
          ],
          "surface": [
           {
            "colorbar": {
             "outlinewidth": 0,
             "ticks": ""
            },
            "colorscale": [
             [
              0,
              "#0d0887"
             ],
             [
              0.1111111111111111,
              "#46039f"
             ],
             [
              0.2222222222222222,
              "#7201a8"
             ],
             [
              0.3333333333333333,
              "#9c179e"
             ],
             [
              0.4444444444444444,
              "#bd3786"
             ],
             [
              0.5555555555555556,
              "#d8576b"
             ],
             [
              0.6666666666666666,
              "#ed7953"
             ],
             [
              0.7777777777777778,
              "#fb9f3a"
             ],
             [
              0.8888888888888888,
              "#fdca26"
             ],
             [
              1,
              "#f0f921"
             ]
            ],
            "type": "surface"
           }
          ],
          "table": [
           {
            "cells": {
             "fill": {
              "color": "#EBF0F8"
             },
             "line": {
              "color": "white"
             }
            },
            "header": {
             "fill": {
              "color": "#C8D4E3"
             },
             "line": {
              "color": "white"
             }
            },
            "type": "table"
           }
          ]
         },
         "layout": {
          "annotationdefaults": {
           "arrowcolor": "#2a3f5f",
           "arrowhead": 0,
           "arrowwidth": 1
          },
          "autotypenumbers": "strict",
          "coloraxis": {
           "colorbar": {
            "outlinewidth": 0,
            "ticks": ""
           }
          },
          "colorscale": {
           "diverging": [
            [
             0,
             "#8e0152"
            ],
            [
             0.1,
             "#c51b7d"
            ],
            [
             0.2,
             "#de77ae"
            ],
            [
             0.3,
             "#f1b6da"
            ],
            [
             0.4,
             "#fde0ef"
            ],
            [
             0.5,
             "#f7f7f7"
            ],
            [
             0.6,
             "#e6f5d0"
            ],
            [
             0.7,
             "#b8e186"
            ],
            [
             0.8,
             "#7fbc41"
            ],
            [
             0.9,
             "#4d9221"
            ],
            [
             1,
             "#276419"
            ]
           ],
           "sequential": [
            [
             0,
             "#0d0887"
            ],
            [
             0.1111111111111111,
             "#46039f"
            ],
            [
             0.2222222222222222,
             "#7201a8"
            ],
            [
             0.3333333333333333,
             "#9c179e"
            ],
            [
             0.4444444444444444,
             "#bd3786"
            ],
            [
             0.5555555555555556,
             "#d8576b"
            ],
            [
             0.6666666666666666,
             "#ed7953"
            ],
            [
             0.7777777777777778,
             "#fb9f3a"
            ],
            [
             0.8888888888888888,
             "#fdca26"
            ],
            [
             1,
             "#f0f921"
            ]
           ],
           "sequentialminus": [
            [
             0,
             "#0d0887"
            ],
            [
             0.1111111111111111,
             "#46039f"
            ],
            [
             0.2222222222222222,
             "#7201a8"
            ],
            [
             0.3333333333333333,
             "#9c179e"
            ],
            [
             0.4444444444444444,
             "#bd3786"
            ],
            [
             0.5555555555555556,
             "#d8576b"
            ],
            [
             0.6666666666666666,
             "#ed7953"
            ],
            [
             0.7777777777777778,
             "#fb9f3a"
            ],
            [
             0.8888888888888888,
             "#fdca26"
            ],
            [
             1,
             "#f0f921"
            ]
           ]
          },
          "colorway": [
           "#636efa",
           "#EF553B",
           "#00cc96",
           "#ab63fa",
           "#FFA15A",
           "#19d3f3",
           "#FF6692",
           "#B6E880",
           "#FF97FF",
           "#FECB52"
          ],
          "font": {
           "color": "#2a3f5f"
          },
          "geo": {
           "bgcolor": "white",
           "lakecolor": "white",
           "landcolor": "#E5ECF6",
           "showlakes": true,
           "showland": true,
           "subunitcolor": "white"
          },
          "hoverlabel": {
           "align": "left"
          },
          "hovermode": "closest",
          "mapbox": {
           "style": "light"
          },
          "paper_bgcolor": "white",
          "plot_bgcolor": "#E5ECF6",
          "polar": {
           "angularaxis": {
            "gridcolor": "white",
            "linecolor": "white",
            "ticks": ""
           },
           "bgcolor": "#E5ECF6",
           "radialaxis": {
            "gridcolor": "white",
            "linecolor": "white",
            "ticks": ""
           }
          },
          "scene": {
           "xaxis": {
            "backgroundcolor": "#E5ECF6",
            "gridcolor": "white",
            "gridwidth": 2,
            "linecolor": "white",
            "showbackground": true,
            "ticks": "",
            "zerolinecolor": "white"
           },
           "yaxis": {
            "backgroundcolor": "#E5ECF6",
            "gridcolor": "white",
            "gridwidth": 2,
            "linecolor": "white",
            "showbackground": true,
            "ticks": "",
            "zerolinecolor": "white"
           },
           "zaxis": {
            "backgroundcolor": "#E5ECF6",
            "gridcolor": "white",
            "gridwidth": 2,
            "linecolor": "white",
            "showbackground": true,
            "ticks": "",
            "zerolinecolor": "white"
           }
          },
          "shapedefaults": {
           "line": {
            "color": "#2a3f5f"
           }
          },
          "ternary": {
           "aaxis": {
            "gridcolor": "white",
            "linecolor": "white",
            "ticks": ""
           },
           "baxis": {
            "gridcolor": "white",
            "linecolor": "white",
            "ticks": ""
           },
           "bgcolor": "#E5ECF6",
           "caxis": {
            "gridcolor": "white",
            "linecolor": "white",
            "ticks": ""
           }
          },
          "title": {
           "x": 0.05
          },
          "xaxis": {
           "automargin": true,
           "gridcolor": "white",
           "linecolor": "white",
           "ticks": "",
           "title": {
            "standoff": 15
           },
           "zerolinecolor": "white",
           "zerolinewidth": 2
          },
          "yaxis": {
           "automargin": true,
           "gridcolor": "white",
           "linecolor": "white",
           "ticks": "",
           "title": {
            "standoff": 15
           },
           "zerolinecolor": "white",
           "zerolinewidth": 2
          }
         }
        },
        "title": {
         "text": "Valor Transferido, Número de Transferências e IPCA Normalizados por Z-score"
        },
        "xaxis": {
         "anchor": "y",
         "domain": [
          0,
          1
         ],
         "title": {
          "text": "Ano"
         }
        },
        "yaxis": {
         "anchor": "x",
         "domain": [
          0,
          1
         ],
         "title": {
          "text": "Valor"
         }
        }
       }
      }
     },
     "metadata": {},
     "output_type": "display_data"
    }
   ],
   "source": [
    "df_un['Valor Transferido Normalizado'] = zscore(df_un['Valor Transferido'])\n",
    "df_un['Número de Transferências Normalizado'] = zscore(df_un['Número de Transferências'])\n",
    "df_un['IPCA Normalizado'] = zscore(df_un['IPCA'])\n",
    "\n",
    "df_un_edit = df_un[['Ano', 'Valor Transferido Normalizado', 'Número de Transferências Normalizado', 'IPCA Normalizado']]\n",
    "\n",
    "dados_long_6 = df_un_edit.melt(id_vars=['Ano'], var_name='Score', value_name='Valor')\n",
    "\n",
    "fig = px.line(dados_long_6, x=\"Ano\", y=\"Valor\", color=\"Score\",\n",
    "              title=\"Valor Transferido, Número de Transferências e IPCA Normalizados por Z-score\", \n",
    "              labels={'valor_transf_zscore': 'Valor Transferido Normalizado', 'num_transf_zscore': 'Número de Transferências Normalizado', 'ipca_zscore': 'IPCA Normalizado', 'Score': 'Legenda'}\n",
    "              )\n",
    "\n",
    "fig.show()\n",
    "\n",
    "fig.write_image('plots_export/ipca_nt_vt_zscore.png')"
   ]
  },
  {
   "cell_type": "markdown",
   "metadata": {},
   "source": [
    "- Quais decisões poderiam ser facilitadas com o uso desses novos dados? Pergunta de nível teórico. O seu projeto final não necessariamente precisa trazer esses dados externos."
   ]
  },
  {
   "cell_type": "markdown",
   "metadata": {},
   "source": []
  }
 ],
 "metadata": {
  "kernelspec": {
   "display_name": "base",
   "language": "python",
   "name": "python3"
  },
  "language_info": {
   "codemirror_mode": {
    "name": "ipython",
    "version": 3
   },
   "file_extension": ".py",
   "mimetype": "text/x-python",
   "name": "python",
   "nbconvert_exporter": "python",
   "pygments_lexer": "ipython3",
   "version": "3.9.12"
  }
 },
 "nbformat": 4,
 "nbformat_minor": 2
}
