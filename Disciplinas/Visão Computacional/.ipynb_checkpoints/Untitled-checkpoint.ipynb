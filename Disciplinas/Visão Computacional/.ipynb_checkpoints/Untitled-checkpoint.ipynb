{
 "cells": [
  {
   "cell_type": "raw",
   "source": [],
   "metadata": {
    "collapsed": false
   },
   "id": "fec6fc2ddff8ea79"
  }
 ],
 "metadata": {},
 "nbformat": 4,
 "nbformat_minor": 5
}
