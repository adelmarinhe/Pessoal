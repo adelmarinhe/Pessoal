{
 "cells": [
  {
   "cell_type": "code",
   "execution_count": null,
   "metadata": {},
   "outputs": [],
   "source": [
    "class Employee:\n",
    "    def __init__(self, employee_base: dict):\n",
    "        self.employee_base = employee_base\n",
    "\n",
    "    def calculate_emp_salary(self, salary, hours_worked):\n",
    "        overtime_amount = 0\n",
    "        emp_name = str(input())\n",
    "        if hours_worked > 50:\n",
    "            overtime = hours_worked - 50\n",
    "            overtime_amount = (overtime * (salary / 50))\n",
    "            self.employee_base[emp_name][1] += overtime_amount\n",
    "    \n",
    "    def emp_assign_department(self, emp_name):\n",
    "        new_department = str(input())\n",
    "        self.employee_base[emp_name][2] = new_department\n",
    "\n",
    "    def print_employee_details(self):\n",
    "        employee = str(input())\n",
    "        print(self.employee_base[employee])\n",
    "\n",
    "    def show_employees(self):\n",
    "        return self.employee_base\n",
    "\n",
    "data_base = {\"ADAMS\": [\"E7876\", 50000, \"ACCOUNTING\"], \"JONES\": [\"E7499\", 45000, \"RESEARCH\"], \"MARTIN\": [\"E7900\", 50000, \"SALES\"], \"SMITH\": [\"E7698\", 55000, \"OPERATIONS\"]}\n",
    "\n",
    "e = Employee(data_base)"
   ]
  },
  {
   "cell_type": "code",
   "execution_count": 11,
   "metadata": {},
   "outputs": [
    {
     "name": "stdout",
     "output_type": "stream",
     "text": [
      "{'entry': ['salad'], 'main course': ['lasagna'], 'dessert': ['pudding']}\n",
      "{}\n",
      "{'adel': ['salad', 'lasagna', 'pudding']}\n"
     ]
    }
   ],
   "source": [
    "class Restaurant:\n",
    "    def __init__(self, menu_items: dict, book_table: dict, customer_orders: dict):\n",
    "        self.menu_items = menu_items\n",
    "        self.book_table = book_table\n",
    "        self.customer_orders = customer_orders\n",
    "\n",
    "    def add_item_to_menu(self):\n",
    "        item_type = str(input(\"Item type\"))\n",
    "        new_item = str(input(\"Item name\"))\n",
    "        self.menu_items[item_type].append(new_item)\n",
    "\n",
    "    def book_tables(self):\n",
    "        reservation_number = int(input())\n",
    "        customer_name = str(input(\"Customer name\"))\n",
    "        customer_number = int(input(\"Number of customers on the table\"))\n",
    "        self.book_table[reservation_number] = [customer_name, customer_number]\n",
    "\n",
    "    def customer_order(self):\n",
    "        customer = str(input(\"Customer name\"))\n",
    "        self.customer_orders[customer] = []\n",
    "        entry = str(input(\"Entry\"))\n",
    "        main_course = str(input(\"Main course\"))\n",
    "        dessert = str(input(\"Dessert\"))\n",
    "        if entry in self.menu_items['entry']:\n",
    "            self.customer_orders[customer].append(entry)\n",
    "        if main_course in self.menu_items['main course']:\n",
    "            self.customer_orders[customer].append(main_course)\n",
    "        if dessert in self.menu_items['dessert']:\n",
    "            self.customer_orders[customer].append(dessert)\n",
    "\n",
    "    def print_menu(self):\n",
    "        print(self.menu_items)\n",
    "    def print_reservations(self):\n",
    "        print(self.book_table)\n",
    "    def print_orders(self):\n",
    "        print(self.customer_orders)\n",
    "\n",
    "menu = {'entry': ['salad'], 'main course': ['lasagna'], 'dessert': ['pudding']}\n",
    "tables = {}\n",
    "orders = {}\n",
    "\n",
    "r = Restaurant(menu,tables,orders)\n",
    "\n",
    "# r.add_item_to_menu()\n",
    "# r.add_item_to_menu()\n",
    "# r.book_tables()\n",
    "r.customer_order()\n",
    "r.print_menu()\n",
    "r.print_reservations()\n",
    "r.print_orders()"
   ]
  }
 ],
 "metadata": {
  "kernelspec": {
   "display_name": "Python 3",
   "language": "python",
   "name": "python3"
  },
  "language_info": {
   "codemirror_mode": {
    "name": "ipython",
    "version": 3
   },
   "file_extension": ".py",
   "mimetype": "text/x-python",
   "name": "python",
   "nbconvert_exporter": "python",
   "pygments_lexer": "ipython3",
   "version": "3.11.1"
  },
  "orig_nbformat": 4,
  "vscode": {
   "interpreter": {
    "hash": "055fcd7b8294146d5d24af3b94cf194f013b2d7e71b64a3a9634da51e84f0423"
   }
  }
 },
 "nbformat": 4,
 "nbformat_minor": 2
}
