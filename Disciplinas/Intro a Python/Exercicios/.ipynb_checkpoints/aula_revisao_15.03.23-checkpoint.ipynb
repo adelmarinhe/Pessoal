{
 "cells": [
  {
   "cell_type": "code",
   "execution_count": 3,
   "id": "c716fb86-a79e-4980-ba86-82714bc96b0d",
   "metadata": {
    "tags": []
   },
   "outputs": [],
   "source": [
    "d = {}\n",
    "\n",
    "d[0] = 'algum valor'\n",
    "d = {1: 'primeiro valor', 2: 'segundo valor', 3:'terceiro valor', 0: 'ultimo valor'}\n",
    "d[0]"
   ]
  },
  {
   "cell_type": "code",
   "execution_count": 4,
   "id": "b0d4465d-3c97-4f08-b564-9f1b3fef8bb8",
   "metadata": {
    "tags": []
   },
   "outputs": [],
   "source": [
    "d"
   ]
  },
  {
   "cell_type": "code",
   "execution_count": 10,
   "id": "1e497e51-719a-4b91-9ab0-f48637bb9e37",
   "metadata": {
    "tags": []
   },
   "outputs": [],
   "source": [
    "class Aluno:\n",
    "    def __init__(self, nome, endereco, telefone):\n",
    "        self.nome = nome\n",
    "        self.endereco = endereco\n",
    "        self.telefone = telefone\n",
    "    \n",
    "    def __str__(self) -> str:\n",
    "        return f'{self.nome} mora em {self.endereco} telefone é {self.telefone}\\n'\n",
    "\n",
    "    def __repr__(self) -> str:\n",
    "        return self.__str__()        \n",
    "        \n",
    "alunos = {123:Aluno('Alexandro', 'Rua 1', '9876867652'), \n",
    "          456:Aluno('Milena', 'Rua 2', '983287553'),\n",
    "          789:Aluno('Eduardo', 'Rua 3', '9509468097'),\n",
    "          101:Aluno('Bruno Reis', 'Rua 4', '9878786576')}\n",
    "\n",
    "print(alunos)"
   ]
  },
  {
   "cell_type": "markdown",
   "id": "0ece8f0f-b2c0-41d3-8e83-7d9ec90a76ca",
   "metadata": {},
   "source": [
    "Definir função que recebe uma lista com duplicados e retorna lista sem duplicados"
   ]
  },
  {
   "cell_type": "code",
   "execution_count": 2,
   "id": "ba0270d1-9dc5-47c0-adb7-bededaf9debf",
   "metadata": {
    "tags": []
   },
   "outputs": [
    {
     "name": "stdout",
     "output_type": "stream",
     "text": [
      "[1, 2, 3]\n"
     ]
    }
   ],
   "source": [
    "def removerDuplicados(L):\n",
    "    d = {}\n",
    "    L2 = []\n",
    "    a = 0\n",
    "    for item in L:\n",
    "        for item2 in L:\n",
    "            if item == item2:\n",
    "                a += 1\n",
    "            d[item] = a\n",
    "        a = 0\n",
    "    L2 = list(d.keys())\n",
    "    return L2\n",
    "\n",
    "lista = [1,1,2,3,1,2,3]\n",
    "print(removerDuplicados(lista))"
   ]
  },
  {
   "cell_type": "code",
   "execution_count": 4,
   "id": "e1d9c1aa-054d-4f30-8465-e7c732b1d4a0",
   "metadata": {},
   "outputs": [
    {
     "name": "stdout",
     "output_type": "stream",
     "text": [
      "[1, 2, 3]\n"
     ]
    }
   ],
   "source": [
    "def removerDuplicados(L):\n",
    "    return list(set(L))\n",
    "\n",
    "lista = [1,1,2,3,1,2,3]\n",
    "print(removerDuplicados(lista))"
   ]
  },
  {
   "cell_type": "markdown",
   "id": "3adcfb99-c7e2-4fd2-bfb1-4f3fdebf9e7b",
   "metadata": {},
   "source": [
    "Escreva uma função que recebe duas listas e retorna True caso tenham elementos em comum"
   ]
  },
  {
   "cell_type": "code",
   "execution_count": 14,
   "id": "88786a94-837e-478a-8541-b8abce4afccf",
   "metadata": {
    "tags": []
   },
   "outputs": [
    {
     "data": {
      "text/plain": [
       "True"
      ]
     },
     "execution_count": 14,
     "metadata": {},
     "output_type": "execute_result"
    }
   ],
   "source": [
    "def temElementosComum(L1,L2):\n",
    "    for element in L1:\n",
    "        if element in L2:\n",
    "            return True\n",
    "        else:\n",
    "            continue\n",
    "    return False\n",
    "    \n",
    "lista1 = [1,1,2,3,1,2,3]\n",
    "lista2 = [5,3,2,3,4,2,3]\n",
    "temElementosComum(lista1,lista2)"
   ]
  },
  {
   "cell_type": "code",
   "execution_count": 13,
   "id": "8cd86346-b349-4023-a0dd-9c11208e1a96",
   "metadata": {
    "tags": []
   },
   "outputs": [
    {
     "name": "stdout",
     "output_type": "stream",
     "text": [
      "True\n"
     ]
    }
   ],
   "source": [
    "def temElementosComum(L1,L2):\n",
    "    S1 = set(L1)\n",
    "    S2 = set(L2)\n",
    "    return len(S1.intersection(S2))>0\n",
    "\n",
    "lista1 = [1,1,2,3,1,2,3]\n",
    "lista2 = [5,3,2,3,4,2,3]\n",
    "print(temElementosComum(lista1,lista2))"
   ]
  },
  {
   "cell_type": "code",
   "execution_count": 17,
   "id": "adf1e2ba-37d5-4bfb-a0d1-804e37e219c3",
   "metadata": {
    "tags": []
   },
   "outputs": [
    {
     "name": "stdout",
     "output_type": "stream",
     "text": [
      "True\n"
     ]
    }
   ],
   "source": [
    "def sublista(L,S):\n",
    "    for i in range(len(L)):\n",
    "        if L[i] == S[0]:\n",
    "            equal == True\n",
    "            for j in range(len(S)):\n",
    "                if S[j]!=L[i+j]:\n",
    "                    equal ==False\n",
    "                    break\n",
    "                if equal:\n",
    "                    return equal\n",
    "    return False\n",
    "\n",
    "lista1 = [3,2]\n",
    "lista2 = [5,3,2,3,4,2,3]\n",
    "print(temElementosComum(lista1,lista2))"
   ]
  },
  {
   "cell_type": "code",
   "execution_count": 9,
   "id": "af4f7855-42f6-433c-9467-bc518ad7f7f3",
   "metadata": {
    "tags": []
   },
   "outputs": [
    {
     "name": "stdout",
     "output_type": "stream",
     "text": [
      "{'n': 0, 'a': 0, 'b': 0, 'u': 0, 'c': 0, 'o': 0, 'd': 0, 's': 0, 'r': 0}\n"
     ]
    }
   ],
   "source": [
    "def frequenciaLetras(nome):\n",
    "    d = {}\n",
    "    a = 0\n",
    "    for item in nome:\n",
    "        for item2 in nome:\n",
    "            if item not in d.keys() and item == item2:\n",
    "                a += 1\n",
    "            d[item] = a\n",
    "        a = 0\n",
    "    return d\n",
    "\n",
    "print(frequenciaLetras('nabucodonosor'))\n",
    "    "
   ]
  },
  {
   "cell_type": "code",
   "execution_count": 6,
   "id": "be7c548f-5995-4e54-a24d-6d0a0bbaef68",
   "metadata": {
    "tags": []
   },
   "outputs": [
    {
     "name": "stdout",
     "output_type": "stream",
     "text": [
      "13\n"
     ]
    }
   ],
   "source": [
    "def qtdPalavras(arquivo):\n",
    "    qtd = 0\n",
    "    lista = []\n",
    "    for linhas in arquivo:\n",
    "        lista.append(linhas.split(' '))\n",
    "    for i in range(len(lista)):\n",
    "        qtd += len(lista[i])        \n",
    "    return qtd\n",
    "\n",
    "with open('arquivo.txt', 'r') as arquivo1:\n",
    "    qtdPalavras = qtdPalavras(arquivo1)\n",
    "    \n",
    "print(qtdPalavras)\n"
   ]
  },
  {
   "cell_type": "code",
   "execution_count": null,
   "id": "bdcb7a6e-e5ed-448b-b1b4-2fa07477872b",
   "metadata": {},
   "outputs": [],
   "source": []
  }
 ],
 "metadata": {
  "kernelspec": {
   "display_name": "Python 3 (ipykernel)",
   "language": "python",
   "name": "python3"
  },
  "language_info": {
   "codemirror_mode": {
    "name": "ipython",
    "version": 3
   },
   "file_extension": ".py",
   "mimetype": "text/x-python",
   "name": "python",
   "nbconvert_exporter": "python",
   "pygments_lexer": "ipython3",
   "version": "3.11.1"
  }
 },
 "nbformat": 4,
 "nbformat_minor": 5
}
