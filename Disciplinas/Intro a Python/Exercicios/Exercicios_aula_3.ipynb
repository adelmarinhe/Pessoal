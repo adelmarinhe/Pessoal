{
 "cells": [
  {
   "cell_type": "markdown",
   "id": "c6810e1f-613c-4275-a298-01aa941152ff",
   "metadata": {},
   "source": [
    "QUESTAO 1"
   ]
  },
  {
   "cell_type": "code",
   "execution_count": null,
   "id": "7ff40df2-a8f0-4cc2-b89b-407b12dde80e",
   "metadata": {},
   "outputs": [],
   "source": [
    "dic = {}\n",
    "cod = 1\n",
    "\n",
    "while cod != 0:\n",
    "    cod = int(input(\"digite o codigo do curso\"))\n",
    "    nome = str(input(\"digite o nome do curso\"))\n",
    "    cen = int(input(\"digite o centro do curso\"))\n",
    "    "
   ]
  },
  {
   "cell_type": "markdown",
   "id": "d3ac70b2-363d-4385-8909-871e96091956",
   "metadata": {},
   "source": [
    "QUESTAO 2"
   ]
  },
  {
   "cell_type": "code",
   "execution_count": 1,
   "id": "b255c534-f373-4ea8-ad30-ad7a77138228",
   "metadata": {
    "tags": []
   },
   "outputs": [
    {
     "name": "stdin",
     "output_type": "stream",
     "text": [
      "digite o codigo 0\n",
      "digite o nome adel\n",
      "digite o salario 192.34\n",
      "digite o codigo 1\n",
      "digite o nome felipe\n",
      "digite o salario 1234.1\n",
      "digite o codigo 2\n",
      "digite o nome jesus\n",
      "digite o salario 10000.23\n",
      "digite o codigo -1\n",
      "digite o limite de salario -123\n"
     ]
    },
    {
     "name": "stdout",
     "output_type": "stream",
     "text": [
      "ERRO. Redigite o salário:\n"
     ]
    },
    {
     "name": "stdin",
     "output_type": "stream",
     "text": [
      "digite o limite de salario 560.90\n"
     ]
    },
    {
     "name": "stdout",
     "output_type": "stream",
     "text": [
      "os dados da pessoa sao 0 adel 192.34\n"
     ]
    }
   ],
   "source": [
    "dic = {}\n",
    "info = ()\n",
    "\n",
    "cod = int(input(\"digite o codigo\"))\n",
    "\n",
    "while cod >= 0:\n",
    "    nome = str(input(\"digite o nome\"))\n",
    "    sal = float(input(\"digite o salario\"))\n",
    "    dic[cod] = (nome,sal)\n",
    "    cod = int(input(\"digite o codigo\"))\n",
    "\n",
    "salMax = float(input(\"digite o limite de salario\"))\n",
    "\n",
    "if salMax < 0:\n",
    "    print(\"ERRO. Redigite o salário:\")\n",
    "    salMax = float(input(\"digite o limite de salario\"))\n",
    "\n",
    "for cod in dic:\n",
    "    if dic[cod][1] <= salMax:\n",
    "        print(\"os dados da pessoa sao\", cod, dic[cod][0], dic[cod][1])"
   ]
  },
  {
   "cell_type": "markdown",
   "id": "f118e82d-f4c2-4aa5-92d0-72a11f1014c4",
   "metadata": {},
   "source": [
    "QUESTAO 3"
   ]
  },
  {
   "cell_type": "code",
   "execution_count": 7,
   "id": "bc1608e6-fd04-461d-b05c-099e53dc37cf",
   "metadata": {
    "tags": []
   },
   "outputs": [
    {
     "name": "stdin",
     "output_type": "stream",
     "text": [
      "digite o cpf (11 digitos) 07707369475\n",
      "digite o nome adel\n",
      "digite a idade 25\n",
      "digite o cpf (11 digitos) -1\n",
      "digite o numero de intervalos 2\n",
      "digite o min do intervalo 0\n",
      "digite o max do intervalo 20\n",
      "digite o min do intervalo 21\n",
      "digite o max do intervalo 30\n",
      "digite o min do intervalo 31\n",
      "digite o max do intervalo 40\n"
     ]
    },
    {
     "name": "stdout",
     "output_type": "stream",
     "text": [
      "o numero de alunos no intervalo de 0 a 20 é 0\n",
      "os dados da pessoa sao 0 7707369475 adel 25\n",
      "o numero de alunos no intervalo de 21 a 30 é 1\n",
      "o numero de alunos no intervalo de 31 a 40 é 0\n"
     ]
    }
   ],
   "source": [
    "dic = {}\n",
    "info = ()\n",
    "idades = []\n",
    "interv = {}\n",
    "i = 0\n",
    "cod = 0\n",
    "numero = 0\n",
    "\n",
    "cpf = int(input(\"digite o cpf (11 digitos)\"))\n",
    "\n",
    "while cpf >= 0:\n",
    "    nome = str(input(\"digite o nome\"))\n",
    "    idade = int(input(\"digite a idade\"))\n",
    "    dic[cod] = (cpf, nome, idade)\n",
    "    cpf = int(input(\"digite o cpf (11 digitos)\"))\n",
    "    \n",
    "N = int(input(\"digite o numero de intervalos\"))\n",
    "\n",
    "while N > 0:\n",
    "    intMin = int(input(\"digite o min do intervalo\"))\n",
    "    intMax = int(input(\"digite o max do intervalo\"))\n",
    "    interv[i] = (intMin, intMax)\n",
    "    i = i + 1\n",
    "    N = N - 1\n",
    "    \n",
    "for i in range(len(interv)):\n",
    "    for cod in dic:\n",
    "        if dic[cod][2] > interv[i][0] and dic[cod][2] < interv[i][1]:\n",
    "            print(\"os dados da pessoa sao\", cod, dic[cod][0], dic[cod][1], dic[cod][2])\n",
    "            numero = numero + 1\n",
    "    print(\"o numero de alunos no intervalo de\", interv[i][0], \"a\", interv[i][1], \"é\", numero)\n",
    "    numero = 0"
   ]
  },
  {
   "cell_type": "code",
   "execution_count": null,
   "id": "3fb52de5-9c20-4138-bce3-c364ea854895",
   "metadata": {},
   "outputs": [],
   "source": []
  }
 ],
 "metadata": {
  "kernelspec": {
   "display_name": "Python 3 (ipykernel)",
   "language": "python",
   "name": "python3"
  },
  "language_info": {
   "codemirror_mode": {
    "name": "ipython",
    "version": 3
   },
   "file_extension": ".py",
   "mimetype": "text/x-python",
   "name": "python",
   "nbconvert_exporter": "python",
   "pygments_lexer": "ipython3",
   "version": "3.11.1"
  }
 },
 "nbformat": 4,
 "nbformat_minor": 5
}
