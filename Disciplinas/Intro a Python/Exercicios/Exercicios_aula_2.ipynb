{
 "cells": [
  {
   "cell_type": "markdown",
   "id": "cb6ea2fe-8d6d-4fa4-8082-c9bbbbdc0f90",
   "metadata": {},
   "source": [
    "QUESTAO 1"
   ]
  },
  {
   "cell_type": "code",
   "execution_count": 4,
   "id": "dae47ec3-8589-436a-b5bd-858bc6442087",
   "metadata": {
    "tags": []
   },
   "outputs": [
    {
     "name": "stdin",
     "output_type": "stream",
     "text": [
      "digite seu nome: adel\n"
     ]
    },
    {
     "name": "stdout",
     "output_type": "stream",
     "text": [
      "a\n",
      "d\n",
      "e\n",
      "l\n"
     ]
    }
   ],
   "source": [
    "nome = input(\"digite seu nome:\")\n",
    "\n",
    "for i in range(len(nome)):\n",
    "    print(nome[i])"
   ]
  },
  {
   "cell_type": "code",
   "execution_count": null,
   "id": "182bc391-4341-4a8b-89e4-f5c8321a2392",
   "metadata": {
    "tags": []
   },
   "outputs": [],
   "source": []
  },
  {
   "cell_type": "code",
   "execution_count": null,
   "id": "69b3563c-1625-4048-a94c-b178c83d2296",
   "metadata": {},
   "outputs": [],
   "source": [
    "nome = input(\"digite seu nome:\")\n",
    "\n",
    "for i in range(len(nome)):\n",
    "    print(nome[i])"
   ]
  },
  {
   "cell_type": "markdown",
   "id": "3909f96f-5218-4885-89de-d93e26cb289d",
   "metadata": {},
   "source": [
    "QUESTAO 3"
   ]
  },
  {
   "cell_type": "code",
   "execution_count": 6,
   "id": "2f63a26f-d389-4410-9cdd-b5687b1470d6",
   "metadata": {
    "tags": []
   },
   "outputs": [
    {
     "name": "stdin",
     "output_type": "stream",
     "text": [
      "palavra1: adel\n",
      "palavra2: larissa\n"
     ]
    },
    {
     "name": "stdout",
     "output_type": "stream",
     "text": [
      "o numero de vezes que uma letra de p1 aparece em p2 é 2\n"
     ]
    }
   ],
   "source": [
    "p1 = input(\"palavra1:\")\n",
    "p2 = input(\"palavra2:\")\n",
    "\n",
    "cont = 0\n",
    "\n",
    "for i in range(len(p1)):\n",
    "        if p1[i] in p2:\n",
    "            cont = cont + 1\n",
    "            \n",
    "print('o numero de vezes que uma letra de p1 aparece em p2 é', cont)"
   ]
  },
  {
   "cell_type": "markdown",
   "id": "8deaa7b0-8eca-4c3a-8a4b-5d3880a86c12",
   "metadata": {},
   "source": [
    "QUESTAO 4"
   ]
  },
  {
   "cell_type": "code",
   "execution_count": 22,
   "id": "5a7cc09a-5699-40fc-b95e-91e48ea1d357",
   "metadata": {
    "tags": []
   },
   "outputs": [
    {
     "ename": "KeyboardInterrupt",
     "evalue": "Interrupted by user",
     "output_type": "error",
     "traceback": [
      "\u001b[1;31m---------------------------------------------------------------------------\u001b[0m",
      "\u001b[1;31mKeyboardInterrupt\u001b[0m                         Traceback (most recent call last)",
      "Cell \u001b[1;32mIn[22], line 1\u001b[0m\n\u001b[1;32m----> 1\u001b[0m nome \u001b[38;5;241m=\u001b[39m \u001b[38;5;28;43minput\u001b[39;49m\u001b[43m(\u001b[49m\u001b[38;5;124;43m\"\u001b[39;49m\u001b[38;5;124;43mdigite seu nome:\u001b[39;49m\u001b[38;5;124;43m\"\u001b[39;49m\u001b[43m)\u001b[49m\n\u001b[0;32m      3\u001b[0m nm \u001b[38;5;241m=\u001b[39m \u001b[38;5;124m'\u001b[39m\u001b[38;5;124m'\u001b[39m\n\u001b[0;32m      4\u001b[0m N \u001b[38;5;241m=\u001b[39m []\n",
      "File \u001b[1;32m~\\AppData\\Local\\Programs\\Python\\Python311\\Lib\\site-packages\\ipykernel\\kernelbase.py:1182\u001b[0m, in \u001b[0;36mKernel.raw_input\u001b[1;34m(self, prompt)\u001b[0m\n\u001b[0;32m   1180\u001b[0m     msg \u001b[38;5;241m=\u001b[39m \u001b[38;5;124m\"\u001b[39m\u001b[38;5;124mraw_input was called, but this frontend does not support input requests.\u001b[39m\u001b[38;5;124m\"\u001b[39m\n\u001b[0;32m   1181\u001b[0m     \u001b[38;5;28;01mraise\u001b[39;00m StdinNotImplementedError(msg)\n\u001b[1;32m-> 1182\u001b[0m \u001b[38;5;28;01mreturn\u001b[39;00m \u001b[38;5;28;43mself\u001b[39;49m\u001b[38;5;241;43m.\u001b[39;49m\u001b[43m_input_request\u001b[49m\u001b[43m(\u001b[49m\n\u001b[0;32m   1183\u001b[0m \u001b[43m    \u001b[49m\u001b[38;5;28;43mstr\u001b[39;49m\u001b[43m(\u001b[49m\u001b[43mprompt\u001b[49m\u001b[43m)\u001b[49m\u001b[43m,\u001b[49m\n\u001b[0;32m   1184\u001b[0m \u001b[43m    \u001b[49m\u001b[38;5;28;43mself\u001b[39;49m\u001b[38;5;241;43m.\u001b[39;49m\u001b[43m_parent_ident\u001b[49m\u001b[43m[\u001b[49m\u001b[38;5;124;43m\"\u001b[39;49m\u001b[38;5;124;43mshell\u001b[39;49m\u001b[38;5;124;43m\"\u001b[39;49m\u001b[43m]\u001b[49m\u001b[43m,\u001b[49m\n\u001b[0;32m   1185\u001b[0m \u001b[43m    \u001b[49m\u001b[38;5;28;43mself\u001b[39;49m\u001b[38;5;241;43m.\u001b[39;49m\u001b[43mget_parent\u001b[49m\u001b[43m(\u001b[49m\u001b[38;5;124;43m\"\u001b[39;49m\u001b[38;5;124;43mshell\u001b[39;49m\u001b[38;5;124;43m\"\u001b[39;49m\u001b[43m)\u001b[49m\u001b[43m,\u001b[49m\n\u001b[0;32m   1186\u001b[0m \u001b[43m    \u001b[49m\u001b[43mpassword\u001b[49m\u001b[38;5;241;43m=\u001b[39;49m\u001b[38;5;28;43;01mFalse\u001b[39;49;00m\u001b[43m,\u001b[49m\n\u001b[0;32m   1187\u001b[0m \u001b[43m\u001b[49m\u001b[43m)\u001b[49m\n",
      "File \u001b[1;32m~\\AppData\\Local\\Programs\\Python\\Python311\\Lib\\site-packages\\ipykernel\\kernelbase.py:1225\u001b[0m, in \u001b[0;36mKernel._input_request\u001b[1;34m(self, prompt, ident, parent, password)\u001b[0m\n\u001b[0;32m   1222\u001b[0m \u001b[38;5;28;01mexcept\u001b[39;00m \u001b[38;5;167;01mKeyboardInterrupt\u001b[39;00m:\n\u001b[0;32m   1223\u001b[0m     \u001b[38;5;66;03m# re-raise KeyboardInterrupt, to truncate traceback\u001b[39;00m\n\u001b[0;32m   1224\u001b[0m     msg \u001b[38;5;241m=\u001b[39m \u001b[38;5;124m\"\u001b[39m\u001b[38;5;124mInterrupted by user\u001b[39m\u001b[38;5;124m\"\u001b[39m\n\u001b[1;32m-> 1225\u001b[0m     \u001b[38;5;28;01mraise\u001b[39;00m \u001b[38;5;167;01mKeyboardInterrupt\u001b[39;00m(msg) \u001b[38;5;28;01mfrom\u001b[39;00m \u001b[38;5;28mNone\u001b[39m\n\u001b[0;32m   1226\u001b[0m \u001b[38;5;28;01mexcept\u001b[39;00m \u001b[38;5;167;01mException\u001b[39;00m:\n\u001b[0;32m   1227\u001b[0m     \u001b[38;5;28mself\u001b[39m\u001b[38;5;241m.\u001b[39mlog\u001b[38;5;241m.\u001b[39mwarning(\u001b[38;5;124m\"\u001b[39m\u001b[38;5;124mInvalid Message:\u001b[39m\u001b[38;5;124m\"\u001b[39m, exc_info\u001b[38;5;241m=\u001b[39m\u001b[38;5;28;01mTrue\u001b[39;00m)\n",
      "\u001b[1;31mKeyboardInterrupt\u001b[0m: Interrupted by user"
     ]
    }
   ],
   "source": [
    "nome = input(\"digite seu nome:\")\n",
    "\n",
    "nm = ''\n",
    "N = []\n",
    "\n",
    "for i in range (len(nome)):\n",
    "    nm = nm + nome[i]\n",
    "    if nome[i] == ' ':\n",
    "        N.append(nm)\n",
    "        nm = ''\n",
    "\n",
    "for i in range(len(N)):\n",
    "    if N[i] == 0 or N[i] == len(N):\n",
    "        print(upper(N[i]))\n",
    "    else:\n",
    "        print(N[i])"
   ]
  },
  {
   "cell_type": "markdown",
   "id": "11768fad-fa2b-4863-ad98-d60b5c0c0d70",
   "metadata": {
    "tags": []
   },
   "source": [
    "QUESTAO 5"
   ]
  },
  {
   "cell_type": "code",
   "execution_count": 25,
   "id": "9e951f7e-270e-4dd6-a2c2-6250639f257b",
   "metadata": {},
   "outputs": [
    {
     "name": "stdin",
     "output_type": "stream",
     "text": [
      "digite numero: 2\n",
      "digite numero: 3\n",
      "digite numero: 4\n",
      "digite numero: 3\n",
      "digite numero: 4\n"
     ]
    },
    {
     "name": "stdout",
     "output_type": "stream",
     "text": [
      "[3, 3]\n",
      "[4, 4]\n",
      "[7, 7]\n"
     ]
    }
   ],
   "source": [
    "N = int(input('digite numero:'))\n",
    "\n",
    "v1 = []\n",
    "v2 = []\n",
    "v3 = []\n",
    "\n",
    "for i in range(N):\n",
    "    n1 = int(input('digite numero:'))\n",
    "    n2 = int(input('digite numero:'))\n",
    "    v1.append(n1)\n",
    "    v2.append(n2)\n",
    "    v3.append(n1+n2)\n",
    "\n",
    "print(v1)\n",
    "print(v2)\n",
    "print(v3)"
   ]
  },
  {
   "cell_type": "markdown",
   "id": "3677c7e6-a835-42eb-96b9-afed8345f7f3",
   "metadata": {},
   "source": [
    "QUESTAO 6"
   ]
  },
  {
   "cell_type": "code",
   "execution_count": 28,
   "id": "ee1c980c-f0d5-4ce9-9868-63664cdc4000",
   "metadata": {
    "tags": []
   },
   "outputs": [
    {
     "name": "stdin",
     "output_type": "stream",
     "text": [
      "digite numero: 2\n",
      "digite numero par: 5\n",
      "digite numero par: 4\n",
      "digite numero impar: 7\n",
      "digite numero impar: 6\n"
     ]
    },
    {
     "name": "stdout",
     "output_type": "stream",
     "text": [
      "[5, 4]\n",
      "[7, 6]\n",
      "[12, 10]\n"
     ]
    }
   ],
   "source": [
    "N = int(input('digite numero:'))\n",
    "\n",
    "v1 = []\n",
    "v2 = []\n",
    "v3 = []\n",
    "\n",
    "for i in range(N):\n",
    "    n1 = int(input('digite numero par:'))\n",
    "    v1.append(n1)\n",
    "\n",
    "for i in range(N):\n",
    "    n2 = int(input('digite numero impar:'))\n",
    "    v2.append(n2)\n",
    "    \n",
    "for i in range(N):\n",
    "    n3 = v1[i] + v2[i]\n",
    "    v3.append(n3)\n",
    "\n",
    "print(v1)\n",
    "print(v2)\n",
    "print(v3)"
   ]
  },
  {
   "cell_type": "markdown",
   "id": "3305c6ca-62bb-45c0-ba00-33e60f7a7825",
   "metadata": {},
   "source": [
    "QUESTAO 7"
   ]
  },
  {
   "cell_type": "markdown",
   "id": "861033fa-70a3-4c42-b3c0-818b7f72790d",
   "metadata": {},
   "source": [
    "\n",
    "QUESTAO 8 e 9"
   ]
  },
  {
   "cell_type": "code",
   "execution_count": 5,
   "id": "26703efd-7d11-440a-8f55-dd114bb64e06",
   "metadata": {
    "tags": []
   },
   "outputs": [
    {
     "name": "stdin",
     "output_type": "stream",
     "text": [
      "digite o numero da sequencia: 1902\n"
     ]
    },
    {
     "name": "stdout",
     "output_type": "stream",
     "text": [
      "o programa nao sera executado\n"
     ]
    }
   ],
   "source": [
    "N = int(input('digite o numero da sequencia:'))\n",
    "\n",
    "if N > 1000:\n",
    "    print(\"o programa nao sera executado\")\n",
    "else:\n",
    "    numeros = []\n",
    "    numeros2 = []\n",
    "\n",
    "    a = int(input('digite numero:'))\n",
    "    while a >= 0:\n",
    "        numeros.append(a)\n",
    "        a = int(input('digite numero:'))\n",
    "\n",
    "    for i in numeros:\n",
    "        if i >= 10 and i <= 99:\n",
    "            n1 = (i%10)*10\n",
    "            n2 = (i - i%10)/10\n",
    "            numeros2.append(int(n1+n2))\n",
    "\n",
    "    print(numeros2)"
   ]
  },
  {
   "cell_type": "code",
   "execution_count": null,
   "id": "f248cc79-7680-4401-87de-6d5becc5a594",
   "metadata": {},
   "outputs": [],
   "source": []
  }
 ],
 "metadata": {
  "kernelspec": {
   "display_name": "Python 3 (ipykernel)",
   "language": "python",
   "name": "python3"
  },
  "language_info": {
   "codemirror_mode": {
    "name": "ipython",
    "version": 3
   },
   "file_extension": ".py",
   "mimetype": "text/x-python",
   "name": "python",
   "nbconvert_exporter": "python",
   "pygments_lexer": "ipython3",
   "version": "3.11.1"
  }
 },
 "nbformat": 4,
 "nbformat_minor": 5
}
