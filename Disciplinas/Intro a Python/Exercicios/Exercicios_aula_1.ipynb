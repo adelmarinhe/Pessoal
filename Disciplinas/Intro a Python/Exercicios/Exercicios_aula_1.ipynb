{
 "cells": [
  {
   "cell_type": "markdown",
   "id": "d882b5d1-ae72-4682-b0cf-5103d1306d96",
   "metadata": {},
   "source": [
    "QUESTAO 1"
   ]
  },
  {
   "cell_type": "code",
   "execution_count": 2,
   "id": "715770e0-c3b3-4c0c-82ac-4fce805234ff",
   "metadata": {
    "tags": []
   },
   "outputs": [
    {
     "name": "stdin",
     "output_type": "stream",
     "text": [
      " 3.5\n",
      " 1.2\n",
      " 0.9\n"
     ]
    },
    {
     "name": "stdout",
     "output_type": "stream",
     "text": [
      "os numeros são 3.5 1.2 0.9 e a media e 1.866666666666667\n"
     ]
    }
   ],
   "source": [
    "a = float(input())\n",
    "b = float(input())\n",
    "c = float(input())\n",
    "\n",
    "media = (a+b+c)/3\n",
    "\n",
    "print('os numeros são', a, b, c, 'e a media e', media)"
   ]
  },
  {
   "cell_type": "markdown",
   "id": "aee172f7-6f88-4317-b413-755decd91679",
   "metadata": {
    "tags": []
   },
   "source": [
    "QUESTAO 2"
   ]
  },
  {
   "cell_type": "code",
   "execution_count": 6,
   "id": "26f93be5-2c02-4dcb-ad08-a88068ab32ef",
   "metadata": {
    "tags": []
   },
   "outputs": [
    {
     "name": "stdin",
     "output_type": "stream",
     "text": [
      " 3\n",
      " 9\n"
     ]
    },
    {
     "name": "stdout",
     "output_type": "stream",
     "text": [
      "3.0\n"
     ]
    }
   ],
   "source": [
    "d = float(input())\n",
    "e = float(input())\n",
    "if e>d:\n",
    "    f=e%d\n",
    "else:\n",
    "    f=d%e\n",
    "\n",
    "if f == 0:\n",
    "    print(d)\n",
    "else:\n",
    "    print(pow(f,2))"
   ]
  },
  {
   "cell_type": "markdown",
   "id": "b747da38-80a3-49e0-a408-e739cb50b75a",
   "metadata": {},
   "source": [
    "QUESTAO 3"
   ]
  },
  {
   "cell_type": "code",
   "execution_count": 9,
   "id": "5a3bce52-5b6c-4b53-9b06-a2309481266a",
   "metadata": {
    "tags": []
   },
   "outputs": [
    {
     "name": "stdin",
     "output_type": "stream",
     "text": [
      " 90\n",
      " 34\n",
      " 67\n"
     ]
    },
    {
     "name": "stdout",
     "output_type": "stream",
     "text": [
      "34.0\n"
     ]
    }
   ],
   "source": [
    "g = float(input())\n",
    "h = float(input())\n",
    "j = float(input())\n",
    "\n",
    "numeros = [g,h,j]\n",
    "\n",
    "print(min(numeros))"
   ]
  },
  {
   "cell_type": "markdown",
   "id": "dac15ff5-6374-4f2d-89c4-7aba3d0a08f1",
   "metadata": {},
   "source": [
    "QUESTAO 4"
   ]
  },
  {
   "cell_type": "code",
   "execution_count": 10,
   "id": "7c77d280-ee8c-4644-96f2-481c1ffb5bf2",
   "metadata": {
    "tags": []
   },
   "outputs": [
    {
     "name": "stdout",
     "output_type": "stream",
     "text": [
      "1950\n"
     ]
    }
   ],
   "source": [
    "soma = 0\n",
    "i = 50\n",
    "while i<=100:\n",
    "    soma = soma + i\n",
    "    i = i+2\n",
    "    \n",
    "print(soma)\n",
    "    "
   ]
  },
  {
   "cell_type": "markdown",
   "id": "e00ecb4e-66b7-43a8-bfbc-67abef1ae5d8",
   "metadata": {},
   "source": [
    "QUESTAO 5"
   ]
  },
  {
   "cell_type": "code",
   "execution_count": 18,
   "id": "5974178c-53a4-4648-b3ee-081897406fd9",
   "metadata": {
    "tags": []
   },
   "outputs": [
    {
     "name": "stdin",
     "output_type": "stream",
     "text": [
      " 4\n"
     ]
    },
    {
     "name": "stdout",
     "output_type": "stream",
     "text": [
      "24\n"
     ]
    }
   ],
   "source": [
    "fatorial = 1\n",
    "i = int(input())\n",
    "while i>=1:\n",
    "    fatorial = fatorial*i\n",
    "    i=i-1\n",
    "    \n",
    "print(fatorial)"
   ]
  },
  {
   "cell_type": "markdown",
   "id": "3acc8c67-717b-4d7b-b590-9e2296c92a59",
   "metadata": {},
   "source": [
    "QUESTAO 6"
   ]
  },
  {
   "cell_type": "markdown",
   "id": "f71d98b6-fd8b-45eb-9602-70e3d335745c",
   "metadata": {},
   "source": [
    "a)"
   ]
  },
  {
   "cell_type": "code",
   "execution_count": 19,
   "id": "bfe886e1-4609-45c5-b499-3fdee5445765",
   "metadata": {
    "tags": []
   },
   "outputs": [
    {
     "name": "stdin",
     "output_type": "stream",
     "text": [
      " 60\n"
     ]
    },
    {
     "name": "stdout",
     "output_type": "stream",
     "text": [
      "65.67987041295174\n"
     ]
    }
   ],
   "source": [
    "soma = 1 \n",
    "n = int(input())\n",
    "for i in range(n):\n",
    "    soma = soma + (i+2)/(i+1)\n",
    "    \n",
    "print(soma)"
   ]
  },
  {
   "cell_type": "markdown",
   "id": "d05e95b8-72ee-40f0-9043-a70b79a24b61",
   "metadata": {},
   "source": [
    "b)"
   ]
  },
  {
   "cell_type": "code",
   "execution_count": 22,
   "id": "7d547201-3099-4b68-8e0f-8abdaf63cfda",
   "metadata": {
    "tags": []
   },
   "outputs": [
    {
     "name": "stdin",
     "output_type": "stream",
     "text": [
      " 4\n"
     ]
    },
    {
     "name": "stdout",
     "output_type": "stream",
     "text": [
      "-0.011841336534613847\n"
     ]
    }
   ],
   "source": [
    "soma = 0 \n",
    "n = int(input())\n",
    "for i in range(n):\n",
    "    if i%2==0:\n",
    "        f=5/(500-(i-1)*10)\n",
    "        soma = soma - f\n",
    "    else:\n",
    "        f=2/(500-(i-1)*10)\n",
    "        soma = soma + f\n",
    "        \n",
    "print(soma)"
   ]
  },
  {
   "cell_type": "markdown",
   "id": "f902c46a-b58d-4fc8-ab5a-da9f5e4ef0f6",
   "metadata": {},
   "source": [
    "c)"
   ]
  },
  {
   "cell_type": "code",
   "execution_count": 2,
   "id": "18328dae-2eb5-4146-b44e-111343f07444",
   "metadata": {
    "tags": []
   },
   "outputs": [
    {
     "name": "stdin",
     "output_type": "stream",
     "text": [
      " 8\n"
     ]
    },
    {
     "name": "stdout",
     "output_type": "stream",
     "text": [
      "20909.22857142857\n"
     ]
    }
   ],
   "source": [
    "soma = 0 \n",
    "n = int(input())\n",
    "for i in range(n):\n",
    "    f = 37*(i-1)*38*(i-1)/(i+1)\n",
    "    soma = soma + f\n",
    "    \n",
    "print(soma)"
   ]
  },
  {
   "cell_type": "markdown",
   "id": "a0476c5d-30f9-4dff-8379-eda7b1925efe",
   "metadata": {},
   "source": [
    "QUESTAO 7"
   ]
  },
  {
   "cell_type": "code",
   "execution_count": 8,
   "id": "02dce134-29f2-4595-9409-3aed7b4dd40c",
   "metadata": {
    "tags": []
   },
   "outputs": [
    {
     "name": "stdin",
     "output_type": "stream",
     "text": [
      " 2\n",
      " 9\n"
     ]
    },
    {
     "name": "stdout",
     "output_type": "stream",
     "text": [
      "24\n"
     ]
    }
   ],
   "source": [
    "num1 = int(input())\n",
    "num2 = int(input())\n",
    "soma = 0\n",
    "i=num1\n",
    "while i<=num2:\n",
    "    if i%2==1:\n",
    "        soma = soma + i\n",
    "    i = i +1\n",
    "        \n",
    "print(soma)"
   ]
  },
  {
   "cell_type": "markdown",
   "id": "f46a6730-1b4c-4400-8448-fa743150def4",
   "metadata": {},
   "source": [
    "QUESTAO 8"
   ]
  },
  {
   "cell_type": "code",
   "execution_count": 10,
   "id": "0e64066f-5e92-44aa-8adc-c032defd8e5c",
   "metadata": {
    "tags": []
   },
   "outputs": [
    {
     "name": "stdin",
     "output_type": "stream",
     "text": [
      "Temperatura 1: 30\n",
      "Temperatura 2: 90\n"
     ]
    },
    {
     "name": "stdout",
     "output_type": "stream",
     "text": [
      "[30, 31, 32, 33, 34, 35, 36, 37, 38, 39, 40, 41, 42, 43, 44, 45, 46, 47, 48, 49, 50, 51, 52, 53, 54, 55, 56, 57, 58, 59, 60, 61, 62, 63, 64, 65, 66, 67, 68, 69, 70, 71, 72, 73, 74, 75, 76, 77, 78, 79, 80, 81, 82, 83, 84, 85, 86, 87, 88, 89]\n",
      "[-1.1111111111111112, -0.5555555555555556, 0.0, 0.5555555555555556, 1.1111111111111112, 1.6666666666666667, 2.2222222222222223, 2.7777777777777777, 3.3333333333333335, 3.888888888888889, 4.444444444444445, 5.0, 5.555555555555555, 6.111111111111111, 6.666666666666667, 7.222222222222222, 7.777777777777778, 8.333333333333334, 8.88888888888889, 9.444444444444445, 10.0, 10.555555555555555, 11.11111111111111, 11.666666666666666, 12.222222222222221, 12.777777777777779, 13.333333333333334, 13.88888888888889, 14.444444444444445, 15.0, 15.555555555555555, 16.11111111111111, 16.666666666666668, 17.22222222222222, 17.77777777777778, 18.333333333333332, 18.88888888888889, 19.444444444444443, 20.0, 20.555555555555557, 21.11111111111111, 21.666666666666668, 22.22222222222222, 22.77777777777778, 23.333333333333332, 23.88888888888889, 24.444444444444443, 25.0, 25.555555555555557, 26.11111111111111, 26.666666666666668, 27.22222222222222, 27.77777777777778, 28.333333333333332, 28.88888888888889, 29.444444444444443, 30.0, 30.555555555555557, 31.11111111111111, 31.666666666666668]\n"
     ]
    }
   ],
   "source": [
    "num1 = int(input('Temperatura 1:'))\n",
    "num2 = int(input('Temperatura 2:'))\n",
    "\n",
    "celsius = []\n",
    "fahrenheit = []\n",
    "                 \n",
    "for F in range(num1, num2):\n",
    "    C = (F-32)*5/9\n",
    "    fahrenheit.append(F)\n",
    "    celsius.append(C)\n",
    "\n",
    "\n",
    "print(fahrenheit)\n",
    "print(celsius)\n",
    "    "
   ]
  },
  {
   "cell_type": "markdown",
   "id": "6ec792ed-bd9b-4ada-b90b-f1b2d7452cc9",
   "metadata": {},
   "source": [
    "QUESTAO 9"
   ]
  },
  {
   "cell_type": "code",
   "execution_count": 15,
   "id": "37f351ec-bd57-4eee-86ef-002f9185fa6f",
   "metadata": {
    "tags": []
   },
   "outputs": [
    {
     "name": "stdin",
     "output_type": "stream",
     "text": [
      "numero de termos da sequencia 50\n",
      "valor que se quer conhecer 33\n"
     ]
    },
    {
     "name": "stdout",
     "output_type": "stream",
     "text": [
      "101\n"
     ]
    }
   ],
   "source": [
    "N = int(input('numero de termos da sequencia'))\n",
    "n = int(input('valor que se quer conhecer'))\n",
    "a=-1\n",
    "b=0\n",
    "sequencia = []\n",
    "for i in range(N):\n",
    "    c=a+6*(1+i)\n",
    "    sequencia.append(c)\n",
    "    d=b+6*(1+i)\n",
    "    sequencia.append(d)\n",
    "\n",
    "print(sequencia[n-1])"
   ]
  },
  {
   "cell_type": "markdown",
   "id": "80163cbe-e5bb-4782-a95b-bbf9c7f992e6",
   "metadata": {},
   "source": [
    "QUESTAO 10"
   ]
  },
  {
   "cell_type": "code",
   "execution_count": 1,
   "id": "79fe1428-af83-4d47-a25f-4ad0a919b557",
   "metadata": {},
   "outputs": [
    {
     "name": "stdin",
     "output_type": "stream",
     "text": [
      "numero de termos 1\n",
      "digite um numero de 0 a 4000: 456\n"
     ]
    },
    {
     "name": "stdout",
     "output_type": "stream",
     "text": [
      "[456]\n",
      "['CDLVI']\n"
     ]
    }
   ],
   "source": [
    "N = int(input('numero de termos'))\n",
    "i = 0\n",
    "ano = []\n",
    "ano_romano = []\n",
    "\n",
    "dic = {1:'I', 5:'V', 10:'X', 50:'L', 100:'C', 500:'D', 1000:'M', 4:'IV', 9:'IX', 40:'XL', 90:'XC', 400:'CD', 900:'CM'}\n",
    "\n",
    "for i in range(N):\n",
    "    n = int(input('digite um numero de 0 a 4000:'))\n",
    "    m = int((n - n%1000)/1000)\n",
    "    c = int((n%1000 - n%100)/100)\n",
    "    d = int((n%100 - n%10)/10)\n",
    "    u = n%10\n",
    "    l1 = [m,c,d,u]\n",
    "    ano.append(n)\n",
    "    \n",
    "    milha = m*dic[1000]\n",
    "    if c == 4:\n",
    "        centena = dic[400]\n",
    "    elif c == 5:\n",
    "        centena = dic[500]\n",
    "    elif c >= 5 and c < 9:\n",
    "        centena = dic[500] + (c-5)*dic[100]\n",
    "    elif c == 9:\n",
    "        centena = dic[900]\n",
    "    else:\n",
    "        centena = c*dic[100]\n",
    "    \n",
    "    if d == 4:\n",
    "        dezena = dic[40]\n",
    "    elif d == 5:\n",
    "        dezena = dic[50]\n",
    "    elif d >= 5 and d < 9:\n",
    "        dezena = dic[50] + (d-5)*dic[10]\n",
    "    elif d == 9:\n",
    "        dezena = dic[90]\n",
    "    else:\n",
    "        dezena = c*dic[10]\n",
    "        \n",
    "    if u == 4:\n",
    "        unidade = dic[4]\n",
    "    elif u == 5:\n",
    "        unidade = dic[5]\n",
    "    elif u >= 5 and u < 9:\n",
    "        unidade = dic[5] + (u-5)*dic[1]\n",
    "    elif u == 9:\n",
    "        unidade = dic[9]\n",
    "    else:\n",
    "        unidade = u*dic[1]\n",
    "        \n",
    "    a_r = milha + centena + dezena + unidade\n",
    "    ano_romano.append(a_r)\n",
    "    \n",
    "print(ano)\n",
    "print(ano_romano)\n",
    "\n"
   ]
  },
  {
   "cell_type": "markdown",
   "id": "569d184d-444c-4111-ac0e-5a8eb5a32913",
   "metadata": {
    "tags": []
   },
   "source": [
    "QUESTAO 12"
   ]
  },
  {
   "cell_type": "code",
   "execution_count": 11,
   "id": "2a68f35e-4690-408d-a2f6-88fe6b5cab60",
   "metadata": {
    "tags": []
   },
   "outputs": [
    {
     "name": "stdin",
     "output_type": "stream",
     "text": [
      "digite numero: 3\n",
      "digite numero: 5\n",
      "digite numero: 4\n",
      "digite numero: 1\n",
      "digite numero: 5\n",
      "digite numero: 2\n",
      "digite numero: 6\n",
      "digite numero: 5\n",
      "digite numero: -1\n"
     ]
    },
    {
     "name": "stdout",
     "output_type": "stream",
     "text": [
      "3.875\n"
     ]
    }
   ],
   "source": [
    "numeros = []\n",
    "soma = 0\n",
    "n = 0\n",
    "a = int(input('digite numero:'))\n",
    "while a >= 0:\n",
    "    soma = soma + a\n",
    "    n = n + 1\n",
    "    a = int(input('digite numero:'))\n",
    "\n",
    "media = soma/n\n",
    "\n",
    "print('a media é:', media)"
   ]
  },
  {
   "cell_type": "markdown",
   "id": "e51f78a6-9bb1-4b88-bd83-e893952374df",
   "metadata": {},
   "source": [
    "QUESTAO 13"
   ]
  },
  {
   "cell_type": "code",
   "execution_count": 3,
   "id": "8aac0f13-d6fb-4059-af37-d7b2f981d6cb",
   "metadata": {
    "tags": []
   },
   "outputs": [
    {
     "name": "stdin",
     "output_type": "stream",
     "text": [
      "digite numero: 45\n",
      "digite numero: 2\n"
     ]
    },
    {
     "name": "stdout",
     "output_type": "stream",
     "text": [
      "[1, 3, 5, 9, 15, 45]\n",
      "[1, 2]\n",
      "o MDC é 1\n"
     ]
    }
   ],
   "source": [
    "n1 = int(input('digite numero:'))\n",
    "n2 = int(input('digite numero:'))\n",
    "\n",
    "MDC = []\n",
    "div_n1 = []\n",
    "div_n2 = []\n",
    "\n",
    "for i in range(n1):\n",
    "    if n1%(i+1) == 0:\n",
    "        div_n1.append(i+1)\n",
    "\n",
    "for i in range(n2):\n",
    "    if n2%(i+1) == 0:\n",
    "        div_n2.append(i+1)\n",
    "        \n",
    "for div in div_n1:\n",
    "    for i in range(len(div_n2)):\n",
    "            if div == div_n2[i]:\n",
    "                MDC.append(div)\n",
    "\n",
    "print(div_n1)\n",
    "print(div_n2)\n",
    "\n",
    "print('o MDC é', max(MDC))"
   ]
  },
  {
   "cell_type": "markdown",
   "id": "0f6a2c16-f1bb-4fa2-b3dd-93d002943ae8",
   "metadata": {},
   "source": [
    "QUESTAO 14"
   ]
  },
  {
   "cell_type": "code",
   "execution_count": 4,
   "id": "11d8733d-b2a9-4444-a2d8-f79c95efc4cf",
   "metadata": {
    "tags": []
   },
   "outputs": [
    {
     "name": "stdin",
     "output_type": "stream",
     "text": [
      "digite numero: 45\n",
      "digite numero: 67\n"
     ]
    },
    {
     "name": "stdout",
     "output_type": "stream",
     "text": [
      "[1, 3, 5, 9, 15, 45]\n",
      "[1, 67]\n",
      "o MMC é 1\n"
     ]
    }
   ],
   "source": [
    "n1 = int(input('digite numero:'))\n",
    "n2 = int(input('digite numero:'))\n",
    "\n",
    "MMC = []\n",
    "div_n1 = []\n",
    "div_n2 = []\n",
    "\n",
    "for i in range(n1):\n",
    "    if n1%(i+1) == 0:\n",
    "        div_n1.append(i+1)\n",
    "\n",
    "for i in range(n2):\n",
    "    if n2%(i+1) == 0:\n",
    "        div_n2.append(i+1)\n",
    "        \n",
    "for div in div_n1:\n",
    "    for i in range(len(div_n2)):\n",
    "            if div == div_n2[i]:\n",
    "                MMC.append(div)\n",
    "\n",
    "print(div_n1)\n",
    "print(div_n2)\n",
    "\n",
    "print('o MMC é', min(MMC))"
   ]
  },
  {
   "cell_type": "markdown",
   "id": "4728bc0f-188d-4da9-ad72-2daaec8f4f16",
   "metadata": {},
   "source": [
    "QUESTAO 15"
   ]
  },
  {
   "cell_type": "code",
   "execution_count": 10,
   "id": "3f9d28d8-8afd-4969-8619-678b0f44b10d",
   "metadata": {
    "tags": []
   },
   "outputs": [
    {
     "name": "stdin",
     "output_type": "stream",
     "text": [
      "digite numero: 1\n"
     ]
    },
    {
     "name": "stdout",
     "output_type": "stream",
     "text": [
      "1 é primo\n"
     ]
    }
   ],
   "source": [
    "a = int(input('digite numero:'))\n",
    "n_div = 0\n",
    "\n",
    "for i in range(a):\n",
    "    if a%(i+1) == 0:\n",
    "        n_div = n_div + 1\n",
    "\n",
    "if n_div <= 2:\n",
    "    print(a, 'é primo')\n",
    "else:\n",
    "    print(a, 'não é primo')"
   ]
  },
  {
   "cell_type": "code",
   "execution_count": null,
   "id": "39cca190-d05e-4917-a41b-97aabb17e9bc",
   "metadata": {},
   "outputs": [],
   "source": []
  }
 ],
 "metadata": {
  "kernelspec": {
   "display_name": "Python 3 (ipykernel)",
   "language": "python",
   "name": "python3"
  },
  "language_info": {
   "codemirror_mode": {
    "name": "ipython",
    "version": 3
   },
   "file_extension": ".py",
   "mimetype": "text/x-python",
   "name": "python",
   "nbconvert_exporter": "python",
   "pygments_lexer": "ipython3",
   "version": "3.11.1"
  }
 },
 "nbformat": 4,
 "nbformat_minor": 5
}
