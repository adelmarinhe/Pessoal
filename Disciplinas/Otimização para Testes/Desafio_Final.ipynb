{
  "nbformat": 4,
  "nbformat_minor": 0,
  "metadata": {
    "colab": {
      "provenance": [],
      "collapsed_sections": [
        "9x_SSrWG4dR8",
        "O1W9_NUC6hMP",
        "zU8nuwX372HZ"
      ]
    },
    "kernelspec": {
      "name": "python3",
      "display_name": "Python 3"
    },
    "language_info": {
      "name": "python"
    }
  },
  "cells": [
    {
      "cell_type": "markdown",
      "source": [
        "# Importar as bibliotecas"
      ],
      "metadata": {
        "id": "XSPFneut4QRe"
      }
    },
    {
      "cell_type": "markdown",
      "source": [
        "# Desafio Final\n",
        "## Bruno Teles\n",
        "## José Adeljan"
      ],
      "metadata": {
        "id": "KdK36JwWLehs"
      }
    },
    {
      "cell_type": "code",
      "execution_count": null,
      "metadata": {
        "id": "G6jqbq1pmCBf"
      },
      "outputs": [],
      "source": [
        "from random import random\n",
        "import matplotlib.pyplot as plt\n",
        "import numpy as np"
      ]
    },
    {
      "cell_type": "markdown",
      "source": [
        "# Cadastro dos Casos de Teste"
      ],
      "metadata": {
        "id": "9x_SSrWG4dR8"
      }
    },
    {
      "cell_type": "markdown",
      "source": [
        "Cadastro dos Casos de Teste:\n",
        "\n",
        "\n",
        "*   Nome\n",
        "*   Requisitos Cobertos\n",
        "*   Custo de Execução (R$)\n",
        "\n"
      ],
      "metadata": {
        "id": "tGw4ZgrT4gj3"
      }
    },
    {
      "cell_type": "code",
      "source": [
        "class CasoTeste():\n",
        "    def __init__(self, nome, requisitos, custo):\n",
        "        self.nome = nome\n",
        "        self.requisitos = requisitos\n",
        "        self.custo = custo\n",
        "\n",
        "    def __repr__(self):\n",
        "        return self.__str__()\n",
        "\n",
        "    def __str__(self):\n",
        "        return \"Caso de Teste \" + self.nome"
      ],
      "metadata": {
        "id": "Yg1PM7VRmg3B"
      },
      "execution_count": null,
      "outputs": []
    },
    {
      "cell_type": "markdown",
      "source": [
        "3 listas para armazenas os atributos dos casos de testes cadastrados"
      ],
      "metadata": {
        "id": "pwAdCwW15pXV"
      }
    },
    {
      "cell_type": "code",
      "source": [
        "nomes = [\"A\", \"B\", \"C\", \"D\", \"E\"]\n",
        "requisitos = [2, 5, 4, 6, 1]\n",
        "custos = [1250, 1500, 1600, 1400, 1150]"
      ],
      "metadata": {
        "id": "iXDRLx0A-5p-"
      },
      "execution_count": null,
      "outputs": []
    },
    {
      "cell_type": "code",
      "source": [
        "lista_cts = []\n",
        "\n",
        "for nome, req, custo in zip(nomes, requisitos, custos):\n",
        "    lista_cts.append(CasoTeste(nome, req, custo))"
      ],
      "metadata": {
        "id": "2Y-vDbXb9QVs"
      },
      "execution_count": null,
      "outputs": []
    },
    {
      "cell_type": "markdown",
      "source": [
        "# Classe Indivíduo"
      ],
      "metadata": {
        "id": "O1W9_NUC6hMP"
      }
    },
    {
      "cell_type": "code",
      "source": [
        "class Individuo():\n",
        "    def __init__(self, requisitos, custos, limite_custo, geracao=0):\n",
        "        self.requisitos = requisitos\n",
        "        self.custos = custos\n",
        "        self.limite_custo = limite_custo\n",
        "        self.nota_avaliacao = 0\n",
        "        self.custo_usado = 0\n",
        "        self.geracao = geracao\n",
        "        self.cromossomo = []\n",
        "\n",
        "        for _ in range(len(requisitos)):\n",
        "            if random() < 0.5:\n",
        "                self.cromossomo.append(\"0\")\n",
        "            else:\n",
        "                self.cromossomo.append(\"1\")\n",
        "\n",
        "    def avaliacao(self):\n",
        "        nota = 0\n",
        "        soma_custo = 0\n",
        "        for i in range(len(self.cromossomo)):\n",
        "           if self.cromossomo[i] == '1':\n",
        "               nota += self.requisitos[i]\n",
        "               soma_custo += self.custos[i]\n",
        "        if soma_custo > self.limite_custo:\n",
        "            nota = 1\n",
        "        self.nota_avaliacao = nota\n",
        "        self.custo_usado = soma_custo\n",
        "\n",
        "    def crossover(self, outro_individuo):\n",
        "        corte = round(random() * len(self.cromossomo))\n",
        "\n",
        "        filho1 = outro_individuo.cromossomo[0:corte] + self.cromossomo[corte::]\n",
        "        filho2 = self.cromossomo[0:corte] + outro_individuo.cromossomo[corte::]\n",
        "\n",
        "        filhos = [Individuo(self.requisitos, self.custos, self.limite_custo, self.geracao + 1),\n",
        "                  Individuo(self.requisitos, self.custos, self.limite_custo, self.geracao + 1)]\n",
        "        filhos[0].cromossomo = filho1\n",
        "        filhos[1].cromossomo = filho2\n",
        "        return filhos\n",
        "\n",
        "    def mutacao(self, taxa_mutacao):\n",
        "        for i in range(len(self.cromossomo)):\n",
        "            if random() < taxa_mutacao:\n",
        "                if self.cromossomo[i] == '1':\n",
        "                    self.cromossomo[i] = '0'\n",
        "                else:\n",
        "                    self.cromossomo[i] = '1'\n",
        "        return self"
      ],
      "metadata": {
        "id": "YPj1ckG1mfbY"
      },
      "execution_count": null,
      "outputs": []
    },
    {
      "cell_type": "markdown",
      "source": [
        "# Classe Algoritmo Genético"
      ],
      "metadata": {
        "id": "zU8nuwX372HZ"
      }
    },
    {
      "cell_type": "code",
      "source": [
        "class AlgoritmoGenetico():\n",
        "    def __init__(self, tamanho_populacao):\n",
        "        self.tamanho_populacao = tamanho_populacao\n",
        "        self.populacao = []\n",
        "        self.geracao = 0\n",
        "        self.melhor_solucao = 0\n",
        "        self.lista_solucoes = []\n",
        "\n",
        "    def inicializa_populacao(self, requisitos, custos, limite_custo):\n",
        "        for _ in range(self.tamanho_populacao):\n",
        "            self.populacao.append(Individuo(requisitos, custos, limite_custo))\n",
        "        self.melhor_solucao = self.populacao[0]\n",
        "\n",
        "    def ordena_populacao(self):\n",
        "        self.populacao = sorted(self.populacao,\n",
        "                                key = lambda populacao: populacao.nota_avaliacao,\n",
        "                                reverse = True)\n",
        "\n",
        "    def melhor_individuo(self, individuo):\n",
        "        if individuo.nota_avaliacao > self.melhor_solucao.nota_avaliacao:\n",
        "            self.melhor_solucao = individuo\n",
        "\n",
        "    def soma_avaliacoes(self):\n",
        "        soma = 0\n",
        "        for individuo in self.populacao:\n",
        "           soma += individuo.nota_avaliacao\n",
        "        return soma\n",
        "\n",
        "    def seleciona_pai(self, soma_avaliacao): #Seleção Metodo roleta\n",
        "        pai = -1\n",
        "        valor_sorteado = random() * soma_avaliacao\n",
        "        soma = 0\n",
        "        i = 0\n",
        "        while i < len(self.populacao) and soma < valor_sorteado:\n",
        "            soma += self.populacao[i].nota_avaliacao\n",
        "            pai += 1\n",
        "            i += 1\n",
        "        return pai\n",
        "\n",
        "    def visualiza_geracao(self):\n",
        "        melhor = self.populacao[0]\n",
        "        print(\"G:%s -> Requisitos: %s Custo: %s Melhor Ind. Geração: %s\" % (self.populacao[0].geracao,\n",
        "                                                               melhor.nota_avaliacao,\n",
        "                                                               melhor.custo_usado,\n",
        "                                                               melhor.cromossomo))\n",
        "\n",
        "    def resolver(self, taxa_mutacao, numero_geracoes, requisitos, custos, limite_custo):\n",
        "        self.inicializa_populacao(requisitos, custos, limite_custo)\n",
        "\n",
        "        for individuo in self.populacao:\n",
        "            individuo.avaliacao()\n",
        "\n",
        "        self.ordena_populacao()\n",
        "        self.melhor_solucao = self.populacao[0]\n",
        "        self.lista_solucoes.append(self.melhor_solucao.nota_avaliacao)\n",
        "\n",
        "        self.visualiza_geracao()\n",
        "\n",
        "        for geracao in range(numero_geracoes):\n",
        "            soma_avaliacao = self.soma_avaliacoes()\n",
        "            nova_populacao = []\n",
        "\n",
        "            for individuos_gerados in range(0, self.tamanho_populacao, 2):\n",
        "                pai1 = self.seleciona_pai(soma_avaliacao)\n",
        "                pai2 = self.seleciona_pai(soma_avaliacao)\n",
        "\n",
        "                filhos = self.populacao[pai1].crossover(self.populacao[pai2])\n",
        "\n",
        "                nova_populacao.append(filhos[0].mutacao(taxa_mutacao))\n",
        "                nova_populacao.append(filhos[1].mutacao(taxa_mutacao))\n",
        "\n",
        "            self.populacao = list(nova_populacao)\n",
        "\n",
        "            for individuo in self.populacao:\n",
        "                individuo.avaliacao()\n",
        "\n",
        "            self.ordena_populacao()\n",
        "\n",
        "            self.visualiza_geracao()\n",
        "\n",
        "            melhor = self.populacao[0]\n",
        "            self.lista_solucoes.append(melhor.nota_avaliacao)\n",
        "            self.melhor_individuo(melhor)\n",
        "\n",
        "        print(\"\\nMelhor solução -> G: %s Requisitos: %s Custo: %s Cromossomo: %s\" %\n",
        "              (self.melhor_solucao.geracao,\n",
        "               self.melhor_solucao.nota_avaliacao,\n",
        "               self.melhor_solucao.custo_usado,\n",
        "               self.melhor_solucao.cromossomo))\n",
        "\n",
        "        return self.melhor_solucao.cromossomo"
      ],
      "metadata": {
        "id": "rckIu50VmyWU"
      },
      "execution_count": null,
      "outputs": []
    },
    {
      "cell_type": "markdown",
      "source": [
        "# Execução Algoritmo"
      ],
      "metadata": {
        "id": "qviF7Ijl9_kp"
      }
    },
    {
      "cell_type": "markdown",
      "source": [
        "Define os parâmetros:\n",
        "\n",
        "*   Limite de custo (R$)\n",
        "*   Tamanho da população\n",
        "*   Taxa de mutação entre as geracões\n",
        "*   Número de Gerações\n",
        "\n"
      ],
      "metadata": {
        "id": "dNBzUGS69oiX"
      }
    },
    {
      "cell_type": "code",
      "source": [
        "limite = 6000\n",
        "tamanho_populacao = 40\n",
        "taxa_mutacao = 0.01\n",
        "numero_geracoes = 5\n",
        "\n",
        "ag = AlgoritmoGenetico(tamanho_populacao)\n",
        "# taxa_mutacao, numero_geracoes, requisitos, custos, limite_custo\n",
        "resultado = ag.resolver(taxa_mutacao, numero_geracoes, requisitos, custos, limite)\n",
        "\n",
        "#Visualização dos resultados\n",
        "for i in range(len(lista_cts)):\n",
        "    if resultado[i] == '1':\n",
        "        print(\"Nome: %s Requisitos %s \" % (lista_cts[i].nome,\n",
        "                                    lista_cts[i].requisitos))\n"
      ],
      "metadata": {
        "colab": {
          "base_uri": "https://localhost:8080/"
        },
        "id": "t13jDHsFm-kO",
        "outputId": "60ee0f28-eda4-49a1-bac8-d00d952378f5"
      },
      "execution_count": null,
      "outputs": [
        {
          "output_type": "stream",
          "name": "stdout",
          "text": [
            "G:0 -> Requisitos: 16 Custo: 5650 Melhor Ind. Geração: ['0', '1', '1', '1', '1']\n",
            "G:1 -> Requisitos: 15 Custo: 4500 Melhor Ind. Geração: ['0', '1', '1', '1', '0']\n",
            "G:2 -> Requisitos: 17 Custo: 5750 Melhor Ind. Geração: ['1', '1', '1', '1', '0']\n",
            "G:3 -> Requisitos: 16 Custo: 5650 Melhor Ind. Geração: ['0', '1', '1', '1', '1']\n",
            "G:4 -> Requisitos: 16 Custo: 5650 Melhor Ind. Geração: ['0', '1', '1', '1', '1']\n",
            "G:5 -> Requisitos: 16 Custo: 5650 Melhor Ind. Geração: ['0', '1', '1', '1', '1']\n",
            "\n",
            "Melhor solução -> G: 2 Requisitos: 17 Custo: 5750 Cromossomo: ['1', '1', '1', '1', '0']\n",
            "Nome: A Requisitos 2 \n",
            "Nome: B Requisitos 5 \n",
            "Nome: C Requisitos 4 \n",
            "Nome: D Requisitos 6 \n"
          ]
        }
      ]
    },
    {
      "cell_type": "markdown",
      "source": [
        "Visualização Gráfica."
      ],
      "metadata": {
        "id": "u1yQUYYKHfMx"
      }
    },
    {
      "cell_type": "code",
      "source": [
        "plt.plot(ag.lista_solucoes)\n",
        "plt.title(\"Acompanhamento dos valores\")\n",
        "plt.show()"
      ],
      "metadata": {
        "colab": {
          "base_uri": "https://localhost:8080/",
          "height": 452
        },
        "id": "MdZt_-duHhtv",
        "outputId": "5aa41e00-9ca5-4c26-9289-1042d0529a39"
      },
      "execution_count": null,
      "outputs": [
        {
          "output_type": "display_data",
          "data": {
            "text/plain": [
              "<Figure size 640x480 with 1 Axes>"
            ],
            "image/png": "[encoded data removed]"
          },
          "metadata": {}
        }
      ]
    },
    {
      "cell_type": "markdown",
      "source": [
        "# Biblioteca DEAP"
      ],
      "metadata": {
        "id": "LmiHNSan-QaY"
      }
    },
    {
      "cell_type": "code",
      "source": [
        "!pip install deap"
      ],
      "metadata": {
        "colab": {
          "base_uri": "https://localhost:8080/"
        },
        "id": "h0Ni39gEqCKr",
        "outputId": "d80e9cc7-ecaa-43b8-94fb-566ccf611e00"
      },
      "execution_count": null,
      "outputs": [
        {
          "output_type": "stream",
          "name": "stdout",
          "text": [
            "Requirement already satisfied: deap in /usr/local/lib/python3.10/dist-packages (1.4.1)\n",
            "Requirement already satisfied: numpy in /usr/local/lib/python3.10/dist-packages (from deap) (1.23.5)\n"
          ]
        }
      ]
    },
    {
      "cell_type": "markdown",
      "source": [
        "# Registro das classes e métodos"
      ],
      "metadata": {
        "id": "lmoUjAnKDxGL"
      }
    },
    {
      "cell_type": "code",
      "source": [
        "import random\n",
        "from deap import base\n",
        "from deap import creator\n",
        "from deap import algorithms\n",
        "from deap import tools\n",
        "\n",
        "\n",
        "#Cria o toolbox do deap\n",
        "toolbox = base.Toolbox()\n",
        "\n",
        "#Cria a base da funcao de aptidao (maximizar) (apenas uma funcao (que é o valor) por isso peso = (1.0,))\n",
        "creator.create(\"FitnessMax\", base.Fitness, weights=(1.0, ))\n",
        "\n",
        "#Cria a classe de individuos que é uma lista e terá sua aptidao avaliada pelo FitnessMax\n",
        "creator.create(\"Individual\", list, fitness=creator.FitnessMax)\n",
        "\n",
        "#Função para gerar os valores dos cromossomos de forma aleatoria para cada individuo\n",
        "toolbox.register(\"attr_bool\", random.randint, 0, 1)\n",
        "\n",
        "#Função para gerar os individuos o número de cromossomos é definido pelo len(requisitos) (numero de casos de teste)\n",
        "toolbox.register(\"individual\", tools.initRepeat, creator.Individual,\n",
        "                 toolbox.attr_bool, n=len(requisitos))\n",
        "\n",
        "#Cria a classe de populacao, que será uma lista e composta por individuos\n",
        "toolbox.register(\"population\", tools.initRepeat, list, toolbox.individual)"
      ],
      "metadata": {
        "id": "Ou0_MQYO-mCI"
      },
      "execution_count": null,
      "outputs": []
    },
    {
      "cell_type": "code",
      "source": [
        "#Função de avaliação\n",
        "def avaliacao(individual):\n",
        "    nota = 0\n",
        "    soma_custo = 0\n",
        "    for i in range(len(individual)):\n",
        "       if individual[i] == 1:\n",
        "           nota += requisitos[i]\n",
        "           soma_custo += custos[i]\n",
        "    if soma_custo > limite:\n",
        "        nota = 1\n",
        "    return nota,\n",
        "\n",
        "#registra a funcao de aptidao\n",
        "toolbox.register(\"evaluate\", avaliacao)\n",
        "\n",
        "#registro da funcao de crossover\n",
        "toolbox.register(\"mate\", tools.cxOnePoint)\n",
        "\n",
        "#registro da funcao de mutação\n",
        "toolbox.register(\"mutate\", tools.mutFlipBit, indpb = 0.01)\n",
        "\n",
        "#registro para selecionar os individuos mais aptos para crossover\n",
        "toolbox.register(\"select\", tools.selRoulette)\n",
        "\n"
      ],
      "metadata": {
        "id": "pskBBc7vpvzk"
      },
      "execution_count": null,
      "outputs": []
    },
    {
      "cell_type": "markdown",
      "source": [
        "# Execução Algoritmo"
      ],
      "metadata": {
        "id": "k_3oGNlwEAll"
      }
    },
    {
      "cell_type": "code",
      "source": [
        "random.seed(1)\n",
        "populacao = toolbox.population(n = 40)\n",
        "probabilidade_crossover = 1.0\n",
        "probabilidade_mutacao = 0.01\n",
        "numero_geracoes = 100\n",
        "\n",
        "estatisticas = tools.Statistics(key=lambda individuo: individuo.fitness.values)\n",
        "estatisticas.register(\"max\", np.max)\n",
        "estatisticas.register(\"min\", np.min)\n",
        "estatisticas.register(\"med\", np.mean)\n",
        "estatisticas.register(\"std\", np.std)\n",
        "\n",
        "hof = tools.HallOfFame(1)\n",
        "\n",
        "populacao, info = algorithms.eaSimple(populacao, toolbox,\n",
        "                                      probabilidade_crossover,\n",
        "                                      probabilidade_mutacao,\n",
        "                                      numero_geracoes, estatisticas, halloffame=hof)\n",
        "\n",
        "\n",
        "##melhores = tools.selBest(populacao, 1)"
      ],
      "metadata": {
        "colab": {
          "base_uri": "https://localhost:8080/"
        },
        "id": "ct-eHVcwD-IC",
        "outputId": "ae56f996-33cc-4fe1-980a-200dd7a3c4a3"
      },
      "execution_count": null,
      "outputs": [
        {
          "output_type": "stream",
          "name": "stdout",
          "text": [
            "gen\tnevals\tmax\tmin\tmed\tstd    \n",
            "0  \t40    \t17 \t0  \t9  \t3.92428\n",
            "1  \t40    \t16 \t0  \t10.4\t4.13401\n",
            "2  \t40    \t17 \t0  \t11.825\t3.62552\n",
            "3  \t40    \t16 \t1  \t12.025\t3.35773\n",
            "4  \t40    \t17 \t9  \t12.875\t2.32581\n",
            "5  \t40    \t17 \t1  \t12.2  \t3.95095\n",
            "6  \t40    \t17 \t1  \t12.8  \t3.22645\n",
            "7  \t40    \t17 \t1  \t12.4  \t3.09677\n",
            "8  \t40    \t17 \t1  \t12.775\t3.43138\n",
            "9  \t40    \t17 \t6  \t13.775\t2.76123\n",
            "10 \t40    \t17 \t1  \t14    \t3.69459\n",
            "11 \t40    \t17 \t1  \t13.95 \t4.09237\n",
            "12 \t40    \t17 \t1  \t14.7  \t2.63818\n",
            "13 \t40    \t17 \t1  \t15.175\t2.42783\n",
            "14 \t40    \t17 \t1  \t14.525\t3.89222\n",
            "15 \t40    \t16 \t1  \t15.175\t2.32258\n",
            "16 \t40    \t16 \t15 \t15.5  \t0.5    \n",
            "17 \t40    \t16 \t15 \t15.65 \t0.47697\n",
            "18 \t40    \t16 \t15 \t15.725\t0.446514\n",
            "19 \t40    \t16 \t15 \t15.825\t0.379967\n",
            "20 \t40    \t16 \t15 \t15.9  \t0.3     \n",
            "21 \t40    \t16 \t15 \t15.9  \t0.3     \n",
            "22 \t40    \t16 \t15 \t15.975\t0.156125\n",
            "23 \t40    \t16 \t15 \t15.975\t0.156125\n",
            "24 \t40    \t16 \t16 \t16    \t0       \n",
            "25 \t40    \t16 \t16 \t16    \t0       \n",
            "26 \t40    \t16 \t16 \t16    \t0       \n",
            "27 \t40    \t16 \t16 \t16    \t0       \n",
            "28 \t40    \t16 \t16 \t16    \t0       \n",
            "29 \t40    \t16 \t16 \t16    \t0       \n",
            "30 \t40    \t16 \t16 \t16    \t0       \n",
            "31 \t40    \t16 \t16 \t16    \t0       \n",
            "32 \t40    \t16 \t16 \t16    \t0       \n",
            "33 \t40    \t16 \t16 \t16    \t0       \n",
            "34 \t40    \t16 \t16 \t16    \t0       \n",
            "35 \t40    \t16 \t16 \t16    \t0       \n",
            "36 \t40    \t16 \t16 \t16    \t0       \n",
            "37 \t40    \t16 \t16 \t16    \t0       \n",
            "38 \t40    \t16 \t16 \t16    \t0       \n",
            "39 \t40    \t16 \t16 \t16    \t0       \n",
            "40 \t40    \t16 \t16 \t16    \t0       \n",
            "41 \t40    \t16 \t16 \t16    \t0       \n",
            "42 \t40    \t16 \t16 \t16    \t0       \n",
            "43 \t40    \t16 \t16 \t16    \t0       \n",
            "44 \t40    \t16 \t16 \t16    \t0       \n",
            "45 \t40    \t16 \t16 \t16    \t0       \n",
            "46 \t40    \t16 \t16 \t16    \t0       \n",
            "47 \t40    \t16 \t16 \t16    \t0       \n",
            "48 \t40    \t16 \t16 \t16    \t0       \n",
            "49 \t40    \t16 \t16 \t16    \t0       \n",
            "50 \t40    \t16 \t16 \t16    \t0       \n",
            "51 \t40    \t16 \t16 \t16    \t0       \n",
            "52 \t40    \t16 \t16 \t16    \t0       \n",
            "53 \t40    \t16 \t16 \t16    \t0       \n",
            "54 \t40    \t16 \t16 \t16    \t0       \n",
            "55 \t40    \t16 \t16 \t16    \t0       \n",
            "56 \t40    \t16 \t16 \t16    \t0       \n",
            "57 \t40    \t16 \t16 \t16    \t0       \n",
            "58 \t40    \t16 \t16 \t16    \t0       \n",
            "59 \t40    \t16 \t16 \t16    \t0       \n",
            "60 \t40    \t16 \t16 \t16    \t0       \n",
            "61 \t40    \t16 \t16 \t16    \t0       \n",
            "62 \t40    \t16 \t16 \t16    \t0       \n",
            "63 \t40    \t16 \t16 \t16    \t0       \n",
            "64 \t40    \t16 \t16 \t16    \t0       \n",
            "65 \t40    \t16 \t16 \t16    \t0       \n",
            "66 \t40    \t16 \t16 \t16    \t0       \n",
            "67 \t40    \t16 \t16 \t16    \t0       \n",
            "68 \t40    \t16 \t16 \t16    \t0       \n",
            "69 \t40    \t16 \t16 \t16    \t0       \n",
            "70 \t40    \t16 \t16 \t16    \t0       \n",
            "71 \t40    \t16 \t16 \t16    \t0       \n",
            "72 \t40    \t16 \t16 \t16    \t0       \n",
            "73 \t40    \t16 \t16 \t16    \t0       \n",
            "74 \t40    \t16 \t16 \t16    \t0       \n",
            "75 \t40    \t16 \t16 \t16    \t0       \n",
            "76 \t40    \t16 \t16 \t16    \t0       \n",
            "77 \t40    \t16 \t16 \t16    \t0       \n",
            "78 \t40    \t16 \t16 \t16    \t0       \n",
            "79 \t40    \t16 \t16 \t16    \t0       \n",
            "80 \t40    \t16 \t15 \t15.975\t0.156125\n",
            "81 \t40    \t16 \t16 \t16    \t0       \n",
            "82 \t40    \t16 \t16 \t16    \t0       \n",
            "83 \t40    \t16 \t16 \t16    \t0       \n",
            "84 \t40    \t16 \t16 \t16    \t0       \n",
            "85 \t40    \t16 \t16 \t16    \t0       \n",
            "86 \t40    \t16 \t16 \t16    \t0       \n",
            "87 \t40    \t16 \t16 \t16    \t0       \n",
            "88 \t40    \t16 \t16 \t16    \t0       \n",
            "89 \t40    \t16 \t16 \t16    \t0       \n",
            "90 \t40    \t16 \t16 \t16    \t0       \n",
            "91 \t40    \t16 \t16 \t16    \t0       \n",
            "92 \t40    \t16 \t16 \t16    \t0       \n",
            "93 \t40    \t16 \t16 \t16    \t0       \n",
            "94 \t40    \t16 \t16 \t16    \t0       \n",
            "95 \t40    \t16 \t16 \t16    \t0       \n",
            "96 \t40    \t16 \t16 \t16    \t0       \n",
            "97 \t40    \t16 \t16 \t16    \t0       \n",
            "98 \t40    \t16 \t16 \t16    \t0       \n",
            "99 \t40    \t16 \t16 \t16    \t0       \n",
            "100\t40    \t16 \t16 \t16    \t0       \n"
          ]
        }
      ]
    },
    {
      "cell_type": "markdown",
      "source": [
        "Armazena o objeto com as informações em um array."
      ],
      "metadata": {
        "id": "72tYr8akEHWq"
      }
    },
    {
      "cell_type": "code",
      "source": [
        "# Transforma 'info' em um array estruturado para facilitar a manipulação\n",
        "info_array = np.array([(d['gen'], d['max']) for d in info], dtype=[('generation', int), ('max_value', float)])\n",
        "\n",
        "# Encontra o índice do máximo valor na coluna 'max_value'\n",
        "indice_max = np.argmax(info_array['max_value'])\n",
        "\n",
        "# Obtém a geração correspondente ao máximo valor\n",
        "geracao_max = info_array['generation'][indice_max]"
      ],
      "metadata": {
        "id": "sFHRvaPnB32w"
      },
      "execution_count": null,
      "outputs": []
    },
    {
      "cell_type": "markdown",
      "source": [
        "Visualizar a melhor solução encontrada."
      ],
      "metadata": {
        "id": "sQTixu2_HPmS"
      }
    },
    {
      "cell_type": "code",
      "source": [
        "melhores = hof\n",
        "##print(melhores)\n",
        "print(f'Melhor solução encontrada na geração {geracao_max}')\n",
        "for individuo in melhores:\n",
        "    ##print(individuo)\n",
        "    ##print(individuo.fitness)\n",
        "    custo = 0\n",
        "    requisitos_cobertos = 0\n",
        "    for i in range(len(lista_cts)):\n",
        "        if individuo[i] == 1:\n",
        "            custo += custos[i]\n",
        "            requisitos_cobertos += requisitos[i]\n",
        "            print(\"Nome: %s Custo: %s R$ Requisitos Cobertos: %s\" % (lista_cts[i].nome,\n",
        "                                                        lista_cts[i].custo,\n",
        "                                                        lista_cts[i].requisitos))\n",
        "    print(\"Melhor solução: %s  Requisitos Cobertos: %s\" % (requisitos_cobertos, custo))\n",
        "\n",
        "print(hof[0])"
      ],
      "metadata": {
        "colab": {
          "base_uri": "https://localhost:8080/"
        },
        "id": "02G48yaABvrI",
        "outputId": "3d8145a8-d528-4e7a-8f32-588e3acf20d7"
      },
      "execution_count": null,
      "outputs": [
        {
          "output_type": "stream",
          "name": "stdout",
          "text": [
            "Melhor solução encontrada na geração 0\n",
            "Nome: A Custo: 1250 R$ Requisitos Cobertos: 2\n",
            "Nome: B Custo: 1500 R$ Requisitos Cobertos: 5\n",
            "Nome: C Custo: 1600 R$ Requisitos Cobertos: 4\n",
            "Nome: D Custo: 1400 R$ Requisitos Cobertos: 6\n",
            "Melhor solução: 17  Requisitos Cobertos: 5750\n",
            "[1, 1, 1, 1, 0]\n"
          ]
        }
      ]
    },
    {
      "cell_type": "markdown",
      "source": [
        "Visualização Gráfica"
      ],
      "metadata": {
        "id": "Ivn-SXcqHTUR"
      }
    },
    {
      "cell_type": "code",
      "source": [
        "valores_grafico = info.select(\"max\")\n",
        "plt.plot(valores_grafico)\n",
        "plt.title(\"Acompanhamento dos valores\")\n",
        "plt.show()"
      ],
      "metadata": {
        "colab": {
          "base_uri": "https://localhost:8080/",
          "height": 452
        },
        "id": "lHXGLhaoHBhH",
        "outputId": "8c07142a-cadc-4d57-ffea-1f0f8691c00a"
      },
      "execution_count": null,
      "outputs": [
        {
          "output_type": "display_data",
          "data": {
            "text/plain": [
              "<Figure size 640x480 with 1 Axes>"
            ],
            "image/png": "[encoded data removed]"
          },
          "metadata": {}
        }
      ]
    }
  ]
}