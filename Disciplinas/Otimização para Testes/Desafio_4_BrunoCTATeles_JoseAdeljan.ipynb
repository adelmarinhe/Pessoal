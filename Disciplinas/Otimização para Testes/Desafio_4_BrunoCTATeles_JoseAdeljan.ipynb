{
  "cells": [
    {
      "cell_type": "markdown",
      "metadata": {
        "id": "tx2o-dY6Qg02"
      },
      "source": [
        "# Desafio 4\n",
        "## Bruno Campello Tôrres de Azevedo Teles\n",
        "## José Adeljan Marinho da Silva"
      ]
    },
    {
      "cell_type": "code",
      "execution_count": null,
      "metadata": {
        "id": "mZRAJ24TRq9O"
      },
      "outputs": [],
      "source": [
        "# load tqdm\n",
        "!pip install --force https://github.com/chengs/tqdm/archive/colab.zip"
      ]
    },
    {
      "cell_type": "markdown",
      "metadata": {
        "id": "XSPFneut4QRe"
      },
      "source": [
        "# Importar as bibliotecas"
      ]
    },
    {
      "cell_type": "code",
      "execution_count": null,
      "metadata": {
        "id": "G6jqbq1pmCBf"
      },
      "outputs": [],
      "source": [
        "from random import random, randint\n",
        "import matplotlib.pyplot as plt\n",
        "import numpy as np\n",
        "import itertools"
      ]
    },
    {
      "cell_type": "markdown",
      "metadata": {
        "id": "9x_SSrWG4dR8"
      },
      "source": [
        "# Cadastro dos Produtos"
      ]
    },
    {
      "cell_type": "markdown",
      "metadata": {
        "id": "tGw4ZgrT4gj3"
      },
      "source": [
        "Cadastro dos Produtos Disponíveis:\n",
        "\n",
        "\n",
        "*   Nome\n",
        "*   Volume Ocupado (m³)\n",
        "*   Valor (R$)\n",
        "\n"
      ]
    },
    {
      "cell_type": "code",
      "execution_count": null,
      "metadata": {
        "id": "Yg1PM7VRmg3B"
      },
      "outputs": [],
      "source": [
        "class Produto():\n",
        "    def __init__(self, nome, estoque, lucro, area):\n",
        "        self.nome = nome\n",
        "        self.espaco = area\n",
        "        self.valor = lucro\n",
        "        self.estoque = estoque\n",
        "\n",
        "    def __str__(self):\n",
        "        return f\"{self.nome}\"\n",
        "\n",
        "    def __repr__(self):\n",
        "        return self.__str__()"
      ]
    },
    {
      "cell_type": "markdown",
      "metadata": {
        "id": "pwAdCwW15pXV"
      },
      "source": [
        "Criar 3 listas para armazenas os atributos dos produtos cadastrados:\n",
        "\n",
        "\n",
        "*   Espacos - (Lista com os volumes dos produtos)\n",
        "*   Valores - (Lista com os preços)\n",
        "*   Nomes - (Lista com os nomes)\n",
        "*   Estoques - (Lista com os estoques)\n",
        "\n",
        "\n"
      ]
    },
    {
      "cell_type": "code",
      "execution_count": null,
      "metadata": {
        "id": "b-tGuCEFoYda"
      },
      "outputs": [],
      "source": [
        "espacos = [65, 45, 58, 71, 71, 77, 90, 90, 65, 52, 90, 52, 71, 77, 58, 45, 65, 103, 71, 97]\n",
        "valores = [2, 2, 3, 4, 4, 6, 5, 5, 6, 4, 2, 6, 5, 3, 4, 2, 2, 1, 5, 4]\n",
        "estoques = [50, 35, 25, 20, 45, 50, 45, 40, 30, 50, 35, 50, 20, 25, 30, 20, 60, 35, 25, 45]\n",
        "nomes = [f\"Item {i}\" for i in range(1, 21)]\n",
        "limite = 37200"
      ]
    },
    {
      "cell_type": "code",
      "execution_count": null,
      "metadata": {
        "id": "2Y-vDbXb9QVs"
      },
      "outputs": [],
      "source": [
        "lista_produtos = []\n",
        "\n",
        "for vals in zip(nomes, estoques, valores, espacos):\n",
        "    lista_produtos.append(Produto(*vals))"
      ]
    },
    {
      "cell_type": "markdown",
      "metadata": {
        "id": "O1W9_NUC6hMP"
      },
      "source": [
        "# Classe Indivíduo"
      ]
    },
    {
      "cell_type": "code",
      "execution_count": null,
      "metadata": {
        "id": "YPj1ckG1mfbY"
      },
      "outputs": [],
      "source": [
        "class Individuo():\n",
        "    def __init__(self, espacos, valores, estoques, limite_espacos, geracao=0):\n",
        "        self.espacos = espacos\n",
        "        self.valores = valores\n",
        "        self.estoques = estoques\n",
        "        self.limite_espacos = limite_espacos\n",
        "        self.nota_avaliacao = 0\n",
        "        self.espaco_usado = 0\n",
        "        self.geracao = geracao\n",
        "        self.cromossomo = []\n",
        "\n",
        "        for i in range(len(espacos)):\n",
        "            self.cromossomo.append(randint(0, self.estoques[i]))\n",
        "\n",
        "    def avaliacao(self):\n",
        "        nota = 0\n",
        "        soma_espacos = 0\n",
        "        for i in range(len(self.cromossomo)):\n",
        "            nota += self.valores[i] * self.cromossomo[i]\n",
        "            soma_espacos += self.espacos[i] * self.cromossomo[i]\n",
        "        if soma_espacos > self.limite_espacos:\n",
        "            nota = 1\n",
        "        self.nota_avaliacao = nota\n",
        "        self.espaco_usado = soma_espacos\n",
        "\n",
        "    def crossover(self, outro_individuo):\n",
        "        corte = round(random() * len(self.cromossomo))\n",
        "\n",
        "        filho1 = outro_individuo.cromossomo[0:corte] + self.cromossomo[corte::]\n",
        "        filho2 = self.cromossomo[0:corte] + outro_individuo.cromossomo[corte::]\n",
        "\n",
        "        filhos = [Individuo(self.espacos, self.valores, self.estoques, self.limite_espacos, self.geracao + 1),\n",
        "                  Individuo(self.espacos, self.valores, self.estoques, self.limite_espacos, self.geracao + 1)]\n",
        "        filhos[0].cromossomo = filho1\n",
        "        filhos[1].cromossomo = filho2\n",
        "        return filhos\n",
        "\n",
        "    def mutacao(self, taxa_mutacao):\n",
        "        for i in range(len(self.cromossomo)):\n",
        "            if random() < taxa_mutacao:\n",
        "                self.cromossomo[i] += randint(-5, 5)\n",
        "            self.cromossomo[i] = max(min(self.cromossomo[i], self.estoques[i]), 0)\n",
        "        return self"
      ]
    },
    {
      "cell_type": "markdown",
      "metadata": {
        "id": "UolL2mvs7C9L"
      },
      "source": [
        "Visualização da criação de 1 indivíduo."
      ]
    },
    {
      "cell_type": "code",
      "execution_count": null,
      "metadata": {
        "colab": {
          "base_uri": "https://localhost:8080/"
        },
        "id": "Q4Q5hmfaFzLf",
        "outputId": "e5b874e3-ce20-41c7-be12-27d77150935f"
      },
      "outputs": [
        {
          "name": "stdout",
          "output_type": "stream",
          "text": [
            "Item 1 0\n",
            "Item 2 29\n",
            "Item 3 10\n",
            "Item 4 20\n",
            "Item 5 17\n",
            "Item 6 34\n",
            "Item 7 15\n",
            "Item 8 6\n",
            "Item 9 12\n",
            "Item 10 19\n",
            "Item 11 29\n",
            "Item 12 30\n",
            "Item 13 1\n",
            "Item 14 20\n",
            "Item 15 20\n",
            "Item 16 4\n",
            "Item 17 15\n",
            "Item 18 35\n",
            "Item 19 18\n",
            "Item 20 21\n"
          ]
        }
      ],
      "source": [
        "indiv1 = Individuo(espacos, valores, estoques, limite)\n",
        "\n",
        "for n, i in zip(nomes, indiv1.cromossomo):\n",
        "  print(n, i)"
      ]
    },
    {
      "cell_type": "markdown",
      "metadata": {
        "id": "_HkQINuD7wmt"
      },
      "source": [
        "Visualização da aptidão."
      ]
    },
    {
      "cell_type": "code",
      "execution_count": null,
      "metadata": {
        "colab": {
          "base_uri": "https://localhost:8080/"
        },
        "id": "mGxS1OYW7JO7",
        "outputId": "6fd39e61-934a-42c0-88ab-bcd1cabe692e"
      },
      "outputs": [
        {
          "name": "stdout",
          "output_type": "stream",
          "text": [
            "Item 1 0\n",
            "Item 2 29\n",
            "Item 3 10\n",
            "Item 4 20\n",
            "Item 5 17\n",
            "Item 6 34\n",
            "Item 7 15\n",
            "Item 8 6\n",
            "Item 9 12\n",
            "Item 10 19\n",
            "Item 11 29\n",
            "Item 12 30\n",
            "Item 13 1\n",
            "Item 14 20\n",
            "Item 15 20\n",
            "Item 16 4\n",
            "Item 17 15\n",
            "Item 18 35\n",
            "Item 19 18\n",
            "Item 20 21\n",
            "Nota Avaliação: 1323, Espaco Usado: 25804\n"
          ]
        }
      ],
      "source": [
        "indiv1.avaliacao()\n",
        "for n, i in zip(nomes, indiv1.cromossomo):\n",
        "  print(n, i)\n",
        "\n",
        "print(f'Nota Avaliação: {indiv1.nota_avaliacao}, Espaco Usado: {indiv1.espaco_usado}')"
      ]
    },
    {
      "cell_type": "markdown",
      "metadata": {
        "id": "zU8nuwX372HZ"
      },
      "source": [
        "# Classe Algoritmo Genético"
      ]
    },
    {
      "cell_type": "code",
      "execution_count": null,
      "metadata": {
        "id": "rckIu50VmyWU"
      },
      "outputs": [],
      "source": [
        "class AlgoritmoGenetico():\n",
        "    def __init__(self, tamanho_populacao):\n",
        "        self.tamanho_populacao = tamanho_populacao\n",
        "        self.populacao = []\n",
        "        self.geracao = 0\n",
        "        self.melhor_solucao = 0\n",
        "        self.lista_solucoes = []\n",
        "\n",
        "    def inicializa_populacao(self, espacos, valores, estoques, limite_espacos):\n",
        "        for i in range(self.tamanho_populacao):\n",
        "            self.populacao.append(Individuo(espacos, valores, estoques, limite_espacos))\n",
        "        self.melhor_solucao = self.populacao[0]\n",
        "\n",
        "    def ordena_populacao(self):\n",
        "        self.populacao = sorted(self.populacao,\n",
        "                                key = lambda populacao: populacao.nota_avaliacao,\n",
        "                                reverse = True)\n",
        "\n",
        "    def melhor_individuo(self, individuo):\n",
        "        if individuo.nota_avaliacao > self.melhor_solucao.nota_avaliacao:\n",
        "            self.melhor_solucao = individuo\n",
        "\n",
        "    def soma_avaliacoes(self):\n",
        "        soma = 0\n",
        "        for individuo in self.populacao:\n",
        "           soma += individuo.nota_avaliacao\n",
        "        return soma\n",
        "\n",
        "    def seleciona_pai(self, soma_avaliacao): #Seleção Metodo roleta\n",
        "        pai = -1\n",
        "        valor_sorteado = random() * soma_avaliacao\n",
        "        soma = 0\n",
        "        i = 0\n",
        "        while i < len(self.populacao) and soma < valor_sorteado:\n",
        "            soma += self.populacao[i].nota_avaliacao\n",
        "            pai += 1\n",
        "            i += 1\n",
        "        return pai\n",
        "\n",
        "    def visualiza_geracao(self):\n",
        "        melhor = self.populacao[0]\n",
        "        print(\"G:%s -> Valor: %s Espaço: %s Melhor Ind. Geração: %s\" % (self.populacao[0].geracao,\n",
        "                                                               melhor.nota_avaliacao,\n",
        "                                                               melhor.espaco_usado,\n",
        "                                                               melhor.cromossomo))\n",
        "\n",
        "    def resolver(self, taxa_mutacao, numero_geracoes, espacos, valores, estoques, limite_espacos):\n",
        "        self.inicializa_populacao(espacos, valores, estoques, limite_espacos)\n",
        "\n",
        "        for individuo in self.populacao:\n",
        "            individuo.avaliacao()\n",
        "\n",
        "        self.ordena_populacao()\n",
        "        self.melhor_solucao = self.populacao[0]\n",
        "        self.lista_solucoes.append(self.melhor_solucao.nota_avaliacao)\n",
        "\n",
        "        # self.visualiza_geracao()\n",
        "\n",
        "        for geracao in range(numero_geracoes):\n",
        "            soma_avaliacao = self.soma_avaliacoes()\n",
        "            nova_populacao = []\n",
        "\n",
        "            for individuos_gerados in range(0, self.tamanho_populacao, 2):\n",
        "                pai1 = self.seleciona_pai(soma_avaliacao)\n",
        "                pai2 = self.seleciona_pai(soma_avaliacao)\n",
        "\n",
        "                filhos = self.populacao[pai1].crossover(self.populacao[pai2])\n",
        "\n",
        "                nova_populacao.append(filhos[0].mutacao(taxa_mutacao))\n",
        "                nova_populacao.append(filhos[1].mutacao(taxa_mutacao))\n",
        "\n",
        "            self.populacao = list(nova_populacao)\n",
        "\n",
        "            for individuo in self.populacao:\n",
        "                individuo.avaliacao()\n",
        "\n",
        "            self.ordena_populacao()\n",
        "\n",
        "            # self.visualiza_geracao()\n",
        "\n",
        "            melhor = self.populacao[0]\n",
        "            self.lista_solucoes.append(melhor.nota_avaliacao)\n",
        "            self.melhor_individuo(melhor)\n",
        "\n",
        "        # print(\"\\nMelhor solução -> G: %s Valor: %s Espaço: %s Cromossomo: %s\" %\n",
        "        #       (self.melhor_solucao.geracao,\n",
        "        #        self.melhor_solucao.nota_avaliacao,\n",
        "        #        self.melhor_solucao.espaco_usado,\n",
        "        #        self.melhor_solucao.cromossomo))\n",
        "\n",
        "        return self.melhor_solucao.nota_avaliacao, self.melhor_solucao.cromossomo"
      ]
    },
    {
      "cell_type": "markdown",
      "metadata": {
        "id": "ltUKQzAh77b5"
      },
      "source": [
        "Inicializa populacao. Verifica o melhor individuo daquela população."
      ]
    },
    {
      "cell_type": "code",
      "execution_count": null,
      "metadata": {
        "colab": {
          "base_uri": "https://localhost:8080/"
        },
        "id": "zenpbPrMGFjE",
        "outputId": "8bac28d2-cf70-4842-dd4d-5441f6efe709"
      },
      "outputs": [
        {
          "name": "stdout",
          "output_type": "stream",
          "text": [
            "[<__main__.Individuo object at 0x7971ea182260>, <__main__.Individuo object at 0x7971ea181a80>, <__main__.Individuo object at 0x7971ea181b40>, <__main__.Individuo object at 0x7971ea181780>, <__main__.Individuo object at 0x7971ea181750>, <__main__.Individuo object at 0x7971ea181720>, <__main__.Individuo object at 0x7971ea1817e0>, <__main__.Individuo object at 0x7971ea181360>, <__main__.Individuo object at 0x7971ea181300>, <__main__.Individuo object at 0x7971ea181030>]\n",
            "[24, 8, 14, 4, 9, 9, 18, 6, 23, 4, 22, 37, 2, 14, 30, 20, 18, 6, 25, 12]\n",
            "Nota Avaliação: 1179, Espaco Usado: 20702\n"
          ]
        }
      ],
      "source": [
        "ag1 = AlgoritmoGenetico(10)\n",
        "\n",
        "ag1.inicializa_populacao(espacos, valores, estoques, limite)\n",
        "print(ag1.populacao)\n",
        "\n",
        "ag1.ordena_populacao()\n",
        "\n",
        "print(ag1.populacao[0].cromossomo)\n",
        "\n",
        "ag1.populacao[0].avaliacao()\n",
        "\n",
        "print(f'Nota Avaliação: {ag1.populacao[0].nota_avaliacao}, Espaco Usado: {ag1.populacao[0].espaco_usado}')\n",
        "\n"
      ]
    },
    {
      "cell_type": "markdown",
      "metadata": {
        "id": "qviF7Ijl9_kp"
      },
      "source": [
        "# Execução Algoritmo"
      ]
    },
    {
      "cell_type": "markdown",
      "metadata": {
        "id": "dNBzUGS69oiX"
      },
      "source": [
        "Define os parâmetros:\n",
        "\n",
        "*   Volume disponível (m³)\n",
        "*   Tamanho da população\n",
        "*   Taxa de mutação entre as geracões\n",
        "*   Número de Gerações\n",
        "\n"
      ]
    },
    {
      "cell_type": "markdown",
      "metadata": {
        "id": "j52h_zxNJCmG"
      },
      "source": [
        "### Estudo dos Parâmetros\n",
        "\n",
        "Algoritmo foi executado com diferentes combinações de parâmetros, e o melhor resultado é armazenado"
      ]
    },
    {
      "cell_type": "code",
      "execution_count": null,
      "metadata": {
        "colab": {
          "base_uri": "https://localhost:8080/",
          "height": 107
        },
        "id": "i1JSE-b2Hcao",
        "outputId": "71fa75dd-29c8-4938-be55-6de20cb3a706"
      },
      "outputs": [
        {
          "name": "stderr",
          "output_type": "stream",
          "text": [
            "/usr/local/lib/python3.10/dist-packages/tqdm/_tqdm_notebook.py:86: TqdmExperimentalWarning: Detect Google Colab 0.0.1a2 and thus load dummy ipywidgets package. Note that UI is different from that in Jupyter. See https://github.com/tqdm/tqdm/pull/640\n",
            "  warn(\"Detect Google Colab {} and thus load dummy ipywidgets package.\"\n"
          ]
        },
        {
          "data": {
            "text/html": [
              "<div style=\"display:flex;flex-direction:row;\"><span>Progresso Geral</span><progress style='margin:2px 4px;description_width:initial;' max='70' value='70'></progress>100% 70/70 [01:20&lt;00:00,  1.71s/it]</div>"
            ],
            "text/plain": [
              "<tqdm._fake_ipywidgets.HBox object>"
            ]
          },
          "metadata": {},
          "output_type": "display_data"
        },
        {
          "data": {
            "text/html": [],
            "text/plain": [
              "<tqdm._fake_ipywidgets.HTML object>"
            ]
          },
          "metadata": {},
          "output_type": "display_data"
        },
        {
          "data": {
            "text/html": [],
            "text/plain": [
              "<tqdm._fake_ipywidgets.HTML object>"
            ]
          },
          "metadata": {},
          "output_type": "display_data"
        },
        {
          "data": {
            "text/html": [],
            "text/plain": [
              "<tqdm._fake_ipywidgets.HTML object>"
            ]
          },
          "metadata": {},
          "output_type": "display_data"
        },
        {
          "data": {
            "text/html": [],
            "text/plain": [
              "<tqdm._fake_ipywidgets.HTML object>"
            ]
          },
          "metadata": {},
          "output_type": "display_data"
        },
        {
          "data": {
            "text/html": [],
            "text/plain": [
              "<tqdm._fake_ipywidgets.HTML object>"
            ]
          },
          "metadata": {},
          "output_type": "display_data"
        },
        {
          "data": {
            "text/html": [],
            "text/plain": [
              "<tqdm._fake_ipywidgets.HTML object>"
            ]
          },
          "metadata": {},
          "output_type": "display_data"
        },
        {
          "data": {
            "text/html": [],
            "text/plain": [
              "<tqdm._fake_ipywidgets.HTML object>"
            ]
          },
          "metadata": {},
          "output_type": "display_data"
        },
        {
          "data": {
            "text/html": [],
            "text/plain": [
              "<tqdm._fake_ipywidgets.HTML object>"
            ]
          },
          "metadata": {},
          "output_type": "display_data"
        },
        {
          "data": {
            "text/html": [],
            "text/plain": [
              "<tqdm._fake_ipywidgets.HTML object>"
            ]
          },
          "metadata": {},
          "output_type": "display_data"
        },
        {
          "data": {
            "text/html": [],
            "text/plain": [
              "<tqdm._fake_ipywidgets.HTML object>"
            ]
          },
          "metadata": {},
          "output_type": "display_data"
        },
        {
          "data": {
            "text/html": [],
            "text/plain": [
              "<tqdm._fake_ipywidgets.HTML object>"
            ]
          },
          "metadata": {},
          "output_type": "display_data"
        },
        {
          "data": {
            "text/html": [],
            "text/plain": [
              "<tqdm._fake_ipywidgets.HTML object>"
            ]
          },
          "metadata": {},
          "output_type": "display_data"
        },
        {
          "data": {
            "text/html": [],
            "text/plain": [
              "<tqdm._fake_ipywidgets.HTML object>"
            ]
          },
          "metadata": {},
          "output_type": "display_data"
        },
        {
          "data": {
            "text/html": [],
            "text/plain": [
              "<tqdm._fake_ipywidgets.HTML object>"
            ]
          },
          "metadata": {},
          "output_type": "display_data"
        },
        {
          "data": {
            "text/html": [],
            "text/plain": [
              "<tqdm._fake_ipywidgets.HTML object>"
            ]
          },
          "metadata": {},
          "output_type": "display_data"
        },
        {
          "data": {
            "text/html": [],
            "text/plain": [
              "<tqdm._fake_ipywidgets.HTML object>"
            ]
          },
          "metadata": {},
          "output_type": "display_data"
        },
        {
          "data": {
            "text/html": [],
            "text/plain": [
              "<tqdm._fake_ipywidgets.HTML object>"
            ]
          },
          "metadata": {},
          "output_type": "display_data"
        },
        {
          "data": {
            "text/html": [],
            "text/plain": [
              "<tqdm._fake_ipywidgets.HTML object>"
            ]
          },
          "metadata": {},
          "output_type": "display_data"
        },
        {
          "data": {
            "text/html": [],
            "text/plain": [
              "<tqdm._fake_ipywidgets.HTML object>"
            ]
          },
          "metadata": {},
          "output_type": "display_data"
        },
        {
          "data": {
            "text/html": [],
            "text/plain": [
              "<tqdm._fake_ipywidgets.HTML object>"
            ]
          },
          "metadata": {},
          "output_type": "display_data"
        },
        {
          "data": {
            "text/html": [],
            "text/plain": [
              "<tqdm._fake_ipywidgets.HTML object>"
            ]
          },
          "metadata": {},
          "output_type": "display_data"
        },
        {
          "data": {
            "text/html": [],
            "text/plain": [
              "<tqdm._fake_ipywidgets.HTML object>"
            ]
          },
          "metadata": {},
          "output_type": "display_data"
        },
        {
          "data": {
            "text/html": [],
            "text/plain": [
              "<tqdm._fake_ipywidgets.HTML object>"
            ]
          },
          "metadata": {},
          "output_type": "display_data"
        },
        {
          "data": {
            "text/html": [],
            "text/plain": [
              "<tqdm._fake_ipywidgets.HTML object>"
            ]
          },
          "metadata": {},
          "output_type": "display_data"
        },
        {
          "data": {
            "text/html": [],
            "text/plain": [
              "<tqdm._fake_ipywidgets.HTML object>"
            ]
          },
          "metadata": {},
          "output_type": "display_data"
        },
        {
          "data": {
            "text/html": [],
            "text/plain": [
              "<tqdm._fake_ipywidgets.HTML object>"
            ]
          },
          "metadata": {},
          "output_type": "display_data"
        },
        {
          "data": {
            "text/html": [],
            "text/plain": [
              "<tqdm._fake_ipywidgets.HTML object>"
            ]
          },
          "metadata": {},
          "output_type": "display_data"
        },
        {
          "data": {
            "text/html": [],
            "text/plain": [
              "<tqdm._fake_ipywidgets.HTML object>"
            ]
          },
          "metadata": {},
          "output_type": "display_data"
        },
        {
          "data": {
            "text/html": [],
            "text/plain": [
              "<tqdm._fake_ipywidgets.HTML object>"
            ]
          },
          "metadata": {},
          "output_type": "display_data"
        },
        {
          "data": {
            "text/html": [],
            "text/plain": [
              "<tqdm._fake_ipywidgets.HTML object>"
            ]
          },
          "metadata": {},
          "output_type": "display_data"
        },
        {
          "data": {
            "text/html": [],
            "text/plain": [
              "<tqdm._fake_ipywidgets.HTML object>"
            ]
          },
          "metadata": {},
          "output_type": "display_data"
        },
        {
          "data": {
            "text/html": [],
            "text/plain": [
              "<tqdm._fake_ipywidgets.HTML object>"
            ]
          },
          "metadata": {},
          "output_type": "display_data"
        },
        {
          "data": {
            "text/html": [],
            "text/plain": [
              "<tqdm._fake_ipywidgets.HTML object>"
            ]
          },
          "metadata": {},
          "output_type": "display_data"
        },
        {
          "data": {
            "text/html": [],
            "text/plain": [
              "<tqdm._fake_ipywidgets.HTML object>"
            ]
          },
          "metadata": {},
          "output_type": "display_data"
        },
        {
          "data": {
            "text/html": [],
            "text/plain": [
              "<tqdm._fake_ipywidgets.HTML object>"
            ]
          },
          "metadata": {},
          "output_type": "display_data"
        },
        {
          "data": {
            "text/html": [],
            "text/plain": [
              "<tqdm._fake_ipywidgets.HTML object>"
            ]
          },
          "metadata": {},
          "output_type": "display_data"
        },
        {
          "data": {
            "text/html": [],
            "text/plain": [
              "<tqdm._fake_ipywidgets.HTML object>"
            ]
          },
          "metadata": {},
          "output_type": "display_data"
        },
        {
          "data": {
            "text/html": [],
            "text/plain": [
              "<tqdm._fake_ipywidgets.HTML object>"
            ]
          },
          "metadata": {},
          "output_type": "display_data"
        },
        {
          "data": {
            "text/html": [],
            "text/plain": [
              "<tqdm._fake_ipywidgets.HTML object>"
            ]
          },
          "metadata": {},
          "output_type": "display_data"
        },
        {
          "data": {
            "text/html": [],
            "text/plain": [
              "<tqdm._fake_ipywidgets.HTML object>"
            ]
          },
          "metadata": {},
          "output_type": "display_data"
        },
        {
          "data": {
            "text/html": [],
            "text/plain": [
              "<tqdm._fake_ipywidgets.HTML object>"
            ]
          },
          "metadata": {},
          "output_type": "display_data"
        },
        {
          "data": {
            "text/html": [],
            "text/plain": [
              "<tqdm._fake_ipywidgets.HTML object>"
            ]
          },
          "metadata": {},
          "output_type": "display_data"
        },
        {
          "data": {
            "text/html": [],
            "text/plain": [
              "<tqdm._fake_ipywidgets.HTML object>"
            ]
          },
          "metadata": {},
          "output_type": "display_data"
        },
        {
          "data": {
            "text/html": [],
            "text/plain": [
              "<tqdm._fake_ipywidgets.HTML object>"
            ]
          },
          "metadata": {},
          "output_type": "display_data"
        },
        {
          "data": {
            "text/html": [],
            "text/plain": [
              "<tqdm._fake_ipywidgets.HTML object>"
            ]
          },
          "metadata": {},
          "output_type": "display_data"
        },
        {
          "data": {
            "text/html": [],
            "text/plain": [
              "<tqdm._fake_ipywidgets.HTML object>"
            ]
          },
          "metadata": {},
          "output_type": "display_data"
        },
        {
          "data": {
            "text/html": [],
            "text/plain": [
              "<tqdm._fake_ipywidgets.HTML object>"
            ]
          },
          "metadata": {},
          "output_type": "display_data"
        },
        {
          "data": {
            "text/html": [],
            "text/plain": [
              "<tqdm._fake_ipywidgets.HTML object>"
            ]
          },
          "metadata": {},
          "output_type": "display_data"
        },
        {
          "data": {
            "text/html": [],
            "text/plain": [
              "<tqdm._fake_ipywidgets.HTML object>"
            ]
          },
          "metadata": {},
          "output_type": "display_data"
        },
        {
          "data": {
            "text/html": [],
            "text/plain": [
              "<tqdm._fake_ipywidgets.HTML object>"
            ]
          },
          "metadata": {},
          "output_type": "display_data"
        },
        {
          "data": {
            "text/html": [],
            "text/plain": [
              "<tqdm._fake_ipywidgets.HTML object>"
            ]
          },
          "metadata": {},
          "output_type": "display_data"
        },
        {
          "data": {
            "text/html": [],
            "text/plain": [
              "<tqdm._fake_ipywidgets.HTML object>"
            ]
          },
          "metadata": {},
          "output_type": "display_data"
        },
        {
          "data": {
            "text/html": [],
            "text/plain": [
              "<tqdm._fake_ipywidgets.HTML object>"
            ]
          },
          "metadata": {},
          "output_type": "display_data"
        },
        {
          "data": {
            "text/html": [],
            "text/plain": [
              "<tqdm._fake_ipywidgets.HTML object>"
            ]
          },
          "metadata": {},
          "output_type": "display_data"
        },
        {
          "data": {
            "text/html": [],
            "text/plain": [
              "<tqdm._fake_ipywidgets.HTML object>"
            ]
          },
          "metadata": {},
          "output_type": "display_data"
        },
        {
          "data": {
            "text/html": [],
            "text/plain": [
              "<tqdm._fake_ipywidgets.HTML object>"
            ]
          },
          "metadata": {},
          "output_type": "display_data"
        },
        {
          "data": {
            "text/html": [],
            "text/plain": [
              "<tqdm._fake_ipywidgets.HTML object>"
            ]
          },
          "metadata": {},
          "output_type": "display_data"
        },
        {
          "data": {
            "text/html": [],
            "text/plain": [
              "<tqdm._fake_ipywidgets.HTML object>"
            ]
          },
          "metadata": {},
          "output_type": "display_data"
        },
        {
          "data": {
            "text/html": [],
            "text/plain": [
              "<tqdm._fake_ipywidgets.HTML object>"
            ]
          },
          "metadata": {},
          "output_type": "display_data"
        },
        {
          "data": {
            "text/html": [],
            "text/plain": [
              "<tqdm._fake_ipywidgets.HTML object>"
            ]
          },
          "metadata": {},
          "output_type": "display_data"
        },
        {
          "data": {
            "text/html": [],
            "text/plain": [
              "<tqdm._fake_ipywidgets.HTML object>"
            ]
          },
          "metadata": {},
          "output_type": "display_data"
        },
        {
          "data": {
            "text/html": [],
            "text/plain": [
              "<tqdm._fake_ipywidgets.HTML object>"
            ]
          },
          "metadata": {},
          "output_type": "display_data"
        },
        {
          "data": {
            "text/html": [],
            "text/plain": [
              "<tqdm._fake_ipywidgets.HTML object>"
            ]
          },
          "metadata": {},
          "output_type": "display_data"
        },
        {
          "data": {
            "text/html": [],
            "text/plain": [
              "<tqdm._fake_ipywidgets.HTML object>"
            ]
          },
          "metadata": {},
          "output_type": "display_data"
        },
        {
          "data": {
            "text/html": [],
            "text/plain": [
              "<tqdm._fake_ipywidgets.HTML object>"
            ]
          },
          "metadata": {},
          "output_type": "display_data"
        },
        {
          "data": {
            "text/html": [],
            "text/plain": [
              "<tqdm._fake_ipywidgets.HTML object>"
            ]
          },
          "metadata": {},
          "output_type": "display_data"
        },
        {
          "data": {
            "text/html": [],
            "text/plain": [
              "<tqdm._fake_ipywidgets.HTML object>"
            ]
          },
          "metadata": {},
          "output_type": "display_data"
        },
        {
          "data": {
            "text/html": [],
            "text/plain": [
              "<tqdm._fake_ipywidgets.HTML object>"
            ]
          },
          "metadata": {},
          "output_type": "display_data"
        },
        {
          "data": {
            "text/html": [],
            "text/plain": [
              "<tqdm._fake_ipywidgets.HTML object>"
            ]
          },
          "metadata": {},
          "output_type": "display_data"
        },
        {
          "data": {
            "text/html": [],
            "text/plain": [
              "<tqdm._fake_ipywidgets.HTML object>"
            ]
          },
          "metadata": {},
          "output_type": "display_data"
        },
        {
          "name": "stdout",
          "output_type": "stream",
          "text": [
            "\n"
          ]
        }
      ],
      "source": [
        "from tqdm import tqdm_notebook as tqdm\n",
        "\n",
        "tamanho_populacao = [i*10 for i in range(2, 9)]\n",
        "taxa_mutacao = [0.01] + [0.01 * i for i in range(5, 21, 5)]\n",
        "numero_geracoes = [50, 100]\n",
        "resultados = []\n",
        "iters = list(itertools.product(tamanho_populacao, taxa_mutacao, numero_geracoes))\n",
        "\n",
        "for (tp, tm, ng) in tqdm(iters, leave=True, desc=\"Progresso Geral\"):\n",
        "    melhor_resultado = 0\n",
        "    melhor_ag = None\n",
        "    # Como o processo é estocástico, executa 5 vezes por conjunto de params\n",
        "    for _ in tqdm(range(5), desc=f\"{tp=}, {tm=}, {ng=}\", leave=False):\n",
        "        ag = AlgoritmoGenetico(tp)\n",
        "        resultado, _ = ag.resolver(tm, ng, espacos, valores, estoques, limite)\n",
        "        if resultado > melhor_resultado:\n",
        "            melhor_resultado = resultado\n",
        "            melhor_ag = ag\n",
        "    resultados.append({\"params\": (tp, tm, ng), \"res\": melhor_ag})"
      ]
    },
    {
      "cell_type": "code",
      "execution_count": null,
      "metadata": {
        "id": "HxWEW7jvHDFI"
      },
      "outputs": [],
      "source": [
        "resultados.sort(key=lambda x: x['res'].melhor_solucao.nota_avaliacao, reverse=True)"
      ]
    },
    {
      "cell_type": "markdown",
      "metadata": {
        "id": "SL0ms7wSdDxy"
      },
      "source": [
        "Exibição do Melhor Resultado"
      ]
    },
    {
      "cell_type": "code",
      "execution_count": null,
      "metadata": {
        "colab": {
          "base_uri": "https://localhost:8080/"
        },
        "id": "onULDA-JJW9j",
        "outputId": "8914f691-839f-4207-ee2f-b13ac884e79e"
      },
      "outputs": [
        {
          "name": "stdout",
          "output_type": "stream",
          "text": [
            "Melhor resultado: 2283\n",
            "Parâmetros:\n",
            "Tamanho da população = 30\n",
            "Taxa de mutação = 0.15\n",
            "Número de gerações = 100\n"
          ]
        }
      ],
      "source": [
        "melhor = resultados[0]\n",
        "print(\"Melhor resultado:\", melhor['res'].melhor_solucao.nota_avaliacao)\n",
        "print(\"Parâmetros:\\nTamanho da população =\", melhor['params'][0])\n",
        "print(\"Taxa de mutação =\", melhor['params'][1])\n",
        "print(f\"Número de gerações =\", melhor['params'][2])"
      ]
    },
    {
      "cell_type": "markdown",
      "metadata": {
        "id": "u1yQUYYKHfMx"
      },
      "source": [
        "Visualização Gráfica."
      ]
    },
    {
      "cell_type": "code",
      "execution_count": null,
      "metadata": {
        "colab": {
          "base_uri": "https://localhost:8080/",
          "height": 452
        },
        "id": "MdZt_-duHhtv",
        "outputId": "a0da28ab-6401-4bb4-bd35-1f1fc6c01247"
      },
      "outputs": [
        {
          "data": {
            "image/png": "[encoded data removed]",
            "text/plain": [
              "<Figure size 640x480 with 1 Axes>"
            ]
          },
          "metadata": {},
          "output_type": "display_data"
        }
      ],
      "source": [
        "plt.plot(melhor['res'].lista_solucoes)\n",
        "plt.title(\"Acompanhamento dos valores\")\n",
        "plt.show()"
      ]
    },
    {
      "cell_type": "markdown",
      "metadata": {
        "id": "6Jpe-ku6ZrAh"
      },
      "source": [
        "Mais restrições que podem ser adicionadas são:\n",
        "- Tempo para pegar um remédio\n",
        "- Se há um remédio equivalente que poderia ser usado para contornar problemas de estoque\n"
      ]
    }
  ],
  "metadata": {
    "colab": {
      "provenance": []
    },
    "kernelspec": {
      "display_name": "Python 3",
      "name": "python3"
    },
    "language_info": {
      "name": "python"
    }
  },
  "nbformat": 4,
  "nbformat_minor": 0
}
