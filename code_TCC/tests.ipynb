{
  "metadata": {
    "language_info": {
      "codemirror_mode": {
        "name": "python",
        "version": 3
      },
      "file_extension": ".py",
      "mimetype": "text/x-python",
      "name": "python",
      "nbconvert_exporter": "python",
      "pygments_lexer": "ipython3",
      "version": "3.8"
    },
    "kernelspec": {
      "name": "python",
      "display_name": "Python (Pyodide)",
      "language": "python"
    }
  },
  "nbformat_minor": 4,
  "nbformat": 4,
  "cells": [
    {
      "cell_type": "code",
      "source": "import json",
      "metadata": {
        "trusted": true
      },
      "execution_count": 1,
      "outputs": []
    },
    {
      "cell_type": "code",
      "source": "data = \"base {\\n  active_state_connection_identifier: 2\\n  active_state: ARMSTATE_SERVOING_READY\\n  arm_voltage: 24.018566131591797\\n  temperature_cpu: 54.00431823730469\\n  imu_acceleration_x: -0.06620121747255325\\n  imu_acceleration_y: 9.715697288513184\\n  imu_acceleration_z: 0.09227871894836426\\n  imu_angular_velocity_x: 4.056168079376221\\n  imu_angular_velocity_y: -0.6395882368087769\\n  imu_angular_velocity_z: 0.9865003228187561\\n  tool_pose_x: 0.43689629435539246\\n  tool_pose_y: 0.19357553124427795\\n  tool_pose_z: 0.4472954273223877\\n  tool_pose_theta_x: 90.77811431884766\\n  tool_pose_theta_y: -0.6947813630104065\\n  tool_pose_theta_z: 150.41578674316406\\n  tool_twist_linear_x: 0.004972648806869984\\n  tool_twist_linear_y: -0.002657885430380702\\n  tool_twist_linear_z: -4.678266486735083e-05\\n  tool_twist_angular_x: 0.1844584196805954\\n  tool_twist_angular_y: 0.19412168860435486\\n  tool_twist_angular_z: -1.3848612308502197\\n  tool_external_wrench_force_x: 3.887373685836792\\n  tool_external_wrench_force_y: 1.5405194759368896\\n  tool_external_wrench_force_z: -9.17800521850586\\n  tool_external_wrench_torque_x: 0.5625097751617432\\n  tool_external_wrench_torque_y: -0.39769530296325684\\n  tool_external_wrench_torque_z: 0.8561140894889832\\n  commanded_tool_pose_x: 0.4386286735534668\\n  commanded_tool_pose_y: 0.19351473450660706\\n  commanded_tool_pose_z: 0.44908463954925537\\n  commanded_tool_pose_theta_x: 90.50010681152344\\n  commanded_tool_pose_theta_y: -0.8661172986030579\\n  commanded_tool_pose_theta_z: 149.9961395263672\\n}\\nactuators {\\n  command_id: 2147526193\\n  status_flags: 33590288\\n  jitter_comm: 56844628\\n  position: 359.90252685546875\\n  velocity: 0.004322262946516275\\n  torque: 0.8178996443748474\\n  current_motor: -0.684814453125\\n  voltage: 23.869335174560547\\n  temperature_motor: 28.77497100830078\\n  temperature_core: 41.24497985839844\\n}\\nactuators {\\n  command_id: 2147591729\\n  status_flags: 33590288\\n  jitter_comm: 56844519\\n  position: 344.008544921875\\n  velocity: -0.026636134833097458\\n  torque: -8.474434852600098\\n  current_motor: 2.129286050796509\\n  voltage: 23.788036346435547\\n  temperature_motor: 30.605348587036133\\n  temperature_core: 38.503936767578125\\n}\\nactuators {\\n  command_id: 2147657265\\n  status_flags: 33590288\\n  jitter_comm: 56844500\\n  position: 75.1644287109375\\n  velocity: 0.05116643011569977\\n  torque: 4.405661106109619\\n  current_motor: -3.6891539096832275\\n  voltage: 23.763647079467773\\n  temperature_motor: 34.520530700683594\\n  temperature_core: 43.70518112182617\\n}\\nactuators {\\n  command_id: 2147722801\\n  status_flags: 33590288\\n  jitter_comm: 56845042\\n  position: 359.7592468261719\\n  velocity: 0.1283387839794159\\n  torque: -0.9118696451187134\\n  current_motor: 1.5768415927886963\\n  voltage: 23.6986083984375\\n  temperature_motor: 29.362321853637695\\n  temperature_core: 41.15538024902344\\n}\\nactuators {\\n  command_id: 2147788337\\n  status_flags: 33590288\\n  jitter_comm: 56844866\\n  position: 299.4876708984375\\n  velocity: 1.5068920850753784\\n  torque: -0.25292733311653137\\n  current_motor: 0.4375119209289551\\n  voltage: 23.73112678527832\\n  temperature_motor: 31.441314697265625\\n  temperature_core: 42.121212005615234\\n}\\nactuators {\\n  command_id: 2147919409\\n  status_flags: 33590288\\n  jitter_comm: 56843981\\n  position: 359.80780029296875\\n  velocity: 0.16820354759693146\\n  torque: -0.08319978415966034\\n  current_motor: 0.1439836323261261\\n  voltage: 23.796167373657227\\n  temperature_motor: 28.9755802154541\\n  temperature_core: 42.42424392700195\\n}\\ninterconnect {\\n  feedback_id {\\n    identifier: 2147853302\\n  }\\n  status_flags: 33557520\\n  jitter_comm: 56826974\\n  voltage: 23.657958984375\\n  temperature_core: 43.91304397583008\\n  gripper_feedback {\\n    motor {\\n      motor_id: 1\\n      position: 72.1658706665039\\n      velocity: -0.003472148207947612\\n      current_motor: 0.010473632253706455\\n      temperature_motor: 29.66325569152832\\n   }\\n  }\\n}\\n\"",
      "metadata": {
        "trusted": true
      },
      "execution_count": 10,
      "outputs": []
    },
    {
      "cell_type": "code",
      "source": "print(data)",
      "metadata": {
        "trusted": true
      },
      "execution_count": 5,
      "outputs": [
        {
          "name": "stdout",
          "text": "base {\n  active_state_connection_identifier: 2\n  active_state: ARMSTATE_SERVOING_READY\n  arm_voltage: 24.018566131591797\n  temperature_cpu: 54.00431823730469\n  imu_acceleration_x: -0.06620121747255325\n  imu_acceleration_y: 9.715697288513184\n  imu_acceleration_z: 0.09227871894836426\n  imu_angular_velocity_x: 4.056168079376221\n  imu_angular_velocity_y: -0.6395882368087769\n  imu_angular_velocity_z: 0.9865003228187561\n  tool_pose_x: 0.43689629435539246\n  tool_pose_y: 0.19357553124427795\n  tool_pose_z: 0.4472954273223877\n  tool_pose_theta_x: 90.77811431884766\n  tool_pose_theta_y: -0.6947813630104065\n  tool_pose_theta_z: 150.41578674316406\n  tool_twist_linear_x: 0.004972648806869984\n  tool_twist_linear_y: -0.002657885430380702\n  tool_twist_linear_z: -4.678266486735083e-05\n  tool_twist_angular_x: 0.1844584196805954\n  tool_twist_angular_y: 0.19412168860435486\n  tool_twist_angular_z: -1.3848612308502197\n  tool_external_wrench_force_x: 3.887373685836792\n  tool_external_wrench_force_y: 1.5405194759368896\n  tool_external_wrench_force_z: -9.17800521850586\n  tool_external_wrench_torque_x: 0.5625097751617432\n  tool_external_wrench_torque_y: -0.39769530296325684\n  tool_external_wrench_torque_z: 0.8561140894889832\n  commanded_tool_pose_x: 0.4386286735534668\n  commanded_tool_pose_y: 0.19351473450660706\n  commanded_tool_pose_z: 0.44908463954925537\n  commanded_tool_pose_theta_x: 90.50010681152344\n  commanded_tool_pose_theta_y: -0.8661172986030579\n  commanded_tool_pose_theta_z: 149.9961395263672\n}\nactuators {\n  command_id: 2147526193\n  status_flags: 33590288\n  jitter_comm: 56844628\n  position: 359.90252685546875\n  velocity: 0.004322262946516275\n  torque: 0.8178996443748474\n  current_motor: -0.684814453125\n  voltage: 23.869335174560547\n  temperature_motor: 28.77497100830078\n  temperature_core: 41.24497985839844\n}\nactuators {\n  command_id: 2147591729\n  status_flags: 33590288\n  jitter_comm: 56844519\n  position: 344.008544921875\n  velocity: -0.026636134833097458\n  torque: -8.474434852600098\n  current_motor: 2.129286050796509\n  voltage: 23.788036346435547\n  temperature_motor: 30.605348587036133\n  temperature_core: 38.503936767578125\n}\nactuators {\n  command_id: 2147657265\n  status_flags: 33590288\n  jitter_comm: 56844500\n  position: 75.1644287109375\n  velocity: 0.05116643011569977\n  torque: 4.405661106109619\n  current_motor: -3.6891539096832275\n  voltage: 23.763647079467773\n  temperature_motor: 34.520530700683594\n  temperature_core: 43.70518112182617\n}\nactuators {\n  command_id: 2147722801\n  status_flags: 33590288\n  jitter_comm: 56845042\n  position: 359.7592468261719\n  velocity: 0.1283387839794159\n  torque: -0.9118696451187134\n  current_motor: 1.5768415927886963\n  voltage: 23.6986083984375\n  temperature_motor: 29.362321853637695\n  temperature_core: 41.15538024902344\n}\nactuators {\n  command_id: 2147788337\n  status_flags: 33590288\n  jitter_comm: 56844866\n  position: 299.4876708984375\n  velocity: 1.5068920850753784\n  torque: -0.25292733311653137\n  current_motor: 0.4375119209289551\n  voltage: 23.73112678527832\n  temperature_motor: 31.441314697265625\n  temperature_core: 42.121212005615234\n}\nactuators {\n  command_id: 2147919409\n  status_flags: 33590288\n  jitter_comm: 56843981\n  position: 359.80780029296875\n  velocity: 0.16820354759693146\n  torque: -0.08319978415966034\n  current_motor: 0.1439836323261261\n  voltage: 23.796167373657227\n  temperature_motor: 28.9755802154541\n  temperature_core: 42.42424392700195\n}\ninterconnect {\n  feedback_id {\n    identifier: 2147853302\n  }\n  status_flags: 33557520\n  jitter_comm: 56826974\n  voltage: 23.657958984375\n  temperature_core: 43.91304397583008\n  gripper_feedback {\n    motor {\n      motor_id: 1\n      position: 72.1658706665039\n      velocity: -0.003472148207947612\n      current_motor: 0.010473632253706455\n      temperature_motor: 29.66325569152832\n    }\n  }\n}\n\n",
          "output_type": "stream"
        }
      ]
    },
    {
      "cell_type": "code",
      "source": "data_json = json.loads(data)",
      "metadata": {
        "trusted": true
      },
      "execution_count": 4,
      "outputs": [
        {
          "ename": "<class 'json.decoder.JSONDecodeError'>",
          "evalue": "Expecting value: line 1 column 1 (char 0)",
          "traceback": [
            "\u001b[0;31m---------------------------------------------------------------------------\u001b[0m",
            "\u001b[0;31mJSONDecodeError\u001b[0m                           Traceback (most recent call last)",
            "Cell \u001b[0;32mIn[4], line 1\u001b[0m\n\u001b[0;32m----> 1\u001b[0m data_json \u001b[38;5;241m=\u001b[39m \u001b[43mjson\u001b[49m\u001b[38;5;241;43m.\u001b[39;49m\u001b[43mloads\u001b[49m\u001b[43m(\u001b[49m\u001b[43mdata\u001b[49m\u001b[43m)\u001b[49m\n",
            "File \u001b[0;32m/lib/python311.zip/json/__init__.py:346\u001b[0m, in \u001b[0;36mloads\u001b[0;34m(s, cls, object_hook, parse_float, parse_int, parse_constant, object_pairs_hook, **kw)\u001b[0m\n\u001b[1;32m    341\u001b[0m     s \u001b[38;5;241m=\u001b[39m s\u001b[38;5;241m.\u001b[39mdecode(detect_encoding(s), \u001b[38;5;124m'\u001b[39m\u001b[38;5;124msurrogatepass\u001b[39m\u001b[38;5;124m'\u001b[39m)\n\u001b[1;32m    343\u001b[0m \u001b[38;5;28;01mif\u001b[39;00m (\u001b[38;5;28mcls\u001b[39m \u001b[38;5;129;01mis\u001b[39;00m \u001b[38;5;28;01mNone\u001b[39;00m \u001b[38;5;129;01mand\u001b[39;00m object_hook \u001b[38;5;129;01mis\u001b[39;00m \u001b[38;5;28;01mNone\u001b[39;00m \u001b[38;5;129;01mand\u001b[39;00m\n\u001b[1;32m    344\u001b[0m         parse_int \u001b[38;5;129;01mis\u001b[39;00m \u001b[38;5;28;01mNone\u001b[39;00m \u001b[38;5;129;01mand\u001b[39;00m parse_float \u001b[38;5;129;01mis\u001b[39;00m \u001b[38;5;28;01mNone\u001b[39;00m \u001b[38;5;129;01mand\u001b[39;00m\n\u001b[1;32m    345\u001b[0m         parse_constant \u001b[38;5;129;01mis\u001b[39;00m \u001b[38;5;28;01mNone\u001b[39;00m \u001b[38;5;129;01mand\u001b[39;00m object_pairs_hook \u001b[38;5;129;01mis\u001b[39;00m \u001b[38;5;28;01mNone\u001b[39;00m \u001b[38;5;129;01mand\u001b[39;00m \u001b[38;5;129;01mnot\u001b[39;00m kw):\n\u001b[0;32m--> 346\u001b[0m     \u001b[38;5;28;01mreturn\u001b[39;00m \u001b[43m_default_decoder\u001b[49m\u001b[38;5;241;43m.\u001b[39;49m\u001b[43mdecode\u001b[49m\u001b[43m(\u001b[49m\u001b[43ms\u001b[49m\u001b[43m)\u001b[49m\n\u001b[1;32m    347\u001b[0m \u001b[38;5;28;01mif\u001b[39;00m \u001b[38;5;28mcls\u001b[39m \u001b[38;5;129;01mis\u001b[39;00m \u001b[38;5;28;01mNone\u001b[39;00m:\n\u001b[1;32m    348\u001b[0m     \u001b[38;5;28mcls\u001b[39m \u001b[38;5;241m=\u001b[39m JSONDecoder\n",
            "File \u001b[0;32m/lib/python311.zip/json/decoder.py:337\u001b[0m, in \u001b[0;36mJSONDecoder.decode\u001b[0;34m(self, s, _w)\u001b[0m\n\u001b[1;32m    332\u001b[0m \u001b[38;5;28;01mdef\u001b[39;00m \u001b[38;5;21mdecode\u001b[39m(\u001b[38;5;28mself\u001b[39m, s, _w\u001b[38;5;241m=\u001b[39mWHITESPACE\u001b[38;5;241m.\u001b[39mmatch):\n\u001b[1;32m    333\u001b[0m \u001b[38;5;250m    \u001b[39m\u001b[38;5;124;03m\"\"\"Return the Python representation of ``s`` (a ``str`` instance\u001b[39;00m\n\u001b[1;32m    334\u001b[0m \u001b[38;5;124;03m    containing a JSON document).\u001b[39;00m\n\u001b[1;32m    335\u001b[0m \n\u001b[1;32m    336\u001b[0m \u001b[38;5;124;03m    \"\"\"\u001b[39;00m\n\u001b[0;32m--> 337\u001b[0m     obj, end \u001b[38;5;241m=\u001b[39m \u001b[38;5;28;43mself\u001b[39;49m\u001b[38;5;241;43m.\u001b[39;49m\u001b[43mraw_decode\u001b[49m\u001b[43m(\u001b[49m\u001b[43ms\u001b[49m\u001b[43m,\u001b[49m\u001b[43m \u001b[49m\u001b[43midx\u001b[49m\u001b[38;5;241;43m=\u001b[39;49m\u001b[43m_w\u001b[49m\u001b[43m(\u001b[49m\u001b[43ms\u001b[49m\u001b[43m,\u001b[49m\u001b[43m \u001b[49m\u001b[38;5;241;43m0\u001b[39;49m\u001b[43m)\u001b[49m\u001b[38;5;241;43m.\u001b[39;49m\u001b[43mend\u001b[49m\u001b[43m(\u001b[49m\u001b[43m)\u001b[49m\u001b[43m)\u001b[49m\n\u001b[1;32m    338\u001b[0m     end \u001b[38;5;241m=\u001b[39m _w(s, end)\u001b[38;5;241m.\u001b[39mend()\n\u001b[1;32m    339\u001b[0m     \u001b[38;5;28;01mif\u001b[39;00m end \u001b[38;5;241m!=\u001b[39m \u001b[38;5;28mlen\u001b[39m(s):\n",
            "File \u001b[0;32m/lib/python311.zip/json/decoder.py:355\u001b[0m, in \u001b[0;36mJSONDecoder.raw_decode\u001b[0;34m(self, s, idx)\u001b[0m\n\u001b[1;32m    353\u001b[0m     obj, end \u001b[38;5;241m=\u001b[39m \u001b[38;5;28mself\u001b[39m\u001b[38;5;241m.\u001b[39mscan_once(s, idx)\n\u001b[1;32m    354\u001b[0m \u001b[38;5;28;01mexcept\u001b[39;00m \u001b[38;5;167;01mStopIteration\u001b[39;00m \u001b[38;5;28;01mas\u001b[39;00m err:\n\u001b[0;32m--> 355\u001b[0m     \u001b[38;5;28;01mraise\u001b[39;00m JSONDecodeError(\u001b[38;5;124m\"\u001b[39m\u001b[38;5;124mExpecting value\u001b[39m\u001b[38;5;124m\"\u001b[39m, s, err\u001b[38;5;241m.\u001b[39mvalue) \u001b[38;5;28;01mfrom\u001b[39;00m \u001b[38;5;28mNone\u001b[39m\n\u001b[1;32m    356\u001b[0m \u001b[38;5;28;01mreturn\u001b[39;00m obj, end\n",
            "\u001b[0;31mJSONDecodeError\u001b[0m: Expecting value: line 1 column 1 (char 0)"
          ],
          "output_type": "error"
        }
      ]
    },
    {
      "cell_type": "code",
      "source": "",
      "metadata": {},
      "execution_count": null,
      "outputs": []
    },
    {
      "cell_type": "code",
      "source": "print(data_json)",
      "metadata": {},
      "execution_count": null,
      "outputs": []
    }
  ]
}